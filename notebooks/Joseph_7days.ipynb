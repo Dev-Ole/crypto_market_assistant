{
  "cells": [
    {
      "cell_type": "markdown",
      "metadata": {
        "id": "_-r71jEGWebE"
      },
      "source": [
        "# Joseph Korban's Notebook"
      ]
    },
    {
      "cell_type": "markdown",
      "metadata": {
        "id": "WKIpZHaUWebF"
      },
      "source": [
        "## Goal: DL Model for 7 days\n"
      ]
    },
    {
      "cell_type": "markdown",
      "metadata": {
        "id": "VAwYSRAuWebF"
      },
      "source": [
        "#### Preliminary Steps"
      ]
    },
    {
      "cell_type": "code",
      "execution_count": 10,
      "metadata": {
        "id": "Z7ACktisV8lt"
      },
      "outputs": [],
      "source": [
        "import pandas as pd\n",
        "import numpy as np\n",
        "\n",
        "import matplotlib.pyplot as plt\n",
        "import seaborn as sns\n",
        "\n",
        "import os\n",
        "\n",
        "import tensorflow as tf\n"
      ]
    },
    {
      "cell_type": "code",
      "execution_count": 11,
      "metadata": {
        "id": "wke5eLbpuluH"
      },
      "outputs": [],
      "source": [
        "# df = pd.read_csv('/content/Full_data.csv')\n",
        "# df_droptime = df.drop(columns='Unnamed: 0')\n",
        "# df_droptime\n"
      ]
    },
    {
      "cell_type": "code",
      "execution_count": 12,
      "metadata": {},
      "outputs": [
        {
          "name": "stdout",
          "output_type": "stream",
          "text": [
            "/Users/joekorban/code/J0eDub/crypto_market_assistant/notebooks\n"
          ]
        }
      ],
      "source": [
        "! pwd\n"
      ]
    },
    {
      "cell_type": "code",
      "execution_count": 13,
      "metadata": {
        "colab": {
          "base_uri": "https://localhost:8080/",
          "height": 244
        },
        "id": "6Z8GULRhFEEa",
        "outputId": "9e005160-e1a0-46dc-ac6a-9b7aed52b1d5"
      },
      "outputs": [
        {
          "data": {
            "text/html": [
              "<div>\n",
              "<style scoped>\n",
              "    .dataframe tbody tr th:only-of-type {\n",
              "        vertical-align: middle;\n",
              "    }\n",
              "\n",
              "    .dataframe tbody tr th {\n",
              "        vertical-align: top;\n",
              "    }\n",
              "\n",
              "    .dataframe thead th {\n",
              "        text-align: right;\n",
              "    }\n",
              "</style>\n",
              "<table border=\"1\" class=\"dataframe\">\n",
              "  <thead>\n",
              "    <tr style=\"text-align: right;\">\n",
              "      <th></th>\n",
              "      <th>open</th>\n",
              "      <th>high</th>\n",
              "      <th>low</th>\n",
              "      <th>close</th>\n",
              "      <th>volume BTC</th>\n",
              "      <th>volume USD</th>\n",
              "      <th>FAGI_score</th>\n",
              "      <th>scored_title</th>\n",
              "      <th>scored_text</th>\n",
              "      <th>average_score</th>\n",
              "      <th>twitter_followers</th>\n",
              "      <th>twitter_favourites</th>\n",
              "      <th>reddit_subscribers</th>\n",
              "      <th>reddit_active_users</th>\n",
              "      <th>reddit_comments_per_day</th>\n",
              "      <th>FAGI_sentiment_encoded</th>\n",
              "    </tr>\n",
              "  </thead>\n",
              "  <tbody>\n",
              "    <tr>\n",
              "      <th>0</th>\n",
              "      <td>4261.48</td>\n",
              "      <td>4485.39</td>\n",
              "      <td>4200.74</td>\n",
              "      <td>4285.08</td>\n",
              "      <td>795.150377</td>\n",
              "      <td>3.454770e+06</td>\n",
              "      <td>50.0</td>\n",
              "      <td>0.0</td>\n",
              "      <td>0.0</td>\n",
              "      <td>0.0</td>\n",
              "      <td>1000.000000</td>\n",
              "      <td>2163.435644</td>\n",
              "      <td>1000.000000</td>\n",
              "      <td>1747.715439</td>\n",
              "      <td>699.824346</td>\n",
              "      <td>2.0</td>\n",
              "    </tr>\n",
              "    <tr>\n",
              "      <th>1</th>\n",
              "      <td>4285.08</td>\n",
              "      <td>4371.52</td>\n",
              "      <td>3938.77</td>\n",
              "      <td>4108.37</td>\n",
              "      <td>1199.888264</td>\n",
              "      <td>5.086958e+06</td>\n",
              "      <td>50.0</td>\n",
              "      <td>0.0</td>\n",
              "      <td>0.0</td>\n",
              "      <td>0.0</td>\n",
              "      <td>2209.747759</td>\n",
              "      <td>2163.435644</td>\n",
              "      <td>1419.855422</td>\n",
              "      <td>1747.715439</td>\n",
              "      <td>699.824346</td>\n",
              "      <td>2.0</td>\n",
              "    </tr>\n",
              "    <tr>\n",
              "      <th>2</th>\n",
              "      <td>4108.37</td>\n",
              "      <td>4184.69</td>\n",
              "      <td>3850.00</td>\n",
              "      <td>4139.98</td>\n",
              "      <td>381.309763</td>\n",
              "      <td>1.549484e+06</td>\n",
              "      <td>50.0</td>\n",
              "      <td>0.0</td>\n",
              "      <td>0.0</td>\n",
              "      <td>0.0</td>\n",
              "      <td>3419.495519</td>\n",
              "      <td>2163.435644</td>\n",
              "      <td>1839.710843</td>\n",
              "      <td>1747.715439</td>\n",
              "      <td>699.824346</td>\n",
              "      <td>2.0</td>\n",
              "    </tr>\n",
              "    <tr>\n",
              "      <th>3</th>\n",
              "      <td>4139.98</td>\n",
              "      <td>4211.08</td>\n",
              "      <td>4032.62</td>\n",
              "      <td>4086.29</td>\n",
              "      <td>467.083022</td>\n",
              "      <td>1.930364e+06</td>\n",
              "      <td>50.0</td>\n",
              "      <td>0.0</td>\n",
              "      <td>0.0</td>\n",
              "      <td>0.0</td>\n",
              "      <td>4629.243278</td>\n",
              "      <td>2163.435644</td>\n",
              "      <td>2259.566265</td>\n",
              "      <td>1747.715439</td>\n",
              "      <td>699.824346</td>\n",
              "      <td>2.0</td>\n",
              "    </tr>\n",
              "    <tr>\n",
              "      <th>4</th>\n",
              "      <td>4069.13</td>\n",
              "      <td>4119.62</td>\n",
              "      <td>3911.79</td>\n",
              "      <td>4016.00</td>\n",
              "      <td>691.743060</td>\n",
              "      <td>2.797232e+06</td>\n",
              "      <td>50.0</td>\n",
              "      <td>0.0</td>\n",
              "      <td>0.0</td>\n",
              "      <td>0.0</td>\n",
              "      <td>5838.991037</td>\n",
              "      <td>2163.435644</td>\n",
              "      <td>2679.421687</td>\n",
              "      <td>1747.715439</td>\n",
              "      <td>699.824346</td>\n",
              "      <td>2.0</td>\n",
              "    </tr>\n",
              "  </tbody>\n",
              "</table>\n",
              "</div>"
            ],
            "text/plain": [
              "      open     high      low    close   volume BTC    volume USD  FAGI_score  \\\n",
              "0  4261.48  4485.39  4200.74  4285.08   795.150377  3.454770e+06        50.0   \n",
              "1  4285.08  4371.52  3938.77  4108.37  1199.888264  5.086958e+06        50.0   \n",
              "2  4108.37  4184.69  3850.00  4139.98   381.309763  1.549484e+06        50.0   \n",
              "3  4139.98  4211.08  4032.62  4086.29   467.083022  1.930364e+06        50.0   \n",
              "4  4069.13  4119.62  3911.79  4016.00   691.743060  2.797232e+06        50.0   \n",
              "\n",
              "   scored_title  scored_text  average_score  twitter_followers  \\\n",
              "0           0.0          0.0            0.0        1000.000000   \n",
              "1           0.0          0.0            0.0        2209.747759   \n",
              "2           0.0          0.0            0.0        3419.495519   \n",
              "3           0.0          0.0            0.0        4629.243278   \n",
              "4           0.0          0.0            0.0        5838.991037   \n",
              "\n",
              "   twitter_favourites  reddit_subscribers  reddit_active_users  \\\n",
              "0         2163.435644         1000.000000          1747.715439   \n",
              "1         2163.435644         1419.855422          1747.715439   \n",
              "2         2163.435644         1839.710843          1747.715439   \n",
              "3         2163.435644         2259.566265          1747.715439   \n",
              "4         2163.435644         2679.421687          1747.715439   \n",
              "\n",
              "   reddit_comments_per_day  FAGI_sentiment_encoded  \n",
              "0               699.824346                     2.0  \n",
              "1               699.824346                     2.0  \n",
              "2               699.824346                     2.0  \n",
              "3               699.824346                     2.0  \n",
              "4               699.824346                     2.0  "
            ]
          },
          "execution_count": 13,
          "metadata": {},
          "output_type": "execute_result"
        }
      ],
      "source": [
        "df = pd.read_csv('/Users/joekorban/code/J0eDub/crypto_market_assistant/raw_data/non_Scaled_full.csv')\n",
        "df_droptime = df.drop(columns='Unnamed: 0')\n",
        "df_droptime.head()\n"
      ]
    },
    {
      "cell_type": "code",
      "execution_count": 14,
      "metadata": {
        "colab": {
          "base_uri": "https://localhost:8080/",
          "height": 226
        },
        "id": "hJRdCTWPE-Zu",
        "outputId": "686b4516-4f39-40ac-9598-e4c8b19d8dee"
      },
      "outputs": [
        {
          "data": {
            "text/html": [
              "<div>\n",
              "<style scoped>\n",
              "    .dataframe tbody tr th:only-of-type {\n",
              "        vertical-align: middle;\n",
              "    }\n",
              "\n",
              "    .dataframe tbody tr th {\n",
              "        vertical-align: top;\n",
              "    }\n",
              "\n",
              "    .dataframe thead th {\n",
              "        text-align: right;\n",
              "    }\n",
              "</style>\n",
              "<table border=\"1\" class=\"dataframe\">\n",
              "  <thead>\n",
              "    <tr style=\"text-align: right;\">\n",
              "      <th></th>\n",
              "      <th>open</th>\n",
              "      <th>high</th>\n",
              "      <th>low</th>\n",
              "      <th>close</th>\n",
              "      <th>volume USD</th>\n",
              "      <th>FAGI_score</th>\n",
              "      <th>scored_title</th>\n",
              "      <th>scored_text</th>\n",
              "      <th>average_score</th>\n",
              "      <th>reddit_subscribers</th>\n",
              "      <th>reddit_comments_per_day</th>\n",
              "      <th>FAGI_sentiment_encoded</th>\n",
              "    </tr>\n",
              "  </thead>\n",
              "  <tbody>\n",
              "    <tr>\n",
              "      <th>0</th>\n",
              "      <td>4261.48</td>\n",
              "      <td>4485.39</td>\n",
              "      <td>4200.74</td>\n",
              "      <td>4285.08</td>\n",
              "      <td>3.454770e+06</td>\n",
              "      <td>50.0</td>\n",
              "      <td>0.0</td>\n",
              "      <td>0.0</td>\n",
              "      <td>0.0</td>\n",
              "      <td>1000.000000</td>\n",
              "      <td>699.824346</td>\n",
              "      <td>2.0</td>\n",
              "    </tr>\n",
              "    <tr>\n",
              "      <th>1</th>\n",
              "      <td>4285.08</td>\n",
              "      <td>4371.52</td>\n",
              "      <td>3938.77</td>\n",
              "      <td>4108.37</td>\n",
              "      <td>5.086958e+06</td>\n",
              "      <td>50.0</td>\n",
              "      <td>0.0</td>\n",
              "      <td>0.0</td>\n",
              "      <td>0.0</td>\n",
              "      <td>1419.855422</td>\n",
              "      <td>699.824346</td>\n",
              "      <td>2.0</td>\n",
              "    </tr>\n",
              "    <tr>\n",
              "      <th>2</th>\n",
              "      <td>4108.37</td>\n",
              "      <td>4184.69</td>\n",
              "      <td>3850.00</td>\n",
              "      <td>4139.98</td>\n",
              "      <td>1.549484e+06</td>\n",
              "      <td>50.0</td>\n",
              "      <td>0.0</td>\n",
              "      <td>0.0</td>\n",
              "      <td>0.0</td>\n",
              "      <td>1839.710843</td>\n",
              "      <td>699.824346</td>\n",
              "      <td>2.0</td>\n",
              "    </tr>\n",
              "    <tr>\n",
              "      <th>3</th>\n",
              "      <td>4139.98</td>\n",
              "      <td>4211.08</td>\n",
              "      <td>4032.62</td>\n",
              "      <td>4086.29</td>\n",
              "      <td>1.930364e+06</td>\n",
              "      <td>50.0</td>\n",
              "      <td>0.0</td>\n",
              "      <td>0.0</td>\n",
              "      <td>0.0</td>\n",
              "      <td>2259.566265</td>\n",
              "      <td>699.824346</td>\n",
              "      <td>2.0</td>\n",
              "    </tr>\n",
              "    <tr>\n",
              "      <th>4</th>\n",
              "      <td>4069.13</td>\n",
              "      <td>4119.62</td>\n",
              "      <td>3911.79</td>\n",
              "      <td>4016.00</td>\n",
              "      <td>2.797232e+06</td>\n",
              "      <td>50.0</td>\n",
              "      <td>0.0</td>\n",
              "      <td>0.0</td>\n",
              "      <td>0.0</td>\n",
              "      <td>2679.421687</td>\n",
              "      <td>699.824346</td>\n",
              "      <td>2.0</td>\n",
              "    </tr>\n",
              "  </tbody>\n",
              "</table>\n",
              "</div>"
            ],
            "text/plain": [
              "      open     high      low    close    volume USD  FAGI_score  scored_title  \\\n",
              "0  4261.48  4485.39  4200.74  4285.08  3.454770e+06        50.0           0.0   \n",
              "1  4285.08  4371.52  3938.77  4108.37  5.086958e+06        50.0           0.0   \n",
              "2  4108.37  4184.69  3850.00  4139.98  1.549484e+06        50.0           0.0   \n",
              "3  4139.98  4211.08  4032.62  4086.29  1.930364e+06        50.0           0.0   \n",
              "4  4069.13  4119.62  3911.79  4016.00  2.797232e+06        50.0           0.0   \n",
              "\n",
              "   scored_text  average_score  reddit_subscribers  reddit_comments_per_day  \\\n",
              "0          0.0            0.0         1000.000000               699.824346   \n",
              "1          0.0            0.0         1419.855422               699.824346   \n",
              "2          0.0            0.0         1839.710843               699.824346   \n",
              "3          0.0            0.0         2259.566265               699.824346   \n",
              "4          0.0            0.0         2679.421687               699.824346   \n",
              "\n",
              "   FAGI_sentiment_encoded  \n",
              "0                     2.0  \n",
              "1                     2.0  \n",
              "2                     2.0  \n",
              "3                     2.0  \n",
              "4                     2.0  "
            ]
          },
          "execution_count": 14,
          "metadata": {},
          "output_type": "execute_result"
        }
      ],
      "source": [
        "df_drop_cov = df_droptime.drop(columns='twitter_followers')\n",
        "df_drop_low_correl = df_droptime.drop(columns=['volume BTC','twitter_favourites','reddit_active_users'])\n",
        "df_drop_all = df_droptime.drop(columns=['volume BTC','twitter_favourites','reddit_active_users','twitter_followers'])\n",
        "df_drop_all.head()\n"
      ]
    },
    {
      "cell_type": "markdown",
      "metadata": {
        "id": "dGTF64VdWebG"
      },
      "source": [
        "#### Assignments:\n",
        "- Targets  \n",
        "- Number of targets\n",
        "- Number of features\n"
      ]
    },
    {
      "cell_type": "code",
      "execution_count": 15,
      "metadata": {
        "id": "JvqxR2HeWebG"
      },
      "outputs": [],
      "source": [
        "# Can change later\n",
        "\n",
        "N_FEATURES = df_droptime.shape[1]  # All features other than time\n",
        "N_TARGETS = 1                      # Prediciting only 1 target (close price)\n",
        "TARGET = 'close'\n"
      ]
    },
    {
      "cell_type": "markdown",
      "metadata": {
        "id": "cQ9HoELiWebH"
      },
      "source": [
        "## Preparing the dataset for DL Model"
      ]
    },
    {
      "cell_type": "markdown",
      "metadata": {
        "id": "gf2ZHtciWebH"
      },
      "source": [
        "### Step 1. Creating many folds"
      ]
    },
    {
      "cell_type": "markdown",
      "metadata": {
        "id": "vYiGlhmwWebH"
      },
      "source": [
        "#### Assignments:\n",
        "- Fold Length   \n",
        "- Fold Size\n",
        "- Train Test Ratio\n"
      ]
    },
    {
      "cell_type": "code",
      "execution_count": 16,
      "metadata": {
        "id": "f2kUUTpOWebH"
      },
      "outputs": [],
      "source": [
        "# Can change later\n",
        "\n",
        "# Since we have data for about 6.3 years, we will asssume fold lengths of 1 quarter years\n",
        "# 60 days for training and 30 days for testing\n",
        "\n",
        "FOLD_LENGTH = 90      # Assume fold legnth of 1 quarter\n",
        "FOLD_STRIDE = 10      # Assume stride every quarter\n",
        "TRAIN_TEST_RATIO = 0.67   # Two-thirds split ratio\n"
      ]
    },
    {
      "cell_type": "markdown",
      "metadata": {
        "id": "oeWn8gqnWebH"
      },
      "source": [
        "#### * Implement the Get Folds Function:\n",
        "- Takes in df, fold length, fold stride\n",
        "- Returns a list of folds (each fold being a dataframe)"
      ]
    },
    {
      "cell_type": "code",
      "execution_count": 17,
      "metadata": {
        "id": "WD3AZab7WebH"
      },
      "outputs": [],
      "source": [
        "# Goes through the dataframe and creates equal sized folds of FOLD_LENGTH\n",
        "# starting at 0 and at each FOLD_STRIDE until it crosses len(df)\n",
        "\n",
        "def get_folds(df: pd.DataFrame,\n",
        "    fold_length: int,\n",
        "    fold_stride: int) -> list[pd.DataFrame]:\n",
        "\n",
        "    folds = []\n",
        "    for index in range(0, fold_length, fold_stride):\n",
        "        if index + fold_length > len(df):\n",
        "            break\n",
        "        fold = df.iloc[index:index + fold_length,:]\n",
        "        folds.append(fold)\n",
        "    return folds\n"
      ]
    },
    {
      "cell_type": "code",
      "execution_count": 18,
      "metadata": {
        "colab": {
          "base_uri": "https://localhost:8080/"
        },
        "id": "ABRR6UBRWebH",
        "outputId": "b38677ed-720b-4c48-b45f-38ea2ef5aef5"
      },
      "outputs": [
        {
          "name": "stdout",
          "output_type": "stream",
          "text": [
            "Number of folds created were 9\n",
            "Each with a shape equal to (90, 12).\n"
          ]
        }
      ],
      "source": [
        "folds = (get_folds(df_drop_all,FOLD_LENGTH,FOLD_STRIDE))\n",
        "print(f'Number of folds created were {len(folds)}')\n",
        "print(f'Each with a shape equal to {folds[0].shape}.')\n"
      ]
    },
    {
      "cell_type": "markdown",
      "metadata": {
        "id": "7Q1fiOACWebI"
      },
      "source": [
        "### Step 2. Temporal Train Test Split for one fold"
      ]
    },
    {
      "cell_type": "markdown",
      "metadata": {
        "id": "kn4OkG7sWebI"
      },
      "source": [
        "#### Focusing on one fold first"
      ]
    },
    {
      "cell_type": "code",
      "execution_count": 19,
      "metadata": {
        "id": "EvmSLgl5WebI"
      },
      "outputs": [],
      "source": [
        "fold = folds[-1]\n"
      ]
    },
    {
      "cell_type": "markdown",
      "metadata": {
        "id": "Vf1zCy-ZWebI"
      },
      "source": [
        "#### Assignments:\n",
        "- Input Length : Selected period selected for forecasting\n",
        "- Output Length : Selected period we want to predict\n"
      ]
    },
    {
      "cell_type": "code",
      "execution_count": 45,
      "metadata": {
        "id": "zOnLChyIWebI"
      },
      "outputs": [],
      "source": [
        "# Can change later\n",
        "\n",
        "INPUT_LENGTH = 7          # We can assume 7 days for a forecating period\n",
        "OUTPUT_LENGTH = 7           # If we want predict one week ahead\n",
        "TEMP_TRAIN_TEST_RATIO = 0.8 # How we want to split each fold (can be same as train test ratio)\n"
      ]
    },
    {
      "cell_type": "markdown",
      "metadata": {
        "id": "fWjxEp2oWebI"
      },
      "source": [
        "#### * Implement the Temporal Train Test Split Function:\n",
        "- Takes in a fold, temporal train test ratio, input length\n",
        "- Returns a tuple of (fold_train, fold_test), each as a dataframe"
      ]
    },
    {
      "cell_type": "code",
      "execution_count": 21,
      "metadata": {
        "id": "NnNXLhHqWebI"
      },
      "outputs": [],
      "source": [
        "# Splitting one fold into train and test chronologically,\n",
        "# so we can later sample many (Xi,yi) pairs (input and output lengths)\n",
        "\n",
        "def temporal_train_test_split(fold:pd.DataFrame,\n",
        "                            temp_train_test_ratio: float,\n",
        "                            input_length: int) -> tuple[pd.DataFrame]:\n",
        "    # Train set\n",
        "    last_train_index = round(temp_train_test_ratio * len(fold))\n",
        "    fold_train = fold.iloc[0:last_train_index, :]\n",
        "\n",
        "    #Test Set\n",
        "    first_test_index = last_train_index - input_length\n",
        "    fold_test = fold.iloc[first_test_index:, :]\n",
        "\n",
        "    return (fold_train,fold_test)\n"
      ]
    },
    {
      "cell_type": "code",
      "execution_count": 22,
      "metadata": {
        "id": "KeE2F13mWebI"
      },
      "outputs": [],
      "source": [
        "(fold_train, fold_test) = temporal_train_test_split(fold, TEMP_TRAIN_TEST_RATIO, INPUT_LENGTH)\n"
      ]
    },
    {
      "cell_type": "code",
      "execution_count": 23,
      "metadata": {
        "colab": {
          "base_uri": "https://localhost:8080/"
        },
        "id": "pw9uX_brWebI",
        "outputId": "ac099f2c-b864-421c-c5fc-5e2cc1ce7d1e"
      },
      "outputs": [
        {
          "data": {
            "text/plain": [
              "((72, 12), (25, 12))"
            ]
          },
          "execution_count": 23,
          "metadata": {},
          "output_type": "execute_result"
        }
      ],
      "source": [
        "fold_train.shape, fold_test.shape\n"
      ]
    },
    {
      "cell_type": "markdown",
      "metadata": {
        "id": "ucCfZHzoWebI"
      },
      "source": [
        "### Step 3. Create (X, y) sequences"
      ]
    },
    {
      "cell_type": "markdown",
      "metadata": {
        "id": "kLYhZj9mta1L"
      },
      "source": [
        "### Option 1. Random Sampling"
      ]
    },
    {
      "cell_type": "markdown",
      "metadata": {
        "id": "5U2Hh350WebJ"
      },
      "source": [
        "#### Now that we split our fold into trian and test we have to create 2 functions\n",
        "- One that will return a single sequence of (Xi, yi) (from fold train for training, and from fold test for evaluating)\n",
        "- Another that will call the first function many times over creating 3-D arrays of multiple sequences (X, y)"
      ]
    },
    {
      "cell_type": "markdown",
      "metadata": {
        "id": "Sfl9UtZ1WebJ"
      },
      "source": [
        "#### * Implement the Get (Xi, yi) function (using the random method):\n",
        "- Takes in a fold, input length ,output length\n",
        "- Returns a single sequence of (Xi, yi) as a 2-D DataFrame"
      ]
    },
    {
      "cell_type": "code",
      "execution_count": 24,
      "metadata": {
        "id": "UQko7frn8BUU"
      },
      "outputs": [],
      "source": [
        "STRIDE = 5\n"
      ]
    },
    {
      "cell_type": "code",
      "execution_count": 25,
      "metadata": {
        "id": "cFoOvPZ5WebJ"
      },
      "outputs": [],
      "source": [
        "# Given a fold (could be train fold for testing or test fold for evaluating),\n",
        "# it will return a sequence of (Xi,yi) based on input and output lengths,\n",
        "# starting from a random point.\n",
        "\n",
        "def get_Xi_yi_7(first_index: int,\n",
        "              fold: pd.DataFrame,\n",
        "              input_length: int,\n",
        "              output_length: int) -> tuple[np.ndarray, np.ndarray]:\n",
        "    '''\n",
        "    - extracts one sequence from a fold\n",
        "    - returns a pair (Xi, yi) with:\n",
        "        * len(Xi) = `input_length` and Xi starting at first_index\n",
        "        * len(yi) = `output_length`\n",
        "        * last_Xi and first_yi separated by the gap = horizon -1\n",
        "    '''\n",
        "\n",
        "    Xi_start = first_index\n",
        "    Xi_last = Xi_start + input_length\n",
        "    yi_start = Xi_last\n",
        "    yi_last = yi_start + output_length\n",
        "\n",
        "    Xi = fold[Xi_start:Xi_last]\n",
        "    yi = fold[yi_start:yi_last][TARGET]\n",
        "\n",
        "    return (Xi, yi)\n"
      ]
    },
    {
      "cell_type": "markdown",
      "metadata": {
        "id": "5JQGL2WOWebJ"
      },
      "source": []
    },
    {
      "cell_type": "code",
      "execution_count": 26,
      "metadata": {
        "id": "JHJPHO2JWebJ"
      },
      "outputs": [],
      "source": [
        "def get_X_y_7(fold: pd.DataFrame,             input_length: int,\n",
        "             output_length: int,\n",
        "             stride: int,\n",
        "             shuffle=True) -> tuple[np.ndarray, np.ndarray]:\n",
        "    \"\"\"\n",
        "    - Uses `data`, a 2D-array with axis=0 for timesteps, and axis=1 for (targets+covariates columns)\n",
        "    - Returns a Tuple (X,y) of two ndarrays :\n",
        "        * X.shape = (n_samples, input_length, n_covariates)\n",
        "        * y.shape =\n",
        "            (n_samples, output_length, n_targets) if all 3-dimensions are of size > 1\n",
        "            (n_samples, output_length) if n_targets == 1\n",
        "            (n_samples, n_targets) if output_length == 1\n",
        "            (n_samples, ) if both n_targets and lenghts == 1\n",
        "    - You can shuffle the pairs (Xi,yi) of your fold\n",
        "    \"\"\"\n",
        "\n",
        "    # $CHALLENGIFY_BEGIN\n",
        "    X = []\n",
        "    y = []\n",
        "\n",
        "    # Scanning the fold/data entirely with a certain stride\n",
        "    for i in range(0, len(fold), stride):\n",
        "        ## Extracting a sequence starting at index_i\n",
        "        Xi, yi = get_Xi_yi_7(first_index=i,\n",
        "                            fold=fold,\n",
        "                            input_length=input_length,\n",
        "                            output_length=output_length)\n",
        "        ## Exits loop as soon as we reach the end of the dataset\n",
        "        if len(yi) < output_length:\n",
        "            break\n",
        "        X.append(Xi)\n",
        "        y.append(yi)\n",
        "\n",
        "    X = np.array(X)\n",
        "    y = np.array(y)\n",
        "    y = np.squeeze(y)\n",
        "\n",
        "    if shuffle:\n",
        "        idx = np.arange(len(X))\n",
        "        np.random.shuffle(idx)\n",
        "        X = X[idx]\n",
        "        y = y[idx]\n",
        "\n",
        "    return X, y\n"
      ]
    },
    {
      "cell_type": "code",
      "execution_count": 27,
      "metadata": {
        "colab": {
          "base_uri": "https://localhost:8080/"
        },
        "id": "hHjEM59aWebJ",
        "outputId": "4e55e72f-e8f7-4bdd-b8c5-9b4fff07353d"
      },
      "outputs": [
        {
          "name": "stdout",
          "output_type": "stream",
          "text": [
            "Shapes for the training set:\n",
            "X_train.shape = (12, 7, 12), y_train.shape = (12, 7)\n",
            "Shapes for the test set:\n",
            "X_test.shape = (3, 7, 12), y_test.shape = (3, 7)\n"
          ]
        }
      ],
      "source": [
        "X_train, y_train = get_X_y_7(fold=fold_train,\n",
        "                           input_length=INPUT_LENGTH,\n",
        "                           output_length=OUTPUT_LENGTH,\n",
        "                           stride=STRIDE)\n",
        "X_test, y_test = get_X_y_7(fold=fold_test,\n",
        "                         input_length=INPUT_LENGTH,\n",
        "                         output_length=OUTPUT_LENGTH,\n",
        "                         stride=STRIDE)\n",
        "\n",
        "print(\"Shapes for the training set:\")\n",
        "print(f\"X_train.shape = {X_train.shape}, y_train.shape = {y_train.shape}\")\n",
        "\n",
        "print(\"Shapes for the test set:\")\n",
        "print(f\"X_test.shape = {X_test.shape}, y_test.shape = {y_test.shape}\")\n"
      ]
    },
    {
      "cell_type": "markdown",
      "metadata": {
        "id": "5RTkxPyRWebK"
      },
      "source": [
        "## Modeling"
      ]
    },
    {
      "cell_type": "code",
      "execution_count": 28,
      "metadata": {
        "id": "X33dFLfqWebK"
      },
      "outputs": [],
      "source": [
        "from tensorflow.keras import models\n",
        "from tensorflow.keras import layers\n",
        "from tensorflow.keras import optimizers, metrics\n",
        "from tensorflow.keras.layers.experimental.preprocessing import Normalization\n",
        "from tensorflow.keras.callbacks import EarlyStopping\n",
        "from tensorflow.keras.layers import Lambda\n",
        "from tensorflow.keras.optimizers.schedules import ExponentialDecay\n",
        "from tensorflow.keras import regularizers\n"
      ]
    },
    {
      "cell_type": "markdown",
      "metadata": {
        "id": "cK2sKeX8WebT"
      },
      "source": [
        "### Step 1. Building a Baseline (dummy) model for comparisons"
      ]
    },
    {
      "cell_type": "markdown",
      "metadata": {
        "id": "1r3JLinkWebT"
      },
      "source": [
        "#### * Initialize the Baseline Model function based on last seen value"
      ]
    },
    {
      "cell_type": "code",
      "execution_count": 46,
      "metadata": {
        "colab": {
          "base_uri": "https://localhost:8080/"
        },
        "id": "MHSQ4bCC55Tk",
        "outputId": "45ba0549-0b95-49e3-d50e-f052e558d559"
      },
      "outputs": [
        {
          "data": {
            "text/plain": [
              "((12, 7), (3, 7))"
            ]
          },
          "execution_count": 46,
          "metadata": {},
          "output_type": "execute_result"
        }
      ],
      "source": [
        "y_train.shape , y_test.shape\n"
      ]
    },
    {
      "cell_type": "code",
      "execution_count": 48,
      "metadata": {
        "id": "aKpzN9gLWebU"
      },
      "outputs": [],
      "source": [
        "TARGET_COLUMN_IDX = 1 # the second column of each fold corresponds to the temperature\n",
        "\n",
        "def last_seen_value_baseline(X, y):\n",
        "\n",
        "    # How many values do you want to predict in the future ?\n",
        "    output_length = y.shape[-1]\n",
        "\n",
        "    # For each sequence, let's consider the last seen value\n",
        "    # and only the temperature column\n",
        "    last_seen_values = X[:,-1, 3].reshape(-1,1)\n",
        "\n",
        "    # We need to duplicate these values as many times as output_length\n",
        "    # The author of this notebook did not know how to do it, so they searched on Stackoverflow\n",
        "    # and found this nice np.repeat in Numpy, which is self-explanatory\n",
        "    repeated = np.repeat(last_seen_values, axis = 1, repeats = output_length)\n",
        "\n",
        "    MAE = np.mean(np.abs(y - repeated))\n",
        "    MAPE = np.mean(abs((y - repeated) / y)) * 100\n",
        "    SMAPE = np.mean((abs(y - repeated)) / ((y + repeated)/2))* 100\n",
        "    return MAE, MAPE, SMAPE\n"
      ]
    },
    {
      "cell_type": "code",
      "execution_count": 31,
      "metadata": {
        "colab": {
          "base_uri": "https://localhost:8080/"
        },
        "id": "68aYchyiWebU",
        "outputId": "c3925d48-0fcc-4bf2-f3f2-bb1b7d47f639"
      },
      "outputs": [
        {
          "data": {
            "text/plain": [
              "(1510.9504761904768, 13.79626845090798, 12.68542274556849)"
            ]
          },
          "execution_count": 31,
          "metadata": {},
          "output_type": "execute_result"
        }
      ],
      "source": [
        "baseline_score = last_seen_value_baseline(X_test, y_test)\n",
        "baseline_score\n"
      ]
    },
    {
      "cell_type": "markdown",
      "metadata": {
        "id": "gbpQRtDeWebU"
      },
      "source": [
        "### Step 2. Building an LSTM Model"
      ]
    },
    {
      "cell_type": "markdown",
      "metadata": {
        "id": "c80bjzqhLBmA"
      },
      "source": [
        "#### * Define the SMAPE Metric"
      ]
    },
    {
      "cell_type": "code",
      "execution_count": 32,
      "metadata": {
        "id": "Oq6juygRLFVw"
      },
      "outputs": [],
      "source": [
        "def smape(y_true, y_pred):\n",
        "    return tf.reduce_mean(((abs(y_true - y_pred)) / ((y_true + y_pred)/2))* 100, axis=-1)\n"
      ]
    },
    {
      "cell_type": "markdown",
      "metadata": {
        "id": "kmiyOzNQWebU"
      },
      "source": [
        "#### * Initialize the LSTM Model function"
      ]
    },
    {
      "cell_type": "code",
      "execution_count": 33,
      "metadata": {
        "id": "Ka5Hp_M3WebU"
      },
      "outputs": [],
      "source": [
        "def init_model(X_train, y_train):\n",
        "\n",
        "    # adam = optimizers.Adam(learning_rate=0.02)\n",
        "\n",
        "    initial_learning_rate = 0.1 # Default Adam\n",
        "\n",
        "    lr_schedule = ExponentialDecay(\n",
        "    initial_learning_rate,\n",
        "    decay_steps = 500,    # every 2000 iterations\n",
        "    decay_rate = 0.5)      # we multiply the learning rate by the decay_rate\n",
        "\n",
        "\n",
        "    adam = optimizers.Adam(learning_rate=lr_schedule)\n",
        "\n",
        "\n",
        "    #reg_l2 = regularizers.L2(0.5)\n",
        "\n",
        "    output_length = y_train.shape[1]\n",
        "\n",
        "    normalizer = Normalization()\n",
        "    normalizer.adapt(X_train)\n",
        "\n",
        "    model = models.Sequential()\n",
        "\n",
        "    model.add(normalizer)\n",
        "\n",
        "    model.add(layers.LSTM(64,\n",
        "                          activation='tanh',\n",
        "                          return_sequences = True,\n",
        "                          ))\n",
        "    model.add(layers.LSTM(32,\n",
        "                          activation='tanh',\n",
        "                          return_sequences = True\n",
        "                          ))\n",
        "    model.add(layers.LSTM(16,\n",
        "                          activation='tanh',\n",
        "                          return_sequences = False\n",
        "                          ))\n",
        "    model.add(layers.Dense(10, activation='elu'\n",
        "                           ))\n",
        "\n",
        "    model.add(layers.Dense(output_length, activation='linear'))\n",
        "\n",
        "    model.compile(loss='mse', optimizer=adam, metrics=[\"mse\",'mae','mape',smape])\n",
        "\n",
        "    return model\n"
      ]
    },
    {
      "cell_type": "markdown",
      "metadata": {
        "id": "ZC0hMdWyWebU"
      },
      "source": [
        "#### * Fit (Train) the LSTM Model function"
      ]
    },
    {
      "cell_type": "code",
      "execution_count": 34,
      "metadata": {
        "id": "Y5t5wsFJWebU"
      },
      "outputs": [],
      "source": [
        "def fit_model(model: tf.keras.Model, verbose=1) -> tuple[tf.keras.Model, dict]:\n",
        "\n",
        "    es = EarlyStopping(monitor = \"val_loss\",\n",
        "                      patience = 30,\n",
        "                      mode = \"min\",\n",
        "                      restore_best_weights = True)\n",
        "\n",
        "\n",
        "    history = model.fit(X_train, y_train,\n",
        "                        validation_split = 0.3,\n",
        "                        shuffle = False,\n",
        "                        batch_size = 16,\n",
        "                        epochs = 100,\n",
        "                        callbacks = [es],\n",
        "                        verbose = verbose)\n",
        "\n",
        "    return model, history\n"
      ]
    },
    {
      "cell_type": "markdown",
      "metadata": {
        "id": "tepHe3NzWebU"
      },
      "source": [
        "#### * Define the plot history function"
      ]
    },
    {
      "cell_type": "code",
      "execution_count": 35,
      "metadata": {
        "id": "Nl4RkRWnWebU"
      },
      "outputs": [],
      "source": [
        "def plot_history(history):\n",
        "\n",
        "    fig, ax = plt.subplots(1,2, figsize=(20,7))\n",
        "    ax[0].plot(history.history['loss'])\n",
        "    ax[0].plot(history.history['val_loss'])\n",
        "    ax[0].set_title('MSE')\n",
        "    ax[0].set_ylabel('Loss')\n",
        "    ax[0].set_xlabel('Epoch')\n",
        "    ax[0].legend(['Train', 'Validation'], loc='best')\n",
        "    ax[0].grid(axis=\"x\",linewidth=0.5)\n",
        "    ax[0].grid(axis=\"y\",linewidth=0.5)\n",
        "\n",
        "    ax[1].plot(history.history['mae'])\n",
        "    ax[1].plot(history.history['val_mae'])\n",
        "    ax[1].set_title('MAE')\n",
        "    ax[1].set_ylabel('MAE')\n",
        "    ax[1].set_xlabel('Epoch')\n",
        "    ax[1].legend(['Train', 'Validation'], loc='best')\n",
        "    ax[1].grid(axis=\"x\",linewidth=0.5)\n",
        "    ax[1].grid(axis=\"y\",linewidth=0.5)\n",
        "\n",
        "    return ax\n"
      ]
    },
    {
      "cell_type": "code",
      "execution_count": 36,
      "metadata": {
        "colab": {
          "base_uri": "https://localhost:8080/"
        },
        "id": "H4C53m2xWebU",
        "outputId": "c0e5eeb2-021b-4eba-85de-270613492af2"
      },
      "outputs": [
        {
          "name": "stderr",
          "output_type": "stream",
          "text": [
            "WARNING:absl:At this time, the v2.11+ optimizer `tf.keras.optimizers.Adam` runs slowly on M1/M2 Macs, please use the legacy Keras optimizer instead, located at `tf.keras.optimizers.legacy.Adam`.\n"
          ]
        },
        {
          "name": "stdout",
          "output_type": "stream",
          "text": [
            "Epoch 1/100\n",
            "1/1 [==============================] - 3s 3s/step - loss: 173122704.0000 - mse: 173122704.0000 - mae: 12530.7227 - mape: 100.0001 - smape: 200.0002 - val_loss: 195848192.0000 - val_mse: 195848192.0000 - val_mae: 13802.7383 - val_mape: 99.9982 - val_smape: 199.9927\n",
            "Epoch 2/100\n",
            "1/1 [==============================] - 0s 30ms/step - loss: 173115424.0000 - mse: 173115424.0000 - mae: 12530.4609 - mape: 99.9980 - smape: 199.9919 - val_loss: 195819760.0000 - val_mse: 195819760.0000 - val_mae: 13801.7275 - val_mape: 99.9908 - val_smape: 199.9632\n",
            "Epoch 3/100\n",
            "1/1 [==============================] - 0s 29ms/step - loss: 173088656.0000 - mse: 173088656.0000 - mae: 12529.4512 - mape: 99.9895 - smape: 199.9580 - val_loss: 195775552.0000 - val_mse: 195775552.0000 - val_mae: 13800.1191 - val_mape: 99.9787 - val_smape: 199.9147\n",
            "Epoch 4/100\n",
            "1/1 [==============================] - 0s 31ms/step - loss: 173049984.0000 - mse: 173049984.0000 - mae: 12527.8438 - mape: 99.9745 - smape: 199.8980 - val_loss: 195712160.0000 - val_mse: 195712160.0000 - val_mae: 13797.7949 - val_mape: 99.9611 - val_smape: 199.8444\n",
            "Epoch 5/100\n",
            "1/1 [==============================] - 0s 29ms/step - loss: 172993760.0000 - mse: 172993760.0000 - mae: 12525.5205 - mape: 99.9530 - smape: 199.8120 - val_loss: 195609024.0000 - val_mse: 195609024.0000 - val_mae: 13794.0068 - val_mape: 99.9323 - val_smape: 199.7295\n",
            "Epoch 6/100\n",
            "1/1 [==============================] - 0s 30ms/step - loss: 172902624.0000 - mse: 172902624.0000 - mae: 12521.7305 - mape: 99.9176 - smape: 199.6707 - val_loss: 195471456.0000 - val_mse: 195471456.0000 - val_mae: 13788.9629 - val_mape: 99.8941 - val_smape: 199.5769\n",
            "Epoch 7/100\n",
            "1/1 [==============================] - 0s 32ms/step - loss: 172780448.0000 - mse: 172780448.0000 - mae: 12516.6895 - mape: 99.8709 - smape: 199.4843 - val_loss: 195300800.0000 - val_mse: 195300800.0000 - val_mae: 13782.7002 - val_mape: 99.8466 - val_smape: 199.3875\n",
            "Epoch 8/100\n",
            "1/1 [==============================] - 0s 36ms/step - loss: 172629760.0000 - mse: 172629760.0000 - mae: 12510.4277 - mape: 99.8125 - smape: 199.2516 - val_loss: 195089856.0000 - val_mse: 195089856.0000 - val_mae: 13774.9619 - val_mape: 99.7880 - val_smape: 199.1538\n",
            "Epoch 9/100\n",
            "1/1 [==============================] - 0s 33ms/step - loss: 172443472.0000 - mse: 172443472.0000 - mae: 12502.6885 - mape: 99.7403 - smape: 198.9646 - val_loss: 194817088.0000 - val_mse: 194817088.0000 - val_mae: 13764.9863 - val_mape: 99.7127 - val_smape: 198.8546\n",
            "Epoch 10/100\n",
            "1/1 [==============================] - 0s 29ms/step - loss: 172198368.0000 - mse: 172198368.0000 - mae: 12492.6914 - mape: 99.6489 - smape: 198.6015 - val_loss: 194435552.0000 - val_mse: 194435552.0000 - val_mae: 13751.1396 - val_mape: 99.6096 - val_smape: 198.4448\n",
            "Epoch 11/100\n",
            "1/1 [==============================] - 0s 29ms/step - loss: 171843264.0000 - mse: 171843264.0000 - mae: 12478.7852 - mape: 99.5273 - smape: 198.1197 - val_loss: 194008896.0000 - val_mse: 194008896.0000 - val_mae: 13735.6211 - val_mape: 99.4937 - val_smape: 197.9857\n",
            "Epoch 12/100\n",
            "1/1 [==============================] - 0s 29ms/step - loss: 171429600.0000 - mse: 171429600.0000 - mae: 12462.6602 - mape: 99.3868 - smape: 197.5645 - val_loss: 193540448.0000 - val_mse: 193540448.0000 - val_mae: 13718.5332 - val_mape: 99.3658 - val_smape: 197.4802\n",
            "Epoch 13/100\n",
            "1/1 [==============================] - 0s 28ms/step - loss: 171004384.0000 - mse: 171004384.0000 - mae: 12445.6328 - mape: 99.2347 - smape: 196.9655 - val_loss: 193029952.0000 - val_mse: 193029952.0000 - val_mae: 13699.8555 - val_mape: 99.2256 - val_smape: 196.9277\n",
            "Epoch 14/100\n",
            "1/1 [==============================] - 0s 26ms/step - loss: 170538656.0000 - mse: 170538656.0000 - mae: 12426.8418 - mape: 99.0656 - smape: 196.3019 - val_loss: 192458832.0000 - val_mse: 192458832.0000 - val_mae: 13678.9268 - val_mape: 99.0685 - val_smape: 196.3105\n",
            "Epoch 15/100\n",
            "1/1 [==============================] - 0s 25ms/step - loss: 170017456.0000 - mse: 170017456.0000 - mae: 12405.7598 - mape: 98.8756 - smape: 195.5596 - val_loss: 191821808.0000 - val_mse: 191821808.0000 - val_mae: 13655.5469 - val_mape: 98.8931 - val_smape: 195.6234\n",
            "Epoch 16/100\n",
            "1/1 [==============================] - 0s 26ms/step - loss: 169436256.0000 - mse: 169436256.0000 - mae: 12382.2051 - mape: 98.6634 - smape: 194.7339 - val_loss: 191116576.0000 - val_mse: 191116576.0000 - val_mae: 13629.6211 - val_mape: 98.6985 - val_smape: 194.8643\n",
            "Epoch 17/100\n",
            "1/1 [==============================] - 0s 26ms/step - loss: 168793056.0000 - mse: 168793056.0000 - mae: 12356.0859 - mape: 98.4280 - smape: 193.8227 - val_loss: 190341200.0000 - val_mse: 190341200.0000 - val_mae: 13601.0615 - val_mape: 98.4841 - val_smape: 194.0317\n",
            "Epoch 18/100\n",
            "1/1 [==============================] - 0s 25ms/step - loss: 168086128.0000 - mse: 168086128.0000 - mae: 12327.3105 - mape: 98.1686 - smape: 192.8243 - val_loss: 189493888.0000 - val_mse: 189493888.0000 - val_mae: 13569.7842 - val_mape: 98.2495 - val_smape: 193.1242\n",
            "Epoch 19/100\n",
            "1/1 [==============================] - 0s 25ms/step - loss: 167313888.0000 - mse: 167313888.0000 - mae: 12295.8008 - mape: 97.8846 - smape: 191.7375 - val_loss: 188572992.0000 - val_mse: 188572992.0000 - val_mae: 13535.7129 - val_mape: 97.9938 - val_smape: 192.1406\n",
            "Epoch 20/100\n",
            "1/1 [==============================] - 0s 24ms/step - loss: 166474912.0000 - mse: 166474912.0000 - mae: 12261.4727 - mape: 97.5751 - smape: 190.5612 - val_loss: 187577088.0000 - val_mse: 187577088.0000 - val_mae: 13498.7734 - val_mape: 97.7166 - val_smape: 191.0800\n",
            "Epoch 21/100\n",
            "1/1 [==============================] - 0s 26ms/step - loss: 165567936.0000 - mse: 165567936.0000 - mae: 12224.2539 - mape: 97.2396 - smape: 189.2946 - val_loss: 186504864.0000 - val_mse: 186504864.0000 - val_mae: 13458.8896 - val_mape: 97.4173 - val_smape: 189.9416\n",
            "Epoch 22/100\n",
            "1/1 [==============================] - 0s 25ms/step - loss: 164591888.0000 - mse: 164591888.0000 - mae: 12184.0723 - mape: 96.8774 - smape: 187.9376 - val_loss: 185355168.0000 - val_mse: 185355168.0000 - val_mae: 13415.9951 - val_mape: 97.0955 - val_smape: 188.7250\n",
            "Epoch 23/100\n",
            "1/1 [==============================] - 0s 25ms/step - loss: 163545760.0000 - mse: 163545760.0000 - mae: 12140.8535 - mape: 96.4877 - smape: 186.4899 - val_loss: 184127040.0000 - val_mse: 184127040.0000 - val_mae: 13370.0225 - val_mape: 96.7506 - val_smape: 187.4299\n",
            "Epoch 24/100\n",
            "1/1 [==============================] - 0s 24ms/step - loss: 162428704.0000 - mse: 162428704.0000 - mae: 12094.5352 - mape: 96.0701 - smape: 184.9517 - val_loss: 182819616.0000 - val_mse: 182819616.0000 - val_mae: 13320.9111 - val_mape: 96.3821 - val_smape: 186.0562\n",
            "Epoch 25/100\n",
            "1/1 [==============================] - 0s 25ms/step - loss: 161240144.0000 - mse: 161240144.0000 - mae: 12045.0527 - mape: 95.6240 - smape: 183.3236 - val_loss: 181432272.0000 - val_mse: 181432272.0000 - val_mae: 13268.5996 - val_mape: 95.9897 - val_smape: 184.6042\n",
            "Epoch 26/100\n",
            "1/1 [==============================] - 0s 25ms/step - loss: 159979536.0000 - mse: 159979536.0000 - mae: 11992.3477 - mape: 95.1488 - smape: 181.6063 - val_loss: 179964512.0000 - val_mse: 179964512.0000 - val_mae: 13213.0303 - val_mape: 95.5728 - val_smape: 183.0742\n",
            "Epoch 27/100\n",
            "1/1 [==============================] - 0s 25ms/step - loss: 158646560.0000 - mse: 158646560.0000 - mae: 11936.3594 - mape: 94.6440 - smape: 179.8009 - val_loss: 178416016.0000 - val_mse: 178416016.0000 - val_mae: 13154.1514 - val_mape: 95.1311 - val_smape: 181.4669\n",
            "Epoch 28/100\n",
            "1/1 [==============================] - 0s 25ms/step - loss: 157241056.0000 - mse: 157241056.0000 - mae: 11877.0361 - mape: 94.1091 - smape: 177.9088 - val_loss: 176786672.0000 - val_mse: 176786672.0000 - val_mae: 13091.9141 - val_mape: 94.6642 - val_smape: 179.7831\n",
            "Epoch 29/100\n",
            "1/1 [==============================] - 0s 24ms/step - loss: 155763040.0000 - mse: 155763040.0000 - mae: 11814.3301 - mape: 93.5436 - smape: 175.9315 - val_loss: 175076528.0000 - val_mse: 175076528.0000 - val_mae: 13026.2715 - val_mape: 94.1718 - val_smape: 178.0238\n",
            "Epoch 30/100\n",
            "1/1 [==============================] - 0s 24ms/step - loss: 154212672.0000 - mse: 154212672.0000 - mae: 11748.1914 - mape: 92.9472 - smape: 173.8710 - val_loss: 173285824.0000 - val_mse: 173285824.0000 - val_mae: 12957.1816 - val_mape: 93.6535 - val_smape: 176.1904\n",
            "Epoch 31/100\n",
            "1/1 [==============================] - 0s 25ms/step - loss: 152590368.0000 - mse: 152590368.0000 - mae: 11678.5801 - mape: 92.3195 - smape: 171.7293 - val_loss: 171415008.0000 - val_mse: 171415008.0000 - val_mae: 12884.6055 - val_mape: 93.1091 - val_smape: 174.2842\n",
            "Epoch 32/100\n",
            "1/1 [==============================] - 0s 24ms/step - loss: 150896640.0000 - mse: 150896640.0000 - mae: 11605.4551 - mape: 91.6601 - smape: 169.5090 - val_loss: 169464704.0000 - val_mse: 169464704.0000 - val_mae: 12808.5088 - val_mape: 92.5383 - val_smape: 172.3070\n",
            "Epoch 33/100\n",
            "1/1 [==============================] - 0s 26ms/step - loss: 149132288.0000 - mse: 149132288.0000 - mae: 11528.7832 - mape: 90.9687 - smape: 167.2124 - val_loss: 167435760.0000 - val_mse: 167435760.0000 - val_mae: 12728.8604 - val_mape: 91.9409 - val_smape: 170.2606\n",
            "Epoch 34/100\n",
            "1/1 [==============================] - 0s 25ms/step - loss: 147298160.0000 - mse: 147298160.0000 - mae: 11448.5332 - mape: 90.2450 - smape: 164.8424 - val_loss: 165329152.0000 - val_mse: 165329152.0000 - val_mae: 12645.6328 - val_mape: 91.3166 - val_smape: 168.1470\n",
            "Epoch 35/100\n",
            "1/1 [==============================] - 0s 24ms/step - loss: 145395424.0000 - mse: 145395424.0000 - mae: 11364.6758 - mape: 89.4888 - smape: 162.4021 - val_loss: 163146112.0000 - val_mse: 163146112.0000 - val_mae: 12558.8037 - val_mape: 90.6653 - val_smape: 165.9684\n",
            "Epoch 36/100\n",
            "1/1 [==============================] - 0s 26ms/step - loss: 143425344.0000 - mse: 143425344.0000 - mae: 11277.1914 - mape: 88.6999 - smape: 159.8945 - val_loss: 160888096.0000 - val_mse: 160888096.0000 - val_mae: 12468.3555 - val_mape: 89.9869 - val_smape: 163.7273\n",
            "Epoch 37/100\n",
            "1/1 [==============================] - 0s 26ms/step - loss: 141389472.0000 - mse: 141389472.0000 - mae: 11186.0586 - mape: 87.8780 - smape: 157.3230 - val_loss: 158556672.0000 - val_mse: 158556672.0000 - val_mae: 12374.2725 - val_mape: 89.2812 - val_smape: 161.4261\n",
            "Epoch 38/100\n",
            "1/1 [==============================] - 0s 26ms/step - loss: 139289424.0000 - mse: 139289424.0000 - mae: 11091.2656 - mape: 87.0232 - smape: 154.6910 - val_loss: 156153680.0000 - val_mse: 156153680.0000 - val_mae: 12276.5459 - val_mape: 88.5482 - val_smape: 159.0674\n",
            "Epoch 39/100\n",
            "1/1 [==============================] - 0s 25ms/step - loss: 137127104.0000 - mse: 137127104.0000 - mae: 10992.8008 - mape: 86.1352 - smape: 152.0021 - val_loss: 153681104.0000 - val_mse: 153681104.0000 - val_mae: 12175.1709 - val_mape: 87.7879 - val_smape: 156.6540\n",
            "Epoch 40/100\n",
            "1/1 [==============================] - 0s 26ms/step - loss: 134904544.0000 - mse: 134904544.0000 - mae: 10890.6592 - mape: 85.2141 - smape: 149.2600 - val_loss: 151141152.0000 - val_mse: 151141152.0000 - val_mae: 12070.1455 - val_mape: 87.0001 - val_smape: 154.1889\n",
            "Epoch 41/100\n",
            "1/1 [==============================] - 0s 26ms/step - loss: 132624016.0000 - mse: 132624016.0000 - mae: 10784.8408 - mape: 84.2597 - smape: 146.4684 - val_loss: 148536256.0000 - val_mse: 148536256.0000 - val_mae: 11961.4746 - val_mape: 86.1851 - val_smape: 151.6750\n",
            "Epoch 42/100\n",
            "1/1 [==============================] - 0s 26ms/step - loss: 130287904.0000 - mse: 130287904.0000 - mae: 10675.3486 - mape: 83.2723 - smape: 143.6311 - val_loss: 145868960.0000 - val_mse: 145868960.0000 - val_mae: 11849.1660 - val_mape: 85.3427 - val_smape: 149.1153\n",
            "Epoch 43/100\n",
            "1/1 [==============================] - 0s 24ms/step - loss: 127898816.0000 - mse: 127898816.0000 - mae: 10562.1914 - mape: 82.2518 - smape: 140.7521 - val_loss: 143142048.0000 - val_mse: 143142048.0000 - val_mae: 11733.2324 - val_mape: 84.4732 - val_smape: 146.5130\n",
            "Epoch 44/100\n",
            "1/1 [==============================] - 0s 24ms/step - loss: 125459520.0000 - mse: 125459520.0000 - mae: 10445.3838 - mape: 81.1983 - smape: 137.8351 - val_loss: 140358432.0000 - val_mse: 140358432.0000 - val_mae: 11613.6953 - val_mape: 83.5767 - val_smape: 143.8714\n",
            "Epoch 45/100\n",
            "1/1 [==============================] - 0s 25ms/step - loss: 122972976.0000 - mse: 122972976.0000 - mae: 10324.9434 - mape: 80.1121 - smape: 134.8842 - val_loss: 137521248.0000 - val_mse: 137521248.0000 - val_mae: 11490.5742 - val_mape: 82.6533 - val_smape: 141.1936\n",
            "Epoch 46/100\n",
            "1/1 [==============================] - 0s 31ms/step - loss: 120442288.0000 - mse: 120442288.0000 - mae: 10200.8926 - mape: 78.9934 - smape: 131.9033 - val_loss: 134633840.0000 - val_mse: 134633840.0000 - val_mae: 11363.9004 - val_mape: 81.7033 - val_smape: 138.4830\n",
            "Epoch 47/100\n",
            "1/1 [==============================] - 0s 26ms/step - loss: 117870672.0000 - mse: 117870672.0000 - mae: 10073.2637 - mape: 77.8424 - smape: 128.8961 - val_loss: 131699584.0000 - val_mse: 131699584.0000 - val_mae: 11233.7051 - val_mape: 80.7268 - val_smape: 135.7429\n",
            "Epoch 48/100\n",
            "1/1 [==============================] - 0s 26ms/step - loss: 115261568.0000 - mse: 115261568.0000 - mae: 9942.0859 - mape: 76.6593 - smape: 125.8667 - val_loss: 128722152.0000 - val_mse: 128722152.0000 - val_mae: 11100.0293 - val_mape: 79.7243 - val_smape: 132.9766\n",
            "Epoch 49/100\n",
            "1/1 [==============================] - 0s 25ms/step - loss: 112618560.0000 - mse: 112618560.0000 - mae: 9807.4033 - mape: 75.4447 - smape: 122.8189 - val_loss: 125705280.0000 - val_mse: 125705280.0000 - val_mae: 10962.9180 - val_mape: 78.6960 - val_smape: 130.1874\n",
            "Epoch 50/100\n",
            "1/1 [==============================] - 0s 24ms/step - loss: 109945312.0000 - mse: 109945312.0000 - mae: 9669.2568 - mape: 74.1988 - smape: 119.7564 - val_loss: 122652888.0000 - val_mse: 122652888.0000 - val_mae: 10822.4180 - val_mape: 77.6423 - val_smape: 127.3787\n",
            "Epoch 51/100\n",
            "1/1 [==============================] - 0s 24ms/step - loss: 107245632.0000 - mse: 107245632.0000 - mae: 9527.6992 - mape: 72.9222 - smape: 116.6830 - val_loss: 119569008.0000 - val_mse: 119569008.0000 - val_mae: 10678.5869 - val_mape: 76.5637 - val_smape: 124.5537\n",
            "Epoch 52/100\n",
            "1/1 [==============================] - 0s 24ms/step - loss: 104523504.0000 - mse: 104523504.0000 - mae: 9382.7852 - mape: 71.6152 - smape: 113.6023 - val_loss: 116457784.0000 - val_mse: 116457784.0000 - val_mae: 10531.4854 - val_mape: 75.4605 - val_smape: 121.7158\n",
            "Epoch 53/100\n",
            "1/1 [==============================] - 0s 24ms/step - loss: 101782936.0000 - mse: 101782936.0000 - mae: 9234.5762 - mape: 70.2786 - smape: 110.5179 - val_loss: 113323504.0000 - val_mse: 113323504.0000 - val_mae: 10381.1816 - val_mape: 74.3333 - val_smape: 118.8682\n",
            "Epoch 54/100\n",
            "1/1 [==============================] - 0s 25ms/step - loss: 99028104.0000 - mse: 99028104.0000 - mae: 9083.1406 - mape: 68.9129 - smape: 107.4332 - val_loss: 110170544.0000 - val_mse: 110170544.0000 - val_mae: 10227.7441 - val_mape: 73.1827 - val_smape: 116.0141\n",
            "Epoch 55/100\n",
            "1/1 [==============================] - 0s 24ms/step - loss: 96263232.0000 - mse: 96263232.0000 - mae: 8928.5518 - mape: 67.5188 - smape: 104.3517 - val_loss: 107003376.0000 - val_mse: 107003376.0000 - val_mae: 10071.2588 - val_mape: 72.0092 - val_smape: 113.1566\n",
            "Epoch 56/100\n",
            "1/1 [==============================] - 0s 25ms/step - loss: 93492624.0000 - mse: 93492624.0000 - mae: 8770.8896 - mape: 66.0969 - smape: 101.2767 - val_loss: 103826544.0000 - val_mse: 103826544.0000 - val_mae: 9911.8066 - val_mape: 70.8134 - val_smape: 110.2990\n",
            "Epoch 57/100\n",
            "1/1 [==============================] - 0s 26ms/step - loss: 90720672.0000 - mse: 90720672.0000 - mae: 8610.2402 - mape: 64.6481 - smape: 98.2113 - val_loss: 100644680.0000 - val_mse: 100644680.0000 - val_mae: 9749.4785 - val_mape: 69.5961 - val_smape: 107.4441\n",
            "Epoch 58/100\n",
            "1/1 [==============================] - 0s 25ms/step - loss: 87951784.0000 - mse: 87951784.0000 - mae: 8446.6953 - mape: 63.1732 - smape: 95.1587 - val_loss: 97462432.0000 - val_mse: 97462432.0000 - val_mae: 9584.3750 - val_mape: 68.3580 - val_smape: 104.5949\n",
            "Epoch 59/100\n",
            "1/1 [==============================] - 0s 25ms/step - loss: 85190440.0000 - mse: 85190440.0000 - mae: 8280.3545 - mape: 61.6732 - smape: 92.1218 - val_loss: 94284544.0000 - val_mse: 94284544.0000 - val_mae: 9416.5996 - val_mape: 67.0999 - val_smape: 101.7545\n",
            "Epoch 60/100\n",
            "1/1 [==============================] - 0s 26ms/step - loss: 82441120.0000 - mse: 82441120.0000 - mae: 8111.3223 - mape: 60.1488 - smape: 89.1035 - val_loss: 91115712.0000 - val_mse: 91115712.0000 - val_mae: 9246.2627 - val_mape: 65.8226 - val_smape: 98.9255\n",
            "Epoch 61/100\n",
            "1/1 [==============================] - 0s 25ms/step - loss: 79708312.0000 - mse: 79708312.0000 - mae: 7939.7119 - mape: 58.6012 - smape: 86.1065 - val_loss: 87960736.0000 - val_mse: 87960736.0000 - val_mae: 9073.4844 - val_mape: 64.5270 - val_smape: 96.1108\n",
            "Epoch 62/100\n",
            "1/1 [==============================] - 0s 25ms/step - loss: 76996496.0000 - mse: 76996496.0000 - mae: 7765.6411 - mape: 57.0315 - smape: 83.1336 - val_loss: 84824320.0000 - val_mse: 84824320.0000 - val_mae: 8898.3867 - val_mape: 63.2140 - val_smape: 93.3130\n",
            "Epoch 63/100\n",
            "1/1 [==============================] - 0s 24ms/step - loss: 74310144.0000 - mse: 74310144.0000 - mae: 7589.2368 - mape: 55.4408 - smape: 80.1871 - val_loss: 81711200.0000 - val_mse: 81711200.0000 - val_mae: 8721.1035 - val_mape: 61.8846 - val_smape: 90.5347\n",
            "Epoch 64/100\n",
            "1/1 [==============================] - 0s 24ms/step - loss: 71653680.0000 - mse: 71653680.0000 - mae: 7410.6328 - mape: 53.8302 - smape: 77.2696 - val_loss: 78626080.0000 - val_mse: 78626080.0000 - val_mae: 8541.7725 - val_mape: 60.5400 - val_smape: 87.7784\n",
            "Epoch 65/100\n",
            "1/1 [==============================] - 0s 25ms/step - loss: 69031440.0000 - mse: 69031440.0000 - mae: 7229.9673 - mape: 52.2010 - smape: 74.3833 - val_loss: 75573584.0000 - val_mse: 75573584.0000 - val_mae: 8360.5410 - val_mape: 59.1810 - val_smape: 85.0465\n",
            "Epoch 66/100\n",
            "1/1 [==============================] - 0s 26ms/step - loss: 66447732.0000 - mse: 66447732.0000 - mae: 7047.3892 - mape: 50.5547 - smape: 71.5306 - val_loss: 72558264.0000 - val_mse: 72558264.0000 - val_mae: 8177.5625 - val_mape: 57.8090 - val_smape: 82.3414\n",
            "Epoch 67/100\n",
            "1/1 [==============================] - 0s 36ms/step - loss: 63906744.0000 - mse: 63906744.0000 - mae: 6863.0522 - mape: 48.8925 - smape: 68.7133 - val_loss: 69584608.0000 - val_mse: 69584608.0000 - val_mae: 7992.9961 - val_mape: 56.4252 - val_smape: 79.6653\n",
            "Epoch 68/100\n",
            "1/1 [==============================] - 0s 30ms/step - loss: 61412552.0000 - mse: 61412552.0000 - mae: 6678.6675 - mape: 47.2426 - smape: 65.9602 - val_loss: 66656964.0000 - val_mse: 66656964.0000 - val_mae: 7807.0098 - val_mape: 55.0307 - val_smape: 77.0203\n",
            "Epoch 69/100\n",
            "1/1 [==============================] - 0s 25ms/step - loss: 58969104.0000 - mse: 58969104.0000 - mae: 6498.0566 - mape: 45.6694 - smape: 63.3335 - val_loss: 63779592.0000 - val_mse: 63779592.0000 - val_mae: 7619.7793 - val_mape: 53.6269 - val_smape: 74.4086\n",
            "Epoch 70/100\n",
            "1/1 [==============================] - 0s 25ms/step - loss: 56580200.0000 - mse: 56580200.0000 - mae: 6316.2402 - mape: 44.0858 - smape: 60.7451 - val_loss: 60956576.0000 - val_mse: 60956576.0000 - val_mae: 7431.4883 - val_mape: 52.2151 - val_smape: 71.8321\n",
            "Epoch 71/100\n",
            "1/1 [==============================] - 0s 27ms/step - loss: 54249480.0000 - mse: 54249480.0000 - mae: 6137.3467 - mape: 42.5534 - smape: 58.2566 - val_loss: 58191848.0000 - val_mse: 58191848.0000 - val_mae: 7242.3242 - val_mape: 50.7969 - val_smape: 69.2928\n",
            "Epoch 72/100\n",
            "1/1 [==============================] - 0s 26ms/step - loss: 51980380.0000 - mse: 51980380.0000 - mae: 5967.5117 - mape: 41.1660 - smape: 55.9577 - val_loss: 55489152.0000 - val_mse: 55489152.0000 - val_mae: 7052.4858 - val_mape: 49.3737 - val_smape: 66.7924\n",
            "Epoch 73/100\n",
            "1/1 [==============================] - 0s 25ms/step - loss: 49776148.0000 - mse: 49776148.0000 - mae: 5797.0669 - mape: 39.7736 - smape: 53.6966 - val_loss: 52852024.0000 - val_mse: 52852024.0000 - val_mae: 6862.1753 - val_mape: 47.9469 - val_smape: 64.3327\n",
            "Epoch 74/100\n",
            "1/1 [==============================] - 0s 25ms/step - loss: 47639784.0000 - mse: 47639784.0000 - mae: 5626.1914 - mape: 38.3777 - smape: 51.4747 - val_loss: 50283812.0000 - val_mse: 50283812.0000 - val_mae: 6671.6050 - val_mape: 46.5182 - val_smape: 61.9154\n",
            "Epoch 75/100\n",
            "1/1 [==============================] - 0s 25ms/step - loss: 45574072.0000 - mse: 45574072.0000 - mae: 5460.1733 - mape: 37.0502 - smape: 49.3631 - val_loss: 47787600.0000 - val_mse: 47787600.0000 - val_mae: 6480.9902 - val_mape: 45.0892 - val_smape: 59.5421\n",
            "Epoch 76/100\n",
            "1/1 [==============================] - 0s 25ms/step - loss: 43581532.0000 - mse: 43581532.0000 - mae: 5295.9912 - mape: 35.7484 - smape: 47.3170 - val_loss: 45366228.0000 - val_mse: 45366228.0000 - val_mae: 6290.5557 - val_mape: 43.6617 - val_smape: 57.2141\n",
            "Epoch 77/100\n",
            "1/1 [==============================] - 0s 27ms/step - loss: 41664388.0000 - mse: 41664388.0000 - mae: 5141.8188 - mape: 34.5752 - smape: 45.4378 - val_loss: 43022264.0000 - val_mse: 43022264.0000 - val_mae: 6100.5298 - val_mape: 42.2372 - val_smape: 54.9331\n",
            "Epoch 78/100\n",
            "1/1 [==============================] - 0s 25ms/step - loss: 39824596.0000 - mse: 39824596.0000 - mae: 5000.8535 - mape: 33.5696 - smape: 43.7602 - val_loss: 40758000.0000 - val_mse: 40758000.0000 - val_mae: 5911.1479 - val_mape: 40.8176 - val_smape: 52.7002\n",
            "Epoch 79/100\n",
            "1/1 [==============================] - 0s 24ms/step - loss: 38063804.0000 - mse: 38063804.0000 - mae: 4887.6328 - mape: 32.9113 - smape: 42.4570 - val_loss: 38575420.0000 - val_mse: 38575420.0000 - val_mae: 5722.6494 - val_mape: 39.4047 - val_smape: 50.5168\n",
            "Epoch 80/100\n",
            "1/1 [==============================] - 0s 25ms/step - loss: 36383336.0000 - mse: 36383336.0000 - mae: 4801.1694 - mape: 32.5798 - smape: 41.4995 - val_loss: 36476212.0000 - val_mse: 36476212.0000 - val_mae: 5535.2803 - val_mape: 38.0003 - val_smape: 48.3840\n",
            "Epoch 81/100\n",
            "1/1 [==============================] - 0s 25ms/step - loss: 34784196.0000 - mse: 34784196.0000 - mae: 4727.5117 - mape: 32.4008 - smape: 40.7084 - val_loss: 34461728.0000 - val_mse: 34461728.0000 - val_mae: 5349.2852 - val_mape: 36.6063 - val_smape: 46.3030\n",
            "Epoch 82/100\n",
            "1/1 [==============================] - 0s 34ms/step - loss: 33267042.0000 - mse: 33267042.0000 - mae: 4657.3013 - mape: 32.2577 - smape: 39.9655 - val_loss: 32533004.0000 - val_mse: 32533004.0000 - val_mae: 5164.9185 - val_mape: 35.2245 - val_smape: 44.2748\n",
            "Epoch 83/100\n",
            "1/1 [==============================] - 0s 27ms/step - loss: 31832208.0000 - mse: 31832208.0000 - mae: 4593.1436 - mape: 32.1784 - smape: 39.2982 - val_loss: 30690740.0000 - val_mse: 30690740.0000 - val_mae: 4982.4312 - val_mape: 33.8569 - val_smape: 42.3003\n",
            "Epoch 84/100\n",
            "1/1 [==============================] - 0s 25ms/step - loss: 30479670.0000 - mse: 30479670.0000 - mae: 4529.6011 - mape: 32.0994 - smape: 38.6432 - val_loss: 28935296.0000 - val_mse: 28935296.0000 - val_mae: 4802.0791 - val_mape: 32.5054 - val_smape: 40.3804\n",
            "Epoch 85/100\n",
            "1/1 [==============================] - 0s 25ms/step - loss: 29209052.0000 - mse: 29209052.0000 - mae: 4466.7578 - mape: 32.0208 - smape: 38.0012 - val_loss: 27266682.0000 - val_mse: 27266682.0000 - val_mae: 4624.1152 - val_mape: 31.1718 - val_smape: 38.5159\n",
            "Epoch 86/100\n",
            "1/1 [==============================] - 0s 24ms/step - loss: 28019646.0000 - mse: 28019646.0000 - mae: 4410.9180 - mape: 32.0108 - smape: 37.4404 - val_loss: 25684596.0000 - val_mse: 25684596.0000 - val_mae: 4451.5171 - val_mape: 29.8862 - val_smape: 36.7355\n",
            "Epoch 87/100\n",
            "1/1 [==============================] - 0s 24ms/step - loss: 26910388.0000 - mse: 26910388.0000 - mae: 4360.1460 - mape: 32.0452 - smape: 36.9360 - val_loss: 24188382.0000 - val_mse: 24188382.0000 - val_mae: 4291.5059 - val_mape: 28.7225 - val_smape: 35.1103\n",
            "Epoch 88/100\n",
            "1/1 [==============================] - 0s 25ms/step - loss: 25879896.0000 - mse: 25879896.0000 - mae: 4317.2949 - mape: 32.1511 - smape: 36.5148 - val_loss: 22777056.0000 - val_mse: 22777056.0000 - val_mae: 4155.3657 - val_mape: 27.7950 - val_smape: 33.7512\n",
            "Epoch 89/100\n",
            "1/1 [==============================] - 0s 25ms/step - loss: 24926458.0000 - mse: 24926458.0000 - mae: 4277.2012 - mape: 32.2751 - smape: 36.1229 - val_loss: 21449324.0000 - val_mse: 21449324.0000 - val_mae: 4033.7539 - val_mape: 27.0060 - val_smape: 32.5565\n",
            "Epoch 90/100\n",
            "1/1 [==============================] - 0s 25ms/step - loss: 24048054.0000 - mse: 24048054.0000 - mae: 4237.8804 - mape: 32.3962 - smape: 35.7401 - val_loss: 20203598.0000 - val_mse: 20203598.0000 - val_mae: 3917.9712 - val_mape: 26.2665 - val_smape: 31.4346\n",
            "Epoch 91/100\n",
            "1/1 [==============================] - 0s 24ms/step - loss: 23242382.0000 - mse: 23242382.0000 - mae: 4199.3867 - mape: 32.5143 - smape: 35.3671 - val_loss: 19037990.0000 - val_mse: 19037990.0000 - val_mae: 3804.8394 - val_mape: 25.5436 - val_smape: 30.3522\n",
            "Epoch 92/100\n",
            "1/1 [==============================] - 0s 23ms/step - loss: 22506868.0000 - mse: 22506868.0000 - mae: 4161.7739 - mape: 32.6291 - smape: 35.0042 - val_loss: 17950354.0000 - val_mse: 17950354.0000 - val_mae: 3694.5127 - val_mape: 24.8383 - val_smape: 29.3095\n",
            "Epoch 93/100\n",
            "1/1 [==============================] - 0s 24ms/step - loss: 21838684.0000 - mse: 21838684.0000 - mae: 4125.0928 - mape: 32.7406 - smape: 34.6519 - val_loss: 16938304.0000 - val_mse: 16938304.0000 - val_mae: 3591.9229 - val_mape: 24.1955 - val_smape: 28.3505\n",
            "Epoch 94/100\n",
            "1/1 [==============================] - 0s 24ms/step - loss: 21234808.0000 - mse: 21234808.0000 - mae: 4089.3926 - mape: 32.8485 - smape: 34.3106 - val_loss: 15999216.0000 - val_mse: 15999216.0000 - val_mae: 3504.1934 - val_mape: 23.6802 - val_smape: 27.5382\n",
            "Epoch 95/100\n",
            "1/1 [==============================] - 0s 24ms/step - loss: 20692000.0000 - mse: 20692000.0000 - mae: 4054.7190 - mape: 32.9527 - smape: 33.9807 - val_loss: 15130297.0000 - val_mse: 15130297.0000 - val_mae: 3435.3638 - val_mape: 23.3278 - val_smape: 26.9053\n",
            "Epoch 96/100\n",
            "1/1 [==============================] - 0s 23ms/step - loss: 20206888.0000 - mse: 20206888.0000 - mae: 4021.1145 - mape: 33.0530 - smape: 33.6624 - val_loss: 14328574.0000 - val_mse: 14328574.0000 - val_mae: 3368.8540 - val_mape: 22.9870 - val_smape: 26.2995\n",
            "Epoch 97/100\n",
            "1/1 [==============================] - 0s 24ms/step - loss: 19775968.0000 - mse: 19775968.0000 - mae: 3992.4941 - mape: 33.1849 - smape: 33.3914 - val_loss: 13590940.0000 - val_mse: 13590940.0000 - val_mae: 3304.7380 - val_mape: 22.6584 - val_smape: 25.7208\n",
            "Epoch 98/100\n",
            "1/1 [==============================] - 0s 24ms/step - loss: 19395644.0000 - mse: 19395644.0000 - mae: 3966.7524 - mape: 33.3284 - smape: 33.1478 - val_loss: 12914188.0000 - val_mse: 12914188.0000 - val_mae: 3243.0823 - val_mape: 22.3421 - val_smape: 25.1691\n",
            "Epoch 99/100\n",
            "1/1 [==============================] - 0s 25ms/step - loss: 19062268.0000 - mse: 19062268.0000 - mae: 3945.4399 - mape: 33.4967 - smape: 32.9448 - val_loss: 12295037.0000 - val_mse: 12295037.0000 - val_mae: 3183.9443 - val_mape: 22.0386 - val_smape: 24.6444\n",
            "Epoch 100/100\n",
            "1/1 [==============================] - 0s 24ms/step - loss: 18772166.0000 - mse: 18772166.0000 - mae: 3927.0552 - mape: 33.6754 - smape: 32.7683 - val_loss: 11730166.0000 - val_mse: 11730166.0000 - val_mae: 3127.3726 - val_mape: 21.7480 - val_smape: 24.1464\n"
          ]
        }
      ],
      "source": [
        "model = init_model(X_train, y_train)\n",
        "\n",
        "model, history = fit_model(model)\n"
      ]
    },
    {
      "cell_type": "code",
      "execution_count": 37,
      "metadata": {
        "colab": {
          "base_uri": "https://localhost:8080/",
          "height": 489
        },
        "id": "SY9oLnDKWebV",
        "outputId": "8812f3b6-1dad-4a81-da7e-4cc70d06ba14"
      },
      "outputs": [
        {
          "data": {
            "text/plain": [
              "array([<Axes: title={'center': 'MSE'}, xlabel='Epoch', ylabel='Loss'>,\n",
              "       <Axes: title={'center': 'MAE'}, xlabel='Epoch', ylabel='MAE'>],\n",
              "      dtype=object)"
            ]
          },
          "execution_count": 37,
          "metadata": {},
          "output_type": "execute_result"
        },
        {
          "data": {
            "image/png": "[encoded data removed]",
            "text/plain": [
              "<Figure size 2000x700 with 2 Axes>"
            ]
          },
          "metadata": {},
          "output_type": "display_data"
        }
      ],
      "source": [
        "plot_history(history)\n"
      ]
    },
    {
      "cell_type": "code",
      "execution_count": 38,
      "metadata": {
        "colab": {
          "base_uri": "https://localhost:8080/"
        },
        "id": "H-2hKhXuWebV",
        "outputId": "ec8cf23c-e8c2-41dd-e8cf-8b45ab891f16"
      },
      "outputs": [
        {
          "name": "stdout",
          "output_type": "stream",
          "text": [
            "1/1 [==============================] - 0s 18ms/step - loss: 556943.9375 - mse: 556943.9375 - mae: 521.9536 - mape: 4.8054 - smape: 4.7316\n"
          ]
        }
      ],
      "source": [
        "res = model.evaluate(X_test,y_test)\n"
      ]
    },
    {
      "cell_type": "code",
      "execution_count": 39,
      "metadata": {
        "colab": {
          "base_uri": "https://localhost:8080/"
        },
        "id": "QRDv9VTYMhsa",
        "outputId": "6b938540-adc9-4354-b1d5-252e9d812f30"
      },
      "outputs": [
        {
          "name": "stdout",
          "output_type": "stream",
          "text": [
            "Improvement over baseline model is 65.45528391095368 %\n"
          ]
        }
      ],
      "source": [
        "print(f'Improvement over baseline model is {((baseline_score[0] - res[2])/baseline_score[0])*100} %')\n"
      ]
    },
    {
      "cell_type": "code",
      "execution_count": 40,
      "metadata": {
        "colab": {
          "base_uri": "https://localhost:8080/"
        },
        "id": "58zm3zuVm8Hs",
        "outputId": "f6e75eae-dfe4-4503-936d-7b7878ba9526"
      },
      "outputs": [
        {
          "data": {
            "text/plain": [
              "((3, 7, 12), (12, 7, 12), (3, 7), (12, 7))"
            ]
          },
          "execution_count": 40,
          "metadata": {},
          "output_type": "execute_result"
        }
      ],
      "source": [
        "X_test.shape , X_train.shape, y_test.shape, y_train.shape\n"
      ]
    },
    {
      "cell_type": "code",
      "execution_count": 41,
      "metadata": {
        "colab": {
          "base_uri": "https://localhost:8080/"
        },
        "id": "Wmgqm_lzQdbP",
        "outputId": "f638fb1f-bf99-4544-b6ff-001ea1de410e"
      },
      "outputs": [
        {
          "name": "stdout",
          "output_type": "stream",
          "text": [
            "1/1 [==============================] - 1s 657ms/step\n"
          ]
        },
        {
          "data": {
            "text/plain": [
              "(array([10847.6455, 10910.116 , 11098.73  , 11040.653 , 11022.822 ,\n",
              "        11279.752 , 11346.835 ], dtype=float32),\n",
              " array([11530.  , 10760.05, 10799.18, 11349.99, 11175.27, 11089.  ,\n",
              "        11491.  ]))"
            ]
          },
          "execution_count": 41,
          "metadata": {},
          "output_type": "execute_result"
        }
      ],
      "source": [
        "model.predict(X_test)[2] , y_test[2]\n"
      ]
    },
    {
      "cell_type": "code",
      "execution_count": 42,
      "metadata": {
        "colab": {
          "base_uri": "https://localhost:8080/"
        },
        "id": "BOU8Bb20zR3i",
        "outputId": "d3bd6869-ddd9-4915-8ea9-2f9e1fdcd152"
      },
      "outputs": [
        {
          "name": "stdout",
          "output_type": "stream",
          "text": [
            "1/1 [==============================] - 0s 24ms/step\n",
            "1/1 [==============================] - 0s 14ms/step\n",
            "1/1 [==============================] - 0s 14ms/step\n",
            "1/1 [==============================] - 0s 14ms/step\n",
            "1/1 [==============================] - 0s 14ms/step\n",
            "1/1 [==============================] - 0s 14ms/step\n",
            "1/1 [==============================] - 0s 14ms/step\n",
            "1/1 [==============================] - 0s 14ms/step\n",
            "1/1 [==============================] - 0s 14ms/step\n",
            "1/1 [==============================] - 0s 13ms/step\n",
            "1/1 [==============================] - 0s 13ms/step\n",
            "1/1 [==============================] - 0s 13ms/step\n",
            "1/1 [==============================] - 0s 12ms/step\n",
            "1/1 [==============================] - 0s 13ms/step\n",
            "1/1 [==============================] - 0s 12ms/step\n",
            "1/1 [==============================] - 0s 12ms/step\n",
            "1/1 [==============================] - 0s 13ms/step\n",
            "1/1 [==============================] - 0s 13ms/step\n",
            "1/1 [==============================] - 0s 13ms/step\n",
            "1/1 [==============================] - 0s 13ms/step\n",
            "1/1 [==============================] - 0s 13ms/step\n",
            "1/1 [==============================] - 0s 12ms/step\n",
            "1/1 [==============================] - 0s 13ms/step\n",
            "1/1 [==============================] - 0s 12ms/step\n",
            "1/1 [==============================] - 0s 12ms/step\n",
            "1/1 [==============================] - 0s 12ms/step\n",
            "1/1 [==============================] - 0s 12ms/step\n",
            "1/1 [==============================] - 0s 12ms/step\n",
            "1/1 [==============================] - 0s 13ms/step\n",
            "1/1 [==============================] - 0s 14ms/step\n",
            "1/1 [==============================] - 0s 15ms/step\n",
            "1/1 [==============================] - 0s 15ms/step\n",
            "1/1 [==============================] - 0s 13ms/step\n",
            "1/1 [==============================] - 0s 13ms/step\n",
            "1/1 [==============================] - 0s 13ms/step\n",
            "1/1 [==============================] - 0s 13ms/step\n",
            "1/1 [==============================] - 0s 13ms/step\n",
            "1/1 [==============================] - 0s 13ms/step\n",
            "1/1 [==============================] - 0s 13ms/step\n",
            "1/1 [==============================] - 0s 12ms/step\n",
            "1/1 [==============================] - 0s 14ms/step\n",
            "1/1 [==============================] - 0s 12ms/step\n",
            "1/1 [==============================] - 0s 13ms/step\n",
            "1/1 [==============================] - 0s 12ms/step\n",
            "1/1 [==============================] - 0s 14ms/step\n",
            "1/1 [==============================] - 0s 13ms/step\n",
            "1/1 [==============================] - 0s 12ms/step\n",
            "1/1 [==============================] - 0s 13ms/step\n",
            "1/1 [==============================] - 0s 14ms/step\n",
            "1/1 [==============================] - 0s 15ms/step\n",
            "1/1 [==============================] - 0s 14ms/step\n",
            "1/1 [==============================] - 0s 13ms/step\n",
            "1/1 [==============================] - 0s 13ms/step\n",
            "1/1 [==============================] - 0s 13ms/step\n",
            "1/1 [==============================] - 0s 13ms/step\n",
            "1/1 [==============================] - 0s 12ms/step\n",
            "1/1 [==============================] - 0s 13ms/step\n",
            "1/1 [==============================] - 0s 13ms/step\n",
            "1/1 [==============================] - 0s 13ms/step\n",
            "1/1 [==============================] - 0s 14ms/step\n",
            "correct predictions =9\n",
            "incorrect prediction = 9\n"
          ]
        }
      ],
      "source": [
        "correct_movements = 0\n",
        "incorrect_movements = 0\n",
        "for j in range(y_test.shape[0]):\n",
        "  for i in range(y_test.shape[1]-1):\n",
        "    if (model.predict(X_test)[j][i+1] > model.predict(X_test)[j][i] and y_test[j][i+1] > y_test[j][i]) or (model.predict(X_test)[j][i+1] < model.predict(X_test)[j][i] and y_test[j][i+1] < y_test[j][i]):\n",
        "      correct_movements+=1\n",
        "    else:\n",
        "      incorrect_movements+=1\n",
        "print (f'correct predictions ={correct_movements}')\n",
        "print (f'incorrect prediction = {incorrect_movements}')\n"
      ]
    },
    {
      "cell_type": "markdown",
      "metadata": {
        "id": "bhc6IHa0WebV"
      },
      "source": [
        "#### All this was for one fold, now we need to Cross validate on all folds"
      ]
    },
    {
      "cell_type": "markdown",
      "metadata": {
        "id": "CPw_sivDWebV"
      },
      "source": [
        "### Step 3. Cross Validation"
      ]
    },
    {
      "cell_type": "markdown",
      "metadata": {
        "id": "kQY2hTb1WebV"
      },
      "source": [
        "#### * Funtion to Cross Validate for Baseline and LSTM Models in for loop"
      ]
    },
    {
      "cell_type": "code",
      "execution_count": 43,
      "metadata": {
        "id": "6ADxZTAOWebV"
      },
      "outputs": [],
      "source": [
        "def cross_validate_baseline_and_lstm():\n",
        "    '''\n",
        "    This function cross-validates\n",
        "    - the \"last seen value\" baseline model\n",
        "    - the RNN model\n",
        "    '''\n",
        "\n",
        "    list_of_mae_baseline_model = []\n",
        "    list_of_mae_recurrent_model = []\n",
        "\n",
        "    # 0 - Creating folds\n",
        "    # =========================================\n",
        "    folds = get_folds(df_droptime, FOLD_LENGTH, FOLD_STRIDE)\n",
        "\n",
        "    for fold_id, fold in enumerate(folds):\n",
        "\n",
        "        # 1 - Train/Test split the current fold\n",
        "\n",
        "        (fold_train, fold_test) = temporal_train_test_split(fold, TRAIN_TEST_RATIO, INPUT_LENGTH)\n",
        "\n",
        "        X_train, y_train = get_X_y_7(fold=fold_train,\n",
        "                           input_length=INPUT_LENGTH,\n",
        "                           output_length=OUTPUT_LENGTH,\n",
        "                           stride=STRIDE)\n",
        "        X_test, y_test = get_X_y_7(fold=fold_train,\n",
        "                           input_length=INPUT_LENGTH,\n",
        "                           output_length=OUTPUT_LENGTH,\n",
        "                           stride=STRIDE)\n",
        "\n",
        "        # 2 - Modelling\n",
        "\n",
        "        ##### Baseline Model\n",
        "        mae_baseline = last_seen_value_baseline(X_test, y_test)[0]\n",
        "        list_of_mae_baseline_model.append(mae_baseline)\n",
        "        print(\"-\"*50)\n",
        "        print(f\"MAE baseline fold n°{fold_id} = {round(mae_baseline, 2)}\")\n",
        "\n",
        "        ##### LSTM Model\n",
        "        model = init_model(X_train, y_train)\n",
        "        history = fit_model(model)\n",
        "        # es = EarlyStopping(monitor = \"val_mae\",\n",
        "        #                    mode = \"min\",\n",
        "        #                    patience = 2,\n",
        "        #                    restore_best_weights = True)\n",
        "        # history = model.fit(X_train, y_train,\n",
        "        #                     validation_split = 0.3,\n",
        "        #                     shuffle = False,\n",
        "        #                     batch_size = 32,\n",
        "        #                     epochs = 50,\n",
        "        #                     callbacks = [es],\n",
        "        #                     verbose = 0)\n",
        "        res = model.evaluate(X_test, y_test, verbose=0)\n",
        "        mae_lstm = res[2]\n",
        "        list_of_mae_recurrent_model.append(mae_lstm)\n",
        "        print(f\"MAE LSTM fold n°{fold_id} = {round(mae_lstm, 2)}\")\n",
        "\n",
        "        ##### Comparison LSTM vs Baseline for the current fold\n",
        "        print(f\"🏋🏽‍♂️ improvement over baseline: {round((1 - (mae_lstm/mae_baseline))*100,2)} % \\n\")\n",
        "\n",
        "    return list_of_mae_baseline_model, list_of_mae_recurrent_model\n"
      ]
    },
    {
      "cell_type": "code",
      "execution_count": 44,
      "metadata": {
        "colab": {
          "base_uri": "https://localhost:8080/",
          "height": 738
        },
        "id": "u5N862TxWebW",
        "outputId": "70117752-0486-4a8d-9df2-f1b4c97c3fdc"
      },
      "outputs": [
        {
          "name": "stderr",
          "output_type": "stream",
          "text": [
            "WARNING:absl:At this time, the v2.11+ optimizer `tf.keras.optimizers.Adam` runs slowly on M1/M2 Macs, please use the legacy Keras optimizer instead, located at `tf.keras.optimizers.legacy.Adam`.\n"
          ]
        },
        {
          "name": "stdout",
          "output_type": "stream",
          "text": [
            "--------------------------------------------------\n",
            "MAE baseline fold n°0 = 328.52\n",
            "Epoch 1/100\n"
          ]
        },
        {
          "ename": "ValueError",
          "evalue": "in user code:\n\n    File \"/Users/joekorban/.pyenv/versions/3.10.6/envs/crypto_market_assistant/lib/python3.10/site-packages/keras/src/engine/training.py\", line 1401, in train_function  *\n        return step_function(self, iterator)\n    File \"/Users/joekorban/.pyenv/versions/3.10.6/envs/crypto_market_assistant/lib/python3.10/site-packages/keras/src/engine/training.py\", line 1384, in step_function  **\n        outputs = model.distribute_strategy.run(run_step, args=(data,))\n    File \"/Users/joekorban/.pyenv/versions/3.10.6/envs/crypto_market_assistant/lib/python3.10/site-packages/keras/src/engine/training.py\", line 1373, in run_step  **\n        outputs = model.train_step(data)\n    File \"/Users/joekorban/.pyenv/versions/3.10.6/envs/crypto_market_assistant/lib/python3.10/site-packages/keras/src/engine/training.py\", line 1150, in train_step\n        y_pred = self(x, training=True)\n    File \"/Users/joekorban/.pyenv/versions/3.10.6/envs/crypto_market_assistant/lib/python3.10/site-packages/keras/src/utils/traceback_utils.py\", line 70, in error_handler\n        raise e.with_traceback(filtered_tb) from None\n\n    ValueError: Exception encountered when calling layer 'normalization_1' (type Normalization).\n    \n    Dimensions must be equal, but are 12 and 16 for '{{node sequential_1/normalization_1/sub}} = Sub[T=DT_FLOAT](IteratorGetNext, sequential_1/normalization_1/sub/y)' with input shapes: [?,7,12], [1,1,16].\n    \n    Call arguments received by layer 'normalization_1' (type Normalization):\n      • inputs=tf.Tensor(shape=(None, 7, 12), dtype=float32)\n",
          "output_type": "error",
          "traceback": [
            "\u001b[0;31m---------------------------------------------------------------------------\u001b[0m",
            "\u001b[0;31mValueError\u001b[0m                                Traceback (most recent call last)",
            "\u001b[1;32m/Users/joekorban/code/J0eDub/crypto_market_assistant/notebooks/Joseph_7days.ipynb Cell 63\u001b[0m line \u001b[0;36m1\n\u001b[0;32m----> <a href='vscode-notebook-cell:/Users/joekorban/code/J0eDub/crypto_market_assistant/notebooks/Joseph_7days.ipynb#Y115sZmlsZQ%3D%3D?line=0'>1</a>\u001b[0m mae_baselines, mae_lstms \u001b[39m=\u001b[39m cross_validate_baseline_and_lstm()\n",
            "\u001b[1;32m/Users/joekorban/code/J0eDub/crypto_market_assistant/notebooks/Joseph_7days.ipynb Cell 63\u001b[0m line \u001b[0;36m4\n\u001b[1;32m     <a href='vscode-notebook-cell:/Users/joekorban/code/J0eDub/crypto_market_assistant/notebooks/Joseph_7days.ipynb#Y115sZmlsZQ%3D%3D?line=37'>38</a>\u001b[0m \u001b[39m##### LSTM Model\u001b[39;00m\n\u001b[1;32m     <a href='vscode-notebook-cell:/Users/joekorban/code/J0eDub/crypto_market_assistant/notebooks/Joseph_7days.ipynb#Y115sZmlsZQ%3D%3D?line=38'>39</a>\u001b[0m model \u001b[39m=\u001b[39m init_model(X_train, y_train)\n\u001b[0;32m---> <a href='vscode-notebook-cell:/Users/joekorban/code/J0eDub/crypto_market_assistant/notebooks/Joseph_7days.ipynb#Y115sZmlsZQ%3D%3D?line=39'>40</a>\u001b[0m history \u001b[39m=\u001b[39m fit_model(model)\n\u001b[1;32m     <a href='vscode-notebook-cell:/Users/joekorban/code/J0eDub/crypto_market_assistant/notebooks/Joseph_7days.ipynb#Y115sZmlsZQ%3D%3D?line=40'>41</a>\u001b[0m \u001b[39m# es = EarlyStopping(monitor = \"val_mae\",\u001b[39;00m\n\u001b[1;32m     <a href='vscode-notebook-cell:/Users/joekorban/code/J0eDub/crypto_market_assistant/notebooks/Joseph_7days.ipynb#Y115sZmlsZQ%3D%3D?line=41'>42</a>\u001b[0m \u001b[39m#                    mode = \"min\",\u001b[39;00m\n\u001b[1;32m     <a href='vscode-notebook-cell:/Users/joekorban/code/J0eDub/crypto_market_assistant/notebooks/Joseph_7days.ipynb#Y115sZmlsZQ%3D%3D?line=42'>43</a>\u001b[0m \u001b[39m#                    patience = 2,\u001b[39;00m\n\u001b[0;32m   (...)\u001b[0m\n\u001b[1;32m     <a href='vscode-notebook-cell:/Users/joekorban/code/J0eDub/crypto_market_assistant/notebooks/Joseph_7days.ipynb#Y115sZmlsZQ%3D%3D?line=49'>50</a>\u001b[0m \u001b[39m#                     callbacks = [es],\u001b[39;00m\n\u001b[1;32m     <a href='vscode-notebook-cell:/Users/joekorban/code/J0eDub/crypto_market_assistant/notebooks/Joseph_7days.ipynb#Y115sZmlsZQ%3D%3D?line=50'>51</a>\u001b[0m \u001b[39m#                     verbose = 0)\u001b[39;00m\n\u001b[1;32m     <a href='vscode-notebook-cell:/Users/joekorban/code/J0eDub/crypto_market_assistant/notebooks/Joseph_7days.ipynb#Y115sZmlsZQ%3D%3D?line=51'>52</a>\u001b[0m res \u001b[39m=\u001b[39m model\u001b[39m.\u001b[39mevaluate(X_test, y_test, verbose\u001b[39m=\u001b[39m\u001b[39m0\u001b[39m)\n",
            "\u001b[1;32m/Users/joekorban/code/J0eDub/crypto_market_assistant/notebooks/Joseph_7days.ipynb Cell 63\u001b[0m line \u001b[0;36m9\n\u001b[1;32m      <a href='vscode-notebook-cell:/Users/joekorban/code/J0eDub/crypto_market_assistant/notebooks/Joseph_7days.ipynb#Y115sZmlsZQ%3D%3D?line=0'>1</a>\u001b[0m \u001b[39mdef\u001b[39;00m \u001b[39mfit_model\u001b[39m(model: tf\u001b[39m.\u001b[39mkeras\u001b[39m.\u001b[39mModel, verbose\u001b[39m=\u001b[39m\u001b[39m1\u001b[39m) \u001b[39m-\u001b[39m\u001b[39m>\u001b[39m \u001b[39mtuple\u001b[39m[tf\u001b[39m.\u001b[39mkeras\u001b[39m.\u001b[39mModel, \u001b[39mdict\u001b[39m]:\n\u001b[1;32m      <a href='vscode-notebook-cell:/Users/joekorban/code/J0eDub/crypto_market_assistant/notebooks/Joseph_7days.ipynb#Y115sZmlsZQ%3D%3D?line=2'>3</a>\u001b[0m     es \u001b[39m=\u001b[39m EarlyStopping(monitor \u001b[39m=\u001b[39m \u001b[39m\"\u001b[39m\u001b[39mval_loss\u001b[39m\u001b[39m\"\u001b[39m,\n\u001b[1;32m      <a href='vscode-notebook-cell:/Users/joekorban/code/J0eDub/crypto_market_assistant/notebooks/Joseph_7days.ipynb#Y115sZmlsZQ%3D%3D?line=3'>4</a>\u001b[0m                       patience \u001b[39m=\u001b[39m \u001b[39m30\u001b[39m,\n\u001b[1;32m      <a href='vscode-notebook-cell:/Users/joekorban/code/J0eDub/crypto_market_assistant/notebooks/Joseph_7days.ipynb#Y115sZmlsZQ%3D%3D?line=4'>5</a>\u001b[0m                       mode \u001b[39m=\u001b[39m \u001b[39m\"\u001b[39m\u001b[39mmin\u001b[39m\u001b[39m\"\u001b[39m,\n\u001b[1;32m      <a href='vscode-notebook-cell:/Users/joekorban/code/J0eDub/crypto_market_assistant/notebooks/Joseph_7days.ipynb#Y115sZmlsZQ%3D%3D?line=5'>6</a>\u001b[0m                       restore_best_weights \u001b[39m=\u001b[39m \u001b[39mTrue\u001b[39;00m)\n\u001b[0;32m----> <a href='vscode-notebook-cell:/Users/joekorban/code/J0eDub/crypto_market_assistant/notebooks/Joseph_7days.ipynb#Y115sZmlsZQ%3D%3D?line=8'>9</a>\u001b[0m     history \u001b[39m=\u001b[39m model\u001b[39m.\u001b[39;49mfit(X_train, y_train,\n\u001b[1;32m     <a href='vscode-notebook-cell:/Users/joekorban/code/J0eDub/crypto_market_assistant/notebooks/Joseph_7days.ipynb#Y115sZmlsZQ%3D%3D?line=9'>10</a>\u001b[0m                         validation_split \u001b[39m=\u001b[39;49m \u001b[39m0.3\u001b[39;49m,\n\u001b[1;32m     <a href='vscode-notebook-cell:/Users/joekorban/code/J0eDub/crypto_market_assistant/notebooks/Joseph_7days.ipynb#Y115sZmlsZQ%3D%3D?line=10'>11</a>\u001b[0m                         shuffle \u001b[39m=\u001b[39;49m \u001b[39mFalse\u001b[39;49;00m,\n\u001b[1;32m     <a href='vscode-notebook-cell:/Users/joekorban/code/J0eDub/crypto_market_assistant/notebooks/Joseph_7days.ipynb#Y115sZmlsZQ%3D%3D?line=11'>12</a>\u001b[0m                         batch_size \u001b[39m=\u001b[39;49m \u001b[39m16\u001b[39;49m,\n\u001b[1;32m     <a href='vscode-notebook-cell:/Users/joekorban/code/J0eDub/crypto_market_assistant/notebooks/Joseph_7days.ipynb#Y115sZmlsZQ%3D%3D?line=12'>13</a>\u001b[0m                         epochs \u001b[39m=\u001b[39;49m \u001b[39m100\u001b[39;49m,\n\u001b[1;32m     <a href='vscode-notebook-cell:/Users/joekorban/code/J0eDub/crypto_market_assistant/notebooks/Joseph_7days.ipynb#Y115sZmlsZQ%3D%3D?line=13'>14</a>\u001b[0m                         callbacks \u001b[39m=\u001b[39;49m [es],\n\u001b[1;32m     <a href='vscode-notebook-cell:/Users/joekorban/code/J0eDub/crypto_market_assistant/notebooks/Joseph_7days.ipynb#Y115sZmlsZQ%3D%3D?line=14'>15</a>\u001b[0m                         verbose \u001b[39m=\u001b[39;49m verbose)\n\u001b[1;32m     <a href='vscode-notebook-cell:/Users/joekorban/code/J0eDub/crypto_market_assistant/notebooks/Joseph_7days.ipynb#Y115sZmlsZQ%3D%3D?line=16'>17</a>\u001b[0m     \u001b[39mreturn\u001b[39;00m model, history\n",
            "File \u001b[0;32m~/.pyenv/versions/3.10.6/envs/crypto_market_assistant/lib/python3.10/site-packages/keras/src/utils/traceback_utils.py:70\u001b[0m, in \u001b[0;36mfilter_traceback.<locals>.error_handler\u001b[0;34m(*args, **kwargs)\u001b[0m\n\u001b[1;32m     67\u001b[0m     filtered_tb \u001b[39m=\u001b[39m _process_traceback_frames(e\u001b[39m.\u001b[39m__traceback__)\n\u001b[1;32m     68\u001b[0m     \u001b[39m# To get the full stack trace, call:\u001b[39;00m\n\u001b[1;32m     69\u001b[0m     \u001b[39m# `tf.debugging.disable_traceback_filtering()`\u001b[39;00m\n\u001b[0;32m---> 70\u001b[0m     \u001b[39mraise\u001b[39;00m e\u001b[39m.\u001b[39mwith_traceback(filtered_tb) \u001b[39mfrom\u001b[39;00m \u001b[39mNone\u001b[39;00m\n\u001b[1;32m     71\u001b[0m \u001b[39mfinally\u001b[39;00m:\n\u001b[1;32m     72\u001b[0m     \u001b[39mdel\u001b[39;00m filtered_tb\n",
            "File \u001b[0;32m/var/folders/rv/mzvg62yj25j2kh05bmcmlvxr0000gn/T/__autograph_generated_filetginf_t1.py:15\u001b[0m, in \u001b[0;36mouter_factory.<locals>.inner_factory.<locals>.tf__train_function\u001b[0;34m(iterator)\u001b[0m\n\u001b[1;32m     13\u001b[0m \u001b[39mtry\u001b[39;00m:\n\u001b[1;32m     14\u001b[0m     do_return \u001b[39m=\u001b[39m \u001b[39mTrue\u001b[39;00m\n\u001b[0;32m---> 15\u001b[0m     retval_ \u001b[39m=\u001b[39m ag__\u001b[39m.\u001b[39mconverted_call(ag__\u001b[39m.\u001b[39mld(step_function), (ag__\u001b[39m.\u001b[39mld(\u001b[39mself\u001b[39m), ag__\u001b[39m.\u001b[39mld(iterator)), \u001b[39mNone\u001b[39;00m, fscope)\n\u001b[1;32m     16\u001b[0m \u001b[39mexcept\u001b[39;00m:\n\u001b[1;32m     17\u001b[0m     do_return \u001b[39m=\u001b[39m \u001b[39mFalse\u001b[39;00m\n",
            "\u001b[0;31mValueError\u001b[0m: in user code:\n\n    File \"/Users/joekorban/.pyenv/versions/3.10.6/envs/crypto_market_assistant/lib/python3.10/site-packages/keras/src/engine/training.py\", line 1401, in train_function  *\n        return step_function(self, iterator)\n    File \"/Users/joekorban/.pyenv/versions/3.10.6/envs/crypto_market_assistant/lib/python3.10/site-packages/keras/src/engine/training.py\", line 1384, in step_function  **\n        outputs = model.distribute_strategy.run(run_step, args=(data,))\n    File \"/Users/joekorban/.pyenv/versions/3.10.6/envs/crypto_market_assistant/lib/python3.10/site-packages/keras/src/engine/training.py\", line 1373, in run_step  **\n        outputs = model.train_step(data)\n    File \"/Users/joekorban/.pyenv/versions/3.10.6/envs/crypto_market_assistant/lib/python3.10/site-packages/keras/src/engine/training.py\", line 1150, in train_step\n        y_pred = self(x, training=True)\n    File \"/Users/joekorban/.pyenv/versions/3.10.6/envs/crypto_market_assistant/lib/python3.10/site-packages/keras/src/utils/traceback_utils.py\", line 70, in error_handler\n        raise e.with_traceback(filtered_tb) from None\n\n    ValueError: Exception encountered when calling layer 'normalization_1' (type Normalization).\n    \n    Dimensions must be equal, but are 12 and 16 for '{{node sequential_1/normalization_1/sub}} = Sub[T=DT_FLOAT](IteratorGetNext, sequential_1/normalization_1/sub/y)' with input shapes: [?,7,12], [1,1,16].\n    \n    Call arguments received by layer 'normalization_1' (type Normalization):\n      • inputs=tf.Tensor(shape=(None, 7, 12), dtype=float32)\n"
          ]
        }
      ],
      "source": [
        "mae_baselines, mae_lstms = cross_validate_baseline_and_lstm()\n"
      ]
    },
    {
      "cell_type": "code",
      "execution_count": null,
      "metadata": {
        "id": "UeOTXn8iWebW"
      },
      "outputs": [],
      "source": [
        "print(f\"average percentage improvement over baseline = {round(np.mean(1 - (np.array(mae_lstms)/np.array(mae_baselines))),2)*100}%\")\n"
      ]
    },
    {
      "cell_type": "code",
      "execution_count": null,
      "metadata": {
        "id": "5jxUkpElXNR3"
      },
      "outputs": [],
      "source": []
    }
  ],
  "metadata": {
    "accelerator": "GPU",
    "colab": {
      "gpuType": "T4",
      "machine_shape": "hm",
      "provenance": [],
      "toc_visible": true
    },
    "kernelspec": {
      "display_name": "Python 3",
      "name": "python3"
    },
    "language_info": {
      "codemirror_mode": {
        "name": "ipython",
        "version": 3
      },
      "file_extension": ".py",
      "mimetype": "text/x-python",
      "name": "python",
      "nbconvert_exporter": "python",
      "pygments_lexer": "ipython3",
      "version": "3.10.6"
    }
  },
  "nbformat": 4,
  "nbformat_minor": 0
}
