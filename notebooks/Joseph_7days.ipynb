{
  "cells": [
    {
      "cell_type": "markdown",
      "metadata": {
        "id": "_-r71jEGWebE"
      },
      "source": [
        "# Joseph Korban's Notebook"
      ]
    },
    {
      "cell_type": "markdown",
      "metadata": {
        "id": "WKIpZHaUWebF"
      },
      "source": [
        "## Goal: DL Model for 7 days\n"
      ]
    },
    {
      "cell_type": "markdown",
      "metadata": {
        "id": "VAwYSRAuWebF"
      },
      "source": [
        "#### Preliminary Steps"
      ]
    },
    {
      "cell_type": "code",
      "execution_count": 1,
      "metadata": {
        "id": "Z7ACktisV8lt"
      },
      "outputs": [
        {
          "name": "stdout",
          "output_type": "stream",
          "text": [
            "            time      open      high       low     close    volume BTC  \\\n",
            "0     2017-08-17   4261.48   4485.39   4200.74   4285.08    795.150377   \n",
            "1     2017-08-18   4285.08   4371.52   3938.77   4108.37   1199.888264   \n",
            "2     2017-08-19   4108.37   4184.69   3850.00   4139.98    381.309763   \n",
            "3     2017-08-20   4139.98   4211.08   4032.62   4086.29    467.083022   \n",
            "4     2017-08-21   4069.13   4119.62   3911.79   4016.00    691.743060   \n",
            "...          ...       ...       ...       ...       ...           ...   \n",
            "2299  2023-12-03  39450.35  40250.00  39274.86  39972.26  26710.653350   \n",
            "2300  2023-12-04  39972.26  42420.00  39972.26  41991.10  79272.330590   \n",
            "2301  2023-12-05  41991.10  44488.00  41414.00  44073.32  67490.746440   \n",
            "2302  2023-12-06  44073.82  44297.21  43335.28  43762.69  51431.104920   \n",
            "2303  2023-12-07  43762.69  44047.33  42821.10  43273.14  47103.268450   \n",
            "\n",
            "        volume USD        RSI  RSI_class        ADX  ADX_class  \n",
            "0     3.454770e+06  50.000000          0   0.000000          1  \n",
            "1     5.086958e+06  50.000000          0   0.000000          1  \n",
            "2     1.549484e+06  50.000000          0   0.000000          1  \n",
            "3     1.930364e+06  50.000000          0   0.000000          1  \n",
            "4     2.797232e+06  50.000000          0   0.000000          1  \n",
            "...            ...        ...        ...        ...        ...  \n",
            "2299  1.059861e+09  70.702721          1  44.436432          2  \n",
            "2300  3.285737e+09  77.134115          1  45.836661          2  \n",
            "2301  2.890205e+09  81.616552          1  47.693335          2  \n",
            "2302  2.256980e+09  79.124603          1  49.417390          2  \n",
            "2303  2.046946e+09  75.226356          1  50.296646          3  \n",
            "\n",
            "[2304 rows x 11 columns]\n"
          ]
        }
      ],
      "source": [
        "import pandas as pd\n",
        "import numpy as np\n",
        "\n",
        "import matplotlib.pyplot as plt\n",
        "import seaborn as sns\n",
        "\n",
        "import os\n",
        "\n",
        "import tensorflow as tf\n",
        "from crypto_assist.data_preprocess import preprocessor_not_scaled\n"
      ]
    },
    {
      "cell_type": "code",
      "execution_count": 2,
      "metadata": {
        "id": "wke5eLbpuluH"
      },
      "outputs": [
        {
          "name": "stdout",
          "output_type": "stream",
          "text": [
            "            time      open      high       low     close    volume BTC  \\\n",
            "0     2017-08-17   4261.48   4485.39   4200.74   4285.08    795.150377   \n",
            "1     2017-08-18   4285.08   4371.52   3938.77   4108.37   1199.888264   \n",
            "2     2017-08-19   4108.37   4184.69   3850.00   4139.98    381.309763   \n",
            "3     2017-08-20   4139.98   4211.08   4032.62   4086.29    467.083022   \n",
            "4     2017-08-21   4069.13   4119.62   3911.79   4016.00    691.743060   \n",
            "...          ...       ...       ...       ...       ...           ...   \n",
            "2299  2023-12-03  39450.35  40250.00  39274.86  39972.26  26710.653350   \n",
            "2300  2023-12-04  39972.26  42420.00  39972.26  41991.10  79272.330590   \n",
            "2301  2023-12-05  41991.10  44488.00  41414.00  44073.32  67490.746440   \n",
            "2302  2023-12-06  44073.82  44297.21  43335.28  43762.69  51431.104920   \n",
            "2303  2023-12-07  43762.69  44047.33  42821.10  43273.14  47103.268450   \n",
            "\n",
            "        volume USD        RSI  RSI_class        ADX  ADX_class  \n",
            "0     3.454770e+06  50.000000          0   0.000000          1  \n",
            "1     5.086958e+06  50.000000          0   0.000000          1  \n",
            "2     1.549484e+06  50.000000          0   0.000000          1  \n",
            "3     1.930364e+06  50.000000          0   0.000000          1  \n",
            "4     2.797232e+06  50.000000          0   0.000000          1  \n",
            "...            ...        ...        ...        ...        ...  \n",
            "2299  1.059861e+09  70.702721          1  44.436432          2  \n",
            "2300  3.285737e+09  77.134115          1  45.836661          2  \n",
            "2301  2.890205e+09  81.616552          1  47.693335          2  \n",
            "2302  2.256980e+09  79.124603          1  49.417390          2  \n",
            "2303  2.046946e+09  75.226356          1  50.296646          3  \n",
            "\n",
            "[2304 rows x 11 columns]\n",
            "✅ Data has been merged\n",
            "✅ Data has been imputed\n",
            "✅ Data has been processed\n"
          ]
        },
        {
          "data": {
            "text/html": [
              "<div>\n",
              "<style scoped>\n",
              "    .dataframe tbody tr th:only-of-type {\n",
              "        vertical-align: middle;\n",
              "    }\n",
              "\n",
              "    .dataframe tbody tr th {\n",
              "        vertical-align: top;\n",
              "    }\n",
              "\n",
              "    .dataframe thead th {\n",
              "        text-align: right;\n",
              "    }\n",
              "</style>\n",
              "<table border=\"1\" class=\"dataframe\">\n",
              "  <thead>\n",
              "    <tr style=\"text-align: right;\">\n",
              "      <th></th>\n",
              "      <th>open</th>\n",
              "      <th>high</th>\n",
              "      <th>low</th>\n",
              "      <th>close</th>\n",
              "      <th>volume USD</th>\n",
              "      <th>RSI</th>\n",
              "      <th>ADX</th>\n",
              "      <th>FAGI_score</th>\n",
              "      <th>scored_title</th>\n",
              "      <th>scored_text</th>\n",
              "      <th>average_score</th>\n",
              "      <th>reddit_subscribers</th>\n",
              "      <th>reddit_comments_per_day</th>\n",
              "      <th>FAGI_sentiment_encoded</th>\n",
              "    </tr>\n",
              "  </thead>\n",
              "  <tbody>\n",
              "    <tr>\n",
              "      <th>0</th>\n",
              "      <td>4261.48</td>\n",
              "      <td>4485.39</td>\n",
              "      <td>4200.74</td>\n",
              "      <td>4285.08</td>\n",
              "      <td>3.454770e+06</td>\n",
              "      <td>50.000000</td>\n",
              "      <td>0.000000</td>\n",
              "      <td>50.0</td>\n",
              "      <td>0.000000</td>\n",
              "      <td>0.000000</td>\n",
              "      <td>0.000000</td>\n",
              "      <td>1.000000e+03</td>\n",
              "      <td>699.824346</td>\n",
              "      <td>2.0</td>\n",
              "    </tr>\n",
              "    <tr>\n",
              "      <th>1</th>\n",
              "      <td>4285.08</td>\n",
              "      <td>4371.52</td>\n",
              "      <td>3938.77</td>\n",
              "      <td>4108.37</td>\n",
              "      <td>5.086958e+06</td>\n",
              "      <td>50.000000</td>\n",
              "      <td>0.000000</td>\n",
              "      <td>50.0</td>\n",
              "      <td>0.000000</td>\n",
              "      <td>0.000000</td>\n",
              "      <td>0.000000</td>\n",
              "      <td>1.419855e+03</td>\n",
              "      <td>699.824346</td>\n",
              "      <td>2.0</td>\n",
              "    </tr>\n",
              "    <tr>\n",
              "      <th>2</th>\n",
              "      <td>4108.37</td>\n",
              "      <td>4184.69</td>\n",
              "      <td>3850.00</td>\n",
              "      <td>4139.98</td>\n",
              "      <td>1.549484e+06</td>\n",
              "      <td>50.000000</td>\n",
              "      <td>0.000000</td>\n",
              "      <td>50.0</td>\n",
              "      <td>0.000000</td>\n",
              "      <td>0.000000</td>\n",
              "      <td>0.000000</td>\n",
              "      <td>1.839711e+03</td>\n",
              "      <td>699.824346</td>\n",
              "      <td>2.0</td>\n",
              "    </tr>\n",
              "    <tr>\n",
              "      <th>3</th>\n",
              "      <td>4139.98</td>\n",
              "      <td>4211.08</td>\n",
              "      <td>4032.62</td>\n",
              "      <td>4086.29</td>\n",
              "      <td>1.930364e+06</td>\n",
              "      <td>50.000000</td>\n",
              "      <td>0.000000</td>\n",
              "      <td>50.0</td>\n",
              "      <td>0.000000</td>\n",
              "      <td>0.000000</td>\n",
              "      <td>0.000000</td>\n",
              "      <td>2.259566e+03</td>\n",
              "      <td>699.824346</td>\n",
              "      <td>2.0</td>\n",
              "    </tr>\n",
              "    <tr>\n",
              "      <th>4</th>\n",
              "      <td>4069.13</td>\n",
              "      <td>4119.62</td>\n",
              "      <td>3911.79</td>\n",
              "      <td>4016.00</td>\n",
              "      <td>2.797232e+06</td>\n",
              "      <td>50.000000</td>\n",
              "      <td>0.000000</td>\n",
              "      <td>50.0</td>\n",
              "      <td>0.000000</td>\n",
              "      <td>0.000000</td>\n",
              "      <td>0.000000</td>\n",
              "      <td>2.679422e+03</td>\n",
              "      <td>699.824346</td>\n",
              "      <td>2.0</td>\n",
              "    </tr>\n",
              "    <tr>\n",
              "      <th>...</th>\n",
              "      <td>...</td>\n",
              "      <td>...</td>\n",
              "      <td>...</td>\n",
              "      <td>...</td>\n",
              "      <td>...</td>\n",
              "      <td>...</td>\n",
              "      <td>...</td>\n",
              "      <td>...</td>\n",
              "      <td>...</td>\n",
              "      <td>...</td>\n",
              "      <td>...</td>\n",
              "      <td>...</td>\n",
              "      <td>...</td>\n",
              "      <td>...</td>\n",
              "    </tr>\n",
              "    <tr>\n",
              "      <th>2299</th>\n",
              "      <td>39450.35</td>\n",
              "      <td>40250.00</td>\n",
              "      <td>39274.86</td>\n",
              "      <td>39972.26</td>\n",
              "      <td>1.059861e+09</td>\n",
              "      <td>70.702721</td>\n",
              "      <td>44.436432</td>\n",
              "      <td>73.0</td>\n",
              "      <td>0.324950</td>\n",
              "      <td>0.944111</td>\n",
              "      <td>0.634530</td>\n",
              "      <td>2.594931e+06</td>\n",
              "      <td>699.824346</td>\n",
              "      <td>3.0</td>\n",
              "    </tr>\n",
              "    <tr>\n",
              "      <th>2300</th>\n",
              "      <td>39972.26</td>\n",
              "      <td>42420.00</td>\n",
              "      <td>39972.26</td>\n",
              "      <td>41991.10</td>\n",
              "      <td>3.285737e+09</td>\n",
              "      <td>77.134115</td>\n",
              "      <td>45.836661</td>\n",
              "      <td>74.0</td>\n",
              "      <td>0.400351</td>\n",
              "      <td>0.543259</td>\n",
              "      <td>0.471805</td>\n",
              "      <td>2.594931e+06</td>\n",
              "      <td>699.824346</td>\n",
              "      <td>3.0</td>\n",
              "    </tr>\n",
              "    <tr>\n",
              "      <th>2301</th>\n",
              "      <td>41991.10</td>\n",
              "      <td>44488.00</td>\n",
              "      <td>41414.00</td>\n",
              "      <td>44073.32</td>\n",
              "      <td>2.890205e+09</td>\n",
              "      <td>81.616552</td>\n",
              "      <td>47.693335</td>\n",
              "      <td>75.0</td>\n",
              "      <td>0.344162</td>\n",
              "      <td>0.655111</td>\n",
              "      <td>0.499637</td>\n",
              "      <td>2.594931e+06</td>\n",
              "      <td>699.824346</td>\n",
              "      <td>3.0</td>\n",
              "    </tr>\n",
              "    <tr>\n",
              "      <th>2302</th>\n",
              "      <td>44073.82</td>\n",
              "      <td>44297.21</td>\n",
              "      <td>43335.28</td>\n",
              "      <td>43762.69</td>\n",
              "      <td>2.256980e+09</td>\n",
              "      <td>79.124603</td>\n",
              "      <td>49.417390</td>\n",
              "      <td>72.0</td>\n",
              "      <td>0.453002</td>\n",
              "      <td>0.488086</td>\n",
              "      <td>0.470544</td>\n",
              "      <td>2.594931e+06</td>\n",
              "      <td>699.824346</td>\n",
              "      <td>3.0</td>\n",
              "    </tr>\n",
              "    <tr>\n",
              "      <th>2303</th>\n",
              "      <td>43762.69</td>\n",
              "      <td>44047.33</td>\n",
              "      <td>42821.10</td>\n",
              "      <td>43273.14</td>\n",
              "      <td>2.046946e+09</td>\n",
              "      <td>75.226356</td>\n",
              "      <td>50.296646</td>\n",
              "      <td>72.0</td>\n",
              "      <td>-0.005654</td>\n",
              "      <td>-0.824203</td>\n",
              "      <td>-0.414929</td>\n",
              "      <td>2.594931e+06</td>\n",
              "      <td>699.824346</td>\n",
              "      <td>3.0</td>\n",
              "    </tr>\n",
              "  </tbody>\n",
              "</table>\n",
              "<p>2304 rows × 14 columns</p>\n",
              "</div>"
            ],
            "text/plain": [
              "          open      high       low     close    volume USD        RSI  \\\n",
              "0      4261.48   4485.39   4200.74   4285.08  3.454770e+06  50.000000   \n",
              "1      4285.08   4371.52   3938.77   4108.37  5.086958e+06  50.000000   \n",
              "2      4108.37   4184.69   3850.00   4139.98  1.549484e+06  50.000000   \n",
              "3      4139.98   4211.08   4032.62   4086.29  1.930364e+06  50.000000   \n",
              "4      4069.13   4119.62   3911.79   4016.00  2.797232e+06  50.000000   \n",
              "...        ...       ...       ...       ...           ...        ...   \n",
              "2299  39450.35  40250.00  39274.86  39972.26  1.059861e+09  70.702721   \n",
              "2300  39972.26  42420.00  39972.26  41991.10  3.285737e+09  77.134115   \n",
              "2301  41991.10  44488.00  41414.00  44073.32  2.890205e+09  81.616552   \n",
              "2302  44073.82  44297.21  43335.28  43762.69  2.256980e+09  79.124603   \n",
              "2303  43762.69  44047.33  42821.10  43273.14  2.046946e+09  75.226356   \n",
              "\n",
              "            ADX  FAGI_score  scored_title  scored_text  average_score  \\\n",
              "0      0.000000        50.0      0.000000     0.000000       0.000000   \n",
              "1      0.000000        50.0      0.000000     0.000000       0.000000   \n",
              "2      0.000000        50.0      0.000000     0.000000       0.000000   \n",
              "3      0.000000        50.0      0.000000     0.000000       0.000000   \n",
              "4      0.000000        50.0      0.000000     0.000000       0.000000   \n",
              "...         ...         ...           ...          ...            ...   \n",
              "2299  44.436432        73.0      0.324950     0.944111       0.634530   \n",
              "2300  45.836661        74.0      0.400351     0.543259       0.471805   \n",
              "2301  47.693335        75.0      0.344162     0.655111       0.499637   \n",
              "2302  49.417390        72.0      0.453002     0.488086       0.470544   \n",
              "2303  50.296646        72.0     -0.005654    -0.824203      -0.414929   \n",
              "\n",
              "      reddit_subscribers  reddit_comments_per_day  FAGI_sentiment_encoded  \n",
              "0           1.000000e+03               699.824346                     2.0  \n",
              "1           1.419855e+03               699.824346                     2.0  \n",
              "2           1.839711e+03               699.824346                     2.0  \n",
              "3           2.259566e+03               699.824346                     2.0  \n",
              "4           2.679422e+03               699.824346                     2.0  \n",
              "...                  ...                      ...                     ...  \n",
              "2299        2.594931e+06               699.824346                     3.0  \n",
              "2300        2.594931e+06               699.824346                     3.0  \n",
              "2301        2.594931e+06               699.824346                     3.0  \n",
              "2302        2.594931e+06               699.824346                     3.0  \n",
              "2303        2.594931e+06               699.824346                     3.0  \n",
              "\n",
              "[2304 rows x 14 columns]"
            ]
          },
          "execution_count": 2,
          "metadata": {},
          "output_type": "execute_result"
        }
      ],
      "source": [
        "#For Jupyter only\n",
        "\n",
        "\n",
        "df = preprocessor_not_scaled('BTCUSDT_daily.csv','final_text_df.csv','social_number_data.csv','FearAndGreedIndex.csv')\n",
        "df_new = df.drop(columns=['date','volume BTC','twitter_favourites','reddit_active_users','twitter_followers','RSI_class','ADX_class'])\n",
        "df_new\n"
      ]
    },
    {
      "cell_type": "code",
      "execution_count": 3,
      "metadata": {
        "id": "6Z8GULRhFEEa"
      },
      "outputs": [],
      "source": [
        "# For Google Colab only\n",
        "\n",
        "\n",
        "#df_new = pd.read_csv('/content/FINAL.csv')\n"
      ]
    },
    {
      "cell_type": "markdown",
      "metadata": {
        "id": "dGTF64VdWebG"
      },
      "source": [
        "#### Assignments:\n",
        "- Targets  \n",
        "- Number of targets\n",
        "- Number of features\n"
      ]
    },
    {
      "cell_type": "code",
      "execution_count": 4,
      "metadata": {
        "id": "JvqxR2HeWebG"
      },
      "outputs": [],
      "source": [
        "# Can change later\n",
        "\n",
        "N_FEATURES = df_new.shape[1]  # All features other than time\n",
        "N_TARGETS = 1                      # Prediciting only 1 target (close price)\n",
        "TARGET = 'close'\n"
      ]
    },
    {
      "cell_type": "markdown",
      "metadata": {
        "id": "cQ9HoELiWebH"
      },
      "source": [
        "## Preparing the dataset for DL Model"
      ]
    },
    {
      "cell_type": "markdown",
      "metadata": {
        "id": "gf2ZHtciWebH"
      },
      "source": [
        "### Step 1. Creating many folds"
      ]
    },
    {
      "cell_type": "markdown",
      "metadata": {
        "id": "vYiGlhmwWebH"
      },
      "source": [
        "#### Assignments:\n",
        "- Fold Length   \n",
        "- Fold Size\n",
        "- Train Test Ratio\n"
      ]
    },
    {
      "cell_type": "code",
      "execution_count": 5,
      "metadata": {
        "id": "f2kUUTpOWebH"
      },
      "outputs": [],
      "source": [
        "# Can change later\n",
        "\n",
        "# Since we have data for about 6.3 years, we will asssume fold lengths of 2 years\n",
        "# 1.34 years for training and 0.67 for testing\n",
        "\n",
        "FOLD_LENGTH = 90    # Assume fold legnth of 2 years\n",
        "FOLD_STRIDE = 10      # Assume stride every quarter\n",
        "TRAIN_TEST_RATIO = 0.67   # Two-thirds split ratio\n"
      ]
    },
    {
      "cell_type": "markdown",
      "metadata": {
        "id": "oeWn8gqnWebH"
      },
      "source": [
        "#### * Implement the Get Folds Function:\n",
        "- Takes in df, fold length, fold stride\n",
        "- Returns a list of folds (each fold being a dataframe)"
      ]
    },
    {
      "cell_type": "code",
      "execution_count": 6,
      "metadata": {
        "id": "WD3AZab7WebH"
      },
      "outputs": [],
      "source": [
        "# Goes through the dataframe and creates equal sized folds of FOLD_LENGTH\n",
        "# starting at 0 and at each FOLD_STRIDE until it crosses len(df)\n",
        "\n",
        "def get_folds(df: pd.DataFrame,\n",
        "    fold_length: int,\n",
        "    fold_stride: int) -> list[pd.DataFrame]:\n",
        "\n",
        "    folds = []\n",
        "    for index in range(0, fold_length, fold_stride):\n",
        "        if index + fold_length > len(df):\n",
        "            break\n",
        "        fold = df.iloc[index:index + fold_length,:]\n",
        "        folds.append(fold)\n",
        "    return folds\n"
      ]
    },
    {
      "cell_type": "code",
      "execution_count": 7,
      "metadata": {
        "colab": {
          "base_uri": "https://localhost:8080/"
        },
        "id": "ABRR6UBRWebH",
        "outputId": "fc2e6933-4e9b-473f-cac0-82578598d8bd"
      },
      "outputs": [
        {
          "name": "stdout",
          "output_type": "stream",
          "text": [
            "Number of folds created were 9\n",
            "Each with a shape equal to (90, 14).\n"
          ]
        }
      ],
      "source": [
        "folds = (get_folds(df_new,FOLD_LENGTH,FOLD_STRIDE))\n",
        "print(f'Number of folds created were {len(folds)}')\n",
        "print(f'Each with a shape equal to {folds[0].shape}.')\n"
      ]
    },
    {
      "cell_type": "markdown",
      "metadata": {
        "id": "7Q1fiOACWebI"
      },
      "source": [
        "### Step 2. Temporal Train Test Split for one fold"
      ]
    },
    {
      "cell_type": "markdown",
      "metadata": {
        "id": "kn4OkG7sWebI"
      },
      "source": [
        "#### Focusing on one fold first"
      ]
    },
    {
      "cell_type": "code",
      "execution_count": 8,
      "metadata": {
        "id": "EvmSLgl5WebI"
      },
      "outputs": [],
      "source": [
        "fold = folds[-1]\n"
      ]
    },
    {
      "cell_type": "markdown",
      "metadata": {
        "id": "Vf1zCy-ZWebI"
      },
      "source": [
        "#### Assignments:\n",
        "- Input Length : Selected period selected for forecasting\n",
        "- Output Length : Selected period we want to predict\n"
      ]
    },
    {
      "cell_type": "code",
      "execution_count": 9,
      "metadata": {
        "id": "zOnLChyIWebI"
      },
      "outputs": [],
      "source": [
        "# Can change later\n",
        "\n",
        "INPUT_LENGTH = 7          # We can assume 3 days for a forecating period\n",
        "OUTPUT_LENGTH = 7           # If we want predict one week ahead\n",
        "TEMP_TRAIN_TEST_RATIO = 0.8 # How we want to split each fold (can be same as train test ratio)\n"
      ]
    },
    {
      "cell_type": "markdown",
      "metadata": {
        "id": "fWjxEp2oWebI"
      },
      "source": [
        "#### * Implement the Temporal Train Test Split Function:\n",
        "- Takes in a fold, temporal train test ratio, input length\n",
        "- Returns a tuple of (fold_train, fold_test), each as a dataframe"
      ]
    },
    {
      "cell_type": "code",
      "execution_count": 10,
      "metadata": {
        "id": "NnNXLhHqWebI"
      },
      "outputs": [],
      "source": [
        "# Splitting one fold into train and test chronologically,\n",
        "# so we can later sample many (Xi,yi) pairs (input and output lengths)\n",
        "\n",
        "def temporal_train_test_split(fold:pd.DataFrame,\n",
        "                            temp_train_test_ratio: float,\n",
        "                            input_length: int) -> tuple[pd.DataFrame]:\n",
        "    # Train set\n",
        "    last_train_index = round(temp_train_test_ratio * len(fold))\n",
        "    fold_train = fold.iloc[0:last_train_index, :]\n",
        "\n",
        "    #Test Set\n",
        "    first_test_index = last_train_index - input_length\n",
        "    fold_test = fold.iloc[first_test_index:, :]\n",
        "\n",
        "    return (fold_train,fold_test)\n"
      ]
    },
    {
      "cell_type": "code",
      "execution_count": 11,
      "metadata": {
        "id": "KeE2F13mWebI"
      },
      "outputs": [],
      "source": [
        "(fold_train, fold_test) = temporal_train_test_split(fold, TEMP_TRAIN_TEST_RATIO, INPUT_LENGTH)\n"
      ]
    },
    {
      "cell_type": "code",
      "execution_count": 12,
      "metadata": {
        "colab": {
          "base_uri": "https://localhost:8080/"
        },
        "id": "pw9uX_brWebI",
        "outputId": "ea3a3ea7-30ae-4e66-91cf-42e8a61e0c22"
      },
      "outputs": [
        {
          "data": {
            "text/plain": [
              "((72, 14), (25, 14))"
            ]
          },
          "execution_count": 12,
          "metadata": {},
          "output_type": "execute_result"
        }
      ],
      "source": [
        "fold_train.shape, fold_test.shape\n"
      ]
    },
    {
      "cell_type": "markdown",
      "metadata": {
        "id": "ucCfZHzoWebI"
      },
      "source": [
        "### Step 3. Create (X, y) sequences"
      ]
    },
    {
      "cell_type": "markdown",
      "metadata": {
        "id": "kLYhZj9mta1L"
      },
      "source": [
        "### Option 1. Random Sampling"
      ]
    },
    {
      "cell_type": "markdown",
      "metadata": {
        "id": "5U2Hh350WebJ"
      },
      "source": [
        "#### Now that we split our fold into trian and test we have to create 2 functions\n",
        "- One that will return a single sequence of (Xi, yi) (from fold train for training, and from fold test for evaluating)\n",
        "- Another that will call the first function many times over creating 3-D arrays of multiple sequences (X, y)"
      ]
    },
    {
      "cell_type": "markdown",
      "metadata": {
        "id": "Sfl9UtZ1WebJ"
      },
      "source": [
        "#### * Implement the Get (Xi, yi) function (using the random method):\n",
        "- Takes in a fold, input length ,output length\n",
        "- Returns a single sequence of (Xi, yi) as a 2-D DataFrame"
      ]
    },
    {
      "cell_type": "code",
      "execution_count": 13,
      "metadata": {
        "id": "UQko7frn8BUU"
      },
      "outputs": [],
      "source": [
        "STRIDE = 3\n"
      ]
    },
    {
      "cell_type": "code",
      "execution_count": 14,
      "metadata": {
        "id": "cFoOvPZ5WebJ"
      },
      "outputs": [],
      "source": [
        "# Given a fold (could be train fold for testing or test fold for evaluating),\n",
        "# it will return a sequence of (Xi,yi) based on input and output lengths,\n",
        "# starting from a random point.\n",
        "\n",
        "def get_Xi_yi_7(first_index: int,\n",
        "              fold: pd.DataFrame,\n",
        "              input_length: int,\n",
        "              output_length: int) -> tuple[np.ndarray, np.ndarray]:\n",
        "    '''\n",
        "    - extracts one sequence from a fold\n",
        "    - returns a pair (Xi, yi) with:\n",
        "        * len(Xi) = `input_length` and Xi starting at first_index\n",
        "        * len(yi) = `output_length`\n",
        "        * last_Xi and first_yi separated by the gap = horizon -1\n",
        "    '''\n",
        "\n",
        "    Xi_start = first_index\n",
        "    Xi_last = Xi_start + input_length\n",
        "    yi_start = Xi_last\n",
        "    yi_last = yi_start + output_length\n",
        "\n",
        "    Xi = fold[Xi_start:Xi_last]\n",
        "    yi = fold[yi_start:yi_last][TARGET]\n",
        "\n",
        "    return (Xi, yi)\n"
      ]
    },
    {
      "cell_type": "markdown",
      "metadata": {
        "id": "5JQGL2WOWebJ"
      },
      "source": []
    },
    {
      "cell_type": "code",
      "execution_count": 15,
      "metadata": {
        "id": "JHJPHO2JWebJ"
      },
      "outputs": [],
      "source": [
        "def get_X_y_7(fold: pd.DataFrame,             input_length: int,\n",
        "             output_length: int,\n",
        "             stride: int,\n",
        "             shuffle=True) -> tuple[np.ndarray, np.ndarray]:\n",
        "    \"\"\"\n",
        "    - Uses `data`, a 2D-array with axis=0 for timesteps, and axis=1 for (targets+covariates columns)\n",
        "    - Returns a Tuple (X,y) of two ndarrays :\n",
        "        * X.shape = (n_samples, input_length, n_covariates)\n",
        "        * y.shape =\n",
        "            (n_samples, output_length, n_targets) if all 3-dimensions are of size > 1\n",
        "            (n_samples, output_length) if n_targets == 1\n",
        "            (n_samples, n_targets) if output_length == 1\n",
        "            (n_samples, ) if both n_targets and lenghts == 1\n",
        "    - You can shuffle the pairs (Xi,yi) of your fold\n",
        "    \"\"\"\n",
        "    X = []\n",
        "    y = []\n",
        "\n",
        "    # Scanning the fold/data entirely with a certain stride\n",
        "    for i in range(0, len(fold), stride):\n",
        "        ## Extracting a sequence starting at index_i\n",
        "        Xi, yi = get_Xi_yi_7(first_index=i,\n",
        "                            fold=fold,\n",
        "                            input_length=input_length,\n",
        "                            output_length=output_length)\n",
        "        ## Exits loop as soon as we reach the end of the dataset\n",
        "        if len(yi) < output_length:\n",
        "            break\n",
        "        X.append(Xi)\n",
        "        y.append(yi)\n",
        "\n",
        "    X = np.array(X)\n",
        "    y = np.array(y)\n",
        "    y = np.squeeze(y)\n",
        "\n",
        "    if shuffle:\n",
        "        idx = np.arange(len(X))\n",
        "        np.random.shuffle(idx)\n",
        "        X = X[idx]\n",
        "        y = y[idx]\n",
        "\n",
        "    return X, y\n"
      ]
    },
    {
      "cell_type": "code",
      "execution_count": 16,
      "metadata": {
        "colab": {
          "base_uri": "https://localhost:8080/"
        },
        "id": "hHjEM59aWebJ",
        "outputId": "0ee094df-22e9-4059-dec8-079ed1aa7b4c"
      },
      "outputs": [
        {
          "name": "stdout",
          "output_type": "stream",
          "text": [
            "Shapes for the training set:\n",
            "X_train.shape = (20, 7, 14), y_train.shape = (20, 7)\n",
            "Shapes for the test set:\n",
            "X_test.shape = (4, 7, 14), y_test.shape = (4, 7)\n"
          ]
        }
      ],
      "source": [
        "X_train, y_train = get_X_y_7(fold=fold_train,\n",
        "                           input_length=INPUT_LENGTH,\n",
        "                           output_length=OUTPUT_LENGTH,\n",
        "                           stride=STRIDE)\n",
        "X_test, y_test = get_X_y_7(fold=fold_test,\n",
        "                         input_length=INPUT_LENGTH,\n",
        "                         output_length=OUTPUT_LENGTH,\n",
        "                         stride=STRIDE)\n",
        "\n",
        "print(\"Shapes for the training set:\")\n",
        "print(f\"X_train.shape = {X_train.shape}, y_train.shape = {y_train.shape}\")\n",
        "\n",
        "print(\"Shapes for the test set:\")\n",
        "print(f\"X_test.shape = {X_test.shape}, y_test.shape = {y_test.shape}\")\n"
      ]
    },
    {
      "cell_type": "markdown",
      "metadata": {
        "id": "5RTkxPyRWebK"
      },
      "source": [
        "## Modeling"
      ]
    },
    {
      "cell_type": "code",
      "execution_count": 17,
      "metadata": {
        "id": "X33dFLfqWebK"
      },
      "outputs": [],
      "source": [
        "from tensorflow.keras import models\n",
        "from tensorflow.keras import layers\n",
        "from tensorflow.keras import optimizers, metrics\n",
        "from tensorflow.keras.layers.experimental.preprocessing import Normalization\n",
        "from tensorflow.keras.callbacks import EarlyStopping, ReduceLROnPlateau\n",
        "from tensorflow.keras.layers import Lambda\n",
        "from tensorflow.keras.optimizers.schedules import ExponentialDecay\n",
        "from tensorflow.keras import regularizers\n"
      ]
    },
    {
      "cell_type": "markdown",
      "metadata": {
        "id": "cK2sKeX8WebT"
      },
      "source": [
        "### Step 1. Building a Baseline (dummy) model for comparisons"
      ]
    },
    {
      "cell_type": "markdown",
      "metadata": {
        "id": "1r3JLinkWebT"
      },
      "source": [
        "#### * Initialize the Baseline Model function based on last seen value"
      ]
    },
    {
      "cell_type": "code",
      "execution_count": 18,
      "metadata": {
        "colab": {
          "base_uri": "https://localhost:8080/"
        },
        "id": "MHSQ4bCC55Tk",
        "outputId": "538c426d-7fe8-430b-a746-3fae2a02fe09"
      },
      "outputs": [
        {
          "data": {
            "text/plain": [
              "((20, 7), (4, 7))"
            ]
          },
          "execution_count": 18,
          "metadata": {},
          "output_type": "execute_result"
        }
      ],
      "source": [
        "y_train.shape , y_test.shape\n"
      ]
    },
    {
      "cell_type": "code",
      "execution_count": 19,
      "metadata": {
        "id": "aKpzN9gLWebU"
      },
      "outputs": [],
      "source": [
        "\n",
        "def last_seen_value_baseline(X, y):\n",
        "\n",
        "    # How many values do you want to predict in the future ?\n",
        "    output_length = y.shape[-1]\n",
        "\n",
        "    # For each sequence, let's consider the last seen value\n",
        "    # and only the close column\n",
        "    last_seen_values = X[:,-1, 3].reshape(-1,1)\n",
        "\n",
        "    # We need to duplicate these values as many times as output_length\n",
        "    repeated = np.repeat(last_seen_values, axis = 1, repeats = output_length)\n",
        "\n",
        "    MAE = np.mean(np.abs(y - repeated))\n",
        "    MAPE = np.mean(abs((y - repeated) / y)) * 100\n",
        "    SMAPE = np.mean((abs(y - repeated)) / ((y + repeated)/2))* 100\n",
        "    return MAE, MAPE, SMAPE, repeated[0]\n"
      ]
    },
    {
      "cell_type": "code",
      "execution_count": 20,
      "metadata": {
        "colab": {
          "base_uri": "https://localhost:8080/"
        },
        "id": "68aYchyiWebU",
        "outputId": "48e57a96-3cda-470c-9191-269fb3ee8b4d"
      },
      "outputs": [
        {
          "data": {
            "text/plain": [
              "(910.6185714285717,\n",
              " 8.146962462523225,\n",
              " 7.658102616824383,\n",
              " array([11349.99, 11349.99, 11349.99, 11349.99, 11349.99, 11349.99,\n",
              "        11349.99]))"
            ]
          },
          "execution_count": 20,
          "metadata": {},
          "output_type": "execute_result"
        }
      ],
      "source": [
        "baseline_score = last_seen_value_baseline(X_test, y_test)\n",
        "baseline_score\n"
      ]
    },
    {
      "cell_type": "markdown",
      "metadata": {
        "id": "gbpQRtDeWebU"
      },
      "source": [
        "### Step 2. Building an LSTM Model"
      ]
    },
    {
      "cell_type": "markdown",
      "metadata": {
        "id": "c80bjzqhLBmA"
      },
      "source": [
        "#### * Define the SMAPE Metric"
      ]
    },
    {
      "cell_type": "code",
      "execution_count": 21,
      "metadata": {
        "id": "Oq6juygRLFVw"
      },
      "outputs": [],
      "source": [
        "def smape(y_true, y_pred):\n",
        "    return tf.reduce_mean(((abs(y_true - y_pred)) / ((y_true + y_pred)/2))* 100, axis=-1)\n"
      ]
    },
    {
      "cell_type": "markdown",
      "metadata": {
        "id": "kmiyOzNQWebU"
      },
      "source": [
        "#### * Initialize the LSTM Model function"
      ]
    },
    {
      "cell_type": "code",
      "execution_count": 22,
      "metadata": {
        "id": "Ka5Hp_M3WebU"
      },
      "outputs": [],
      "source": [
        "def init_model(X_train, y_train):\n",
        "\n",
        "    # adam = optimizers.Adam(learning_rate=0.02)\n",
        "\n",
        "    initial_learning_rate = 0.1 # Default Adam\n",
        "\n",
        "    lr_schedule = ExponentialDecay(\n",
        "    initial_learning_rate,\n",
        "    decay_steps = 500,    # every 2000 iterations\n",
        "    decay_rate = 0.5)      # we multiply the learning rate by the decay_rate\n",
        "\n",
        "\n",
        "    adam = optimizers.Adam(learning_rate=lr_schedule)\n",
        "\n",
        "\n",
        "    #reg_l2 = regularizers.L2(0.5)\n",
        "\n",
        "    output_length = y_train.shape[1]\n",
        "\n",
        "    normalizer = Normalization()\n",
        "    normalizer.adapt(X_train)\n",
        "\n",
        "    model = models.Sequential()\n",
        "\n",
        "    model.add(normalizer)\n",
        "\n",
        "    model.add(layers.LSTM(64,\n",
        "                          activation='tanh',\n",
        "                          return_sequences = True,\n",
        "                          ))\n",
        "    model.add(layers.LSTM(32,\n",
        "                          activation='tanh',\n",
        "                          return_sequences = True\n",
        "                          ))\n",
        "    model.add(layers.LSTM(16,\n",
        "                          activation='tanh',\n",
        "                          return_sequences = False\n",
        "                          ))\n",
        "    model.add(layers.Dense(10, activation='elu'\n",
        "                           ))\n",
        "\n",
        "    model.add(layers.Dense(output_length, activation='linear'))\n",
        "\n",
        "    model.compile(loss='mse', optimizer=adam, metrics=[\"mse\",'mae','mape',smape])\n",
        "\n",
        "    return model\n"
      ]
    },
    {
      "cell_type": "markdown",
      "metadata": {
        "id": "ZC0hMdWyWebU"
      },
      "source": [
        "#### * Fit (Train) the LSTM Model function"
      ]
    },
    {
      "cell_type": "code",
      "execution_count": 23,
      "metadata": {
        "id": "Y5t5wsFJWebU"
      },
      "outputs": [],
      "source": [
        "def fit_model(model: tf.keras.Model, verbose=1) -> tuple[tf.keras.Model, dict]:\n",
        "\n",
        "    es = EarlyStopping(monitor = \"val_loss\",\n",
        "                      patience = 20,\n",
        "                      mode = \"min\",\n",
        "                      restore_best_weights = True)\n",
        "    #reduce_lr = ReduceLROnPlateau(monitor='val_loss', factor=0.2,\n",
        "                              #patience=5, min_lr=0.001)\n",
        "\n",
        "\n",
        "    history = model.fit(X_train, y_train,\n",
        "                        validation_split = 0.3,\n",
        "                        shuffle = False,\n",
        "                        batch_size = 16,\n",
        "                        epochs = 200,\n",
        "                        callbacks = [es],\n",
        "                        verbose = verbose)\n",
        "\n",
        "    return model, history\n"
      ]
    },
    {
      "cell_type": "markdown",
      "metadata": {
        "id": "tepHe3NzWebU"
      },
      "source": [
        "#### * Define the plot history function"
      ]
    },
    {
      "cell_type": "code",
      "execution_count": 24,
      "metadata": {
        "id": "Nl4RkRWnWebU"
      },
      "outputs": [],
      "source": [
        "def plot_history(history):\n",
        "\n",
        "    fig, ax = plt.subplots(1,2, figsize=(20,7))\n",
        "    ax[0].plot(history.history['loss'])\n",
        "    ax[0].plot(history.history['val_loss'])\n",
        "    ax[0].set_title('MSE')\n",
        "    ax[0].set_ylabel('Loss')\n",
        "    ax[0].set_xlabel('Epoch')\n",
        "    ax[0].legend(['Train', 'Validation'], loc='best')\n",
        "    ax[0].grid(axis=\"x\",linewidth=0.5)\n",
        "    ax[0].grid(axis=\"y\",linewidth=0.5)\n",
        "\n",
        "    ax[1].plot(history.history['mae'])\n",
        "    ax[1].plot(history.history['val_mae'])\n",
        "    ax[1].set_title('MAE')\n",
        "    ax[1].set_ylabel('MAE')\n",
        "    ax[1].set_xlabel('Epoch')\n",
        "    ax[1].legend(['Train', 'Validation'], loc='best')\n",
        "    ax[1].grid(axis=\"x\",linewidth=0.5)\n",
        "    ax[1].grid(axis=\"y\",linewidth=0.5)\n",
        "\n",
        "    return ax\n"
      ]
    },
    {
      "cell_type": "code",
      "execution_count": 25,
      "metadata": {
        "colab": {
          "base_uri": "https://localhost:8080/"
        },
        "id": "H4C53m2xWebU",
        "outputId": "2e48bd40-1555-4814-ff58-dbabf7743366"
      },
      "outputs": [
        {
          "name": "stderr",
          "output_type": "stream",
          "text": [
            "WARNING:absl:At this time, the v2.11+ optimizer `tf.keras.optimizers.Adam` runs slowly on M1/M2 Macs, please use the legacy Keras optimizer instead, located at `tf.keras.optimizers.legacy.Adam`.\n"
          ]
        },
        {
          "name": "stdout",
          "output_type": "stream",
          "text": [
            "Epoch 1/200\n"
          ]
        },
        {
          "name": "stdout",
          "output_type": "stream",
          "text": [
            "1/1 [==============================] - 3s 3s/step - loss: 189752624.0000 - mse: 189752624.0000 - mae: 13417.1074 - mape: 100.0000 - smape: 199.9999 - val_loss: 162701440.0000 - val_mse: 162701440.0000 - val_mae: 12114.6885 - val_mape: 99.9930 - val_smape: 199.9722\n",
            "Epoch 2/200\n",
            "1/1 [==============================] - 0s 33ms/step - loss: 189717024.0000 - mse: 189717024.0000 - mae: 13415.9033 - mape: 99.9916 - smape: 199.9665 - val_loss: 162612336.0000 - val_mse: 162612336.0000 - val_mae: 12110.7734 - val_mape: 99.9544 - val_smape: 199.8177\n",
            "Epoch 3/200\n",
            "1/1 [==============================] - 0s 31ms/step - loss: 189624272.0000 - mse: 189624272.0000 - mae: 13412.2949 - mape: 99.9614 - smape: 199.8458 - val_loss: 162501072.0000 - val_mse: 162501072.0000 - val_mae: 12106.3115 - val_mape: 99.9144 - val_smape: 199.6580\n",
            "Epoch 4/200\n",
            "1/1 [==============================] - 0s 30ms/step - loss: 189495888.0000 - mse: 189495888.0000 - mae: 13407.5938 - mape: 99.9249 - smape: 199.7001 - val_loss: 162355072.0000 - val_mse: 162355072.0000 - val_mae: 12100.1484 - val_mape: 99.8559 - val_smape: 199.4248\n",
            "Epoch 5/200\n",
            "1/1 [==============================] - 0s 31ms/step - loss: 189337232.0000 - mse: 189337232.0000 - mae: 13401.6143 - mape: 99.8767 - smape: 199.5076 - val_loss: 162182320.0000 - val_mse: 162182320.0000 - val_mae: 12092.9961 - val_mape: 99.7895 - val_smape: 199.1600\n",
            "Epoch 6/200\n",
            "1/1 [==============================] - 0s 29ms/step - loss: 189145584.0000 - mse: 189145584.0000 - mae: 13394.4619 - mape: 99.8198 - smape: 199.2808 - val_loss: 161970704.0000 - val_mse: 161970704.0000 - val_mae: 12084.2314 - val_mape: 99.7080 - val_smape: 198.8361\n",
            "Epoch 7/200\n",
            "1/1 [==============================] - 0s 31ms/step - loss: 188910880.0000 - mse: 188910880.0000 - mae: 13385.6973 - mape: 99.7501 - smape: 199.0031 - val_loss: 161717232.0000 - val_mse: 161717232.0000 - val_mae: 12073.7266 - val_mape: 99.6103 - val_smape: 198.4486\n",
            "Epoch 8/200\n",
            "1/1 [==============================] - 0s 31ms/step - loss: 188629792.0000 - mse: 188629792.0000 - mae: 13375.1924 - mape: 99.6664 - smape: 198.6709 - val_loss: 161420048.0000 - val_mse: 161420048.0000 - val_mae: 12061.4014 - val_mape: 99.4958 - val_smape: 197.9950\n",
            "Epoch 9/200\n",
            "1/1 [==============================] - 0s 30ms/step - loss: 188300288.0000 - mse: 188300288.0000 - mae: 13362.8662 - mape: 99.5684 - smape: 198.2819 - val_loss: 161077568.0000 - val_mse: 161077568.0000 - val_mae: 12047.1797 - val_mape: 99.3636 - val_smape: 197.4732\n",
            "Epoch 10/200\n",
            "1/1 [==============================] - 0s 30ms/step - loss: 187920512.0000 - mse: 187920512.0000 - mae: 13348.6455 - mape: 99.4552 - smape: 197.8341 - val_loss: 160688240.0000 - val_mse: 160688240.0000 - val_mae: 12030.9971 - val_mape: 99.2132 - val_smape: 196.8812\n",
            "Epoch 11/200\n",
            "1/1 [==============================] - 0s 30ms/step - loss: 187488784.0000 - mse: 187488784.0000 - mae: 13332.4619 - mape: 99.3264 - smape: 197.3257 - val_loss: 160250608.0000 - val_mse: 160250608.0000 - val_mae: 12012.7803 - val_mape: 99.0439 - val_smape: 196.2172\n",
            "Epoch 12/200\n",
            "1/1 [==============================] - 0s 30ms/step - loss: 187003472.0000 - mse: 187003472.0000 - mae: 13314.2451 - mape: 99.1814 - smape: 196.7552 - val_loss: 159763264.0000 - val_mse: 159763264.0000 - val_mae: 11992.4639 - val_mape: 98.8550 - val_smape: 195.4797\n",
            "Epoch 13/200\n",
            "1/1 [==============================] - 0s 29ms/step - loss: 186462960.0000 - mse: 186462960.0000 - mae: 13293.9287 - mape: 99.0197 - smape: 196.1210 - val_loss: 159224880.0000 - val_mse: 159224880.0000 - val_mae: 11969.9795 - val_mape: 98.6461 - val_smape: 194.6669\n",
            "Epoch 14/200\n",
            "1/1 [==============================] - 0s 26ms/step - loss: 185865728.0000 - mse: 185865728.0000 - mae: 13271.4443 - mape: 98.8408 - smape: 195.4216 - val_loss: 158634128.0000 - val_mse: 158634128.0000 - val_mae: 11945.2607 - val_mape: 98.4163 - val_smape: 193.7778\n",
            "Epoch 15/200\n",
            "1/1 [==============================] - 0s 27ms/step - loss: 185210368.0000 - mse: 185210368.0000 - mae: 13246.7246 - mape: 98.6441 - smape: 194.6558 - val_loss: 157989760.0000 - val_mse: 157989760.0000 - val_mae: 11918.2412 - val_mape: 98.1652 - val_smape: 192.8110\n",
            "Epoch 16/200\n",
            "1/1 [==============================] - 0s 27ms/step - loss: 184495360.0000 - mse: 184495360.0000 - mae: 13219.7051 - mape: 98.4290 - smape: 193.8224 - val_loss: 157290640.0000 - val_mse: 157290640.0000 - val_mae: 11888.8564 - val_mape: 97.8921 - val_smape: 191.7656\n",
            "Epoch 17/200\n",
            "1/1 [==============================] - 0s 26ms/step - loss: 183719456.0000 - mse: 183719456.0000 - mae: 13190.3223 - mape: 98.1952 - smape: 192.9203 - val_loss: 156535696.0000 - val_mse: 156535696.0000 - val_mae: 11857.0459 - val_mape: 97.5965 - val_smape: 190.6409\n",
            "Epoch 18/200\n",
            "1/1 [==============================] - 0s 26ms/step - loss: 182881408.0000 - mse: 182881408.0000 - mae: 13158.5098 - mape: 97.9420 - smape: 191.9487 - val_loss: 155723952.0000 - val_mse: 155723952.0000 - val_mae: 11822.7451 - val_mape: 97.2777 - val_smape: 189.4362\n",
            "Epoch 19/200\n",
            "1/1 [==============================] - 0s 28ms/step - loss: 181980048.0000 - mse: 181980048.0000 - mae: 13124.2100 - mape: 97.6690 - smape: 190.9068 - val_loss: 154854416.0000 - val_mse: 154854416.0000 - val_mae: 11785.8945 - val_mape: 96.9352 - val_smape: 188.1512\n",
            "Epoch 20/200\n",
            "1/1 [==============================] - 0s 27ms/step - loss: 181014304.0000 - mse: 181014304.0000 - mae: 13087.3613 - mape: 97.3758 - smape: 189.7941 - val_loss: 153926368.0000 - val_mse: 153926368.0000 - val_mae: 11746.4375 - val_mape: 96.5685 - val_smape: 186.7858\n",
            "Epoch 21/200\n",
            "1/1 [==============================] - 0s 27ms/step - loss: 179983216.0000 - mse: 179983216.0000 - mae: 13047.9033 - mape: 97.0618 - smape: 188.6102 - val_loss: 152939056.0000 - val_mse: 152939056.0000 - val_mae: 11704.3154 - val_mape: 96.1770 - val_smape: 185.3398\n",
            "Epoch 22/200\n",
            "1/1 [==============================] - 0s 28ms/step - loss: 178885936.0000 - mse: 178885936.0000 - mae: 13005.7793 - mape: 96.7265 - smape: 187.3548 - val_loss: 151891888.0000 - val_mse: 151891888.0000 - val_mae: 11659.4727 - val_mape: 95.7603 - val_smape: 183.8138\n",
            "Epoch 23/200\n",
            "1/1 [==============================] - 0s 27ms/step - loss: 177721728.0000 - mse: 177721728.0000 - mae: 12960.9365 - mape: 96.3696 - smape: 186.0278 - val_loss: 150784384.0000 - val_mse: 150784384.0000 - val_mae: 11611.8584 - val_mape: 95.3178 - val_smape: 182.2080\n",
            "Epoch 24/200\n",
            "1/1 [==============================] - 0s 28ms/step - loss: 176489984.0000 - mse: 176489984.0000 - mae: 12913.3252 - mape: 95.9907 - smape: 184.6295 - val_loss: 149616176.0000 - val_mse: 149616176.0000 - val_mae: 11561.4248 - val_mape: 94.8491 - val_smape: 180.5234\n",
            "Epoch 25/200\n",
            "1/1 [==============================] - 0s 28ms/step - loss: 175190144.0000 - mse: 175190144.0000 - mae: 12862.8877 - mape: 95.5893 - smape: 183.1601 - val_loss: 148387008.0000 - val_mse: 148387008.0000 - val_mae: 11508.1182 - val_mape: 94.3537 - val_smape: 178.7607\n",
            "Epoch 26/200\n",
            "1/1 [==============================] - 0s 30ms/step - loss: 173821872.0000 - mse: 173821872.0000 - mae: 12809.5830 - mape: 95.1651 - smape: 181.6200 - val_loss: 147096752.0000 - val_mse: 147096752.0000 - val_mae: 11451.8984 - val_mape: 93.8312 - val_smape: 176.9211\n",
            "Epoch 27/200\n",
            "1/1 [==============================] - 0s 30ms/step - loss: 172384992.0000 - mse: 172384992.0000 - mae: 12753.3643 - mape: 94.7177 - smape: 180.0101 - val_loss: 145745440.0000 - val_mse: 145745440.0000 - val_mae: 11392.7217 - val_mape: 93.2813 - val_smape: 175.0061\n",
            "Epoch 28/200\n",
            "1/1 [==============================] - 0s 32ms/step - loss: 170879312.0000 - mse: 170879312.0000 - mae: 12694.1846 - mape: 94.2467 - smape: 178.3310 - val_loss: 144333200.0000 - val_mse: 144333200.0000 - val_mae: 11330.5439 - val_mape: 92.7035 - val_smape: 173.0171\n",
            "Epoch 29/200\n",
            "1/1 [==============================] - 0s 26ms/step - loss: 169304864.0000 - mse: 169304864.0000 - mae: 12632.0098 - mape: 93.7519 - smape: 176.5839 - val_loss: 142860336.0000 - val_mse: 142860336.0000 - val_mae: 11265.3350 - val_mape: 92.0974 - val_smape: 170.9559\n",
            "Epoch 30/200\n",
            "1/1 [==============================] - 0s 27ms/step - loss: 167661920.0000 - mse: 167661920.0000 - mae: 12566.7988 - mape: 93.2329 - smape: 174.7699 - val_loss: 141327216.0000 - val_mse: 141327216.0000 - val_mae: 11197.0547 - val_mape: 91.4629 - val_smape: 168.8246\n",
            "Epoch 31/200\n",
            "1/1 [==============================] - 0s 27ms/step - loss: 165950720.0000 - mse: 165950720.0000 - mae: 12498.5205 - mape: 92.6895 - smape: 172.8903 - val_loss: 139734432.0000 - val_mse: 139734432.0000 - val_mae: 11125.6748 - val_mape: 90.7995 - val_smape: 166.6252\n",
            "Epoch 32/200\n",
            "1/1 [==============================] - 0s 27ms/step - loss: 164171808.0000 - mse: 164171808.0000 - mae: 12427.1387 - mape: 92.1214 - smape: 170.9467 - val_loss: 138082672.0000 - val_mse: 138082672.0000 - val_mae: 11051.1641 - val_mape: 90.1071 - val_smape: 164.3600\n",
            "Epoch 33/200\n",
            "1/1 [==============================] - 0s 26ms/step - loss: 162325760.0000 - mse: 162325760.0000 - mae: 12352.6270 - mape: 91.5284 - smape: 168.9409 - val_loss: 136372800.0000 - val_mse: 136372800.0000 - val_mae: 10973.4990 - val_mape: 89.3853 - val_smape: 162.0314\n",
            "Epoch 34/200\n",
            "1/1 [==============================] - 0s 27ms/step - loss: 160413360.0000 - mse: 160413360.0000 - mae: 12274.9629 - mape: 90.9103 - smape: 166.8745 - val_loss: 134605776.0000 - val_mse: 134605776.0000 - val_mae: 10892.6572 - val_mape: 88.6341 - val_smape: 159.6422\n",
            "Epoch 35/200\n",
            "1/1 [==============================] - 0s 27ms/step - loss: 158435584.0000 - mse: 158435584.0000 - mae: 12194.1221 - mape: 90.2669 - smape: 164.7495 - val_loss: 132782784.0000 - val_mse: 132782784.0000 - val_mae: 10808.6201 - val_mape: 87.8531 - val_smape: 157.1949\n",
            "Epoch 36/200\n",
            "1/1 [==============================] - 0s 26ms/step - loss: 156393456.0000 - mse: 156393456.0000 - mae: 12110.0850 - mape: 89.5981 - smape: 162.5681 - val_loss: 130905032.0000 - val_mse: 130905032.0000 - val_mae: 10721.3730 - val_mape: 87.0423 - val_smape: 154.6926\n",
            "Epoch 37/200\n",
            "1/1 [==============================] - 0s 26ms/step - loss: 154288256.0000 - mse: 154288256.0000 - mae: 12022.8379 - mape: 88.9038 - smape: 160.3324 - val_loss: 128973984.0000 - val_mse: 128973984.0000 - val_mae: 10630.9014 - val_mape: 86.2016 - val_smape: 152.1380\n",
            "Epoch 38/200\n",
            "1/1 [==============================] - 0s 26ms/step - loss: 152121360.0000 - mse: 152121360.0000 - mae: 11932.3662 - mape: 88.1837 - smape: 158.0448 - val_loss: 126991192.0000 - val_mse: 126991192.0000 - val_mae: 10537.1982 - val_mape: 85.3308 - val_smape: 149.5342\n",
            "Epoch 39/200\n",
            "1/1 [==============================] - 0s 27ms/step - loss: 149894304.0000 - mse: 149894304.0000 - mae: 11838.6631 - mape: 87.4380 - smape: 155.7076 - val_loss: 124958376.0000 - val_mse: 124958376.0000 - val_mae: 10440.2578 - val_mape: 84.4299 - val_smape: 146.8844\n",
            "Epoch 40/200\n",
            "1/1 [==============================] - 0s 26ms/step - loss: 147608800.0000 - mse: 147608800.0000 - mae: 11741.7236 - mape: 86.6665 - smape: 153.3234 - val_loss: 122877376.0000 - val_mse: 122877376.0000 - val_mae: 10340.0801 - val_mape: 83.4990 - val_smape: 144.1918\n",
            "Epoch 41/200\n",
            "1/1 [==============================] - 0s 26ms/step - loss: 145266656.0000 - mse: 145266656.0000 - mae: 11641.5439 - mape: 85.8692 - smape: 150.8948 - val_loss: 120750176.0000 - val_mse: 120750176.0000 - val_mae: 10236.6631 - val_mape: 82.5379 - val_smape: 141.4595\n",
            "Epoch 42/200\n",
            "1/1 [==============================] - 0s 26ms/step - loss: 142869904.0000 - mse: 142869904.0000 - mae: 11538.1279 - mape: 85.0462 - smape: 148.4244 - val_loss: 118578904.0000 - val_mse: 118578904.0000 - val_mae: 10130.0156 - val_mape: 81.5469 - val_smape: 138.6908\n",
            "Epoch 43/200\n",
            "1/1 [==============================] - 0s 26ms/step - loss: 140420656.0000 - mse: 140420656.0000 - mae: 11431.4814 - mape: 84.1975 - smape: 145.9150 - val_loss: 116365784.0000 - val_mse: 116365784.0000 - val_mae: 10020.1465 - val_mape: 80.5258 - val_smape: 135.8891\n",
            "Epoch 44/200\n",
            "1/1 [==============================] - 0s 26ms/step - loss: 137921168.0000 - mse: 137921168.0000 - mae: 11321.6113 - mape: 83.3231 - smape: 143.3692 - val_loss: 114113240.0000 - val_mse: 114113240.0000 - val_mae: 9907.0684 - val_mape: 79.4750 - val_smape: 133.0576\n",
            "Epoch 45/200\n",
            "1/1 [==============================] - 0s 26ms/step - loss: 135373920.0000 - mse: 135373920.0000 - mae: 11208.5332 - mape: 82.4231 - smape: 140.7900 - val_loss: 111823736.0000 - val_mse: 111823736.0000 - val_mae: 9790.7959 - val_mape: 78.3945 - val_smape: 130.1995\n",
            "Epoch 46/200\n",
            "1/1 [==============================] - 0s 27ms/step - loss: 132781400.0000 - mse: 132781400.0000 - mae: 11092.2607 - mape: 81.4978 - smape: 138.1801 - val_loss: 109499944.0000 - val_mse: 109499944.0000 - val_mae: 9671.3545 - val_mape: 77.2846 - val_smape: 127.3183\n",
            "Epoch 47/200\n",
            "1/1 [==============================] - 0s 28ms/step - loss: 130146312.0000 - mse: 130146312.0000 - mae: 10972.8193 - mape: 80.5472 - smape: 135.5424 - val_loss: 107144576.0000 - val_mse: 107144576.0000 - val_mae: 9548.7646 - val_mape: 76.1454 - val_smape: 124.4171\n",
            "Epoch 48/200\n",
            "1/1 [==============================] - 0s 26ms/step - loss: 127471472.0000 - mse: 127471472.0000 - mae: 10850.2285 - mape: 79.5716 - smape: 132.8798 - val_loss: 104760488.0000 - val_mse: 104760488.0000 - val_mae: 9423.0547 - val_mape: 74.9772 - val_smape: 121.4992\n",
            "Epoch 49/200\n",
            "1/1 [==============================] - 0s 26ms/step - loss: 124759784.0000 - mse: 124759784.0000 - mae: 10724.5205 - mape: 78.5712 - smape: 130.1950 - val_loss: 102350632.0000 - val_mse: 102350632.0000 - val_mae: 9294.2607 - val_mape: 73.7803 - val_smape: 118.5677\n",
            "Epoch 50/200\n",
            "1/1 [==============================] - 0s 27ms/step - loss: 122014296.0000 - mse: 122014296.0000 - mae: 10595.7266 - mape: 77.5462 - smape: 127.4911 - val_loss: 99918088.0000 - val_mse: 99918088.0000 - val_mae: 9162.4170 - val_mape: 72.5551 - val_smape: 115.6259\n",
            "Epoch 51/200\n",
            "1/1 [==============================] - 0s 26ms/step - loss: 119238160.0000 - mse: 119238160.0000 - mae: 10463.8818 - mape: 76.4969 - smape: 124.7706 - val_loss: 97465976.0000 - val_mse: 97465976.0000 - val_mae: 9027.5645 - val_mape: 71.3020 - val_smape: 112.6767\n",
            "Epoch 52/200\n",
            "1/1 [==============================] - 0s 26ms/step - loss: 116434648.0000 - mse: 116434648.0000 - mae: 10329.0303 - mape: 75.4237 - smape: 122.0366 - val_loss: 94997544.0000 - val_mse: 94997544.0000 - val_mae: 8889.7490 - val_mape: 70.0213 - val_smape: 109.7231\n",
            "Epoch 53/200\n",
            "1/1 [==============================] - 0s 30ms/step - loss: 113607080.0000 - mse: 113607080.0000 - mae: 10191.2129 - mape: 74.3269 - smape: 119.2918 - val_loss: 92516072.0000 - val_mse: 92516072.0000 - val_mae: 8749.0176 - val_mape: 68.7135 - val_smape: 106.7682\n",
            "Epoch 54/200\n",
            "1/1 [==============================] - 0s 28ms/step - loss: 110758896.0000 - mse: 110758896.0000 - mae: 10050.4834 - mape: 73.2069 - smape: 116.5388 - val_loss: 90024984.0000 - val_mse: 90024984.0000 - val_mae: 8605.4258 - val_mape: 67.3792 - val_smape: 103.8148\n",
            "Epoch 55/200\n",
            "1/1 [==============================] - 0s 26ms/step - loss: 107893632.0000 - mse: 107893632.0000 - mae: 9906.8906 - mape: 72.0642 - smape: 113.7805 - val_loss: 87527704.0000 - val_mse: 87527704.0000 - val_mae: 8459.0312 - val_mape: 66.0188 - val_smape: 100.8657\n",
            "Epoch 56/200\n",
            "1/1 [==============================] - 0s 27ms/step - loss: 105014888.0000 - mse: 105014888.0000 - mae: 9760.4951 - mape: 70.8991 - smape: 111.0194 - val_loss: 85027712.0000 - val_mse: 85027712.0000 - val_mae: 8309.8945 - val_mape: 64.6329 - val_smape: 97.9235\n",
            "Epoch 57/200\n",
            "1/1 [==============================] - 0s 26ms/step - loss: 102126280.0000 - mse: 102126280.0000 - mae: 9611.3594 - mape: 69.7123 - smape: 108.2582 - val_loss: 82528576.0000 - val_mse: 82528576.0000 - val_mae: 8158.0845 - val_mape: 63.2222 - val_smape: 94.9909\n",
            "Epoch 58/200\n",
            "1/1 [==============================] - 0s 27ms/step - loss: 99231560.0000 - mse: 99231560.0000 - mae: 9459.5488 - mape: 68.5041 - smape: 105.4993 - val_loss: 80033848.0000 - val_mse: 80033848.0000 - val_mae: 8003.6699 - val_mape: 61.7873 - val_smape: 92.0705\n",
            "Epoch 59/200\n",
            "1/1 [==============================] - 0s 27ms/step - loss: 96334464.0000 - mse: 96334464.0000 - mae: 9305.1348 - mape: 67.2752 - smape: 102.7453 - val_loss: 77547128.0000 - val_mse: 77547128.0000 - val_mae: 7846.7285 - val_mape: 60.3289 - val_smape: 89.1645\n",
            "Epoch 60/200\n",
            "1/1 [==============================] - 0s 26ms/step - loss: 93438808.0000 - mse: 93438808.0000 - mae: 9148.1934 - mape: 66.0263 - smape: 99.9986 - val_loss: 75072040.0000 - val_mse: 75072040.0000 - val_mae: 7687.3394 - val_mape: 58.8478 - val_smape: 86.2755\n",
            "Epoch 61/200\n",
            "1/1 [==============================] - 0s 27ms/step - loss: 90548400.0000 - mse: 90548400.0000 - mae: 8988.8037 - mape: 64.7578 - smape: 97.2614 - val_loss: 72612200.0000 - val_mse: 72612200.0000 - val_mae: 7525.5884 - val_mape: 57.3448 - val_smape: 83.4055\n",
            "Epoch 62/200\n",
            "1/1 [==============================] - 0s 27ms/step - loss: 87667080.0000 - mse: 87667080.0000 - mae: 8827.0537 - mape: 63.4706 - smape: 94.5362 - val_loss: 70171224.0000 - val_mse: 70171224.0000 - val_mae: 7361.5645 - val_mape: 55.8206 - val_smape: 80.5569\n",
            "Epoch 63/200\n",
            "1/1 [==============================] - 0s 26ms/step - loss: 84798712.0000 - mse: 84798712.0000 - mae: 8663.0303 - mape: 62.1653 - smape: 91.8250 - val_loss: 67752704.0000 - val_mse: 67752704.0000 - val_mae: 7195.3647 - val_mape: 54.2762 - val_smape: 77.7316\n",
            "Epoch 64/200\n",
            "1/1 [==============================] - 0s 28ms/step - loss: 81947120.0000 - mse: 81947120.0000 - mae: 8496.8291 - mape: 60.8426 - smape: 89.1300 - val_loss: 65360208.0000 - val_mse: 65360208.0000 - val_mae: 7027.0845 - val_mape: 52.7125 - val_smape: 74.9315\n",
            "Epoch 65/200\n",
            "1/1 [==============================] - 0s 28ms/step - loss: 79116120.0000 - mse: 79116120.0000 - mae: 8328.5498 - mape: 59.5034 - smape: 86.4533 - val_loss: 62997268.0000 - val_mse: 62997268.0000 - val_mae: 6856.8320 - val_mape: 51.1305 - val_smape: 72.1587\n",
            "Epoch 66/200\n",
            "1/1 [==============================] - 0s 28ms/step - loss: 76309544.0000 - mse: 76309544.0000 - mae: 8158.2969 - mape: 58.1486 - smape: 83.7968 - val_loss: 60667360.0000 - val_mse: 60667360.0000 - val_mae: 6684.7144 - val_mape: 49.5311 - val_smape: 69.4148\n",
            "Epoch 67/200\n",
            "1/1 [==============================] - 0s 28ms/step - loss: 73531128.0000 - mse: 73531128.0000 - mae: 7986.1787 - mape: 56.7788 - smape: 81.1625 - val_loss: 58373884.0000 - val_mse: 58373884.0000 - val_mae: 6510.8452 - val_mape: 47.9155 - val_smape: 66.7015\n",
            "Epoch 68/200\n",
            "1/1 [==============================] - 0s 27ms/step - loss: 70784576.0000 - mse: 70784576.0000 - mae: 7812.3096 - mape: 55.3952 - smape: 78.5521 - val_loss: 56120172.0000 - val_mse: 56120172.0000 - val_mae: 6335.3452 - val_mape: 46.2848 - val_smape: 64.0205\n",
            "Epoch 69/200\n",
            "1/1 [==============================] - 0s 27ms/step - loss: 68073544.0000 - mse: 68073544.0000 - mae: 7636.8096 - mape: 53.9986 - smape: 75.9675 - val_loss: 53909492.0000 - val_mse: 53909492.0000 - val_mae: 6164.8125 - val_mape: 44.7514 - val_smape: 61.4834\n",
            "Epoch 70/200\n",
            "1/1 [==============================] - 0s 27ms/step - loss: 65401592.0000 - mse: 65401592.0000 - mae: 7459.8018 - mape: 52.5900 - smape: 73.4102 - val_loss: 51744960.0000 - val_mse: 51744960.0000 - val_mae: 5994.8921 - val_mape: 43.2396 - val_smape: 59.0116\n",
            "Epoch 71/200\n",
            "1/1 [==============================] - 0s 27ms/step - loss: 62772192.0000 - mse: 62772192.0000 - mae: 7281.4165 - mape: 51.1704 - smape: 70.8820 - val_loss: 49629620.0000 - val_mse: 49629620.0000 - val_mae: 5823.7852 - val_mape: 41.7171 - val_smape: 56.5730\n",
            "Epoch 72/200\n",
            "1/1 [==============================] - 0s 27ms/step - loss: 60188728.0000 - mse: 60188728.0000 - mae: 7101.7852 - mape: 49.7409 - smape: 68.3842 - val_loss: 47566364.0000 - val_mse: 47566364.0000 - val_mae: 5656.3960 - val_mape: 40.2591 - val_smape: 54.2424\n",
            "Epoch 73/200\n",
            "1/1 [==============================] - 0s 28ms/step - loss: 57654456.0000 - mse: 57654456.0000 - mae: 6921.0493 - mape: 48.3027 - smape: 65.9185 - val_loss: 45557952.0000 - val_mse: 45557952.0000 - val_mae: 5491.9683 - val_mape: 38.8529 - val_smape: 52.0042\n",
            "Epoch 74/200\n",
            "1/1 [==============================] - 0s 27ms/step - loss: 55172516.0000 - mse: 55172516.0000 - mae: 6739.3506 - mape: 46.8568 - smape: 63.4862 - val_loss: 43607004.0000 - val_mse: 43607004.0000 - val_mae: 5332.8628 - val_mape: 37.5326 - val_smape: 49.8913\n",
            "Epoch 75/200\n",
            "1/1 [==============================] - 0s 28ms/step - loss: 52745892.0000 - mse: 52745892.0000 - mae: 6556.8384 - mape: 45.4044 - smape: 61.0886 - val_loss: 41715948.0000 - val_mse: 41715948.0000 - val_mae: 5175.7144 - val_mape: 36.2460 - val_smape: 47.8490\n",
            "Epoch 76/200\n",
            "1/1 [==============================] - 0s 26ms/step - loss: 50377432.0000 - mse: 50377432.0000 - mae: 6373.6665 - mape: 43.9468 - smape: 58.7269 - val_loss: 39887068.0000 - val_mse: 39887068.0000 - val_mae: 5022.6016 - val_mape: 35.0176 - val_smape: 45.9009\n",
            "Epoch 77/200\n",
            "1/1 [==============================] - 0s 26ms/step - loss: 48069804.0000 - mse: 48069804.0000 - mae: 6189.9922 - mape: 42.4852 - smape: 56.4024 - val_loss: 38122424.0000 - val_mse: 38122424.0000 - val_mae: 4873.5254 - val_mape: 33.8466 - val_smape: 44.0438\n",
            "Epoch 78/200\n",
            "1/1 [==============================] - 0s 26ms/step - loss: 45825536.0000 - mse: 45825536.0000 - mae: 6009.1333 - mape: 41.0645 - smape: 54.1592 - val_loss: 36423908.0000 - val_mse: 36423908.0000 - val_mae: 4726.4780 - val_mape: 32.7024 - val_smape: 42.2466\n",
            "Epoch 79/200\n",
            "1/1 [==============================] - 0s 26ms/step - loss: 43646912.0000 - mse: 43646912.0000 - mae: 5828.6841 - mape: 39.6505 - smape: 51.9622 - val_loss: 34793196.0000 - val_mse: 34793196.0000 - val_mae: 4586.1440 - val_mape: 31.6447 - val_smape: 40.5668\n",
            "Epoch 80/200\n",
            "1/1 [==============================] - 0s 27ms/step - loss: 41536056.0000 - mse: 41536056.0000 - mae: 5650.8237 - mape: 38.2699 - smape: 49.8374 - val_loss: 33231728.0000 - val_mse: 33231728.0000 - val_mae: 4465.0591 - val_mape: 30.8317 - val_smape: 39.1589\n",
            "Epoch 81/200\n",
            "1/1 [==============================] - 0s 27ms/step - loss: 39494880.0000 - mse: 39494880.0000 - mae: 5480.9692 - mape: 36.9904 - smape: 47.8508 - val_loss: 31740736.0000 - val_mse: 31740736.0000 - val_mae: 4375.1807 - val_mape: 30.4078 - val_smape: 38.1599\n",
            "Epoch 82/200\n",
            "1/1 [==============================] - 0s 26ms/step - loss: 37525060.0000 - mse: 37525060.0000 - mae: 5322.5596 - mape: 35.8521 - smape: 46.0387 - val_loss: 30321210.0000 - val_mse: 30321210.0000 - val_mae: 4297.9990 - val_mape: 30.1382 - val_smape: 37.3284\n",
            "Epoch 83/200\n",
            "1/1 [==============================] - 0s 27ms/step - loss: 35628068.0000 - mse: 35628068.0000 - mae: 5179.3115 - mape: 34.8980 - smape: 44.4406 - val_loss: 28973888.0000 - val_mse: 28973888.0000 - val_mae: 4234.5879 - val_mape: 30.0357 - val_smape: 36.6746\n",
            "Epoch 84/200\n",
            "1/1 [==============================] - 0s 26ms/step - loss: 33805124.0000 - mse: 33805124.0000 - mae: 5038.0552 - mape: 33.9654 - smape: 42.8910 - val_loss: 27699270.0000 - val_mse: 27699270.0000 - val_mae: 4174.0850 - val_mape: 29.9654 - val_smape: 36.0611\n",
            "Epoch 85/200\n",
            "1/1 [==============================] - 0s 27ms/step - loss: 32057202.0000 - mse: 32057202.0000 - mae: 4903.6313 - mape: 33.1102 - smape: 41.4451 - val_loss: 26497594.0000 - val_mse: 26497594.0000 - val_mae: 4113.9468 - val_mape: 29.8954 - val_smape: 35.4567\n",
            "Epoch 86/200\n",
            "1/1 [==============================] - 0s 27ms/step - loss: 30385052.0000 - mse: 30385052.0000 - mae: 4774.6431 - mape: 32.3133 - smape: 40.0817 - val_loss: 25368864.0000 - val_mse: 25368864.0000 - val_mae: 4054.2375 - val_mape: 29.8259 - val_smape: 34.8621\n",
            "Epoch 87/200\n",
            "1/1 [==============================] - 0s 28ms/step - loss: 28789158.0000 - mse: 28789158.0000 - mae: 4646.5635 - mape: 31.5220 - smape: 38.7475 - val_loss: 24312790.0000 - val_mse: 24312790.0000 - val_mae: 3995.0222 - val_mape: 29.7570 - val_smape: 34.2775\n",
            "Epoch 88/200\n",
            "1/1 [==============================] - 0s 26ms/step - loss: 27269732.0000 - mse: 27269732.0000 - mae: 4519.5298 - mape: 30.7371 - smape: 37.4431 - val_loss: 23328834.0000 - val_mse: 23328834.0000 - val_mae: 3936.3633 - val_mape: 29.6887 - val_smape: 33.7037\n",
            "Epoch 89/200\n",
            "1/1 [==============================] - 0s 26ms/step - loss: 25826766.0000 - mse: 25826766.0000 - mae: 4395.6494 - mape: 29.9810 - smape: 36.1905 - val_loss: 22416238.0000 - val_mse: 22416238.0000 - val_mae: 3878.3281 - val_mape: 29.6211 - val_smape: 33.1410\n",
            "Epoch 90/200\n",
            "1/1 [==============================] - 0s 26ms/step - loss: 24459966.0000 - mse: 24459966.0000 - mae: 4282.6182 - mape: 29.3348 - smape: 35.0691 - val_loss: 21573952.0000 - val_mse: 21573952.0000 - val_mae: 3825.5574 - val_mape: 29.6015 - val_smape: 32.6368\n",
            "Epoch 91/200\n",
            "1/1 [==============================] - 0s 26ms/step - loss: 23168810.0000 - mse: 23168810.0000 - mae: 4176.9209 - mape: 28.7577 - smape: 34.0364 - val_loss: 20800688.0000 - val_mse: 20800688.0000 - val_mae: 3790.9192 - val_mape: 29.7605 - val_smape: 32.3202\n",
            "Epoch 92/200\n",
            "1/1 [==============================] - 0s 28ms/step - loss: 21952492.0000 - mse: 21952492.0000 - mae: 4076.2852 - mape: 28.2254 - smape: 33.0671 - val_loss: 20094926.0000 - val_mse: 20094926.0000 - val_mae: 3766.7004 - val_mape: 30.0186 - val_smape: 32.1094\n",
            "Epoch 93/200\n",
            "1/1 [==============================] - 0s 27ms/step - loss: 20810002.0000 - mse: 20810002.0000 - mae: 3983.1211 - mape: 27.7624 - smape: 32.1843 - val_loss: 19454908.0000 - val_mse: 19454908.0000 - val_mae: 3742.8391 - val_mape: 30.2724 - val_smape: 31.9009\n",
            "Epoch 94/200\n",
            "1/1 [==============================] - 0s 26ms/step - loss: 19740062.0000 - mse: 19740062.0000 - mae: 3892.3069 - mape: 27.3158 - smape: 31.3345 - val_loss: 18878666.0000 - val_mse: 18878666.0000 - val_mae: 3719.3625 - val_mape: 30.5216 - val_smape: 31.6954\n",
            "Epoch 95/200\n",
            "1/1 [==============================] - 0s 26ms/step - loss: 18741186.0000 - mse: 18741186.0000 - mae: 3803.0425 - mape: 26.8768 - smape: 30.5087 - val_loss: 18364010.0000 - val_mse: 18364010.0000 - val_mae: 3696.2959 - val_mape: 30.7659 - val_smape: 31.4929\n",
            "Epoch 96/200\n",
            "1/1 [==============================] - 0s 27ms/step - loss: 17811650.0000 - mse: 17811650.0000 - mae: 3715.4250 - mape: 26.4458 - smape: 29.7070 - val_loss: 17908580.0000 - val_mse: 17908580.0000 - val_mae: 3676.1406 - val_mape: 31.0280 - val_smape: 31.3169\n",
            "Epoch 97/200\n",
            "1/1 [==============================] - 0s 27ms/step - loss: 16949550.0000 - mse: 16949550.0000 - mae: 3629.5525 - mape: 26.0235 - smape: 28.9299 - val_loss: 17509826.0000 - val_mse: 17509826.0000 - val_mae: 3661.3164 - val_mape: 31.3299 - val_smape: 31.1891\n",
            "Epoch 98/200\n",
            "1/1 [==============================] - 0s 26ms/step - loss: 16152776.0000 - mse: 16152776.0000 - mae: 3548.1814 - mape: 25.6348 - smape: 28.2019 - val_loss: 17165046.0000 - val_mse: 17165046.0000 - val_mae: 3653.2542 - val_mape: 31.6823 - val_smape: 31.1204\n",
            "Epoch 99/200\n",
            "1/1 [==============================] - 0s 26ms/step - loss: 15419051.0000 - mse: 15419051.0000 - mae: 3469.0293 - mape: 25.2583 - smape: 27.5010 - val_loss: 16871408.0000 - val_mse: 16871408.0000 - val_mae: 3647.7844 - val_mape: 32.0478 - val_smape: 31.0734\n",
            "Epoch 100/200\n",
            "1/1 [==============================] - 0s 26ms/step - loss: 14745941.0000 - mse: 14745941.0000 - mae: 3396.2307 - mape: 24.9310 - smape: 26.8638 - val_loss: 16625959.0000 - val_mse: 16625959.0000 - val_mae: 3647.7844 - val_mape: 32.4525 - val_smape: 31.0743\n",
            "Epoch 101/200\n",
            "1/1 [==============================] - 0s 26ms/step - loss: 14130871.0000 - mse: 14130871.0000 - mae: 3328.5945 - mape: 24.6416 - smape: 26.2784 - val_loss: 16425651.0000 - val_mse: 16425651.0000 - val_mae: 3647.7844 - val_mape: 32.8459 - val_smape: 31.0730\n",
            "Epoch 102/200\n",
            "1/1 [==============================] - 0s 25ms/step - loss: 13571165.0000 - mse: 13571165.0000 - mae: 3263.7817 - mape: 24.3687 - smape: 25.7226 - val_loss: 16267371.0000 - val_mse: 16267371.0000 - val_mae: 3647.7844 - val_mape: 33.2276 - val_smape: 31.0697\n",
            "Epoch 103/200\n",
            "1/1 [==============================] - 0s 26ms/step - loss: 13064029.0000 - mse: 13064029.0000 - mae: 3203.8381 - mape: 24.1294 - smape: 25.2134 - val_loss: 16147955.0000 - val_mse: 16147955.0000 - val_mae: 3647.7844 - val_mape: 33.5972 - val_smape: 31.0647\n",
            "Epoch 104/200\n",
            "1/1 [==============================] - 0s 25ms/step - loss: 12606609.0000 - mse: 12606609.0000 - mae: 3148.0920 - mape: 23.9175 - smape: 24.7440 - val_loss: 16064224.0000 - val_mse: 16064224.0000 - val_mae: 3647.7842 - val_mape: 33.9545 - val_smape: 31.0582\n",
            "Epoch 105/200\n",
            "1/1 [==============================] - 0s 26ms/step - loss: 12195994.0000 - mse: 12195994.0000 - mae: 3094.1702 - mape: 23.7125 - smape: 24.2935 - val_loss: 16012987.0000 - val_mse: 16012987.0000 - val_mae: 3647.7844 - val_mape: 34.2992 - val_smape: 31.0504\n",
            "Epoch 106/200\n",
            "1/1 [==============================] - 0s 26ms/step - loss: 11829239.0000 - mse: 11829239.0000 - mae: 3044.3459 - mape: 23.5335 - smape: 23.8809 - val_loss: 15991085.0000 - val_mse: 15991085.0000 - val_mae: 3647.7844 - val_mape: 34.6310 - val_smape: 31.0416\n",
            "Epoch 107/200\n",
            "1/1 [==============================] - 0s 25ms/step - loss: 11503395.0000 - mse: 11503395.0000 - mae: 2999.0522 - mape: 23.3840 - smape: 23.5092 - val_loss: 15995409.0000 - val_mse: 15995409.0000 - val_mae: 3647.7844 - val_mape: 34.9498 - val_smape: 31.0319\n",
            "Epoch 108/200\n",
            "1/1 [==============================] - 0s 40ms/step - loss: 11215526.0000 - mse: 11215526.0000 - mae: 2956.4390 - mape: 23.2477 - smape: 23.1617 - val_loss: 16022905.0000 - val_mse: 16022905.0000 - val_mae: 3647.7844 - val_mape: 35.2554 - val_smape: 31.0216\n",
            "Epoch 109/200\n",
            "1/1 [==============================] - 0s 30ms/step - loss: 10962722.0000 - mse: 10962722.0000 - mae: 2916.9070 - mape: 23.1277 - smape: 22.8413 - val_loss: 16070619.0000 - val_mse: 16070619.0000 - val_mae: 3647.7844 - val_mape: 35.5477 - val_smape: 31.0107\n",
            "Epoch 110/200\n",
            "1/1 [==============================] - 0s 26ms/step - loss: 10742127.0000 - mse: 10742127.0000 - mae: 2880.3596 - mape: 23.0231 - smape: 22.5467 - val_loss: 16135693.0000 - val_mse: 16135693.0000 - val_mae: 3647.7844 - val_mape: 35.8266 - val_smape: 30.9995\n",
            "Epoch 111/200\n",
            "1/1 [==============================] - 0s 28ms/step - loss: 10550958.0000 - mse: 10550958.0000 - mae: 2846.1853 - mape: 22.9289 - smape: 22.2728 - val_loss: 16215396.0000 - val_mse: 16215396.0000 - val_mae: 3647.7844 - val_mape: 36.0922 - val_smape: 30.9881\n",
            "Epoch 112/200\n",
            "1/1 [==============================] - 0s 27ms/step - loss: 10386513.0000 - mse: 10386513.0000 - mae: 2814.4983 - mape: 22.8461 - smape: 22.0202 - val_loss: 16307136.0000 - val_mse: 16307136.0000 - val_mae: 3647.7844 - val_mape: 36.3443 - val_smape: 30.9766\n",
            "Epoch 113/200\n",
            "1/1 [==============================] - 0s 26ms/step - loss: 10246198.0000 - mse: 10246198.0000 - mae: 2785.2500 - mape: 22.7743 - smape: 21.7883 - val_loss: 16408469.0000 - val_mse: 16408469.0000 - val_mae: 3647.7844 - val_mape: 36.5832 - val_smape: 30.9651\n",
            "Epoch 114/200\n",
            "1/1 [==============================] - 0s 26ms/step - loss: 10127522.0000 - mse: 10127522.0000 - mae: 2757.5090 - mape: 22.7060 - smape: 21.5694 - val_loss: 16517117.0000 - val_mse: 16517117.0000 - val_mae: 3647.7842 - val_mape: 36.8087 - val_smape: 30.9538\n",
            "Epoch 115/200\n",
            "1/1 [==============================] - 0s 26ms/step - loss: 10028133.0000 - mse: 10028133.0000 - mae: 2731.2671 - mape: 22.6412 - smape: 21.3633 - val_loss: 16630960.0000 - val_mse: 16630960.0000 - val_mae: 3647.7842 - val_mape: 37.0212 - val_smape: 30.9427\n",
            "Epoch 116/200\n",
            "1/1 [==============================] - 0s 25ms/step - loss: 9945799.0000 - mse: 9945799.0000 - mae: 2706.5090 - mape: 22.5799 - smape: 21.1696 - val_loss: 16748067.0000 - val_mse: 16748067.0000 - val_mae: 3647.7842 - val_mape: 37.2207 - val_smape: 30.9319\n",
            "Epoch 117/200\n",
            "1/1 [==============================] - 0s 28ms/step - loss: 9878441.0000 - mse: 9878441.0000 - mae: 2684.5896 - mape: 22.5324 - smape: 20.9985 - val_loss: 16866672.0000 - val_mse: 16866672.0000 - val_mae: 3647.7842 - val_mape: 37.4075 - val_smape: 30.9214\n",
            "Epoch 118/200\n",
            "1/1 [==============================] - 0s 26ms/step - loss: 9824118.0000 - mse: 9824118.0000 - mae: 2664.1360 - mape: 22.4884 - smape: 20.8394 - val_loss: 16985194.0000 - val_mse: 16985194.0000 - val_mae: 3647.7842 - val_mape: 37.5817 - val_smape: 30.9114\n",
            "Epoch 119/200\n",
            "1/1 [==============================] - 0s 26ms/step - loss: 9781039.0000 - mse: 9781039.0000 - mae: 2645.0117 - mape: 22.4471 - smape: 20.6911 - val_loss: 17102234.0000 - val_mse: 17102234.0000 - val_mae: 3649.6653 - val_mape: 37.7578 - val_smape: 30.9158\n",
            "Epoch 120/200\n",
            "1/1 [==============================] - 0s 27ms/step - loss: 9747565.0000 - mse: 9747565.0000 - mae: 2627.2817 - mape: 22.4091 - smape: 20.5541 - val_loss: 17216562.0000 - val_mse: 17216562.0000 - val_mae: 3654.7197 - val_mape: 37.9456 - val_smape: 30.9445\n",
            "Epoch 121/200\n",
            "1/1 [==============================] - 0s 28ms/step - loss: 9722207.0000 - mse: 9722207.0000 - mae: 2613.0090 - mape: 22.3899 - smape: 20.4436 - val_loss: 17327122.0000 - val_mse: 17327122.0000 - val_mae: 3659.3850 - val_mape: 38.1190 - val_smape: 30.9706\n",
            "Epoch 122/200\n",
            "1/1 [==============================] - 0s 27ms/step - loss: 9703613.0000 - mse: 9703613.0000 - mae: 2600.8376 - mape: 22.3796 - smape: 20.3492 - val_loss: 17433018.0000 - val_mse: 17433018.0000 - val_mae: 3663.6731 - val_mape: 38.2783 - val_smape: 30.9944\n",
            "Epoch 123/200\n",
            "1/1 [==============================] - 0s 26ms/step - loss: 9690583.0000 - mse: 9690583.0000 - mae: 2589.6252 - mape: 22.3699 - smape: 20.2625 - val_loss: 17533522.0000 - val_mse: 17533522.0000 - val_mae: 3667.5969 - val_mape: 38.4239 - val_smape: 31.0159\n",
            "Epoch 124/200\n",
            "1/1 [==============================] - 0s 25ms/step - loss: 9682048.0000 - mse: 9682048.0000 - mae: 2579.4126 - mape: 22.3613 - smape: 20.1836 - val_loss: 17628046.0000 - val_mse: 17628046.0000 - val_mae: 3671.1692 - val_mape: 38.5564 - val_smape: 31.0353\n",
            "Epoch 125/200\n",
            "1/1 [==============================] - 0s 25ms/step - loss: 9677074.0000 - mse: 9677074.0000 - mae: 2570.9988 - mape: 22.3602 - smape: 20.1186 - val_loss: 17716136.0000 - val_mse: 17716136.0000 - val_mae: 3674.4033 - val_mape: 38.6763 - val_smape: 31.0528\n",
            "Epoch 126/200\n",
            "1/1 [==============================] - 0s 36ms/step - loss: 9674843.0000 - mse: 9674843.0000 - mae: 2563.7263 - mape: 22.3617 - smape: 20.0625 - val_loss: 17797478.0000 - val_mse: 17797478.0000 - val_mae: 3677.3132 - val_mape: 38.7840 - val_smape: 31.0684\n"
          ]
        }
      ],
      "source": [
        "model = init_model(X_train, y_train)\n",
        "\n",
        "model, history = fit_model(model)\n"
      ]
    },
    {
      "cell_type": "code",
      "execution_count": 26,
      "metadata": {
        "colab": {
          "base_uri": "https://localhost:8080/",
          "height": 312
        },
        "id": "SY9oLnDKWebV",
        "outputId": "dc7ce3f0-c75b-4086-a571-f06c8271b463"
      },
      "outputs": [
        {
          "data": {
            "text/plain": [
              "array([<Axes: title={'center': 'MSE'}, xlabel='Epoch', ylabel='Loss'>,\n",
              "       <Axes: title={'center': 'MAE'}, xlabel='Epoch', ylabel='MAE'>],\n",
              "      dtype=object)"
            ]
          },
          "execution_count": 26,
          "metadata": {},
          "output_type": "execute_result"
        },
        {
          "data": {
            "image/png": "[encoded data removed]",
            "text/plain": [
              "<Figure size 2000x700 with 2 Axes>"
            ]
          },
          "metadata": {},
          "output_type": "display_data"
        }
      ],
      "source": [
        "plot_history(history)\n"
      ]
    },
    {
      "cell_type": "code",
      "execution_count": 27,
      "metadata": {
        "colab": {
          "base_uri": "https://localhost:8080/"
        },
        "id": "H-2hKhXuWebV",
        "outputId": "20870ef9-c3a1-4cbc-fa03-fed44bca8f5f"
      },
      "outputs": [
        {
          "name": "stdout",
          "output_type": "stream",
          "text": [
            "1/1 [==============================] - 0s 23ms/step - loss: 1045316.6250 - mse: 1045316.6250 - mae: 917.2785 - mape: 8.3216 - smape: 7.9225\n"
          ]
        },
        {
          "data": {
            "text/plain": [
              "[1045316.625,\n",
              " 1045316.625,\n",
              " 917.2785034179688,\n",
              " 8.321645736694336,\n",
              " 7.922476768493652]"
            ]
          },
          "execution_count": 27,
          "metadata": {},
          "output_type": "execute_result"
        }
      ],
      "source": [
        "res = model.evaluate(X_test,y_test)\n",
        "res\n"
      ]
    },
    {
      "cell_type": "code",
      "execution_count": 28,
      "metadata": {
        "colab": {
          "base_uri": "https://localhost:8080/"
        },
        "id": "QRDv9VTYMhsa",
        "outputId": "077fedf7-9518-4b3b-cb28-c3c3bd35f420"
      },
      "outputs": [
        {
          "name": "stdout",
          "output_type": "stream",
          "text": [
            "Improvement over baseline model is -0.7313635146874911 %\n"
          ]
        }
      ],
      "source": [
        "print(f'Improvement over baseline model is {((baseline_score[0] - res[2])/baseline_score[0])*100} %')\n"
      ]
    },
    {
      "cell_type": "code",
      "execution_count": 29,
      "metadata": {
        "colab": {
          "base_uri": "https://localhost:8080/"
        },
        "id": "58zm3zuVm8Hs",
        "outputId": "949ea6e8-e116-44d6-8525-b0df7e44f467"
      },
      "outputs": [
        {
          "data": {
            "text/plain": [
              "((4, 7, 14), (20, 7, 14), (4, 7), (20, 7))"
            ]
          },
          "execution_count": 29,
          "metadata": {},
          "output_type": "execute_result"
        }
      ],
      "source": [
        "X_test.shape , X_train.shape, y_test.shape, y_train.shape\n"
      ]
    },
    {
      "cell_type": "code",
      "execution_count": 30,
      "metadata": {
        "colab": {
          "base_uri": "https://localhost:8080/"
        },
        "id": "Wmgqm_lzQdbP",
        "outputId": "cbca9bd6-e765-49c4-9401-32f68701c63a"
      },
      "outputs": [
        {
          "name": "stdout",
          "output_type": "stream",
          "text": [
            "1/1 [==============================] - 1s 736ms/step\n"
          ]
        },
        {
          "data": {
            "text/plain": [
              "0    377.374023\n",
              "1    377.373047\n",
              "2    377.372070\n",
              "3    377.373047\n",
              "Name: diff, dtype: float32"
            ]
          },
          "execution_count": 30,
          "metadata": {},
          "output_type": "execute_result"
        }
      ],
      "source": [
        "pf = pd.DataFrame(model.predict(X_test))   #, y_test[2]\n",
        "pf['diff'] = pf.iloc[:][OUTPUT_LENGTH - 1] - pf.iloc[:][0]\n",
        "pf['diff']\n"
      ]
    },
    {
      "cell_type": "markdown",
      "metadata": {
        "id": "pwxLskyinPI9"
      },
      "source": [
        "Did the model predict the correct movement up or down at the end of the forecast?"
      ]
    },
    {
      "cell_type": "code",
      "execution_count": 31,
      "metadata": {
        "colab": {
          "base_uri": "https://localhost:8080/"
        },
        "id": "4DrdBvTL_hni",
        "outputId": "f889e511-ba33-4340-8a8d-2b7d58ad1ed2"
      },
      "outputs": [],
      "source": [
        "def end_of_forecast_predictions():\n",
        "    TP = 0\n",
        "    TN = 0\n",
        "    FP = 0\n",
        "    FN = 0\n",
        "\n",
        "    for j in range(y_test.shape[0]):\n",
        "        if model.predict(X_test)[j][-1] > model.predict(X_test)[j][0] and y_test[j][-1] > y_test[j][0]:\n",
        "            TP += 1\n",
        "        if model.predict(X_test)[j][-1] < model.predict(X_test)[j][0] and y_test[j][-1] < y_test[j][0]:\n",
        "            TN += 1\n",
        "        if model.predict(X_test)[j][-1] > model.predict(X_test)[j][0] and y_test[j][-1] < y_test[j][0]:\n",
        "            FP += 1\n",
        "        if model.predict(X_test)[j][-1] < model.predict(X_test)[j][0] and y_test[j][-1] > y_test[j][0]:\n",
        "            FN += 1\n",
        "    matrix = pd.DataFrame(np.array([[TN,FP],[FN,TP]]),index = ['Actual down','Actual up'])\n",
        "\n",
        "    matrix.columns=['Predicted down','Predicted up']\n",
        "\n",
        "\n",
        "    print (f'Accuracy = {100 * (TP + TN)/(TP + TN + FP + FN)} %')\n",
        "    print (f'Precision = {100 * TP /(TP + FP)} %')\n",
        "    print (f'Recall = {100 * TP /(TP + FN)} %')\n",
        "    print (f'f1 Score -  = {(2 * (TP /(TP + FP)) * (TP /(TP + FN))) / ((TP /(TP + FP)) + (TP /(TP + FN)))}')\n",
        "\n",
        "    return matrix\n"
      ]
    },
    {
      "cell_type": "code",
      "execution_count": 32,
      "metadata": {
        "colab": {
          "base_uri": "https://localhost:8080/",
          "height": 125
        },
        "id": "jaOuvD0A_keV",
        "outputId": "bffd82f2-8e51-4c54-9fd8-df9d3934e5ee"
      },
      "outputs": [
        {
          "name": "stdout",
          "output_type": "stream",
          "text": [
            "1/1 [==============================] - 0s 16ms/step\n"
          ]
        },
        {
          "name": "stdout",
          "output_type": "stream",
          "text": [
            "1/1 [==============================] - 0s 27ms/step\n",
            "1/1 [==============================] - 0s 16ms/step\n",
            "1/1 [==============================] - 0s 22ms/step\n",
            "1/1 [==============================] - 0s 15ms/step\n",
            "1/1 [==============================] - 0s 16ms/step\n",
            "1/1 [==============================] - 0s 16ms/step\n",
            "1/1 [==============================] - 0s 17ms/step\n",
            "1/1 [==============================] - 0s 14ms/step\n",
            "1/1 [==============================] - 0s 16ms/step\n",
            "1/1 [==============================] - 0s 13ms/step\n",
            "1/1 [==============================] - 0s 14ms/step\n",
            "1/1 [==============================] - 0s 13ms/step\n",
            "1/1 [==============================] - 0s 14ms/step\n",
            "1/1 [==============================] - 0s 13ms/step\n",
            "1/1 [==============================] - 0s 14ms/step\n",
            "1/1 [==============================] - 0s 14ms/step\n",
            "1/1 [==============================] - 0s 14ms/step\n",
            "1/1 [==============================] - 0s 15ms/step\n",
            "1/1 [==============================] - 0s 14ms/step\n",
            "1/1 [==============================] - 0s 15ms/step\n",
            "1/1 [==============================] - 0s 14ms/step\n",
            "1/1 [==============================] - 0s 14ms/step\n",
            "1/1 [==============================] - 0s 14ms/step\n",
            "1/1 [==============================] - 0s 13ms/step\n",
            "1/1 [==============================] - 0s 14ms/step\n",
            "1/1 [==============================] - 0s 14ms/step\n",
            "1/1 [==============================] - 0s 15ms/step\n",
            "1/1 [==============================] - 0s 14ms/step\n",
            "1/1 [==============================] - 0s 14ms/step\n",
            "1/1 [==============================] - 0s 14ms/step\n",
            "1/1 [==============================] - 0s 24ms/step\n",
            "Accuracy = 25.0 %\n",
            "Precision = 25.0 %\n",
            "Recall = 100.0 %\n",
            "f1 Score -  = 0.4\n"
          ]
        },
        {
          "data": {
            "text/html": [
              "<div>\n",
              "<style scoped>\n",
              "    .dataframe tbody tr th:only-of-type {\n",
              "        vertical-align: middle;\n",
              "    }\n",
              "\n",
              "    .dataframe tbody tr th {\n",
              "        vertical-align: top;\n",
              "    }\n",
              "\n",
              "    .dataframe thead th {\n",
              "        text-align: right;\n",
              "    }\n",
              "</style>\n",
              "<table border=\"1\" class=\"dataframe\">\n",
              "  <thead>\n",
              "    <tr style=\"text-align: right;\">\n",
              "      <th></th>\n",
              "      <th>Predicted down</th>\n",
              "      <th>Predicted up</th>\n",
              "    </tr>\n",
              "  </thead>\n",
              "  <tbody>\n",
              "    <tr>\n",
              "      <th>Actual down</th>\n",
              "      <td>0</td>\n",
              "      <td>3</td>\n",
              "    </tr>\n",
              "    <tr>\n",
              "      <th>Actual up</th>\n",
              "      <td>0</td>\n",
              "      <td>1</td>\n",
              "    </tr>\n",
              "  </tbody>\n",
              "</table>\n",
              "</div>"
            ],
            "text/plain": [
              "             Predicted down  Predicted up\n",
              "Actual down               0             3\n",
              "Actual up                 0             1"
            ]
          },
          "execution_count": 32,
          "metadata": {},
          "output_type": "execute_result"
        }
      ],
      "source": [
        "end_of_forecast_predictions()\n"
      ]
    },
    {
      "cell_type": "markdown",
      "metadata": {
        "id": "KDQlVJFhnAjZ"
      },
      "source": [
        "How many total correct movements did\n",
        "it predict day to day?"
      ]
    },
    {
      "cell_type": "code",
      "execution_count": 33,
      "metadata": {
        "colab": {
          "base_uri": "https://localhost:8080/"
        },
        "id": "BOU8Bb20zR3i",
        "outputId": "94a5596f-e466-4baa-9a2e-5a0307ff2290"
      },
      "outputs": [],
      "source": [
        "def daily_movenemt_predictions():\n",
        "    TPD = 0\n",
        "    TND = 0\n",
        "    FPD = 0\n",
        "    FND = 0\n",
        "    for j in range(y_test.shape[0]):\n",
        "        for i in range(y_test.shape[1]-1):\n",
        "            if (model.predict(X_test)[j][i+1] > model.predict(X_test)[j][i] and y_test[j][i+1] > y_test[j][i]):\n",
        "                TPD +=1\n",
        "            if (model.predict(X_test)[j][i+1] < model.predict(X_test)[j][i] and y_test[j][i+1] < y_test[j][i]):\n",
        "                TND +=1\n",
        "            if (model.predict(X_test)[j][i+1] > model.predict(X_test)[j][i] and y_test[j][i+1] < y_test[j][i]):\n",
        "                FPD +=1\n",
        "            if (model.predict(X_test)[j][i+1] < model.predict(X_test)[j][i] and y_test[j][i+1] > y_test[j][i]):\n",
        "                FND +=1\n",
        "\n",
        "    matrix2 = pd.DataFrame(np.array([[TND,FPD],[FND,TPD]]),index = ['Actual down daily','Actual up daily'])\n",
        "\n",
        "    matrix2.columns=['Predicted down daily','Predicted up daily']\n",
        "\n",
        "    print (f'Accuracy (Daily) = {100 * (TPD + TND)/(TPD + TND + FPD + FND)} %')\n",
        "    print (f'Precision (Daily) = {100 * TPD /(TPD + FPD)} %')\n",
        "    print (f'Recall (Daily) = {100 * TPD /(TPD + FND)} %')\n",
        "    print (f'f1 Score (Daily) = {(2 * (TPD /(TPD + FPD)) * (TPD /(TPD + FND))) / ((TPD /(TPD + FPD)) + (TPD /(TPD + FND)))}')\n",
        "\n",
        "    return matrix2\n"
      ]
    },
    {
      "cell_type": "code",
      "execution_count": 34,
      "metadata": {
        "colab": {
          "base_uri": "https://localhost:8080/",
          "height": 125
        },
        "id": "kMSPlejYvDkc",
        "outputId": "a8b7e151-5dd2-4595-965c-25c10eafd74b"
      },
      "outputs": [
        {
          "name": "stdout",
          "output_type": "stream",
          "text": [
            "1/1 [==============================] - 0s 14ms/step\n"
          ]
        },
        {
          "name": "stdout",
          "output_type": "stream",
          "text": [
            "1/1 [==============================] - 0s 18ms/step\n",
            "1/1 [==============================] - 0s 13ms/step\n",
            "1/1 [==============================] - 0s 14ms/step\n",
            "1/1 [==============================] - 0s 14ms/step\n",
            "1/1 [==============================] - 0s 14ms/step\n",
            "1/1 [==============================] - 0s 13ms/step\n",
            "1/1 [==============================] - 0s 14ms/step\n",
            "1/1 [==============================] - 0s 15ms/step\n",
            "1/1 [==============================] - 0s 14ms/step\n",
            "1/1 [==============================] - 0s 13ms/step\n",
            "1/1 [==============================] - 0s 13ms/step\n",
            "1/1 [==============================] - 0s 14ms/step\n",
            "1/1 [==============================] - 0s 15ms/step\n",
            "1/1 [==============================] - 0s 14ms/step\n",
            "1/1 [==============================] - 0s 14ms/step\n",
            "1/1 [==============================] - 0s 14ms/step\n",
            "1/1 [==============================] - 0s 14ms/step\n",
            "1/1 [==============================] - 0s 14ms/step\n",
            "1/1 [==============================] - 0s 14ms/step\n",
            "1/1 [==============================] - 0s 14ms/step\n",
            "1/1 [==============================] - 0s 14ms/step\n",
            "1/1 [==============================] - 0s 13ms/step\n",
            "1/1 [==============================] - 0s 13ms/step\n",
            "1/1 [==============================] - 0s 14ms/step\n",
            "1/1 [==============================] - 0s 13ms/step\n",
            "1/1 [==============================] - 0s 13ms/step\n",
            "1/1 [==============================] - 0s 17ms/step\n",
            "1/1 [==============================] - 0s 15ms/step\n",
            "1/1 [==============================] - 0s 15ms/step\n",
            "1/1 [==============================] - 0s 14ms/step\n",
            "1/1 [==============================] - 0s 15ms/step\n",
            "1/1 [==============================] - 0s 15ms/step\n",
            "1/1 [==============================] - 0s 15ms/step\n",
            "1/1 [==============================] - 0s 15ms/step\n",
            "1/1 [==============================] - 0s 15ms/step\n",
            "1/1 [==============================] - 0s 14ms/step\n",
            "1/1 [==============================] - 0s 14ms/step\n",
            "1/1 [==============================] - 0s 13ms/step\n",
            "1/1 [==============================] - 0s 13ms/step\n",
            "1/1 [==============================] - 0s 14ms/step\n",
            "1/1 [==============================] - 0s 13ms/step\n",
            "1/1 [==============================] - 0s 13ms/step\n",
            "1/1 [==============================] - 0s 15ms/step\n",
            "1/1 [==============================] - 0s 14ms/step\n",
            "1/1 [==============================] - 0s 13ms/step\n",
            "1/1 [==============================] - 0s 14ms/step\n",
            "1/1 [==============================] - 0s 14ms/step\n",
            "1/1 [==============================] - 0s 14ms/step\n",
            "1/1 [==============================] - 0s 14ms/step\n",
            "1/1 [==============================] - 0s 14ms/step\n",
            "1/1 [==============================] - 0s 14ms/step\n",
            "1/1 [==============================] - 0s 14ms/step\n",
            "1/1 [==============================] - 0s 14ms/step\n",
            "1/1 [==============================] - 0s 14ms/step\n",
            "1/1 [==============================] - 0s 14ms/step\n",
            "1/1 [==============================] - 0s 14ms/step\n",
            "1/1 [==============================] - 0s 13ms/step\n",
            "1/1 [==============================] - 0s 15ms/step\n",
            "1/1 [==============================] - 0s 14ms/step\n",
            "1/1 [==============================] - 0s 14ms/step\n",
            "1/1 [==============================] - 0s 14ms/step\n",
            "1/1 [==============================] - 0s 14ms/step\n",
            "1/1 [==============================] - 0s 14ms/step\n",
            "1/1 [==============================] - 0s 13ms/step\n",
            "1/1 [==============================] - 0s 13ms/step\n",
            "1/1 [==============================] - 0s 14ms/step\n",
            "1/1 [==============================] - 0s 14ms/step\n",
            "1/1 [==============================] - 0s 14ms/step\n",
            "1/1 [==============================] - 0s 14ms/step\n",
            "1/1 [==============================] - 0s 14ms/step\n",
            "1/1 [==============================] - 0s 14ms/step\n",
            "1/1 [==============================] - 0s 13ms/step\n",
            "1/1 [==============================] - 0s 14ms/step\n",
            "1/1 [==============================] - 0s 14ms/step\n",
            "1/1 [==============================] - 0s 13ms/step\n",
            "1/1 [==============================] - 0s 14ms/step\n",
            "1/1 [==============================] - 0s 14ms/step\n",
            "1/1 [==============================] - 0s 14ms/step\n",
            "1/1 [==============================] - 0s 13ms/step\n",
            "1/1 [==============================] - 0s 14ms/step\n",
            "1/1 [==============================] - 0s 13ms/step\n",
            "1/1 [==============================] - 0s 14ms/step\n",
            "1/1 [==============================] - 0s 13ms/step\n",
            "1/1 [==============================] - 0s 14ms/step\n",
            "1/1 [==============================] - 0s 13ms/step\n",
            "1/1 [==============================] - 0s 14ms/step\n",
            "1/1 [==============================] - 0s 14ms/step\n",
            "1/1 [==============================] - 0s 14ms/step\n",
            "1/1 [==============================] - 0s 15ms/step\n",
            "1/1 [==============================] - 0s 14ms/step\n",
            "1/1 [==============================] - 0s 13ms/step\n",
            "1/1 [==============================] - 0s 14ms/step\n",
            "1/1 [==============================] - 0s 14ms/step\n",
            "1/1 [==============================] - 0s 14ms/step\n",
            "1/1 [==============================] - 0s 14ms/step\n",
            "1/1 [==============================] - 0s 14ms/step\n",
            "1/1 [==============================] - 0s 14ms/step\n",
            "1/1 [==============================] - 0s 14ms/step\n",
            "1/1 [==============================] - 0s 13ms/step\n",
            "1/1 [==============================] - 0s 14ms/step\n",
            "1/1 [==============================] - 0s 14ms/step\n",
            "1/1 [==============================] - 0s 14ms/step\n",
            "1/1 [==============================] - 0s 13ms/step\n",
            "1/1 [==============================] - 0s 14ms/step\n",
            "1/1 [==============================] - 0s 13ms/step\n",
            "1/1 [==============================] - 0s 13ms/step\n",
            "1/1 [==============================] - 0s 14ms/step\n",
            "1/1 [==============================] - 0s 14ms/step\n",
            "1/1 [==============================] - 0s 14ms/step\n",
            "1/1 [==============================] - 0s 19ms/step\n",
            "1/1 [==============================] - 0s 24ms/step\n",
            "1/1 [==============================] - 0s 42ms/step\n",
            "1/1 [==============================] - 0s 34ms/step\n",
            "1/1 [==============================] - 0s 19ms/step\n",
            "1/1 [==============================] - 0s 25ms/step\n",
            "1/1 [==============================] - 0s 15ms/step\n",
            "1/1 [==============================] - 0s 14ms/step\n",
            "1/1 [==============================] - 0s 14ms/step\n",
            "1/1 [==============================] - 0s 20ms/step\n",
            "1/1 [==============================] - 0s 14ms/step\n",
            "1/1 [==============================] - 0s 14ms/step\n",
            "1/1 [==============================] - 0s 19ms/step\n",
            "1/1 [==============================] - 0s 15ms/step\n",
            "1/1 [==============================] - 0s 14ms/step\n",
            "1/1 [==============================] - 0s 15ms/step\n",
            "1/1 [==============================] - 0s 14ms/step\n",
            "1/1 [==============================] - 0s 14ms/step\n",
            "1/1 [==============================] - 0s 13ms/step\n",
            "1/1 [==============================] - 0s 14ms/step\n",
            "1/1 [==============================] - 0s 13ms/step\n",
            "1/1 [==============================] - 0s 14ms/step\n",
            "1/1 [==============================] - 0s 13ms/step\n",
            "1/1 [==============================] - 0s 13ms/step\n",
            "1/1 [==============================] - 0s 14ms/step\n",
            "1/1 [==============================] - 0s 14ms/step\n",
            "1/1 [==============================] - 0s 16ms/step\n",
            "1/1 [==============================] - 0s 15ms/step\n",
            "1/1 [==============================] - 0s 14ms/step\n",
            "1/1 [==============================] - 0s 14ms/step\n",
            "1/1 [==============================] - 0s 14ms/step\n",
            "1/1 [==============================] - 0s 13ms/step\n",
            "1/1 [==============================] - 0s 14ms/step\n",
            "1/1 [==============================] - 0s 14ms/step\n",
            "1/1 [==============================] - 0s 14ms/step\n",
            "1/1 [==============================] - 0s 16ms/step\n",
            "1/1 [==============================] - 0s 14ms/step\n",
            "1/1 [==============================] - 0s 15ms/step\n",
            "1/1 [==============================] - 0s 15ms/step\n",
            "1/1 [==============================] - 0s 13ms/step\n",
            "1/1 [==============================] - 0s 14ms/step\n",
            "1/1 [==============================] - 0s 13ms/step\n",
            "1/1 [==============================] - 0s 14ms/step\n",
            "1/1 [==============================] - 0s 13ms/step\n",
            "1/1 [==============================] - 0s 13ms/step\n",
            "1/1 [==============================] - 0s 14ms/step\n",
            "1/1 [==============================] - 0s 14ms/step\n",
            "1/1 [==============================] - 0s 14ms/step\n",
            "1/1 [==============================] - 0s 13ms/step\n",
            "1/1 [==============================] - 0s 14ms/step\n",
            "1/1 [==============================] - 0s 14ms/step\n",
            "1/1 [==============================] - 0s 14ms/step\n",
            "1/1 [==============================] - 0s 14ms/step\n",
            "1/1 [==============================] - 0s 14ms/step\n",
            "1/1 [==============================] - 0s 14ms/step\n",
            "1/1 [==============================] - 0s 14ms/step\n",
            "1/1 [==============================] - 0s 16ms/step\n",
            "1/1 [==============================] - 0s 16ms/step\n",
            "1/1 [==============================] - 0s 15ms/step\n",
            "1/1 [==============================] - 0s 14ms/step\n",
            "1/1 [==============================] - 0s 14ms/step\n",
            "1/1 [==============================] - 0s 14ms/step\n",
            "1/1 [==============================] - 0s 14ms/step\n",
            "1/1 [==============================] - 0s 15ms/step\n",
            "1/1 [==============================] - 0s 14ms/step\n",
            "1/1 [==============================] - 0s 14ms/step\n",
            "1/1 [==============================] - 0s 14ms/step\n",
            "1/1 [==============================] - 0s 13ms/step\n",
            "1/1 [==============================] - 0s 14ms/step\n",
            "1/1 [==============================] - 0s 14ms/step\n",
            "1/1 [==============================] - 0s 13ms/step\n",
            "1/1 [==============================] - 0s 13ms/step\n",
            "1/1 [==============================] - 0s 13ms/step\n",
            "1/1 [==============================] - 0s 14ms/step\n",
            "1/1 [==============================] - 0s 14ms/step\n",
            "1/1 [==============================] - 0s 13ms/step\n",
            "1/1 [==============================] - 0s 14ms/step\n",
            "1/1 [==============================] - 0s 14ms/step\n",
            "1/1 [==============================] - 0s 14ms/step\n",
            "1/1 [==============================] - 0s 15ms/step\n",
            "1/1 [==============================] - 0s 14ms/step\n",
            "1/1 [==============================] - 0s 14ms/step\n",
            "Accuracy (Daily) = 54.166666666666664 %\n",
            "Precision (Daily) = 56.25 %\n",
            "Recall (Daily) = 69.23076923076923 %\n",
            "f1 Score (Daily) = 0.6206896551724138\n"
          ]
        },
        {
          "data": {
            "text/html": [
              "<div>\n",
              "<style scoped>\n",
              "    .dataframe tbody tr th:only-of-type {\n",
              "        vertical-align: middle;\n",
              "    }\n",
              "\n",
              "    .dataframe tbody tr th {\n",
              "        vertical-align: top;\n",
              "    }\n",
              "\n",
              "    .dataframe thead th {\n",
              "        text-align: right;\n",
              "    }\n",
              "</style>\n",
              "<table border=\"1\" class=\"dataframe\">\n",
              "  <thead>\n",
              "    <tr style=\"text-align: right;\">\n",
              "      <th></th>\n",
              "      <th>Predicted down daily</th>\n",
              "      <th>Predicted up daily</th>\n",
              "    </tr>\n",
              "  </thead>\n",
              "  <tbody>\n",
              "    <tr>\n",
              "      <th>Actual down daily</th>\n",
              "      <td>4</td>\n",
              "      <td>7</td>\n",
              "    </tr>\n",
              "    <tr>\n",
              "      <th>Actual up daily</th>\n",
              "      <td>4</td>\n",
              "      <td>9</td>\n",
              "    </tr>\n",
              "  </tbody>\n",
              "</table>\n",
              "</div>"
            ],
            "text/plain": [
              "                   Predicted down daily  Predicted up daily\n",
              "Actual down daily                     4                   7\n",
              "Actual up daily                       4                   9"
            ]
          },
          "execution_count": 34,
          "metadata": {},
          "output_type": "execute_result"
        }
      ],
      "source": [
        "daily_movenemt_predictions()\n"
      ]
    },
    {
      "cell_type": "markdown",
      "metadata": {
        "id": "bhc6IHa0WebV"
      },
      "source": [
        "#### All this was for one fold, now we need to Cross validate on all folds"
      ]
    },
    {
      "cell_type": "markdown",
      "metadata": {
        "id": "CPw_sivDWebV"
      },
      "source": [
        "### Step 3. Cross Validation"
      ]
    },
    {
      "cell_type": "markdown",
      "metadata": {
        "id": "kQY2hTb1WebV"
      },
      "source": [
        "#### * Funtion to Cross Validate for Baseline and LSTM Models in for loop"
      ]
    },
    {
      "cell_type": "code",
      "execution_count": 35,
      "metadata": {
        "id": "6ADxZTAOWebV"
      },
      "outputs": [],
      "source": [
        "def cross_validate_baseline_and_lstm():\n",
        "    '''\n",
        "    This function cross-validates\n",
        "    - the \"last seen value\" baseline model\n",
        "    - the RNN model\n",
        "    '''\n",
        "\n",
        "    list_of_mae_baseline_model = []\n",
        "    list_of_mae_recurrent_model = []\n",
        "\n",
        "    # 0 - Creating folds\n",
        "    # =========================================\n",
        "    folds = get_folds(df_new, FOLD_LENGTH, FOLD_STRIDE)\n",
        "\n",
        "    for fold_id, fold in enumerate(folds):\n",
        "\n",
        "        # 1 - Train/Test split the current fold\n",
        "\n",
        "        (fold_train, fold_test) = temporal_train_test_split(fold, TRAIN_TEST_RATIO, INPUT_LENGTH)\n",
        "\n",
        "        X_train, y_train = get_X_y_7(fold=fold_train,\n",
        "                           input_length=INPUT_LENGTH,\n",
        "                           output_length=OUTPUT_LENGTH,\n",
        "                           stride=STRIDE)\n",
        "        X_test, y_test = get_X_y_7(fold=fold_train,\n",
        "                           input_length=INPUT_LENGTH,\n",
        "                           output_length=OUTPUT_LENGTH,\n",
        "                           stride=STRIDE)\n",
        "\n",
        "        # 2 - Modelling\n",
        "\n",
        "        ##### Baseline Model\n",
        "        mae_baseline = last_seen_value_baseline(X_test, y_test)[0]\n",
        "        list_of_mae_baseline_model.append(mae_baseline)\n",
        "        print(\"-\"*50)\n",
        "        print(f\"MAE baseline fold n°{fold_id} = {round(mae_baseline, 2)}\")\n",
        "\n",
        "        ##### LSTM Model\n",
        "        model = init_model(X_train, y_train)\n",
        "        history = fit_model(model)\n",
        "        res = model.evaluate(X_test, y_test, verbose=0)\n",
        "        mae_lstm = res[2]\n",
        "        list_of_mae_recurrent_model.append(mae_lstm)\n",
        "        print(f\"MAE LSTM fold n°{fold_id} = {round(mae_lstm, 2)}\")\n",
        "\n",
        "        ##### Comparison LSTM vs Baseline for the current fold\n",
        "        print(f\"🏋🏽‍♂️ improvement over baseline: {round((1 - (mae_lstm/mae_baseline))*100,2)} % \\n\")\n",
        "\n",
        "    return list_of_mae_baseline_model, list_of_mae_recurrent_model\n"
      ]
    },
    {
      "cell_type": "code",
      "execution_count": 36,
      "metadata": {
        "id": "u5N862TxWebW"
      },
      "outputs": [],
      "source": [
        "#mae_baselines, mae_lstms = cross_validate_baseline_and_lstm()\n"
      ]
    },
    {
      "cell_type": "code",
      "execution_count": 37,
      "metadata": {
        "colab": {
          "base_uri": "https://localhost:8080/",
          "height": 250
        },
        "id": "UeOTXn8iWebW",
        "outputId": "327e69ba-f5f3-4c9e-87e3-14fc77784a22"
      },
      "outputs": [
        {
          "ename": "NameError",
          "evalue": "name 'mae_lstms' is not defined",
          "output_type": "error",
          "traceback": [
            "\u001b[0;31m---------------------------------------------------------------------------\u001b[0m",
            "\u001b[0;31mNameError\u001b[0m                                 Traceback (most recent call last)",
            "\u001b[1;32m/Users/joekorban/code/J0eDub/crypto_market_assistant/notebooks/Joseph_7days.ipynb Cell 67\u001b[0m line \u001b[0;36m1\n\u001b[0;32m----> <a href='vscode-notebook-cell:/Users/joekorban/code/J0eDub/crypto_market_assistant/notebooks/Joseph_7days.ipynb#Y123sZmlsZQ%3D%3D?line=0'>1</a>\u001b[0m \u001b[39mprint\u001b[39m(\u001b[39mf\u001b[39m\u001b[39m\"\u001b[39m\u001b[39maverage percentage improvement over baseline = \u001b[39m\u001b[39m{\u001b[39;00m\u001b[39mround\u001b[39m(np\u001b[39m.\u001b[39mmean(\u001b[39m1\u001b[39m\u001b[39m \u001b[39m\u001b[39m-\u001b[39m\u001b[39m \u001b[39m(np\u001b[39m.\u001b[39marray(mae_lstms)\u001b[39m/\u001b[39mnp\u001b[39m.\u001b[39marray(mae_baselines))),\u001b[39m2\u001b[39m)\u001b[39m*\u001b[39m\u001b[39m100\u001b[39m\u001b[39m}\u001b[39;00m\u001b[39m%\u001b[39m\u001b[39m\"\u001b[39m)\n",
            "\u001b[0;31mNameError\u001b[0m: name 'mae_lstms' is not defined"
          ]
        }
      ],
      "source": [
        "print(f\"average percentage improvement over baseline = {round(np.mean(1 - (np.array(mae_lstms)/np.array(mae_baselines))),2)*100}%\")\n"
      ]
    },
    {
      "cell_type": "code",
      "execution_count": null,
      "metadata": {
        "id": "oeebfFacxYk3"
      },
      "outputs": [],
      "source": []
    }
  ],
  "metadata": {
    "accelerator": "GPU",
    "colab": {
      "gpuType": "T4",
      "machine_shape": "hm",
      "provenance": []
    },
    "kernelspec": {
      "display_name": "Python 3",
      "name": "python3"
    },
    "language_info": {
      "codemirror_mode": {
        "name": "ipython",
        "version": 3
      },
      "file_extension": ".py",
      "mimetype": "text/x-python",
      "name": "python",
      "nbconvert_exporter": "python",
      "pygments_lexer": "ipython3",
      "version": "3.10.6"
    }
  },
  "nbformat": 4,
  "nbformat_minor": 0
}
