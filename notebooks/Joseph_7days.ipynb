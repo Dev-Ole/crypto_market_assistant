{
  "cells": [
    {
      "cell_type": "markdown",
      "metadata": {
        "id": "_-r71jEGWebE"
      },
      "source": [
        "# Joseph Korban's Notebook"
      ]
    },
    {
      "cell_type": "markdown",
      "metadata": {
        "id": "WKIpZHaUWebF"
      },
      "source": [
        "## Goal: DL Model for 7 days\n"
      ]
    },
    {
      "cell_type": "markdown",
      "metadata": {
        "id": "VAwYSRAuWebF"
      },
      "source": [
        "#### Preliminary Steps"
      ]
    },
    {
      "cell_type": "code",
      "execution_count": 26,
      "metadata": {
        "id": "Z7ACktisV8lt"
      },
      "outputs": [],
      "source": [
        "import pandas as pd\n",
        "import numpy as np\n",
        "\n",
        "import matplotlib.pyplot as plt\n",
        "import seaborn as sns\n",
        "\n",
        "import os\n",
        "\n",
        "import tensorflow as tf\n",
        "from crypto_assist.data_preprocess import preprocessor_not_scaled\n"
      ]
    },
    {
      "cell_type": "code",
      "execution_count": 27,
      "metadata": {
        "id": "wke5eLbpuluH"
      },
      "outputs": [
        {
          "name": "stdout",
          "output_type": "stream",
          "text": [
            "            time      open      high       low     close    volume BTC  \\\n",
            "0     2017-08-17   4261.48   4485.39   4200.74   4285.08    795.150377   \n",
            "1     2017-08-18   4285.08   4371.52   3938.77   4108.37   1199.888264   \n",
            "2     2017-08-19   4108.37   4184.69   3850.00   4139.98    381.309763   \n",
            "3     2017-08-20   4139.98   4211.08   4032.62   4086.29    467.083022   \n",
            "4     2017-08-21   4069.13   4119.62   3911.79   4016.00    691.743060   \n",
            "...          ...       ...       ...       ...       ...           ...   \n",
            "2299  2023-12-03  39450.35  40250.00  39274.86  39972.26  26710.653350   \n",
            "2300  2023-12-04  39972.26  42420.00  39972.26  41991.10  79272.330590   \n",
            "2301  2023-12-05  41991.10  44488.00  41414.00  44073.32  67490.746440   \n",
            "2302  2023-12-06  44073.82  44297.21  43335.28  43762.69  51431.104920   \n",
            "2303  2023-12-07  43762.69  44047.33  42821.10  43273.14  47103.268450   \n",
            "\n",
            "        volume USD        RSI  RSI_class        ADX  ADX_class  \n",
            "0     3.454770e+06  50.000000          0   0.000000          1  \n",
            "1     5.086958e+06  50.000000          0   0.000000          1  \n",
            "2     1.549484e+06  50.000000          0   0.000000          1  \n",
            "3     1.930364e+06  50.000000          0   0.000000          1  \n",
            "4     2.797232e+06  50.000000          0   0.000000          1  \n",
            "...            ...        ...        ...        ...        ...  \n",
            "2299  1.059861e+09  70.702721          1  44.436432          2  \n",
            "2300  3.285737e+09  77.134115          1  45.836661          2  \n",
            "2301  2.890205e+09  81.616552          1  47.693335          2  \n",
            "2302  2.256980e+09  79.124603          1  49.417390          2  \n",
            "2303  2.046946e+09  75.226356          1  50.296646          3  \n",
            "\n",
            "[2304 rows x 11 columns]\n",
            "✅ Data has been merged\n",
            "✅ Data has been imputed\n",
            "✅ Data has been processed\n"
          ]
        },
        {
          "data": {
            "text/html": [
              "<div>\n",
              "<style scoped>\n",
              "    .dataframe tbody tr th:only-of-type {\n",
              "        vertical-align: middle;\n",
              "    }\n",
              "\n",
              "    .dataframe tbody tr th {\n",
              "        vertical-align: top;\n",
              "    }\n",
              "\n",
              "    .dataframe thead th {\n",
              "        text-align: right;\n",
              "    }\n",
              "</style>\n",
              "<table border=\"1\" class=\"dataframe\">\n",
              "  <thead>\n",
              "    <tr style=\"text-align: right;\">\n",
              "      <th></th>\n",
              "      <th>open</th>\n",
              "      <th>high</th>\n",
              "      <th>low</th>\n",
              "      <th>close</th>\n",
              "      <th>volume USD</th>\n",
              "      <th>RSI</th>\n",
              "      <th>ADX</th>\n",
              "      <th>FAGI_score</th>\n",
              "      <th>scored_title</th>\n",
              "      <th>scored_text</th>\n",
              "      <th>average_score</th>\n",
              "      <th>reddit_subscribers</th>\n",
              "      <th>reddit_comments_per_day</th>\n",
              "      <th>FAGI_sentiment_encoded</th>\n",
              "    </tr>\n",
              "  </thead>\n",
              "  <tbody>\n",
              "    <tr>\n",
              "      <th>0</th>\n",
              "      <td>4261.48</td>\n",
              "      <td>4485.39</td>\n",
              "      <td>4200.74</td>\n",
              "      <td>4285.08</td>\n",
              "      <td>3.454770e+06</td>\n",
              "      <td>50.000000</td>\n",
              "      <td>0.000000</td>\n",
              "      <td>50.0</td>\n",
              "      <td>0.000000</td>\n",
              "      <td>0.000000</td>\n",
              "      <td>0.000000</td>\n",
              "      <td>1.000000e+03</td>\n",
              "      <td>699.824346</td>\n",
              "      <td>2.0</td>\n",
              "    </tr>\n",
              "    <tr>\n",
              "      <th>1</th>\n",
              "      <td>4285.08</td>\n",
              "      <td>4371.52</td>\n",
              "      <td>3938.77</td>\n",
              "      <td>4108.37</td>\n",
              "      <td>5.086958e+06</td>\n",
              "      <td>50.000000</td>\n",
              "      <td>0.000000</td>\n",
              "      <td>50.0</td>\n",
              "      <td>0.000000</td>\n",
              "      <td>0.000000</td>\n",
              "      <td>0.000000</td>\n",
              "      <td>1.419855e+03</td>\n",
              "      <td>699.824346</td>\n",
              "      <td>2.0</td>\n",
              "    </tr>\n",
              "    <tr>\n",
              "      <th>2</th>\n",
              "      <td>4108.37</td>\n",
              "      <td>4184.69</td>\n",
              "      <td>3850.00</td>\n",
              "      <td>4139.98</td>\n",
              "      <td>1.549484e+06</td>\n",
              "      <td>50.000000</td>\n",
              "      <td>0.000000</td>\n",
              "      <td>50.0</td>\n",
              "      <td>0.000000</td>\n",
              "      <td>0.000000</td>\n",
              "      <td>0.000000</td>\n",
              "      <td>1.839711e+03</td>\n",
              "      <td>699.824346</td>\n",
              "      <td>2.0</td>\n",
              "    </tr>\n",
              "    <tr>\n",
              "      <th>3</th>\n",
              "      <td>4139.98</td>\n",
              "      <td>4211.08</td>\n",
              "      <td>4032.62</td>\n",
              "      <td>4086.29</td>\n",
              "      <td>1.930364e+06</td>\n",
              "      <td>50.000000</td>\n",
              "      <td>0.000000</td>\n",
              "      <td>50.0</td>\n",
              "      <td>0.000000</td>\n",
              "      <td>0.000000</td>\n",
              "      <td>0.000000</td>\n",
              "      <td>2.259566e+03</td>\n",
              "      <td>699.824346</td>\n",
              "      <td>2.0</td>\n",
              "    </tr>\n",
              "    <tr>\n",
              "      <th>4</th>\n",
              "      <td>4069.13</td>\n",
              "      <td>4119.62</td>\n",
              "      <td>3911.79</td>\n",
              "      <td>4016.00</td>\n",
              "      <td>2.797232e+06</td>\n",
              "      <td>50.000000</td>\n",
              "      <td>0.000000</td>\n",
              "      <td>50.0</td>\n",
              "      <td>0.000000</td>\n",
              "      <td>0.000000</td>\n",
              "      <td>0.000000</td>\n",
              "      <td>2.679422e+03</td>\n",
              "      <td>699.824346</td>\n",
              "      <td>2.0</td>\n",
              "    </tr>\n",
              "    <tr>\n",
              "      <th>...</th>\n",
              "      <td>...</td>\n",
              "      <td>...</td>\n",
              "      <td>...</td>\n",
              "      <td>...</td>\n",
              "      <td>...</td>\n",
              "      <td>...</td>\n",
              "      <td>...</td>\n",
              "      <td>...</td>\n",
              "      <td>...</td>\n",
              "      <td>...</td>\n",
              "      <td>...</td>\n",
              "      <td>...</td>\n",
              "      <td>...</td>\n",
              "      <td>...</td>\n",
              "    </tr>\n",
              "    <tr>\n",
              "      <th>2299</th>\n",
              "      <td>39450.35</td>\n",
              "      <td>40250.00</td>\n",
              "      <td>39274.86</td>\n",
              "      <td>39972.26</td>\n",
              "      <td>1.059861e+09</td>\n",
              "      <td>70.702721</td>\n",
              "      <td>44.436432</td>\n",
              "      <td>73.0</td>\n",
              "      <td>0.324950</td>\n",
              "      <td>0.944111</td>\n",
              "      <td>0.634530</td>\n",
              "      <td>2.594931e+06</td>\n",
              "      <td>699.824346</td>\n",
              "      <td>3.0</td>\n",
              "    </tr>\n",
              "    <tr>\n",
              "      <th>2300</th>\n",
              "      <td>39972.26</td>\n",
              "      <td>42420.00</td>\n",
              "      <td>39972.26</td>\n",
              "      <td>41991.10</td>\n",
              "      <td>3.285737e+09</td>\n",
              "      <td>77.134115</td>\n",
              "      <td>45.836661</td>\n",
              "      <td>74.0</td>\n",
              "      <td>0.400351</td>\n",
              "      <td>0.543259</td>\n",
              "      <td>0.471805</td>\n",
              "      <td>2.594931e+06</td>\n",
              "      <td>699.824346</td>\n",
              "      <td>3.0</td>\n",
              "    </tr>\n",
              "    <tr>\n",
              "      <th>2301</th>\n",
              "      <td>41991.10</td>\n",
              "      <td>44488.00</td>\n",
              "      <td>41414.00</td>\n",
              "      <td>44073.32</td>\n",
              "      <td>2.890205e+09</td>\n",
              "      <td>81.616552</td>\n",
              "      <td>47.693335</td>\n",
              "      <td>75.0</td>\n",
              "      <td>0.344162</td>\n",
              "      <td>0.655111</td>\n",
              "      <td>0.499637</td>\n",
              "      <td>2.594931e+06</td>\n",
              "      <td>699.824346</td>\n",
              "      <td>3.0</td>\n",
              "    </tr>\n",
              "    <tr>\n",
              "      <th>2302</th>\n",
              "      <td>44073.82</td>\n",
              "      <td>44297.21</td>\n",
              "      <td>43335.28</td>\n",
              "      <td>43762.69</td>\n",
              "      <td>2.256980e+09</td>\n",
              "      <td>79.124603</td>\n",
              "      <td>49.417390</td>\n",
              "      <td>72.0</td>\n",
              "      <td>0.453002</td>\n",
              "      <td>0.488086</td>\n",
              "      <td>0.470544</td>\n",
              "      <td>2.594931e+06</td>\n",
              "      <td>699.824346</td>\n",
              "      <td>3.0</td>\n",
              "    </tr>\n",
              "    <tr>\n",
              "      <th>2303</th>\n",
              "      <td>43762.69</td>\n",
              "      <td>44047.33</td>\n",
              "      <td>42821.10</td>\n",
              "      <td>43273.14</td>\n",
              "      <td>2.046946e+09</td>\n",
              "      <td>75.226356</td>\n",
              "      <td>50.296646</td>\n",
              "      <td>72.0</td>\n",
              "      <td>-0.005654</td>\n",
              "      <td>-0.824203</td>\n",
              "      <td>-0.414929</td>\n",
              "      <td>2.594931e+06</td>\n",
              "      <td>699.824346</td>\n",
              "      <td>3.0</td>\n",
              "    </tr>\n",
              "  </tbody>\n",
              "</table>\n",
              "<p>2304 rows × 14 columns</p>\n",
              "</div>"
            ],
            "text/plain": [
              "          open      high       low     close    volume USD        RSI  \\\n",
              "0      4261.48   4485.39   4200.74   4285.08  3.454770e+06  50.000000   \n",
              "1      4285.08   4371.52   3938.77   4108.37  5.086958e+06  50.000000   \n",
              "2      4108.37   4184.69   3850.00   4139.98  1.549484e+06  50.000000   \n",
              "3      4139.98   4211.08   4032.62   4086.29  1.930364e+06  50.000000   \n",
              "4      4069.13   4119.62   3911.79   4016.00  2.797232e+06  50.000000   \n",
              "...        ...       ...       ...       ...           ...        ...   \n",
              "2299  39450.35  40250.00  39274.86  39972.26  1.059861e+09  70.702721   \n",
              "2300  39972.26  42420.00  39972.26  41991.10  3.285737e+09  77.134115   \n",
              "2301  41991.10  44488.00  41414.00  44073.32  2.890205e+09  81.616552   \n",
              "2302  44073.82  44297.21  43335.28  43762.69  2.256980e+09  79.124603   \n",
              "2303  43762.69  44047.33  42821.10  43273.14  2.046946e+09  75.226356   \n",
              "\n",
              "            ADX  FAGI_score  scored_title  scored_text  average_score  \\\n",
              "0      0.000000        50.0      0.000000     0.000000       0.000000   \n",
              "1      0.000000        50.0      0.000000     0.000000       0.000000   \n",
              "2      0.000000        50.0      0.000000     0.000000       0.000000   \n",
              "3      0.000000        50.0      0.000000     0.000000       0.000000   \n",
              "4      0.000000        50.0      0.000000     0.000000       0.000000   \n",
              "...         ...         ...           ...          ...            ...   \n",
              "2299  44.436432        73.0      0.324950     0.944111       0.634530   \n",
              "2300  45.836661        74.0      0.400351     0.543259       0.471805   \n",
              "2301  47.693335        75.0      0.344162     0.655111       0.499637   \n",
              "2302  49.417390        72.0      0.453002     0.488086       0.470544   \n",
              "2303  50.296646        72.0     -0.005654    -0.824203      -0.414929   \n",
              "\n",
              "      reddit_subscribers  reddit_comments_per_day  FAGI_sentiment_encoded  \n",
              "0           1.000000e+03               699.824346                     2.0  \n",
              "1           1.419855e+03               699.824346                     2.0  \n",
              "2           1.839711e+03               699.824346                     2.0  \n",
              "3           2.259566e+03               699.824346                     2.0  \n",
              "4           2.679422e+03               699.824346                     2.0  \n",
              "...                  ...                      ...                     ...  \n",
              "2299        2.594931e+06               699.824346                     3.0  \n",
              "2300        2.594931e+06               699.824346                     3.0  \n",
              "2301        2.594931e+06               699.824346                     3.0  \n",
              "2302        2.594931e+06               699.824346                     3.0  \n",
              "2303        2.594931e+06               699.824346                     3.0  \n",
              "\n",
              "[2304 rows x 14 columns]"
            ]
          },
          "execution_count": 27,
          "metadata": {},
          "output_type": "execute_result"
        }
      ],
      "source": [
        "#For Jupyter only\n",
        "\n",
        "\n",
        "df = preprocessor_not_scaled('BTCUSDT_daily.csv','final_text_df.csv','social_number_data.csv','FearAndGreedIndex.csv')\n",
        "df_new = df.drop(columns=['date','volume BTC','twitter_favourites','reddit_active_users','twitter_followers','RSI_class','ADX_class'])\n",
        "df_new\n"
      ]
    },
    {
      "cell_type": "code",
      "execution_count": 28,
      "metadata": {
        "id": "6Z8GULRhFEEa"
      },
      "outputs": [],
      "source": [
        "# For Google Colab only\n",
        "\n",
        "\n",
        "#df_new = pd.read_csv('/content/FINAL.csv')\n"
      ]
    },
    {
      "cell_type": "markdown",
      "metadata": {
        "id": "dGTF64VdWebG"
      },
      "source": [
        "#### Assignments:\n",
        "- Targets  \n",
        "- Number of targets\n",
        "- Number of features\n"
      ]
    },
    {
      "cell_type": "code",
      "execution_count": 29,
      "metadata": {
        "id": "JvqxR2HeWebG"
      },
      "outputs": [],
      "source": [
        "# Can change later\n",
        "\n",
        "N_FEATURES = df_new.shape[1]  # All features other than time\n",
        "N_TARGETS = 1                      # Prediciting only 1 target (close price)\n",
        "TARGET = 'close'\n"
      ]
    },
    {
      "cell_type": "markdown",
      "metadata": {
        "id": "cQ9HoELiWebH"
      },
      "source": [
        "## Preparing the dataset for DL Model"
      ]
    },
    {
      "cell_type": "markdown",
      "metadata": {
        "id": "gf2ZHtciWebH"
      },
      "source": [
        "### Step 1. Creating many folds"
      ]
    },
    {
      "cell_type": "markdown",
      "metadata": {
        "id": "vYiGlhmwWebH"
      },
      "source": [
        "#### Assignments:\n",
        "- Fold Length   \n",
        "- Fold Size\n",
        "- Train Test Ratio\n"
      ]
    },
    {
      "cell_type": "code",
      "execution_count": 30,
      "metadata": {
        "id": "f2kUUTpOWebH"
      },
      "outputs": [],
      "source": [
        "# Can change later\n",
        "\n",
        "# Since we have data for about 6.3 years, we will asssume fold lengths of 2 years\n",
        "# 1.34 years for training and 0.67 for testing\n",
        "\n",
        "FOLD_LENGTH = 90    # Assume fold legnth of 2 years\n",
        "FOLD_STRIDE = 10      # Assume stride every quarter\n",
        "TRAIN_TEST_RATIO = 0.67   # Two-thirds split ratio\n"
      ]
    },
    {
      "cell_type": "markdown",
      "metadata": {
        "id": "oeWn8gqnWebH"
      },
      "source": [
        "#### * Implement the Get Folds Function:\n",
        "- Takes in df, fold length, fold stride\n",
        "- Returns a list of folds (each fold being a dataframe)"
      ]
    },
    {
      "cell_type": "code",
      "execution_count": 31,
      "metadata": {
        "id": "WD3AZab7WebH"
      },
      "outputs": [],
      "source": [
        "# Goes through the dataframe and creates equal sized folds of FOLD_LENGTH\n",
        "# starting at 0 and at each FOLD_STRIDE until it crosses len(df)\n",
        "\n",
        "def get_folds(df: pd.DataFrame,\n",
        "    fold_length: int,\n",
        "    fold_stride: int) -> list[pd.DataFrame]:\n",
        "\n",
        "    folds = []\n",
        "    for index in range(0, fold_length, fold_stride):\n",
        "        if index + fold_length > len(df):\n",
        "            break\n",
        "        fold = df.iloc[index:index + fold_length,:]\n",
        "        folds.append(fold)\n",
        "    return folds\n"
      ]
    },
    {
      "cell_type": "code",
      "execution_count": 32,
      "metadata": {
        "colab": {
          "base_uri": "https://localhost:8080/"
        },
        "id": "ABRR6UBRWebH",
        "outputId": "fc2e6933-4e9b-473f-cac0-82578598d8bd"
      },
      "outputs": [
        {
          "name": "stdout",
          "output_type": "stream",
          "text": [
            "Number of folds created were 9\n",
            "Each with a shape equal to (90, 14).\n"
          ]
        }
      ],
      "source": [
        "folds = (get_folds(df_new,FOLD_LENGTH,FOLD_STRIDE))\n",
        "print(f'Number of folds created were {len(folds)}')\n",
        "print(f'Each with a shape equal to {folds[0].shape}.')\n"
      ]
    },
    {
      "cell_type": "markdown",
      "metadata": {
        "id": "7Q1fiOACWebI"
      },
      "source": [
        "### Step 2. Temporal Train Test Split for one fold"
      ]
    },
    {
      "cell_type": "markdown",
      "metadata": {
        "id": "kn4OkG7sWebI"
      },
      "source": [
        "#### Focusing on one fold first"
      ]
    },
    {
      "cell_type": "code",
      "execution_count": 33,
      "metadata": {
        "id": "EvmSLgl5WebI"
      },
      "outputs": [],
      "source": [
        "fold = folds[-1]\n"
      ]
    },
    {
      "cell_type": "markdown",
      "metadata": {
        "id": "Vf1zCy-ZWebI"
      },
      "source": [
        "#### Assignments:\n",
        "- Input Length : Selected period selected for forecasting\n",
        "- Output Length : Selected period we want to predict\n"
      ]
    },
    {
      "cell_type": "code",
      "execution_count": 34,
      "metadata": {
        "id": "zOnLChyIWebI"
      },
      "outputs": [],
      "source": [
        "# Can change later\n",
        "\n",
        "INPUT_LENGTH = 7          # We can assume 3 days for a forecating period\n",
        "OUTPUT_LENGTH = 7           # If we want predict one week ahead\n",
        "TEMP_TRAIN_TEST_RATIO = 0.8 # How we want to split each fold (can be same as train test ratio)\n"
      ]
    },
    {
      "cell_type": "markdown",
      "metadata": {
        "id": "fWjxEp2oWebI"
      },
      "source": [
        "#### * Implement the Temporal Train Test Split Function:\n",
        "- Takes in a fold, temporal train test ratio, input length\n",
        "- Returns a tuple of (fold_train, fold_test), each as a dataframe"
      ]
    },
    {
      "cell_type": "code",
      "execution_count": 35,
      "metadata": {
        "id": "NnNXLhHqWebI"
      },
      "outputs": [],
      "source": [
        "# Splitting one fold into train and test chronologically,\n",
        "# so we can later sample many (Xi,yi) pairs (input and output lengths)\n",
        "\n",
        "def temporal_train_test_split(fold:pd.DataFrame,\n",
        "                            temp_train_test_ratio: float,\n",
        "                            input_length: int) -> tuple[pd.DataFrame]:\n",
        "    # Train set\n",
        "    last_train_index = round(temp_train_test_ratio * len(fold))\n",
        "    fold_train = fold.iloc[0:last_train_index, :]\n",
        "\n",
        "    #Test Set\n",
        "    first_test_index = last_train_index - input_length\n",
        "    fold_test = fold.iloc[first_test_index:, :]\n",
        "\n",
        "    return (fold_train,fold_test)\n"
      ]
    },
    {
      "cell_type": "code",
      "execution_count": 36,
      "metadata": {
        "id": "KeE2F13mWebI"
      },
      "outputs": [],
      "source": [
        "(fold_train, fold_test) = temporal_train_test_split(fold, TEMP_TRAIN_TEST_RATIO, INPUT_LENGTH)\n"
      ]
    },
    {
      "cell_type": "code",
      "execution_count": 37,
      "metadata": {
        "colab": {
          "base_uri": "https://localhost:8080/"
        },
        "id": "pw9uX_brWebI",
        "outputId": "ea3a3ea7-30ae-4e66-91cf-42e8a61e0c22"
      },
      "outputs": [
        {
          "data": {
            "text/plain": [
              "((72, 14), (25, 14))"
            ]
          },
          "execution_count": 37,
          "metadata": {},
          "output_type": "execute_result"
        }
      ],
      "source": [
        "fold_train.shape, fold_test.shape\n"
      ]
    },
    {
      "cell_type": "markdown",
      "metadata": {
        "id": "ucCfZHzoWebI"
      },
      "source": [
        "### Step 3. Create (X, y) sequences"
      ]
    },
    {
      "cell_type": "markdown",
      "metadata": {
        "id": "kLYhZj9mta1L"
      },
      "source": [
        "### Option 1. Random Sampling"
      ]
    },
    {
      "cell_type": "markdown",
      "metadata": {
        "id": "5U2Hh350WebJ"
      },
      "source": [
        "#### Now that we split our fold into trian and test we have to create 2 functions\n",
        "- One that will return a single sequence of (Xi, yi) (from fold train for training, and from fold test for evaluating)\n",
        "- Another that will call the first function many times over creating 3-D arrays of multiple sequences (X, y)"
      ]
    },
    {
      "cell_type": "markdown",
      "metadata": {
        "id": "Sfl9UtZ1WebJ"
      },
      "source": [
        "#### * Implement the Get (Xi, yi) function (using the random method):\n",
        "- Takes in a fold, input length ,output length\n",
        "- Returns a single sequence of (Xi, yi) as a 2-D DataFrame"
      ]
    },
    {
      "cell_type": "code",
      "execution_count": 38,
      "metadata": {
        "id": "UQko7frn8BUU"
      },
      "outputs": [],
      "source": [
        "STRIDE = 3\n"
      ]
    },
    {
      "cell_type": "code",
      "execution_count": 39,
      "metadata": {
        "id": "cFoOvPZ5WebJ"
      },
      "outputs": [],
      "source": [
        "# Given a fold (could be train fold for testing or test fold for evaluating),\n",
        "# it will return a sequence of (Xi,yi) based on input and output lengths,\n",
        "# starting from a random point.\n",
        "\n",
        "def get_Xi_yi_7(first_index: int,\n",
        "              fold: pd.DataFrame,\n",
        "              input_length: int,\n",
        "              output_length: int) -> tuple[np.ndarray, np.ndarray]:\n",
        "    '''\n",
        "    - extracts one sequence from a fold\n",
        "    - returns a pair (Xi, yi) with:\n",
        "        * len(Xi) = `input_length` and Xi starting at first_index\n",
        "        * len(yi) = `output_length`\n",
        "        * last_Xi and first_yi separated by the gap = horizon -1\n",
        "    '''\n",
        "\n",
        "    Xi_start = first_index\n",
        "    Xi_last = Xi_start + input_length\n",
        "    yi_start = Xi_last\n",
        "    yi_last = yi_start + output_length\n",
        "\n",
        "    Xi = fold[Xi_start:Xi_last]\n",
        "    yi = fold[yi_start:yi_last][TARGET]\n",
        "\n",
        "    return (Xi, yi)\n"
      ]
    },
    {
      "cell_type": "markdown",
      "metadata": {
        "id": "5JQGL2WOWebJ"
      },
      "source": []
    },
    {
      "cell_type": "code",
      "execution_count": 40,
      "metadata": {
        "id": "JHJPHO2JWebJ"
      },
      "outputs": [],
      "source": [
        "def get_X_y_7(fold: pd.DataFrame,             input_length: int,\n",
        "             output_length: int,\n",
        "             stride: int,\n",
        "             shuffle=True) -> tuple[np.ndarray, np.ndarray]:\n",
        "    \"\"\"\n",
        "    - Uses `data`, a 2D-array with axis=0 for timesteps, and axis=1 for (targets+covariates columns)\n",
        "    - Returns a Tuple (X,y) of two ndarrays :\n",
        "        * X.shape = (n_samples, input_length, n_covariates)\n",
        "        * y.shape =\n",
        "            (n_samples, output_length, n_targets) if all 3-dimensions are of size > 1\n",
        "            (n_samples, output_length) if n_targets == 1\n",
        "            (n_samples, n_targets) if output_length == 1\n",
        "            (n_samples, ) if both n_targets and lenghts == 1\n",
        "    - You can shuffle the pairs (Xi,yi) of your fold\n",
        "    \"\"\"\n",
        "    X = []\n",
        "    y = []\n",
        "\n",
        "    # Scanning the fold/data entirely with a certain stride\n",
        "    for i in range(0, len(fold), stride):\n",
        "        ## Extracting a sequence starting at index_i\n",
        "        Xi, yi = get_Xi_yi_7(first_index=i,\n",
        "                            fold=fold,\n",
        "                            input_length=input_length,\n",
        "                            output_length=output_length)\n",
        "        ## Exits loop as soon as we reach the end of the dataset\n",
        "        if len(yi) < output_length:\n",
        "            break\n",
        "        X.append(Xi)\n",
        "        y.append(yi)\n",
        "\n",
        "    X = np.array(X)\n",
        "    y = np.array(y)\n",
        "    y = np.squeeze(y)\n",
        "\n",
        "    if shuffle:\n",
        "        idx = np.arange(len(X))\n",
        "        np.random.shuffle(idx)\n",
        "        X = X[idx]\n",
        "        y = y[idx]\n",
        "\n",
        "    return X, y\n"
      ]
    },
    {
      "cell_type": "code",
      "execution_count": 41,
      "metadata": {
        "colab": {
          "base_uri": "https://localhost:8080/"
        },
        "id": "hHjEM59aWebJ",
        "outputId": "0ee094df-22e9-4059-dec8-079ed1aa7b4c"
      },
      "outputs": [
        {
          "name": "stdout",
          "output_type": "stream",
          "text": [
            "Shapes for the training set:\n",
            "X_train.shape = (20, 7, 14), y_train.shape = (20, 7)\n",
            "Shapes for the test set:\n",
            "X_test.shape = (4, 7, 14), y_test.shape = (4, 7)\n"
          ]
        }
      ],
      "source": [
        "X_train, y_train = get_X_y_7(fold=fold_train,\n",
        "                           input_length=INPUT_LENGTH,\n",
        "                           output_length=OUTPUT_LENGTH,\n",
        "                           stride=STRIDE)\n",
        "X_test, y_test = get_X_y_7(fold=fold_test,\n",
        "                         input_length=INPUT_LENGTH,\n",
        "                         output_length=OUTPUT_LENGTH,\n",
        "                         stride=STRIDE)\n",
        "\n",
        "print(\"Shapes for the training set:\")\n",
        "print(f\"X_train.shape = {X_train.shape}, y_train.shape = {y_train.shape}\")\n",
        "\n",
        "print(\"Shapes for the test set:\")\n",
        "print(f\"X_test.shape = {X_test.shape}, y_test.shape = {y_test.shape}\")\n"
      ]
    },
    {
      "cell_type": "markdown",
      "metadata": {
        "id": "5RTkxPyRWebK"
      },
      "source": [
        "## Modeling"
      ]
    },
    {
      "cell_type": "code",
      "execution_count": 42,
      "metadata": {
        "id": "X33dFLfqWebK"
      },
      "outputs": [],
      "source": [
        "from tensorflow.keras import models\n",
        "from tensorflow.keras import layers\n",
        "from tensorflow.keras import optimizers, metrics\n",
        "from tensorflow.keras.layers.experimental.preprocessing import Normalization\n",
        "from tensorflow.keras.callbacks import EarlyStopping, ReduceLROnPlateau\n",
        "from tensorflow.keras.layers import Lambda\n",
        "from tensorflow.keras.optimizers.schedules import ExponentialDecay\n",
        "from tensorflow.keras import regularizers\n"
      ]
    },
    {
      "cell_type": "markdown",
      "metadata": {
        "id": "cK2sKeX8WebT"
      },
      "source": [
        "### Step 1. Building a Baseline (dummy) model for comparisons"
      ]
    },
    {
      "cell_type": "markdown",
      "metadata": {
        "id": "1r3JLinkWebT"
      },
      "source": [
        "#### * Initialize the Baseline Model function based on last seen value"
      ]
    },
    {
      "cell_type": "code",
      "execution_count": 43,
      "metadata": {
        "colab": {
          "base_uri": "https://localhost:8080/"
        },
        "id": "MHSQ4bCC55Tk",
        "outputId": "538c426d-7fe8-430b-a746-3fae2a02fe09"
      },
      "outputs": [
        {
          "data": {
            "text/plain": [
              "((20, 7), (4, 7))"
            ]
          },
          "execution_count": 43,
          "metadata": {},
          "output_type": "execute_result"
        }
      ],
      "source": [
        "y_train.shape , y_test.shape\n"
      ]
    },
    {
      "cell_type": "code",
      "execution_count": 44,
      "metadata": {
        "id": "aKpzN9gLWebU"
      },
      "outputs": [],
      "source": [
        "\n",
        "def last_seen_value_baseline(X, y):\n",
        "\n",
        "    # How many values do you want to predict in the future ?\n",
        "    output_length = y.shape[-1]\n",
        "\n",
        "    # For each sequence, let's consider the last seen value\n",
        "    # and only the close column\n",
        "    last_seen_values = X[:,-1, 3].reshape(-1,1)\n",
        "\n",
        "    # We need to duplicate these values as many times as output_length\n",
        "    repeated = np.repeat(last_seen_values, axis = 1, repeats = output_length)\n",
        "\n",
        "    MAE = np.mean(np.abs(y - repeated))\n",
        "    MAPE = np.mean(abs((y - repeated) / y)) * 100\n",
        "    SMAPE = np.mean((abs(y - repeated)) / ((y + repeated)/2))* 100\n",
        "    return MAE, MAPE, SMAPE, repeated[0]\n"
      ]
    },
    {
      "cell_type": "code",
      "execution_count": 45,
      "metadata": {
        "colab": {
          "base_uri": "https://localhost:8080/"
        },
        "id": "68aYchyiWebU",
        "outputId": "48e57a96-3cda-470c-9191-269fb3ee8b4d"
      },
      "outputs": [
        {
          "data": {
            "text/plain": [
              "(910.6185714285717,\n",
              " 8.146962462523225,\n",
              " 7.658102616824383,\n",
              " array([13539.93, 13539.93, 13539.93, 13539.93, 13539.93, 13539.93,\n",
              "        13539.93]))"
            ]
          },
          "execution_count": 45,
          "metadata": {},
          "output_type": "execute_result"
        }
      ],
      "source": [
        "baseline_score = last_seen_value_baseline(X_test, y_test)\n",
        "baseline_score\n"
      ]
    },
    {
      "cell_type": "markdown",
      "metadata": {
        "id": "gbpQRtDeWebU"
      },
      "source": [
        "### Step 2. Building an LSTM Model"
      ]
    },
    {
      "cell_type": "markdown",
      "metadata": {
        "id": "c80bjzqhLBmA"
      },
      "source": [
        "#### * Define the SMAPE Metric"
      ]
    },
    {
      "cell_type": "code",
      "execution_count": 46,
      "metadata": {
        "id": "Oq6juygRLFVw"
      },
      "outputs": [],
      "source": [
        "def smape(y_true, y_pred):\n",
        "    return tf.reduce_mean(((abs(y_true - y_pred)) / ((y_true + y_pred)/2))* 100, axis=-1)\n"
      ]
    },
    {
      "cell_type": "markdown",
      "metadata": {
        "id": "kmiyOzNQWebU"
      },
      "source": [
        "#### * Initialize the LSTM Model function"
      ]
    },
    {
      "cell_type": "code",
      "execution_count": 47,
      "metadata": {
        "id": "Ka5Hp_M3WebU"
      },
      "outputs": [],
      "source": [
        "def init_model(X_train, y_train):\n",
        "\n",
        "    # adam = optimizers.Adam(learning_rate=0.02)\n",
        "\n",
        "    initial_learning_rate = 0.1 # Default Adam\n",
        "\n",
        "    lr_schedule = ExponentialDecay(\n",
        "    initial_learning_rate,\n",
        "    decay_steps = 500,    # every 2000 iterations\n",
        "    decay_rate = 0.5)      # we multiply the learning rate by the decay_rate\n",
        "\n",
        "\n",
        "    adam = optimizers.Adam(learning_rate=lr_schedule)\n",
        "\n",
        "\n",
        "    #reg_l2 = regularizers.L2(0.5)\n",
        "\n",
        "    output_length = y_train.shape[1]\n",
        "\n",
        "    normalizer = Normalization()\n",
        "    normalizer.adapt(X_train)\n",
        "\n",
        "    model = models.Sequential()\n",
        "\n",
        "    model.add(normalizer)\n",
        "\n",
        "    model.add(layers.LSTM(64,\n",
        "                          activation='tanh',\n",
        "                          return_sequences = True,\n",
        "                          ))\n",
        "    model.add(layers.LSTM(32,\n",
        "                          activation='tanh',\n",
        "                          return_sequences = True\n",
        "                          ))\n",
        "    model.add(layers.LSTM(16,\n",
        "                          activation='tanh',\n",
        "                          return_sequences = False\n",
        "                          ))\n",
        "    model.add(layers.Dense(10, activation='elu'\n",
        "                           ))\n",
        "\n",
        "    model.add(layers.Dense(output_length, activation='linear'))\n",
        "\n",
        "    model.compile(loss='mse', optimizer=adam, metrics=[\"mse\",'mae','mape',smape])\n",
        "\n",
        "    return model\n"
      ]
    },
    {
      "cell_type": "markdown",
      "metadata": {
        "id": "ZC0hMdWyWebU"
      },
      "source": [
        "#### * Fit (Train) the LSTM Model function"
      ]
    },
    {
      "cell_type": "code",
      "execution_count": 48,
      "metadata": {
        "id": "Y5t5wsFJWebU"
      },
      "outputs": [],
      "source": [
        "def fit_model(model: tf.keras.Model, verbose=1) -> tuple[tf.keras.Model, dict]:\n",
        "\n",
        "    es = EarlyStopping(monitor = \"val_loss\",\n",
        "                      patience = 20,\n",
        "                      mode = \"min\",\n",
        "                      restore_best_weights = True)\n",
        "    #reduce_lr = ReduceLROnPlateau(monitor='val_loss', factor=0.2,\n",
        "                              #patience=5, min_lr=0.001)\n",
        "\n",
        "\n",
        "    history = model.fit(X_train, y_train,\n",
        "                        validation_split = 0.3,\n",
        "                        shuffle = False,\n",
        "                        batch_size = 16,\n",
        "                        epochs = 200,\n",
        "                        callbacks = [es],\n",
        "                        verbose = verbose)\n",
        "\n",
        "    return model, history\n"
      ]
    },
    {
      "cell_type": "markdown",
      "metadata": {
        "id": "tepHe3NzWebU"
      },
      "source": [
        "#### * Define the plot history function"
      ]
    },
    {
      "cell_type": "code",
      "execution_count": 49,
      "metadata": {
        "id": "Nl4RkRWnWebU"
      },
      "outputs": [],
      "source": [
        "def plot_history(history):\n",
        "\n",
        "    fig, ax = plt.subplots(1,2, figsize=(20,7))\n",
        "    ax[0].plot(history.history['loss'])\n",
        "    ax[0].plot(history.history['val_loss'])\n",
        "    ax[0].set_title('MSE')\n",
        "    ax[0].set_ylabel('Loss')\n",
        "    ax[0].set_xlabel('Epoch')\n",
        "    ax[0].legend(['Train', 'Validation'], loc='best')\n",
        "    ax[0].grid(axis=\"x\",linewidth=0.5)\n",
        "    ax[0].grid(axis=\"y\",linewidth=0.5)\n",
        "\n",
        "    ax[1].plot(history.history['mae'])\n",
        "    ax[1].plot(history.history['val_mae'])\n",
        "    ax[1].set_title('MAE')\n",
        "    ax[1].set_ylabel('MAE')\n",
        "    ax[1].set_xlabel('Epoch')\n",
        "    ax[1].legend(['Train', 'Validation'], loc='best')\n",
        "    ax[1].grid(axis=\"x\",linewidth=0.5)\n",
        "    ax[1].grid(axis=\"y\",linewidth=0.5)\n",
        "\n",
        "    return ax\n"
      ]
    },
    {
      "cell_type": "code",
      "execution_count": 50,
      "metadata": {
        "colab": {
          "base_uri": "https://localhost:8080/"
        },
        "id": "H4C53m2xWebU",
        "outputId": "2e48bd40-1555-4814-ff58-dbabf7743366"
      },
      "outputs": [
        {
          "name": "stderr",
          "output_type": "stream",
          "text": [
            "WARNING:absl:At this time, the v2.11+ optimizer `tf.keras.optimizers.Adam` runs slowly on M1/M2 Macs, please use the legacy Keras optimizer instead, located at `tf.keras.optimizers.legacy.Adam`.\n"
          ]
        },
        {
          "name": "stdout",
          "output_type": "stream",
          "text": [
            "Epoch 1/200\n"
          ]
        },
        {
          "name": "stdout",
          "output_type": "stream",
          "text": [
            "1/1 [==============================] - 4s 4s/step - loss: 182682768.0000 - mse: 182682768.0000 - mae: 13025.7607 - mape: 100.0000 - smape: 199.9999 - val_loss: 179197232.0000 - val_mse: 179197232.0000 - val_mae: 13027.9502 - val_mape: 99.9958 - val_smape: 199.9830\n",
            "Epoch 2/200\n",
            "1/1 [==============================] - 0s 30ms/step - loss: 182664320.0000 - mse: 182664320.0000 - mae: 13025.3311 - mape: 99.9991 - smape: 199.9962 - val_loss: 179137520.0000 - val_mse: 179137520.0000 - val_mae: 13025.4053 - val_mape: 99.9723 - val_smape: 199.8892\n",
            "Epoch 3/200\n",
            "1/1 [==============================] - 0s 29ms/step - loss: 182596528.0000 - mse: 182596528.0000 - mae: 13022.4746 - mape: 99.9725 - smape: 199.8899 - val_loss: 179085520.0000 - val_mse: 179085520.0000 - val_mae: 13023.3330 - val_mape: 99.9545 - val_smape: 199.8180\n",
            "Epoch 4/200\n",
            "1/1 [==============================] - 0s 30ms/step - loss: 182543456.0000 - mse: 182543456.0000 - mae: 13020.3408 - mape: 99.9535 - smape: 199.8142 - val_loss: 178972736.0000 - val_mse: 178972736.0000 - val_mae: 13019.0312 - val_mape: 99.9194 - val_smape: 199.6779\n",
            "Epoch 5/200\n",
            "1/1 [==============================] - 0s 33ms/step - loss: 182429264.0000 - mse: 182429264.0000 - mae: 13016.0020 - mape: 99.9175 - smape: 199.6702 - val_loss: 178837840.0000 - val_mse: 178837840.0000 - val_mae: 13013.8447 - val_mape: 99.8767 - val_smape: 199.5074\n",
            "Epoch 6/200\n",
            "1/1 [==============================] - 0s 31ms/step - loss: 182294528.0000 - mse: 182294528.0000 - mae: 13010.8193 - mape: 99.8738 - smape: 199.4960 - val_loss: 178682592.0000 - val_mse: 178682592.0000 - val_mae: 13007.8760 - val_mape: 99.8275 - val_smape: 199.3115\n",
            "Epoch 7/200\n",
            "1/1 [==============================] - 0s 57ms/step - loss: 182139344.0000 - mse: 182139344.0000 - mae: 13004.8564 - mape: 99.8236 - smape: 199.2959 - val_loss: 178500336.0000 - val_mse: 178500336.0000 - val_mae: 13000.8623 - val_mape: 99.7698 - val_smape: 199.0814\n",
            "Epoch 8/200\n",
            "1/1 [==============================] - 0s 41ms/step - loss: 181957104.0000 - mse: 181957104.0000 - mae: 12997.8418 - mape: 99.7645 - smape: 199.0605 - val_loss: 178287344.0000 - val_mse: 178287344.0000 - val_mae: 12992.6592 - val_mape: 99.7022 - val_smape: 198.8129\n",
            "Epoch 9/200\n",
            "1/1 [==============================] - 0s 40ms/step - loss: 181744112.0000 - mse: 181744112.0000 - mae: 12989.6396 - mape: 99.6954 - smape: 198.7858 - val_loss: 178041904.0000 - val_mse: 178041904.0000 - val_mae: 12983.2031 - val_mape: 99.6244 - val_smape: 198.5037\n",
            "Epoch 10/200\n",
            "1/1 [==============================] - 0s 52ms/step - loss: 181498656.0000 - mse: 181498656.0000 - mae: 12980.1846 - mape: 99.6158 - smape: 198.4697 - val_loss: 177762704.0000 - val_mse: 177762704.0000 - val_mae: 12972.4404 - val_mape: 99.5358 - val_smape: 198.1525\n",
            "Epoch 11/200\n",
            "1/1 [==============================] - 0s 46ms/step - loss: 181219488.0000 - mse: 181219488.0000 - mae: 12969.4189 - mape: 99.5251 - smape: 198.1105 - val_loss: 177448640.0000 - val_mse: 177448640.0000 - val_mae: 12960.3203 - val_mape: 99.4360 - val_smape: 197.7579\n",
            "Epoch 12/200\n",
            "1/1 [==============================] - 0s 39ms/step - loss: 180905440.0000 - mse: 180905440.0000 - mae: 12957.3018 - mape: 99.4231 - smape: 197.7071 - val_loss: 177098576.0000 - val_mse: 177098576.0000 - val_mae: 12946.8018 - val_mape: 99.3247 - val_smape: 197.3187\n",
            "Epoch 13/200\n",
            "1/1 [==============================] - 0s 48ms/step - loss: 180555408.0000 - mse: 180555408.0000 - mae: 12943.7812 - mape: 99.3092 - smape: 197.2581 - val_loss: 176711488.0000 - val_mse: 176711488.0000 - val_mae: 12931.8359 - val_mape: 99.2015 - val_smape: 196.8338\n",
            "Epoch 14/200\n",
            "1/1 [==============================] - 0s 40ms/step - loss: 180168352.0000 - mse: 180168352.0000 - mae: 12928.8174 - mape: 99.1832 - smape: 196.7624 - val_loss: 176286368.0000 - val_mse: 176286368.0000 - val_mae: 12915.3818 - val_mape: 99.0661 - val_smape: 196.3021\n",
            "Epoch 15/200\n",
            "1/1 [==============================] - 0s 46ms/step - loss: 179743280.0000 - mse: 179743280.0000 - mae: 12912.3613 - mape: 99.0447 - smape: 196.2190 - val_loss: 175822176.0000 - val_mse: 175822176.0000 - val_mae: 12897.3906 - val_mape: 98.9180 - val_smape: 195.7226\n",
            "Epoch 16/200\n",
            "1/1 [==============================] - 0s 37ms/step - loss: 179279136.0000 - mse: 179279136.0000 - mae: 12894.3682 - mape: 98.8932 - smape: 195.6267 - val_loss: 175318000.0000 - val_mse: 175318000.0000 - val_mae: 12877.8213 - val_mape: 98.7570 - val_smape: 195.0944\n",
            "Epoch 17/200\n",
            "1/1 [==============================] - 0s 41ms/step - loss: 178775040.0000 - mse: 178775040.0000 - mae: 12874.8018 - mape: 98.7284 - smape: 194.9848 - val_loss: 174772912.0000 - val_mse: 174772912.0000 - val_mae: 12856.6328 - val_mape: 98.5826 - val_smape: 194.4166\n",
            "Epoch 18/200\n",
            "1/1 [==============================] - 0s 30ms/step - loss: 178230048.0000 - mse: 178230048.0000 - mae: 12853.6113 - mape: 98.5500 - smape: 194.2923 - val_loss: 174186096.0000 - val_mse: 174186096.0000 - val_mae: 12833.7812 - val_mape: 98.3946 - val_smape: 193.6885\n",
            "Epoch 19/200\n",
            "1/1 [==============================] - 0s 29ms/step - loss: 177643280.0000 - mse: 177643280.0000 - mae: 12830.7607 - mape: 98.3577 - smape: 193.5485 - val_loss: 173556672.0000 - val_mse: 173556672.0000 - val_mae: 12809.2266 - val_mape: 98.1925 - val_smape: 192.9093\n",
            "Epoch 20/200\n",
            "1/1 [==============================] - 0s 30ms/step - loss: 177013968.0000 - mse: 177013968.0000 - mae: 12806.2080 - mape: 98.1509 - smape: 192.7528 - val_loss: 172883920.0000 - val_mse: 172883920.0000 - val_mae: 12782.9326 - val_mape: 97.9761 - val_smape: 192.0786\n",
            "Epoch 21/200\n",
            "1/1 [==============================] - 0s 29ms/step - loss: 176341328.0000 - mse: 176341328.0000 - mae: 12779.9121 - mape: 97.9296 - smape: 191.9046 - val_loss: 172167136.0000 - val_mse: 172167136.0000 - val_mae: 12754.8564 - val_mape: 97.7450 - val_smape: 191.1958\n",
            "Epoch 22/200\n",
            "1/1 [==============================] - 0s 35ms/step - loss: 175624656.0000 - mse: 175624656.0000 - mae: 12751.8340 - mape: 97.6932 - smape: 191.0033 - val_loss: 171405648.0000 - val_mse: 171405648.0000 - val_mae: 12724.9600 - val_mape: 97.4990 - val_smape: 190.2606\n",
            "Epoch 23/200\n",
            "1/1 [==============================] - 0s 60ms/step - loss: 174863280.0000 - mse: 174863280.0000 - mae: 12721.9395 - mape: 97.4416 - smape: 190.0488 - val_loss: 170598864.0000 - val_mse: 170598864.0000 - val_mae: 12693.2109 - val_mape: 97.2378 - val_smape: 189.2727\n",
            "Epoch 24/200\n",
            "1/1 [==============================] - 0s 41ms/step - loss: 174056656.0000 - mse: 174056656.0000 - mae: 12690.1904 - mape: 97.1743 - smape: 189.0406 - val_loss: 169746304.0000 - val_mse: 169746304.0000 - val_mae: 12659.5752 - val_mape: 96.9610 - val_smape: 188.2319\n",
            "Epoch 25/200\n",
            "1/1 [==============================] - 0s 28ms/step - loss: 173204240.0000 - mse: 173204240.0000 - mae: 12656.5527 - mape: 96.8912 - smape: 187.9788 - val_loss: 168847504.0000 - val_mse: 168847504.0000 - val_mae: 12624.0146 - val_mape: 96.6684 - val_smape: 187.1381\n",
            "Epoch 26/200\n",
            "1/1 [==============================] - 0s 28ms/step - loss: 172305568.0000 - mse: 172305568.0000 - mae: 12620.9932 - mape: 96.5918 - smape: 186.8632 - val_loss: 167902032.0000 - val_mse: 167902032.0000 - val_mae: 12586.5029 - val_mape: 96.3597 - val_smape: 185.9914\n",
            "Epoch 27/200\n",
            "1/1 [==============================] - 0s 28ms/step - loss: 171360272.0000 - mse: 171360272.0000 - mae: 12583.4824 - mape: 96.2761 - smape: 185.6940 - val_loss: 166909616.0000 - val_mse: 166909616.0000 - val_mae: 12547.0068 - val_mape: 96.0348 - val_smape: 184.7920\n",
            "Epoch 28/200\n",
            "1/1 [==============================] - 0s 28ms/step - loss: 170368016.0000 - mse: 170368016.0000 - mae: 12543.9863 - mape: 95.9436 - smape: 184.4713 - val_loss: 165869968.0000 - val_mse: 165869968.0000 - val_mae: 12505.4990 - val_mape: 95.6932 - val_smape: 183.5401\n",
            "Epoch 29/200\n",
            "1/1 [==============================] - 0s 28ms/step - loss: 169328608.0000 - mse: 169328608.0000 - mae: 12502.4775 - mape: 95.5942 - smape: 183.1954 - val_loss: 164782976.0000 - val_mse: 164782976.0000 - val_mae: 12461.9521 - val_mape: 95.3349 - val_smape: 182.2361\n",
            "Epoch 30/200\n",
            "1/1 [==============================] - 0s 27ms/step - loss: 168241776.0000 - mse: 168241776.0000 - mae: 12458.9297 - mape: 95.2276 - smape: 181.8669 - val_loss: 163648480.0000 - val_mse: 163648480.0000 - val_mae: 12416.3408 - val_mape: 94.9596 - val_smape: 180.8805\n",
            "Epoch 31/200\n",
            "1/1 [==============================] - 0s 27ms/step - loss: 167107504.0000 - mse: 167107504.0000 - mae: 12413.3184 - mape: 94.8437 - smape: 180.4862 - val_loss: 162466512.0000 - val_mse: 162466512.0000 - val_mae: 12368.6396 - val_mape: 94.5672 - val_smape: 179.4738\n",
            "Epoch 32/200\n",
            "1/1 [==============================] - 0s 28ms/step - loss: 165925776.0000 - mse: 165925776.0000 - mae: 12365.6182 - mape: 94.4422 - smape: 179.0539 - val_loss: 161237104.0000 - val_mse: 161237104.0000 - val_mae: 12318.8311 - val_mape: 94.1573 - val_smape: 178.0168\n",
            "Epoch 33/200\n",
            "1/1 [==============================] - 0s 97ms/step - loss: 164696608.0000 - mse: 164696608.0000 - mae: 12315.8105 - mape: 94.0230 - smape: 177.5708 - val_loss: 159960416.0000 - val_mse: 159960416.0000 - val_mae: 12266.8906 - val_mape: 93.7300 - val_smape: 176.5103\n",
            "Epoch 34/200\n",
            "1/1 [==============================] - 0s 68ms/step - loss: 163420160.0000 - mse: 163420160.0000 - mae: 12263.8721 - mape: 93.5858 - smape: 176.0378 - val_loss: 158636656.0000 - val_mse: 158636656.0000 - val_mae: 12212.8047 - val_mape: 93.2850 - val_smape: 174.9550\n",
            "Epoch 35/200\n",
            "1/1 [==============================] - 0s 66ms/step - loss: 162096672.0000 - mse: 162096672.0000 - mae: 12209.7861 - mape: 93.1305 - smape: 174.4558 - val_loss: 157266128.0000 - val_mse: 157266128.0000 - val_mae: 12156.5537 - val_mape: 92.8222 - val_smape: 173.3521\n",
            "Epoch 36/200\n",
            "1/1 [==============================] - 0s 54ms/step - loss: 160726416.0000 - mse: 160726416.0000 - mae: 12153.5332 - mape: 92.6571 - smape: 172.8259 - val_loss: 155849184.0000 - val_mse: 155849184.0000 - val_mae: 12098.1240 - val_mape: 92.3414 - val_smape: 171.7025\n",
            "Epoch 37/200\n",
            "1/1 [==============================] - 0s 48ms/step - loss: 159309776.0000 - mse: 159309776.0000 - mae: 12095.1025 - mape: 92.1653 - smape: 171.1491 - val_loss: 154386320.0000 - val_mse: 154386320.0000 - val_mae: 12037.5029 - val_mape: 91.8426 - val_smape: 170.0075\n",
            "Epoch 38/200\n",
            "1/1 [==============================] - 0s 35ms/step - loss: 157847200.0000 - mse: 157847200.0000 - mae: 12034.4824 - mape: 91.6550 - smape: 169.4267 - val_loss: 152878048.0000 - val_mse: 152878048.0000 - val_mae: 11974.6787 - val_mape: 91.3258 - val_smape: 168.2682\n",
            "Epoch 39/200\n",
            "1/1 [==============================] - 0s 45ms/step - loss: 156339232.0000 - mse: 156339232.0000 - mae: 11971.6582 - mape: 91.1262 - smape: 167.6600 - val_loss: 151324992.0000 - val_mse: 151324992.0000 - val_mae: 11909.6436 - val_mape: 90.7907 - val_smape: 166.4860\n",
            "Epoch 40/200\n",
            "1/1 [==============================] - 0s 44ms/step - loss: 154786528.0000 - mse: 154786528.0000 - mae: 11906.6230 - mape: 90.5788 - smape: 165.8504 - val_loss: 149727856.0000 - val_mse: 149727856.0000 - val_mae: 11842.3896 - val_mape: 90.2373 - val_smape: 164.6623\n",
            "Epoch 41/200\n",
            "1/1 [==============================] - 0s 36ms/step - loss: 153189728.0000 - mse: 153189728.0000 - mae: 11839.3672 - mape: 90.0128 - smape: 163.9993 - val_loss: 148087408.0000 - val_mse: 148087408.0000 - val_mae: 11772.9111 - val_mape: 89.6657 - val_smape: 162.7985\n",
            "Epoch 42/200\n",
            "1/1 [==============================] - 0s 37ms/step - loss: 151549648.0000 - mse: 151549648.0000 - mae: 11769.8906 - mape: 89.4280 - smape: 162.1082 - val_loss: 146404528.0000 - val_mse: 146404528.0000 - val_mae: 11701.2080 - val_mape: 89.0758 - val_smape: 160.8961\n",
            "Epoch 43/200\n",
            "1/1 [==============================] - 0s 52ms/step - loss: 149867104.0000 - mse: 149867104.0000 - mae: 11698.1875 - mape: 88.8245 - smape: 160.1788 - val_loss: 144680064.0000 - val_mse: 144680064.0000 - val_mae: 11627.2744 - val_mape: 88.4675 - val_smape: 158.9568\n",
            "Epoch 44/200\n",
            "1/1 [==============================] - 0s 49ms/step - loss: 148143040.0000 - mse: 148143040.0000 - mae: 11624.2549 - mape: 88.2022 - smape: 158.2125 - val_loss: 142915088.0000 - val_mse: 142915088.0000 - val_mae: 11551.1162 - val_mape: 87.8409 - val_smape: 156.9820\n",
            "Epoch 45/200\n",
            "1/1 [==============================] - 0s 44ms/step - loss: 146378464.0000 - mse: 146378464.0000 - mae: 11548.0938 - mape: 87.5612 - smape: 156.2112 - val_loss: 141110656.0000 - val_mse: 141110656.0000 - val_mae: 11472.7314 - val_mape: 87.1960 - val_smape: 154.9736\n",
            "Epoch 46/200\n",
            "1/1 [==============================] - 0s 42ms/step - loss: 144574432.0000 - mse: 144574432.0000 - mae: 11469.7100 - mape: 86.9015 - smape: 154.1765 - val_loss: 139267920.0000 - val_mse: 139267920.0000 - val_mae: 11392.1250 - val_mape: 86.5329 - val_smape: 152.9331\n",
            "Epoch 47/200\n",
            "1/1 [==============================] - 0s 38ms/step - loss: 142732112.0000 - mse: 142732112.0000 - mae: 11389.1045 - mape: 86.2231 - smape: 152.1101 - val_loss: 137388096.0000 - val_mse: 137388096.0000 - val_mae: 11309.3057 - val_mape: 85.8515 - val_smape: 150.8623\n",
            "Epoch 48/200\n",
            "1/1 [==============================] - 0s 30ms/step - loss: 140852720.0000 - mse: 140852720.0000 - mae: 11306.2861 - mape: 85.5260 - smape: 150.0140 - val_loss: 135472464.0000 - val_mse: 135472464.0000 - val_mae: 11224.2803 - val_mape: 85.1520 - val_smape: 148.7630\n",
            "Epoch 49/200\n",
            "1/1 [==============================] - 0s 33ms/step - loss: 138937536.0000 - mse: 138937536.0000 - mae: 11221.2588 - mape: 84.8104 - smape: 147.8897 - val_loss: 133522392.0000 - val_mse: 133522392.0000 - val_mae: 11137.0596 - val_mape: 84.4344 - val_smape: 146.6369\n",
            "Epoch 50/200\n",
            "1/1 [==============================] - 0s 46ms/step - loss: 136987904.0000 - mse: 136987904.0000 - mae: 11134.0391 - mape: 84.0763 - smape: 145.7393 - val_loss: 131539288.0000 - val_mse: 131539288.0000 - val_mae: 11047.6562 - val_mape: 83.6989 - val_smape: 144.4859\n",
            "Epoch 51/200\n",
            "1/1 [==============================] - 0s 45ms/step - loss: 135005280.0000 - mse: 135005280.0000 - mae: 11044.6357 - mape: 83.3239 - smape: 143.5645 - val_loss: 129524616.0000 - val_mse: 129524616.0000 - val_mae: 10956.0830 - val_mape: 82.9455 - val_smape: 142.3118\n",
            "Epoch 52/200\n",
            "1/1 [==============================] - 0s 47ms/step - loss: 132991104.0000 - mse: 132991104.0000 - mae: 10953.0625 - mape: 82.5532 - smape: 141.3672 - val_loss: 127479960.0000 - val_mse: 127479960.0000 - val_mae: 10862.3584 - val_mape: 82.1744 - val_smape: 140.1164\n",
            "Epoch 53/200\n",
            "1/1 [==============================] - 0s 43ms/step - loss: 130946928.0000 - mse: 130946928.0000 - mae: 10859.3359 - mape: 81.7643 - smape: 139.1492 - val_loss: 125406880.0000 - val_mse: 125406880.0000 - val_mae: 10766.4951 - val_mape: 81.3857 - val_smape: 137.9015\n",
            "Epoch 54/200\n",
            "1/1 [==============================] - 0s 65ms/step - loss: 128874360.0000 - mse: 128874360.0000 - mae: 10763.4746 - mape: 80.9575 - smape: 136.9124 - val_loss: 123307048.0000 - val_mse: 123307048.0000 - val_mae: 10668.5205 - val_mape: 80.5797 - val_smape: 135.6690\n",
            "Epoch 55/200\n",
            "1/1 [==============================] - 0s 62ms/step - loss: 126775048.0000 - mse: 126775048.0000 - mae: 10665.4990 - mape: 80.1329 - smape: 134.6587 - val_loss: 121182168.0000 - val_mse: 121182168.0000 - val_mae: 10568.4502 - val_mape: 79.7564 - val_smape: 133.4206\n",
            "Epoch 56/200\n",
            "1/1 [==============================] - 0s 32ms/step - loss: 124650696.0000 - mse: 124650696.0000 - mae: 10565.4297 - mape: 79.2907 - smape: 132.3898 - val_loss: 119033992.0000 - val_mse: 119033992.0000 - val_mae: 10466.3115 - val_mape: 78.9161 - val_smape: 131.1582\n",
            "Epoch 57/200\n",
            "1/1 [==============================] - 0s 31ms/step - loss: 122503056.0000 - mse: 122503056.0000 - mae: 10463.2900 - mape: 78.4311 - smape: 130.1077 - val_loss: 116864320.0000 - val_mse: 116864320.0000 - val_mae: 10362.1289 - val_mape: 78.0590 - val_smape: 128.8835\n",
            "Epoch 58/200\n",
            "1/1 [==============================] - 0s 27ms/step - loss: 120333944.0000 - mse: 120333944.0000 - mae: 10359.1074 - mape: 77.5543 - smape: 127.8141 - val_loss: 114675008.0000 - val_mse: 114675008.0000 - val_mae: 10255.9297 - val_mape: 77.1853 - val_smape: 126.5984\n",
            "Epoch 59/200\n",
            "1/1 [==============================] - 0s 29ms/step - loss: 118145192.0000 - mse: 118145192.0000 - mae: 10252.9092 - mape: 76.6605 - smape: 125.5108 - val_loss: 112467928.0000 - val_mse: 112467928.0000 - val_mae: 10147.7461 - val_mape: 76.2953 - val_smape: 124.3045\n",
            "Epoch 60/200\n",
            "1/1 [==============================] - 0s 27ms/step - loss: 115938688.0000 - mse: 115938688.0000 - mae: 10144.7246 - mape: 75.7500 - smape: 123.1996 - val_loss: 110245016.0000 - val_mse: 110245016.0000 - val_mae: 10037.6064 - val_mape: 75.3892 - val_smape: 122.0037\n",
            "Epoch 61/200\n",
            "1/1 [==============================] - 0s 26ms/step - loss: 113716360.0000 - mse: 113716360.0000 - mae: 10034.5850 - mape: 74.8231 - smape: 120.8822 - val_loss: 108008216.0000 - val_mse: 108008216.0000 - val_mae: 9925.5459 - val_mape: 74.4673 - val_smape: 119.6977\n",
            "Epoch 62/200\n",
            "1/1 [==============================] - 0s 31ms/step - loss: 111480168.0000 - mse: 111480168.0000 - mae: 9922.5244 - mape: 73.8800 - smape: 118.5603 - val_loss: 105759528.0000 - val_mse: 105759528.0000 - val_mae: 9811.6006 - val_mape: 73.5299 - val_smape: 117.3880\n",
            "Epoch 63/200\n",
            "1/1 [==============================] - 0s 37ms/step - loss: 109232080.0000 - mse: 109232080.0000 - mae: 9808.5791 - mape: 72.9210 - smape: 116.2357 - val_loss: 103500968.0000 - val_mse: 103500968.0000 - val_mae: 9695.8057 - val_mape: 72.5773 - val_smape: 115.0763\n",
            "Epoch 64/200\n",
            "1/1 [==============================] - 0s 32ms/step - loss: 106974136.0000 - mse: 106974136.0000 - mae: 9692.7861 - mape: 71.9465 - smape: 113.9099 - val_loss: 101234584.0000 - val_mse: 101234584.0000 - val_mae: 9578.2041 - val_mape: 71.6098 - val_smape: 112.7644\n",
            "Epoch 65/200\n",
            "1/1 [==============================] - 0s 59ms/step - loss: 104708368.0000 - mse: 104708368.0000 - mae: 9575.1846 - mape: 70.9567 - smape: 111.5846 - val_loss: 98962408.0000 - val_mse: 98962408.0000 - val_mae: 9458.8350 - val_mape: 70.6278 - val_smape: 110.4536\n",
            "Epoch 66/200\n",
            "1/1 [==============================] - 0s 38ms/step - loss: 102436848.0000 - mse: 102436848.0000 - mae: 9455.8145 - mape: 69.9521 - smape: 109.2614 - val_loss: 96686552.0000 - val_mse: 96686552.0000 - val_mae: 9337.7422 - val_mape: 69.6316 - val_smape: 108.1457\n",
            "Epoch 67/200\n",
            "1/1 [==============================] - 0s 29ms/step - loss: 100161608.0000 - mse: 100161608.0000 - mae: 9334.7207 - mape: 68.9330 - smape: 106.9417 - val_loss: 94409064.0000 - val_mse: 94409064.0000 - val_mae: 9214.9717 - val_mape: 68.6216 - val_smape: 105.8420\n",
            "Epoch 68/200\n",
            "1/1 [==============================] - 0s 27ms/step - loss: 97884784.0000 - mse: 97884784.0000 - mae: 9211.9502 - mape: 67.8998 - smape: 104.6271 - val_loss: 92132064.0000 - val_mse: 92132064.0000 - val_mae: 9090.5684 - val_mape: 67.5982 - val_smape: 103.5440\n",
            "Epoch 69/200\n",
            "1/1 [==============================] - 0s 28ms/step - loss: 95608440.0000 - mse: 95608440.0000 - mae: 9087.5469 - mape: 66.8528 - smape: 102.3190 - val_loss: 89857640.0000 - val_mse: 89857640.0000 - val_mae: 8964.5840 - val_mape: 66.5618 - val_smape: 101.2532\n",
            "Epoch 70/200\n",
            "1/1 [==============================] - 0s 28ms/step - loss: 93334696.0000 - mse: 93334696.0000 - mae: 8961.5635 - mape: 65.7926 - smape: 100.0188 - val_loss: 87587928.0000 - val_mse: 87587928.0000 - val_mae: 8837.0693 - val_mape: 65.5128 - val_smape: 98.9709\n",
            "Epoch 71/200\n",
            "1/1 [==============================] - 0s 26ms/step - loss: 91065656.0000 - mse: 91065656.0000 - mae: 8834.0488 - mape: 64.7194 - smape: 97.7279 - val_loss: 85324984.0000 - val_mse: 85324984.0000 - val_mae: 8708.0771 - val_mape: 64.4516 - val_smape: 96.6985\n",
            "Epoch 72/200\n",
            "1/1 [==============================] - 0s 27ms/step - loss: 88803384.0000 - mse: 88803384.0000 - mae: 8705.0566 - mape: 63.6339 - smape: 95.4476 - val_loss: 83070904.0000 - val_mse: 83070904.0000 - val_mae: 8577.6631 - val_mape: 63.3787 - val_smape: 94.4372\n",
            "Epoch 73/200\n",
            "1/1 [==============================] - 0s 28ms/step - loss: 86550000.0000 - mse: 86550000.0000 - mae: 8574.6426 - mape: 62.5364 - smape: 93.1792 - val_loss: 80827784.0000 - val_mse: 80827784.0000 - val_mae: 8445.8838 - val_mape: 62.2947 - val_smape: 92.1884\n",
            "Epoch 74/200\n",
            "1/1 [==============================] - 0s 27ms/step - loss: 84307568.0000 - mse: 84307568.0000 - mae: 8442.8643 - mape: 61.4274 - smape: 90.9240 - val_loss: 78597680.0000 - val_mse: 78597680.0000 - val_mae: 8312.8008 - val_mape: 61.1998 - val_smape: 89.9531\n",
            "Epoch 75/200\n",
            "1/1 [==============================] - 0s 26ms/step - loss: 82078160.0000 - mse: 82078160.0000 - mae: 8309.7793 - mape: 60.3074 - smape: 88.6830 - val_loss: 76382632.0000 - val_mse: 76382632.0000 - val_mae: 8178.4712 - val_mape: 60.0948 - val_smape: 87.7326\n",
            "Epoch 76/200\n",
            "1/1 [==============================] - 0s 27ms/step - loss: 79863816.0000 - mse: 79863816.0000 - mae: 8175.4502 - mape: 59.1769 - smape: 86.4574 - val_loss: 74184648.0000 - val_mse: 74184648.0000 - val_mae: 8042.9595 - val_mape: 58.9800 - val_smape: 85.5281\n",
            "Epoch 77/200\n",
            "1/1 [==============================] - 0s 27ms/step - loss: 77666544.0000 - mse: 77666544.0000 - mae: 8039.9390 - mape: 58.0365 - smape: 84.2484 - val_loss: 72005720.0000 - val_mse: 72005720.0000 - val_mae: 7906.3320 - val_mape: 57.8561 - val_smape: 83.3405\n",
            "Epoch 78/200\n",
            "1/1 [==============================] - 0s 48ms/step - loss: 75488320.0000 - mse: 75488320.0000 - mae: 7903.3115 - mape: 56.8867 - smape: 82.0570 - val_loss: 69847808.0000 - val_mse: 69847808.0000 - val_mae: 7768.6548 - val_mape: 56.7235 - val_smape: 81.1709\n",
            "Epoch 79/200\n",
            "1/1 [==============================] - 0s 27ms/step - loss: 73331120.0000 - mse: 73331120.0000 - mae: 7765.6343 - mape: 55.7281 - smape: 79.8843 - val_loss: 67712824.0000 - val_mse: 67712824.0000 - val_mae: 7629.9961 - val_mape: 55.5828 - val_smape: 79.0203\n",
            "Epoch 80/200\n",
            "1/1 [==============================] - 0s 26ms/step - loss: 71196848.0000 - mse: 71196848.0000 - mae: 7626.9756 - mape: 54.5613 - smape: 77.7311 - val_loss: 65602636.0000 - val_mse: 65602636.0000 - val_mae: 7490.4263 - val_mape: 54.4347 - val_smape: 76.8897\n",
            "Epoch 81/200\n",
            "1/1 [==============================] - 0s 27ms/step - loss: 69087376.0000 - mse: 69087376.0000 - mae: 7487.4062 - mape: 53.3867 - smape: 75.5984 - val_loss: 63519084.0000 - val_mse: 63519084.0000 - val_mae: 7350.0195 - val_mape: 53.2797 - val_smape: 74.7799\n",
            "Epoch 82/200\n",
            "1/1 [==============================] - 0s 27ms/step - loss: 67004544.0000 - mse: 67004544.0000 - mae: 7346.9990 - mape: 52.2052 - smape: 73.4871 - val_loss: 61463932.0000 - val_mse: 61463932.0000 - val_mae: 7208.8496 - val_mape: 52.1184 - val_smape: 72.6919\n",
            "Epoch 83/200\n",
            "1/1 [==============================] - 0s 28ms/step - loss: 64950108.0000 - mse: 64950108.0000 - mae: 7207.3325 - mape: 51.0431 - smape: 71.4238 - val_loss: 59438912.0000 - val_mse: 59438912.0000 - val_mae: 7066.9907 - val_mape: 50.9514 - val_smape: 70.6264\n",
            "Epoch 84/200\n",
            "1/1 [==============================] - 0s 29ms/step - loss: 62925804.0000 - mse: 62925804.0000 - mae: 7068.3726 - mape: 49.8992 - smape: 69.4065 - val_loss: 57445684.0000 - val_mse: 57445684.0000 - val_mae: 6924.5239 - val_mape: 49.7794 - val_smape: 68.5843\n",
            "Epoch 85/200\n",
            "1/1 [==============================] - 0s 28ms/step - loss: 60933300.0000 - mse: 60933300.0000 - mae: 6928.8149 - mape: 48.7504 - smape: 67.4120 - val_loss: 55485852.0000 - val_mse: 55485852.0000 - val_mae: 6781.5269 - val_mape: 48.6031 - val_smape: 66.5663\n",
            "Epoch 86/200\n",
            "1/1 [==============================] - 0s 28ms/step - loss: 58974180.0000 - mse: 58974180.0000 - mae: 6788.7368 - mape: 47.5973 - smape: 65.4411 - val_loss: 53560948.0000 - val_mse: 53560948.0000 - val_mae: 6638.0806 - val_mape: 47.4231 - val_smape: 64.5731\n",
            "Epoch 87/200\n",
            "1/1 [==============================] - 0s 52ms/step - loss: 57049984.0000 - mse: 57049984.0000 - mae: 6648.2183 - mape: 46.4406 - smape: 63.4945 - val_loss: 51672436.0000 - val_mse: 51672436.0000 - val_mae: 6494.2695 - val_mape: 46.2401 - val_smape: 62.6054\n",
            "Epoch 88/200\n",
            "1/1 [==============================] - 0s 30ms/step - loss: 55162180.0000 - mse: 55162180.0000 - mae: 6508.6953 - mape: 45.3019 - smape: 61.5937 - val_loss: 49821696.0000 - val_mse: 49821696.0000 - val_mae: 6350.1772 - val_mape: 45.0548 - val_smape: 60.6638\n",
            "Epoch 89/200\n",
            "1/1 [==============================] - 0s 27ms/step - loss: 53312148.0000 - mse: 53312148.0000 - mae: 6370.6221 - mape: 44.1875 - smape: 59.7442 - val_loss: 48010048.0000 - val_mse: 48010048.0000 - val_mae: 6205.8901 - val_mape: 43.8679 - val_smape: 58.7490\n",
            "Epoch 90/200\n",
            "1/1 [==============================] - 0s 28ms/step - loss: 51501196.0000 - mse: 51501196.0000 - mae: 6235.1377 - mape: 43.1139 - smape: 57.9616 - val_loss: 46238708.0000 - val_mse: 46238708.0000 - val_mae: 6061.4946 - val_mape: 42.6801 - val_smape: 56.8615\n",
            "Epoch 91/200\n",
            "1/1 [==============================] - 0s 26ms/step - loss: 49730552.0000 - mse: 49730552.0000 - mae: 6099.5513 - mape: 42.0395 - smape: 56.2040 - val_loss: 44508832.0000 - val_mse: 44508832.0000 - val_mae: 5917.0806 - val_mape: 41.4922 - val_smape: 55.0018\n",
            "Epoch 92/200\n",
            "1/1 [==============================] - 0s 26ms/step - loss: 48001372.0000 - mse: 48001372.0000 - mae: 5963.9448 - mape: 40.9649 - smape: 54.4717 - val_loss: 42821468.0000 - val_mse: 42821468.0000 - val_mae: 5776.5288 - val_mape: 40.3572 - val_smape: 53.2226\n",
            "Epoch 93/200\n",
            "1/1 [==============================] - 0s 26ms/step - loss: 46314688.0000 - mse: 46314688.0000 - mae: 5830.0044 - mape: 39.9129 - smape: 52.7873 - val_loss: 41177588.0000 - val_mse: 41177588.0000 - val_mae: 5639.1914 - val_mape: 39.2658 - val_smape: 51.5127\n",
            "Epoch 94/200\n",
            "1/1 [==============================] - 0s 26ms/step - loss: 44671480.0000 - mse: 44671480.0000 - mae: 5697.5562 - mape: 38.8807 - smape: 51.1471 - val_loss: 39578052.0000 - val_mse: 39578052.0000 - val_mae: 5502.0923 - val_mape: 38.1762 - val_smape: 49.8300\n",
            "Epoch 95/200\n",
            "1/1 [==============================] - 0s 27ms/step - loss: 43072608.0000 - mse: 43072608.0000 - mae: 5565.3394 - mape: 37.8502 - smape: 49.5329 - val_loss: 38023648.0000 - val_mse: 38023648.0000 - val_mae: 5365.3208 - val_mape: 37.0892 - val_smape: 48.1750\n",
            "Epoch 96/200\n",
            "1/1 [==============================] - 0s 25ms/step - loss: 41518852.0000 - mse: 41518852.0000 - mae: 5433.4385 - mape: 36.8222 - smape: 47.9450 - val_loss: 36515036.0000 - val_mse: 36515036.0000 - val_mae: 5236.4487 - val_mape: 36.1020 - val_smape: 46.6439\n",
            "Epoch 97/200\n",
            "1/1 [==============================] - 0s 40ms/step - loss: 40010900.0000 - mse: 40010900.0000 - mae: 5307.7251 - mape: 35.8718 - smape: 46.4578 - val_loss: 35052812.0000 - val_mse: 35052812.0000 - val_mae: 5119.6489 - val_mape: 35.2673 - val_smape: 45.2867\n",
            "Epoch 98/200\n",
            "1/1 [==============================] - 0s 30ms/step - loss: 38549300.0000 - mse: 38549300.0000 - mae: 5188.3906 - mape: 35.0009 - smape: 45.0712 - val_loss: 33637444.0000 - val_mse: 33637444.0000 - val_mae: 5011.3979 - val_mape: 34.5367 - val_smape: 44.0522\n",
            "Epoch 99/200\n",
            "1/1 [==============================] - 0s 26ms/step - loss: 37134552.0000 - mse: 37134552.0000 - mae: 5075.0625 - mape: 34.2015 - smape: 43.7762 - val_loss: 32269306.0000 - val_mse: 32269306.0000 - val_mae: 4910.4492 - val_mape: 33.8930 - val_smape: 42.9217\n",
            "Epoch 100/200\n",
            "1/1 [==============================] - 0s 25ms/step - loss: 35767016.0000 - mse: 35767016.0000 - mae: 4982.7886 - mape: 33.6588 - smape: 42.7542 - val_loss: 30948666.0000 - val_mse: 30948666.0000 - val_mae: 4814.7651 - val_mape: 33.3100 - val_smape: 41.8677\n",
            "Epoch 101/200\n",
            "1/1 [==============================] - 0s 25ms/step - loss: 34446980.0000 - mse: 34446980.0000 - mae: 4895.4263 - mape: 33.1726 - smape: 41.8027 - val_loss: 29675706.0000 - val_mse: 29675706.0000 - val_mae: 4721.7681 - val_mape: 32.7559 - val_smape: 40.8573\n",
            "Epoch 102/200\n",
            "1/1 [==============================] - 0s 26ms/step - loss: 33174598.0000 - mse: 33174598.0000 - mae: 4809.9341 - mape: 32.7054 - smape: 40.8834 - val_loss: 28450472.0000 - val_mse: 28450472.0000 - val_mae: 4629.4473 - val_mape: 32.2058 - val_smape: 39.8655\n",
            "Epoch 103/200\n",
            "1/1 [==============================] - 0s 26ms/step - loss: 31949922.0000 - mse: 31949922.0000 - mae: 4726.1772 - mape: 32.2543 - smape: 39.9934 - val_loss: 27272938.0000 - val_mse: 27272938.0000 - val_mae: 4537.8672 - val_mape: 31.6602 - val_smape: 38.8925\n",
            "Epoch 104/200\n",
            "1/1 [==============================] - 0s 25ms/step - loss: 30772934.0000 - mse: 30772934.0000 - mae: 4646.9639 - mape: 31.8514 - smape: 39.1640 - val_loss: 26142966.0000 - val_mse: 26142966.0000 - val_mae: 4447.0918 - val_mape: 31.1193 - val_smape: 37.9386\n",
            "Epoch 105/200\n",
            "1/1 [==============================] - 0s 25ms/step - loss: 29643494.0000 - mse: 29643494.0000 - mae: 4569.0610 - mape: 31.4592 - smape: 38.3572 - val_loss: 25060306.0000 - val_mse: 25060306.0000 - val_mae: 4357.1831 - val_mape: 30.5836 - val_smape: 37.0040\n",
            "Epoch 106/200\n",
            "1/1 [==============================] - 0s 26ms/step - loss: 28561346.0000 - mse: 28561346.0000 - mae: 4491.8940 - mape: 31.0705 - smape: 37.5660 - val_loss: 24024626.0000 - val_mse: 24024626.0000 - val_mae: 4268.2036 - val_mape: 30.0534 - val_smape: 36.0888\n",
            "Epoch 107/200\n",
            "1/1 [==============================] - 0s 26ms/step - loss: 27526156.0000 - mse: 27526156.0000 - mae: 4415.6694 - mape: 30.6875 - smape: 36.7923 - val_loss: 23035486.0000 - val_mse: 23035486.0000 - val_mae: 4180.2153 - val_mape: 29.5291 - val_smape: 35.1933\n",
            "Epoch 108/200\n",
            "1/1 [==============================] - 0s 25ms/step - loss: 26537486.0000 - mse: 26537486.0000 - mae: 4344.9575 - mape: 30.3598 - smape: 36.0854 - val_loss: 22092346.0000 - val_mse: 22092346.0000 - val_mae: 4093.2773 - val_mape: 29.0111 - val_smape: 34.3176\n",
            "Epoch 109/200\n",
            "1/1 [==============================] - 0s 38ms/step - loss: 25594804.0000 - mse: 25594804.0000 - mae: 4275.6475 - mape: 30.0421 - smape: 35.3994 - val_loss: 21194602.0000 - val_mse: 21194602.0000 - val_mae: 4007.5029 - val_mape: 28.5003 - val_smape: 33.4623\n",
            "Epoch 110/200\n",
            "1/1 [==============================] - 0s 29ms/step - loss: 24697488.0000 - mse: 24697488.0000 - mae: 4207.4775 - mape: 29.7312 - smape: 34.7309 - val_loss: 20341526.0000 - val_mse: 20341526.0000 - val_mae: 3928.7903 - val_mape: 28.0575 - val_smape: 32.6877\n",
            "Epoch 111/200\n",
            "1/1 [==============================] - 0s 26ms/step - loss: 23844820.0000 - mse: 23844820.0000 - mae: 4144.7954 - mape: 29.4717 - smape: 34.1244 - val_loss: 19532334.0000 - val_mse: 19532334.0000 - val_mae: 3857.0938 - val_mape: 27.6812 - val_smape: 31.9915\n",
            "Epoch 112/200\n",
            "1/1 [==============================] - 0s 25ms/step - loss: 23036016.0000 - mse: 23036016.0000 - mae: 4088.6565 - mape: 29.2735 - smape: 33.5890 - val_loss: 18766144.0000 - val_mse: 18766144.0000 - val_mae: 3795.9707 - val_mape: 27.4073 - val_smape: 31.4081\n",
            "Epoch 113/200\n",
            "1/1 [==============================] - 0s 25ms/step - loss: 22270192.0000 - mse: 22270192.0000 - mae: 4038.3123 - mape: 29.1286 - smape: 33.1157 - val_loss: 18042014.0000 - val_mse: 18042014.0000 - val_mae: 3737.9890 - val_mape: 27.1595 - val_smape: 30.8604\n",
            "Epoch 114/200\n",
            "1/1 [==============================] - 0s 26ms/step - loss: 21546400.0000 - mse: 21546400.0000 - mae: 3988.7839 - mape: 28.9859 - smape: 32.6533 - val_loss: 17358910.0000 - val_mse: 17358910.0000 - val_mae: 3680.9873 - val_mape: 26.9158 - val_smape: 30.3264\n",
            "Epoch 115/200\n",
            "1/1 [==============================] - 0s 27ms/step - loss: 20863614.0000 - mse: 20863614.0000 - mae: 3940.1021 - mape: 28.8456 - smape: 32.2021 - val_loss: 16715760.0000 - val_mse: 16715760.0000 - val_mae: 3625.0020 - val_mape: 26.6764 - val_smape: 29.8059\n",
            "Epoch 116/200\n",
            "1/1 [==============================] - 0s 26ms/step - loss: 20220750.0000 - mse: 20220750.0000 - mae: 3892.2974 - mape: 28.7079 - smape: 31.7620 - val_loss: 16111419.0000 - val_mse: 16111419.0000 - val_mae: 3570.0667 - val_mape: 26.4414 - val_smape: 29.2992\n",
            "Epoch 117/200\n",
            "1/1 [==============================] - 0s 27ms/step - loss: 19616670.0000 - mse: 19616670.0000 - mae: 3845.3989 - mape: 28.5727 - smape: 31.3333 - val_loss: 15544677.0000 - val_mse: 15544677.0000 - val_mae: 3516.2136 - val_mape: 26.2109 - val_smape: 28.8062\n",
            "Epoch 118/200\n",
            "1/1 [==============================] - 0s 27ms/step - loss: 19050172.0000 - mse: 19050172.0000 - mae: 3799.4348 - mape: 28.4402 - smape: 30.9159 - val_loss: 15014291.0000 - val_mse: 15014291.0000 - val_mae: 3463.4727 - val_mape: 25.9851 - val_smape: 28.3270\n",
            "Epoch 119/200\n",
            "1/1 [==============================] - 0s 33ms/step - loss: 18519996.0000 - mse: 18519996.0000 - mae: 3754.4302 - mape: 28.3104 - smape: 30.5099 - val_loss: 14518981.0000 - val_mse: 14518981.0000 - val_mae: 3416.4324 - val_mape: 25.8064 - val_smape: 27.9035\n",
            "Epoch 120/200\n",
            "1/1 [==============================] - 0s 98ms/step - loss: 18024874.0000 - mse: 18024874.0000 - mae: 3710.4109 - mape: 28.1834 - smape: 30.1153 - val_loss: 14057421.0000 - val_mse: 14057421.0000 - val_mae: 3371.0488 - val_mape: 25.6370 - val_smape: 27.4979\n",
            "Epoch 121/200\n",
            "1/1 [==============================] - 0s 48ms/step - loss: 17563470.0000 - mse: 17563470.0000 - mae: 3669.3025 - mape: 28.0769 - smape: 29.7497 - val_loss: 13628256.0000 - val_mse: 13628256.0000 - val_mae: 3329.3215 - val_mape: 25.4953 - val_smape: 27.1282\n",
            "Epoch 122/200\n",
            "1/1 [==============================] - 0s 52ms/step - loss: 17134438.0000 - mse: 17134438.0000 - mae: 3629.4016 - mape: 27.9750 - smape: 29.3970 - val_loss: 13230117.0000 - val_mse: 13230117.0000 - val_mae: 3291.0149 - val_mape: 25.3790 - val_smape: 26.7916\n",
            "Epoch 123/200\n",
            "1/1 [==============================] - 0s 51ms/step - loss: 16736401.0000 - mse: 16736401.0000 - mae: 3591.8928 - mape: 27.8885 - smape: 29.0679 - val_loss: 12861613.0000 - val_mse: 12861613.0000 - val_mae: 3258.0154 - val_mape: 25.3042 - val_smape: 26.5041\n",
            "Epoch 124/200\n",
            "1/1 [==============================] - 0s 55ms/step - loss: 16367971.0000 - mse: 16367971.0000 - mae: 3557.7449 - mape: 27.8256 - smape: 28.7706 - val_loss: 12521344.0000 - val_mse: 12521344.0000 - val_mae: 3226.4004 - val_mape: 25.2358 - val_smape: 26.2302\n",
            "Epoch 125/200\n",
            "1/1 [==============================] - 0s 45ms/step - loss: 16027754.0000 - mse: 16027754.0000 - mae: 3526.5391 - mape: 27.7825 - smape: 28.5007 - val_loss: 12207917.0000 - val_mse: 12207917.0000 - val_mae: 3195.6799 - val_mape: 25.1693 - val_smape: 25.9654\n",
            "Epoch 126/200\n",
            "1/1 [==============================] - 0s 35ms/step - loss: 15714346.0000 - mse: 15714346.0000 - mae: 3496.2029 - mape: 27.7405 - smape: 28.2396 - val_loss: 11919920.0000 - val_mse: 11919920.0000 - val_mae: 3165.8625 - val_mape: 25.1047 - val_smape: 25.7096\n",
            "Epoch 127/200\n",
            "1/1 [==============================] - 0s 33ms/step - loss: 15426347.0000 - mse: 15426347.0000 - mae: 3466.7458 - mape: 27.6995 - smape: 27.9873 - val_loss: 11655980.0000 - val_mse: 11655980.0000 - val_mae: 3136.9578 - val_mape: 25.0421 - val_smape: 25.4629\n",
            "Epoch 128/200\n",
            "1/1 [==============================] - 0s 36ms/step - loss: 15162375.0000 - mse: 15162375.0000 - mae: 3439.6975 - mape: 27.6728 - smape: 27.7568 - val_loss: 11414717.0000 - val_mse: 11414717.0000 - val_mae: 3108.9700 - val_mape: 24.9814 - val_smape: 25.2251\n",
            "Epoch 129/200\n",
            "1/1 [==============================] - 0s 60ms/step - loss: 14921050.0000 - mse: 14921050.0000 - mae: 3414.5417 - mape: 27.6559 - smape: 27.5434 - val_loss: 11194772.0000 - val_mse: 11194772.0000 - val_mae: 3081.9023 - val_mape: 24.9228 - val_smape: 24.9961\n",
            "Epoch 130/200\n",
            "1/1 [==============================] - 0s 29ms/step - loss: 14701021.0000 - mse: 14701021.0000 - mae: 3391.0742 - mape: 27.6469 - smape: 27.3453 - val_loss: 10994827.0000 - val_mse: 10994827.0000 - val_mae: 3055.7581 - val_mape: 24.8661 - val_smape: 24.7759\n",
            "Epoch 131/200\n",
            "1/1 [==============================] - 0s 27ms/step - loss: 14500962.0000 - mse: 14500962.0000 - mae: 3370.0217 - mape: 27.6520 - smape: 27.1684 - val_loss: 10813577.0000 - val_mse: 10813577.0000 - val_mae: 3030.5371 - val_mape: 24.8113 - val_smape: 24.5643\n",
            "Epoch 132/200\n",
            "1/1 [==============================] - 0s 26ms/step - loss: 14319575.0000 - mse: 14319575.0000 - mae: 3350.3176 - mape: 27.6621 - smape: 27.0035 - val_loss: 10649758.0000 - val_mse: 10649758.0000 - val_mae: 3006.2390 - val_mape: 24.7586 - val_smape: 24.3613\n",
            "Epoch 133/200\n",
            "1/1 [==============================] - 0s 27ms/step - loss: 14155592.0000 - mse: 14155592.0000 - mae: 3332.2397 - mape: 27.6795 - smape: 26.8528 - val_loss: 10502143.0000 - val_mse: 10502143.0000 - val_mae: 2982.8586 - val_mape: 24.7078 - val_smape: 24.1668\n",
            "Epoch 134/200\n",
            "1/1 [==============================] - 0s 27ms/step - loss: 14007789.0000 - mse: 14007789.0000 - mae: 3314.8337 - mape: 27.6962 - smape: 26.7082 - val_loss: 10369548.0000 - val_mse: 10369548.0000 - val_mae: 2960.3933 - val_mape: 24.6590 - val_smape: 23.9805\n",
            "Epoch 135/200\n",
            "1/1 [==============================] - 0s 40ms/step - loss: 13874982.0000 - mse: 13874982.0000 - mae: 3298.0972 - mape: 27.7120 - smape: 26.5695 - val_loss: 10250831.0000 - val_mse: 10250831.0000 - val_mae: 2938.8357 - val_mape: 24.6121 - val_smape: 23.8024\n",
            "Epoch 136/200\n",
            "1/1 [==============================] - 0s 29ms/step - loss: 13756032.0000 - mse: 13756032.0000 - mae: 3282.0237 - mape: 27.7271 - smape: 26.4367 - val_loss: 10144903.0000 - val_mse: 10144903.0000 - val_mae: 2918.1785 - val_mape: 24.5671 - val_smape: 23.6324\n",
            "Epoch 137/200\n",
            "1/1 [==============================] - 0s 28ms/step - loss: 13649845.0000 - mse: 13649845.0000 - mae: 3266.6101 - mape: 27.7414 - smape: 26.3097 - val_loss: 10050712.0000 - val_mse: 10050712.0000 - val_mae: 2898.4114 - val_mape: 24.5241 - val_smape: 23.4701\n",
            "Epoch 138/200\n",
            "1/1 [==============================] - 0s 55ms/step - loss: 13555373.0000 - mse: 13555373.0000 - mae: 3251.8474 - mape: 27.7550 - smape: 26.1883 - val_loss: 9967265.0000 - val_mse: 9967265.0000 - val_mae: 2880.2859 - val_mape: 24.4891 - val_smape: 23.3218\n",
            "Epoch 139/200\n",
            "1/1 [==============================] - 0s 31ms/step - loss: 13471624.0000 - mse: 13471624.0000 - mae: 3237.7290 - mape: 27.7678 - smape: 26.0726 - val_loss: 9893617.0000 - val_mse: 9893617.0000 - val_mae: 2865.0676 - val_mape: 24.4723 - val_smape: 23.1973\n",
            "Epoch 140/200\n",
            "1/1 [==============================] - 0s 29ms/step - loss: 13397655.0000 - mse: 13397655.0000 - mae: 3224.2461 - mape: 27.7799 - smape: 25.9623 - val_loss: 9828876.0000 - val_mse: 9828876.0000 - val_mae: 2850.5828 - val_mape: 24.4564 - val_smape: 23.0790\n",
            "Epoch 141/200\n",
            "1/1 [==============================] - 0s 26ms/step - loss: 13332574.0000 - mse: 13332574.0000 - mae: 3211.3879 - mape: 27.7913 - smape: 25.8574 - val_loss: 9772208.0000 - val_mse: 9772208.0000 - val_mae: 2836.8176 - val_mape: 24.4413 - val_smape: 22.9670\n",
            "Epoch 142/200\n",
            "1/1 [==============================] - 0s 25ms/step - loss: 13275544.0000 - mse: 13275544.0000 - mae: 3199.7439 - mape: 27.8068 - smape: 25.7625 - val_loss: 9722822.0000 - val_mse: 9722822.0000 - val_mae: 2823.7588 - val_mape: 24.4271 - val_smape: 22.8609\n",
            "Epoch 143/200\n",
            "1/1 [==============================] - 0s 26ms/step - loss: 13225779.0000 - mse: 13225779.0000 - mae: 3189.0422 - mape: 27.8243 - smape: 25.6754 - val_loss: 9679982.0000 - val_mse: 9679982.0000 - val_mae: 2811.3904 - val_mape: 24.4137 - val_smape: 22.7607\n",
            "Epoch 144/200\n",
            "1/1 [==============================] - 0s 26ms/step - loss: 13182547.0000 - mse: 13182547.0000 - mae: 3179.6270 - mape: 27.8468 - smape: 25.5989 - val_loss: 9643009.0000 - val_mse: 9643009.0000 - val_mae: 2799.6970 - val_mape: 24.4010 - val_smape: 22.6661\n",
            "Epoch 145/200\n",
            "1/1 [==============================] - 0s 26ms/step - loss: 13145160.0000 - mse: 13145160.0000 - mae: 3170.6917 - mape: 27.8679 - smape: 25.5264 - val_loss: 9611268.0000 - val_mse: 9611268.0000 - val_mae: 2788.6614 - val_mape: 24.3892 - val_smape: 22.5770\n",
            "Epoch 146/200\n",
            "1/1 [==============================] - 0s 25ms/step - loss: 13112992.0000 - mse: 13112992.0000 - mae: 3162.2258 - mape: 27.8875 - smape: 25.4578 - val_loss: 9584171.0000 - val_mse: 9584171.0000 - val_mae: 2778.2664 - val_mape: 24.3781 - val_smape: 22.4933\n",
            "Epoch 147/200\n",
            "1/1 [==============================] - 0s 25ms/step - loss: 13085457.0000 - mse: 13085457.0000 - mae: 3154.2166 - mape: 27.9058 - smape: 25.3930 - val_loss: 9561185.0000 - val_mse: 9561185.0000 - val_mae: 2768.4934 - val_mape: 24.3677 - val_smape: 22.4147\n",
            "Epoch 148/200\n",
            "1/1 [==============================] - 0s 25ms/step - loss: 13062017.0000 - mse: 13062017.0000 - mae: 3146.6519 - mape: 27.9228 - smape: 25.3320 - val_loss: 9541813.0000 - val_mse: 9541813.0000 - val_mae: 2759.3245 - val_mape: 24.3580 - val_smape: 22.3411\n",
            "Epoch 149/200\n",
            "1/1 [==============================] - 0s 48ms/step - loss: 13042182.0000 - mse: 13042182.0000 - mae: 3139.5190 - mape: 27.9386 - smape: 25.2745 - val_loss: 9525612.0000 - val_mse: 9525612.0000 - val_mae: 2750.7405 - val_mape: 24.3491 - val_smape: 22.2722\n",
            "Epoch 150/200\n",
            "1/1 [==============================] - 0s 26ms/step - loss: 13025507.0000 - mse: 13025507.0000 - mae: 3132.8052 - mape: 27.9531 - smape: 25.2205 - val_loss: 9512171.0000 - val_mse: 9512171.0000 - val_mae: 2742.7214 - val_mape: 24.3407 - val_smape: 22.2080\n",
            "Epoch 151/200\n",
            "1/1 [==============================] - 0s 26ms/step - loss: 13011581.0000 - mse: 13011581.0000 - mae: 3126.4966 - mape: 27.9664 - smape: 25.1698 - val_loss: 9501123.0000 - val_mse: 9501123.0000 - val_mae: 2735.2473 - val_mape: 24.3330 - val_smape: 22.1483\n",
            "Epoch 152/200\n",
            "1/1 [==============================] - 0s 27ms/step - loss: 13000037.0000 - mse: 13000037.0000 - mae: 3120.5801 - mape: 27.9786 - smape: 25.1223 - val_loss: 9492135.0000 - val_mse: 9492135.0000 - val_mae: 2728.2986 - val_mape: 24.3259 - val_smape: 22.0928\n",
            "Epoch 153/200\n",
            "1/1 [==============================] - 0s 26ms/step - loss: 12990547.0000 - mse: 12990547.0000 - mae: 3115.0413 - mape: 27.9897 - smape: 25.0779 - val_loss: 9484913.0000 - val_mse: 9484913.0000 - val_mae: 2721.8542 - val_mape: 24.3194 - val_smape: 22.0414\n",
            "Epoch 154/200\n",
            "1/1 [==============================] - 0s 26ms/step - loss: 12982818.0000 - mse: 12982818.0000 - mae: 3109.8667 - mape: 27.9998 - smape: 25.0365 - val_loss: 9479193.0000 - val_mse: 9479193.0000 - val_mae: 2715.8953 - val_mape: 24.3135 - val_smape: 21.9940\n",
            "Epoch 155/200\n",
            "1/1 [==============================] - 0s 27ms/step - loss: 12976582.0000 - mse: 12976582.0000 - mae: 3105.0422 - mape: 28.0089 - smape: 24.9979 - val_loss: 9474739.0000 - val_mse: 9474739.0000 - val_mae: 2710.3999 - val_mape: 24.3081 - val_smape: 21.9502\n",
            "Epoch 156/200\n",
            "1/1 [==============================] - 0s 27ms/step - loss: 12971609.0000 - mse: 12971609.0000 - mae: 3100.5532 - mape: 28.0170 - smape: 24.9621 - val_loss: 9471343.0000 - val_mse: 9471343.0000 - val_mae: 2705.3484 - val_mape: 24.3032 - val_smape: 21.9101\n",
            "Epoch 157/200\n",
            "1/1 [==============================] - 0s 26ms/step - loss: 12967686.0000 - mse: 12967686.0000 - mae: 3096.3865 - mape: 28.0243 - smape: 24.9289 - val_loss: 9468825.0000 - val_mse: 9468825.0000 - val_mae: 2700.7209 - val_mape: 24.2988 - val_smape: 21.8733\n",
            "Epoch 158/200\n",
            "1/1 [==============================] - 0s 25ms/step - loss: 12964642.0000 - mse: 12964642.0000 - mae: 3092.5276 - mape: 28.0307 - smape: 24.8982 - val_loss: 9467025.0000 - val_mse: 9467025.0000 - val_mae: 2696.4963 - val_mape: 24.2948 - val_smape: 21.8398\n",
            "Epoch 159/200\n",
            "1/1 [==============================] - 0s 37ms/step - loss: 12962311.0000 - mse: 12962311.0000 - mae: 3088.9624 - mape: 28.0362 - smape: 24.8699 - val_loss: 9465809.0000 - val_mse: 9465809.0000 - val_mae: 2692.6555 - val_mape: 24.2913 - val_smape: 21.8093\n",
            "Epoch 160/200\n",
            "1/1 [==============================] - 0s 31ms/step - loss: 12960566.0000 - mse: 12960566.0000 - mae: 3085.6772 - mape: 28.0410 - smape: 24.8438 - val_loss: 9465059.0000 - val_mse: 9465059.0000 - val_mae: 2689.1790 - val_mape: 24.2882 - val_smape: 21.7818\n",
            "Epoch 161/200\n",
            "1/1 [==============================] - 0s 25ms/step - loss: 12959283.0000 - mse: 12959283.0000 - mae: 3082.8574 - mape: 28.0466 - smape: 24.8214 - val_loss: 9464673.0000 - val_mse: 9464673.0000 - val_mae: 2686.0469 - val_mape: 24.2855 - val_smape: 21.7570\n",
            "Epoch 162/200\n",
            "1/1 [==============================] - 0s 24ms/step - loss: 12958363.0000 - mse: 12958363.0000 - mae: 3080.4219 - mape: 28.0525 - smape: 24.8020 - val_loss: 9464565.0000 - val_mse: 9464565.0000 - val_mae: 2683.2410 - val_mape: 24.2831 - val_smape: 21.7348\n",
            "Epoch 163/200\n",
            "1/1 [==============================] - 0s 24ms/step - loss: 12957726.0000 - mse: 12957726.0000 - mae: 3078.2019 - mape: 28.0576 - smape: 24.7843 - val_loss: 9464667.0000 - val_mse: 9464667.0000 - val_mae: 2680.7424 - val_mape: 24.2811 - val_smape: 21.7150\n",
            "Epoch 164/200\n",
            "1/1 [==============================] - 0s 25ms/step - loss: 12957296.0000 - mse: 12957296.0000 - mae: 3076.1853 - mape: 28.0618 - smape: 24.7683 - val_loss: 9464916.0000 - val_mse: 9464916.0000 - val_mae: 2678.5334 - val_mape: 24.2795 - val_smape: 21.6976\n",
            "Epoch 165/200\n",
            "1/1 [==============================] - 0s 25ms/step - loss: 12957016.0000 - mse: 12957016.0000 - mae: 3074.3606 - mape: 28.0654 - smape: 24.7538 - val_loss: 9465268.0000 - val_mse: 9465268.0000 - val_mae: 2676.5962 - val_mape: 24.2781 - val_smape: 21.6823\n",
            "Epoch 166/200\n",
            "1/1 [==============================] - 0s 25ms/step - loss: 12956838.0000 - mse: 12956838.0000 - mae: 3072.7170 - mape: 28.0682 - smape: 24.7408 - val_loss: 9465677.0000 - val_mse: 9465677.0000 - val_mae: 2674.9128 - val_mape: 24.2770 - val_smape: 21.6690\n",
            "Epoch 167/200\n",
            "1/1 [==============================] - 0s 25ms/step - loss: 12956727.0000 - mse: 12956727.0000 - mae: 3071.2439 - mape: 28.0705 - smape: 24.7292 - val_loss: 9466116.0000 - val_mse: 9466116.0000 - val_mae: 2673.4678 - val_mape: 24.2762 - val_smape: 21.6576\n",
            "Epoch 168/200\n",
            "1/1 [==============================] - 0s 43ms/step - loss: 12956647.0000 - mse: 12956647.0000 - mae: 3069.9302 - mape: 28.0721 - smape: 24.7188 - val_loss: 9466560.0000 - val_mse: 9466560.0000 - val_mae: 2672.2444 - val_mape: 24.2756 - val_smape: 21.6480\n",
            "Epoch 169/200\n",
            "1/1 [==============================] - 0s 29ms/step - loss: 12956576.0000 - mse: 12956576.0000 - mae: 3068.7659 - mape: 28.0732 - smape: 24.7096 - val_loss: 9466991.0000 - val_mse: 9466991.0000 - val_mae: 2671.2275 - val_mape: 24.2753 - val_smape: 21.6400\n",
            "Epoch 170/200\n",
            "1/1 [==============================] - 0s 24ms/step - loss: 12956497.0000 - mse: 12956497.0000 - mae: 3067.7405 - mape: 28.0738 - smape: 24.7016 - val_loss: 9467393.0000 - val_mse: 9467393.0000 - val_mae: 2670.4019 - val_mape: 24.2752 - val_smape: 21.6335\n",
            "Epoch 171/200\n",
            "1/1 [==============================] - 0s 25ms/step - loss: 12956395.0000 - mse: 12956395.0000 - mae: 3066.8457 - mape: 28.0739 - smape: 24.6946 - val_loss: 9467763.0000 - val_mse: 9467763.0000 - val_mae: 2669.7537 - val_mape: 24.2752 - val_smape: 21.6284\n",
            "Epoch 172/200\n",
            "1/1 [==============================] - 0s 26ms/step - loss: 12956265.0000 - mse: 12956265.0000 - mae: 3066.0718 - mape: 28.0737 - smape: 24.6886 - val_loss: 9468083.0000 - val_mse: 9468083.0000 - val_mae: 2669.2678 - val_mape: 24.2754 - val_smape: 21.6246\n",
            "Epoch 173/200\n",
            "1/1 [==============================] - 0s 25ms/step - loss: 12956095.0000 - mse: 12956095.0000 - mae: 3065.4097 - mape: 28.0730 - smape: 24.6834 - val_loss: 9468363.0000 - val_mse: 9468363.0000 - val_mae: 2668.9319 - val_mape: 24.2758 - val_smape: 21.6220\n",
            "Epoch 174/200\n",
            "1/1 [==============================] - 0s 24ms/step - loss: 12955888.0000 - mse: 12955888.0000 - mae: 3064.8511 - mape: 28.0719 - smape: 24.6791 - val_loss: 9468599.0000 - val_mse: 9468599.0000 - val_mae: 2668.7341 - val_mape: 24.2764 - val_smape: 21.6205\n",
            "Epoch 175/200\n",
            "1/1 [==============================] - 0s 24ms/step - loss: 12955642.0000 - mse: 12955642.0000 - mae: 3064.3879 - mape: 28.0706 - smape: 24.6756 - val_loss: 9468785.0000 - val_mse: 9468785.0000 - val_mae: 2668.6614 - val_mape: 24.2770 - val_smape: 21.6199\n",
            "Epoch 176/200\n",
            "1/1 [==============================] - 0s 24ms/step - loss: 12955358.0000 - mse: 12955358.0000 - mae: 3064.0132 - mape: 28.0689 - smape: 24.6728 - val_loss: 9468931.0000 - val_mse: 9468931.0000 - val_mae: 2668.7024 - val_mape: 24.2778 - val_smape: 21.6203\n",
            "Epoch 177/200\n",
            "1/1 [==============================] - 0s 36ms/step - loss: 12955038.0000 - mse: 12955038.0000 - mae: 3063.7183 - mape: 28.0670 - smape: 24.6706 - val_loss: 9469039.0000 - val_mse: 9469039.0000 - val_mae: 2668.8464 - val_mape: 24.2787 - val_smape: 21.6215\n",
            "Epoch 178/200\n",
            "1/1 [==============================] - 0s 26ms/step - loss: 12954686.0000 - mse: 12954686.0000 - mae: 3063.4968 - mape: 28.0649 - smape: 24.6689 - val_loss: 9469107.0000 - val_mse: 9469107.0000 - val_mae: 2669.0830 - val_mape: 24.2796 - val_smape: 21.6234\n",
            "Epoch 179/200\n",
            "1/1 [==============================] - 0s 24ms/step - loss: 12954305.0000 - mse: 12954305.0000 - mae: 3063.3425 - mape: 28.0625 - smape: 24.6679 - val_loss: 9469145.0000 - val_mse: 9469145.0000 - val_mae: 2669.4023 - val_mape: 24.2807 - val_smape: 21.6259\n",
            "Epoch 180/200\n",
            "1/1 [==============================] - 0s 24ms/step - loss: 12953901.0000 - mse: 12953901.0000 - mae: 3063.2488 - mape: 28.0600 - smape: 24.6673 - val_loss: 9469155.0000 - val_mse: 9469155.0000 - val_mae: 2669.7952 - val_mape: 24.2818 - val_smape: 21.6291\n",
            "Epoch 181/200\n",
            "1/1 [==============================] - 0s 25ms/step - loss: 12953475.0000 - mse: 12953475.0000 - mae: 3063.2092 - mape: 28.0573 - smape: 24.6671 - val_loss: 9469146.0000 - val_mse: 9469146.0000 - val_mae: 2670.2539 - val_mape: 24.2830 - val_smape: 21.6327\n",
            "Epoch 182/200\n",
            "1/1 [==============================] - 0s 33ms/step - loss: 12953043.0000 - mse: 12953043.0000 - mae: 3063.2192 - mape: 28.0545 - smape: 24.6673 - val_loss: 9469120.0000 - val_mse: 9469120.0000 - val_mae: 2670.7693 - val_mape: 24.2843 - val_smape: 21.6368\n"
          ]
        }
      ],
      "source": [
        "model = init_model(X_train, y_train)\n",
        "\n",
        "model, history = fit_model(model)\n"
      ]
    },
    {
      "cell_type": "code",
      "execution_count": 51,
      "metadata": {
        "colab": {
          "base_uri": "https://localhost:8080/",
          "height": 312
        },
        "id": "SY9oLnDKWebV",
        "outputId": "dc7ce3f0-c75b-4086-a571-f06c8271b463"
      },
      "outputs": [
        {
          "data": {
            "text/plain": [
              "array([<Axes: title={'center': 'MSE'}, xlabel='Epoch', ylabel='Loss'>,\n",
              "       <Axes: title={'center': 'MAE'}, xlabel='Epoch', ylabel='MAE'>],\n",
              "      dtype=object)"
            ]
          },
          "execution_count": 51,
          "metadata": {},
          "output_type": "execute_result"
        },
        {
          "data": {
            "image/png": "[encoded data removed]",
            "text/plain": [
              "<Figure size 2000x700 with 2 Axes>"
            ]
          },
          "metadata": {},
          "output_type": "display_data"
        }
      ],
      "source": [
        "plot_history(history)\n"
      ]
    },
    {
      "cell_type": "code",
      "execution_count": 52,
      "metadata": {
        "colab": {
          "base_uri": "https://localhost:8080/"
        },
        "id": "H-2hKhXuWebV",
        "outputId": "20870ef9-c3a1-4cbc-fa03-fed44bca8f5f"
      },
      "outputs": [
        {
          "name": "stdout",
          "output_type": "stream",
          "text": [
            "1/1 [==============================] - 0s 21ms/step - loss: 3525342.5000 - mse: 3525342.5000 - mae: 1776.3235 - mape: 16.0773 - smape: 14.7349\n"
          ]
        },
        {
          "data": {
            "text/plain": [
              "[3525342.5,\n",
              " 3525342.5,\n",
              " 1776.323486328125,\n",
              " 16.077255249023438,\n",
              " 14.73485279083252]"
            ]
          },
          "execution_count": 52,
          "metadata": {},
          "output_type": "execute_result"
        }
      ],
      "source": [
        "res = model.evaluate(X_test,y_test)\n",
        "res\n"
      ]
    },
    {
      "cell_type": "code",
      "execution_count": 53,
      "metadata": {
        "colab": {
          "base_uri": "https://localhost:8080/"
        },
        "id": "QRDv9VTYMhsa",
        "outputId": "077fedf7-9518-4b3b-cb28-c3c3bd35f420"
      },
      "outputs": [
        {
          "name": "stdout",
          "output_type": "stream",
          "text": [
            "Improvement over baseline model is -95.06778601510858 %\n"
          ]
        }
      ],
      "source": [
        "print(f'Improvement over baseline model is {((baseline_score[0] - res[2])/baseline_score[0])*100} %')\n"
      ]
    },
    {
      "cell_type": "code",
      "execution_count": 54,
      "metadata": {
        "colab": {
          "base_uri": "https://localhost:8080/"
        },
        "id": "58zm3zuVm8Hs",
        "outputId": "949ea6e8-e116-44d6-8525-b0df7e44f467"
      },
      "outputs": [
        {
          "data": {
            "text/plain": [
              "((4, 7, 14), (20, 7, 14), (4, 7), (20, 7))"
            ]
          },
          "execution_count": 54,
          "metadata": {},
          "output_type": "execute_result"
        }
      ],
      "source": [
        "X_test.shape , X_train.shape, y_test.shape, y_train.shape\n"
      ]
    },
    {
      "cell_type": "code",
      "execution_count": 55,
      "metadata": {
        "colab": {
          "base_uri": "https://localhost:8080/"
        },
        "id": "Wmgqm_lzQdbP",
        "outputId": "cbca9bd6-e765-49c4-9401-32f68701c63a"
      },
      "outputs": [
        {
          "name": "stdout",
          "output_type": "stream",
          "text": [
            "1/1 [==============================] - 1s 639ms/step\n"
          ]
        },
        {
          "data": {
            "text/plain": [
              "0    430.053711\n",
              "1    430.052734\n",
              "2    430.052734\n",
              "3    430.053711\n",
              "Name: diff, dtype: float32"
            ]
          },
          "execution_count": 55,
          "metadata": {},
          "output_type": "execute_result"
        }
      ],
      "source": [
        "pf = pd.DataFrame(model.predict(X_test))   #, y_test[2]\n",
        "pf['diff'] = pf.iloc[:][OUTPUT_LENGTH - 1] - pf.iloc[:][0]\n",
        "pf['diff']\n"
      ]
    },
    {
      "cell_type": "markdown",
      "metadata": {
        "id": "pwxLskyinPI9"
      },
      "source": [
        "Did the model predict the correct movement up or down at the end of the forecast?"
      ]
    },
    {
      "cell_type": "code",
      "execution_count": 56,
      "metadata": {
        "colab": {
          "base_uri": "https://localhost:8080/"
        },
        "id": "4DrdBvTL_hni",
        "outputId": "f889e511-ba33-4340-8a8d-2b7d58ad1ed2"
      },
      "outputs": [
        {
          "name": "stdout",
          "output_type": "stream",
          "text": [
            "1/1 [==============================] - 0s 16ms/step\n",
            "1/1 [==============================] - 0s 15ms/step\n",
            "1/1 [==============================] - 0s 14ms/step\n",
            "1/1 [==============================] - 0s 14ms/step\n",
            "1/1 [==============================] - 0s 14ms/step\n",
            "1/1 [==============================] - 0s 14ms/step\n",
            "1/1 [==============================] - 0s 13ms/step\n",
            "1/1 [==============================] - 0s 14ms/step\n",
            "1/1 [==============================] - 0s 22ms/step\n",
            "1/1 [==============================] - 0s 23ms/step\n",
            "1/1 [==============================] - 0s 25ms/step\n",
            "1/1 [==============================] - 0s 20ms/step\n",
            "1/1 [==============================] - 0s 17ms/step\n",
            "1/1 [==============================] - 0s 18ms/step\n",
            "1/1 [==============================] - 0s 38ms/step\n",
            "1/1 [==============================] - 0s 14ms/step\n",
            "1/1 [==============================] - 0s 14ms/step\n",
            "1/1 [==============================] - 0s 14ms/step\n",
            "1/1 [==============================] - 0s 14ms/step\n",
            "1/1 [==============================] - 0s 14ms/step\n",
            "1/1 [==============================] - 0s 14ms/step\n",
            "1/1 [==============================] - 0s 15ms/step\n",
            "1/1 [==============================] - 0s 15ms/step\n",
            "1/1 [==============================] - 0s 14ms/step\n",
            "1/1 [==============================] - 0s 14ms/step\n",
            "1/1 [==============================] - 0s 14ms/step\n",
            "1/1 [==============================] - 0s 14ms/step\n",
            "1/1 [==============================] - 0s 13ms/step\n",
            "1/1 [==============================] - 0s 12ms/step\n",
            "1/1 [==============================] - 0s 12ms/step\n",
            "1/1 [==============================] - 0s 14ms/step\n",
            "1/1 [==============================] - 0s 13ms/step\n",
            "Accuracy = 25.0 %\n",
            "Precision = 25.0 %\n",
            "Recall = 100.0 %\n",
            "f1 Score -  = 0.4\n"
          ]
        }
      ],
      "source": [
        "TP = 0\n",
        "TN = 0\n",
        "FP = 0\n",
        "FN = 0\n",
        "\n",
        "for j in range(y_test.shape[0]):\n",
        "    if model.predict(X_test)[j][-1] > model.predict(X_test)[j][0] and y_test[j][-1] > y_test[j][0]:\n",
        "        TP += 1\n",
        "    if model.predict(X_test)[j][-1] < model.predict(X_test)[j][0] and y_test[j][-1] < y_test[j][0]:\n",
        "        TN += 1\n",
        "    if model.predict(X_test)[j][-1] > model.predict(X_test)[j][0] and y_test[j][-1] < y_test[j][0]:\n",
        "        FP += 1\n",
        "    if model.predict(X_test)[j][-1] < model.predict(X_test)[j][0] and y_test[j][-1] > y_test[j][0]:\n",
        "        FN += 1\n",
        "print (f'Accuracy = {100 * (TP + TN)/(TP + TN + FP + FN)} %')\n",
        "print (f'Precision = {100 * TP /(TP + FP)} %')\n",
        "print (f'Recall = {100 * TP /(TP + FN)} %')\n",
        "print (f'f1 Score -  = {(2 * (TP /(TP + FP)) * (TP /(TP + FN))) / ((TP /(TP + FP)) + (TP /(TP + FN)))}')\n"
      ]
    },
    {
      "cell_type": "code",
      "execution_count": 57,
      "metadata": {
        "colab": {
          "base_uri": "https://localhost:8080/",
          "height": 125
        },
        "id": "jaOuvD0A_keV",
        "outputId": "bffd82f2-8e51-4c54-9fd8-df9d3934e5ee"
      },
      "outputs": [
        {
          "data": {
            "text/html": [
              "<div>\n",
              "<style scoped>\n",
              "    .dataframe tbody tr th:only-of-type {\n",
              "        vertical-align: middle;\n",
              "    }\n",
              "\n",
              "    .dataframe tbody tr th {\n",
              "        vertical-align: top;\n",
              "    }\n",
              "\n",
              "    .dataframe thead th {\n",
              "        text-align: right;\n",
              "    }\n",
              "</style>\n",
              "<table border=\"1\" class=\"dataframe\">\n",
              "  <thead>\n",
              "    <tr style=\"text-align: right;\">\n",
              "      <th></th>\n",
              "      <th>Predicted down</th>\n",
              "      <th>Predicted up</th>\n",
              "    </tr>\n",
              "  </thead>\n",
              "  <tbody>\n",
              "    <tr>\n",
              "      <th>Actual down</th>\n",
              "      <td>0</td>\n",
              "      <td>3</td>\n",
              "    </tr>\n",
              "    <tr>\n",
              "      <th>Actual up</th>\n",
              "      <td>0</td>\n",
              "      <td>1</td>\n",
              "    </tr>\n",
              "  </tbody>\n",
              "</table>\n",
              "</div>"
            ],
            "text/plain": [
              "             Predicted down  Predicted up\n",
              "Actual down               0             3\n",
              "Actual up                 0             1"
            ]
          },
          "execution_count": 57,
          "metadata": {},
          "output_type": "execute_result"
        }
      ],
      "source": [
        "matrix = pd.DataFrame(np.array([[TN,FP],[FN,TP]]),index = ['Actual down','Actual up'])\n",
        "\n",
        "matrix.columns=['Predicted down','Predicted up']\n",
        "matrix\n"
      ]
    },
    {
      "cell_type": "markdown",
      "metadata": {
        "id": "KDQlVJFhnAjZ"
      },
      "source": [
        "How many total correct movements did\n",
        "it predict day to day?"
      ]
    },
    {
      "cell_type": "code",
      "execution_count": 58,
      "metadata": {
        "colab": {
          "base_uri": "https://localhost:8080/"
        },
        "id": "BOU8Bb20zR3i",
        "outputId": "94a5596f-e466-4baa-9a2e-5a0307ff2290"
      },
      "outputs": [
        {
          "name": "stdout",
          "output_type": "stream",
          "text": [
            "1/1 [==============================] - 0s 14ms/step\n"
          ]
        },
        {
          "name": "stdout",
          "output_type": "stream",
          "text": [
            "1/1 [==============================] - 0s 28ms/step\n",
            "1/1 [==============================] - 0s 13ms/step\n",
            "1/1 [==============================] - 0s 14ms/step\n",
            "1/1 [==============================] - 0s 13ms/step\n",
            "1/1 [==============================] - 0s 14ms/step\n",
            "1/1 [==============================] - 0s 13ms/step\n",
            "1/1 [==============================] - 0s 13ms/step\n",
            "1/1 [==============================] - 0s 13ms/step\n",
            "1/1 [==============================] - 0s 14ms/step\n",
            "1/1 [==============================] - 0s 13ms/step\n",
            "1/1 [==============================] - 0s 13ms/step\n",
            "1/1 [==============================] - 0s 13ms/step\n",
            "1/1 [==============================] - 0s 13ms/step\n",
            "1/1 [==============================] - 0s 14ms/step\n",
            "1/1 [==============================] - 0s 15ms/step\n",
            "1/1 [==============================] - 0s 13ms/step\n",
            "1/1 [==============================] - 0s 14ms/step\n",
            "1/1 [==============================] - 0s 14ms/step\n",
            "1/1 [==============================] - 0s 14ms/step\n",
            "1/1 [==============================] - 0s 14ms/step\n",
            "1/1 [==============================] - 0s 14ms/step\n",
            "1/1 [==============================] - 0s 14ms/step\n",
            "1/1 [==============================] - 0s 13ms/step\n",
            "1/1 [==============================] - 0s 24ms/step\n",
            "1/1 [==============================] - 0s 14ms/step\n",
            "1/1 [==============================] - 0s 13ms/step\n",
            "1/1 [==============================] - 0s 14ms/step\n",
            "1/1 [==============================] - 0s 14ms/step\n",
            "1/1 [==============================] - 0s 13ms/step\n",
            "1/1 [==============================] - 0s 14ms/step\n",
            "1/1 [==============================] - 0s 14ms/step\n",
            "1/1 [==============================] - 0s 14ms/step\n",
            "1/1 [==============================] - 0s 14ms/step\n",
            "1/1 [==============================] - 0s 13ms/step\n",
            "1/1 [==============================] - 0s 14ms/step\n",
            "1/1 [==============================] - 0s 15ms/step\n",
            "1/1 [==============================] - 0s 14ms/step\n",
            "1/1 [==============================] - 0s 14ms/step\n",
            "1/1 [==============================] - 0s 14ms/step\n",
            "1/1 [==============================] - 0s 14ms/step\n",
            "1/1 [==============================] - 0s 14ms/step\n",
            "1/1 [==============================] - 0s 13ms/step\n",
            "1/1 [==============================] - 0s 13ms/step\n",
            "1/1 [==============================] - 0s 17ms/step\n",
            "1/1 [==============================] - 0s 13ms/step\n",
            "1/1 [==============================] - 0s 13ms/step\n",
            "1/1 [==============================] - 0s 14ms/step\n",
            "1/1 [==============================] - 0s 14ms/step\n",
            "1/1 [==============================] - 0s 14ms/step\n",
            "1/1 [==============================] - 0s 13ms/step\n",
            "1/1 [==============================] - 0s 14ms/step\n",
            "1/1 [==============================] - 0s 14ms/step\n",
            "1/1 [==============================] - 0s 15ms/step\n",
            "1/1 [==============================] - 0s 14ms/step\n",
            "1/1 [==============================] - 0s 14ms/step\n",
            "1/1 [==============================] - 0s 14ms/step\n",
            "1/1 [==============================] - 0s 14ms/step\n",
            "1/1 [==============================] - 0s 14ms/step\n",
            "1/1 [==============================] - 0s 13ms/step\n",
            "1/1 [==============================] - 0s 13ms/step\n",
            "1/1 [==============================] - 0s 13ms/step\n",
            "1/1 [==============================] - 0s 13ms/step\n",
            "1/1 [==============================] - 0s 13ms/step\n",
            "1/1 [==============================] - 0s 14ms/step\n",
            "1/1 [==============================] - 0s 13ms/step\n",
            "1/1 [==============================] - 0s 17ms/step\n",
            "1/1 [==============================] - 0s 13ms/step\n",
            "1/1 [==============================] - 0s 13ms/step\n",
            "1/1 [==============================] - 0s 13ms/step\n",
            "1/1 [==============================] - 0s 13ms/step\n",
            "1/1 [==============================] - 0s 13ms/step\n",
            "1/1 [==============================] - 0s 14ms/step\n",
            "1/1 [==============================] - 0s 13ms/step\n",
            "1/1 [==============================] - 0s 14ms/step\n",
            "1/1 [==============================] - 0s 14ms/step\n",
            "1/1 [==============================] - 0s 13ms/step\n",
            "1/1 [==============================] - 0s 15ms/step\n",
            "1/1 [==============================] - 0s 15ms/step\n",
            "1/1 [==============================] - 0s 14ms/step\n",
            "1/1 [==============================] - 0s 14ms/step\n",
            "1/1 [==============================] - 0s 15ms/step\n",
            "1/1 [==============================] - 0s 14ms/step\n",
            "1/1 [==============================] - 0s 13ms/step\n",
            "1/1 [==============================] - 0s 28ms/step\n",
            "1/1 [==============================] - 0s 14ms/step\n",
            "1/1 [==============================] - 0s 13ms/step\n",
            "1/1 [==============================] - 0s 14ms/step\n",
            "1/1 [==============================] - 0s 13ms/step\n",
            "1/1 [==============================] - 0s 13ms/step\n",
            "1/1 [==============================] - 0s 14ms/step\n",
            "1/1 [==============================] - 0s 15ms/step\n",
            "1/1 [==============================] - 0s 14ms/step\n",
            "1/1 [==============================] - 0s 14ms/step\n",
            "1/1 [==============================] - 0s 14ms/step\n",
            "1/1 [==============================] - 0s 14ms/step\n",
            "1/1 [==============================] - 0s 14ms/step\n",
            "1/1 [==============================] - 0s 14ms/step\n",
            "1/1 [==============================] - 0s 24ms/step\n",
            "1/1 [==============================] - 0s 13ms/step\n",
            "1/1 [==============================] - 0s 14ms/step\n",
            "1/1 [==============================] - 0s 14ms/step\n",
            "1/1 [==============================] - 0s 13ms/step\n",
            "1/1 [==============================] - 0s 13ms/step\n",
            "1/1 [==============================] - 0s 12ms/step\n",
            "1/1 [==============================] - 0s 13ms/step\n",
            "1/1 [==============================] - 0s 13ms/step\n",
            "1/1 [==============================] - 0s 14ms/step\n",
            "1/1 [==============================] - 0s 14ms/step\n",
            "1/1 [==============================] - 0s 14ms/step\n",
            "1/1 [==============================] - 0s 14ms/step\n",
            "1/1 [==============================] - 0s 14ms/step\n",
            "1/1 [==============================] - 0s 14ms/step\n",
            "1/1 [==============================] - 0s 14ms/step\n",
            "1/1 [==============================] - 0s 14ms/step\n",
            "1/1 [==============================] - 0s 14ms/step\n",
            "1/1 [==============================] - 0s 14ms/step\n",
            "1/1 [==============================] - 0s 15ms/step\n",
            "1/1 [==============================] - 0s 13ms/step\n",
            "1/1 [==============================] - 0s 14ms/step\n",
            "1/1 [==============================] - 0s 13ms/step\n",
            "1/1 [==============================] - 0s 13ms/step\n",
            "1/1 [==============================] - 0s 13ms/step\n",
            "1/1 [==============================] - 0s 13ms/step\n",
            "1/1 [==============================] - 0s 13ms/step\n",
            "1/1 [==============================] - 0s 14ms/step\n",
            "1/1 [==============================] - 0s 14ms/step\n",
            "1/1 [==============================] - 0s 13ms/step\n",
            "1/1 [==============================] - 0s 13ms/step\n",
            "1/1 [==============================] - 0s 13ms/step\n",
            "1/1 [==============================] - 0s 13ms/step\n",
            "1/1 [==============================] - 0s 14ms/step\n",
            "1/1 [==============================] - 0s 14ms/step\n",
            "1/1 [==============================] - 0s 14ms/step\n",
            "1/1 [==============================] - 0s 14ms/step\n",
            "1/1 [==============================] - 0s 14ms/step\n",
            "1/1 [==============================] - 0s 18ms/step\n",
            "1/1 [==============================] - 0s 13ms/step\n",
            "1/1 [==============================] - 0s 13ms/step\n",
            "1/1 [==============================] - 0s 13ms/step\n",
            "1/1 [==============================] - 0s 13ms/step\n",
            "1/1 [==============================] - 0s 14ms/step\n",
            "1/1 [==============================] - 0s 13ms/step\n",
            "1/1 [==============================] - 0s 13ms/step\n",
            "1/1 [==============================] - 0s 14ms/step\n",
            "1/1 [==============================] - 0s 14ms/step\n",
            "1/1 [==============================] - 0s 15ms/step\n",
            "1/1 [==============================] - 0s 14ms/step\n",
            "1/1 [==============================] - 0s 14ms/step\n",
            "1/1 [==============================] - 0s 15ms/step\n",
            "1/1 [==============================] - 0s 14ms/step\n",
            "1/1 [==============================] - 0s 15ms/step\n",
            "1/1 [==============================] - 0s 14ms/step\n",
            "1/1 [==============================] - 0s 14ms/step\n",
            "1/1 [==============================] - 0s 15ms/step\n",
            "1/1 [==============================] - 0s 13ms/step\n",
            "1/1 [==============================] - 0s 13ms/step\n",
            "1/1 [==============================] - 0s 14ms/step\n",
            "1/1 [==============================] - 0s 13ms/step\n",
            "1/1 [==============================] - 0s 24ms/step\n",
            "1/1 [==============================] - 0s 14ms/step\n",
            "1/1 [==============================] - 0s 13ms/step\n",
            "1/1 [==============================] - 0s 14ms/step\n",
            "1/1 [==============================] - 0s 14ms/step\n",
            "1/1 [==============================] - 0s 13ms/step\n",
            "1/1 [==============================] - 0s 14ms/step\n",
            "1/1 [==============================] - 0s 13ms/step\n",
            "1/1 [==============================] - 0s 14ms/step\n",
            "1/1 [==============================] - 0s 13ms/step\n",
            "1/1 [==============================] - 0s 14ms/step\n",
            "1/1 [==============================] - 0s 13ms/step\n",
            "1/1 [==============================] - 0s 14ms/step\n",
            "1/1 [==============================] - 0s 13ms/step\n",
            "1/1 [==============================] - 0s 13ms/step\n",
            "1/1 [==============================] - 0s 13ms/step\n",
            "1/1 [==============================] - 0s 14ms/step\n",
            "1/1 [==============================] - 0s 14ms/step\n",
            "1/1 [==============================] - 0s 13ms/step\n",
            "1/1 [==============================] - 0s 13ms/step\n",
            "1/1 [==============================] - 0s 14ms/step\n",
            "1/1 [==============================] - 0s 14ms/step\n",
            "1/1 [==============================] - 0s 13ms/step\n",
            "1/1 [==============================] - 0s 14ms/step\n",
            "1/1 [==============================] - 0s 13ms/step\n",
            "1/1 [==============================] - 0s 13ms/step\n",
            "1/1 [==============================] - 0s 13ms/step\n",
            "1/1 [==============================] - 0s 13ms/step\n",
            "1/1 [==============================] - 0s 13ms/step\n",
            "1/1 [==============================] - 0s 13ms/step\n",
            "1/1 [==============================] - 0s 16ms/step\n",
            "1/1 [==============================] - 0s 16ms/step\n",
            "1/1 [==============================] - 0s 29ms/step\n",
            "Accuracy (Daily) = 54.166666666666664 %\n",
            "Precision (Daily) = 55.0 %\n",
            "Recall (Daily) = 84.61538461538461 %\n",
            "f1 Score (Daily) = 0.6666666666666667\n"
          ]
        }
      ],
      "source": [
        "TPD = 0\n",
        "TND = 0\n",
        "FPD = 0\n",
        "FND = 0\n",
        "for j in range(y_test.shape[0]):\n",
        "  for i in range(y_test.shape[1]-1):\n",
        "    if (model.predict(X_test)[j][i+1] > model.predict(X_test)[j][i] and y_test[j][i+1] > y_test[j][i]):\n",
        "        TPD +=1\n",
        "    if (model.predict(X_test)[j][i+1] < model.predict(X_test)[j][i] and y_test[j][i+1] < y_test[j][i]):\n",
        "        TND +=1\n",
        "    if (model.predict(X_test)[j][i+1] > model.predict(X_test)[j][i] and y_test[j][i+1] < y_test[j][i]):\n",
        "        FPD +=1\n",
        "    if (model.predict(X_test)[j][i+1] < model.predict(X_test)[j][i] and y_test[j][i+1] > y_test[j][i]):\n",
        "        FND +=1\n",
        "\n",
        "print (f'Accuracy (Daily) = {100 * (TPD + TND)/(TPD + TND + FPD + FND)} %')\n",
        "print (f'Precision (Daily) = {100 * TPD /(TPD + FPD)} %')\n",
        "print (f'Recall (Daily) = {100 * TPD /(TPD + FND)} %')\n",
        "print (f'f1 Score (Daily) = {(2 * (TPD /(TPD + FPD)) * (TPD /(TPD + FND))) / ((TPD /(TPD + FPD)) + (TPD /(TPD + FND)))}')\n"
      ]
    },
    {
      "cell_type": "code",
      "execution_count": 59,
      "metadata": {
        "colab": {
          "base_uri": "https://localhost:8080/",
          "height": 125
        },
        "id": "kMSPlejYvDkc",
        "outputId": "a8b7e151-5dd2-4595-965c-25c10eafd74b"
      },
      "outputs": [
        {
          "data": {
            "text/html": [
              "<div>\n",
              "<style scoped>\n",
              "    .dataframe tbody tr th:only-of-type {\n",
              "        vertical-align: middle;\n",
              "    }\n",
              "\n",
              "    .dataframe tbody tr th {\n",
              "        vertical-align: top;\n",
              "    }\n",
              "\n",
              "    .dataframe thead th {\n",
              "        text-align: right;\n",
              "    }\n",
              "</style>\n",
              "<table border=\"1\" class=\"dataframe\">\n",
              "  <thead>\n",
              "    <tr style=\"text-align: right;\">\n",
              "      <th></th>\n",
              "      <th>Predicted down daily</th>\n",
              "      <th>Predicted up daily</th>\n",
              "    </tr>\n",
              "  </thead>\n",
              "  <tbody>\n",
              "    <tr>\n",
              "      <th>Actual down daily</th>\n",
              "      <td>2</td>\n",
              "      <td>9</td>\n",
              "    </tr>\n",
              "    <tr>\n",
              "      <th>Actual up daily</th>\n",
              "      <td>2</td>\n",
              "      <td>11</td>\n",
              "    </tr>\n",
              "  </tbody>\n",
              "</table>\n",
              "</div>"
            ],
            "text/plain": [
              "                   Predicted down daily  Predicted up daily\n",
              "Actual down daily                     2                   9\n",
              "Actual up daily                       2                  11"
            ]
          },
          "execution_count": 59,
          "metadata": {},
          "output_type": "execute_result"
        }
      ],
      "source": [
        "matrix2 = pd.DataFrame(np.array([[TND,FPD],[FND,TPD]]),index = ['Actual down daily','Actual up daily'])\n",
        "\n",
        "matrix2.columns=['Predicted down daily','Predicted up daily']\n",
        "matrix2\n"
      ]
    },
    {
      "cell_type": "markdown",
      "metadata": {
        "id": "bhc6IHa0WebV"
      },
      "source": [
        "#### All this was for one fold, now we need to Cross validate on all folds"
      ]
    },
    {
      "cell_type": "markdown",
      "metadata": {
        "id": "CPw_sivDWebV"
      },
      "source": [
        "### Step 3. Cross Validation"
      ]
    },
    {
      "cell_type": "markdown",
      "metadata": {
        "id": "kQY2hTb1WebV"
      },
      "source": [
        "#### * Funtion to Cross Validate for Baseline and LSTM Models in for loop"
      ]
    },
    {
      "cell_type": "code",
      "execution_count": 60,
      "metadata": {
        "id": "6ADxZTAOWebV"
      },
      "outputs": [],
      "source": [
        "def cross_validate_baseline_and_lstm():\n",
        "    '''\n",
        "    This function cross-validates\n",
        "    - the \"last seen value\" baseline model\n",
        "    - the RNN model\n",
        "    '''\n",
        "\n",
        "    list_of_mae_baseline_model = []\n",
        "    list_of_mae_recurrent_model = []\n",
        "\n",
        "    # 0 - Creating folds\n",
        "    # =========================================\n",
        "    folds = get_folds(df_new, FOLD_LENGTH, FOLD_STRIDE)\n",
        "\n",
        "    for fold_id, fold in enumerate(folds):\n",
        "\n",
        "        # 1 - Train/Test split the current fold\n",
        "\n",
        "        (fold_train, fold_test) = temporal_train_test_split(fold, TRAIN_TEST_RATIO, INPUT_LENGTH)\n",
        "\n",
        "        X_train, y_train = get_X_y_7(fold=fold_train,\n",
        "                           input_length=INPUT_LENGTH,\n",
        "                           output_length=OUTPUT_LENGTH,\n",
        "                           stride=STRIDE)\n",
        "        X_test, y_test = get_X_y_7(fold=fold_train,\n",
        "                           input_length=INPUT_LENGTH,\n",
        "                           output_length=OUTPUT_LENGTH,\n",
        "                           stride=STRIDE)\n",
        "\n",
        "        # 2 - Modelling\n",
        "\n",
        "        ##### Baseline Model\n",
        "        mae_baseline = last_seen_value_baseline(X_test, y_test)[0]\n",
        "        list_of_mae_baseline_model.append(mae_baseline)\n",
        "        print(\"-\"*50)\n",
        "        print(f\"MAE baseline fold n°{fold_id} = {round(mae_baseline, 2)}\")\n",
        "\n",
        "        ##### LSTM Model\n",
        "        model = init_model(X_train, y_train)\n",
        "        history = fit_model(model)\n",
        "        res = model.evaluate(X_test, y_test, verbose=0)\n",
        "        mae_lstm = res[2]\n",
        "        list_of_mae_recurrent_model.append(mae_lstm)\n",
        "        print(f\"MAE LSTM fold n°{fold_id} = {round(mae_lstm, 2)}\")\n",
        "\n",
        "        ##### Comparison LSTM vs Baseline for the current fold\n",
        "        print(f\"🏋🏽‍♂️ improvement over baseline: {round((1 - (mae_lstm/mae_baseline))*100,2)} % \\n\")\n",
        "\n",
        "    return list_of_mae_baseline_model, list_of_mae_recurrent_model\n"
      ]
    },
    {
      "cell_type": "code",
      "execution_count": 61,
      "metadata": {
        "id": "u5N862TxWebW"
      },
      "outputs": [],
      "source": [
        "#mae_baselines, mae_lstms = cross_validate_baseline_and_lstm()\n"
      ]
    },
    {
      "cell_type": "code",
      "execution_count": 62,
      "metadata": {
        "colab": {
          "base_uri": "https://localhost:8080/",
          "height": 250
        },
        "id": "UeOTXn8iWebW",
        "outputId": "327e69ba-f5f3-4c9e-87e3-14fc77784a22"
      },
      "outputs": [
        {
          "ename": "NameError",
          "evalue": "name 'mae_lstms' is not defined",
          "output_type": "error",
          "traceback": [
            "\u001b[0;31m---------------------------------------------------------------------------\u001b[0m",
            "\u001b[0;31mNameError\u001b[0m                                 Traceback (most recent call last)",
            "\u001b[1;32m/Users/joekorban/code/J0eDub/crypto_market_assistant/notebooks/Joseph_7days.ipynb Cell 67\u001b[0m line \u001b[0;36m1\n\u001b[0;32m----> <a href='vscode-notebook-cell:/Users/joekorban/code/J0eDub/crypto_market_assistant/notebooks/Joseph_7days.ipynb#Y646sZmlsZQ%3D%3D?line=0'>1</a>\u001b[0m \u001b[39mprint\u001b[39m(\u001b[39mf\u001b[39m\u001b[39m\"\u001b[39m\u001b[39maverage percentage improvement over baseline = \u001b[39m\u001b[39m{\u001b[39;00m\u001b[39mround\u001b[39m(np\u001b[39m.\u001b[39mmean(\u001b[39m1\u001b[39m\u001b[39m \u001b[39m\u001b[39m-\u001b[39m\u001b[39m \u001b[39m(np\u001b[39m.\u001b[39marray(mae_lstms)\u001b[39m/\u001b[39mnp\u001b[39m.\u001b[39marray(mae_baselines))),\u001b[39m2\u001b[39m)\u001b[39m*\u001b[39m\u001b[39m100\u001b[39m\u001b[39m}\u001b[39;00m\u001b[39m%\u001b[39m\u001b[39m\"\u001b[39m)\n",
            "\u001b[0;31mNameError\u001b[0m: name 'mae_lstms' is not defined"
          ]
        }
      ],
      "source": [
        "print(f\"average percentage improvement over baseline = {round(np.mean(1 - (np.array(mae_lstms)/np.array(mae_baselines))),2)*100}%\")\n"
      ]
    },
    {
      "cell_type": "code",
      "execution_count": null,
      "metadata": {
        "id": "oeebfFacxYk3"
      },
      "outputs": [],
      "source": []
    }
  ],
  "metadata": {
    "accelerator": "GPU",
    "colab": {
      "gpuType": "T4",
      "machine_shape": "hm",
      "provenance": []
    },
    "kernelspec": {
      "display_name": "Python 3",
      "name": "python3"
    },
    "language_info": {
      "name": "python"
    }
  },
  "nbformat": 4,
  "nbformat_minor": 0
}
