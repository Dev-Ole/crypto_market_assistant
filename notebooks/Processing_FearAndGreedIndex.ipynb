{
  "cells": [
    {
      "cell_type": "code",
      "execution_count": 3,
      "metadata": {
        "id": "MImCF3unfMIF"
      },
      "outputs": [],
      "source": [
        "import requests\n",
        "import pandas as pd\n"
      ]
    },
    {
      "cell_type": "markdown",
      "metadata": {
        "id": "vUDLw7a_tgLA"
      },
      "source": [
        "# Request data #"
      ]
    },
    {
      "cell_type": "code",
      "execution_count": 12,
      "metadata": {
        "id": "ik5hRLZao66G"
      },
      "outputs": [],
      "source": [
        "def get_fear_and_greed_index(limit=1):\n",
        "    url = f\"https://api.alternative.me/fng/?limit={limit}\"\n",
        "\n",
        "    try:\n",
        "        response = requests.get(url)\n",
        "        response.raise_for_status()  # Check for HTTP errors\n",
        "        FAGI = response.json()\n",
        "\n",
        "        if 'data' in FAGI: #Data check\n",
        "          return FAGI['data']\n",
        "        else:\n",
        "          print(\"Error: No data found.\")\n",
        "          return None\n",
        "    except requests.exceptions.RequestException as e:\n",
        "        print(f\"Error: {e}\")\n",
        "        return None\n",
        "\n",
        "#Request data\n",
        "limit = 10\n",
        "FAGI_data = get_fear_and_greed_index(limit)\n"
      ]
    },
    {
      "cell_type": "markdown",
      "metadata": {
        "id": "T0sRUtaPtlZi"
      },
      "source": [
        "# Set dataframe and clean up"
      ]
    },
    {
      "cell_type": "code",
      "execution_count": 13,
      "metadata": {
        "colab": {
          "base_uri": "https://localhost:8080/",
          "height": 455
        },
        "id": "YSzX4pcytKOl",
        "outputId": "2634303c-fedc-4ad7-c8de-136a1719276f"
      },
      "outputs": [
        {
          "name": "stderr",
          "output_type": "stream",
          "text": [
            "/tmp/ipykernel_320528/2845359905.py:5: FutureWarning: The behavior of 'to_datetime' with 'unit' when parsing strings is deprecated. In a future version, strings will be parsed as datetime strings, matching the behavior without a 'unit'. To retain the old behavior, explicitly cast ints or floats to numeric type before calling to_datetime.\n",
            "  FAGI_data['date'] = pd.to_datetime(FAGI_data[\"date\"], unit=\"s\")\n"
          ]
        },
        {
          "data": {
            "text/html": [
              "<div>\n",
              "<style scoped>\n",
              "    .dataframe tbody tr th:only-of-type {\n",
              "        vertical-align: middle;\n",
              "    }\n",
              "\n",
              "    .dataframe tbody tr th {\n",
              "        vertical-align: top;\n",
              "    }\n",
              "\n",
              "    .dataframe thead th {\n",
              "        text-align: right;\n",
              "    }\n",
              "</style>\n",
              "<table border=\"1\" class=\"dataframe\">\n",
              "  <thead>\n",
              "    <tr style=\"text-align: right;\">\n",
              "      <th></th>\n",
              "      <th>FAGI_score</th>\n",
              "      <th>FAGI_sentiment</th>\n",
              "    </tr>\n",
              "    <tr>\n",
              "      <th>date</th>\n",
              "      <th></th>\n",
              "      <th></th>\n",
              "    </tr>\n",
              "  </thead>\n",
              "  <tbody>\n",
              "    <tr>\n",
              "      <th>2023-12-28</th>\n",
              "      <td>73</td>\n",
              "      <td>Greed</td>\n",
              "    </tr>\n",
              "    <tr>\n",
              "      <th>2023-12-29</th>\n",
              "      <td>65</td>\n",
              "      <td>Greed</td>\n",
              "    </tr>\n",
              "    <tr>\n",
              "      <th>2023-12-30</th>\n",
              "      <td>68</td>\n",
              "      <td>Greed</td>\n",
              "    </tr>\n",
              "    <tr>\n",
              "      <th>2023-12-31</th>\n",
              "      <td>67</td>\n",
              "      <td>Greed</td>\n",
              "    </tr>\n",
              "    <tr>\n",
              "      <th>2024-01-01</th>\n",
              "      <td>65</td>\n",
              "      <td>Greed</td>\n",
              "    </tr>\n",
              "    <tr>\n",
              "      <th>2024-01-02</th>\n",
              "      <td>71</td>\n",
              "      <td>Greed</td>\n",
              "    </tr>\n",
              "    <tr>\n",
              "      <th>2024-01-03</th>\n",
              "      <td>70</td>\n",
              "      <td>Greed</td>\n",
              "    </tr>\n",
              "    <tr>\n",
              "      <th>2024-01-04</th>\n",
              "      <td>68</td>\n",
              "      <td>Greed</td>\n",
              "    </tr>\n",
              "    <tr>\n",
              "      <th>2024-01-05</th>\n",
              "      <td>72</td>\n",
              "      <td>Greed</td>\n",
              "    </tr>\n",
              "    <tr>\n",
              "      <th>2024-01-06</th>\n",
              "      <td>70</td>\n",
              "      <td>Greed</td>\n",
              "    </tr>\n",
              "  </tbody>\n",
              "</table>\n",
              "</div>"
            ],
            "text/plain": [
              "           FAGI_score FAGI_sentiment\n",
              "date                                \n",
              "2023-12-28         73          Greed\n",
              "2023-12-29         65          Greed\n",
              "2023-12-30         68          Greed\n",
              "2023-12-31         67          Greed\n",
              "2024-01-01         65          Greed\n",
              "2024-01-02         71          Greed\n",
              "2024-01-03         70          Greed\n",
              "2024-01-04         68          Greed\n",
              "2024-01-05         72          Greed\n",
              "2024-01-06         70          Greed"
            ]
          },
          "execution_count": 13,
          "metadata": {},
          "output_type": "execute_result"
        }
      ],
      "source": [
        "FAGI_data = pd.DataFrame(FAGI_data)\n",
        "FAGI_data = FAGI_data.drop(columns=[\"time_until_update\"]) #Drop\n",
        "FAGI_data = FAGI_data.rename(columns={'timestamp' : 'date', 'value': 'FAGI_score', 'value_classification': 'FAGI_sentiment'}) #rename\n",
        "FAGI_data = FAGI_data[['date', 'FAGI_score', 'FAGI_sentiment']] #Sort\n",
        "FAGI_data['date'] = pd.to_datetime(FAGI_data[\"date\"], unit=\"s\", errors='coerce')\n",
        "FAGI_data.set_index(\"date\", inplace=True)\n",
        "FAGI_data = FAGI_data.sort_values(by=\"date\")\n",
        "FAGI_data\n"
      ]
    },
    {
      "cell_type": "markdown",
      "metadata": {
        "id": "H25aeMNdzt8L"
      },
      "source": []
    },
    {
      "cell_type": "markdown",
      "metadata": {
        "id": "ppyGhOf9zxIK"
      },
      "source": [
        "# Export to CSV #"
      ]
    },
    {
      "cell_type": "code",
      "execution_count": 87,
      "metadata": {
        "id": "s336qFQjs20G"
      },
      "outputs": [],
      "source": [
        "FAGI_data.to_csv(\"FearAndGreedIndex.csv\") #Filename defined in the settings\n"
      ]
    }
  ],
  "metadata": {
    "colab": {
      "provenance": []
    },
    "kernelspec": {
      "display_name": "Python 3",
      "name": "python3"
    },
    "language_info": {
      "codemirror_mode": {
        "name": "ipython",
        "version": 3
      },
      "file_extension": ".py",
      "mimetype": "text/x-python",
      "name": "python",
      "nbconvert_exporter": "python",
      "pygments_lexer": "ipython3",
      "version": "3.10.6"
    }
  },
  "nbformat": 4,
  "nbformat_minor": 0
}
