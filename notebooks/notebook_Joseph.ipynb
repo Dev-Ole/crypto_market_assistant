{
  "cells": [
    {
      "cell_type": "markdown",
      "metadata": {
        "id": "_-r71jEGWebE"
      },
      "source": [
        "# Joseph Korban's Notebook"
      ]
    },
    {
      "cell_type": "markdown",
      "metadata": {
        "id": "WKIpZHaUWebF"
      },
      "source": [
        "## Goal: DL Model"
      ]
    },
    {
      "cell_type": "markdown",
      "metadata": {
        "id": "VAwYSRAuWebF"
      },
      "source": [
        "#### Preliminary Steps"
      ]
    },
    {
      "cell_type": "code",
      "source": [
        "import pandas as pd\n",
        "import numpy as np\n",
        "\n",
        "import matplotlib.pyplot as plt\n",
        "import seaborn as sns\n",
        "\n",
        "import os\n",
        "\n",
        "import tensorflow as tf"
      ],
      "metadata": {
        "id": "Z7ACktisV8lt"
      },
      "execution_count": 1,
      "outputs": []
    },
    {
      "cell_type": "code",
      "source": [
        "# df = pd.read_csv('/content/Full_data.csv')\n",
        "# df_droptime = df.drop(columns='Unnamed: 0')\n",
        "# df_droptime\n"
      ],
      "metadata": {
        "id": "wke5eLbpuluH"
      },
      "execution_count": 2,
      "outputs": []
    },
    {
      "cell_type": "code",
      "source": [
        "# df = pd.read_csv('/content/BTCUSDT_daily_Binance.csv')\n",
        "# df_droptime = df.drop(columns='time')\n",
        "\n",
        "# df_droptime.head()"
      ],
      "metadata": {
        "id": "hJRdCTWPE-Zu"
      },
      "execution_count": 3,
      "outputs": []
    },
    {
      "cell_type": "code",
      "source": [
        "df = pd.read_csv('/content/non_Scaled_full.csv')\n",
        "df_droptime = df.drop(columns='Unnamed: 0')\n",
        "df_droptime.head()"
      ],
      "metadata": {
        "colab": {
          "base_uri": "https://localhost:8080/",
          "height": 244
        },
        "id": "6Z8GULRhFEEa",
        "outputId": "2b8d5214-e0b3-494b-9cf2-b634f98fdb06"
      },
      "execution_count": 4,
      "outputs": [
        {
          "output_type": "execute_result",
          "data": {
            "text/plain": [
              "      open     high      low    close   volume BTC    volume USD  FAGI_score  \\\n",
              "0  4261.48  4485.39  4200.74  4285.08   795.150377  3.454770e+06        50.0   \n",
              "1  4285.08  4371.52  3938.77  4108.37  1199.888264  5.086958e+06        50.0   \n",
              "2  4108.37  4184.69  3850.00  4139.98   381.309763  1.549484e+06        50.0   \n",
              "3  4139.98  4211.08  4032.62  4086.29   467.083022  1.930364e+06        50.0   \n",
              "4  4069.13  4119.62  3911.79  4016.00   691.743060  2.797232e+06        50.0   \n",
              "\n",
              "   scored_title  scored_text  average_score  twitter_followers  \\\n",
              "0           0.0          0.0            0.0        1000.000000   \n",
              "1           0.0          0.0            0.0        2209.747759   \n",
              "2           0.0          0.0            0.0        3419.495519   \n",
              "3           0.0          0.0            0.0        4629.243278   \n",
              "4           0.0          0.0            0.0        5838.991037   \n",
              "\n",
              "   twitter_favourites  reddit_subscribers  reddit_active_users  \\\n",
              "0         2163.435644         1000.000000          1747.715439   \n",
              "1         2163.435644         1419.855422          1747.715439   \n",
              "2         2163.435644         1839.710843          1747.715439   \n",
              "3         2163.435644         2259.566265          1747.715439   \n",
              "4         2163.435644         2679.421687          1747.715439   \n",
              "\n",
              "   reddit_comments_per_day  FAGI_sentiment_encoded  \n",
              "0               699.824346                     2.0  \n",
              "1               699.824346                     2.0  \n",
              "2               699.824346                     2.0  \n",
              "3               699.824346                     2.0  \n",
              "4               699.824346                     2.0  "
            ],
            "text/html": [
              "\n",
              "  <div id=\"df-58142efa-8732-49c4-9853-dd0d62f7c0e1\" class=\"colab-df-container\">\n",
              "    <div>\n",
              "<style scoped>\n",
              "    .dataframe tbody tr th:only-of-type {\n",
              "        vertical-align: middle;\n",
              "    }\n",
              "\n",
              "    .dataframe tbody tr th {\n",
              "        vertical-align: top;\n",
              "    }\n",
              "\n",
              "    .dataframe thead th {\n",
              "        text-align: right;\n",
              "    }\n",
              "</style>\n",
              "<table border=\"1\" class=\"dataframe\">\n",
              "  <thead>\n",
              "    <tr style=\"text-align: right;\">\n",
              "      <th></th>\n",
              "      <th>open</th>\n",
              "      <th>high</th>\n",
              "      <th>low</th>\n",
              "      <th>close</th>\n",
              "      <th>volume BTC</th>\n",
              "      <th>volume USD</th>\n",
              "      <th>FAGI_score</th>\n",
              "      <th>scored_title</th>\n",
              "      <th>scored_text</th>\n",
              "      <th>average_score</th>\n",
              "      <th>twitter_followers</th>\n",
              "      <th>twitter_favourites</th>\n",
              "      <th>reddit_subscribers</th>\n",
              "      <th>reddit_active_users</th>\n",
              "      <th>reddit_comments_per_day</th>\n",
              "      <th>FAGI_sentiment_encoded</th>\n",
              "    </tr>\n",
              "  </thead>\n",
              "  <tbody>\n",
              "    <tr>\n",
              "      <th>0</th>\n",
              "      <td>4261.48</td>\n",
              "      <td>4485.39</td>\n",
              "      <td>4200.74</td>\n",
              "      <td>4285.08</td>\n",
              "      <td>795.150377</td>\n",
              "      <td>3.454770e+06</td>\n",
              "      <td>50.0</td>\n",
              "      <td>0.0</td>\n",
              "      <td>0.0</td>\n",
              "      <td>0.0</td>\n",
              "      <td>1000.000000</td>\n",
              "      <td>2163.435644</td>\n",
              "      <td>1000.000000</td>\n",
              "      <td>1747.715439</td>\n",
              "      <td>699.824346</td>\n",
              "      <td>2.0</td>\n",
              "    </tr>\n",
              "    <tr>\n",
              "      <th>1</th>\n",
              "      <td>4285.08</td>\n",
              "      <td>4371.52</td>\n",
              "      <td>3938.77</td>\n",
              "      <td>4108.37</td>\n",
              "      <td>1199.888264</td>\n",
              "      <td>5.086958e+06</td>\n",
              "      <td>50.0</td>\n",
              "      <td>0.0</td>\n",
              "      <td>0.0</td>\n",
              "      <td>0.0</td>\n",
              "      <td>2209.747759</td>\n",
              "      <td>2163.435644</td>\n",
              "      <td>1419.855422</td>\n",
              "      <td>1747.715439</td>\n",
              "      <td>699.824346</td>\n",
              "      <td>2.0</td>\n",
              "    </tr>\n",
              "    <tr>\n",
              "      <th>2</th>\n",
              "      <td>4108.37</td>\n",
              "      <td>4184.69</td>\n",
              "      <td>3850.00</td>\n",
              "      <td>4139.98</td>\n",
              "      <td>381.309763</td>\n",
              "      <td>1.549484e+06</td>\n",
              "      <td>50.0</td>\n",
              "      <td>0.0</td>\n",
              "      <td>0.0</td>\n",
              "      <td>0.0</td>\n",
              "      <td>3419.495519</td>\n",
              "      <td>2163.435644</td>\n",
              "      <td>1839.710843</td>\n",
              "      <td>1747.715439</td>\n",
              "      <td>699.824346</td>\n",
              "      <td>2.0</td>\n",
              "    </tr>\n",
              "    <tr>\n",
              "      <th>3</th>\n",
              "      <td>4139.98</td>\n",
              "      <td>4211.08</td>\n",
              "      <td>4032.62</td>\n",
              "      <td>4086.29</td>\n",
              "      <td>467.083022</td>\n",
              "      <td>1.930364e+06</td>\n",
              "      <td>50.0</td>\n",
              "      <td>0.0</td>\n",
              "      <td>0.0</td>\n",
              "      <td>0.0</td>\n",
              "      <td>4629.243278</td>\n",
              "      <td>2163.435644</td>\n",
              "      <td>2259.566265</td>\n",
              "      <td>1747.715439</td>\n",
              "      <td>699.824346</td>\n",
              "      <td>2.0</td>\n",
              "    </tr>\n",
              "    <tr>\n",
              "      <th>4</th>\n",
              "      <td>4069.13</td>\n",
              "      <td>4119.62</td>\n",
              "      <td>3911.79</td>\n",
              "      <td>4016.00</td>\n",
              "      <td>691.743060</td>\n",
              "      <td>2.797232e+06</td>\n",
              "      <td>50.0</td>\n",
              "      <td>0.0</td>\n",
              "      <td>0.0</td>\n",
              "      <td>0.0</td>\n",
              "      <td>5838.991037</td>\n",
              "      <td>2163.435644</td>\n",
              "      <td>2679.421687</td>\n",
              "      <td>1747.715439</td>\n",
              "      <td>699.824346</td>\n",
              "      <td>2.0</td>\n",
              "    </tr>\n",
              "  </tbody>\n",
              "</table>\n",
              "</div>\n",
              "    <div class=\"colab-df-buttons\">\n",
              "\n",
              "  <div class=\"colab-df-container\">\n",
              "    <button class=\"colab-df-convert\" onclick=\"convertToInteractive('df-58142efa-8732-49c4-9853-dd0d62f7c0e1')\"\n",
              "            title=\"Convert this dataframe to an interactive table.\"\n",
              "            style=\"display:none;\">\n",
              "\n",
              "  <svg xmlns=\"http://www.w3.org/2000/svg\" height=\"24px\" viewBox=\"0 -960 960 960\">\n",
              "    <path d=\"M120-120v-720h720v720H120Zm60-500h600v-160H180v160Zm220 220h160v-160H400v160Zm0 220h160v-160H400v160ZM180-400h160v-160H180v160Zm440 0h160v-160H620v160ZM180-180h160v-160H180v160Zm440 0h160v-160H620v160Z\"/>\n",
              "  </svg>\n",
              "    </button>\n",
              "\n",
              "  <style>\n",
              "    .colab-df-container {\n",
              "      display:flex;\n",
              "      gap: 12px;\n",
              "    }\n",
              "\n",
              "    .colab-df-convert {\n",
              "      background-color: #E8F0FE;\n",
              "      border: none;\n",
              "      border-radius: 50%;\n",
              "      cursor: pointer;\n",
              "      display: none;\n",
              "      fill: #1967D2;\n",
              "      height: 32px;\n",
              "      padding: 0 0 0 0;\n",
              "      width: 32px;\n",
              "    }\n",
              "\n",
              "    .colab-df-convert:hover {\n",
              "      background-color: #E2EBFA;\n",
              "      box-shadow: 0px 1px 2px rgba(60, 64, 67, 0.3), 0px 1px 3px 1px rgba(60, 64, 67, 0.15);\n",
              "      fill: #174EA6;\n",
              "    }\n",
              "\n",
              "    .colab-df-buttons div {\n",
              "      margin-bottom: 4px;\n",
              "    }\n",
              "\n",
              "    [theme=dark] .colab-df-convert {\n",
              "      background-color: #3B4455;\n",
              "      fill: #D2E3FC;\n",
              "    }\n",
              "\n",
              "    [theme=dark] .colab-df-convert:hover {\n",
              "      background-color: #434B5C;\n",
              "      box-shadow: 0px 1px 3px 1px rgba(0, 0, 0, 0.15);\n",
              "      filter: drop-shadow(0px 1px 2px rgba(0, 0, 0, 0.3));\n",
              "      fill: #FFFFFF;\n",
              "    }\n",
              "  </style>\n",
              "\n",
              "    <script>\n",
              "      const buttonEl =\n",
              "        document.querySelector('#df-58142efa-8732-49c4-9853-dd0d62f7c0e1 button.colab-df-convert');\n",
              "      buttonEl.style.display =\n",
              "        google.colab.kernel.accessAllowed ? 'block' : 'none';\n",
              "\n",
              "      async function convertToInteractive(key) {\n",
              "        const element = document.querySelector('#df-58142efa-8732-49c4-9853-dd0d62f7c0e1');\n",
              "        const dataTable =\n",
              "          await google.colab.kernel.invokeFunction('convertToInteractive',\n",
              "                                                    [key], {});\n",
              "        if (!dataTable) return;\n",
              "\n",
              "        const docLinkHtml = 'Like what you see? Visit the ' +\n",
              "          '<a target=\"_blank\" href=https://colab.research.google.com/notebooks/data_table.ipynb>data table notebook</a>'\n",
              "          + ' to learn more about interactive tables.';\n",
              "        element.innerHTML = '';\n",
              "        dataTable['output_type'] = 'display_data';\n",
              "        await google.colab.output.renderOutput(dataTable, element);\n",
              "        const docLink = document.createElement('div');\n",
              "        docLink.innerHTML = docLinkHtml;\n",
              "        element.appendChild(docLink);\n",
              "      }\n",
              "    </script>\n",
              "  </div>\n",
              "\n",
              "\n",
              "<div id=\"df-6fe14a64-eb8c-4bec-8eab-5f334bb1ae45\">\n",
              "  <button class=\"colab-df-quickchart\" onclick=\"quickchart('df-6fe14a64-eb8c-4bec-8eab-5f334bb1ae45')\"\n",
              "            title=\"Suggest charts\"\n",
              "            style=\"display:none;\">\n",
              "\n",
              "<svg xmlns=\"http://www.w3.org/2000/svg\" height=\"24px\"viewBox=\"0 0 24 24\"\n",
              "     width=\"24px\">\n",
              "    <g>\n",
              "        <path d=\"M19 3H5c-1.1 0-2 .9-2 2v14c0 1.1.9 2 2 2h14c1.1 0 2-.9 2-2V5c0-1.1-.9-2-2-2zM9 17H7v-7h2v7zm4 0h-2V7h2v10zm4 0h-2v-4h2v4z\"/>\n",
              "    </g>\n",
              "</svg>\n",
              "  </button>\n",
              "\n",
              "<style>\n",
              "  .colab-df-quickchart {\n",
              "      --bg-color: #E8F0FE;\n",
              "      --fill-color: #1967D2;\n",
              "      --hover-bg-color: #E2EBFA;\n",
              "      --hover-fill-color: #174EA6;\n",
              "      --disabled-fill-color: #AAA;\n",
              "      --disabled-bg-color: #DDD;\n",
              "  }\n",
              "\n",
              "  [theme=dark] .colab-df-quickchart {\n",
              "      --bg-color: #3B4455;\n",
              "      --fill-color: #D2E3FC;\n",
              "      --hover-bg-color: #434B5C;\n",
              "      --hover-fill-color: #FFFFFF;\n",
              "      --disabled-bg-color: #3B4455;\n",
              "      --disabled-fill-color: #666;\n",
              "  }\n",
              "\n",
              "  .colab-df-quickchart {\n",
              "    background-color: var(--bg-color);\n",
              "    border: none;\n",
              "    border-radius: 50%;\n",
              "    cursor: pointer;\n",
              "    display: none;\n",
              "    fill: var(--fill-color);\n",
              "    height: 32px;\n",
              "    padding: 0;\n",
              "    width: 32px;\n",
              "  }\n",
              "\n",
              "  .colab-df-quickchart:hover {\n",
              "    background-color: var(--hover-bg-color);\n",
              "    box-shadow: 0 1px 2px rgba(60, 64, 67, 0.3), 0 1px 3px 1px rgba(60, 64, 67, 0.15);\n",
              "    fill: var(--button-hover-fill-color);\n",
              "  }\n",
              "\n",
              "  .colab-df-quickchart-complete:disabled,\n",
              "  .colab-df-quickchart-complete:disabled:hover {\n",
              "    background-color: var(--disabled-bg-color);\n",
              "    fill: var(--disabled-fill-color);\n",
              "    box-shadow: none;\n",
              "  }\n",
              "\n",
              "  .colab-df-spinner {\n",
              "    border: 2px solid var(--fill-color);\n",
              "    border-color: transparent;\n",
              "    border-bottom-color: var(--fill-color);\n",
              "    animation:\n",
              "      spin 1s steps(1) infinite;\n",
              "  }\n",
              "\n",
              "  @keyframes spin {\n",
              "    0% {\n",
              "      border-color: transparent;\n",
              "      border-bottom-color: var(--fill-color);\n",
              "      border-left-color: var(--fill-color);\n",
              "    }\n",
              "    20% {\n",
              "      border-color: transparent;\n",
              "      border-left-color: var(--fill-color);\n",
              "      border-top-color: var(--fill-color);\n",
              "    }\n",
              "    30% {\n",
              "      border-color: transparent;\n",
              "      border-left-color: var(--fill-color);\n",
              "      border-top-color: var(--fill-color);\n",
              "      border-right-color: var(--fill-color);\n",
              "    }\n",
              "    40% {\n",
              "      border-color: transparent;\n",
              "      border-right-color: var(--fill-color);\n",
              "      border-top-color: var(--fill-color);\n",
              "    }\n",
              "    60% {\n",
              "      border-color: transparent;\n",
              "      border-right-color: var(--fill-color);\n",
              "    }\n",
              "    80% {\n",
              "      border-color: transparent;\n",
              "      border-right-color: var(--fill-color);\n",
              "      border-bottom-color: var(--fill-color);\n",
              "    }\n",
              "    90% {\n",
              "      border-color: transparent;\n",
              "      border-bottom-color: var(--fill-color);\n",
              "    }\n",
              "  }\n",
              "</style>\n",
              "\n",
              "  <script>\n",
              "    async function quickchart(key) {\n",
              "      const quickchartButtonEl =\n",
              "        document.querySelector('#' + key + ' button');\n",
              "      quickchartButtonEl.disabled = true;  // To prevent multiple clicks.\n",
              "      quickchartButtonEl.classList.add('colab-df-spinner');\n",
              "      try {\n",
              "        const charts = await google.colab.kernel.invokeFunction(\n",
              "            'suggestCharts', [key], {});\n",
              "      } catch (error) {\n",
              "        console.error('Error during call to suggestCharts:', error);\n",
              "      }\n",
              "      quickchartButtonEl.classList.remove('colab-df-spinner');\n",
              "      quickchartButtonEl.classList.add('colab-df-quickchart-complete');\n",
              "    }\n",
              "    (() => {\n",
              "      let quickchartButtonEl =\n",
              "        document.querySelector('#df-6fe14a64-eb8c-4bec-8eab-5f334bb1ae45 button');\n",
              "      quickchartButtonEl.style.display =\n",
              "        google.colab.kernel.accessAllowed ? 'block' : 'none';\n",
              "    })();\n",
              "  </script>\n",
              "</div>\n",
              "    </div>\n",
              "  </div>\n"
            ]
          },
          "metadata": {},
          "execution_count": 4
        }
      ]
    },
    {
      "cell_type": "markdown",
      "metadata": {
        "id": "dGTF64VdWebG"
      },
      "source": [
        "#### Assignments:\n",
        "- Targets  \n",
        "- Number of targets\n",
        "- Number of features\n"
      ]
    },
    {
      "cell_type": "code",
      "execution_count": 5,
      "metadata": {
        "id": "JvqxR2HeWebG"
      },
      "outputs": [],
      "source": [
        "# Can change later\n",
        "\n",
        "N_FEATURES = df_droptime.shape[1]  # All features other than time\n",
        "N_TARGETS = 1                      # Prediciting only 1 target (close price)\n",
        "TARGET = 'close'\n"
      ]
    },
    {
      "cell_type": "markdown",
      "metadata": {
        "id": "cQ9HoELiWebH"
      },
      "source": [
        "## Preparing the dataset for DL Model"
      ]
    },
    {
      "cell_type": "markdown",
      "metadata": {
        "id": "gf2ZHtciWebH"
      },
      "source": [
        "### Step 1. Creating many folds"
      ]
    },
    {
      "cell_type": "markdown",
      "metadata": {
        "id": "vYiGlhmwWebH"
      },
      "source": [
        "#### Assignments:\n",
        "- Fold Length   \n",
        "- Fold Size\n",
        "- Train Test Ratio\n"
      ]
    },
    {
      "cell_type": "code",
      "execution_count": 6,
      "metadata": {
        "id": "f2kUUTpOWebH"
      },
      "outputs": [],
      "source": [
        "# Can change later\n",
        "\n",
        "# Since we have data for about 6.3 years, we will asssume fold lengths of 2 years\n",
        "# 1.34 years for training and 0.67 for testing\n",
        "\n",
        "FOLD_LENGTH = 365 * 2     # Assume fold legnth of 2 years\n",
        "FOLD_STRIDE = 91          # Assume stride every quarter\n",
        "TRAIN_TEST_RATIO = 0.67   # Two-thirds split ratio\n"
      ]
    },
    {
      "cell_type": "markdown",
      "metadata": {
        "id": "oeWn8gqnWebH"
      },
      "source": [
        "#### * Implement the Get Folds Function:\n",
        "- Takes in df, fold length, fold stride\n",
        "- Returns a list of folds (each fold being a dataframe)"
      ]
    },
    {
      "cell_type": "code",
      "execution_count": 7,
      "metadata": {
        "id": "WD3AZab7WebH"
      },
      "outputs": [],
      "source": [
        "# Goes through the dataframe and creates equal sized folds of FOLD_LENGTH\n",
        "# starting at 0 and at each FOLD_STRIDE until it crosses len(df)\n",
        "\n",
        "def get_folds(df: pd.DataFrame,\n",
        "    fold_length: int,\n",
        "    fold_stride: int) -> list[pd.DataFrame]:\n",
        "\n",
        "    folds = []\n",
        "    for index in range(0, fold_length, fold_stride):\n",
        "        if index + fold_length > len(df):\n",
        "            break\n",
        "        fold = df.iloc[index:index + fold_length,:]\n",
        "        folds.append(fold)\n",
        "    return folds\n"
      ]
    },
    {
      "cell_type": "code",
      "execution_count": 8,
      "metadata": {
        "colab": {
          "base_uri": "https://localhost:8080/"
        },
        "id": "ABRR6UBRWebH",
        "outputId": "6ab87fa4-4c92-487b-a423-30a4aa2cb7f6"
      },
      "outputs": [
        {
          "output_type": "stream",
          "name": "stdout",
          "text": [
            "Number of folds created were 9\n",
            "Each with a shape equal to (730, 16).\n"
          ]
        }
      ],
      "source": [
        "folds = (get_folds(df_droptime,FOLD_LENGTH,FOLD_STRIDE))\n",
        "print(f'Number of folds created were {len(folds)}')\n",
        "print(f'Each with a shape equal to {folds[0].shape}.')\n"
      ]
    },
    {
      "cell_type": "markdown",
      "metadata": {
        "id": "7Q1fiOACWebI"
      },
      "source": [
        "### Step 2. Temporal Train Test Split for one fold"
      ]
    },
    {
      "cell_type": "markdown",
      "metadata": {
        "id": "kn4OkG7sWebI"
      },
      "source": [
        "#### Focusing on one fold first"
      ]
    },
    {
      "cell_type": "code",
      "execution_count": 9,
      "metadata": {
        "id": "EvmSLgl5WebI"
      },
      "outputs": [],
      "source": [
        "fold = folds[0]\n"
      ]
    },
    {
      "cell_type": "markdown",
      "metadata": {
        "id": "Vf1zCy-ZWebI"
      },
      "source": [
        "#### Assignments:\n",
        "- Input Length : Selected period selected for forecasting\n",
        "- Output Length : Selected period we want to predict\n"
      ]
    },
    {
      "cell_type": "code",
      "execution_count": 10,
      "metadata": {
        "id": "zOnLChyIWebI"
      },
      "outputs": [],
      "source": [
        "# Can change later\n",
        "\n",
        "INPUT_LENGTH = 4           # We can assume 3 days for a forecating period\n",
        "OUTPUT_LENGTH = 1           # If we want predict only one timestep (day) ahead\n",
        "TEMP_TRAIN_TEST_RATIO = 0.8 # How we want to split each fold (can be same as train test ratio)\n"
      ]
    },
    {
      "cell_type": "markdown",
      "metadata": {
        "id": "fWjxEp2oWebI"
      },
      "source": [
        "#### * Implement the Temporal Train Test Split Function:\n",
        "- Takes in a fold, temporal train test ratio, input length\n",
        "- Returns a tuple of (fold_train, fold_test), each as a dataframe"
      ]
    },
    {
      "cell_type": "code",
      "execution_count": 11,
      "metadata": {
        "id": "NnNXLhHqWebI"
      },
      "outputs": [],
      "source": [
        "# Splitting one fold into train and test chronologically,\n",
        "# so we can later sample many (Xi,yi) pairs (input and output lengths)\n",
        "\n",
        "def temporal_train_test_split(fold:pd.DataFrame,\n",
        "                            temp_train_test_ratio: float,\n",
        "                            input_length: int) -> tuple[pd.DataFrame]:\n",
        "    # Train set\n",
        "    last_train_index = round(temp_train_test_ratio * len(fold))\n",
        "    fold_train = fold.iloc[0:last_train_index, :]\n",
        "\n",
        "    #Test Set\n",
        "    first_test_index = last_train_index - input_length\n",
        "    fold_test = fold.iloc[first_test_index:, :]\n",
        "\n",
        "    return (fold_train,fold_test)\n"
      ]
    },
    {
      "cell_type": "code",
      "execution_count": 12,
      "metadata": {
        "id": "KeE2F13mWebI"
      },
      "outputs": [],
      "source": [
        "(fold_train, fold_test) = temporal_train_test_split(fold, TEMP_TRAIN_TEST_RATIO, INPUT_LENGTH)\n"
      ]
    },
    {
      "cell_type": "code",
      "execution_count": 13,
      "metadata": {
        "colab": {
          "base_uri": "https://localhost:8080/"
        },
        "id": "pw9uX_brWebI",
        "outputId": "31bc1a3c-4467-4756-ab5e-0abcaf2af9f9"
      },
      "outputs": [
        {
          "output_type": "execute_result",
          "data": {
            "text/plain": [
              "((584, 16), (150, 16))"
            ]
          },
          "metadata": {},
          "execution_count": 13
        }
      ],
      "source": [
        "fold_train.shape, fold_test.shape\n"
      ]
    },
    {
      "cell_type": "markdown",
      "metadata": {
        "id": "ucCfZHzoWebI"
      },
      "source": [
        "### Step 3. Create (X, y) sequences"
      ]
    },
    {
      "cell_type": "markdown",
      "source": [
        "### Option 1. Random Sampling"
      ],
      "metadata": {
        "id": "kLYhZj9mta1L"
      }
    },
    {
      "cell_type": "markdown",
      "metadata": {
        "id": "5U2Hh350WebJ"
      },
      "source": [
        "#### Now that we split our fold into trian and test we have to create 2 functions\n",
        "- One that will return a single sequence of (Xi, yi) (from fold train for training, and from fold test for evaluating)\n",
        "- Another that will call the first function many times over creating 3-D arrays of multiple sequences (X, y)"
      ]
    },
    {
      "cell_type": "markdown",
      "metadata": {
        "id": "Sfl9UtZ1WebJ"
      },
      "source": [
        "#### * Implement the Get (Xi, yi) function (using the random method):\n",
        "- Takes in a fold, input length ,output length\n",
        "- Returns a single sequence of (Xi, yi) as a 2-D DataFrame"
      ]
    },
    {
      "cell_type": "code",
      "execution_count": 14,
      "metadata": {
        "id": "cFoOvPZ5WebJ"
      },
      "outputs": [],
      "source": [
        "# Given a fold (could be train fold for testing or test fold for evaluating),\n",
        "# it will return a sequence of (Xi,yi) based on input and output lengths,\n",
        "# starting from a random point.\n",
        "\n",
        "def get_Xi_yi(fold:pd.DataFrame,\n",
        "              input_length:int,\n",
        "              output_length:int):\n",
        "\n",
        "    first_possible_start = 0\n",
        "    last_possible_start = len(fold) - (input_length + output_length) + 1\n",
        "    random_start = np.random.randint(first_possible_start, last_possible_start)\n",
        "    X_i = fold.iloc[random_start:random_start+input_length]\n",
        "    y_i = fold.iloc[random_start+input_length:\n",
        "                  random_start+input_length+output_length][[TARGET]]\n",
        "\n",
        "    return (X_i, y_i)\n"
      ]
    },
    {
      "cell_type": "markdown",
      "metadata": {
        "id": "5JQGL2WOWebJ"
      },
      "source": []
    },
    {
      "cell_type": "code",
      "execution_count": 15,
      "metadata": {
        "id": "JHJPHO2JWebJ"
      },
      "outputs": [],
      "source": [
        "X_train_i, y_train_i = get_Xi_yi(fold_train, INPUT_LENGTH, OUTPUT_LENGTH)\n",
        "X_test_i, y_test_i = get_Xi_yi(fold_test, INPUT_LENGTH, OUTPUT_LENGTH)\n"
      ]
    },
    {
      "cell_type": "code",
      "execution_count": 16,
      "metadata": {
        "colab": {
          "base_uri": "https://localhost:8080/"
        },
        "id": "hHjEM59aWebJ",
        "outputId": "1fe201dd-ebd4-490e-8571-e782a46f8d26"
      },
      "outputs": [
        {
          "output_type": "execute_result",
          "data": {
            "text/plain": [
              "((4, 16), (1, 1))"
            ]
          },
          "metadata": {},
          "execution_count": 16
        }
      ],
      "source": [
        "X_train_i.shape, y_train_i.shape\n"
      ]
    },
    {
      "cell_type": "code",
      "execution_count": 17,
      "metadata": {
        "colab": {
          "base_uri": "https://localhost:8080/"
        },
        "id": "PbNgIO_7WebJ",
        "outputId": "11605053-fcc0-417c-e8da-f7a8e20040ad"
      },
      "outputs": [
        {
          "output_type": "execute_result",
          "data": {
            "text/plain": [
              "((4, 16), (1, 1))"
            ]
          },
          "metadata": {},
          "execution_count": 17
        }
      ],
      "source": [
        "X_test_i.shape, y_test_i.shape\n"
      ]
    },
    {
      "cell_type": "markdown",
      "metadata": {
        "id": "qZjkj-mVWebJ"
      },
      "source": [
        "#### Assignments:\n",
        "- Number of sequences train : How many sequences do we want to collect from X_train\n",
        "- Number of sequences test : How many sequences do we want to collect from X_test\n"
      ]
    },
    {
      "cell_type": "code",
      "execution_count": 18,
      "metadata": {
        "id": "v_91CetoWebJ"
      },
      "outputs": [],
      "source": [
        "# Can change later\n",
        "\n",
        "N_TRAIN = 500 # number_of_sequences_train\n",
        "N_TEST =  250 # number_of_sequences_test\n"
      ]
    },
    {
      "cell_type": "markdown",
      "metadata": {
        "id": "PmATw7PGWebJ"
      },
      "source": [
        "#### * Implement the Get (X,y) Function:\n",
        "- Takes in fold, number of sequences, input length, output length\n",
        "- Returns (X, y) as a 3-D array"
      ]
    },
    {
      "cell_type": "code",
      "execution_count": 19,
      "metadata": {
        "id": "4JZm56RQWebJ"
      },
      "outputs": [],
      "source": [
        "# Uses the previous get_Xi_yi function and loops based on number of sequences,\n",
        "# and returns your complete X_train, y_train as 3-D arrays of\n",
        "#( Number of sequences, time steps, number of features(targets) )\n",
        "\n",
        "def get_X_y(fold:pd.DataFrame,\n",
        "            number_of_sequences:int,\n",
        "            input_length:int,\n",
        "            output_length:int):\n",
        "\n",
        "    X, y = [], []\n",
        "\n",
        "    for i in range(number_of_sequences):\n",
        "        (Xi, yi) = get_Xi_yi(fold, input_length, output_length)\n",
        "        X.append(Xi)\n",
        "        y.append(yi)\n",
        "\n",
        "    return np.array(X), np.array(y)\n"
      ]
    },
    {
      "cell_type": "code",
      "execution_count": 20,
      "metadata": {
        "id": "nxqMSWtnWebK"
      },
      "outputs": [],
      "source": [
        "X_train, y_train = get_X_y(fold_train, N_TRAIN, INPUT_LENGTH, OUTPUT_LENGTH)\n",
        "X_test, y_test = get_X_y(fold_test, N_TEST, INPUT_LENGTH, OUTPUT_LENGTH)\n"
      ]
    },
    {
      "cell_type": "code",
      "execution_count": 21,
      "metadata": {
        "colab": {
          "base_uri": "https://localhost:8080/"
        },
        "id": "wYDt6o1hWebK",
        "outputId": "50591c24-b031-41b3-f86b-64d7a6ba6c99"
      },
      "outputs": [
        {
          "output_type": "execute_result",
          "data": {
            "text/plain": [
              "((500, 4, 16), (500, 1, 1))"
            ]
          },
          "metadata": {},
          "execution_count": 21
        }
      ],
      "source": [
        "X_train.shape, y_train.shape\n"
      ]
    },
    {
      "cell_type": "code",
      "execution_count": 22,
      "metadata": {
        "colab": {
          "base_uri": "https://localhost:8080/"
        },
        "id": "ilquiB0-WebK",
        "outputId": "f32c654a-2e47-4ee3-fb2c-f8ba8697ff16"
      },
      "outputs": [
        {
          "output_type": "execute_result",
          "data": {
            "text/plain": [
              "((250, 4, 16), (250, 1, 1))"
            ]
          },
          "metadata": {},
          "execution_count": 22
        }
      ],
      "source": [
        "X_test.shape, y_test.shape\n"
      ]
    },
    {
      "cell_type": "markdown",
      "source": [
        "### Option 2. Chronological Sampling"
      ],
      "metadata": {
        "id": "ykTdZfimuGms"
      }
    },
    {
      "cell_type": "markdown",
      "source": [
        "#### Assignments:\n",
        "- Sequence Stride: How many days of stride to collect data\n",
        "\n"
      ],
      "metadata": {
        "id": "8orkN6xpui6J"
      }
    },
    {
      "cell_type": "code",
      "source": [
        "# Can change later\n",
        "\n",
        "SEQUENCE_STRIDE = 4\n"
      ],
      "metadata": {
        "id": "SKIhuyO-vJ1X"
      },
      "execution_count": 23,
      "outputs": []
    },
    {
      "cell_type": "code",
      "source": [
        "def get_X_y_strides(fold: pd.DataFrame, input_length: int, output_length: int, sequence_stride: int):\n",
        "\n",
        "    # slides through a `fold` Time Series (2D array) to create sequences of equal\n",
        "    # input_length for X, output_length for y,\n",
        "    # using a temporal gap `sequence_stride` between each sequence\n",
        "    # and returns a list of sequences, each as a 2D-array time series\n",
        "\n",
        "    X, y = [], []\n",
        "\n",
        "    for i in range(0, len(fold), sequence_stride):\n",
        "        if (i + input_length + output_length) > len(fold):\n",
        "            break\n",
        "        X_i = fold.iloc[i:i + input_length, :]\n",
        "        y_i = fold.iloc[i + input_length:i + input_length + output_length, :][[TARGET]]\n",
        "        X.append(X_i)\n",
        "        y.append(y_i)\n",
        "\n",
        "    return np.array(X), np.array(y)"
      ],
      "metadata": {
        "id": "l9lSBPNauMmk"
      },
      "execution_count": 24,
      "outputs": []
    },
    {
      "cell_type": "code",
      "source": [
        "# X_train, y_train = get_X_y_strides(fold_train, INPUT_LENGTH, OUTPUT_LENGTH, SEQUENCE_STRIDE)\n",
        "# X_test, y_test = get_X_y_strides(fold_test, INPUT_LENGTH, OUTPUT_LENGTH, SEQUENCE_STRIDE)\n",
        "\n",
        "# print(X_train.shape)\n",
        "# print(y_train.shape)\n"
      ],
      "metadata": {
        "id": "619qQseMuMdu"
      },
      "execution_count": 25,
      "outputs": []
    },
    {
      "cell_type": "code",
      "source": [
        "# print(X_test.shape)\n",
        "# print(y_test.shape)"
      ],
      "metadata": {
        "id": "Iz3b5kFjAEAR"
      },
      "execution_count": 26,
      "outputs": []
    },
    {
      "cell_type": "markdown",
      "metadata": {
        "id": "5RTkxPyRWebK"
      },
      "source": [
        "## Modeling"
      ]
    },
    {
      "cell_type": "code",
      "execution_count": 27,
      "metadata": {
        "id": "X33dFLfqWebK"
      },
      "outputs": [],
      "source": [
        "from tensorflow.keras import models\n",
        "from tensorflow.keras import layers\n",
        "from tensorflow.keras import optimizers, metrics\n",
        "from tensorflow.keras.layers.experimental.preprocessing import Normalization\n",
        "from tensorflow.keras.callbacks import EarlyStopping\n",
        "from tensorflow.keras.layers import Lambda\n",
        "from tensorflow.keras.optimizers.schedules import ExponentialDecay\n",
        "from tensorflow.keras import regularizers\n"
      ]
    },
    {
      "cell_type": "markdown",
      "metadata": {
        "id": "cK2sKeX8WebT"
      },
      "source": [
        "### Step 1. Building a Baseline (dummy) model for comparisons"
      ]
    },
    {
      "cell_type": "markdown",
      "metadata": {
        "id": "1r3JLinkWebT"
      },
      "source": [
        "#### * Initialize the Baseline Model function based on last seen value"
      ]
    },
    {
      "cell_type": "code",
      "execution_count": 67,
      "metadata": {
        "id": "aKpzN9gLWebU"
      },
      "outputs": [],
      "source": [
        "def init_baseline():\n",
        "\n",
        "    model = models.Sequential()\n",
        "    model.add(layers.Lambda(lambda x: x[:,-1,3,None]))\n",
        "\n",
        "    adam = optimizers.Adam(learning_rate=0.01)\n",
        "    model.compile(loss='mse', optimizer=adam, metrics=[\"mse\",'mae'])\n",
        "\n",
        "    return model\n"
      ]
    },
    {
      "cell_type": "code",
      "execution_count": 68,
      "metadata": {
        "colab": {
          "base_uri": "https://localhost:8080/"
        },
        "id": "68aYchyiWebU",
        "outputId": "d340c85a-0720-4022-b038-2df4795b05da"
      },
      "outputs": [
        {
          "output_type": "stream",
          "name": "stdout",
          "text": [
            "16/16 [==============================] - 0s 3ms/step - loss: 214434.6562 - mse: 214434.6562 - mae: 241.8727\n"
          ]
        },
        {
          "output_type": "execute_result",
          "data": {
            "text/plain": [
              "<keras.src.callbacks.History at 0x782713f82bc0>"
            ]
          },
          "metadata": {},
          "execution_count": 68
        }
      ],
      "source": [
        "base_model = init_baseline()\n",
        "base_model.fit(X_train,y_train)\n"
      ]
    },
    {
      "cell_type": "code",
      "execution_count": 69,
      "metadata": {
        "colab": {
          "base_uri": "https://localhost:8080/"
        },
        "id": "o229ud_hWebU",
        "outputId": "e4a9803b-e635-49be-e991-f746311fbf2a"
      },
      "outputs": [
        {
          "output_type": "stream",
          "name": "stdout",
          "text": [
            "8/8 [==============================] - 0s 3ms/step - loss: 168257.9062 - mse: 168257.9062 - mae: 279.7512\n"
          ]
        }
      ],
      "source": [
        "baseline_score = base_model.evaluate(X_test,y_test)\n"
      ]
    },
    {
      "cell_type": "markdown",
      "metadata": {
        "id": "gbpQRtDeWebU"
      },
      "source": [
        "### Step 2. Building an LSTM Model"
      ]
    },
    {
      "cell_type": "markdown",
      "metadata": {
        "id": "kmiyOzNQWebU"
      },
      "source": [
        "#### * Initialize the LSTM Model function"
      ]
    },
    {
      "cell_type": "code",
      "execution_count": 79,
      "metadata": {
        "id": "Ka5Hp_M3WebU"
      },
      "outputs": [],
      "source": [
        "def init_model(X_train, y_train):\n",
        "\n",
        "    adam = optimizers.Adam(learning_rate=0.01)\n",
        "    #reg_l2 = regularizers.L2(0.5)\n",
        "\n",
        "    output_length = y_train.shape[1]*y_train.shape[2]\n",
        "\n",
        "    normalizer = Normalization()\n",
        "    normalizer.adapt(X_train)\n",
        "\n",
        "    model = models.Sequential()\n",
        "\n",
        "    model.add(normalizer)\n",
        "    model.add(layers.LSTM(124,\n",
        "                          activation='tanh',\n",
        "                          return_sequences = True,\n",
        "                          ))\n",
        "    model.add(layers.LSTM(64,\n",
        "                          activation='tanh',\n",
        "                          return_sequences = True,\n",
        "                          ))\n",
        "    model.add(layers.LSTM(32,\n",
        "                          activation='tanh',\n",
        "                          return_sequences = True\n",
        "                          ))\n",
        "    model.add(layers.LSTM(16,\n",
        "                          activation='tanh',\n",
        "                          return_sequences = False\n",
        "                          ))\n",
        "\n",
        "    model.add(layers.Dense(10, activation='relu'\n",
        "                           ))\n",
        "\n",
        "    model.add(layers.Dense(output_length, activation='linear'))\n",
        "\n",
        "    model.compile(loss='mse', optimizer=adam, metrics=[\"mse\",'mae'])\n",
        "\n",
        "    return model\n"
      ]
    },
    {
      "cell_type": "markdown",
      "metadata": {
        "id": "ZC0hMdWyWebU"
      },
      "source": [
        "#### * Fit (Train) the LSTM Model function"
      ]
    },
    {
      "cell_type": "code",
      "execution_count": 80,
      "metadata": {
        "id": "Y5t5wsFJWebU"
      },
      "outputs": [],
      "source": [
        "def fit_model(model: tf.keras.Model, verbose=1) -> tuple[tf.keras.Model, dict]:\n",
        "\n",
        "    es = EarlyStopping(monitor = \"val_loss\",\n",
        "                      patience = 20,\n",
        "                      mode = \"min\",\n",
        "                      restore_best_weights = True)\n",
        "\n",
        "\n",
        "    history = model.fit(X_train, y_train,\n",
        "                        validation_split = 0.3,\n",
        "                        shuffle = False,\n",
        "                        batch_size = 16,\n",
        "                        epochs = 100,\n",
        "                        callbacks = [es],\n",
        "                        verbose = verbose)\n",
        "\n",
        "    return model, history\n"
      ]
    },
    {
      "cell_type": "markdown",
      "metadata": {
        "id": "tepHe3NzWebU"
      },
      "source": [
        "#### * Define the plot history function"
      ]
    },
    {
      "cell_type": "code",
      "execution_count": 81,
      "metadata": {
        "id": "Nl4RkRWnWebU"
      },
      "outputs": [],
      "source": [
        "def plot_history(history):\n",
        "\n",
        "    fig, ax = plt.subplots(1,2, figsize=(20,7))\n",
        "    ax[0].plot(history.history['loss'])\n",
        "    ax[0].plot(history.history['val_loss'])\n",
        "    ax[0].set_title('MSE')\n",
        "    ax[0].set_ylabel('Loss')\n",
        "    ax[0].set_xlabel('Epoch')\n",
        "    ax[0].legend(['Train', 'Validation'], loc='best')\n",
        "    ax[0].grid(axis=\"x\",linewidth=0.5)\n",
        "    ax[0].grid(axis=\"y\",linewidth=0.5)\n",
        "\n",
        "    ax[1].plot(history.history['mae'])\n",
        "    ax[1].plot(history.history['val_mae'])\n",
        "    ax[1].set_title('MAE')\n",
        "    ax[1].set_ylabel('MAE')\n",
        "    ax[1].set_xlabel('Epoch')\n",
        "    ax[1].legend(['Train', 'Validation'], loc='best')\n",
        "    ax[1].grid(axis=\"x\",linewidth=0.5)\n",
        "    ax[1].grid(axis=\"y\",linewidth=0.5)\n",
        "\n",
        "    return ax\n"
      ]
    },
    {
      "cell_type": "code",
      "execution_count": 82,
      "metadata": {
        "colab": {
          "base_uri": "https://localhost:8080/"
        },
        "id": "H4C53m2xWebU",
        "outputId": "be7b7782-ad71-4629-9c68-6df195b2981b"
      },
      "outputs": [
        {
          "output_type": "stream",
          "name": "stdout",
          "text": [
            "Epoch 1/100\n",
            "22/22 [==============================] - 9s 86ms/step - loss: 57114332.0000 - mse: 57114332.0000 - mae: 6997.5806 - val_loss: 62138948.0000 - val_mse: 62138948.0000 - val_mae: 7246.3906\n",
            "Epoch 2/100\n",
            "22/22 [==============================] - 0s 16ms/step - loss: 56864164.0000 - mse: 56864164.0000 - mae: 6979.6270 - val_loss: 61770608.0000 - val_mse: 61770608.0000 - val_mae: 7220.9302\n",
            "Epoch 3/100\n",
            "22/22 [==============================] - 0s 16ms/step - loss: 56371652.0000 - mse: 56371652.0000 - mae: 6944.1392 - val_loss: 61088920.0000 - val_mse: 61088920.0000 - val_mae: 7173.5732\n",
            "Epoch 4/100\n",
            "22/22 [==============================] - 0s 16ms/step - loss: 55554676.0000 - mse: 55554676.0000 - mae: 6884.9136 - val_loss: 60053936.0000 - val_mse: 60053936.0000 - val_mae: 7101.0684\n",
            "Epoch 5/100\n",
            "22/22 [==============================] - 0s 16ms/step - loss: 54394428.0000 - mse: 54394428.0000 - mae: 6799.9658 - val_loss: 58663444.0000 - val_mse: 58663444.0000 - val_mae: 7002.4766\n",
            "Epoch 6/100\n",
            "22/22 [==============================] - 0s 16ms/step - loss: 52898776.0000 - mse: 52898776.0000 - mae: 6688.9087 - val_loss: 56934084.0000 - val_mse: 56934084.0000 - val_mae: 6877.8857\n",
            "Epoch 7/100\n",
            "22/22 [==============================] - 0s 16ms/step - loss: 51089904.0000 - mse: 51089904.0000 - mae: 6552.1123 - val_loss: 54893832.0000 - val_mse: 54893832.0000 - val_mae: 6727.9321\n",
            "Epoch 8/100\n",
            "22/22 [==============================] - 0s 18ms/step - loss: 48999420.0000 - mse: 48999420.0000 - mae: 6390.4014 - val_loss: 52578732.0000 - val_mse: 52578732.0000 - val_mae: 6553.6226\n",
            "Epoch 9/100\n",
            "22/22 [==============================] - 0s 17ms/step - loss: 46665744.0000 - mse: 46665744.0000 - mae: 6204.9277 - val_loss: 50030848.0000 - val_mse: 50030848.0000 - val_mae: 6356.2627\n",
            "Epoch 10/100\n",
            "22/22 [==============================] - 0s 12ms/step - loss: 44132424.0000 - mse: 44132424.0000 - mae: 5997.1216 - val_loss: 47296628.0000 - val_mse: 47296628.0000 - val_mae: 6137.4146\n",
            "Epoch 11/100\n",
            "22/22 [==============================] - 0s 13ms/step - loss: 41446592.0000 - mse: 41446592.0000 - mae: 5768.6558 - val_loss: 44425516.0000 - val_mse: 44425516.0000 - val_mae: 5898.8774\n",
            "Epoch 12/100\n",
            "22/22 [==============================] - 0s 12ms/step - loss: 38657540.0000 - mse: 38657540.0000 - mae: 5521.4355 - val_loss: 41468460.0000 - val_mse: 41468460.0000 - val_mae: 5642.6675\n",
            "Epoch 13/100\n",
            "22/22 [==============================] - 0s 12ms/step - loss: 35815308.0000 - mse: 35815308.0000 - mae: 5257.5801 - val_loss: 38476596.0000 - val_mse: 38476596.0000 - val_mae: 5371.0171\n",
            "Epoch 14/100\n",
            "22/22 [==============================] - 0s 12ms/step - loss: 32969366.0000 - mse: 32969366.0000 - mae: 4979.4141 - val_loss: 35499752.0000 - val_mse: 35499752.0000 - val_mae: 5086.3530\n",
            "Epoch 15/100\n",
            "22/22 [==============================] - 0s 13ms/step - loss: 30167116.0000 - mse: 30167116.0000 - mae: 4689.4521 - val_loss: 32585162.0000 - val_mse: 32585162.0000 - val_mae: 4791.2832\n",
            "Epoch 16/100\n",
            "22/22 [==============================] - 0s 12ms/step - loss: 27452656.0000 - mse: 27452656.0000 - mae: 4390.3823 - val_loss: 29776128.0000 - val_mse: 29776128.0000 - val_mae: 4488.5811\n",
            "Epoch 17/100\n",
            "22/22 [==============================] - 0s 13ms/step - loss: 24865478.0000 - mse: 24865478.0000 - mae: 4085.0432 - val_loss: 27110826.0000 - val_mse: 27110826.0000 - val_mae: 4181.1553\n",
            "Epoch 18/100\n",
            "22/22 [==============================] - 0s 12ms/step - loss: 22439410.0000 - mse: 22439410.0000 - mae: 3777.2417 - val_loss: 24621266.0000 - val_mse: 24621266.0000 - val_mae: 3874.1887\n",
            "Epoch 19/100\n",
            "22/22 [==============================] - 0s 13ms/step - loss: 20201622.0000 - mse: 20201622.0000 - mae: 3480.8875 - val_loss: 22332454.0000 - val_mse: 22332454.0000 - val_mae: 3591.3066\n",
            "Epoch 20/100\n",
            "22/22 [==============================] - 0s 13ms/step - loss: 18172016.0000 - mse: 18172016.0000 - mae: 3226.2964 - val_loss: 20261868.0000 - val_mse: 20261868.0000 - val_mae: 3376.0227\n",
            "Epoch 21/100\n",
            "22/22 [==============================] - 0s 12ms/step - loss: 16362821.0000 - mse: 16362821.0000 - mae: 3037.1782 - val_loss: 18419204.0000 - val_mse: 18419204.0000 - val_mae: 3223.0476\n",
            "Epoch 22/100\n",
            "22/22 [==============================] - 0s 13ms/step - loss: 14778606.0000 - mse: 14778606.0000 - mae: 2881.1177 - val_loss: 16806558.0000 - val_mse: 16806558.0000 - val_mae: 3082.2258\n",
            "Epoch 23/100\n",
            "22/22 [==============================] - 0s 13ms/step - loss: 13416635.0000 - mse: 13416635.0000 - mae: 2745.4084 - val_loss: 15418945.0000 - val_mse: 15418945.0000 - val_mae: 2958.4189\n",
            "Epoch 24/100\n",
            "22/22 [==============================] - 0s 12ms/step - loss: 12267638.0000 - mse: 12267638.0000 - mae: 2627.4756 - val_loss: 14245194.0000 - val_mse: 14245194.0000 - val_mae: 2845.0347\n",
            "Epoch 25/100\n",
            "22/22 [==============================] - 0s 13ms/step - loss: 11316881.0000 - mse: 11316881.0000 - mae: 2517.2327 - val_loss: 13269141.0000 - val_mse: 13269141.0000 - val_mae: 2739.1660\n",
            "Epoch 26/100\n",
            "22/22 [==============================] - 0s 12ms/step - loss: 10545517.0000 - mse: 10545517.0000 - mae: 2414.8247 - val_loss: 12471048.0000 - val_mse: 12471048.0000 - val_mae: 2641.4553\n",
            "Epoch 27/100\n",
            "22/22 [==============================] - 0s 13ms/step - loss: 9932057.0000 - mse: 9932057.0000 - mae: 2323.6235 - val_loss: 11829047.0000 - val_mse: 11829047.0000 - val_mae: 2553.8416\n",
            "Epoch 28/100\n",
            "22/22 [==============================] - 0s 13ms/step - loss: 9453856.0000 - mse: 9453856.0000 - mae: 2245.0017 - val_loss: 11320606.0000 - val_mse: 11320606.0000 - val_mae: 2475.9204\n",
            "Epoch 29/100\n",
            "22/22 [==============================] - 0s 12ms/step - loss: 9088448.0000 - mse: 9088448.0000 - mae: 2180.6394 - val_loss: 10923741.0000 - val_mse: 10923741.0000 - val_mae: 2407.9788\n",
            "Epoch 30/100\n",
            "22/22 [==============================] - 0s 12ms/step - loss: 8814670.0000 - mse: 8814670.0000 - mae: 2127.5342 - val_loss: 10618018.0000 - val_mse: 10618018.0000 - val_mae: 2353.3398\n",
            "Epoch 31/100\n",
            "22/22 [==============================] - 0s 12ms/step - loss: 8613453.0000 - mse: 8613453.0000 - mae: 2089.4302 - val_loss: 10385185.0000 - val_mse: 10385185.0000 - val_mae: 2311.9956\n",
            "Epoch 32/100\n",
            "22/22 [==============================] - 0s 13ms/step - loss: 8468299.0000 - mse: 8468299.0000 - mae: 2067.6260 - val_loss: 10209551.0000 - val_mse: 10209551.0000 - val_mae: 2283.4006\n",
            "Epoch 33/100\n",
            "22/22 [==============================] - 0s 13ms/step - loss: 8365453.0000 - mse: 8365453.0000 - mae: 2058.8289 - val_loss: 10078051.0000 - val_mse: 10078051.0000 - val_mae: 2269.4099\n",
            "Epoch 34/100\n",
            "22/22 [==============================] - 0s 14ms/step - loss: 8293821.5000 - mse: 8293821.5000 - mae: 2059.5957 - val_loss: 9980106.0000 - val_mse: 9980106.0000 - val_mae: 2261.5178\n",
            "Epoch 35/100\n",
            "22/22 [==============================] - 0s 13ms/step - loss: 8244738.0000 - mse: 8244738.0000 - mae: 2063.4480 - val_loss: 9907380.0000 - val_mse: 9907380.0000 - val_mae: 2257.7485\n",
            "Epoch 36/100\n",
            "22/22 [==============================] - 0s 13ms/step - loss: 8211568.0000 - mse: 8211568.0000 - mae: 2067.7517 - val_loss: 9853434.0000 - val_mse: 9853434.0000 - val_mae: 2257.6765\n",
            "Epoch 37/100\n",
            "22/22 [==============================] - 0s 12ms/step - loss: 8625418.0000 - mse: 8625418.0000 - mae: 2131.4917 - val_loss: 10019721.0000 - val_mse: 10019721.0000 - val_mae: 2158.2109\n",
            "Epoch 38/100\n",
            "22/22 [==============================] - 0s 12ms/step - loss: 7803988.0000 - mse: 7803988.0000 - mae: 1879.2817 - val_loss: 8413248.0000 - val_mse: 8413248.0000 - val_mae: 1751.3488\n",
            "Epoch 39/100\n",
            "22/22 [==============================] - 0s 13ms/step - loss: 6495439.0000 - mse: 6495439.0000 - mae: 1550.6262 - val_loss: 7490311.5000 - val_mse: 7490311.5000 - val_mae: 1509.6624\n",
            "Epoch 40/100\n",
            "22/22 [==============================] - 0s 12ms/step - loss: 5677860.5000 - mse: 5677860.5000 - mae: 1309.2513 - val_loss: 6966876.0000 - val_mse: 6966876.0000 - val_mae: 1456.4641\n",
            "Epoch 41/100\n",
            "22/22 [==============================] - 0s 12ms/step - loss: 5306302.5000 - mse: 5306302.5000 - mae: 1279.3435 - val_loss: 6564136.5000 - val_mse: 6564136.5000 - val_mae: 1438.0123\n",
            "Epoch 42/100\n",
            "22/22 [==============================] - 0s 12ms/step - loss: 5006506.0000 - mse: 5006506.0000 - mae: 1255.5975 - val_loss: 6129281.5000 - val_mse: 6129281.5000 - val_mae: 1326.0288\n",
            "Epoch 43/100\n",
            "22/22 [==============================] - 0s 12ms/step - loss: 4621092.0000 - mse: 4621092.0000 - mae: 1135.6232 - val_loss: 5675961.0000 - val_mse: 5675961.0000 - val_mae: 1195.4662\n",
            "Epoch 44/100\n",
            "22/22 [==============================] - 0s 12ms/step - loss: 4283744.0000 - mse: 4283744.0000 - mae: 1043.3809 - val_loss: 5317921.0000 - val_mse: 5317921.0000 - val_mae: 1142.6793\n",
            "Epoch 45/100\n",
            "22/22 [==============================] - 0s 14ms/step - loss: 4007398.0000 - mse: 4007398.0000 - mae: 998.7371 - val_loss: 5020193.5000 - val_mse: 5020193.5000 - val_mae: 1117.1895\n",
            "Epoch 46/100\n",
            "22/22 [==============================] - 0s 17ms/step - loss: 3756890.7500 - mse: 3756890.7500 - mae: 965.7564 - val_loss: 4727392.5000 - val_mse: 4727392.5000 - val_mae: 1065.3942\n",
            "Epoch 47/100\n",
            "22/22 [==============================] - 0s 17ms/step - loss: 3301874.0000 - mse: 3301874.0000 - mae: 912.8542 - val_loss: 3960396.0000 - val_mse: 3960396.0000 - val_mae: 994.3362\n",
            "Epoch 48/100\n",
            "22/22 [==============================] - 0s 16ms/step - loss: 2890066.7500 - mse: 2890066.7500 - mae: 859.6007 - val_loss: 3769312.5000 - val_mse: 3769312.5000 - val_mae: 946.3998\n",
            "Epoch 49/100\n",
            "22/22 [==============================] - 0s 16ms/step - loss: 2696595.0000 - mse: 2696595.0000 - mae: 797.0739 - val_loss: 3580909.7500 - val_mse: 3580909.7500 - val_mae: 917.8041\n",
            "Epoch 50/100\n",
            "22/22 [==============================] - 0s 17ms/step - loss: 2552045.2500 - mse: 2552045.2500 - mae: 775.7571 - val_loss: 3384797.5000 - val_mse: 3384797.5000 - val_mae: 867.6284\n",
            "Epoch 51/100\n",
            "22/22 [==============================] - 0s 17ms/step - loss: 2424009.2500 - mse: 2424009.2500 - mae: 745.8028 - val_loss: 3220880.7500 - val_mse: 3220880.7500 - val_mae: 843.1265\n",
            "Epoch 52/100\n",
            "22/22 [==============================] - 0s 16ms/step - loss: 2320269.5000 - mse: 2320269.5000 - mae: 733.1683 - val_loss: 3100419.7500 - val_mse: 3100419.7500 - val_mae: 852.5311\n",
            "Epoch 53/100\n",
            "22/22 [==============================] - 0s 18ms/step - loss: 2237586.2500 - mse: 2237586.2500 - mae: 743.0694 - val_loss: 2993020.2500 - val_mse: 2993020.2500 - val_mae: 835.8725\n",
            "Epoch 54/100\n",
            "22/22 [==============================] - 0s 17ms/step - loss: 2110411.2500 - mse: 2110411.2500 - mae: 702.9521 - val_loss: 2881944.7500 - val_mse: 2881944.7500 - val_mae: 820.5236\n",
            "Epoch 55/100\n",
            "22/22 [==============================] - 0s 12ms/step - loss: 1998673.3750 - mse: 1998673.3750 - mae: 670.7114 - val_loss: 2734918.7500 - val_mse: 2734918.7500 - val_mae: 778.1804\n",
            "Epoch 56/100\n",
            "22/22 [==============================] - 0s 14ms/step - loss: 1925447.0000 - mse: 1925447.0000 - mae: 663.6832 - val_loss: 2659086.5000 - val_mse: 2659086.5000 - val_mae: 774.2313\n",
            "Epoch 57/100\n",
            "22/22 [==============================] - 0s 12ms/step - loss: 1827851.1250 - mse: 1827851.1250 - mae: 650.2736 - val_loss: 2531227.7500 - val_mse: 2531227.7500 - val_mae: 760.1609\n",
            "Epoch 58/100\n",
            "22/22 [==============================] - 0s 13ms/step - loss: 1767211.3750 - mse: 1767211.3750 - mae: 640.3063 - val_loss: 2499168.7500 - val_mse: 2499168.7500 - val_mae: 767.1267\n",
            "Epoch 59/100\n",
            "22/22 [==============================] - 0s 13ms/step - loss: 1728605.6250 - mse: 1728605.6250 - mae: 649.3950 - val_loss: 2433662.7500 - val_mse: 2433662.7500 - val_mae: 753.3983\n",
            "Epoch 60/100\n",
            "22/22 [==============================] - 0s 13ms/step - loss: 1694479.8750 - mse: 1694479.8750 - mae: 674.0715 - val_loss: 2305857.2500 - val_mse: 2305857.2500 - val_mae: 731.0630\n",
            "Epoch 61/100\n",
            "22/22 [==============================] - 0s 13ms/step - loss: 1583719.8750 - mse: 1583719.8750 - mae: 617.0355 - val_loss: 2229926.7500 - val_mse: 2229926.7500 - val_mae: 711.3715\n",
            "Epoch 62/100\n",
            "22/22 [==============================] - 0s 13ms/step - loss: 1522725.6250 - mse: 1522725.6250 - mae: 610.5636 - val_loss: 2140433.2500 - val_mse: 2140433.2500 - val_mae: 695.5805\n",
            "Epoch 63/100\n",
            "22/22 [==============================] - 0s 13ms/step - loss: 1517022.5000 - mse: 1517022.5000 - mae: 624.5820 - val_loss: 2094342.6250 - val_mse: 2094342.6250 - val_mae: 691.0565\n",
            "Epoch 64/100\n",
            "22/22 [==============================] - 0s 12ms/step - loss: 1452888.0000 - mse: 1452888.0000 - mae: 611.6066 - val_loss: 1985839.6250 - val_mse: 1985839.6250 - val_mae: 645.4869\n",
            "Epoch 65/100\n",
            "22/22 [==============================] - 0s 12ms/step - loss: 1392675.8750 - mse: 1392675.8750 - mae: 587.5551 - val_loss: 1922554.5000 - val_mse: 1922554.5000 - val_mae: 630.1375\n",
            "Epoch 66/100\n",
            "22/22 [==============================] - 0s 12ms/step - loss: 1329147.3750 - mse: 1329147.3750 - mae: 560.2828 - val_loss: 1841404.3750 - val_mse: 1841404.3750 - val_mae: 611.6429\n",
            "Epoch 67/100\n",
            "22/22 [==============================] - 0s 12ms/step - loss: 1288174.7500 - mse: 1288174.7500 - mae: 552.6860 - val_loss: 1803947.7500 - val_mse: 1803947.7500 - val_mae: 613.0403\n",
            "Epoch 68/100\n",
            "22/22 [==============================] - 0s 12ms/step - loss: 1206335.8750 - mse: 1206335.8750 - mae: 526.9788 - val_loss: 1765096.1250 - val_mse: 1765096.1250 - val_mae: 622.3862\n",
            "Epoch 69/100\n",
            "22/22 [==============================] - 0s 12ms/step - loss: 1215134.5000 - mse: 1215134.5000 - mae: 559.7922 - val_loss: 1722151.8750 - val_mse: 1722151.8750 - val_mae: 622.4969\n",
            "Epoch 70/100\n",
            "22/22 [==============================] - 0s 13ms/step - loss: 1131800.0000 - mse: 1131800.0000 - mae: 529.3400 - val_loss: 1652446.1250 - val_mse: 1652446.1250 - val_mae: 599.8621\n",
            "Epoch 71/100\n",
            "22/22 [==============================] - 0s 13ms/step - loss: 1171089.8750 - mse: 1171089.8750 - mae: 561.1096 - val_loss: 1660458.8750 - val_mse: 1660458.8750 - val_mae: 636.2548\n",
            "Epoch 72/100\n",
            "22/22 [==============================] - 0s 12ms/step - loss: 1082068.1250 - mse: 1082068.1250 - mae: 541.7741 - val_loss: 1584328.3750 - val_mse: 1584328.3750 - val_mae: 617.1464\n",
            "Epoch 73/100\n",
            "22/22 [==============================] - 0s 12ms/step - loss: 1039346.6250 - mse: 1039346.6250 - mae: 527.5721 - val_loss: 1518529.2500 - val_mse: 1518529.2500 - val_mae: 596.3290\n",
            "Epoch 74/100\n",
            "22/22 [==============================] - 0s 12ms/step - loss: 970184.4375 - mse: 970184.4375 - mae: 499.5750 - val_loss: 1464917.6250 - val_mse: 1464917.6250 - val_mae: 573.6901\n",
            "Epoch 75/100\n",
            "22/22 [==============================] - 0s 12ms/step - loss: 953249.4375 - mse: 953249.4375 - mae: 477.0078 - val_loss: 1482214.6250 - val_mse: 1482214.6250 - val_mae: 609.9540\n",
            "Epoch 76/100\n",
            "22/22 [==============================] - 0s 12ms/step - loss: 917954.5625 - mse: 917954.5625 - mae: 487.8117 - val_loss: 1403741.2500 - val_mse: 1403741.2500 - val_mae: 585.2267\n",
            "Epoch 77/100\n",
            "22/22 [==============================] - 0s 12ms/step - loss: 889200.6250 - mse: 889200.6250 - mae: 490.9117 - val_loss: 1411328.1250 - val_mse: 1411328.1250 - val_mae: 612.7051\n",
            "Epoch 78/100\n",
            "22/22 [==============================] - 0s 13ms/step - loss: 1091792.7500 - mse: 1091792.7500 - mae: 576.1895 - val_loss: 1496116.7500 - val_mse: 1496116.7500 - val_mae: 650.3259\n",
            "Epoch 79/100\n",
            "22/22 [==============================] - 0s 12ms/step - loss: 1005343.1875 - mse: 1005343.1875 - mae: 546.2188 - val_loss: 1368878.7500 - val_mse: 1368878.7500 - val_mae: 589.4555\n",
            "Epoch 80/100\n",
            "22/22 [==============================] - 0s 12ms/step - loss: 970061.3750 - mse: 970061.3750 - mae: 533.6252 - val_loss: 1356769.7500 - val_mse: 1356769.7500 - val_mae: 589.9496\n",
            "Epoch 81/100\n",
            "22/22 [==============================] - 0s 13ms/step - loss: 950563.5000 - mse: 950563.5000 - mae: 532.7675 - val_loss: 1285370.5000 - val_mse: 1285370.5000 - val_mae: 561.1339\n",
            "Epoch 82/100\n",
            "22/22 [==============================] - 0s 12ms/step - loss: 876096.8125 - mse: 876096.8125 - mae: 507.9595 - val_loss: 1327209.5000 - val_mse: 1327209.5000 - val_mae: 599.0538\n",
            "Epoch 83/100\n",
            "22/22 [==============================] - 0s 12ms/step - loss: 826908.0000 - mse: 826908.0000 - mae: 492.2391 - val_loss: 1180605.5000 - val_mse: 1180605.5000 - val_mae: 528.7563\n",
            "Epoch 84/100\n",
            "22/22 [==============================] - 0s 13ms/step - loss: 770832.6250 - mse: 770832.6250 - mae: 460.8095 - val_loss: 1184558.8750 - val_mse: 1184558.8750 - val_mae: 551.2106\n",
            "Epoch 85/100\n",
            "22/22 [==============================] - 0s 13ms/step - loss: 775383.5625 - mse: 775383.5625 - mae: 484.2855 - val_loss: 1165712.2500 - val_mse: 1165712.2500 - val_mae: 538.3846\n",
            "Epoch 86/100\n",
            "22/22 [==============================] - 0s 13ms/step - loss: 737554.7500 - mse: 737554.7500 - mae: 472.1280 - val_loss: 1145173.3750 - val_mse: 1145173.3750 - val_mae: 527.2773\n",
            "Epoch 87/100\n",
            "22/22 [==============================] - 0s 13ms/step - loss: 716425.4375 - mse: 716425.4375 - mae: 454.7925 - val_loss: 1136981.7500 - val_mse: 1136981.7500 - val_mae: 549.4987\n",
            "Epoch 88/100\n",
            "22/22 [==============================] - 0s 12ms/step - loss: 695203.6875 - mse: 695203.6875 - mae: 443.4023 - val_loss: 1111316.6250 - val_mse: 1111316.6250 - val_mae: 539.5497\n",
            "Epoch 89/100\n",
            "22/22 [==============================] - 0s 13ms/step - loss: 684110.8125 - mse: 684110.8125 - mae: 446.6673 - val_loss: 1103050.2500 - val_mse: 1103050.2500 - val_mae: 534.3766\n",
            "Epoch 90/100\n",
            "22/22 [==============================] - 0s 15ms/step - loss: 687006.3125 - mse: 687006.3125 - mae: 435.4099 - val_loss: 1036784.3125 - val_mse: 1036784.3125 - val_mae: 518.6772\n",
            "Epoch 91/100\n",
            "22/22 [==============================] - 0s 17ms/step - loss: 679965.8125 - mse: 679965.8125 - mae: 451.3846 - val_loss: 1034509.5625 - val_mse: 1034509.5625 - val_mae: 508.7780\n",
            "Epoch 92/100\n",
            "22/22 [==============================] - 0s 17ms/step - loss: 645793.6250 - mse: 645793.6250 - mae: 433.8836 - val_loss: 989335.3750 - val_mse: 989335.3750 - val_mae: 486.5092\n",
            "Epoch 93/100\n",
            "22/22 [==============================] - 0s 17ms/step - loss: 633920.6250 - mse: 633920.6250 - mae: 438.5006 - val_loss: 988837.1250 - val_mse: 988837.1250 - val_mae: 502.5906\n",
            "Epoch 94/100\n",
            "22/22 [==============================] - 0s 16ms/step - loss: 594891.5000 - mse: 594891.5000 - mae: 431.6823 - val_loss: 966414.3750 - val_mse: 966414.3750 - val_mae: 491.1801\n",
            "Epoch 95/100\n",
            "22/22 [==============================] - 0s 17ms/step - loss: 561587.6875 - mse: 561587.6875 - mae: 395.1551 - val_loss: 934745.1875 - val_mse: 934745.1875 - val_mae: 473.6544\n",
            "Epoch 96/100\n",
            "22/22 [==============================] - 0s 17ms/step - loss: 549555.3125 - mse: 549555.3125 - mae: 391.7086 - val_loss: 904736.5625 - val_mse: 904736.5625 - val_mae: 468.0779\n",
            "Epoch 97/100\n",
            "22/22 [==============================] - 0s 16ms/step - loss: 539992.6250 - mse: 539992.6250 - mae: 390.7014 - val_loss: 867591.8125 - val_mse: 867591.8125 - val_mae: 450.0775\n",
            "Epoch 98/100\n",
            "22/22 [==============================] - 0s 16ms/step - loss: 540526.1875 - mse: 540526.1875 - mae: 397.8330 - val_loss: 871706.7500 - val_mse: 871706.7500 - val_mae: 458.5296\n",
            "Epoch 99/100\n",
            "22/22 [==============================] - 0s 17ms/step - loss: 548641.7500 - mse: 548641.7500 - mae: 408.8764 - val_loss: 862740.1250 - val_mse: 862740.1250 - val_mae: 474.0136\n",
            "Epoch 100/100\n",
            "22/22 [==============================] - 0s 13ms/step - loss: 530338.5625 - mse: 530338.5625 - mae: 395.7845 - val_loss: 879659.5000 - val_mse: 879659.5000 - val_mae: 480.7207\n"
          ]
        }
      ],
      "source": [
        "model = init_model(X_train, y_train)\n",
        "\n",
        "model, history = fit_model(model)\n"
      ]
    },
    {
      "cell_type": "code",
      "execution_count": 83,
      "metadata": {
        "colab": {
          "base_uri": "https://localhost:8080/",
          "height": 492
        },
        "id": "SY9oLnDKWebV",
        "outputId": "dfc70f77-382d-48f2-eb0f-077bef74b1ba"
      },
      "outputs": [
        {
          "output_type": "execute_result",
          "data": {
            "text/plain": [
              "array([<Axes: title={'center': 'MSE'}, xlabel='Epoch', ylabel='Loss'>,\n",
              "       <Axes: title={'center': 'MAE'}, xlabel='Epoch', ylabel='MAE'>],\n",
              "      dtype=object)"
            ]
          },
          "metadata": {},
          "execution_count": 83
        },
        {
          "output_type": "display_data",
          "data": {
            "text/plain": [
              "<Figure size 2000x700 with 2 Axes>"
            ],
            "image/png": "[encoded data removed]"
          },
          "metadata": {}
        }
      ],
      "source": [
        "plot_history(history)\n"
      ]
    },
    {
      "cell_type": "code",
      "execution_count": 84,
      "metadata": {
        "colab": {
          "base_uri": "https://localhost:8080/"
        },
        "id": "H-2hKhXuWebV",
        "outputId": "2eae61db-b0ae-48a7-babf-43106eed7f20"
      },
      "outputs": [
        {
          "output_type": "stream",
          "name": "stdout",
          "text": [
            "8/8 [==============================] - 0s 5ms/step - loss: 4260698.5000 - mse: 4260698.5000 - mae: 1846.2963\n"
          ]
        }
      ],
      "source": [
        "res = model.evaluate(X_test,y_test)\n"
      ]
    },
    {
      "cell_type": "code",
      "source": [
        "print(f'Improvement over baseline model is {((baseline_score[2] - res[2])/baseline_score[2])*100} %')"
      ],
      "metadata": {
        "colab": {
          "base_uri": "https://localhost:8080/"
        },
        "id": "QRDv9VTYMhsa",
        "outputId": "2537092e-2a8a-4248-a353-05efcd154f7d"
      },
      "execution_count": 85,
      "outputs": [
        {
          "output_type": "stream",
          "name": "stdout",
          "text": [
            "Improvement over baseline model is -559.9779118060567 %\n"
          ]
        }
      ]
    },
    {
      "cell_type": "markdown",
      "metadata": {
        "id": "bhc6IHa0WebV"
      },
      "source": [
        "#### All this was for one fold, now we need to Cross validate on all folds"
      ]
    },
    {
      "cell_type": "markdown",
      "metadata": {
        "id": "CPw_sivDWebV"
      },
      "source": [
        "### Step 3. Cross Validation"
      ]
    },
    {
      "cell_type": "markdown",
      "metadata": {
        "id": "kQY2hTb1WebV"
      },
      "source": [
        "#### * Funtion to Cross Validate for Baseline and LSTM Models in for loop"
      ]
    },
    {
      "cell_type": "code",
      "execution_count": 77,
      "metadata": {
        "id": "6ADxZTAOWebV"
      },
      "outputs": [],
      "source": [
        "def cross_validate_baseline_and_lstm():\n",
        "    '''\n",
        "    This function cross-validates\n",
        "    - the \"last seen value\" baseline model\n",
        "    - the RNN model\n",
        "    '''\n",
        "\n",
        "    list_of_mae_baseline_model = []\n",
        "    list_of_mae_recurrent_model = []\n",
        "\n",
        "    # 0 - Creating folds\n",
        "    # =========================================\n",
        "    folds = get_folds(df_droptime, FOLD_LENGTH, FOLD_STRIDE)\n",
        "\n",
        "    for fold_id, fold in enumerate(folds):\n",
        "\n",
        "        # 1 - Train/Test split the current fold\n",
        "\n",
        "        (fold_train, fold_test) = temporal_train_test_split(fold, TRAIN_TEST_RATIO, INPUT_LENGTH)\n",
        "\n",
        "        X_train, y_train = get_X_y_strides(fold_train, N_TRAIN, INPUT_LENGTH, OUTPUT_LENGTH)\n",
        "        X_test, y_test = get_X_y_strides(fold_test, N_TEST, INPUT_LENGTH, OUTPUT_LENGTH)\n",
        "\n",
        "        # 2 - Modelling\n",
        "\n",
        "        ##### Baseline Model\n",
        "        baseline_model = init_baseline()\n",
        "        mae_baseline = baseline_model.evaluate(X_test, y_test, verbose=0)[2]\n",
        "        list_of_mae_baseline_model.append(mae_baseline)\n",
        "        print(\"-\"*50)\n",
        "        print(f\"MAE baseline fold n°{fold_id} = {round(mae_baseline, 2)}\")\n",
        "\n",
        "        ##### LSTM Model\n",
        "        model = init_model(X_train, y_train)\n",
        "        history = fit_model(model)\n",
        "        # es = EarlyStopping(monitor = \"val_mae\",\n",
        "        #                    mode = \"min\",\n",
        "        #                    patience = 2,\n",
        "        #                    restore_best_weights = True)\n",
        "        # history = model.fit(X_train, y_train,\n",
        "        #                     validation_split = 0.3,\n",
        "        #                     shuffle = False,\n",
        "        #                     batch_size = 32,\n",
        "        #                     epochs = 50,\n",
        "        #                     callbacks = [es],\n",
        "        #                     verbose = 0)\n",
        "        res = model.evaluate(X_test, y_test, verbose=0)\n",
        "        mae_lstm = res[2]\n",
        "        list_of_mae_recurrent_model.append(mae_lstm)\n",
        "        print(f\"MAE LSTM fold n°{fold_id} = {round(mae_lstm, 2)}\")\n",
        "\n",
        "        ##### Comparison LSTM vs Baseline for the current fold\n",
        "        print(f\"🏋🏽‍♂️ improvement over baseline: {round((1 - (mae_lstm/mae_baseline))*100,2)} % \\n\")\n",
        "\n",
        "    return list_of_mae_baseline_model, list_of_mae_recurrent_model\n"
      ]
    },
    {
      "cell_type": "code",
      "execution_count": 78,
      "metadata": {
        "colab": {
          "base_uri": "https://localhost:8080/",
          "height": 363
        },
        "id": "u5N862TxWebW",
        "outputId": "7fcdfded-1af8-428e-e61b-fca1b2f23d52"
      },
      "outputs": [
        {
          "output_type": "error",
          "ename": "ValueError",
          "evalue": "ignored",
          "traceback": [
            "\u001b[0;31m---------------------------------------------------------------------------\u001b[0m",
            "\u001b[0;31mValueError\u001b[0m                                Traceback (most recent call last)",
            "\u001b[0;32m<ipython-input-78-6e0359f1204e>\u001b[0m in \u001b[0;36m<cell line: 1>\u001b[0;34m()\u001b[0m\n\u001b[0;32m----> 1\u001b[0;31m \u001b[0mmae_baselines\u001b[0m\u001b[0;34m,\u001b[0m \u001b[0mmae_lstms\u001b[0m \u001b[0;34m=\u001b[0m \u001b[0mcross_validate_baseline_and_lstm\u001b[0m\u001b[0;34m(\u001b[0m\u001b[0;34m)\u001b[0m\u001b[0;34m\u001b[0m\u001b[0;34m\u001b[0m\u001b[0m\n\u001b[0m",
            "\u001b[0;32m<ipython-input-77-77cd6d95799f>\u001b[0m in \u001b[0;36mcross_validate_baseline_and_lstm\u001b[0;34m()\u001b[0m\n\u001b[1;32m     26\u001b[0m         \u001b[0;31m##### Baseline Model\u001b[0m\u001b[0;34m\u001b[0m\u001b[0;34m\u001b[0m\u001b[0m\n\u001b[1;32m     27\u001b[0m         \u001b[0mbaseline_model\u001b[0m \u001b[0;34m=\u001b[0m \u001b[0minit_baseline\u001b[0m\u001b[0;34m(\u001b[0m\u001b[0;34m)\u001b[0m\u001b[0;34m\u001b[0m\u001b[0;34m\u001b[0m\u001b[0m\n\u001b[0;32m---> 28\u001b[0;31m         \u001b[0mmae_baseline\u001b[0m \u001b[0;34m=\u001b[0m \u001b[0mbaseline_model\u001b[0m\u001b[0;34m.\u001b[0m\u001b[0mevaluate\u001b[0m\u001b[0;34m(\u001b[0m\u001b[0mX_test\u001b[0m\u001b[0;34m,\u001b[0m \u001b[0my_test\u001b[0m\u001b[0;34m,\u001b[0m \u001b[0mverbose\u001b[0m\u001b[0;34m=\u001b[0m\u001b[0;36m0\u001b[0m\u001b[0;34m)\u001b[0m\u001b[0;34m[\u001b[0m\u001b[0;36m2\u001b[0m\u001b[0;34m]\u001b[0m\u001b[0;34m\u001b[0m\u001b[0;34m\u001b[0m\u001b[0m\n\u001b[0m\u001b[1;32m     29\u001b[0m         \u001b[0mlist_of_mae_baseline_model\u001b[0m\u001b[0;34m.\u001b[0m\u001b[0mappend\u001b[0m\u001b[0;34m(\u001b[0m\u001b[0mmae_baseline\u001b[0m\u001b[0;34m)\u001b[0m\u001b[0;34m\u001b[0m\u001b[0;34m\u001b[0m\u001b[0m\n\u001b[1;32m     30\u001b[0m         \u001b[0mprint\u001b[0m\u001b[0;34m(\u001b[0m\u001b[0;34m\"-\"\u001b[0m\u001b[0;34m*\u001b[0m\u001b[0;36m50\u001b[0m\u001b[0;34m)\u001b[0m\u001b[0;34m\u001b[0m\u001b[0;34m\u001b[0m\u001b[0m\n",
            "\u001b[0;32m/usr/local/lib/python3.10/dist-packages/keras/src/utils/traceback_utils.py\u001b[0m in \u001b[0;36merror_handler\u001b[0;34m(*args, **kwargs)\u001b[0m\n\u001b[1;32m     68\u001b[0m             \u001b[0;31m# To get the full stack trace, call:\u001b[0m\u001b[0;34m\u001b[0m\u001b[0;34m\u001b[0m\u001b[0m\n\u001b[1;32m     69\u001b[0m             \u001b[0;31m# `tf.debugging.disable_traceback_filtering()`\u001b[0m\u001b[0;34m\u001b[0m\u001b[0;34m\u001b[0m\u001b[0m\n\u001b[0;32m---> 70\u001b[0;31m             \u001b[0;32mraise\u001b[0m \u001b[0me\u001b[0m\u001b[0;34m.\u001b[0m\u001b[0mwith_traceback\u001b[0m\u001b[0;34m(\u001b[0m\u001b[0mfiltered_tb\u001b[0m\u001b[0;34m)\u001b[0m \u001b[0;32mfrom\u001b[0m \u001b[0;32mNone\u001b[0m\u001b[0;34m\u001b[0m\u001b[0;34m\u001b[0m\u001b[0m\n\u001b[0m\u001b[1;32m     71\u001b[0m         \u001b[0;32mfinally\u001b[0m\u001b[0;34m:\u001b[0m\u001b[0;34m\u001b[0m\u001b[0;34m\u001b[0m\u001b[0m\n\u001b[1;32m     72\u001b[0m             \u001b[0;32mdel\u001b[0m \u001b[0mfiltered_tb\u001b[0m\u001b[0;34m\u001b[0m\u001b[0;34m\u001b[0m\u001b[0m\n",
            "\u001b[0;32m/usr/local/lib/python3.10/dist-packages/keras/src/engine/data_adapter.py\u001b[0m in \u001b[0;36m__init__\u001b[0;34m(self, x, y, sample_weight, batch_size, steps_per_epoch, initial_epoch, epochs, shuffle, class_weight, max_queue_size, workers, use_multiprocessing, model, steps_per_execution, distribute, pss_evaluation_shards)\u001b[0m\n\u001b[1;32m   1317\u001b[0m \u001b[0;34m\u001b[0m\u001b[0m\n\u001b[1;32m   1318\u001b[0m         \u001b[0;32mif\u001b[0m \u001b[0mself\u001b[0m\u001b[0;34m.\u001b[0m\u001b[0m_inferred_steps\u001b[0m \u001b[0;34m==\u001b[0m \u001b[0;36m0\u001b[0m\u001b[0;34m:\u001b[0m\u001b[0;34m\u001b[0m\u001b[0;34m\u001b[0m\u001b[0m\n\u001b[0;32m-> 1319\u001b[0;31m             \u001b[0;32mraise\u001b[0m \u001b[0mValueError\u001b[0m\u001b[0;34m(\u001b[0m\u001b[0;34m\"Expected input data to be non-empty.\"\u001b[0m\u001b[0;34m)\u001b[0m\u001b[0;34m\u001b[0m\u001b[0;34m\u001b[0m\u001b[0m\n\u001b[0m\u001b[1;32m   1320\u001b[0m \u001b[0;34m\u001b[0m\u001b[0m\n\u001b[1;32m   1321\u001b[0m     def _configure_dataset_and_inferred_steps(\n",
            "\u001b[0;31mValueError\u001b[0m: Expected input data to be non-empty."
          ]
        }
      ],
      "source": [
        "mae_baselines, mae_lstms = cross_validate_baseline_and_lstm()\n"
      ]
    },
    {
      "cell_type": "code",
      "execution_count": null,
      "metadata": {
        "id": "UeOTXn8iWebW"
      },
      "outputs": [],
      "source": [
        "print(f\"average percentage improvement over baseline = {round(np.mean(1 - (np.array(mae_lstms)/np.array(mae_baselines))),2)*100}%\")\n"
      ]
    },
    {
      "cell_type": "code",
      "execution_count": null,
      "metadata": {
        "id": "EgLZB7-XWebW"
      },
      "outputs": [],
      "source": []
    }
  ],
  "metadata": {
    "kernelspec": {
      "display_name": "Python 3",
      "name": "python3"
    },
    "language_info": {
      "codemirror_mode": {
        "name": "ipython",
        "version": 3
      },
      "file_extension": ".py",
      "mimetype": "text/x-python",
      "name": "python",
      "nbconvert_exporter": "python",
      "pygments_lexer": "ipython3",
      "version": "3.10.6"
    },
    "colab": {
      "provenance": [],
      "gpuType": "T4"
    },
    "accelerator": "GPU"
  },
  "nbformat": 4,
  "nbformat_minor": 0
}