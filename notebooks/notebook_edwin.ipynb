{
 "cells": [
  {
   "cell_type": "markdown",
   "metadata": {},
   "source": []
  },
  {
   "cell_type": "markdown",
   "metadata": {},
   "source": [
    "### __*Install packages, Imports, DataFrame*__"
   ]
  },
  {
   "cell_type": "code",
   "execution_count": 1,
   "metadata": {},
   "outputs": [],
   "source": [
    "\n",
    "from torchmetrics import SymmetricMeanAbsolutePercentageError, MeanSquaredError, MeanAbsoluteError\n",
    "\n",
    "\n",
    "import torch\n",
    "\n",
    "from darts.utils.timeseries_generation import (\n",
    "    gaussian_timeseries,\n",
    "    linear_timeseries,\n",
    "    sine_timeseries,\n",
    ")\n",
    "\n",
    "from darts.models import (\n",
    "    RNNModel,\n",
    "    TCNModel,\n",
    "    TransformerModel,\n",
    "    NBEATSModel,\n",
    "    BlockRNNModel,\n",
    "    VARIMA,\n",
    ")\n",
    "\n",
    "from darts.metrics import mape, smape, mae\n",
    "from darts.dataprocessing.transformers import Scaler\n",
    "from darts.utils.timeseries_generation import datetime_attribute_timeseries\n",
    "from darts.datasets import AirPassengersDataset, MonthlyMilkDataset, ElectricityDataset\n",
    "\n",
    "import logging\n",
    "\n",
    "logging.disable(logging.CRITICAL)\n",
    "\n",
    "import warnings\n",
    "\n",
    "warnings.filterwarnings(\"ignore\")\n",
    "\n",
    "\n",
    "%matplotlib inline\n",
    "\n",
    "import numpy as np\n",
    "\n",
    "# for reproducibility\n",
    "torch.manual_seed(1)\n",
    "np.random.seed(1)\n"
   ]
  },
  {
   "cell_type": "code",
   "execution_count": 2,
   "metadata": {},
   "outputs": [
    {
     "name": "stdout",
     "output_type": "stream",
     "text": [
      "            time      open      high       low     close    volume BTC  \\\n",
      "0     2017-08-17   4261.48   4485.39   4200.74   4285.08    795.150377   \n",
      "1     2017-08-18   4285.08   4371.52   3938.77   4108.37   1199.888264   \n",
      "2     2017-08-19   4108.37   4184.69   3850.00   4139.98    381.309763   \n",
      "3     2017-08-20   4139.98   4211.08   4032.62   4086.29    467.083022   \n",
      "4     2017-08-21   4069.13   4119.62   3911.79   4016.00    691.743060   \n",
      "...          ...       ...       ...       ...       ...           ...   \n",
      "2298  2023-12-02  38682.51  39717.14  38641.61  39450.35  26696.921610   \n",
      "2299  2023-12-03  39450.35  40250.00  39274.86  39972.26  26710.653350   \n",
      "2300  2023-12-04  39972.26  42420.00  39972.26  41991.10  79272.330590   \n",
      "2301  2023-12-05  41991.10  44488.00  41414.00  44073.32  67490.746440   \n",
      "2302  2023-12-06  44073.82  44297.21  43335.28  43762.69  51431.104920   \n",
      "\n",
      "        volume USD        RSI  RSI_class        ADX  ADX_class  \n",
      "0     3.454770e+06  50.000000          0   0.000000          1  \n",
      "1     5.086958e+06  50.000000          0   0.000000          1  \n",
      "2     1.549484e+06  50.000000          0   0.000000          1  \n",
      "3     1.930364e+06  50.000000          0   0.000000          1  \n",
      "4     2.797232e+06  50.000000          0   0.000000          1  \n",
      "...            ...        ...        ...        ...        ...  \n",
      "2298  1.043422e+09  68.581366          0  43.948829          2  \n",
      "2299  1.059861e+09  70.702721          1  44.436432          2  \n",
      "2300  3.285737e+09  77.134115          1  45.836661          2  \n",
      "2301  2.890205e+09  81.616552          1  47.693335          2  \n",
      "2302  2.256980e+09  79.124603          1  49.417390          2  \n",
      "\n",
      "[2303 rows x 11 columns]\n"
     ]
    }
   ],
   "source": [
    "# testing\n",
    "\n",
    "import pandas as pd\n",
    "\n",
    "import datetime as dt\n",
    "import matplotlib.pyplot as plt\n",
    "\n",
    "from darts import TimeSeries\n",
    "from sklearn.preprocessing import MinMaxScaler\n",
    "\n",
    "\n",
    "from darts.utils.missing_values import fill_missing_values\n",
    "\n",
    "from sklearn.preprocessing import OrdinalEncoder, MinMaxScaler, RobustScaler, StandardScaler\n",
    "from crypto_assist.data_preprocess import preprocessor_not_scaled\n"
   ]
  },
  {
   "cell_type": "code",
   "execution_count": 3,
   "metadata": {},
   "outputs": [
    {
     "name": "stdout",
     "output_type": "stream",
     "text": [
      "            time      open      high       low     close    volume BTC  \\\n",
      "0     2017-08-17   4261.48   4485.39   4200.74   4285.08    795.150377   \n",
      "1     2017-08-18   4285.08   4371.52   3938.77   4108.37   1199.888264   \n",
      "2     2017-08-19   4108.37   4184.69   3850.00   4139.98    381.309763   \n",
      "3     2017-08-20   4139.98   4211.08   4032.62   4086.29    467.083022   \n",
      "4     2017-08-21   4069.13   4119.62   3911.79   4016.00    691.743060   \n",
      "...          ...       ...       ...       ...       ...           ...   \n",
      "2298  2023-12-02  38682.51  39717.14  38641.61  39450.35  26696.921610   \n",
      "2299  2023-12-03  39450.35  40250.00  39274.86  39972.26  26710.653350   \n",
      "2300  2023-12-04  39972.26  42420.00  39972.26  41991.10  79272.330590   \n",
      "2301  2023-12-05  41991.10  44488.00  41414.00  44073.32  67490.746440   \n",
      "2302  2023-12-06  44073.82  44297.21  43335.28  43762.69  51431.104920   \n",
      "\n",
      "        volume USD        RSI  RSI_class        ADX  ADX_class  \n",
      "0     3.454770e+06  50.000000          0   0.000000          1  \n",
      "1     5.086958e+06  50.000000          0   0.000000          1  \n",
      "2     1.549484e+06  50.000000          0   0.000000          1  \n",
      "3     1.930364e+06  50.000000          0   0.000000          1  \n",
      "4     2.797232e+06  50.000000          0   0.000000          1  \n",
      "...            ...        ...        ...        ...        ...  \n",
      "2298  1.043422e+09  68.581366          0  43.948829          2  \n",
      "2299  1.059861e+09  70.702721          1  44.436432          2  \n",
      "2300  3.285737e+09  77.134115          1  45.836661          2  \n",
      "2301  2.890205e+09  81.616552          1  47.693335          2  \n",
      "2302  2.256980e+09  79.124603          1  49.417390          2  \n",
      "\n",
      "[2303 rows x 11 columns]\n",
      "✅ Data has been merged\n",
      "✅ Data has been imputed\n",
      "✅ Data has been processed\n"
     ]
    }
   ],
   "source": [
    "df = preprocessor_not_scaled('BTCUSDT_daily.csv','final_text_df.csv','social_number_data.csv','FearAndGreedIndex.csv')\n"
   ]
  },
  {
   "cell_type": "code",
   "execution_count": 4,
   "metadata": {},
   "outputs": [],
   "source": [
    "df.index = pd.to_datetime(df.date)\n"
   ]
  },
  {
   "cell_type": "code",
   "execution_count": 5,
   "metadata": {},
   "outputs": [],
   "source": [
    "df.drop(columns=\"date\",inplace=True)\n"
   ]
  },
  {
   "cell_type": "code",
   "execution_count": 6,
   "metadata": {},
   "outputs": [
    {
     "data": {
      "text/html": [
       "<div>\n",
       "<style scoped>\n",
       "    .dataframe tbody tr th:only-of-type {\n",
       "        vertical-align: middle;\n",
       "    }\n",
       "\n",
       "    .dataframe tbody tr th {\n",
       "        vertical-align: top;\n",
       "    }\n",
       "\n",
       "    .dataframe thead th {\n",
       "        text-align: right;\n",
       "    }\n",
       "</style>\n",
       "<table border=\"1\" class=\"dataframe\">\n",
       "  <thead>\n",
       "    <tr style=\"text-align: right;\">\n",
       "      <th></th>\n",
       "      <th>open</th>\n",
       "      <th>high</th>\n",
       "      <th>low</th>\n",
       "      <th>close</th>\n",
       "      <th>volume BTC</th>\n",
       "      <th>volume USD</th>\n",
       "      <th>RSI</th>\n",
       "      <th>RSI_class</th>\n",
       "      <th>ADX</th>\n",
       "      <th>ADX_class</th>\n",
       "      <th>FAGI_score</th>\n",
       "      <th>scored_title</th>\n",
       "      <th>scored_text</th>\n",
       "      <th>average_score</th>\n",
       "      <th>twitter_followers</th>\n",
       "      <th>twitter_favourites</th>\n",
       "      <th>reddit_subscribers</th>\n",
       "      <th>reddit_active_users</th>\n",
       "      <th>reddit_comments_per_day</th>\n",
       "      <th>FAGI_sentiment_encoded</th>\n",
       "    </tr>\n",
       "    <tr>\n",
       "      <th>date</th>\n",
       "      <th></th>\n",
       "      <th></th>\n",
       "      <th></th>\n",
       "      <th></th>\n",
       "      <th></th>\n",
       "      <th></th>\n",
       "      <th></th>\n",
       "      <th></th>\n",
       "      <th></th>\n",
       "      <th></th>\n",
       "      <th></th>\n",
       "      <th></th>\n",
       "      <th></th>\n",
       "      <th></th>\n",
       "      <th></th>\n",
       "      <th></th>\n",
       "      <th></th>\n",
       "      <th></th>\n",
       "      <th></th>\n",
       "      <th></th>\n",
       "    </tr>\n",
       "  </thead>\n",
       "  <tbody>\n",
       "    <tr>\n",
       "      <th>2023-12-02</th>\n",
       "      <td>38682.51</td>\n",
       "      <td>39717.14</td>\n",
       "      <td>38641.61</td>\n",
       "      <td>39450.35</td>\n",
       "      <td>26696.92161</td>\n",
       "      <td>1.043422e+09</td>\n",
       "      <td>68.581366</td>\n",
       "      <td>0</td>\n",
       "      <td>43.948829</td>\n",
       "      <td>2</td>\n",
       "      <td>74.0</td>\n",
       "      <td>-0.002369</td>\n",
       "      <td>-0.004065</td>\n",
       "      <td>-0.003217</td>\n",
       "      <td>3174848.0</td>\n",
       "      <td>2163.435644</td>\n",
       "      <td>2594931.0</td>\n",
       "      <td>1747.715439</td>\n",
       "      <td>699.824346</td>\n",
       "      <td>3.0</td>\n",
       "    </tr>\n",
       "    <tr>\n",
       "      <th>2023-12-03</th>\n",
       "      <td>39450.35</td>\n",
       "      <td>40250.00</td>\n",
       "      <td>39274.86</td>\n",
       "      <td>39972.26</td>\n",
       "      <td>26710.65335</td>\n",
       "      <td>1.059861e+09</td>\n",
       "      <td>70.702721</td>\n",
       "      <td>1</td>\n",
       "      <td>44.436432</td>\n",
       "      <td>2</td>\n",
       "      <td>73.0</td>\n",
       "      <td>0.324950</td>\n",
       "      <td>0.944111</td>\n",
       "      <td>0.634530</td>\n",
       "      <td>3175499.0</td>\n",
       "      <td>2163.435644</td>\n",
       "      <td>2594931.0</td>\n",
       "      <td>1747.715439</td>\n",
       "      <td>699.824346</td>\n",
       "      <td>3.0</td>\n",
       "    </tr>\n",
       "    <tr>\n",
       "      <th>2023-12-04</th>\n",
       "      <td>39972.26</td>\n",
       "      <td>42420.00</td>\n",
       "      <td>39972.26</td>\n",
       "      <td>41991.10</td>\n",
       "      <td>79272.33059</td>\n",
       "      <td>3.285737e+09</td>\n",
       "      <td>77.134115</td>\n",
       "      <td>1</td>\n",
       "      <td>45.836661</td>\n",
       "      <td>2</td>\n",
       "      <td>74.0</td>\n",
       "      <td>0.400351</td>\n",
       "      <td>0.543259</td>\n",
       "      <td>0.471805</td>\n",
       "      <td>3177026.0</td>\n",
       "      <td>2163.435644</td>\n",
       "      <td>2594931.0</td>\n",
       "      <td>1747.715439</td>\n",
       "      <td>699.824346</td>\n",
       "      <td>3.0</td>\n",
       "    </tr>\n",
       "    <tr>\n",
       "      <th>2023-12-05</th>\n",
       "      <td>41991.10</td>\n",
       "      <td>44488.00</td>\n",
       "      <td>41414.00</td>\n",
       "      <td>44073.32</td>\n",
       "      <td>67490.74644</td>\n",
       "      <td>2.890205e+09</td>\n",
       "      <td>81.616552</td>\n",
       "      <td>1</td>\n",
       "      <td>47.693335</td>\n",
       "      <td>2</td>\n",
       "      <td>75.0</td>\n",
       "      <td>0.000000</td>\n",
       "      <td>0.000000</td>\n",
       "      <td>0.000000</td>\n",
       "      <td>3177793.0</td>\n",
       "      <td>2163.435644</td>\n",
       "      <td>2594931.0</td>\n",
       "      <td>1747.715439</td>\n",
       "      <td>699.824346</td>\n",
       "      <td>3.0</td>\n",
       "    </tr>\n",
       "    <tr>\n",
       "      <th>2023-12-06</th>\n",
       "      <td>44073.82</td>\n",
       "      <td>44297.21</td>\n",
       "      <td>43335.28</td>\n",
       "      <td>43762.69</td>\n",
       "      <td>51431.10492</td>\n",
       "      <td>2.256980e+09</td>\n",
       "      <td>79.124603</td>\n",
       "      <td>1</td>\n",
       "      <td>49.417390</td>\n",
       "      <td>2</td>\n",
       "      <td>72.0</td>\n",
       "      <td>0.000000</td>\n",
       "      <td>0.000000</td>\n",
       "      <td>0.000000</td>\n",
       "      <td>3178488.0</td>\n",
       "      <td>2163.435644</td>\n",
       "      <td>2594931.0</td>\n",
       "      <td>1747.715439</td>\n",
       "      <td>699.824346</td>\n",
       "      <td>3.0</td>\n",
       "    </tr>\n",
       "  </tbody>\n",
       "</table>\n",
       "</div>"
      ],
      "text/plain": [
       "                open      high       low     close   volume BTC    volume USD  \\\n",
       "date                                                                            \n",
       "2023-12-02  38682.51  39717.14  38641.61  39450.35  26696.92161  1.043422e+09   \n",
       "2023-12-03  39450.35  40250.00  39274.86  39972.26  26710.65335  1.059861e+09   \n",
       "2023-12-04  39972.26  42420.00  39972.26  41991.10  79272.33059  3.285737e+09   \n",
       "2023-12-05  41991.10  44488.00  41414.00  44073.32  67490.74644  2.890205e+09   \n",
       "2023-12-06  44073.82  44297.21  43335.28  43762.69  51431.10492  2.256980e+09   \n",
       "\n",
       "                  RSI  RSI_class        ADX  ADX_class  FAGI_score  \\\n",
       "date                                                                 \n",
       "2023-12-02  68.581366          0  43.948829          2        74.0   \n",
       "2023-12-03  70.702721          1  44.436432          2        73.0   \n",
       "2023-12-04  77.134115          1  45.836661          2        74.0   \n",
       "2023-12-05  81.616552          1  47.693335          2        75.0   \n",
       "2023-12-06  79.124603          1  49.417390          2        72.0   \n",
       "\n",
       "            scored_title  scored_text  average_score  twitter_followers  \\\n",
       "date                                                                      \n",
       "2023-12-02     -0.002369    -0.004065      -0.003217          3174848.0   \n",
       "2023-12-03      0.324950     0.944111       0.634530          3175499.0   \n",
       "2023-12-04      0.400351     0.543259       0.471805          3177026.0   \n",
       "2023-12-05      0.000000     0.000000       0.000000          3177793.0   \n",
       "2023-12-06      0.000000     0.000000       0.000000          3178488.0   \n",
       "\n",
       "            twitter_favourites  reddit_subscribers  reddit_active_users  \\\n",
       "date                                                                      \n",
       "2023-12-02         2163.435644           2594931.0          1747.715439   \n",
       "2023-12-03         2163.435644           2594931.0          1747.715439   \n",
       "2023-12-04         2163.435644           2594931.0          1747.715439   \n",
       "2023-12-05         2163.435644           2594931.0          1747.715439   \n",
       "2023-12-06         2163.435644           2594931.0          1747.715439   \n",
       "\n",
       "            reddit_comments_per_day  FAGI_sentiment_encoded  \n",
       "date                                                         \n",
       "2023-12-02               699.824346                     3.0  \n",
       "2023-12-03               699.824346                     3.0  \n",
       "2023-12-04               699.824346                     3.0  \n",
       "2023-12-05               699.824346                     3.0  \n",
       "2023-12-06               699.824346                     3.0  "
      ]
     },
     "execution_count": 6,
     "metadata": {},
     "output_type": "execute_result"
    }
   ],
   "source": [
    "df.tail()\n"
   ]
  },
  {
   "cell_type": "code",
   "execution_count": 7,
   "metadata": {},
   "outputs": [],
   "source": [
    "df.drop(columns=[\"RSI\"], inplace=True)\n"
   ]
  },
  {
   "cell_type": "markdown",
   "metadata": {},
   "source": [
    "### __*Scaling and Converting the data*__"
   ]
  },
  {
   "cell_type": "code",
   "execution_count": 8,
   "metadata": {},
   "outputs": [],
   "source": [
    "#freq: This parameter defines the frequency or time interval between consecutive data points in the time series.\n",
    "#'D': It means that each data point in the time series corresponds to an hour\n",
    "\n",
    "timeseries = TimeSeries.from_dataframe(df, freq='D')\n"
   ]
  },
  {
   "cell_type": "code",
   "execution_count": 9,
   "metadata": {},
   "outputs": [],
   "source": [
    "# Here we are converting the MinMax scaler to a Time Series version of it\n",
    "\n",
    "from darts.dataprocessing.transformers.scaler import Scaler\n",
    "from sklearn.preprocessing import MinMaxScaler\n",
    "scaler = MinMaxScaler()\n",
    "ts_scaler = Scaler(scaler)\n",
    "ts_scaler_target = Scaler(scaler)\n"
   ]
  },
  {
   "cell_type": "code",
   "execution_count": 10,
   "metadata": {},
   "outputs": [],
   "source": [
    "\n",
    "scaled_df = ts_scaler.fit_transform(timeseries)\n",
    "ts_scaler_target = ts_scaler_target.fit(timeseries[\"close\"])\n"
   ]
  },
  {
   "cell_type": "markdown",
   "metadata": {},
   "source": [
    "### __*Cleaning Missing data*__"
   ]
  },
  {
   "cell_type": "code",
   "execution_count": 11,
   "metadata": {},
   "outputs": [
    {
     "data": {
      "text/html": [
       "<div><svg style=\"position: absolute; width: 0; height: 0; overflow: hidden\">\n",
       "<defs>\n",
       "<symbol id=\"icon-database\" viewBox=\"0 0 32 32\">\n",
       "<path d=\"M16 0c-8.837 0-16 2.239-16 5v4c0 2.761 7.163 5 16 5s16-2.239 16-5v-4c0-2.761-7.163-5-16-5z\"></path>\n",
       "<path d=\"M16 17c-8.837 0-16-2.239-16-5v6c0 2.761 7.163 5 16 5s16-2.239 16-5v-6c0 2.761-7.163 5-16 5z\"></path>\n",
       "<path d=\"M16 26c-8.837 0-16-2.239-16-5v6c0 2.761 7.163 5 16 5s16-2.239 16-5v-6c0 2.761-7.163 5-16 5z\"></path>\n",
       "</symbol>\n",
       "<symbol id=\"icon-file-text2\" viewBox=\"0 0 32 32\">\n",
       "<path d=\"M28.681 7.159c-0.694-0.947-1.662-2.053-2.724-3.116s-2.169-2.030-3.116-2.724c-1.612-1.182-2.393-1.319-2.841-1.319h-15.5c-1.378 0-2.5 1.121-2.5 2.5v27c0 1.378 1.122 2.5 2.5 2.5h23c1.378 0 2.5-1.122 2.5-2.5v-19.5c0-0.448-0.137-1.23-1.319-2.841zM24.543 5.457c0.959 0.959 1.712 1.825 2.268 2.543h-4.811v-4.811c0.718 0.556 1.584 1.309 2.543 2.268zM28 29.5c0 0.271-0.229 0.5-0.5 0.5h-23c-0.271 0-0.5-0.229-0.5-0.5v-27c0-0.271 0.229-0.5 0.5-0.5 0 0 15.499-0 15.5 0v7c0 0.552 0.448 1 1 1h7v19.5z\"></path>\n",
       "<path d=\"M23 26h-14c-0.552 0-1-0.448-1-1s0.448-1 1-1h14c0.552 0 1 0.448 1 1s-0.448 1-1 1z\"></path>\n",
       "<path d=\"M23 22h-14c-0.552 0-1-0.448-1-1s0.448-1 1-1h14c0.552 0 1 0.448 1 1s-0.448 1-1 1z\"></path>\n",
       "<path d=\"M23 18h-14c-0.552 0-1-0.448-1-1s0.448-1 1-1h14c0.552 0 1 0.448 1 1s-0.448 1-1 1z\"></path>\n",
       "</symbol>\n",
       "</defs>\n",
       "</svg>\n",
       "<style>/* CSS stylesheet for displaying xarray objects in jupyterlab.\n",
       " *\n",
       " */\n",
       "\n",
       ":root {\n",
       "  --xr-font-color0: var(--jp-content-font-color0, rgba(0, 0, 0, 1));\n",
       "  --xr-font-color2: var(--jp-content-font-color2, rgba(0, 0, 0, 0.54));\n",
       "  --xr-font-color3: var(--jp-content-font-color3, rgba(0, 0, 0, 0.38));\n",
       "  --xr-border-color: var(--jp-border-color2, #e0e0e0);\n",
       "  --xr-disabled-color: var(--jp-layout-color3, #bdbdbd);\n",
       "  --xr-background-color: var(--jp-layout-color0, white);\n",
       "  --xr-background-color-row-even: var(--jp-layout-color1, white);\n",
       "  --xr-background-color-row-odd: var(--jp-layout-color2, #eeeeee);\n",
       "}\n",
       "\n",
       "html[theme=dark],\n",
       "body[data-theme=dark],\n",
       "body.vscode-dark {\n",
       "  --xr-font-color0: rgba(255, 255, 255, 1);\n",
       "  --xr-font-color2: rgba(255, 255, 255, 0.54);\n",
       "  --xr-font-color3: rgba(255, 255, 255, 0.38);\n",
       "  --xr-border-color: #1F1F1F;\n",
       "  --xr-disabled-color: #515151;\n",
       "  --xr-background-color: #111111;\n",
       "  --xr-background-color-row-even: #111111;\n",
       "  --xr-background-color-row-odd: #313131;\n",
       "}\n",
       "\n",
       ".xr-wrap {\n",
       "  display: block !important;\n",
       "  min-width: 300px;\n",
       "  max-width: 700px;\n",
       "}\n",
       "\n",
       ".xr-text-repr-fallback {\n",
       "  /* fallback to plain text repr when CSS is not injected (untrusted notebook) */\n",
       "  display: none;\n",
       "}\n",
       "\n",
       ".xr-header {\n",
       "  padding-top: 6px;\n",
       "  padding-bottom: 6px;\n",
       "  margin-bottom: 4px;\n",
       "  border-bottom: solid 1px var(--xr-border-color);\n",
       "}\n",
       "\n",
       ".xr-header > div,\n",
       ".xr-header > ul {\n",
       "  display: inline;\n",
       "  margin-top: 0;\n",
       "  margin-bottom: 0;\n",
       "}\n",
       "\n",
       ".xr-obj-type,\n",
       ".xr-array-name {\n",
       "  margin-left: 2px;\n",
       "  margin-right: 10px;\n",
       "}\n",
       "\n",
       ".xr-obj-type {\n",
       "  color: var(--xr-font-color2);\n",
       "}\n",
       "\n",
       ".xr-sections {\n",
       "  padding-left: 0 !important;\n",
       "  display: grid;\n",
       "  grid-template-columns: 150px auto auto 1fr 20px 20px;\n",
       "}\n",
       "\n",
       ".xr-section-item {\n",
       "  display: contents;\n",
       "}\n",
       "\n",
       ".xr-section-item input {\n",
       "  display: none;\n",
       "}\n",
       "\n",
       ".xr-section-item input + label {\n",
       "  color: var(--xr-disabled-color);\n",
       "}\n",
       "\n",
       ".xr-section-item input:enabled + label {\n",
       "  cursor: pointer;\n",
       "  color: var(--xr-font-color2);\n",
       "}\n",
       "\n",
       ".xr-section-item input:enabled + label:hover {\n",
       "  color: var(--xr-font-color0);\n",
       "}\n",
       "\n",
       ".xr-section-summary {\n",
       "  grid-column: 1;\n",
       "  color: var(--xr-font-color2);\n",
       "  font-weight: 500;\n",
       "}\n",
       "\n",
       ".xr-section-summary > span {\n",
       "  display: inline-block;\n",
       "  padding-left: 0.5em;\n",
       "}\n",
       "\n",
       ".xr-section-summary-in:disabled + label {\n",
       "  color: var(--xr-font-color2);\n",
       "}\n",
       "\n",
       ".xr-section-summary-in + label:before {\n",
       "  display: inline-block;\n",
       "  content: '►';\n",
       "  font-size: 11px;\n",
       "  width: 15px;\n",
       "  text-align: center;\n",
       "}\n",
       "\n",
       ".xr-section-summary-in:disabled + label:before {\n",
       "  color: var(--xr-disabled-color);\n",
       "}\n",
       "\n",
       ".xr-section-summary-in:checked + label:before {\n",
       "  content: '▼';\n",
       "}\n",
       "\n",
       ".xr-section-summary-in:checked + label > span {\n",
       "  display: none;\n",
       "}\n",
       "\n",
       ".xr-section-summary,\n",
       ".xr-section-inline-details {\n",
       "  padding-top: 4px;\n",
       "  padding-bottom: 4px;\n",
       "}\n",
       "\n",
       ".xr-section-inline-details {\n",
       "  grid-column: 2 / -1;\n",
       "}\n",
       "\n",
       ".xr-section-details {\n",
       "  display: none;\n",
       "  grid-column: 1 / -1;\n",
       "  margin-bottom: 5px;\n",
       "}\n",
       "\n",
       ".xr-section-summary-in:checked ~ .xr-section-details {\n",
       "  display: contents;\n",
       "}\n",
       "\n",
       ".xr-array-wrap {\n",
       "  grid-column: 1 / -1;\n",
       "  display: grid;\n",
       "  grid-template-columns: 20px auto;\n",
       "}\n",
       "\n",
       ".xr-array-wrap > label {\n",
       "  grid-column: 1;\n",
       "  vertical-align: top;\n",
       "}\n",
       "\n",
       ".xr-preview {\n",
       "  color: var(--xr-font-color3);\n",
       "}\n",
       "\n",
       ".xr-array-preview,\n",
       ".xr-array-data {\n",
       "  padding: 0 5px !important;\n",
       "  grid-column: 2;\n",
       "}\n",
       "\n",
       ".xr-array-data,\n",
       ".xr-array-in:checked ~ .xr-array-preview {\n",
       "  display: none;\n",
       "}\n",
       "\n",
       ".xr-array-in:checked ~ .xr-array-data,\n",
       ".xr-array-preview {\n",
       "  display: inline-block;\n",
       "}\n",
       "\n",
       ".xr-dim-list {\n",
       "  display: inline-block !important;\n",
       "  list-style: none;\n",
       "  padding: 0 !important;\n",
       "  margin: 0;\n",
       "}\n",
       "\n",
       ".xr-dim-list li {\n",
       "  display: inline-block;\n",
       "  padding: 0;\n",
       "  margin: 0;\n",
       "}\n",
       "\n",
       ".xr-dim-list:before {\n",
       "  content: '(';\n",
       "}\n",
       "\n",
       ".xr-dim-list:after {\n",
       "  content: ')';\n",
       "}\n",
       "\n",
       ".xr-dim-list li:not(:last-child):after {\n",
       "  content: ',';\n",
       "  padding-right: 5px;\n",
       "}\n",
       "\n",
       ".xr-has-index {\n",
       "  font-weight: bold;\n",
       "}\n",
       "\n",
       ".xr-var-list,\n",
       ".xr-var-item {\n",
       "  display: contents;\n",
       "}\n",
       "\n",
       ".xr-var-item > div,\n",
       ".xr-var-item label,\n",
       ".xr-var-item > .xr-var-name span {\n",
       "  background-color: var(--xr-background-color-row-even);\n",
       "  margin-bottom: 0;\n",
       "}\n",
       "\n",
       ".xr-var-item > .xr-var-name:hover span {\n",
       "  padding-right: 5px;\n",
       "}\n",
       "\n",
       ".xr-var-list > li:nth-child(odd) > div,\n",
       ".xr-var-list > li:nth-child(odd) > label,\n",
       ".xr-var-list > li:nth-child(odd) > .xr-var-name span {\n",
       "  background-color: var(--xr-background-color-row-odd);\n",
       "}\n",
       "\n",
       ".xr-var-name {\n",
       "  grid-column: 1;\n",
       "}\n",
       "\n",
       ".xr-var-dims {\n",
       "  grid-column: 2;\n",
       "}\n",
       "\n",
       ".xr-var-dtype {\n",
       "  grid-column: 3;\n",
       "  text-align: right;\n",
       "  color: var(--xr-font-color2);\n",
       "}\n",
       "\n",
       ".xr-var-preview {\n",
       "  grid-column: 4;\n",
       "}\n",
       "\n",
       ".xr-index-preview {\n",
       "  grid-column: 2 / 5;\n",
       "  color: var(--xr-font-color2);\n",
       "}\n",
       "\n",
       ".xr-var-name,\n",
       ".xr-var-dims,\n",
       ".xr-var-dtype,\n",
       ".xr-preview,\n",
       ".xr-attrs dt {\n",
       "  white-space: nowrap;\n",
       "  overflow: hidden;\n",
       "  text-overflow: ellipsis;\n",
       "  padding-right: 10px;\n",
       "}\n",
       "\n",
       ".xr-var-name:hover,\n",
       ".xr-var-dims:hover,\n",
       ".xr-var-dtype:hover,\n",
       ".xr-attrs dt:hover {\n",
       "  overflow: visible;\n",
       "  width: auto;\n",
       "  z-index: 1;\n",
       "}\n",
       "\n",
       ".xr-var-attrs,\n",
       ".xr-var-data,\n",
       ".xr-index-data {\n",
       "  display: none;\n",
       "  background-color: var(--xr-background-color) !important;\n",
       "  padding-bottom: 5px !important;\n",
       "}\n",
       "\n",
       ".xr-var-attrs-in:checked ~ .xr-var-attrs,\n",
       ".xr-var-data-in:checked ~ .xr-var-data,\n",
       ".xr-index-data-in:checked ~ .xr-index-data {\n",
       "  display: block;\n",
       "}\n",
       "\n",
       ".xr-var-data > table {\n",
       "  float: right;\n",
       "}\n",
       "\n",
       ".xr-var-name span,\n",
       ".xr-var-data,\n",
       ".xr-index-name div,\n",
       ".xr-index-data,\n",
       ".xr-attrs {\n",
       "  padding-left: 25px !important;\n",
       "}\n",
       "\n",
       ".xr-attrs,\n",
       ".xr-var-attrs,\n",
       ".xr-var-data,\n",
       ".xr-index-data {\n",
       "  grid-column: 1 / -1;\n",
       "}\n",
       "\n",
       "dl.xr-attrs {\n",
       "  padding: 0;\n",
       "  margin: 0;\n",
       "  display: grid;\n",
       "  grid-template-columns: 125px auto;\n",
       "}\n",
       "\n",
       ".xr-attrs dt,\n",
       ".xr-attrs dd {\n",
       "  padding: 0;\n",
       "  margin: 0;\n",
       "  float: left;\n",
       "  padding-right: 10px;\n",
       "  width: auto;\n",
       "}\n",
       "\n",
       ".xr-attrs dt {\n",
       "  font-weight: normal;\n",
       "  grid-column: 1;\n",
       "}\n",
       "\n",
       ".xr-attrs dt:hover span {\n",
       "  display: inline-block;\n",
       "  background: var(--xr-background-color);\n",
       "  padding-right: 10px;\n",
       "}\n",
       "\n",
       ".xr-attrs dd {\n",
       "  grid-column: 2;\n",
       "  white-space: pre-wrap;\n",
       "  word-break: break-all;\n",
       "}\n",
       "\n",
       ".xr-icon-database,\n",
       ".xr-icon-file-text2,\n",
       ".xr-no-icon {\n",
       "  display: inline-block;\n",
       "  vertical-align: middle;\n",
       "  width: 1em;\n",
       "  height: 1.5em !important;\n",
       "  stroke-width: 0;\n",
       "  stroke: currentColor;\n",
       "  fill: currentColor;\n",
       "}\n",
       "</style><pre class='xr-text-repr-fallback'>&lt;TimeSeries (DataArray) (date: 2303, component: 19, sample: 1)&gt;\n",
       "array([[[0.0166849 ],\n",
       "        [0.01839357],\n",
       "        [0.02182369],\n",
       "        ...,\n",
       "        [0.2445421 ],\n",
       "        [0.14865773],\n",
       "        [0.5       ]],\n",
       "\n",
       "       [[0.01705172],\n",
       "        [0.01666101],\n",
       "        [0.01769203],\n",
       "        ...,\n",
       "        [0.2445421 ],\n",
       "        [0.14865773],\n",
       "        [0.5       ]],\n",
       "\n",
       "       [[0.01430512],\n",
       "        [0.01381835],\n",
       "        [0.01629199],\n",
       "        ...,\n",
       "...\n",
       "        ...,\n",
       "        [0.2445421 ],\n",
       "        [0.14865773],\n",
       "        [0.75      ]],\n",
       "\n",
       "       [[0.60311487],\n",
       "        [0.6270436 ],\n",
       "        [0.60873364],\n",
       "        ...,\n",
       "        [0.2445421 ],\n",
       "        [0.14865773],\n",
       "        [0.75      ]],\n",
       "\n",
       "       [[0.6354865 ],\n",
       "        [0.62414068],\n",
       "        [0.63903516],\n",
       "        ...,\n",
       "        [0.2445421 ],\n",
       "        [0.14865773],\n",
       "        [0.75      ]]])\n",
       "Coordinates:\n",
       "  * date       (date) datetime64[ns] 2017-08-17 2017-08-18 ... 2023-12-06\n",
       "  * component  (component) object &#x27;open&#x27; &#x27;high&#x27; ... &#x27;FAGI_sentiment_encoded&#x27;\n",
       "Dimensions without coordinates: sample\n",
       "Attributes:\n",
       "    static_covariates:  None\n",
       "    hierarchy:          None</pre><div class='xr-wrap' style='display:none'><div class='xr-header'><div class='xr-obj-type'>TimeSeries (DataArray)</div><div class='xr-array-name'></div><ul class='xr-dim-list'><li><span class='xr-has-index'>date</span>: 2303</li><li><span class='xr-has-index'>component</span>: 19</li><li><span>sample</span>: 1</li></ul></div><ul class='xr-sections'><li class='xr-section-item'><div class='xr-array-wrap'><input id='section-fe5f6087-ff8c-4b33-acfb-ace44efd6321' class='xr-array-in' type='checkbox' checked><label for='section-fe5f6087-ff8c-4b33-acfb-ace44efd6321' title='Show/hide data repr'><svg class='icon xr-icon-database'><use xlink:href='#icon-database'></use></svg></label><div class='xr-array-preview xr-preview'><span>0.01668 0.01839 0.02182 0.01704 0.0007456 ... 1.0 0.2445 0.1487 0.75</span></div><div class='xr-array-data'><pre>array([[[0.0166849 ],\n",
       "        [0.01839357],\n",
       "        [0.02182369],\n",
       "        ...,\n",
       "        [0.2445421 ],\n",
       "        [0.14865773],\n",
       "        [0.5       ]],\n",
       "\n",
       "       [[0.01705172],\n",
       "        [0.01666101],\n",
       "        [0.01769203],\n",
       "        ...,\n",
       "        [0.2445421 ],\n",
       "        [0.14865773],\n",
       "        [0.5       ]],\n",
       "\n",
       "       [[0.01430512],\n",
       "        [0.01381835],\n",
       "        [0.01629199],\n",
       "        ...,\n",
       "...\n",
       "        ...,\n",
       "        [0.2445421 ],\n",
       "        [0.14865773],\n",
       "        [0.75      ]],\n",
       "\n",
       "       [[0.60311487],\n",
       "        [0.6270436 ],\n",
       "        [0.60873364],\n",
       "        ...,\n",
       "        [0.2445421 ],\n",
       "        [0.14865773],\n",
       "        [0.75      ]],\n",
       "\n",
       "       [[0.6354865 ],\n",
       "        [0.62414068],\n",
       "        [0.63903516],\n",
       "        ...,\n",
       "        [0.2445421 ],\n",
       "        [0.14865773],\n",
       "        [0.75      ]]])</pre></div></div></li><li class='xr-section-item'><input id='section-fcbf299c-1de2-468b-9b69-e7e65223db73' class='xr-section-summary-in' type='checkbox'  checked><label for='section-fcbf299c-1de2-468b-9b69-e7e65223db73' class='xr-section-summary' >Coordinates: <span>(2)</span></label><div class='xr-section-inline-details'></div><div class='xr-section-details'><ul class='xr-var-list'><li class='xr-var-item'><div class='xr-var-name'><span class='xr-has-index'>date</span></div><div class='xr-var-dims'>(date)</div><div class='xr-var-dtype'>datetime64[ns]</div><div class='xr-var-preview xr-preview'>2017-08-17 ... 2023-12-06</div><input id='attrs-71e3ff58-f901-4ca4-b3f8-ff80255e8cea' class='xr-var-attrs-in' type='checkbox' disabled><label for='attrs-71e3ff58-f901-4ca4-b3f8-ff80255e8cea' title='Show/Hide attributes'><svg class='icon xr-icon-file-text2'><use xlink:href='#icon-file-text2'></use></svg></label><input id='data-da90d32f-87e2-47b0-a22f-e083ab101588' class='xr-var-data-in' type='checkbox'><label for='data-da90d32f-87e2-47b0-a22f-e083ab101588' title='Show/Hide data repr'><svg class='icon xr-icon-database'><use xlink:href='#icon-database'></use></svg></label><div class='xr-var-attrs'><dl class='xr-attrs'></dl></div><div class='xr-var-data'><pre>array([&#x27;2017-08-17T00:00:00.000000000&#x27;, &#x27;2017-08-18T00:00:00.000000000&#x27;,\n",
       "       &#x27;2017-08-19T00:00:00.000000000&#x27;, ..., &#x27;2023-12-04T00:00:00.000000000&#x27;,\n",
       "       &#x27;2023-12-05T00:00:00.000000000&#x27;, &#x27;2023-12-06T00:00:00.000000000&#x27;],\n",
       "      dtype=&#x27;datetime64[ns]&#x27;)</pre></div></li><li class='xr-var-item'><div class='xr-var-name'><span class='xr-has-index'>component</span></div><div class='xr-var-dims'>(component)</div><div class='xr-var-dtype'>object</div><div class='xr-var-preview xr-preview'>&#x27;open&#x27; ... &#x27;FAGI_sentiment_encoded&#x27;</div><input id='attrs-7bcd0064-91bd-4874-aa54-ed842125ba53' class='xr-var-attrs-in' type='checkbox' disabled><label for='attrs-7bcd0064-91bd-4874-aa54-ed842125ba53' title='Show/Hide attributes'><svg class='icon xr-icon-file-text2'><use xlink:href='#icon-file-text2'></use></svg></label><input id='data-8eb5a595-785f-4364-a395-22fd1f7d976d' class='xr-var-data-in' type='checkbox'><label for='data-8eb5a595-785f-4364-a395-22fd1f7d976d' title='Show/Hide data repr'><svg class='icon xr-icon-database'><use xlink:href='#icon-database'></use></svg></label><div class='xr-var-attrs'><dl class='xr-attrs'></dl></div><div class='xr-var-data'><pre>array([&#x27;open&#x27;, &#x27;high&#x27;, &#x27;low&#x27;, &#x27;close&#x27;, &#x27;volume BTC&#x27;, &#x27;volume USD&#x27;, &#x27;RSI_class&#x27;,\n",
       "       &#x27;ADX&#x27;, &#x27;ADX_class&#x27;, &#x27;FAGI_score&#x27;, &#x27;scored_title&#x27;, &#x27;scored_text&#x27;,\n",
       "       &#x27;average_score&#x27;, &#x27;twitter_followers&#x27;, &#x27;twitter_favourites&#x27;,\n",
       "       &#x27;reddit_subscribers&#x27;, &#x27;reddit_active_users&#x27;, &#x27;reddit_comments_per_day&#x27;,\n",
       "       &#x27;FAGI_sentiment_encoded&#x27;], dtype=object)</pre></div></li></ul></div></li><li class='xr-section-item'><input id='section-986805ef-08d6-4dc3-9b22-fb48931f3ef5' class='xr-section-summary-in' type='checkbox'  ><label for='section-986805ef-08d6-4dc3-9b22-fb48931f3ef5' class='xr-section-summary' >Indexes: <span>(2)</span></label><div class='xr-section-inline-details'></div><div class='xr-section-details'><ul class='xr-var-list'><li class='xr-var-item'><div class='xr-index-name'><div>date</div></div><div class='xr-index-preview'>PandasIndex</div><div></div><input id='index-8aa6fd93-77e5-4c0b-9137-b7193e26d365' class='xr-index-data-in' type='checkbox'/><label for='index-8aa6fd93-77e5-4c0b-9137-b7193e26d365' title='Show/Hide index repr'><svg class='icon xr-icon-database'><use xlink:href='#icon-database'></use></svg></label><div class='xr-index-data'><pre>PandasIndex(DatetimeIndex([&#x27;2017-08-17&#x27;, &#x27;2017-08-18&#x27;, &#x27;2017-08-19&#x27;, &#x27;2017-08-20&#x27;,\n",
       "               &#x27;2017-08-21&#x27;, &#x27;2017-08-22&#x27;, &#x27;2017-08-23&#x27;, &#x27;2017-08-24&#x27;,\n",
       "               &#x27;2017-08-25&#x27;, &#x27;2017-08-26&#x27;,\n",
       "               ...\n",
       "               &#x27;2023-11-27&#x27;, &#x27;2023-11-28&#x27;, &#x27;2023-11-29&#x27;, &#x27;2023-11-30&#x27;,\n",
       "               &#x27;2023-12-01&#x27;, &#x27;2023-12-02&#x27;, &#x27;2023-12-03&#x27;, &#x27;2023-12-04&#x27;,\n",
       "               &#x27;2023-12-05&#x27;, &#x27;2023-12-06&#x27;],\n",
       "              dtype=&#x27;datetime64[ns]&#x27;, name=&#x27;date&#x27;, length=2303, freq=&#x27;D&#x27;))</pre></div></li><li class='xr-var-item'><div class='xr-index-name'><div>component</div></div><div class='xr-index-preview'>PandasIndex</div><div></div><input id='index-86e89548-b369-491c-ae1a-de9ecb826f64' class='xr-index-data-in' type='checkbox'/><label for='index-86e89548-b369-491c-ae1a-de9ecb826f64' title='Show/Hide index repr'><svg class='icon xr-icon-database'><use xlink:href='#icon-database'></use></svg></label><div class='xr-index-data'><pre>PandasIndex(Index([&#x27;open&#x27;, &#x27;high&#x27;, &#x27;low&#x27;, &#x27;close&#x27;, &#x27;volume BTC&#x27;, &#x27;volume USD&#x27;, &#x27;RSI_class&#x27;,\n",
       "       &#x27;ADX&#x27;, &#x27;ADX_class&#x27;, &#x27;FAGI_score&#x27;, &#x27;scored_title&#x27;, &#x27;scored_text&#x27;,\n",
       "       &#x27;average_score&#x27;, &#x27;twitter_followers&#x27;, &#x27;twitter_favourites&#x27;,\n",
       "       &#x27;reddit_subscribers&#x27;, &#x27;reddit_active_users&#x27;, &#x27;reddit_comments_per_day&#x27;,\n",
       "       &#x27;FAGI_sentiment_encoded&#x27;],\n",
       "      dtype=&#x27;object&#x27;, name=&#x27;component&#x27;))</pre></div></li></ul></div></li><li class='xr-section-item'><input id='section-0f100283-6756-4d70-b61a-53e33aa40341' class='xr-section-summary-in' type='checkbox'  checked><label for='section-0f100283-6756-4d70-b61a-53e33aa40341' class='xr-section-summary' >Attributes: <span>(2)</span></label><div class='xr-section-inline-details'></div><div class='xr-section-details'><dl class='xr-attrs'><dt><span>static_covariates :</span></dt><dd>None</dd><dt><span>hierarchy :</span></dt><dd>None</dd></dl></div></li></ul></div></div>"
      ],
      "text/plain": [
       "<TimeSeries (DataArray) (date: 2303, component: 19, sample: 1)>\n",
       "array([[[0.0166849 ],\n",
       "        [0.01839357],\n",
       "        [0.02182369],\n",
       "        ...,\n",
       "        [0.2445421 ],\n",
       "        [0.14865773],\n",
       "        [0.5       ]],\n",
       "\n",
       "       [[0.01705172],\n",
       "        [0.01666101],\n",
       "        [0.01769203],\n",
       "        ...,\n",
       "        [0.2445421 ],\n",
       "        [0.14865773],\n",
       "        [0.5       ]],\n",
       "\n",
       "       [[0.01430512],\n",
       "        [0.01381835],\n",
       "        [0.01629199],\n",
       "        ...,\n",
       "...\n",
       "        ...,\n",
       "        [0.2445421 ],\n",
       "        [0.14865773],\n",
       "        [0.75      ]],\n",
       "\n",
       "       [[0.60311487],\n",
       "        [0.6270436 ],\n",
       "        [0.60873364],\n",
       "        ...,\n",
       "        [0.2445421 ],\n",
       "        [0.14865773],\n",
       "        [0.75      ]],\n",
       "\n",
       "       [[0.6354865 ],\n",
       "        [0.62414068],\n",
       "        [0.63903516],\n",
       "        ...,\n",
       "        [0.2445421 ],\n",
       "        [0.14865773],\n",
       "        [0.75      ]]])\n",
       "Coordinates:\n",
       "  * date       (date) datetime64[ns] 2017-08-17 2017-08-18 ... 2023-12-06\n",
       "  * component  (component) object 'open' 'high' ... 'FAGI_sentiment_encoded'\n",
       "Dimensions without coordinates: sample\n",
       "Attributes:\n",
       "    static_covariates:  None\n",
       "    hierarchy:          None"
      ]
     },
     "execution_count": 11,
     "metadata": {},
     "output_type": "execute_result"
    }
   ],
   "source": [
    "from darts.utils.missing_values import fill_missing_values\n",
    "scaled_df = fill_missing_values(scaled_df)\n",
    "scaled_df\n"
   ]
  },
  {
   "cell_type": "markdown",
   "metadata": {},
   "source": [
    "### __*Train Test Split*__"
   ]
  },
  {
   "cell_type": "code",
   "execution_count": 12,
   "metadata": {},
   "outputs": [
    {
     "data": {
      "text/plain": [
       "<Axes: xlabel='date'>"
      ]
     },
     "execution_count": 12,
     "metadata": {},
     "output_type": "execute_result"
    },
    {
     "data": {
      "image/png": "[encoded data removed]",
      "text/plain": [
       "<Figure size 640x480 with 1 Axes>"
      ]
     },
     "metadata": {},
     "output_type": "display_data"
    }
   ],
   "source": [
    "train, val = (scaled_df).split_before(0.8)\n",
    "\n",
    "train.plot(label=\"training\")\n"
   ]
  },
  {
   "cell_type": "code",
   "execution_count": 13,
   "metadata": {},
   "outputs": [],
   "source": [
    "val,test = (val).split_before(0.5)\n"
   ]
  },
  {
   "cell_type": "markdown",
   "metadata": {},
   "source": [
    "### __*Setup Earlystopping and the train on GPU*__"
   ]
  },
  {
   "cell_type": "code",
   "execution_count": 14,
   "metadata": {},
   "outputs": [],
   "source": [
    "from pytorch_lightning.callbacks.early_stopping import EarlyStopping\n",
    "\n",
    "# stop training when validation loss does not decrease more than 0.05 (`min_delta`) over\n",
    "# a period of 5 epochs (`patience`)\n",
    "stopper = EarlyStopping(\n",
    "    monitor=\"val_loss\",\n",
    "    patience=10,\n",
    "    min_delta=0.0001,\n",
    "    mode='min',\n",
    ")\n",
    "\n",
    "pl_trainer_kwargs={\"callbacks\": [stopper],\n",
    "                   \"accelerator\": \"cpu\"\n",
    "                   }\n"
   ]
  },
  {
   "cell_type": "markdown",
   "metadata": {},
   "source": [
    "### __*Instanciate BlockRNNMODEL*__"
   ]
  },
  {
   "cell_type": "code",
   "execution_count": 15,
   "metadata": {},
   "outputs": [],
   "source": [
    "# predict 7 days considering the latest 50 days\n",
    "\n",
    "\n",
    "model_covariates = BlockRNNModel(\n",
    "    model=\"LSTM\",\n",
    "    input_chunk_length= 45,\n",
    "    output_chunk_length=7,\n",
    "    torch_metrics= SymmetricMeanAbsolutePercentageError(),\n",
    "    n_epochs=500,\n",
    "    hidden_dim = 88,\n",
    "    n_rnn_layers = 1,\n",
    "    pl_trainer_kwargs = pl_trainer_kwargs,\n",
    "    random_state=0,\n",
    ")\n"
   ]
  },
  {
   "cell_type": "markdown",
   "metadata": {},
   "source": [
    "### __*GridSearch*__"
   ]
  },
  {
   "cell_type": "code",
   "execution_count": 16,
   "metadata": {},
   "outputs": [
    {
     "data": {
      "text/plain": [
       "'# predict 7 days considering the latest 50 days\\n\\nmodel_gridSearch = BlockRNNModel(\\n    model=\"LSTM\",\\n    input_chunk_length= 45,\\n    output_chunk_length=7,\\n    #dropout=0.1,\\n    #\\n    torch_metrics= SymmetricMeanAbsolutePercentageError(),\\n    n_epochs=500,\\n    pl_trainer_kwargs = pl_trainer_kwargs,\\n    random_state=0,\\n)\\n'"
      ]
     },
     "execution_count": 16,
     "metadata": {},
     "output_type": "execute_result"
    }
   ],
   "source": [
    "\"\"\"# predict 7 days considering the latest 50 days\n",
    "\n",
    "model_gridSearch = BlockRNNModel(\n",
    "    model=\"LSTM\",\n",
    "    input_chunk_length= 45,\n",
    "    output_chunk_length=7,\n",
    "    #dropout=0.1,\n",
    "    #\n",
    "    torch_metrics= SymmetricMeanAbsolutePercentageError(),\n",
    "    n_epochs=500,\n",
    "    pl_trainer_kwargs = pl_trainer_kwargs,\n",
    "    random_state=0,\n",
    ")\n",
    "\"\"\"\n"
   ]
  },
  {
   "cell_type": "code",
   "execution_count": 17,
   "metadata": {},
   "outputs": [
    {
     "data": {
      "text/plain": [
       "'params = {\\n    #\"model\" : [\"LSTM\", \"GRU\"],\\n    \"hidden_dim\" : [10],\\n    \"n_rnn_layers\" : [5],\\n    #\"hidden_fc_sizes\" : [5],\\n    #\"dropout\" : [0.1],\\n    \"input_chunk_length\": [45],\\n    \"output_chunk_length\": [7]\\n}\\n\\n\\ngridresult = BlockRNNModel.gridsearch(\\n                        parameters=params,\\n                        series=[train[\"close\"]],\\n                        past_covariates=train,\\n                        verbose=True,\\n                        forecast_horizon = 7\\n                        )'"
      ]
     },
     "execution_count": 17,
     "metadata": {},
     "output_type": "execute_result"
    }
   ],
   "source": [
    "\"\"\"params = {\n",
    "    #\"model\" : [\"LSTM\", \"GRU\"],\n",
    "    \"hidden_dim\" : [10],\n",
    "    \"n_rnn_layers\" : [5],\n",
    "    #\"hidden_fc_sizes\" : [5],\n",
    "    #\"dropout\" : [0.1],\n",
    "    \"input_chunk_length\": [45],\n",
    "    \"output_chunk_length\": [7]\n",
    "}\n",
    "\n",
    "\n",
    "gridresult = BlockRNNModel.gridsearch(\n",
    "                        parameters=params,\n",
    "                        series=[train[\"close\"]],\n",
    "                        past_covariates=train,\n",
    "                        verbose=True,\n",
    "                        forecast_horizon = 7\n",
    "                        )\"\"\"\n"
   ]
  },
  {
   "cell_type": "code",
   "execution_count": 18,
   "metadata": {},
   "outputs": [
    {
     "data": {
      "text/plain": [
       "'best_model, dict_bestparams = gridresult\\nprint(f\"dict_bestparams: {dict_bestparams}\")\\n'"
      ]
     },
     "execution_count": 18,
     "metadata": {},
     "output_type": "execute_result"
    }
   ],
   "source": [
    "\"\"\"best_model, dict_bestparams = gridresult\n",
    "print(f\"dict_bestparams: {dict_bestparams}\")\n",
    "\"\"\"\n"
   ]
  },
  {
   "cell_type": "markdown",
   "metadata": {},
   "source": [
    "### __*Train the model*__"
   ]
  },
  {
   "cell_type": "code",
   "execution_count": 19,
   "metadata": {},
   "outputs": [
    {
     "data": {
      "application/vnd.jupyter.widget-view+json": {
       "model_id": "0c57e5ade70b4c96b9621b2fc0a4ea2f",
       "version_major": 2,
       "version_minor": 0
      },
      "text/plain": [
       "Sanity Checking: |          | 0/? [00:00<?, ?it/s]"
      ]
     },
     "metadata": {},
     "output_type": "display_data"
    },
    {
     "data": {
      "application/vnd.jupyter.widget-view+json": {
       "model_id": "60c7136b2ddd4929bdacf31ff5d47c98",
       "version_major": 2,
       "version_minor": 0
      },
      "text/plain": [
       "Training: |          | 0/? [00:00<?, ?it/s]"
      ]
     },
     "metadata": {},
     "output_type": "display_data"
    },
    {
     "data": {
      "application/vnd.jupyter.widget-view+json": {
       "model_id": "b84049d07dd64ace91397bb49db68a20",
       "version_major": 2,
       "version_minor": 0
      },
      "text/plain": [
       "Validation: |          | 0/? [00:00<?, ?it/s]"
      ]
     },
     "metadata": {},
     "output_type": "display_data"
    },
    {
     "data": {
      "application/vnd.jupyter.widget-view+json": {
       "model_id": "894f5041a90f4fbf851b4e6e1814eb5a",
       "version_major": 2,
       "version_minor": 0
      },
      "text/plain": [
       "Validation: |          | 0/? [00:00<?, ?it/s]"
      ]
     },
     "metadata": {},
     "output_type": "display_data"
    },
    {
     "data": {
      "application/vnd.jupyter.widget-view+json": {
       "model_id": "7199403942a1465da0efc805fd7d4c04",
       "version_major": 2,
       "version_minor": 0
      },
      "text/plain": [
       "Validation: |          | 0/? [00:00<?, ?it/s]"
      ]
     },
     "metadata": {},
     "output_type": "display_data"
    },
    {
     "data": {
      "application/vnd.jupyter.widget-view+json": {
       "model_id": "9b62b99a6ff94a9c995e14e203f594d7",
       "version_major": 2,
       "version_minor": 0
      },
      "text/plain": [
       "Validation: |          | 0/? [00:00<?, ?it/s]"
      ]
     },
     "metadata": {},
     "output_type": "display_data"
    },
    {
     "data": {
      "application/vnd.jupyter.widget-view+json": {
       "model_id": "b69cade6bb974ed68c40de8ae8ff4b5a",
       "version_major": 2,
       "version_minor": 0
      },
      "text/plain": [
       "Validation: |          | 0/? [00:00<?, ?it/s]"
      ]
     },
     "metadata": {},
     "output_type": "display_data"
    },
    {
     "data": {
      "application/vnd.jupyter.widget-view+json": {
       "model_id": "e387a73a9ec7418ba5c2483d702efcbc",
       "version_major": 2,
       "version_minor": 0
      },
      "text/plain": [
       "Validation: |          | 0/? [00:00<?, ?it/s]"
      ]
     },
     "metadata": {},
     "output_type": "display_data"
    },
    {
     "data": {
      "application/vnd.jupyter.widget-view+json": {
       "model_id": "c006c30e00db4877ac5f7073faffb57b",
       "version_major": 2,
       "version_minor": 0
      },
      "text/plain": [
       "Validation: |          | 0/? [00:00<?, ?it/s]"
      ]
     },
     "metadata": {},
     "output_type": "display_data"
    },
    {
     "data": {
      "application/vnd.jupyter.widget-view+json": {
       "model_id": "7c5173a89cbf467ebe7e7c84cda6ee82",
       "version_major": 2,
       "version_minor": 0
      },
      "text/plain": [
       "Validation: |          | 0/? [00:00<?, ?it/s]"
      ]
     },
     "metadata": {},
     "output_type": "display_data"
    },
    {
     "data": {
      "application/vnd.jupyter.widget-view+json": {
       "model_id": "320aa28bddbf4a5e945c9ddeb457a652",
       "version_major": 2,
       "version_minor": 0
      },
      "text/plain": [
       "Validation: |          | 0/? [00:00<?, ?it/s]"
      ]
     },
     "metadata": {},
     "output_type": "display_data"
    },
    {
     "data": {
      "application/vnd.jupyter.widget-view+json": {
       "model_id": "ee5b3f1fb0474a60bfbdf3de4f1dd091",
       "version_major": 2,
       "version_minor": 0
      },
      "text/plain": [
       "Validation: |          | 0/? [00:00<?, ?it/s]"
      ]
     },
     "metadata": {},
     "output_type": "display_data"
    },
    {
     "data": {
      "application/vnd.jupyter.widget-view+json": {
       "model_id": "4b9314a9ba9d4bd7a7c9b1615790134e",
       "version_major": 2,
       "version_minor": 0
      },
      "text/plain": [
       "Validation: |          | 0/? [00:00<?, ?it/s]"
      ]
     },
     "metadata": {},
     "output_type": "display_data"
    },
    {
     "data": {
      "application/vnd.jupyter.widget-view+json": {
       "model_id": "fe262ab884ec45bd871485b1628d7de9",
       "version_major": 2,
       "version_minor": 0
      },
      "text/plain": [
       "Validation: |          | 0/? [00:00<?, ?it/s]"
      ]
     },
     "metadata": {},
     "output_type": "display_data"
    },
    {
     "data": {
      "application/vnd.jupyter.widget-view+json": {
       "model_id": "70dd877f29ab4ffa82f56eb67dfc5992",
       "version_major": 2,
       "version_minor": 0
      },
      "text/plain": [
       "Validation: |          | 0/? [00:00<?, ?it/s]"
      ]
     },
     "metadata": {},
     "output_type": "display_data"
    },
    {
     "data": {
      "application/vnd.jupyter.widget-view+json": {
       "model_id": "03ddfadab7b24e7ba7adb369219ee2e7",
       "version_major": 2,
       "version_minor": 0
      },
      "text/plain": [
       "Validation: |          | 0/? [00:00<?, ?it/s]"
      ]
     },
     "metadata": {},
     "output_type": "display_data"
    },
    {
     "data": {
      "application/vnd.jupyter.widget-view+json": {
       "model_id": "f5125bf85def47f79abf38aa96e6c4e5",
       "version_major": 2,
       "version_minor": 0
      },
      "text/plain": [
       "Validation: |          | 0/? [00:00<?, ?it/s]"
      ]
     },
     "metadata": {},
     "output_type": "display_data"
    },
    {
     "data": {
      "application/vnd.jupyter.widget-view+json": {
       "model_id": "41ccb1f969f447ea8e3dc3b007c94206",
       "version_major": 2,
       "version_minor": 0
      },
      "text/plain": [
       "Validation: |          | 0/? [00:00<?, ?it/s]"
      ]
     },
     "metadata": {},
     "output_type": "display_data"
    },
    {
     "data": {
      "application/vnd.jupyter.widget-view+json": {
       "model_id": "85bdbfe163274421a7ae1719786157ca",
       "version_major": 2,
       "version_minor": 0
      },
      "text/plain": [
       "Validation: |          | 0/? [00:00<?, ?it/s]"
      ]
     },
     "metadata": {},
     "output_type": "display_data"
    },
    {
     "data": {
      "application/vnd.jupyter.widget-view+json": {
       "model_id": "a9a32780405644d09bbd05637163f9bc",
       "version_major": 2,
       "version_minor": 0
      },
      "text/plain": [
       "Validation: |          | 0/? [00:00<?, ?it/s]"
      ]
     },
     "metadata": {},
     "output_type": "display_data"
    },
    {
     "data": {
      "application/vnd.jupyter.widget-view+json": {
       "model_id": "4a7fac1f91384ef08b224ea485b7db5e",
       "version_major": 2,
       "version_minor": 0
      },
      "text/plain": [
       "Validation: |          | 0/? [00:00<?, ?it/s]"
      ]
     },
     "metadata": {},
     "output_type": "display_data"
    },
    {
     "data": {
      "application/vnd.jupyter.widget-view+json": {
       "model_id": "4da4e29ebbeb4f1b9d7429bf05606d29",
       "version_major": 2,
       "version_minor": 0
      },
      "text/plain": [
       "Validation: |          | 0/? [00:00<?, ?it/s]"
      ]
     },
     "metadata": {},
     "output_type": "display_data"
    },
    {
     "data": {
      "application/vnd.jupyter.widget-view+json": {
       "model_id": "6ed3813868994dac8f70348c01c853fe",
       "version_major": 2,
       "version_minor": 0
      },
      "text/plain": [
       "Validation: |          | 0/? [00:00<?, ?it/s]"
      ]
     },
     "metadata": {},
     "output_type": "display_data"
    },
    {
     "data": {
      "application/vnd.jupyter.widget-view+json": {
       "model_id": "9770b7f0a1ef4350a1353ff48dcea563",
       "version_major": 2,
       "version_minor": 0
      },
      "text/plain": [
       "Validation: |          | 0/? [00:00<?, ?it/s]"
      ]
     },
     "metadata": {},
     "output_type": "display_data"
    },
    {
     "data": {
      "application/vnd.jupyter.widget-view+json": {
       "model_id": "aafe7a9345464e1fa1b12cf3c6e3e9e8",
       "version_major": 2,
       "version_minor": 0
      },
      "text/plain": [
       "Validation: |          | 0/? [00:00<?, ?it/s]"
      ]
     },
     "metadata": {},
     "output_type": "display_data"
    },
    {
     "data": {
      "text/plain": [
       "BlockRNNModel(model=LSTM, hidden_dim=88, n_rnn_layers=1, hidden_fc_sizes=None, dropout=0.0, input_chunk_length=45, output_chunk_length=7, torch_metrics=SymmetricMeanAbsolutePercentageError(), n_epochs=500, pl_trainer_kwargs={'callbacks': [<pytorch_lightning.callbacks.early_stopping.EarlyStopping object at 0x15ee4c7f0>], 'accelerator': 'cpu'}, random_state=0)"
      ]
     },
     "execution_count": 19,
     "metadata": {},
     "output_type": "execute_result"
    }
   ],
   "source": [
    "model_covariates.fit(\n",
    "    series=[train[\"close\"]],    # the target training data\n",
    "    past_covariates=train,     # the multi covariate features training data\n",
    "    val_series=[val[\"close\"]],  # the target validation data\n",
    "    val_past_covariates=val,   # the multi covariate features validation data\n",
    "    verbose=True\n",
    ")\n"
   ]
  },
  {
   "cell_type": "markdown",
   "metadata": {},
   "source": [
    "### __*Do a prediction*__"
   ]
  },
  {
   "cell_type": "code",
   "execution_count": 20,
   "metadata": {},
   "outputs": [
    {
     "data": {
      "application/vnd.jupyter.widget-view+json": {
       "model_id": "cb5a7778c6624e70a17c36e513e9c1ad",
       "version_major": 2,
       "version_minor": 0
      },
      "text/plain": [
       "Predicting: |          | 0/? [00:00<?, ?it/s]"
      ]
     },
     "metadata": {},
     "output_type": "display_data"
    },
    {
     "data": {
      "text/plain": [
       "<Axes: xlabel='date'>"
      ]
     },
     "execution_count": 20,
     "metadata": {},
     "output_type": "execute_result"
    },
    {
     "data": {
      "image/png": "[encoded data removed]",
      "text/plain": [
       "<Figure size 640x480 with 1 Axes>"
      ]
     },
     "metadata": {},
     "output_type": "display_data"
    }
   ],
   "source": [
    "pred_cov = model_covariates.predict(n=7,                        # n of days to predict\n",
    "                                 series=test[\"close\"][-45-7:-7],       # target input for prediction\n",
    "                                 past_covariates=test[-45-7:-7]) # past-covariates input for prediction\n",
    "\n",
    "test[-7:][\"close\"].plot(label=\"actual\")\n",
    "pred_cov.plot(label=\"forecast\")\n"
   ]
  },
  {
   "cell_type": "markdown",
   "metadata": {},
   "source": [
    "### __*Result of the metrics*__"
   ]
  },
  {
   "cell_type": "code",
   "execution_count": 21,
   "metadata": {},
   "outputs": [
    {
     "data": {
      "text/plain": [
       "array([[37723.96],\n",
       "       [38682.52],\n",
       "       [39450.35],\n",
       "       [39972.26],\n",
       "       [41991.1 ],\n",
       "       [44073.32],\n",
       "       [43762.69]])"
      ]
     },
     "execution_count": 21,
     "metadata": {},
     "output_type": "execute_result"
    }
   ],
   "source": [
    "#Real Data\n",
    "real_data = ts_scaler_target.inverse_transform(test['close'][-7:]).values()\n",
    "real_data\n"
   ]
  },
  {
   "cell_type": "markdown",
   "metadata": {},
   "source": [
    "### __*Turn Prediction into original scale*__"
   ]
  },
  {
   "cell_type": "code",
   "execution_count": 22,
   "metadata": {},
   "outputs": [
    {
     "data": {
      "text/plain": [
       "array([[39133.67000955],\n",
       "       [39493.37422501],\n",
       "       [38482.3962803 ],\n",
       "       [40594.67733251],\n",
       "       [39756.22504232],\n",
       "       [40225.24229899],\n",
       "       [38786.05635014]])"
      ]
     },
     "execution_count": 22,
     "metadata": {},
     "output_type": "execute_result"
    }
   ],
   "source": [
    "#Predicted Data\n",
    "predicted_data = ts_scaler_target.inverse_transform(pred_cov).values()\n",
    "predicted_data\n"
   ]
  },
  {
   "cell_type": "code",
   "execution_count": 23,
   "metadata": {},
   "outputs": [
    {
     "name": "stdout",
     "output_type": "stream",
     "text": [
      "5.203830836886165\n"
     ]
    }
   ],
   "source": [
    "# check the SMAPE error\n",
    "\n",
    "def smape_function(A, F):\n",
    "    return 100/len(A) * np.sum(2 * np.abs(F - A) / (np.abs(A) + np.abs(F)))\n",
    "\n",
    "\n",
    "print(smape_function(real_data, predicted_data))\n"
   ]
  }
 ],
 "metadata": {
  "kernelspec": {
   "display_name": "crypto_market_assistant",
   "language": "python",
   "name": "python3"
  },
  "language_info": {
   "codemirror_mode": {
    "name": "ipython",
    "version": 3
   },
   "file_extension": ".py",
   "mimetype": "text/x-python",
   "name": "python",
   "nbconvert_exporter": "python",
   "pygments_lexer": "ipython3",
   "version": "3.10.6"
  }
 },
 "nbformat": 4,
 "nbformat_minor": 2
}
