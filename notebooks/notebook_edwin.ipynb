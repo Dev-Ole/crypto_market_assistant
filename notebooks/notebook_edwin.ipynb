{
 "cells": [
  {
   "cell_type": "markdown",
   "metadata": {},
   "source": []
  },
  {
   "cell_type": "markdown",
   "metadata": {},
   "source": [
    "### __*Install packages, Imports, DataFrame*__"
   ]
  },
  {
   "cell_type": "code",
   "execution_count": 1,
   "metadata": {},
   "outputs": [],
   "source": [
    "\n",
    "from torchmetrics import SymmetricMeanAbsolutePercentageError, MeanSquaredError, MeanAbsoluteError\n",
    "\n",
    "\n",
    "import torch\n",
    "\n",
    "from darts.utils.timeseries_generation import (\n",
    "    gaussian_timeseries,\n",
    "    linear_timeseries,\n",
    "    sine_timeseries,\n",
    ")\n",
    "\n",
    "from darts.models import (\n",
    "    RNNModel,\n",
    "    TCNModel,\n",
    "    TransformerModel,\n",
    "    NBEATSModel,\n",
    "    BlockRNNModel,\n",
    "    VARIMA,\n",
    ")\n",
    "\n",
    "from darts.metrics import mape, smape, mae\n",
    "from darts.dataprocessing.transformers import Scaler\n",
    "from darts.utils.timeseries_generation import datetime_attribute_timeseries\n",
    "from darts.datasets import AirPassengersDataset, MonthlyMilkDataset, ElectricityDataset\n",
    "\n",
    "import logging\n",
    "\n",
    "logging.disable(logging.CRITICAL)\n",
    "\n",
    "import warnings\n",
    "\n",
    "warnings.filterwarnings(\"ignore\")\n",
    "\n",
    "\n",
    "%matplotlib inline\n",
    "\n",
    "import numpy as np\n",
    "\n",
    "# for reproducibility\n",
    "torch.manual_seed(1)\n",
    "np.random.seed(1)\n"
   ]
  },
  {
   "cell_type": "code",
   "execution_count": 2,
   "metadata": {},
   "outputs": [
    {
     "name": "stdout",
     "output_type": "stream",
     "text": [
      "            time      open      high       low     close    volume BTC  \\\n",
      "0     2017-08-17   4261.48   4485.39   4200.74   4285.08    795.150377   \n",
      "1     2017-08-18   4285.08   4371.52   3938.77   4108.37   1199.888264   \n",
      "2     2017-08-19   4108.37   4184.69   3850.00   4139.98    381.309763   \n",
      "3     2017-08-20   4139.98   4211.08   4032.62   4086.29    467.083022   \n",
      "4     2017-08-21   4069.13   4119.62   3911.79   4016.00    691.743060   \n",
      "...          ...       ...       ...       ...       ...           ...   \n",
      "2298  2023-12-02  38682.51  39717.14  38641.61  39450.35  26696.921610   \n",
      "2299  2023-12-03  39450.35  40250.00  39274.86  39972.26  26710.653350   \n",
      "2300  2023-12-04  39972.26  42420.00  39972.26  41991.10  79272.330590   \n",
      "2301  2023-12-05  41991.10  44488.00  41414.00  44073.32  67490.746440   \n",
      "2302  2023-12-06  44073.82  44297.21  43335.28  43762.69  51431.104920   \n",
      "\n",
      "        volume USD        RSI  RSI_class        ADX  ADX_class  \n",
      "0     3.454770e+06  50.000000          0   0.000000          1  \n",
      "1     5.086958e+06  50.000000          0   0.000000          1  \n",
      "2     1.549484e+06  50.000000          0   0.000000          1  \n",
      "3     1.930364e+06  50.000000          0   0.000000          1  \n",
      "4     2.797232e+06  50.000000          0   0.000000          1  \n",
      "...            ...        ...        ...        ...        ...  \n",
      "2298  1.043422e+09  68.581366          0  43.948829          2  \n",
      "2299  1.059861e+09  70.702721          1  44.436432          2  \n",
      "2300  3.285737e+09  77.134115          1  45.836661          2  \n",
      "2301  2.890205e+09  81.616552          1  47.693335          2  \n",
      "2302  2.256980e+09  79.124603          1  49.417390          2  \n",
      "\n",
      "[2303 rows x 11 columns]\n"
     ]
    }
   ],
   "source": [
    "# testing\n",
    "\n",
    "import pandas as pd\n",
    "\n",
    "import datetime as dt\n",
    "import matplotlib.pyplot as plt\n",
    "\n",
    "from darts import TimeSeries\n",
    "from sklearn.preprocessing import MinMaxScaler\n",
    "\n",
    "\n",
    "from darts.utils.missing_values import fill_missing_values\n",
    "\n",
    "from sklearn.preprocessing import OrdinalEncoder, MinMaxScaler, RobustScaler, StandardScaler\n",
    "from crypto_assist.data_preprocess import preprocessor_not_scaled\n"
   ]
  },
  {
   "cell_type": "code",
   "execution_count": 3,
   "metadata": {},
   "outputs": [
    {
     "name": "stdout",
     "output_type": "stream",
     "text": [
      "            time      open      high       low     close    volume BTC  \\\n",
      "0     2017-08-17   4261.48   4485.39   4200.74   4285.08    795.150377   \n",
      "1     2017-08-18   4285.08   4371.52   3938.77   4108.37   1199.888264   \n",
      "2     2017-08-19   4108.37   4184.69   3850.00   4139.98    381.309763   \n",
      "3     2017-08-20   4139.98   4211.08   4032.62   4086.29    467.083022   \n",
      "4     2017-08-21   4069.13   4119.62   3911.79   4016.00    691.743060   \n",
      "...          ...       ...       ...       ...       ...           ...   \n",
      "2298  2023-12-02  38682.51  39717.14  38641.61  39450.35  26696.921610   \n",
      "2299  2023-12-03  39450.35  40250.00  39274.86  39972.26  26710.653350   \n",
      "2300  2023-12-04  39972.26  42420.00  39972.26  41991.10  79272.330590   \n",
      "2301  2023-12-05  41991.10  44488.00  41414.00  44073.32  67490.746440   \n",
      "2302  2023-12-06  44073.82  44297.21  43335.28  43762.69  51431.104920   \n",
      "\n",
      "        volume USD        RSI  RSI_class        ADX  ADX_class  \n",
      "0     3.454770e+06  50.000000          0   0.000000          1  \n",
      "1     5.086958e+06  50.000000          0   0.000000          1  \n",
      "2     1.549484e+06  50.000000          0   0.000000          1  \n",
      "3     1.930364e+06  50.000000          0   0.000000          1  \n",
      "4     2.797232e+06  50.000000          0   0.000000          1  \n",
      "...            ...        ...        ...        ...        ...  \n",
      "2298  1.043422e+09  68.581366          0  43.948829          2  \n",
      "2299  1.059861e+09  70.702721          1  44.436432          2  \n",
      "2300  3.285737e+09  77.134115          1  45.836661          2  \n",
      "2301  2.890205e+09  81.616552          1  47.693335          2  \n",
      "2302  2.256980e+09  79.124603          1  49.417390          2  \n",
      "\n",
      "[2303 rows x 11 columns]\n",
      "✅ Data has been merged\n",
      "✅ Data has been imputed\n",
      "✅ Data has been processed\n"
     ]
    }
   ],
   "source": [
    "df = preprocessor_not_scaled('BTCUSDT_daily.csv','final_text_df.csv','social_number_data.csv','FearAndGreedIndex.csv')\n"
   ]
  },
  {
   "cell_type": "code",
   "execution_count": null,
   "metadata": {},
   "outputs": [],
   "source": []
  },
  {
   "cell_type": "code",
   "execution_count": 4,
   "metadata": {},
   "outputs": [],
   "source": [
    "df.index = pd.to_datetime(df.date)\n"
   ]
  },
  {
   "cell_type": "code",
   "execution_count": 5,
   "metadata": {},
   "outputs": [],
   "source": [
    "df.drop(columns=\"date\",inplace=True)\n"
   ]
  },
  {
   "cell_type": "code",
   "execution_count": 6,
   "metadata": {},
   "outputs": [
    {
     "data": {
      "text/html": [
       "<div>\n",
       "<style scoped>\n",
       "    .dataframe tbody tr th:only-of-type {\n",
       "        vertical-align: middle;\n",
       "    }\n",
       "\n",
       "    .dataframe tbody tr th {\n",
       "        vertical-align: top;\n",
       "    }\n",
       "\n",
       "    .dataframe thead th {\n",
       "        text-align: right;\n",
       "    }\n",
       "</style>\n",
       "<table border=\"1\" class=\"dataframe\">\n",
       "  <thead>\n",
       "    <tr style=\"text-align: right;\">\n",
       "      <th></th>\n",
       "      <th>open</th>\n",
       "      <th>high</th>\n",
       "      <th>low</th>\n",
       "      <th>close</th>\n",
       "      <th>volume BTC</th>\n",
       "      <th>volume USD</th>\n",
       "      <th>RSI</th>\n",
       "      <th>RSI_class</th>\n",
       "      <th>ADX</th>\n",
       "      <th>ADX_class</th>\n",
       "      <th>FAGI_score</th>\n",
       "      <th>scored_title</th>\n",
       "      <th>scored_text</th>\n",
       "      <th>average_score</th>\n",
       "      <th>twitter_followers</th>\n",
       "      <th>twitter_favourites</th>\n",
       "      <th>reddit_subscribers</th>\n",
       "      <th>reddit_active_users</th>\n",
       "      <th>reddit_comments_per_day</th>\n",
       "      <th>FAGI_sentiment_encoded</th>\n",
       "    </tr>\n",
       "    <tr>\n",
       "      <th>date</th>\n",
       "      <th></th>\n",
       "      <th></th>\n",
       "      <th></th>\n",
       "      <th></th>\n",
       "      <th></th>\n",
       "      <th></th>\n",
       "      <th></th>\n",
       "      <th></th>\n",
       "      <th></th>\n",
       "      <th></th>\n",
       "      <th></th>\n",
       "      <th></th>\n",
       "      <th></th>\n",
       "      <th></th>\n",
       "      <th></th>\n",
       "      <th></th>\n",
       "      <th></th>\n",
       "      <th></th>\n",
       "      <th></th>\n",
       "      <th></th>\n",
       "    </tr>\n",
       "  </thead>\n",
       "  <tbody>\n",
       "    <tr>\n",
       "      <th>2023-12-02</th>\n",
       "      <td>38682.51</td>\n",
       "      <td>39717.14</td>\n",
       "      <td>38641.61</td>\n",
       "      <td>39450.35</td>\n",
       "      <td>26696.92161</td>\n",
       "      <td>1.043422e+09</td>\n",
       "      <td>68.581366</td>\n",
       "      <td>0</td>\n",
       "      <td>43.948829</td>\n",
       "      <td>2</td>\n",
       "      <td>74.0</td>\n",
       "      <td>-0.002369</td>\n",
       "      <td>-0.004065</td>\n",
       "      <td>-0.003217</td>\n",
       "      <td>3174848.0</td>\n",
       "      <td>2163.435644</td>\n",
       "      <td>2594931.0</td>\n",
       "      <td>1747.715439</td>\n",
       "      <td>699.824346</td>\n",
       "      <td>3.0</td>\n",
       "    </tr>\n",
       "    <tr>\n",
       "      <th>2023-12-03</th>\n",
       "      <td>39450.35</td>\n",
       "      <td>40250.00</td>\n",
       "      <td>39274.86</td>\n",
       "      <td>39972.26</td>\n",
       "      <td>26710.65335</td>\n",
       "      <td>1.059861e+09</td>\n",
       "      <td>70.702721</td>\n",
       "      <td>1</td>\n",
       "      <td>44.436432</td>\n",
       "      <td>2</td>\n",
       "      <td>73.0</td>\n",
       "      <td>0.324950</td>\n",
       "      <td>0.944111</td>\n",
       "      <td>0.634530</td>\n",
       "      <td>3175499.0</td>\n",
       "      <td>2163.435644</td>\n",
       "      <td>2594931.0</td>\n",
       "      <td>1747.715439</td>\n",
       "      <td>699.824346</td>\n",
       "      <td>3.0</td>\n",
       "    </tr>\n",
       "    <tr>\n",
       "      <th>2023-12-04</th>\n",
       "      <td>39972.26</td>\n",
       "      <td>42420.00</td>\n",
       "      <td>39972.26</td>\n",
       "      <td>41991.10</td>\n",
       "      <td>79272.33059</td>\n",
       "      <td>3.285737e+09</td>\n",
       "      <td>77.134115</td>\n",
       "      <td>1</td>\n",
       "      <td>45.836661</td>\n",
       "      <td>2</td>\n",
       "      <td>74.0</td>\n",
       "      <td>0.400351</td>\n",
       "      <td>0.543259</td>\n",
       "      <td>0.471805</td>\n",
       "      <td>3177026.0</td>\n",
       "      <td>2163.435644</td>\n",
       "      <td>2594931.0</td>\n",
       "      <td>1747.715439</td>\n",
       "      <td>699.824346</td>\n",
       "      <td>3.0</td>\n",
       "    </tr>\n",
       "    <tr>\n",
       "      <th>2023-12-05</th>\n",
       "      <td>41991.10</td>\n",
       "      <td>44488.00</td>\n",
       "      <td>41414.00</td>\n",
       "      <td>44073.32</td>\n",
       "      <td>67490.74644</td>\n",
       "      <td>2.890205e+09</td>\n",
       "      <td>81.616552</td>\n",
       "      <td>1</td>\n",
       "      <td>47.693335</td>\n",
       "      <td>2</td>\n",
       "      <td>75.0</td>\n",
       "      <td>0.000000</td>\n",
       "      <td>0.000000</td>\n",
       "      <td>0.000000</td>\n",
       "      <td>3177793.0</td>\n",
       "      <td>2163.435644</td>\n",
       "      <td>2594931.0</td>\n",
       "      <td>1747.715439</td>\n",
       "      <td>699.824346</td>\n",
       "      <td>3.0</td>\n",
       "    </tr>\n",
       "    <tr>\n",
       "      <th>2023-12-06</th>\n",
       "      <td>44073.82</td>\n",
       "      <td>44297.21</td>\n",
       "      <td>43335.28</td>\n",
       "      <td>43762.69</td>\n",
       "      <td>51431.10492</td>\n",
       "      <td>2.256980e+09</td>\n",
       "      <td>79.124603</td>\n",
       "      <td>1</td>\n",
       "      <td>49.417390</td>\n",
       "      <td>2</td>\n",
       "      <td>72.0</td>\n",
       "      <td>0.000000</td>\n",
       "      <td>0.000000</td>\n",
       "      <td>0.000000</td>\n",
       "      <td>3178488.0</td>\n",
       "      <td>2163.435644</td>\n",
       "      <td>2594931.0</td>\n",
       "      <td>1747.715439</td>\n",
       "      <td>699.824346</td>\n",
       "      <td>3.0</td>\n",
       "    </tr>\n",
       "  </tbody>\n",
       "</table>\n",
       "</div>"
      ],
      "text/plain": [
       "                open      high       low     close   volume BTC    volume USD  \\\n",
       "date                                                                            \n",
       "2023-12-02  38682.51  39717.14  38641.61  39450.35  26696.92161  1.043422e+09   \n",
       "2023-12-03  39450.35  40250.00  39274.86  39972.26  26710.65335  1.059861e+09   \n",
       "2023-12-04  39972.26  42420.00  39972.26  41991.10  79272.33059  3.285737e+09   \n",
       "2023-12-05  41991.10  44488.00  41414.00  44073.32  67490.74644  2.890205e+09   \n",
       "2023-12-06  44073.82  44297.21  43335.28  43762.69  51431.10492  2.256980e+09   \n",
       "\n",
       "                  RSI  RSI_class        ADX  ADX_class  FAGI_score  \\\n",
       "date                                                                 \n",
       "2023-12-02  68.581366          0  43.948829          2        74.0   \n",
       "2023-12-03  70.702721          1  44.436432          2        73.0   \n",
       "2023-12-04  77.134115          1  45.836661          2        74.0   \n",
       "2023-12-05  81.616552          1  47.693335          2        75.0   \n",
       "2023-12-06  79.124603          1  49.417390          2        72.0   \n",
       "\n",
       "            scored_title  scored_text  average_score  twitter_followers  \\\n",
       "date                                                                      \n",
       "2023-12-02     -0.002369    -0.004065      -0.003217          3174848.0   \n",
       "2023-12-03      0.324950     0.944111       0.634530          3175499.0   \n",
       "2023-12-04      0.400351     0.543259       0.471805          3177026.0   \n",
       "2023-12-05      0.000000     0.000000       0.000000          3177793.0   \n",
       "2023-12-06      0.000000     0.000000       0.000000          3178488.0   \n",
       "\n",
       "            twitter_favourites  reddit_subscribers  reddit_active_users  \\\n",
       "date                                                                      \n",
       "2023-12-02         2163.435644           2594931.0          1747.715439   \n",
       "2023-12-03         2163.435644           2594931.0          1747.715439   \n",
       "2023-12-04         2163.435644           2594931.0          1747.715439   \n",
       "2023-12-05         2163.435644           2594931.0          1747.715439   \n",
       "2023-12-06         2163.435644           2594931.0          1747.715439   \n",
       "\n",
       "            reddit_comments_per_day  FAGI_sentiment_encoded  \n",
       "date                                                         \n",
       "2023-12-02               699.824346                     3.0  \n",
       "2023-12-03               699.824346                     3.0  \n",
       "2023-12-04               699.824346                     3.0  \n",
       "2023-12-05               699.824346                     3.0  \n",
       "2023-12-06               699.824346                     3.0  "
      ]
     },
     "execution_count": 6,
     "metadata": {},
     "output_type": "execute_result"
    }
   ],
   "source": [
    "df.tail()\n"
   ]
  },
  {
   "cell_type": "code",
   "execution_count": 7,
   "metadata": {},
   "outputs": [],
   "source": [
    "df.drop(columns=[\"RSI\"], inplace=True)\n"
   ]
  },
  {
   "cell_type": "markdown",
   "metadata": {},
   "source": [
    "### __*Scaling and Converting the data*__"
   ]
  },
  {
   "cell_type": "code",
   "execution_count": 8,
   "metadata": {},
   "outputs": [],
   "source": [
    "#freq: This parameter defines the frequency or time interval between consecutive data points in the time series.\n",
    "#'D': It means that each data point in the time series corresponds to an hour\n",
    "\n",
    "timeseries = TimeSeries.from_dataframe(df, freq='D')\n"
   ]
  },
  {
   "cell_type": "code",
   "execution_count": 9,
   "metadata": {},
   "outputs": [],
   "source": [
    "# Here we are converting the MinMax scaler to a Time Series version of it\n",
    "\n",
    "from darts.dataprocessing.transformers.scaler import Scaler\n",
    "from sklearn.preprocessing import MinMaxScaler\n",
    "scaler = MinMaxScaler()\n",
    "ts_scaler = Scaler(scaler)\n",
    "ts_scaler_target = Scaler(scaler)\n"
   ]
  },
  {
   "cell_type": "code",
   "execution_count": 10,
   "metadata": {},
   "outputs": [],
   "source": [
    "\n",
    "scaled_df = ts_scaler.fit_transform(timeseries)\n",
    "ts_scaler_target = ts_scaler_target.fit(timeseries[\"close\"])\n"
   ]
  },
  {
   "cell_type": "markdown",
   "metadata": {},
   "source": [
    "### __*Cleaning Missing data*__"
   ]
  },
  {
   "cell_type": "code",
   "execution_count": 11,
   "metadata": {},
   "outputs": [
    {
     "data": {
      "text/html": [
       "<div><svg style=\"position: absolute; width: 0; height: 0; overflow: hidden\">\n",
       "<defs>\n",
       "<symbol id=\"icon-database\" viewBox=\"0 0 32 32\">\n",
       "<path d=\"M16 0c-8.837 0-16 2.239-16 5v4c0 2.761 7.163 5 16 5s16-2.239 16-5v-4c0-2.761-7.163-5-16-5z\"></path>\n",
       "<path d=\"M16 17c-8.837 0-16-2.239-16-5v6c0 2.761 7.163 5 16 5s16-2.239 16-5v-6c0 2.761-7.163 5-16 5z\"></path>\n",
       "<path d=\"M16 26c-8.837 0-16-2.239-16-5v6c0 2.761 7.163 5 16 5s16-2.239 16-5v-6c0 2.761-7.163 5-16 5z\"></path>\n",
       "</symbol>\n",
       "<symbol id=\"icon-file-text2\" viewBox=\"0 0 32 32\">\n",
       "<path d=\"M28.681 7.159c-0.694-0.947-1.662-2.053-2.724-3.116s-2.169-2.030-3.116-2.724c-1.612-1.182-2.393-1.319-2.841-1.319h-15.5c-1.378 0-2.5 1.121-2.5 2.5v27c0 1.378 1.122 2.5 2.5 2.5h23c1.378 0 2.5-1.122 2.5-2.5v-19.5c0-0.448-0.137-1.23-1.319-2.841zM24.543 5.457c0.959 0.959 1.712 1.825 2.268 2.543h-4.811v-4.811c0.718 0.556 1.584 1.309 2.543 2.268zM28 29.5c0 0.271-0.229 0.5-0.5 0.5h-23c-0.271 0-0.5-0.229-0.5-0.5v-27c0-0.271 0.229-0.5 0.5-0.5 0 0 15.499-0 15.5 0v7c0 0.552 0.448 1 1 1h7v19.5z\"></path>\n",
       "<path d=\"M23 26h-14c-0.552 0-1-0.448-1-1s0.448-1 1-1h14c0.552 0 1 0.448 1 1s-0.448 1-1 1z\"></path>\n",
       "<path d=\"M23 22h-14c-0.552 0-1-0.448-1-1s0.448-1 1-1h14c0.552 0 1 0.448 1 1s-0.448 1-1 1z\"></path>\n",
       "<path d=\"M23 18h-14c-0.552 0-1-0.448-1-1s0.448-1 1-1h14c0.552 0 1 0.448 1 1s-0.448 1-1 1z\"></path>\n",
       "</symbol>\n",
       "</defs>\n",
       "</svg>\n",
       "<style>/* CSS stylesheet for displaying xarray objects in jupyterlab.\n",
       " *\n",
       " */\n",
       "\n",
       ":root {\n",
       "  --xr-font-color0: var(--jp-content-font-color0, rgba(0, 0, 0, 1));\n",
       "  --xr-font-color2: var(--jp-content-font-color2, rgba(0, 0, 0, 0.54));\n",
       "  --xr-font-color3: var(--jp-content-font-color3, rgba(0, 0, 0, 0.38));\n",
       "  --xr-border-color: var(--jp-border-color2, #e0e0e0);\n",
       "  --xr-disabled-color: var(--jp-layout-color3, #bdbdbd);\n",
       "  --xr-background-color: var(--jp-layout-color0, white);\n",
       "  --xr-background-color-row-even: var(--jp-layout-color1, white);\n",
       "  --xr-background-color-row-odd: var(--jp-layout-color2, #eeeeee);\n",
       "}\n",
       "\n",
       "html[theme=dark],\n",
       "body[data-theme=dark],\n",
       "body.vscode-dark {\n",
       "  --xr-font-color0: rgba(255, 255, 255, 1);\n",
       "  --xr-font-color2: rgba(255, 255, 255, 0.54);\n",
       "  --xr-font-color3: rgba(255, 255, 255, 0.38);\n",
       "  --xr-border-color: #1F1F1F;\n",
       "  --xr-disabled-color: #515151;\n",
       "  --xr-background-color: #111111;\n",
       "  --xr-background-color-row-even: #111111;\n",
       "  --xr-background-color-row-odd: #313131;\n",
       "}\n",
       "\n",
       ".xr-wrap {\n",
       "  display: block !important;\n",
       "  min-width: 300px;\n",
       "  max-width: 700px;\n",
       "}\n",
       "\n",
       ".xr-text-repr-fallback {\n",
       "  /* fallback to plain text repr when CSS is not injected (untrusted notebook) */\n",
       "  display: none;\n",
       "}\n",
       "\n",
       ".xr-header {\n",
       "  padding-top: 6px;\n",
       "  padding-bottom: 6px;\n",
       "  margin-bottom: 4px;\n",
       "  border-bottom: solid 1px var(--xr-border-color);\n",
       "}\n",
       "\n",
       ".xr-header > div,\n",
       ".xr-header > ul {\n",
       "  display: inline;\n",
       "  margin-top: 0;\n",
       "  margin-bottom: 0;\n",
       "}\n",
       "\n",
       ".xr-obj-type,\n",
       ".xr-array-name {\n",
       "  margin-left: 2px;\n",
       "  margin-right: 10px;\n",
       "}\n",
       "\n",
       ".xr-obj-type {\n",
       "  color: var(--xr-font-color2);\n",
       "}\n",
       "\n",
       ".xr-sections {\n",
       "  padding-left: 0 !important;\n",
       "  display: grid;\n",
       "  grid-template-columns: 150px auto auto 1fr 20px 20px;\n",
       "}\n",
       "\n",
       ".xr-section-item {\n",
       "  display: contents;\n",
       "}\n",
       "\n",
       ".xr-section-item input {\n",
       "  display: none;\n",
       "}\n",
       "\n",
       ".xr-section-item input + label {\n",
       "  color: var(--xr-disabled-color);\n",
       "}\n",
       "\n",
       ".xr-section-item input:enabled + label {\n",
       "  cursor: pointer;\n",
       "  color: var(--xr-font-color2);\n",
       "}\n",
       "\n",
       ".xr-section-item input:enabled + label:hover {\n",
       "  color: var(--xr-font-color0);\n",
       "}\n",
       "\n",
       ".xr-section-summary {\n",
       "  grid-column: 1;\n",
       "  color: var(--xr-font-color2);\n",
       "  font-weight: 500;\n",
       "}\n",
       "\n",
       ".xr-section-summary > span {\n",
       "  display: inline-block;\n",
       "  padding-left: 0.5em;\n",
       "}\n",
       "\n",
       ".xr-section-summary-in:disabled + label {\n",
       "  color: var(--xr-font-color2);\n",
       "}\n",
       "\n",
       ".xr-section-summary-in + label:before {\n",
       "  display: inline-block;\n",
       "  content: '►';\n",
       "  font-size: 11px;\n",
       "  width: 15px;\n",
       "  text-align: center;\n",
       "}\n",
       "\n",
       ".xr-section-summary-in:disabled + label:before {\n",
       "  color: var(--xr-disabled-color);\n",
       "}\n",
       "\n",
       ".xr-section-summary-in:checked + label:before {\n",
       "  content: '▼';\n",
       "}\n",
       "\n",
       ".xr-section-summary-in:checked + label > span {\n",
       "  display: none;\n",
       "}\n",
       "\n",
       ".xr-section-summary,\n",
       ".xr-section-inline-details {\n",
       "  padding-top: 4px;\n",
       "  padding-bottom: 4px;\n",
       "}\n",
       "\n",
       ".xr-section-inline-details {\n",
       "  grid-column: 2 / -1;\n",
       "}\n",
       "\n",
       ".xr-section-details {\n",
       "  display: none;\n",
       "  grid-column: 1 / -1;\n",
       "  margin-bottom: 5px;\n",
       "}\n",
       "\n",
       ".xr-section-summary-in:checked ~ .xr-section-details {\n",
       "  display: contents;\n",
       "}\n",
       "\n",
       ".xr-array-wrap {\n",
       "  grid-column: 1 / -1;\n",
       "  display: grid;\n",
       "  grid-template-columns: 20px auto;\n",
       "}\n",
       "\n",
       ".xr-array-wrap > label {\n",
       "  grid-column: 1;\n",
       "  vertical-align: top;\n",
       "}\n",
       "\n",
       ".xr-preview {\n",
       "  color: var(--xr-font-color3);\n",
       "}\n",
       "\n",
       ".xr-array-preview,\n",
       ".xr-array-data {\n",
       "  padding: 0 5px !important;\n",
       "  grid-column: 2;\n",
       "}\n",
       "\n",
       ".xr-array-data,\n",
       ".xr-array-in:checked ~ .xr-array-preview {\n",
       "  display: none;\n",
       "}\n",
       "\n",
       ".xr-array-in:checked ~ .xr-array-data,\n",
       ".xr-array-preview {\n",
       "  display: inline-block;\n",
       "}\n",
       "\n",
       ".xr-dim-list {\n",
       "  display: inline-block !important;\n",
       "  list-style: none;\n",
       "  padding: 0 !important;\n",
       "  margin: 0;\n",
       "}\n",
       "\n",
       ".xr-dim-list li {\n",
       "  display: inline-block;\n",
       "  padding: 0;\n",
       "  margin: 0;\n",
       "}\n",
       "\n",
       ".xr-dim-list:before {\n",
       "  content: '(';\n",
       "}\n",
       "\n",
       ".xr-dim-list:after {\n",
       "  content: ')';\n",
       "}\n",
       "\n",
       ".xr-dim-list li:not(:last-child):after {\n",
       "  content: ',';\n",
       "  padding-right: 5px;\n",
       "}\n",
       "\n",
       ".xr-has-index {\n",
       "  font-weight: bold;\n",
       "}\n",
       "\n",
       ".xr-var-list,\n",
       ".xr-var-item {\n",
       "  display: contents;\n",
       "}\n",
       "\n",
       ".xr-var-item > div,\n",
       ".xr-var-item label,\n",
       ".xr-var-item > .xr-var-name span {\n",
       "  background-color: var(--xr-background-color-row-even);\n",
       "  margin-bottom: 0;\n",
       "}\n",
       "\n",
       ".xr-var-item > .xr-var-name:hover span {\n",
       "  padding-right: 5px;\n",
       "}\n",
       "\n",
       ".xr-var-list > li:nth-child(odd) > div,\n",
       ".xr-var-list > li:nth-child(odd) > label,\n",
       ".xr-var-list > li:nth-child(odd) > .xr-var-name span {\n",
       "  background-color: var(--xr-background-color-row-odd);\n",
       "}\n",
       "\n",
       ".xr-var-name {\n",
       "  grid-column: 1;\n",
       "}\n",
       "\n",
       ".xr-var-dims {\n",
       "  grid-column: 2;\n",
       "}\n",
       "\n",
       ".xr-var-dtype {\n",
       "  grid-column: 3;\n",
       "  text-align: right;\n",
       "  color: var(--xr-font-color2);\n",
       "}\n",
       "\n",
       ".xr-var-preview {\n",
       "  grid-column: 4;\n",
       "}\n",
       "\n",
       ".xr-index-preview {\n",
       "  grid-column: 2 / 5;\n",
       "  color: var(--xr-font-color2);\n",
       "}\n",
       "\n",
       ".xr-var-name,\n",
       ".xr-var-dims,\n",
       ".xr-var-dtype,\n",
       ".xr-preview,\n",
       ".xr-attrs dt {\n",
       "  white-space: nowrap;\n",
       "  overflow: hidden;\n",
       "  text-overflow: ellipsis;\n",
       "  padding-right: 10px;\n",
       "}\n",
       "\n",
       ".xr-var-name:hover,\n",
       ".xr-var-dims:hover,\n",
       ".xr-var-dtype:hover,\n",
       ".xr-attrs dt:hover {\n",
       "  overflow: visible;\n",
       "  width: auto;\n",
       "  z-index: 1;\n",
       "}\n",
       "\n",
       ".xr-var-attrs,\n",
       ".xr-var-data,\n",
       ".xr-index-data {\n",
       "  display: none;\n",
       "  background-color: var(--xr-background-color) !important;\n",
       "  padding-bottom: 5px !important;\n",
       "}\n",
       "\n",
       ".xr-var-attrs-in:checked ~ .xr-var-attrs,\n",
       ".xr-var-data-in:checked ~ .xr-var-data,\n",
       ".xr-index-data-in:checked ~ .xr-index-data {\n",
       "  display: block;\n",
       "}\n",
       "\n",
       ".xr-var-data > table {\n",
       "  float: right;\n",
       "}\n",
       "\n",
       ".xr-var-name span,\n",
       ".xr-var-data,\n",
       ".xr-index-name div,\n",
       ".xr-index-data,\n",
       ".xr-attrs {\n",
       "  padding-left: 25px !important;\n",
       "}\n",
       "\n",
       ".xr-attrs,\n",
       ".xr-var-attrs,\n",
       ".xr-var-data,\n",
       ".xr-index-data {\n",
       "  grid-column: 1 / -1;\n",
       "}\n",
       "\n",
       "dl.xr-attrs {\n",
       "  padding: 0;\n",
       "  margin: 0;\n",
       "  display: grid;\n",
       "  grid-template-columns: 125px auto;\n",
       "}\n",
       "\n",
       ".xr-attrs dt,\n",
       ".xr-attrs dd {\n",
       "  padding: 0;\n",
       "  margin: 0;\n",
       "  float: left;\n",
       "  padding-right: 10px;\n",
       "  width: auto;\n",
       "}\n",
       "\n",
       ".xr-attrs dt {\n",
       "  font-weight: normal;\n",
       "  grid-column: 1;\n",
       "}\n",
       "\n",
       ".xr-attrs dt:hover span {\n",
       "  display: inline-block;\n",
       "  background: var(--xr-background-color);\n",
       "  padding-right: 10px;\n",
       "}\n",
       "\n",
       ".xr-attrs dd {\n",
       "  grid-column: 2;\n",
       "  white-space: pre-wrap;\n",
       "  word-break: break-all;\n",
       "}\n",
       "\n",
       ".xr-icon-database,\n",
       ".xr-icon-file-text2,\n",
       ".xr-no-icon {\n",
       "  display: inline-block;\n",
       "  vertical-align: middle;\n",
       "  width: 1em;\n",
       "  height: 1.5em !important;\n",
       "  stroke-width: 0;\n",
       "  stroke: currentColor;\n",
       "  fill: currentColor;\n",
       "}\n",
       "</style><pre class='xr-text-repr-fallback'>&lt;TimeSeries (DataArray) (date: 2303, component: 19, sample: 1)&gt;\n",
       "array([[[0.0166849 ],\n",
       "        [0.01839357],\n",
       "        [0.02182369],\n",
       "        ...,\n",
       "        [0.2445421 ],\n",
       "        [0.14865773],\n",
       "        [0.5       ]],\n",
       "\n",
       "       [[0.01705172],\n",
       "        [0.01666101],\n",
       "        [0.01769203],\n",
       "        ...,\n",
       "        [0.2445421 ],\n",
       "        [0.14865773],\n",
       "        [0.5       ]],\n",
       "\n",
       "       [[0.01430512],\n",
       "        [0.01381835],\n",
       "        [0.01629199],\n",
       "        ...,\n",
       "...\n",
       "        ...,\n",
       "        [0.2445421 ],\n",
       "        [0.14865773],\n",
       "        [0.75      ]],\n",
       "\n",
       "       [[0.60311487],\n",
       "        [0.6270436 ],\n",
       "        [0.60873364],\n",
       "        ...,\n",
       "        [0.2445421 ],\n",
       "        [0.14865773],\n",
       "        [0.75      ]],\n",
       "\n",
       "       [[0.6354865 ],\n",
       "        [0.62414068],\n",
       "        [0.63903516],\n",
       "        ...,\n",
       "        [0.2445421 ],\n",
       "        [0.14865773],\n",
       "        [0.75      ]]])\n",
       "Coordinates:\n",
       "  * date       (date) datetime64[ns] 2017-08-17 2017-08-18 ... 2023-12-06\n",
       "  * component  (component) object &#x27;open&#x27; &#x27;high&#x27; ... &#x27;FAGI_sentiment_encoded&#x27;\n",
       "Dimensions without coordinates: sample\n",
       "Attributes:\n",
       "    static_covariates:  None\n",
       "    hierarchy:          None</pre><div class='xr-wrap' style='display:none'><div class='xr-header'><div class='xr-obj-type'>TimeSeries (DataArray)</div><div class='xr-array-name'></div><ul class='xr-dim-list'><li><span class='xr-has-index'>date</span>: 2303</li><li><span class='xr-has-index'>component</span>: 19</li><li><span>sample</span>: 1</li></ul></div><ul class='xr-sections'><li class='xr-section-item'><div class='xr-array-wrap'><input id='section-2c2a41d0-f3f9-42ce-b117-a8ce464cb7aa' class='xr-array-in' type='checkbox' checked><label for='section-2c2a41d0-f3f9-42ce-b117-a8ce464cb7aa' title='Show/hide data repr'><svg class='icon xr-icon-database'><use xlink:href='#icon-database'></use></svg></label><div class='xr-array-preview xr-preview'><span>0.01668 0.01839 0.02182 0.01704 0.0007456 ... 1.0 0.2445 0.1487 0.75</span></div><div class='xr-array-data'><pre>array([[[0.0166849 ],\n",
       "        [0.01839357],\n",
       "        [0.02182369],\n",
       "        ...,\n",
       "        [0.2445421 ],\n",
       "        [0.14865773],\n",
       "        [0.5       ]],\n",
       "\n",
       "       [[0.01705172],\n",
       "        [0.01666101],\n",
       "        [0.01769203],\n",
       "        ...,\n",
       "        [0.2445421 ],\n",
       "        [0.14865773],\n",
       "        [0.5       ]],\n",
       "\n",
       "       [[0.01430512],\n",
       "        [0.01381835],\n",
       "        [0.01629199],\n",
       "        ...,\n",
       "...\n",
       "        ...,\n",
       "        [0.2445421 ],\n",
       "        [0.14865773],\n",
       "        [0.75      ]],\n",
       "\n",
       "       [[0.60311487],\n",
       "        [0.6270436 ],\n",
       "        [0.60873364],\n",
       "        ...,\n",
       "        [0.2445421 ],\n",
       "        [0.14865773],\n",
       "        [0.75      ]],\n",
       "\n",
       "       [[0.6354865 ],\n",
       "        [0.62414068],\n",
       "        [0.63903516],\n",
       "        ...,\n",
       "        [0.2445421 ],\n",
       "        [0.14865773],\n",
       "        [0.75      ]]])</pre></div></div></li><li class='xr-section-item'><input id='section-e6bff6dd-d95d-4898-a542-bfa2d4f68d98' class='xr-section-summary-in' type='checkbox'  checked><label for='section-e6bff6dd-d95d-4898-a542-bfa2d4f68d98' class='xr-section-summary' >Coordinates: <span>(2)</span></label><div class='xr-section-inline-details'></div><div class='xr-section-details'><ul class='xr-var-list'><li class='xr-var-item'><div class='xr-var-name'><span class='xr-has-index'>date</span></div><div class='xr-var-dims'>(date)</div><div class='xr-var-dtype'>datetime64[ns]</div><div class='xr-var-preview xr-preview'>2017-08-17 ... 2023-12-06</div><input id='attrs-df1fd4a9-c42e-498f-bfae-213173a68115' class='xr-var-attrs-in' type='checkbox' disabled><label for='attrs-df1fd4a9-c42e-498f-bfae-213173a68115' title='Show/Hide attributes'><svg class='icon xr-icon-file-text2'><use xlink:href='#icon-file-text2'></use></svg></label><input id='data-68a68ce5-c408-4961-a469-605732cd144c' class='xr-var-data-in' type='checkbox'><label for='data-68a68ce5-c408-4961-a469-605732cd144c' title='Show/Hide data repr'><svg class='icon xr-icon-database'><use xlink:href='#icon-database'></use></svg></label><div class='xr-var-attrs'><dl class='xr-attrs'></dl></div><div class='xr-var-data'><pre>array([&#x27;2017-08-17T00:00:00.000000000&#x27;, &#x27;2017-08-18T00:00:00.000000000&#x27;,\n",
       "       &#x27;2017-08-19T00:00:00.000000000&#x27;, ..., &#x27;2023-12-04T00:00:00.000000000&#x27;,\n",
       "       &#x27;2023-12-05T00:00:00.000000000&#x27;, &#x27;2023-12-06T00:00:00.000000000&#x27;],\n",
       "      dtype=&#x27;datetime64[ns]&#x27;)</pre></div></li><li class='xr-var-item'><div class='xr-var-name'><span class='xr-has-index'>component</span></div><div class='xr-var-dims'>(component)</div><div class='xr-var-dtype'>object</div><div class='xr-var-preview xr-preview'>&#x27;open&#x27; ... &#x27;FAGI_sentiment_encoded&#x27;</div><input id='attrs-4b73f72e-bdd8-414e-905e-2bccc870357c' class='xr-var-attrs-in' type='checkbox' disabled><label for='attrs-4b73f72e-bdd8-414e-905e-2bccc870357c' title='Show/Hide attributes'><svg class='icon xr-icon-file-text2'><use xlink:href='#icon-file-text2'></use></svg></label><input id='data-f788638e-0894-430f-be80-e82ce7ff24ee' class='xr-var-data-in' type='checkbox'><label for='data-f788638e-0894-430f-be80-e82ce7ff24ee' title='Show/Hide data repr'><svg class='icon xr-icon-database'><use xlink:href='#icon-database'></use></svg></label><div class='xr-var-attrs'><dl class='xr-attrs'></dl></div><div class='xr-var-data'><pre>array([&#x27;open&#x27;, &#x27;high&#x27;, &#x27;low&#x27;, &#x27;close&#x27;, &#x27;volume BTC&#x27;, &#x27;volume USD&#x27;, &#x27;RSI_class&#x27;,\n",
       "       &#x27;ADX&#x27;, &#x27;ADX_class&#x27;, &#x27;FAGI_score&#x27;, &#x27;scored_title&#x27;, &#x27;scored_text&#x27;,\n",
       "       &#x27;average_score&#x27;, &#x27;twitter_followers&#x27;, &#x27;twitter_favourites&#x27;,\n",
       "       &#x27;reddit_subscribers&#x27;, &#x27;reddit_active_users&#x27;, &#x27;reddit_comments_per_day&#x27;,\n",
       "       &#x27;FAGI_sentiment_encoded&#x27;], dtype=object)</pre></div></li></ul></div></li><li class='xr-section-item'><input id='section-4e9217cd-d23c-4bfd-86f0-ed38f64e5484' class='xr-section-summary-in' type='checkbox'  ><label for='section-4e9217cd-d23c-4bfd-86f0-ed38f64e5484' class='xr-section-summary' >Indexes: <span>(2)</span></label><div class='xr-section-inline-details'></div><div class='xr-section-details'><ul class='xr-var-list'><li class='xr-var-item'><div class='xr-index-name'><div>date</div></div><div class='xr-index-preview'>PandasIndex</div><div></div><input id='index-ce31a6e0-29e9-4da8-b8f2-4c894eadbc89' class='xr-index-data-in' type='checkbox'/><label for='index-ce31a6e0-29e9-4da8-b8f2-4c894eadbc89' title='Show/Hide index repr'><svg class='icon xr-icon-database'><use xlink:href='#icon-database'></use></svg></label><div class='xr-index-data'><pre>PandasIndex(DatetimeIndex([&#x27;2017-08-17&#x27;, &#x27;2017-08-18&#x27;, &#x27;2017-08-19&#x27;, &#x27;2017-08-20&#x27;,\n",
       "               &#x27;2017-08-21&#x27;, &#x27;2017-08-22&#x27;, &#x27;2017-08-23&#x27;, &#x27;2017-08-24&#x27;,\n",
       "               &#x27;2017-08-25&#x27;, &#x27;2017-08-26&#x27;,\n",
       "               ...\n",
       "               &#x27;2023-11-27&#x27;, &#x27;2023-11-28&#x27;, &#x27;2023-11-29&#x27;, &#x27;2023-11-30&#x27;,\n",
       "               &#x27;2023-12-01&#x27;, &#x27;2023-12-02&#x27;, &#x27;2023-12-03&#x27;, &#x27;2023-12-04&#x27;,\n",
       "               &#x27;2023-12-05&#x27;, &#x27;2023-12-06&#x27;],\n",
       "              dtype=&#x27;datetime64[ns]&#x27;, name=&#x27;date&#x27;, length=2303, freq=&#x27;D&#x27;))</pre></div></li><li class='xr-var-item'><div class='xr-index-name'><div>component</div></div><div class='xr-index-preview'>PandasIndex</div><div></div><input id='index-e8927bd4-f212-43bb-836f-10134b8701e1' class='xr-index-data-in' type='checkbox'/><label for='index-e8927bd4-f212-43bb-836f-10134b8701e1' title='Show/Hide index repr'><svg class='icon xr-icon-database'><use xlink:href='#icon-database'></use></svg></label><div class='xr-index-data'><pre>PandasIndex(Index([&#x27;open&#x27;, &#x27;high&#x27;, &#x27;low&#x27;, &#x27;close&#x27;, &#x27;volume BTC&#x27;, &#x27;volume USD&#x27;, &#x27;RSI_class&#x27;,\n",
       "       &#x27;ADX&#x27;, &#x27;ADX_class&#x27;, &#x27;FAGI_score&#x27;, &#x27;scored_title&#x27;, &#x27;scored_text&#x27;,\n",
       "       &#x27;average_score&#x27;, &#x27;twitter_followers&#x27;, &#x27;twitter_favourites&#x27;,\n",
       "       &#x27;reddit_subscribers&#x27;, &#x27;reddit_active_users&#x27;, &#x27;reddit_comments_per_day&#x27;,\n",
       "       &#x27;FAGI_sentiment_encoded&#x27;],\n",
       "      dtype=&#x27;object&#x27;, name=&#x27;component&#x27;))</pre></div></li></ul></div></li><li class='xr-section-item'><input id='section-5c4be439-2241-4de4-9149-79b2603b055f' class='xr-section-summary-in' type='checkbox'  checked><label for='section-5c4be439-2241-4de4-9149-79b2603b055f' class='xr-section-summary' >Attributes: <span>(2)</span></label><div class='xr-section-inline-details'></div><div class='xr-section-details'><dl class='xr-attrs'><dt><span>static_covariates :</span></dt><dd>None</dd><dt><span>hierarchy :</span></dt><dd>None</dd></dl></div></li></ul></div></div>"
      ],
      "text/plain": [
       "<TimeSeries (DataArray) (date: 2303, component: 19, sample: 1)>\n",
       "array([[[0.0166849 ],\n",
       "        [0.01839357],\n",
       "        [0.02182369],\n",
       "        ...,\n",
       "        [0.2445421 ],\n",
       "        [0.14865773],\n",
       "        [0.5       ]],\n",
       "\n",
       "       [[0.01705172],\n",
       "        [0.01666101],\n",
       "        [0.01769203],\n",
       "        ...,\n",
       "        [0.2445421 ],\n",
       "        [0.14865773],\n",
       "        [0.5       ]],\n",
       "\n",
       "       [[0.01430512],\n",
       "        [0.01381835],\n",
       "        [0.01629199],\n",
       "        ...,\n",
       "...\n",
       "        ...,\n",
       "        [0.2445421 ],\n",
       "        [0.14865773],\n",
       "        [0.75      ]],\n",
       "\n",
       "       [[0.60311487],\n",
       "        [0.6270436 ],\n",
       "        [0.60873364],\n",
       "        ...,\n",
       "        [0.2445421 ],\n",
       "        [0.14865773],\n",
       "        [0.75      ]],\n",
       "\n",
       "       [[0.6354865 ],\n",
       "        [0.62414068],\n",
       "        [0.63903516],\n",
       "        ...,\n",
       "        [0.2445421 ],\n",
       "        [0.14865773],\n",
       "        [0.75      ]]])\n",
       "Coordinates:\n",
       "  * date       (date) datetime64[ns] 2017-08-17 2017-08-18 ... 2023-12-06\n",
       "  * component  (component) object 'open' 'high' ... 'FAGI_sentiment_encoded'\n",
       "Dimensions without coordinates: sample\n",
       "Attributes:\n",
       "    static_covariates:  None\n",
       "    hierarchy:          None"
      ]
     },
     "execution_count": 11,
     "metadata": {},
     "output_type": "execute_result"
    }
   ],
   "source": [
    "from darts.utils.missing_values import fill_missing_values\n",
    "scaled_df = fill_missing_values(scaled_df)\n",
    "scaled_df\n"
   ]
  },
  {
   "cell_type": "markdown",
   "metadata": {},
   "source": [
    "### __*Train Test Split*__"
   ]
  },
  {
   "cell_type": "code",
   "execution_count": 12,
   "metadata": {},
   "outputs": [
    {
     "data": {
      "text/plain": [
       "<Axes: xlabel='date'>"
      ]
     },
     "execution_count": 12,
     "metadata": {},
     "output_type": "execute_result"
    },
    {
     "data": {
      "image/png": "[encoded data removed]",
      "text/plain": [
       "<Figure size 640x480 with 1 Axes>"
      ]
     },
     "metadata": {},
     "output_type": "display_data"
    }
   ],
   "source": [
    "train, val = (scaled_df).split_before(0.8)\n",
    "train.plot(label=\"training\")\n"
   ]
  },
  {
   "cell_type": "code",
   "execution_count": 13,
   "metadata": {},
   "outputs": [],
   "source": [
    "val,test = (val).split_before(0.5)\n"
   ]
  },
  {
   "cell_type": "markdown",
   "metadata": {},
   "source": [
    "### __*Setup Earlystopping and the train on GPU*__"
   ]
  },
  {
   "cell_type": "code",
   "execution_count": 14,
   "metadata": {},
   "outputs": [
    {
     "data": {
      "text/plain": [
       "'pl_trainer_kwargs={\"callbacks\": [stopper],\\n                   \"accelerator\": \"gpu\",\\n                   \"devices\": [0]}'"
      ]
     },
     "execution_count": 14,
     "metadata": {},
     "output_type": "execute_result"
    }
   ],
   "source": [
    "from pytorch_lightning.callbacks.early_stopping import EarlyStopping\n",
    "\n",
    "# stop training when validation loss does not decrease more than 0.05 (`min_delta`) over\n",
    "# a period of 5 epochs (`patience`)\n",
    "stopper = EarlyStopping(\n",
    "    monitor=\"val_loss\",\n",
    "    patience=30,\n",
    "    min_delta=0.005,\n",
    "    mode='min',\n",
    ")\n",
    "\n",
    "\"\"\"pl_trainer_kwargs={\"callbacks\": [stopper],\n",
    "                   \"accelerator\": \"gpu\",\n",
    "                   \"devices\": [0]}\"\"\"\n"
   ]
  },
  {
   "cell_type": "markdown",
   "metadata": {},
   "source": [
    "### __*Instanciate BlockRNNMODEL*__"
   ]
  },
  {
   "cell_type": "code",
   "execution_count": 15,
   "metadata": {},
   "outputs": [],
   "source": [
    "# predict 15 days considering the latest 45 days\n",
    "\n",
    "model_covariates = BlockRNNModel(\n",
    "    model=\"LSTM\",\n",
    "    input_chunk_length=25,\n",
    "    output_chunk_length=7,\n",
    "    #dropout=0.2,\n",
    "    torch_metrics= SymmetricMeanAbsolutePercentageError(),\n",
    "    n_epochs=100,\n",
    "    #pl_trainer_kwargs = pl_trainer_kwargs,\n",
    "    random_state=0,\n",
    ")\n"
   ]
  },
  {
   "cell_type": "markdown",
   "metadata": {},
   "source": [
    "### __*Train the model*__"
   ]
  },
  {
   "cell_type": "code",
   "execution_count": 16,
   "metadata": {},
   "outputs": [
    {
     "data": {
      "application/vnd.jupyter.widget-view+json": {
       "model_id": "a0f2439a05d746749f9fef9c8d09ec80",
       "version_major": 2,
       "version_minor": 0
      },
      "text/plain": [
       "Sanity Checking: |          | 0/? [00:00<?, ?it/s]"
      ]
     },
     "metadata": {},
     "output_type": "display_data"
    },
    {
     "data": {
      "application/vnd.jupyter.widget-view+json": {
       "model_id": "d596cf36856e4fc385a743c57900d214",
       "version_major": 2,
       "version_minor": 0
      },
      "text/plain": [
       "Training: |          | 0/? [00:00<?, ?it/s]"
      ]
     },
     "metadata": {},
     "output_type": "display_data"
    },
    {
     "data": {
      "application/vnd.jupyter.widget-view+json": {
       "model_id": "e3c3edb56fbf4d2790895fe67e98fc04",
       "version_major": 2,
       "version_minor": 0
      },
      "text/plain": [
       "Validation: |          | 0/? [00:00<?, ?it/s]"
      ]
     },
     "metadata": {},
     "output_type": "display_data"
    },
    {
     "data": {
      "application/vnd.jupyter.widget-view+json": {
       "model_id": "c57e0a9896774bafa577dd86f95f2c4e",
       "version_major": 2,
       "version_minor": 0
      },
      "text/plain": [
       "Validation: |          | 0/? [00:00<?, ?it/s]"
      ]
     },
     "metadata": {},
     "output_type": "display_data"
    },
    {
     "data": {
      "application/vnd.jupyter.widget-view+json": {
       "model_id": "46e72c2d591b4e50a4a149bf676557e5",
       "version_major": 2,
       "version_minor": 0
      },
      "text/plain": [
       "Validation: |          | 0/? [00:00<?, ?it/s]"
      ]
     },
     "metadata": {},
     "output_type": "display_data"
    },
    {
     "data": {
      "application/vnd.jupyter.widget-view+json": {
       "model_id": "a8ec65be10834d19ace0976e7735d88f",
       "version_major": 2,
       "version_minor": 0
      },
      "text/plain": [
       "Validation: |          | 0/? [00:00<?, ?it/s]"
      ]
     },
     "metadata": {},
     "output_type": "display_data"
    },
    {
     "data": {
      "application/vnd.jupyter.widget-view+json": {
       "model_id": "4b0e0e2d02ec4787b7f2f849f8510fc5",
       "version_major": 2,
       "version_minor": 0
      },
      "text/plain": [
       "Validation: |          | 0/? [00:00<?, ?it/s]"
      ]
     },
     "metadata": {},
     "output_type": "display_data"
    },
    {
     "data": {
      "application/vnd.jupyter.widget-view+json": {
       "model_id": "07f69b07e1ec4cc2a7a65f23ca72e430",
       "version_major": 2,
       "version_minor": 0
      },
      "text/plain": [
       "Validation: |          | 0/? [00:00<?, ?it/s]"
      ]
     },
     "metadata": {},
     "output_type": "display_data"
    },
    {
     "data": {
      "application/vnd.jupyter.widget-view+json": {
       "model_id": "37a02dae98124c89989ed3f0c69053cc",
       "version_major": 2,
       "version_minor": 0
      },
      "text/plain": [
       "Validation: |          | 0/? [00:00<?, ?it/s]"
      ]
     },
     "metadata": {},
     "output_type": "display_data"
    },
    {
     "data": {
      "application/vnd.jupyter.widget-view+json": {
       "model_id": "cab47f1de6154dc38b3a5595138064ba",
       "version_major": 2,
       "version_minor": 0
      },
      "text/plain": [
       "Validation: |          | 0/? [00:00<?, ?it/s]"
      ]
     },
     "metadata": {},
     "output_type": "display_data"
    },
    {
     "data": {
      "application/vnd.jupyter.widget-view+json": {
       "model_id": "e77659235ee24a09ad70cafc3531546e",
       "version_major": 2,
       "version_minor": 0
      },
      "text/plain": [
       "Validation: |          | 0/? [00:00<?, ?it/s]"
      ]
     },
     "metadata": {},
     "output_type": "display_data"
    },
    {
     "data": {
      "application/vnd.jupyter.widget-view+json": {
       "model_id": "a81db72ecb22416da7434d07c564e972",
       "version_major": 2,
       "version_minor": 0
      },
      "text/plain": [
       "Validation: |          | 0/? [00:00<?, ?it/s]"
      ]
     },
     "metadata": {},
     "output_type": "display_data"
    },
    {
     "data": {
      "application/vnd.jupyter.widget-view+json": {
       "model_id": "5997906ce2704b2f82a5c46eaaf4a83f",
       "version_major": 2,
       "version_minor": 0
      },
      "text/plain": [
       "Validation: |          | 0/? [00:00<?, ?it/s]"
      ]
     },
     "metadata": {},
     "output_type": "display_data"
    },
    {
     "data": {
      "application/vnd.jupyter.widget-view+json": {
       "model_id": "f539bccc3de24e06938741066e9cef53",
       "version_major": 2,
       "version_minor": 0
      },
      "text/plain": [
       "Validation: |          | 0/? [00:00<?, ?it/s]"
      ]
     },
     "metadata": {},
     "output_type": "display_data"
    },
    {
     "data": {
      "application/vnd.jupyter.widget-view+json": {
       "model_id": "b6d20d439ac348149b67c43ebbcd11fb",
       "version_major": 2,
       "version_minor": 0
      },
      "text/plain": [
       "Validation: |          | 0/? [00:00<?, ?it/s]"
      ]
     },
     "metadata": {},
     "output_type": "display_data"
    },
    {
     "data": {
      "application/vnd.jupyter.widget-view+json": {
       "model_id": "c035d641c9b341a19f209c5247f4985d",
       "version_major": 2,
       "version_minor": 0
      },
      "text/plain": [
       "Validation: |          | 0/? [00:00<?, ?it/s]"
      ]
     },
     "metadata": {},
     "output_type": "display_data"
    },
    {
     "data": {
      "application/vnd.jupyter.widget-view+json": {
       "model_id": "37893782eb214328b59d20dd5fa260f2",
       "version_major": 2,
       "version_minor": 0
      },
      "text/plain": [
       "Validation: |          | 0/? [00:00<?, ?it/s]"
      ]
     },
     "metadata": {},
     "output_type": "display_data"
    },
    {
     "data": {
      "application/vnd.jupyter.widget-view+json": {
       "model_id": "a531537d4cb84cd983cd31acc0aabe64",
       "version_major": 2,
       "version_minor": 0
      },
      "text/plain": [
       "Validation: |          | 0/? [00:00<?, ?it/s]"
      ]
     },
     "metadata": {},
     "output_type": "display_data"
    },
    {
     "data": {
      "application/vnd.jupyter.widget-view+json": {
       "model_id": "39aa3a893f654a35b9a08bb74660ecd9",
       "version_major": 2,
       "version_minor": 0
      },
      "text/plain": [
       "Validation: |          | 0/? [00:00<?, ?it/s]"
      ]
     },
     "metadata": {},
     "output_type": "display_data"
    },
    {
     "data": {
      "application/vnd.jupyter.widget-view+json": {
       "model_id": "11c00b8d5a6342359fab183ad971b538",
       "version_major": 2,
       "version_minor": 0
      },
      "text/plain": [
       "Validation: |          | 0/? [00:00<?, ?it/s]"
      ]
     },
     "metadata": {},
     "output_type": "display_data"
    },
    {
     "data": {
      "application/vnd.jupyter.widget-view+json": {
       "model_id": "fd3d0a8ba923462b9f6f134364814c63",
       "version_major": 2,
       "version_minor": 0
      },
      "text/plain": [
       "Validation: |          | 0/? [00:00<?, ?it/s]"
      ]
     },
     "metadata": {},
     "output_type": "display_data"
    },
    {
     "data": {
      "application/vnd.jupyter.widget-view+json": {
       "model_id": "e88dcf1e2cbd4d59bc7fecef4963fbc9",
       "version_major": 2,
       "version_minor": 0
      },
      "text/plain": [
       "Validation: |          | 0/? [00:00<?, ?it/s]"
      ]
     },
     "metadata": {},
     "output_type": "display_data"
    },
    {
     "data": {
      "application/vnd.jupyter.widget-view+json": {
       "model_id": "92f88958a6de459dae77a3da8867056f",
       "version_major": 2,
       "version_minor": 0
      },
      "text/plain": [
       "Validation: |          | 0/? [00:00<?, ?it/s]"
      ]
     },
     "metadata": {},
     "output_type": "display_data"
    },
    {
     "data": {
      "application/vnd.jupyter.widget-view+json": {
       "model_id": "5aca10b8f4284148ac320462a08c8cec",
       "version_major": 2,
       "version_minor": 0
      },
      "text/plain": [
       "Validation: |          | 0/? [00:00<?, ?it/s]"
      ]
     },
     "metadata": {},
     "output_type": "display_data"
    },
    {
     "data": {
      "application/vnd.jupyter.widget-view+json": {
       "model_id": "3e80d5fb22ad4c54896528e4090e99ed",
       "version_major": 2,
       "version_minor": 0
      },
      "text/plain": [
       "Validation: |          | 0/? [00:00<?, ?it/s]"
      ]
     },
     "metadata": {},
     "output_type": "display_data"
    },
    {
     "data": {
      "application/vnd.jupyter.widget-view+json": {
       "model_id": "ed3abcbfc1d84c6dbd93d21c2084e050",
       "version_major": 2,
       "version_minor": 0
      },
      "text/plain": [
       "Validation: |          | 0/? [00:00<?, ?it/s]"
      ]
     },
     "metadata": {},
     "output_type": "display_data"
    },
    {
     "data": {
      "application/vnd.jupyter.widget-view+json": {
       "model_id": "6eb23793b1be4a019b2650f7c93e3e05",
       "version_major": 2,
       "version_minor": 0
      },
      "text/plain": [
       "Validation: |          | 0/? [00:00<?, ?it/s]"
      ]
     },
     "metadata": {},
     "output_type": "display_data"
    },
    {
     "data": {
      "application/vnd.jupyter.widget-view+json": {
       "model_id": "9ed0971bb7104a078c1a74648181cd3a",
       "version_major": 2,
       "version_minor": 0
      },
      "text/plain": [
       "Validation: |          | 0/? [00:00<?, ?it/s]"
      ]
     },
     "metadata": {},
     "output_type": "display_data"
    },
    {
     "data": {
      "application/vnd.jupyter.widget-view+json": {
       "model_id": "e514fb6f2acc4895accf0fd94064aaf4",
       "version_major": 2,
       "version_minor": 0
      },
      "text/plain": [
       "Validation: |          | 0/? [00:00<?, ?it/s]"
      ]
     },
     "metadata": {},
     "output_type": "display_data"
    },
    {
     "data": {
      "application/vnd.jupyter.widget-view+json": {
       "model_id": "ff6f59cc1d9f43d69e4cd77f6c3d62bd",
       "version_major": 2,
       "version_minor": 0
      },
      "text/plain": [
       "Validation: |          | 0/? [00:00<?, ?it/s]"
      ]
     },
     "metadata": {},
     "output_type": "display_data"
    },
    {
     "data": {
      "application/vnd.jupyter.widget-view+json": {
       "model_id": "12d367c17e6b43ea93fd46d5c17600e4",
       "version_major": 2,
       "version_minor": 0
      },
      "text/plain": [
       "Validation: |          | 0/? [00:00<?, ?it/s]"
      ]
     },
     "metadata": {},
     "output_type": "display_data"
    },
    {
     "data": {
      "application/vnd.jupyter.widget-view+json": {
       "model_id": "80a4341c8c0943658a18af4ae6ab9ca6",
       "version_major": 2,
       "version_minor": 0
      },
      "text/plain": [
       "Validation: |          | 0/? [00:00<?, ?it/s]"
      ]
     },
     "metadata": {},
     "output_type": "display_data"
    },
    {
     "data": {
      "application/vnd.jupyter.widget-view+json": {
       "model_id": "0759bba07820403f9551c2f763a2a166",
       "version_major": 2,
       "version_minor": 0
      },
      "text/plain": [
       "Validation: |          | 0/? [00:00<?, ?it/s]"
      ]
     },
     "metadata": {},
     "output_type": "display_data"
    },
    {
     "data": {
      "application/vnd.jupyter.widget-view+json": {
       "model_id": "c7d1dc5147ee461a882c1f0e8c1b7fb3",
       "version_major": 2,
       "version_minor": 0
      },
      "text/plain": [
       "Validation: |          | 0/? [00:00<?, ?it/s]"
      ]
     },
     "metadata": {},
     "output_type": "display_data"
    },
    {
     "data": {
      "application/vnd.jupyter.widget-view+json": {
       "model_id": "71a34b8af381478280ea4191f3c19d63",
       "version_major": 2,
       "version_minor": 0
      },
      "text/plain": [
       "Validation: |          | 0/? [00:00<?, ?it/s]"
      ]
     },
     "metadata": {},
     "output_type": "display_data"
    },
    {
     "data": {
      "application/vnd.jupyter.widget-view+json": {
       "model_id": "d4d67d952761497cbb42400ff7b7e41e",
       "version_major": 2,
       "version_minor": 0
      },
      "text/plain": [
       "Validation: |          | 0/? [00:00<?, ?it/s]"
      ]
     },
     "metadata": {},
     "output_type": "display_data"
    },
    {
     "data": {
      "application/vnd.jupyter.widget-view+json": {
       "model_id": "f27b8469edd54333b9a321c6356e338f",
       "version_major": 2,
       "version_minor": 0
      },
      "text/plain": [
       "Validation: |          | 0/? [00:00<?, ?it/s]"
      ]
     },
     "metadata": {},
     "output_type": "display_data"
    },
    {
     "data": {
      "application/vnd.jupyter.widget-view+json": {
       "model_id": "8b82d4c2f6044740ab7b900e851e2654",
       "version_major": 2,
       "version_minor": 0
      },
      "text/plain": [
       "Validation: |          | 0/? [00:00<?, ?it/s]"
      ]
     },
     "metadata": {},
     "output_type": "display_data"
    },
    {
     "data": {
      "application/vnd.jupyter.widget-view+json": {
       "model_id": "fa29409475ac448fb1770d3c18c9378b",
       "version_major": 2,
       "version_minor": 0
      },
      "text/plain": [
       "Validation: |          | 0/? [00:00<?, ?it/s]"
      ]
     },
     "metadata": {},
     "output_type": "display_data"
    },
    {
     "data": {
      "application/vnd.jupyter.widget-view+json": {
       "model_id": "ed298cbdd623491dbea624e32183a941",
       "version_major": 2,
       "version_minor": 0
      },
      "text/plain": [
       "Validation: |          | 0/? [00:00<?, ?it/s]"
      ]
     },
     "metadata": {},
     "output_type": "display_data"
    },
    {
     "data": {
      "application/vnd.jupyter.widget-view+json": {
       "model_id": "6b1c1123e30f4c78819b026d351d5937",
       "version_major": 2,
       "version_minor": 0
      },
      "text/plain": [
       "Validation: |          | 0/? [00:00<?, ?it/s]"
      ]
     },
     "metadata": {},
     "output_type": "display_data"
    },
    {
     "data": {
      "application/vnd.jupyter.widget-view+json": {
       "model_id": "634bd4fb00ac461a8f5de380850e4d03",
       "version_major": 2,
       "version_minor": 0
      },
      "text/plain": [
       "Validation: |          | 0/? [00:00<?, ?it/s]"
      ]
     },
     "metadata": {},
     "output_type": "display_data"
    },
    {
     "data": {
      "application/vnd.jupyter.widget-view+json": {
       "model_id": "5e3c59b7756e4a60a1e4e16d2420da3d",
       "version_major": 2,
       "version_minor": 0
      },
      "text/plain": [
       "Validation: |          | 0/? [00:00<?, ?it/s]"
      ]
     },
     "metadata": {},
     "output_type": "display_data"
    },
    {
     "data": {
      "application/vnd.jupyter.widget-view+json": {
       "model_id": "a79033df156544f0af8f798976137768",
       "version_major": 2,
       "version_minor": 0
      },
      "text/plain": [
       "Validation: |          | 0/? [00:00<?, ?it/s]"
      ]
     },
     "metadata": {},
     "output_type": "display_data"
    },
    {
     "data": {
      "application/vnd.jupyter.widget-view+json": {
       "model_id": "d58382c5c4704296ad725488f2642367",
       "version_major": 2,
       "version_minor": 0
      },
      "text/plain": [
       "Validation: |          | 0/? [00:00<?, ?it/s]"
      ]
     },
     "metadata": {},
     "output_type": "display_data"
    },
    {
     "data": {
      "application/vnd.jupyter.widget-view+json": {
       "model_id": "cc735c69e4fe4c359c3383986e7e8e56",
       "version_major": 2,
       "version_minor": 0
      },
      "text/plain": [
       "Validation: |          | 0/? [00:00<?, ?it/s]"
      ]
     },
     "metadata": {},
     "output_type": "display_data"
    },
    {
     "data": {
      "application/vnd.jupyter.widget-view+json": {
       "model_id": "925166a133e847ca8086463e439fbd06",
       "version_major": 2,
       "version_minor": 0
      },
      "text/plain": [
       "Validation: |          | 0/? [00:00<?, ?it/s]"
      ]
     },
     "metadata": {},
     "output_type": "display_data"
    },
    {
     "data": {
      "application/vnd.jupyter.widget-view+json": {
       "model_id": "5ee9b302e9e34dbc9fbec50d6f5c55b4",
       "version_major": 2,
       "version_minor": 0
      },
      "text/plain": [
       "Validation: |          | 0/? [00:00<?, ?it/s]"
      ]
     },
     "metadata": {},
     "output_type": "display_data"
    },
    {
     "data": {
      "application/vnd.jupyter.widget-view+json": {
       "model_id": "deed370c0e49414ebd3039bc91a6b0eb",
       "version_major": 2,
       "version_minor": 0
      },
      "text/plain": [
       "Validation: |          | 0/? [00:00<?, ?it/s]"
      ]
     },
     "metadata": {},
     "output_type": "display_data"
    },
    {
     "data": {
      "application/vnd.jupyter.widget-view+json": {
       "model_id": "51f3f3ce93f647d292d4b75152204379",
       "version_major": 2,
       "version_minor": 0
      },
      "text/plain": [
       "Validation: |          | 0/? [00:00<?, ?it/s]"
      ]
     },
     "metadata": {},
     "output_type": "display_data"
    },
    {
     "data": {
      "application/vnd.jupyter.widget-view+json": {
       "model_id": "60fd364cb5c54c1aafb3d9f84d15e71e",
       "version_major": 2,
       "version_minor": 0
      },
      "text/plain": [
       "Validation: |          | 0/? [00:00<?, ?it/s]"
      ]
     },
     "metadata": {},
     "output_type": "display_data"
    },
    {
     "data": {
      "application/vnd.jupyter.widget-view+json": {
       "model_id": "49671ed4f4344e72bfb83c183aae9d00",
       "version_major": 2,
       "version_minor": 0
      },
      "text/plain": [
       "Validation: |          | 0/? [00:00<?, ?it/s]"
      ]
     },
     "metadata": {},
     "output_type": "display_data"
    },
    {
     "data": {
      "application/vnd.jupyter.widget-view+json": {
       "model_id": "7df9ebac6699420f8d3c0f33abc4a85d",
       "version_major": 2,
       "version_minor": 0
      },
      "text/plain": [
       "Validation: |          | 0/? [00:00<?, ?it/s]"
      ]
     },
     "metadata": {},
     "output_type": "display_data"
    },
    {
     "data": {
      "application/vnd.jupyter.widget-view+json": {
       "model_id": "1af7eecc16e847f6a6be13f4c35b0807",
       "version_major": 2,
       "version_minor": 0
      },
      "text/plain": [
       "Validation: |          | 0/? [00:00<?, ?it/s]"
      ]
     },
     "metadata": {},
     "output_type": "display_data"
    },
    {
     "data": {
      "application/vnd.jupyter.widget-view+json": {
       "model_id": "ac7b51b36777411085b5a16a91563487",
       "version_major": 2,
       "version_minor": 0
      },
      "text/plain": [
       "Validation: |          | 0/? [00:00<?, ?it/s]"
      ]
     },
     "metadata": {},
     "output_type": "display_data"
    },
    {
     "data": {
      "application/vnd.jupyter.widget-view+json": {
       "model_id": "e1d1cc4b0b1e4ccebd44e0488abb9b73",
       "version_major": 2,
       "version_minor": 0
      },
      "text/plain": [
       "Validation: |          | 0/? [00:00<?, ?it/s]"
      ]
     },
     "metadata": {},
     "output_type": "display_data"
    },
    {
     "data": {
      "application/vnd.jupyter.widget-view+json": {
       "model_id": "1685344aa6fe4ad78336aebd6006e695",
       "version_major": 2,
       "version_minor": 0
      },
      "text/plain": [
       "Validation: |          | 0/? [00:00<?, ?it/s]"
      ]
     },
     "metadata": {},
     "output_type": "display_data"
    },
    {
     "data": {
      "application/vnd.jupyter.widget-view+json": {
       "model_id": "ce7c11180c144568a7184f875c4feb90",
       "version_major": 2,
       "version_minor": 0
      },
      "text/plain": [
       "Validation: |          | 0/? [00:00<?, ?it/s]"
      ]
     },
     "metadata": {},
     "output_type": "display_data"
    },
    {
     "data": {
      "application/vnd.jupyter.widget-view+json": {
       "model_id": "1e3206d70a81453daba907ef938b4158",
       "version_major": 2,
       "version_minor": 0
      },
      "text/plain": [
       "Validation: |          | 0/? [00:00<?, ?it/s]"
      ]
     },
     "metadata": {},
     "output_type": "display_data"
    },
    {
     "data": {
      "application/vnd.jupyter.widget-view+json": {
       "model_id": "4dccb3b188124fcab15e6497455e513a",
       "version_major": 2,
       "version_minor": 0
      },
      "text/plain": [
       "Validation: |          | 0/? [00:00<?, ?it/s]"
      ]
     },
     "metadata": {},
     "output_type": "display_data"
    },
    {
     "data": {
      "application/vnd.jupyter.widget-view+json": {
       "model_id": "5c6dc997a95048c8ba93d0bcf7f8ed00",
       "version_major": 2,
       "version_minor": 0
      },
      "text/plain": [
       "Validation: |          | 0/? [00:00<?, ?it/s]"
      ]
     },
     "metadata": {},
     "output_type": "display_data"
    },
    {
     "data": {
      "application/vnd.jupyter.widget-view+json": {
       "model_id": "1ae5cfec8a4442f49cfc31d028425bfa",
       "version_major": 2,
       "version_minor": 0
      },
      "text/plain": [
       "Validation: |          | 0/? [00:00<?, ?it/s]"
      ]
     },
     "metadata": {},
     "output_type": "display_data"
    },
    {
     "data": {
      "application/vnd.jupyter.widget-view+json": {
       "model_id": "ef6d1dfa343949cfaec045c4f3fe7f4c",
       "version_major": 2,
       "version_minor": 0
      },
      "text/plain": [
       "Validation: |          | 0/? [00:00<?, ?it/s]"
      ]
     },
     "metadata": {},
     "output_type": "display_data"
    },
    {
     "data": {
      "application/vnd.jupyter.widget-view+json": {
       "model_id": "dbceca7e4e1143548c92c5a9d5e10902",
       "version_major": 2,
       "version_minor": 0
      },
      "text/plain": [
       "Validation: |          | 0/? [00:00<?, ?it/s]"
      ]
     },
     "metadata": {},
     "output_type": "display_data"
    },
    {
     "data": {
      "application/vnd.jupyter.widget-view+json": {
       "model_id": "a7acfcf5073148a4b2eab7352a078fe0",
       "version_major": 2,
       "version_minor": 0
      },
      "text/plain": [
       "Validation: |          | 0/? [00:00<?, ?it/s]"
      ]
     },
     "metadata": {},
     "output_type": "display_data"
    },
    {
     "data": {
      "application/vnd.jupyter.widget-view+json": {
       "model_id": "4104a461411d47a6a4f1ebfbbdb4b138",
       "version_major": 2,
       "version_minor": 0
      },
      "text/plain": [
       "Validation: |          | 0/? [00:00<?, ?it/s]"
      ]
     },
     "metadata": {},
     "output_type": "display_data"
    },
    {
     "data": {
      "application/vnd.jupyter.widget-view+json": {
       "model_id": "0bfbefa86bde4a319f321bcb3515d8fe",
       "version_major": 2,
       "version_minor": 0
      },
      "text/plain": [
       "Validation: |          | 0/? [00:00<?, ?it/s]"
      ]
     },
     "metadata": {},
     "output_type": "display_data"
    },
    {
     "data": {
      "application/vnd.jupyter.widget-view+json": {
       "model_id": "72cdb765d37a404c8d66f4b2ae032536",
       "version_major": 2,
       "version_minor": 0
      },
      "text/plain": [
       "Validation: |          | 0/? [00:00<?, ?it/s]"
      ]
     },
     "metadata": {},
     "output_type": "display_data"
    },
    {
     "data": {
      "application/vnd.jupyter.widget-view+json": {
       "model_id": "b848e2fc91554761be819f79603cc499",
       "version_major": 2,
       "version_minor": 0
      },
      "text/plain": [
       "Validation: |          | 0/? [00:00<?, ?it/s]"
      ]
     },
     "metadata": {},
     "output_type": "display_data"
    },
    {
     "data": {
      "application/vnd.jupyter.widget-view+json": {
       "model_id": "5f50a4c3d64d445e9feac9d804ce6cfb",
       "version_major": 2,
       "version_minor": 0
      },
      "text/plain": [
       "Validation: |          | 0/? [00:00<?, ?it/s]"
      ]
     },
     "metadata": {},
     "output_type": "display_data"
    },
    {
     "data": {
      "application/vnd.jupyter.widget-view+json": {
       "model_id": "02ad3ece46cf472db5ce07fcd77e1a71",
       "version_major": 2,
       "version_minor": 0
      },
      "text/plain": [
       "Validation: |          | 0/? [00:00<?, ?it/s]"
      ]
     },
     "metadata": {},
     "output_type": "display_data"
    },
    {
     "data": {
      "application/vnd.jupyter.widget-view+json": {
       "model_id": "60ee0cf024104e5c979cd8c889f1e503",
       "version_major": 2,
       "version_minor": 0
      },
      "text/plain": [
       "Validation: |          | 0/? [00:00<?, ?it/s]"
      ]
     },
     "metadata": {},
     "output_type": "display_data"
    },
    {
     "data": {
      "application/vnd.jupyter.widget-view+json": {
       "model_id": "8b7ce20d5b3f4c1682fb87cf2ea238ef",
       "version_major": 2,
       "version_minor": 0
      },
      "text/plain": [
       "Validation: |          | 0/? [00:00<?, ?it/s]"
      ]
     },
     "metadata": {},
     "output_type": "display_data"
    },
    {
     "data": {
      "application/vnd.jupyter.widget-view+json": {
       "model_id": "7635f41f1bc04ad094ba9510dee9441f",
       "version_major": 2,
       "version_minor": 0
      },
      "text/plain": [
       "Validation: |          | 0/? [00:00<?, ?it/s]"
      ]
     },
     "metadata": {},
     "output_type": "display_data"
    },
    {
     "data": {
      "application/vnd.jupyter.widget-view+json": {
       "model_id": "ced62cec409c4c5cb5d2e3889d433bae",
       "version_major": 2,
       "version_minor": 0
      },
      "text/plain": [
       "Validation: |          | 0/? [00:00<?, ?it/s]"
      ]
     },
     "metadata": {},
     "output_type": "display_data"
    },
    {
     "data": {
      "application/vnd.jupyter.widget-view+json": {
       "model_id": "df3edf83e71f43249086504b9cfe80b7",
       "version_major": 2,
       "version_minor": 0
      },
      "text/plain": [
       "Validation: |          | 0/? [00:00<?, ?it/s]"
      ]
     },
     "metadata": {},
     "output_type": "display_data"
    },
    {
     "data": {
      "application/vnd.jupyter.widget-view+json": {
       "model_id": "b893b9e1370042a4808cd8dca24ad361",
       "version_major": 2,
       "version_minor": 0
      },
      "text/plain": [
       "Validation: |          | 0/? [00:00<?, ?it/s]"
      ]
     },
     "metadata": {},
     "output_type": "display_data"
    },
    {
     "data": {
      "application/vnd.jupyter.widget-view+json": {
       "model_id": "b4a4d0c67bc846318002df0f1c6fe15b",
       "version_major": 2,
       "version_minor": 0
      },
      "text/plain": [
       "Validation: |          | 0/? [00:00<?, ?it/s]"
      ]
     },
     "metadata": {},
     "output_type": "display_data"
    },
    {
     "data": {
      "application/vnd.jupyter.widget-view+json": {
       "model_id": "39bd6d01288d49a1b2a83865fd112c0a",
       "version_major": 2,
       "version_minor": 0
      },
      "text/plain": [
       "Validation: |          | 0/? [00:00<?, ?it/s]"
      ]
     },
     "metadata": {},
     "output_type": "display_data"
    },
    {
     "data": {
      "application/vnd.jupyter.widget-view+json": {
       "model_id": "670ef84919e54371ac4d7481912d9328",
       "version_major": 2,
       "version_minor": 0
      },
      "text/plain": [
       "Validation: |          | 0/? [00:00<?, ?it/s]"
      ]
     },
     "metadata": {},
     "output_type": "display_data"
    },
    {
     "data": {
      "application/vnd.jupyter.widget-view+json": {
       "model_id": "f21ffa5544084cef976b023137473c93",
       "version_major": 2,
       "version_minor": 0
      },
      "text/plain": [
       "Validation: |          | 0/? [00:00<?, ?it/s]"
      ]
     },
     "metadata": {},
     "output_type": "display_data"
    },
    {
     "data": {
      "application/vnd.jupyter.widget-view+json": {
       "model_id": "3b16a86ac8854020ac5605e6b6cdcdca",
       "version_major": 2,
       "version_minor": 0
      },
      "text/plain": [
       "Validation: |          | 0/? [00:00<?, ?it/s]"
      ]
     },
     "metadata": {},
     "output_type": "display_data"
    },
    {
     "data": {
      "application/vnd.jupyter.widget-view+json": {
       "model_id": "ab0d752b10334050896c387b134e870c",
       "version_major": 2,
       "version_minor": 0
      },
      "text/plain": [
       "Validation: |          | 0/? [00:00<?, ?it/s]"
      ]
     },
     "metadata": {},
     "output_type": "display_data"
    },
    {
     "data": {
      "application/vnd.jupyter.widget-view+json": {
       "model_id": "0d23694e1de246a19a135901d61aa040",
       "version_major": 2,
       "version_minor": 0
      },
      "text/plain": [
       "Validation: |          | 0/? [00:00<?, ?it/s]"
      ]
     },
     "metadata": {},
     "output_type": "display_data"
    },
    {
     "data": {
      "application/vnd.jupyter.widget-view+json": {
       "model_id": "4d713781c8bb442bb1685411e4000a90",
       "version_major": 2,
       "version_minor": 0
      },
      "text/plain": [
       "Validation: |          | 0/? [00:00<?, ?it/s]"
      ]
     },
     "metadata": {},
     "output_type": "display_data"
    },
    {
     "data": {
      "application/vnd.jupyter.widget-view+json": {
       "model_id": "fbd26b0239ef4448ad39a929d9925990",
       "version_major": 2,
       "version_minor": 0
      },
      "text/plain": [
       "Validation: |          | 0/? [00:00<?, ?it/s]"
      ]
     },
     "metadata": {},
     "output_type": "display_data"
    },
    {
     "data": {
      "application/vnd.jupyter.widget-view+json": {
       "model_id": "67845b011eb744ae9db0aa5b6bbebcb6",
       "version_major": 2,
       "version_minor": 0
      },
      "text/plain": [
       "Validation: |          | 0/? [00:00<?, ?it/s]"
      ]
     },
     "metadata": {},
     "output_type": "display_data"
    },
    {
     "data": {
      "application/vnd.jupyter.widget-view+json": {
       "model_id": "8342703798794342ac0e4200d02746ba",
       "version_major": 2,
       "version_minor": 0
      },
      "text/plain": [
       "Validation: |          | 0/? [00:00<?, ?it/s]"
      ]
     },
     "metadata": {},
     "output_type": "display_data"
    },
    {
     "data": {
      "application/vnd.jupyter.widget-view+json": {
       "model_id": "f69c5b82b1c04335ad05e1871d69019d",
       "version_major": 2,
       "version_minor": 0
      },
      "text/plain": [
       "Validation: |          | 0/? [00:00<?, ?it/s]"
      ]
     },
     "metadata": {},
     "output_type": "display_data"
    },
    {
     "data": {
      "application/vnd.jupyter.widget-view+json": {
       "model_id": "0cc1197bff014a60b2ff98dc21b8bd81",
       "version_major": 2,
       "version_minor": 0
      },
      "text/plain": [
       "Validation: |          | 0/? [00:00<?, ?it/s]"
      ]
     },
     "metadata": {},
     "output_type": "display_data"
    },
    {
     "data": {
      "application/vnd.jupyter.widget-view+json": {
       "model_id": "c5b19f02f48743c99891dedf2193bb34",
       "version_major": 2,
       "version_minor": 0
      },
      "text/plain": [
       "Validation: |          | 0/? [00:00<?, ?it/s]"
      ]
     },
     "metadata": {},
     "output_type": "display_data"
    },
    {
     "data": {
      "application/vnd.jupyter.widget-view+json": {
       "model_id": "65a5a613ecec4e9e89d1f785d5e9817d",
       "version_major": 2,
       "version_minor": 0
      },
      "text/plain": [
       "Validation: |          | 0/? [00:00<?, ?it/s]"
      ]
     },
     "metadata": {},
     "output_type": "display_data"
    },
    {
     "data": {
      "application/vnd.jupyter.widget-view+json": {
       "model_id": "9c4578ac18a94461a97be8b23d745b21",
       "version_major": 2,
       "version_minor": 0
      },
      "text/plain": [
       "Validation: |          | 0/? [00:00<?, ?it/s]"
      ]
     },
     "metadata": {},
     "output_type": "display_data"
    },
    {
     "data": {
      "application/vnd.jupyter.widget-view+json": {
       "model_id": "8c34f67b9c3548ca91a1c475822c1392",
       "version_major": 2,
       "version_minor": 0
      },
      "text/plain": [
       "Validation: |          | 0/? [00:00<?, ?it/s]"
      ]
     },
     "metadata": {},
     "output_type": "display_data"
    },
    {
     "data": {
      "application/vnd.jupyter.widget-view+json": {
       "model_id": "d9d0be53151f480b9aeb48090ea1d539",
       "version_major": 2,
       "version_minor": 0
      },
      "text/plain": [
       "Validation: |          | 0/? [00:00<?, ?it/s]"
      ]
     },
     "metadata": {},
     "output_type": "display_data"
    },
    {
     "data": {
      "application/vnd.jupyter.widget-view+json": {
       "model_id": "66b3012e9098402d822ec7464adbc837",
       "version_major": 2,
       "version_minor": 0
      },
      "text/plain": [
       "Validation: |          | 0/? [00:00<?, ?it/s]"
      ]
     },
     "metadata": {},
     "output_type": "display_data"
    },
    {
     "data": {
      "application/vnd.jupyter.widget-view+json": {
       "model_id": "1fb8955e9bed42bc978489e4ad4002ba",
       "version_major": 2,
       "version_minor": 0
      },
      "text/plain": [
       "Validation: |          | 0/? [00:00<?, ?it/s]"
      ]
     },
     "metadata": {},
     "output_type": "display_data"
    },
    {
     "data": {
      "application/vnd.jupyter.widget-view+json": {
       "model_id": "378aa92a54a74fd08730ca2cf42fdba4",
       "version_major": 2,
       "version_minor": 0
      },
      "text/plain": [
       "Validation: |          | 0/? [00:00<?, ?it/s]"
      ]
     },
     "metadata": {},
     "output_type": "display_data"
    },
    {
     "data": {
      "application/vnd.jupyter.widget-view+json": {
       "model_id": "c613ddc7c4f7419d9901ab6642ccce38",
       "version_major": 2,
       "version_minor": 0
      },
      "text/plain": [
       "Validation: |          | 0/? [00:00<?, ?it/s]"
      ]
     },
     "metadata": {},
     "output_type": "display_data"
    },
    {
     "data": {
      "application/vnd.jupyter.widget-view+json": {
       "model_id": "c220f841409c46a799c6ea1513d32a30",
       "version_major": 2,
       "version_minor": 0
      },
      "text/plain": [
       "Validation: |          | 0/? [00:00<?, ?it/s]"
      ]
     },
     "metadata": {},
     "output_type": "display_data"
    },
    {
     "data": {
      "application/vnd.jupyter.widget-view+json": {
       "model_id": "066dc5afeece44008ac03734af48f264",
       "version_major": 2,
       "version_minor": 0
      },
      "text/plain": [
       "Validation: |          | 0/? [00:00<?, ?it/s]"
      ]
     },
     "metadata": {},
     "output_type": "display_data"
    },
    {
     "data": {
      "application/vnd.jupyter.widget-view+json": {
       "model_id": "b75e990c4ae14238b6a8f7ee1257b53a",
       "version_major": 2,
       "version_minor": 0
      },
      "text/plain": [
       "Validation: |          | 0/? [00:00<?, ?it/s]"
      ]
     },
     "metadata": {},
     "output_type": "display_data"
    },
    {
     "data": {
      "text/plain": [
       "BlockRNNModel(model=LSTM, hidden_dim=25, n_rnn_layers=1, hidden_fc_sizes=None, dropout=0.0, input_chunk_length=25, output_chunk_length=7, torch_metrics=SymmetricMeanAbsolutePercentageError(), n_epochs=100, random_state=0)"
      ]
     },
     "execution_count": 16,
     "metadata": {},
     "output_type": "execute_result"
    }
   ],
   "source": [
    "model_covariates.fit(\n",
    "    series=[train[\"close\"]],    # the target training data\n",
    "    past_covariates=train,     # the multi covariate features training data\n",
    "    val_series=[val[\"close\"]],  # the target validation data\n",
    "    val_past_covariates=val,   # the multi covariate features validation data\n",
    "    verbose=True,\n",
    ")\n"
   ]
  },
  {
   "cell_type": "markdown",
   "metadata": {},
   "source": [
    "### __*Do a prediction*__"
   ]
  },
  {
   "cell_type": "code",
   "execution_count": 17,
   "metadata": {},
   "outputs": [
    {
     "data": {
      "application/vnd.jupyter.widget-view+json": {
       "model_id": "cb41003e89b14c6b8cb65a95612a3fd3",
       "version_major": 2,
       "version_minor": 0
      },
      "text/plain": [
       "Predicting: |          | 0/? [00:00<?, ?it/s]"
      ]
     },
     "metadata": {},
     "output_type": "display_data"
    },
    {
     "data": {
      "text/plain": [
       "<Axes: xlabel='date'>"
      ]
     },
     "execution_count": 17,
     "metadata": {},
     "output_type": "execute_result"
    },
    {
     "data": {
      "image/png": "[encoded data removed]",
      "text/plain": [
       "<Figure size 640x480 with 1 Axes>"
      ]
     },
     "metadata": {},
     "output_type": "display_data"
    }
   ],
   "source": [
    "pred_cov = model_covariates.predict(n=7,                        # n of days to predict\n",
    "                                 series=test[\"close\"][-25-7:-7],       # target input for prediction\n",
    "                                 past_covariates=test[-25-7:-7]) # past-covariates input for prediction\n",
    "\n",
    "test[-7:][\"close\"].plot(label=\"actual\")\n",
    "pred_cov.plot(label=\"forecast\")\n"
   ]
  },
  {
   "cell_type": "markdown",
   "metadata": {},
   "source": [
    "### __*Result of the metrics*__"
   ]
  },
  {
   "cell_type": "code",
   "execution_count": 18,
   "metadata": {},
   "outputs": [
    {
     "data": {
      "text/plain": [
       "7.502413345745689"
      ]
     },
     "execution_count": 18,
     "metadata": {},
     "output_type": "execute_result"
    }
   ],
   "source": [
    "# check the SMAPE error\n",
    "\n",
    "smape(test['close'][-7:], pred_cov)\n"
   ]
  },
  {
   "cell_type": "code",
   "execution_count": 19,
   "metadata": {},
   "outputs": [
    {
     "data": {
      "text/plain": [
       "array([[37723.96],\n",
       "       [38682.52],\n",
       "       [39450.35],\n",
       "       [39972.26],\n",
       "       [41991.1 ],\n",
       "       [44073.32],\n",
       "       [43762.69]])"
      ]
     },
     "execution_count": 19,
     "metadata": {},
     "output_type": "execute_result"
    }
   ],
   "source": [
    "#Real Data\n",
    "ts_scaler_target.inverse_transform(test['close'][-7:]).values()\n"
   ]
  },
  {
   "cell_type": "markdown",
   "metadata": {},
   "source": [
    "### __*Turn Prediction into original scale*__"
   ]
  },
  {
   "cell_type": "code",
   "execution_count": 20,
   "metadata": {},
   "outputs": [
    {
     "data": {
      "text/plain": [
       "array([[37532.67960709],\n",
       "       [39125.5897327 ],\n",
       "       [37522.29596798],\n",
       "       [37971.71474329],\n",
       "       [38145.7930456 ],\n",
       "       [37562.6829874 ],\n",
       "       [39191.50623035]])"
      ]
     },
     "execution_count": 20,
     "metadata": {},
     "output_type": "execute_result"
    }
   ],
   "source": [
    "#Predicted Data\n",
    "ts_scaler_target.inverse_transform(pred_cov).values()\n"
   ]
  },
  {
   "cell_type": "markdown",
   "metadata": {},
   "source": [
    "# __*TransformerModel*__"
   ]
  },
  {
   "cell_type": "code",
   "execution_count": 21,
   "metadata": {},
   "outputs": [
    {
     "data": {
      "text/plain": [
       "'\\nmodel = TransformerModel(\\n    input_chunk_length=25,\\n    output_chunk_length=7,\\n    n_epochs=20\\n)\\n'"
      ]
     },
     "execution_count": 21,
     "metadata": {},
     "output_type": "execute_result"
    }
   ],
   "source": [
    "\"\"\"\n",
    "model = TransformerModel(\n",
    "    input_chunk_length=25,\n",
    "    output_chunk_length=7,\n",
    "    n_epochs=20\n",
    ")\n",
    "\"\"\"\n"
   ]
  },
  {
   "cell_type": "code",
   "execution_count": 22,
   "metadata": {},
   "outputs": [
    {
     "data": {
      "text/plain": [
       "'\\nmodel.fit(target, past_covariates=past_cov)\\npred = model.predict(6)\\npred.values()\\n'"
      ]
     },
     "execution_count": 22,
     "metadata": {},
     "output_type": "execute_result"
    }
   ],
   "source": [
    "\"\"\"\n",
    "model.fit(target, past_covariates=past_cov)\n",
    "pred = model.predict(6)\n",
    "pred.values()\n",
    "\"\"\"\n"
   ]
  },
  {
   "cell_type": "markdown",
   "metadata": {},
   "source": [
    "# __*XGBModel!!*__"
   ]
  },
  {
   "cell_type": "code",
   "execution_count": 23,
   "metadata": {},
   "outputs": [
    {
     "data": {
      "text/plain": [
       "'\\nmodel = XGBModel(\\n    lags=25,\\n    lags_past_covariates=25,\\n    #lags_future_covariates=[0,1,2,3,4,5],\\n    output_chunk_length=6,\\n)\\n'"
      ]
     },
     "execution_count": 23,
     "metadata": {},
     "output_type": "execute_result"
    }
   ],
   "source": [
    "\"\"\"\n",
    "model = XGBModel(\n",
    "    lags=25,\n",
    "    lags_past_covariates=25,\n",
    "    #lags_future_covariates=[0,1,2,3,4,5],\n",
    "    output_chunk_length=6,\n",
    ")\n",
    "\"\"\"\n"
   ]
  },
  {
   "cell_type": "code",
   "execution_count": 24,
   "metadata": {},
   "outputs": [
    {
     "data": {
      "text/plain": [
       "'\\nmodel.fit(val[\"close\"], past_covariates=, future_covariates=)\\npred = model.predict(6)\\npred.values()\\n\\n'"
      ]
     },
     "execution_count": 24,
     "metadata": {},
     "output_type": "execute_result"
    }
   ],
   "source": [
    "\"\"\"\n",
    "model.fit(val[\"close\"], past_covariates=, future_covariates=)\n",
    "pred = model.predict(6)\n",
    "pred.values()\n",
    "\n",
    "\"\"\"\n"
   ]
  }
 ],
 "metadata": {
  "kernelspec": {
   "display_name": "crypto_market_assistant",
   "language": "python",
   "name": "python3"
  },
  "language_info": {
   "codemirror_mode": {
    "name": "ipython",
    "version": 3
   },
   "file_extension": ".py",
   "mimetype": "text/x-python",
   "name": "python",
   "nbconvert_exporter": "python",
   "pygments_lexer": "ipython3",
   "version": "3.10.6"
  }
 },
 "nbformat": 4,
 "nbformat_minor": 2
}
