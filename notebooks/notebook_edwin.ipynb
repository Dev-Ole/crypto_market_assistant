{
 "cells": [
  {
   "cell_type": "markdown",
   "metadata": {},
   "source": []
  },
  {
   "cell_type": "markdown",
   "metadata": {},
   "source": [
    "### __*Install packages, Imports, DataFrame*__"
   ]
  },
  {
   "cell_type": "code",
   "execution_count": 1,
   "metadata": {},
   "outputs": [],
   "source": [
    "\n",
    "from torchmetrics import SymmetricMeanAbsolutePercentageError, MeanSquaredError, MeanAbsoluteError\n",
    "\n",
    "\n",
    "import torch\n",
    "\n",
    "from darts.utils.timeseries_generation import (\n",
    "    gaussian_timeseries,\n",
    "    linear_timeseries,\n",
    "    sine_timeseries,\n",
    ")\n",
    "\n",
    "from darts.models import (\n",
    "    RNNModel,\n",
    "    TCNModel,\n",
    "    TransformerModel,\n",
    "    NBEATSModel,\n",
    "    BlockRNNModel,\n",
    "    VARIMA,\n",
    ")\n",
    "\n",
    "from darts.metrics import mape, smape, mae\n",
    "from darts.dataprocessing.transformers import Scaler\n",
    "from darts.utils.timeseries_generation import datetime_attribute_timeseries\n",
    "from darts.datasets import AirPassengersDataset, MonthlyMilkDataset, ElectricityDataset\n",
    "\n",
    "import logging\n",
    "\n",
    "logging.disable(logging.CRITICAL)\n",
    "\n",
    "import warnings\n",
    "\n",
    "warnings.filterwarnings(\"ignore\")\n",
    "\n",
    "\n",
    "%matplotlib inline\n",
    "\n",
    "import numpy as np\n",
    "\n",
    "# for reproducibility\n",
    "torch.manual_seed(1)\n",
    "np.random.seed(1)\n"
   ]
  },
  {
   "cell_type": "code",
   "execution_count": 2,
   "metadata": {},
   "outputs": [],
   "source": [
    "# testing\n",
    "\n",
    "import pandas as pd\n",
    "\n",
    "import datetime as dt\n",
    "import matplotlib.pyplot as plt\n",
    "\n",
    "from darts import TimeSeries\n",
    "from sklearn.preprocessing import MinMaxScaler\n",
    "\n",
    "\n",
    "from darts.utils.missing_values import fill_missing_values\n",
    "\n",
    "from sklearn.preprocessing import OrdinalEncoder, MinMaxScaler, RobustScaler, StandardScaler\n",
    "from crypto_assist.data_preprocess import preprocessor_not_scaled\n"
   ]
  },
  {
   "cell_type": "code",
   "execution_count": 3,
   "metadata": {},
   "outputs": [
    {
     "name": "stdout",
     "output_type": "stream",
     "text": [
      "✅ Data has been merged\n",
      "✅ Data has been imputed\n",
      "✅ Data has been processed\n"
     ]
    }
   ],
   "source": [
    "df = preprocessor_not_scaled('BTCUSDT_daily_Binance.csv','final_text_df.csv','social_number_data.csv','FearAndGreedIndex.csv')\n"
   ]
  },
  {
   "cell_type": "code",
   "execution_count": 4,
   "metadata": {},
   "outputs": [
    {
     "data": {
      "text/html": [
       "<div>\n",
       "<style scoped>\n",
       "    .dataframe tbody tr th:only-of-type {\n",
       "        vertical-align: middle;\n",
       "    }\n",
       "\n",
       "    .dataframe tbody tr th {\n",
       "        vertical-align: top;\n",
       "    }\n",
       "\n",
       "    .dataframe thead th {\n",
       "        text-align: right;\n",
       "    }\n",
       "</style>\n",
       "<table border=\"1\" class=\"dataframe\">\n",
       "  <thead>\n",
       "    <tr style=\"text-align: right;\">\n",
       "      <th></th>\n",
       "      <th>date</th>\n",
       "      <th>open</th>\n",
       "      <th>high</th>\n",
       "      <th>low</th>\n",
       "      <th>close</th>\n",
       "      <th>volume BTC</th>\n",
       "      <th>volume USD</th>\n",
       "      <th>FAGI_score</th>\n",
       "      <th>scored_title</th>\n",
       "      <th>scored_text</th>\n",
       "      <th>average_score</th>\n",
       "      <th>twitter_followers</th>\n",
       "      <th>twitter_favourites</th>\n",
       "      <th>reddit_subscribers</th>\n",
       "      <th>reddit_active_users</th>\n",
       "      <th>reddit_comments_per_day</th>\n",
       "      <th>FAGI_sentiment_encoded</th>\n",
       "    </tr>\n",
       "  </thead>\n",
       "  <tbody>\n",
       "    <tr>\n",
       "      <th>0</th>\n",
       "      <td>2017-08-17</td>\n",
       "      <td>4261.48</td>\n",
       "      <td>4485.39</td>\n",
       "      <td>4200.74</td>\n",
       "      <td>4285.08</td>\n",
       "      <td>795.150377</td>\n",
       "      <td>3.454770e+06</td>\n",
       "      <td>50.0</td>\n",
       "      <td>0.000000</td>\n",
       "      <td>0.000000</td>\n",
       "      <td>0.000000</td>\n",
       "      <td>1.000000e+03</td>\n",
       "      <td>2163.435644</td>\n",
       "      <td>1.000000e+03</td>\n",
       "      <td>1747.715439</td>\n",
       "      <td>699.824346</td>\n",
       "      <td>2.0</td>\n",
       "    </tr>\n",
       "    <tr>\n",
       "      <th>1</th>\n",
       "      <td>2017-08-18</td>\n",
       "      <td>4285.08</td>\n",
       "      <td>4371.52</td>\n",
       "      <td>3938.77</td>\n",
       "      <td>4108.37</td>\n",
       "      <td>1199.888264</td>\n",
       "      <td>5.086958e+06</td>\n",
       "      <td>50.0</td>\n",
       "      <td>0.000000</td>\n",
       "      <td>0.000000</td>\n",
       "      <td>0.000000</td>\n",
       "      <td>2.209748e+03</td>\n",
       "      <td>2163.435644</td>\n",
       "      <td>1.419855e+03</td>\n",
       "      <td>1747.715439</td>\n",
       "      <td>699.824346</td>\n",
       "      <td>2.0</td>\n",
       "    </tr>\n",
       "    <tr>\n",
       "      <th>2</th>\n",
       "      <td>2017-08-19</td>\n",
       "      <td>4108.37</td>\n",
       "      <td>4184.69</td>\n",
       "      <td>3850.00</td>\n",
       "      <td>4139.98</td>\n",
       "      <td>381.309763</td>\n",
       "      <td>1.549484e+06</td>\n",
       "      <td>50.0</td>\n",
       "      <td>0.000000</td>\n",
       "      <td>0.000000</td>\n",
       "      <td>0.000000</td>\n",
       "      <td>3.419496e+03</td>\n",
       "      <td>2163.435644</td>\n",
       "      <td>1.839711e+03</td>\n",
       "      <td>1747.715439</td>\n",
       "      <td>699.824346</td>\n",
       "      <td>2.0</td>\n",
       "    </tr>\n",
       "    <tr>\n",
       "      <th>3</th>\n",
       "      <td>2017-08-20</td>\n",
       "      <td>4139.98</td>\n",
       "      <td>4211.08</td>\n",
       "      <td>4032.62</td>\n",
       "      <td>4086.29</td>\n",
       "      <td>467.083022</td>\n",
       "      <td>1.930364e+06</td>\n",
       "      <td>50.0</td>\n",
       "      <td>0.000000</td>\n",
       "      <td>0.000000</td>\n",
       "      <td>0.000000</td>\n",
       "      <td>4.629243e+03</td>\n",
       "      <td>2163.435644</td>\n",
       "      <td>2.259566e+03</td>\n",
       "      <td>1747.715439</td>\n",
       "      <td>699.824346</td>\n",
       "      <td>2.0</td>\n",
       "    </tr>\n",
       "    <tr>\n",
       "      <th>4</th>\n",
       "      <td>2017-08-21</td>\n",
       "      <td>4069.13</td>\n",
       "      <td>4119.62</td>\n",
       "      <td>3911.79</td>\n",
       "      <td>4016.00</td>\n",
       "      <td>691.743060</td>\n",
       "      <td>2.797232e+06</td>\n",
       "      <td>50.0</td>\n",
       "      <td>0.000000</td>\n",
       "      <td>0.000000</td>\n",
       "      <td>0.000000</td>\n",
       "      <td>5.838991e+03</td>\n",
       "      <td>2163.435644</td>\n",
       "      <td>2.679422e+03</td>\n",
       "      <td>1747.715439</td>\n",
       "      <td>699.824346</td>\n",
       "      <td>2.0</td>\n",
       "    </tr>\n",
       "    <tr>\n",
       "      <th>...</th>\n",
       "      <td>...</td>\n",
       "      <td>...</td>\n",
       "      <td>...</td>\n",
       "      <td>...</td>\n",
       "      <td>...</td>\n",
       "      <td>...</td>\n",
       "      <td>...</td>\n",
       "      <td>...</td>\n",
       "      <td>...</td>\n",
       "      <td>...</td>\n",
       "      <td>...</td>\n",
       "      <td>...</td>\n",
       "      <td>...</td>\n",
       "      <td>...</td>\n",
       "      <td>...</td>\n",
       "      <td>...</td>\n",
       "      <td>...</td>\n",
       "    </tr>\n",
       "    <tr>\n",
       "      <th>2292</th>\n",
       "      <td>2023-11-26</td>\n",
       "      <td>37780.67</td>\n",
       "      <td>37814.63</td>\n",
       "      <td>37150.00</td>\n",
       "      <td>37447.43</td>\n",
       "      <td>21264.537230</td>\n",
       "      <td>7.973212e+08</td>\n",
       "      <td>73.0</td>\n",
       "      <td>0.858534</td>\n",
       "      <td>0.957825</td>\n",
       "      <td>0.908179</td>\n",
       "      <td>3.171432e+06</td>\n",
       "      <td>2163.435644</td>\n",
       "      <td>2.593963e+06</td>\n",
       "      <td>794.000000</td>\n",
       "      <td>107.410000</td>\n",
       "      <td>3.0</td>\n",
       "    </tr>\n",
       "    <tr>\n",
       "      <th>2293</th>\n",
       "      <td>2023-11-27</td>\n",
       "      <td>37447.42</td>\n",
       "      <td>37569.23</td>\n",
       "      <td>36707.00</td>\n",
       "      <td>37242.70</td>\n",
       "      <td>30001.073760</td>\n",
       "      <td>1.112557e+09</td>\n",
       "      <td>66.0</td>\n",
       "      <td>0.684048</td>\n",
       "      <td>0.937447</td>\n",
       "      <td>0.810748</td>\n",
       "      <td>3.171829e+06</td>\n",
       "      <td>2163.435644</td>\n",
       "      <td>2.594931e+06</td>\n",
       "      <td>760.000000</td>\n",
       "      <td>102.060000</td>\n",
       "      <td>3.0</td>\n",
       "    </tr>\n",
       "    <tr>\n",
       "      <th>2294</th>\n",
       "      <td>2023-11-28</td>\n",
       "      <td>37242.70</td>\n",
       "      <td>38377.00</td>\n",
       "      <td>36868.41</td>\n",
       "      <td>37818.87</td>\n",
       "      <td>37544.466670</td>\n",
       "      <td>1.414360e+09</td>\n",
       "      <td>68.0</td>\n",
       "      <td>0.640768</td>\n",
       "      <td>0.311340</td>\n",
       "      <td>0.476054</td>\n",
       "      <td>3.172244e+06</td>\n",
       "      <td>2163.435644</td>\n",
       "      <td>2.594931e+06</td>\n",
       "      <td>1747.715439</td>\n",
       "      <td>699.824346</td>\n",
       "      <td>3.0</td>\n",
       "    </tr>\n",
       "    <tr>\n",
       "      <th>2295</th>\n",
       "      <td>2023-11-29</td>\n",
       "      <td>37818.88</td>\n",
       "      <td>38450.00</td>\n",
       "      <td>37570.00</td>\n",
       "      <td>37854.64</td>\n",
       "      <td>32994.191070</td>\n",
       "      <td>1.252587e+09</td>\n",
       "      <td>72.0</td>\n",
       "      <td>0.676125</td>\n",
       "      <td>0.648727</td>\n",
       "      <td>0.662426</td>\n",
       "      <td>3.172934e+06</td>\n",
       "      <td>2163.435644</td>\n",
       "      <td>2.594931e+06</td>\n",
       "      <td>1747.715439</td>\n",
       "      <td>699.824346</td>\n",
       "      <td>3.0</td>\n",
       "    </tr>\n",
       "    <tr>\n",
       "      <th>2296</th>\n",
       "      <td>2023-11-30</td>\n",
       "      <td>37854.65</td>\n",
       "      <td>38145.85</td>\n",
       "      <td>37500.00</td>\n",
       "      <td>37723.96</td>\n",
       "      <td>24740.291470</td>\n",
       "      <td>9.344911e+08</td>\n",
       "      <td>74.0</td>\n",
       "      <td>0.631888</td>\n",
       "      <td>0.589097</td>\n",
       "      <td>0.610492</td>\n",
       "      <td>3.173746e+06</td>\n",
       "      <td>2163.435644</td>\n",
       "      <td>2.594931e+06</td>\n",
       "      <td>1747.715439</td>\n",
       "      <td>699.824346</td>\n",
       "      <td>3.0</td>\n",
       "    </tr>\n",
       "  </tbody>\n",
       "</table>\n",
       "<p>2297 rows × 17 columns</p>\n",
       "</div>"
      ],
      "text/plain": [
       "            date      open      high       low     close    volume BTC  \\\n",
       "0     2017-08-17   4261.48   4485.39   4200.74   4285.08    795.150377   \n",
       "1     2017-08-18   4285.08   4371.52   3938.77   4108.37   1199.888264   \n",
       "2     2017-08-19   4108.37   4184.69   3850.00   4139.98    381.309763   \n",
       "3     2017-08-20   4139.98   4211.08   4032.62   4086.29    467.083022   \n",
       "4     2017-08-21   4069.13   4119.62   3911.79   4016.00    691.743060   \n",
       "...          ...       ...       ...       ...       ...           ...   \n",
       "2292  2023-11-26  37780.67  37814.63  37150.00  37447.43  21264.537230   \n",
       "2293  2023-11-27  37447.42  37569.23  36707.00  37242.70  30001.073760   \n",
       "2294  2023-11-28  37242.70  38377.00  36868.41  37818.87  37544.466670   \n",
       "2295  2023-11-29  37818.88  38450.00  37570.00  37854.64  32994.191070   \n",
       "2296  2023-11-30  37854.65  38145.85  37500.00  37723.96  24740.291470   \n",
       "\n",
       "        volume USD  FAGI_score  scored_title  scored_text  average_score  \\\n",
       "0     3.454770e+06        50.0      0.000000     0.000000       0.000000   \n",
       "1     5.086958e+06        50.0      0.000000     0.000000       0.000000   \n",
       "2     1.549484e+06        50.0      0.000000     0.000000       0.000000   \n",
       "3     1.930364e+06        50.0      0.000000     0.000000       0.000000   \n",
       "4     2.797232e+06        50.0      0.000000     0.000000       0.000000   \n",
       "...            ...         ...           ...          ...            ...   \n",
       "2292  7.973212e+08        73.0      0.858534     0.957825       0.908179   \n",
       "2293  1.112557e+09        66.0      0.684048     0.937447       0.810748   \n",
       "2294  1.414360e+09        68.0      0.640768     0.311340       0.476054   \n",
       "2295  1.252587e+09        72.0      0.676125     0.648727       0.662426   \n",
       "2296  9.344911e+08        74.0      0.631888     0.589097       0.610492   \n",
       "\n",
       "      twitter_followers  twitter_favourites  reddit_subscribers  \\\n",
       "0          1.000000e+03         2163.435644        1.000000e+03   \n",
       "1          2.209748e+03         2163.435644        1.419855e+03   \n",
       "2          3.419496e+03         2163.435644        1.839711e+03   \n",
       "3          4.629243e+03         2163.435644        2.259566e+03   \n",
       "4          5.838991e+03         2163.435644        2.679422e+03   \n",
       "...                 ...                 ...                 ...   \n",
       "2292       3.171432e+06         2163.435644        2.593963e+06   \n",
       "2293       3.171829e+06         2163.435644        2.594931e+06   \n",
       "2294       3.172244e+06         2163.435644        2.594931e+06   \n",
       "2295       3.172934e+06         2163.435644        2.594931e+06   \n",
       "2296       3.173746e+06         2163.435644        2.594931e+06   \n",
       "\n",
       "      reddit_active_users  reddit_comments_per_day  FAGI_sentiment_encoded  \n",
       "0             1747.715439               699.824346                     2.0  \n",
       "1             1747.715439               699.824346                     2.0  \n",
       "2             1747.715439               699.824346                     2.0  \n",
       "3             1747.715439               699.824346                     2.0  \n",
       "4             1747.715439               699.824346                     2.0  \n",
       "...                   ...                      ...                     ...  \n",
       "2292           794.000000               107.410000                     3.0  \n",
       "2293           760.000000               102.060000                     3.0  \n",
       "2294          1747.715439               699.824346                     3.0  \n",
       "2295          1747.715439               699.824346                     3.0  \n",
       "2296          1747.715439               699.824346                     3.0  \n",
       "\n",
       "[2297 rows x 17 columns]"
      ]
     },
     "execution_count": 4,
     "metadata": {},
     "output_type": "execute_result"
    }
   ],
   "source": [
    "df\n"
   ]
  },
  {
   "cell_type": "code",
   "execution_count": 5,
   "metadata": {},
   "outputs": [],
   "source": [
    "df.index = pd.to_datetime(df.date)\n"
   ]
  },
  {
   "cell_type": "code",
   "execution_count": 6,
   "metadata": {},
   "outputs": [],
   "source": [
    "df.drop(columns=\"date\",inplace=True)\n"
   ]
  },
  {
   "cell_type": "code",
   "execution_count": 7,
   "metadata": {},
   "outputs": [
    {
     "data": {
      "text/html": [
       "<div>\n",
       "<style scoped>\n",
       "    .dataframe tbody tr th:only-of-type {\n",
       "        vertical-align: middle;\n",
       "    }\n",
       "\n",
       "    .dataframe tbody tr th {\n",
       "        vertical-align: top;\n",
       "    }\n",
       "\n",
       "    .dataframe thead th {\n",
       "        text-align: right;\n",
       "    }\n",
       "</style>\n",
       "<table border=\"1\" class=\"dataframe\">\n",
       "  <thead>\n",
       "    <tr style=\"text-align: right;\">\n",
       "      <th></th>\n",
       "      <th>open</th>\n",
       "      <th>high</th>\n",
       "      <th>low</th>\n",
       "      <th>close</th>\n",
       "      <th>volume BTC</th>\n",
       "      <th>volume USD</th>\n",
       "      <th>FAGI_score</th>\n",
       "      <th>scored_title</th>\n",
       "      <th>scored_text</th>\n",
       "      <th>average_score</th>\n",
       "      <th>twitter_followers</th>\n",
       "      <th>twitter_favourites</th>\n",
       "      <th>reddit_subscribers</th>\n",
       "      <th>reddit_active_users</th>\n",
       "      <th>reddit_comments_per_day</th>\n",
       "      <th>FAGI_sentiment_encoded</th>\n",
       "    </tr>\n",
       "    <tr>\n",
       "      <th>date</th>\n",
       "      <th></th>\n",
       "      <th></th>\n",
       "      <th></th>\n",
       "      <th></th>\n",
       "      <th></th>\n",
       "      <th></th>\n",
       "      <th></th>\n",
       "      <th></th>\n",
       "      <th></th>\n",
       "      <th></th>\n",
       "      <th></th>\n",
       "      <th></th>\n",
       "      <th></th>\n",
       "      <th></th>\n",
       "      <th></th>\n",
       "      <th></th>\n",
       "    </tr>\n",
       "  </thead>\n",
       "  <tbody>\n",
       "    <tr>\n",
       "      <th>2023-11-26</th>\n",
       "      <td>37780.67</td>\n",
       "      <td>37814.63</td>\n",
       "      <td>37150.00</td>\n",
       "      <td>37447.43</td>\n",
       "      <td>21264.53723</td>\n",
       "      <td>7.973212e+08</td>\n",
       "      <td>73.0</td>\n",
       "      <td>0.858534</td>\n",
       "      <td>0.957825</td>\n",
       "      <td>0.908179</td>\n",
       "      <td>3171432.0</td>\n",
       "      <td>2163.435644</td>\n",
       "      <td>2593963.0</td>\n",
       "      <td>794.000000</td>\n",
       "      <td>107.410000</td>\n",
       "      <td>3.0</td>\n",
       "    </tr>\n",
       "    <tr>\n",
       "      <th>2023-11-27</th>\n",
       "      <td>37447.42</td>\n",
       "      <td>37569.23</td>\n",
       "      <td>36707.00</td>\n",
       "      <td>37242.70</td>\n",
       "      <td>30001.07376</td>\n",
       "      <td>1.112557e+09</td>\n",
       "      <td>66.0</td>\n",
       "      <td>0.684048</td>\n",
       "      <td>0.937447</td>\n",
       "      <td>0.810748</td>\n",
       "      <td>3171829.0</td>\n",
       "      <td>2163.435644</td>\n",
       "      <td>2594931.0</td>\n",
       "      <td>760.000000</td>\n",
       "      <td>102.060000</td>\n",
       "      <td>3.0</td>\n",
       "    </tr>\n",
       "    <tr>\n",
       "      <th>2023-11-28</th>\n",
       "      <td>37242.70</td>\n",
       "      <td>38377.00</td>\n",
       "      <td>36868.41</td>\n",
       "      <td>37818.87</td>\n",
       "      <td>37544.46667</td>\n",
       "      <td>1.414360e+09</td>\n",
       "      <td>68.0</td>\n",
       "      <td>0.640768</td>\n",
       "      <td>0.311340</td>\n",
       "      <td>0.476054</td>\n",
       "      <td>3172244.0</td>\n",
       "      <td>2163.435644</td>\n",
       "      <td>2594931.0</td>\n",
       "      <td>1747.715439</td>\n",
       "      <td>699.824346</td>\n",
       "      <td>3.0</td>\n",
       "    </tr>\n",
       "    <tr>\n",
       "      <th>2023-11-29</th>\n",
       "      <td>37818.88</td>\n",
       "      <td>38450.00</td>\n",
       "      <td>37570.00</td>\n",
       "      <td>37854.64</td>\n",
       "      <td>32994.19107</td>\n",
       "      <td>1.252587e+09</td>\n",
       "      <td>72.0</td>\n",
       "      <td>0.676125</td>\n",
       "      <td>0.648727</td>\n",
       "      <td>0.662426</td>\n",
       "      <td>3172934.0</td>\n",
       "      <td>2163.435644</td>\n",
       "      <td>2594931.0</td>\n",
       "      <td>1747.715439</td>\n",
       "      <td>699.824346</td>\n",
       "      <td>3.0</td>\n",
       "    </tr>\n",
       "    <tr>\n",
       "      <th>2023-11-30</th>\n",
       "      <td>37854.65</td>\n",
       "      <td>38145.85</td>\n",
       "      <td>37500.00</td>\n",
       "      <td>37723.96</td>\n",
       "      <td>24740.29147</td>\n",
       "      <td>9.344911e+08</td>\n",
       "      <td>74.0</td>\n",
       "      <td>0.631888</td>\n",
       "      <td>0.589097</td>\n",
       "      <td>0.610492</td>\n",
       "      <td>3173746.0</td>\n",
       "      <td>2163.435644</td>\n",
       "      <td>2594931.0</td>\n",
       "      <td>1747.715439</td>\n",
       "      <td>699.824346</td>\n",
       "      <td>3.0</td>\n",
       "    </tr>\n",
       "  </tbody>\n",
       "</table>\n",
       "</div>"
      ],
      "text/plain": [
       "                open      high       low     close   volume BTC    volume USD  \\\n",
       "date                                                                            \n",
       "2023-11-26  37780.67  37814.63  37150.00  37447.43  21264.53723  7.973212e+08   \n",
       "2023-11-27  37447.42  37569.23  36707.00  37242.70  30001.07376  1.112557e+09   \n",
       "2023-11-28  37242.70  38377.00  36868.41  37818.87  37544.46667  1.414360e+09   \n",
       "2023-11-29  37818.88  38450.00  37570.00  37854.64  32994.19107  1.252587e+09   \n",
       "2023-11-30  37854.65  38145.85  37500.00  37723.96  24740.29147  9.344911e+08   \n",
       "\n",
       "            FAGI_score  scored_title  scored_text  average_score  \\\n",
       "date                                                               \n",
       "2023-11-26        73.0      0.858534     0.957825       0.908179   \n",
       "2023-11-27        66.0      0.684048     0.937447       0.810748   \n",
       "2023-11-28        68.0      0.640768     0.311340       0.476054   \n",
       "2023-11-29        72.0      0.676125     0.648727       0.662426   \n",
       "2023-11-30        74.0      0.631888     0.589097       0.610492   \n",
       "\n",
       "            twitter_followers  twitter_favourites  reddit_subscribers  \\\n",
       "date                                                                    \n",
       "2023-11-26          3171432.0         2163.435644           2593963.0   \n",
       "2023-11-27          3171829.0         2163.435644           2594931.0   \n",
       "2023-11-28          3172244.0         2163.435644           2594931.0   \n",
       "2023-11-29          3172934.0         2163.435644           2594931.0   \n",
       "2023-11-30          3173746.0         2163.435644           2594931.0   \n",
       "\n",
       "            reddit_active_users  reddit_comments_per_day  \\\n",
       "date                                                       \n",
       "2023-11-26           794.000000               107.410000   \n",
       "2023-11-27           760.000000               102.060000   \n",
       "2023-11-28          1747.715439               699.824346   \n",
       "2023-11-29          1747.715439               699.824346   \n",
       "2023-11-30          1747.715439               699.824346   \n",
       "\n",
       "            FAGI_sentiment_encoded  \n",
       "date                                \n",
       "2023-11-26                     3.0  \n",
       "2023-11-27                     3.0  \n",
       "2023-11-28                     3.0  \n",
       "2023-11-29                     3.0  \n",
       "2023-11-30                     3.0  "
      ]
     },
     "execution_count": 7,
     "metadata": {},
     "output_type": "execute_result"
    }
   ],
   "source": [
    "df.tail()\n"
   ]
  },
  {
   "cell_type": "markdown",
   "metadata": {},
   "source": [
    "### __*Scaling and Converting the data*__"
   ]
  },
  {
   "cell_type": "code",
   "execution_count": 8,
   "metadata": {},
   "outputs": [],
   "source": [
    "#freq: This parameter defines the frequency or time interval between consecutive data points in the time series.\n",
    "#'D': It means that each data point in the time series corresponds to an hour\n",
    "\n",
    "timeseries = TimeSeries.from_dataframe(df, freq='D')\n"
   ]
  },
  {
   "cell_type": "code",
   "execution_count": 9,
   "metadata": {},
   "outputs": [],
   "source": [
    "# Here we are converting the MinMax scaler to a Time Series version of it\n",
    "\n",
    "from darts.dataprocessing.transformers.scaler import Scaler\n",
    "from sklearn.preprocessing import MinMaxScaler\n",
    "scaler = MinMaxScaler()\n",
    "ts_scaler = Scaler(scaler)\n",
    "ts_scaler_target = Scaler(scaler)\n"
   ]
  },
  {
   "cell_type": "code",
   "execution_count": 10,
   "metadata": {},
   "outputs": [],
   "source": [
    "\n",
    "scaled_df = ts_scaler.fit_transform(timeseries)\n",
    "ts_scaler_target = ts_scaler_target.fit(timeseries[\"close\"])\n"
   ]
  },
  {
   "cell_type": "markdown",
   "metadata": {},
   "source": [
    "### __*Cleaning Missing data*__"
   ]
  },
  {
   "cell_type": "code",
   "execution_count": 11,
   "metadata": {},
   "outputs": [
    {
     "data": {
      "text/html": [
       "<div><svg style=\"position: absolute; width: 0; height: 0; overflow: hidden\">\n",
       "<defs>\n",
       "<symbol id=\"icon-database\" viewBox=\"0 0 32 32\">\n",
       "<path d=\"M16 0c-8.837 0-16 2.239-16 5v4c0 2.761 7.163 5 16 5s16-2.239 16-5v-4c0-2.761-7.163-5-16-5z\"></path>\n",
       "<path d=\"M16 17c-8.837 0-16-2.239-16-5v6c0 2.761 7.163 5 16 5s16-2.239 16-5v-6c0 2.761-7.163 5-16 5z\"></path>\n",
       "<path d=\"M16 26c-8.837 0-16-2.239-16-5v6c0 2.761 7.163 5 16 5s16-2.239 16-5v-6c0 2.761-7.163 5-16 5z\"></path>\n",
       "</symbol>\n",
       "<symbol id=\"icon-file-text2\" viewBox=\"0 0 32 32\">\n",
       "<path d=\"M28.681 7.159c-0.694-0.947-1.662-2.053-2.724-3.116s-2.169-2.030-3.116-2.724c-1.612-1.182-2.393-1.319-2.841-1.319h-15.5c-1.378 0-2.5 1.121-2.5 2.5v27c0 1.378 1.122 2.5 2.5 2.5h23c1.378 0 2.5-1.122 2.5-2.5v-19.5c0-0.448-0.137-1.23-1.319-2.841zM24.543 5.457c0.959 0.959 1.712 1.825 2.268 2.543h-4.811v-4.811c0.718 0.556 1.584 1.309 2.543 2.268zM28 29.5c0 0.271-0.229 0.5-0.5 0.5h-23c-0.271 0-0.5-0.229-0.5-0.5v-27c0-0.271 0.229-0.5 0.5-0.5 0 0 15.499-0 15.5 0v7c0 0.552 0.448 1 1 1h7v19.5z\"></path>\n",
       "<path d=\"M23 26h-14c-0.552 0-1-0.448-1-1s0.448-1 1-1h14c0.552 0 1 0.448 1 1s-0.448 1-1 1z\"></path>\n",
       "<path d=\"M23 22h-14c-0.552 0-1-0.448-1-1s0.448-1 1-1h14c0.552 0 1 0.448 1 1s-0.448 1-1 1z\"></path>\n",
       "<path d=\"M23 18h-14c-0.552 0-1-0.448-1-1s0.448-1 1-1h14c0.552 0 1 0.448 1 1s-0.448 1-1 1z\"></path>\n",
       "</symbol>\n",
       "</defs>\n",
       "</svg>\n",
       "<style>/* CSS stylesheet for displaying xarray objects in jupyterlab.\n",
       " *\n",
       " */\n",
       "\n",
       ":root {\n",
       "  --xr-font-color0: var(--jp-content-font-color0, rgba(0, 0, 0, 1));\n",
       "  --xr-font-color2: var(--jp-content-font-color2, rgba(0, 0, 0, 0.54));\n",
       "  --xr-font-color3: var(--jp-content-font-color3, rgba(0, 0, 0, 0.38));\n",
       "  --xr-border-color: var(--jp-border-color2, #e0e0e0);\n",
       "  --xr-disabled-color: var(--jp-layout-color3, #bdbdbd);\n",
       "  --xr-background-color: var(--jp-layout-color0, white);\n",
       "  --xr-background-color-row-even: var(--jp-layout-color1, white);\n",
       "  --xr-background-color-row-odd: var(--jp-layout-color2, #eeeeee);\n",
       "}\n",
       "\n",
       "html[theme=dark],\n",
       "body[data-theme=dark],\n",
       "body.vscode-dark {\n",
       "  --xr-font-color0: rgba(255, 255, 255, 1);\n",
       "  --xr-font-color2: rgba(255, 255, 255, 0.54);\n",
       "  --xr-font-color3: rgba(255, 255, 255, 0.38);\n",
       "  --xr-border-color: #1F1F1F;\n",
       "  --xr-disabled-color: #515151;\n",
       "  --xr-background-color: #111111;\n",
       "  --xr-background-color-row-even: #111111;\n",
       "  --xr-background-color-row-odd: #313131;\n",
       "}\n",
       "\n",
       ".xr-wrap {\n",
       "  display: block !important;\n",
       "  min-width: 300px;\n",
       "  max-width: 700px;\n",
       "}\n",
       "\n",
       ".xr-text-repr-fallback {\n",
       "  /* fallback to plain text repr when CSS is not injected (untrusted notebook) */\n",
       "  display: none;\n",
       "}\n",
       "\n",
       ".xr-header {\n",
       "  padding-top: 6px;\n",
       "  padding-bottom: 6px;\n",
       "  margin-bottom: 4px;\n",
       "  border-bottom: solid 1px var(--xr-border-color);\n",
       "}\n",
       "\n",
       ".xr-header > div,\n",
       ".xr-header > ul {\n",
       "  display: inline;\n",
       "  margin-top: 0;\n",
       "  margin-bottom: 0;\n",
       "}\n",
       "\n",
       ".xr-obj-type,\n",
       ".xr-array-name {\n",
       "  margin-left: 2px;\n",
       "  margin-right: 10px;\n",
       "}\n",
       "\n",
       ".xr-obj-type {\n",
       "  color: var(--xr-font-color2);\n",
       "}\n",
       "\n",
       ".xr-sections {\n",
       "  padding-left: 0 !important;\n",
       "  display: grid;\n",
       "  grid-template-columns: 150px auto auto 1fr 20px 20px;\n",
       "}\n",
       "\n",
       ".xr-section-item {\n",
       "  display: contents;\n",
       "}\n",
       "\n",
       ".xr-section-item input {\n",
       "  display: none;\n",
       "}\n",
       "\n",
       ".xr-section-item input + label {\n",
       "  color: var(--xr-disabled-color);\n",
       "}\n",
       "\n",
       ".xr-section-item input:enabled + label {\n",
       "  cursor: pointer;\n",
       "  color: var(--xr-font-color2);\n",
       "}\n",
       "\n",
       ".xr-section-item input:enabled + label:hover {\n",
       "  color: var(--xr-font-color0);\n",
       "}\n",
       "\n",
       ".xr-section-summary {\n",
       "  grid-column: 1;\n",
       "  color: var(--xr-font-color2);\n",
       "  font-weight: 500;\n",
       "}\n",
       "\n",
       ".xr-section-summary > span {\n",
       "  display: inline-block;\n",
       "  padding-left: 0.5em;\n",
       "}\n",
       "\n",
       ".xr-section-summary-in:disabled + label {\n",
       "  color: var(--xr-font-color2);\n",
       "}\n",
       "\n",
       ".xr-section-summary-in + label:before {\n",
       "  display: inline-block;\n",
       "  content: '►';\n",
       "  font-size: 11px;\n",
       "  width: 15px;\n",
       "  text-align: center;\n",
       "}\n",
       "\n",
       ".xr-section-summary-in:disabled + label:before {\n",
       "  color: var(--xr-disabled-color);\n",
       "}\n",
       "\n",
       ".xr-section-summary-in:checked + label:before {\n",
       "  content: '▼';\n",
       "}\n",
       "\n",
       ".xr-section-summary-in:checked + label > span {\n",
       "  display: none;\n",
       "}\n",
       "\n",
       ".xr-section-summary,\n",
       ".xr-section-inline-details {\n",
       "  padding-top: 4px;\n",
       "  padding-bottom: 4px;\n",
       "}\n",
       "\n",
       ".xr-section-inline-details {\n",
       "  grid-column: 2 / -1;\n",
       "}\n",
       "\n",
       ".xr-section-details {\n",
       "  display: none;\n",
       "  grid-column: 1 / -1;\n",
       "  margin-bottom: 5px;\n",
       "}\n",
       "\n",
       ".xr-section-summary-in:checked ~ .xr-section-details {\n",
       "  display: contents;\n",
       "}\n",
       "\n",
       ".xr-array-wrap {\n",
       "  grid-column: 1 / -1;\n",
       "  display: grid;\n",
       "  grid-template-columns: 20px auto;\n",
       "}\n",
       "\n",
       ".xr-array-wrap > label {\n",
       "  grid-column: 1;\n",
       "  vertical-align: top;\n",
       "}\n",
       "\n",
       ".xr-preview {\n",
       "  color: var(--xr-font-color3);\n",
       "}\n",
       "\n",
       ".xr-array-preview,\n",
       ".xr-array-data {\n",
       "  padding: 0 5px !important;\n",
       "  grid-column: 2;\n",
       "}\n",
       "\n",
       ".xr-array-data,\n",
       ".xr-array-in:checked ~ .xr-array-preview {\n",
       "  display: none;\n",
       "}\n",
       "\n",
       ".xr-array-in:checked ~ .xr-array-data,\n",
       ".xr-array-preview {\n",
       "  display: inline-block;\n",
       "}\n",
       "\n",
       ".xr-dim-list {\n",
       "  display: inline-block !important;\n",
       "  list-style: none;\n",
       "  padding: 0 !important;\n",
       "  margin: 0;\n",
       "}\n",
       "\n",
       ".xr-dim-list li {\n",
       "  display: inline-block;\n",
       "  padding: 0;\n",
       "  margin: 0;\n",
       "}\n",
       "\n",
       ".xr-dim-list:before {\n",
       "  content: '(';\n",
       "}\n",
       "\n",
       ".xr-dim-list:after {\n",
       "  content: ')';\n",
       "}\n",
       "\n",
       ".xr-dim-list li:not(:last-child):after {\n",
       "  content: ',';\n",
       "  padding-right: 5px;\n",
       "}\n",
       "\n",
       ".xr-has-index {\n",
       "  font-weight: bold;\n",
       "}\n",
       "\n",
       ".xr-var-list,\n",
       ".xr-var-item {\n",
       "  display: contents;\n",
       "}\n",
       "\n",
       ".xr-var-item > div,\n",
       ".xr-var-item label,\n",
       ".xr-var-item > .xr-var-name span {\n",
       "  background-color: var(--xr-background-color-row-even);\n",
       "  margin-bottom: 0;\n",
       "}\n",
       "\n",
       ".xr-var-item > .xr-var-name:hover span {\n",
       "  padding-right: 5px;\n",
       "}\n",
       "\n",
       ".xr-var-list > li:nth-child(odd) > div,\n",
       ".xr-var-list > li:nth-child(odd) > label,\n",
       ".xr-var-list > li:nth-child(odd) > .xr-var-name span {\n",
       "  background-color: var(--xr-background-color-row-odd);\n",
       "}\n",
       "\n",
       ".xr-var-name {\n",
       "  grid-column: 1;\n",
       "}\n",
       "\n",
       ".xr-var-dims {\n",
       "  grid-column: 2;\n",
       "}\n",
       "\n",
       ".xr-var-dtype {\n",
       "  grid-column: 3;\n",
       "  text-align: right;\n",
       "  color: var(--xr-font-color2);\n",
       "}\n",
       "\n",
       ".xr-var-preview {\n",
       "  grid-column: 4;\n",
       "}\n",
       "\n",
       ".xr-index-preview {\n",
       "  grid-column: 2 / 5;\n",
       "  color: var(--xr-font-color2);\n",
       "}\n",
       "\n",
       ".xr-var-name,\n",
       ".xr-var-dims,\n",
       ".xr-var-dtype,\n",
       ".xr-preview,\n",
       ".xr-attrs dt {\n",
       "  white-space: nowrap;\n",
       "  overflow: hidden;\n",
       "  text-overflow: ellipsis;\n",
       "  padding-right: 10px;\n",
       "}\n",
       "\n",
       ".xr-var-name:hover,\n",
       ".xr-var-dims:hover,\n",
       ".xr-var-dtype:hover,\n",
       ".xr-attrs dt:hover {\n",
       "  overflow: visible;\n",
       "  width: auto;\n",
       "  z-index: 1;\n",
       "}\n",
       "\n",
       ".xr-var-attrs,\n",
       ".xr-var-data,\n",
       ".xr-index-data {\n",
       "  display: none;\n",
       "  background-color: var(--xr-background-color) !important;\n",
       "  padding-bottom: 5px !important;\n",
       "}\n",
       "\n",
       ".xr-var-attrs-in:checked ~ .xr-var-attrs,\n",
       ".xr-var-data-in:checked ~ .xr-var-data,\n",
       ".xr-index-data-in:checked ~ .xr-index-data {\n",
       "  display: block;\n",
       "}\n",
       "\n",
       ".xr-var-data > table {\n",
       "  float: right;\n",
       "}\n",
       "\n",
       ".xr-var-name span,\n",
       ".xr-var-data,\n",
       ".xr-index-name div,\n",
       ".xr-index-data,\n",
       ".xr-attrs {\n",
       "  padding-left: 25px !important;\n",
       "}\n",
       "\n",
       ".xr-attrs,\n",
       ".xr-var-attrs,\n",
       ".xr-var-data,\n",
       ".xr-index-data {\n",
       "  grid-column: 1 / -1;\n",
       "}\n",
       "\n",
       "dl.xr-attrs {\n",
       "  padding: 0;\n",
       "  margin: 0;\n",
       "  display: grid;\n",
       "  grid-template-columns: 125px auto;\n",
       "}\n",
       "\n",
       ".xr-attrs dt,\n",
       ".xr-attrs dd {\n",
       "  padding: 0;\n",
       "  margin: 0;\n",
       "  float: left;\n",
       "  padding-right: 10px;\n",
       "  width: auto;\n",
       "}\n",
       "\n",
       ".xr-attrs dt {\n",
       "  font-weight: normal;\n",
       "  grid-column: 1;\n",
       "}\n",
       "\n",
       ".xr-attrs dt:hover span {\n",
       "  display: inline-block;\n",
       "  background: var(--xr-background-color);\n",
       "  padding-right: 10px;\n",
       "}\n",
       "\n",
       ".xr-attrs dd {\n",
       "  grid-column: 2;\n",
       "  white-space: pre-wrap;\n",
       "  word-break: break-all;\n",
       "}\n",
       "\n",
       ".xr-icon-database,\n",
       ".xr-icon-file-text2,\n",
       ".xr-no-icon {\n",
       "  display: inline-block;\n",
       "  vertical-align: middle;\n",
       "  width: 1em;\n",
       "  height: 1.5em !important;\n",
       "  stroke-width: 0;\n",
       "  stroke: currentColor;\n",
       "  fill: currentColor;\n",
       "}\n",
       "</style><pre class='xr-text-repr-fallback'>&lt;TimeSeries (DataArray) (date: 2297, component: 16, sample: 1)&gt;\n",
       "array([[[0.0166849 ],\n",
       "        [0.01839357],\n",
       "        [0.02182369],\n",
       "        ...,\n",
       "        [0.2445421 ],\n",
       "        [0.14865773],\n",
       "        [0.5       ]],\n",
       "\n",
       "       [[0.01705172],\n",
       "        [0.01666101],\n",
       "        [0.01769203],\n",
       "        ...,\n",
       "        [0.2445421 ],\n",
       "        [0.14865773],\n",
       "        [0.5       ]],\n",
       "\n",
       "       [[0.01430512],\n",
       "        [0.01381835],\n",
       "        [0.01629199],\n",
       "        ...,\n",
       "...\n",
       "        ...,\n",
       "        [0.2445421 ],\n",
       "        [0.14865773],\n",
       "        [0.75      ]],\n",
       "\n",
       "       [[0.53826622],\n",
       "        [0.53517387],\n",
       "        [0.54810789],\n",
       "        ...,\n",
       "        [0.2445421 ],\n",
       "        [0.14865773],\n",
       "        [0.75      ]],\n",
       "\n",
       "       [[0.53882219],\n",
       "        [0.53054615],\n",
       "        [0.54700388],\n",
       "        ...,\n",
       "        [0.2445421 ],\n",
       "        [0.14865773],\n",
       "        [0.75      ]]])\n",
       "Coordinates:\n",
       "  * date       (date) datetime64[ns] 2017-08-17 2017-08-18 ... 2023-11-30\n",
       "  * component  (component) object &#x27;open&#x27; &#x27;high&#x27; ... &#x27;FAGI_sentiment_encoded&#x27;\n",
       "Dimensions without coordinates: sample\n",
       "Attributes:\n",
       "    static_covariates:  None\n",
       "    hierarchy:          None</pre><div class='xr-wrap' style='display:none'><div class='xr-header'><div class='xr-obj-type'>TimeSeries (DataArray)</div><div class='xr-array-name'></div><ul class='xr-dim-list'><li><span class='xr-has-index'>date</span>: 2297</li><li><span class='xr-has-index'>component</span>: 16</li><li><span>sample</span>: 1</li></ul></div><ul class='xr-sections'><li class='xr-section-item'><div class='xr-array-wrap'><input id='section-afeef81e-c70c-49fd-ad52-af248a1ee59c' class='xr-array-in' type='checkbox' checked><label for='section-afeef81e-c70c-49fd-ad52-af248a1ee59c' title='Show/hide data repr'><svg class='icon xr-icon-database'><use xlink:href='#icon-database'></use></svg></label><div class='xr-array-preview xr-preview'><span>0.01668 0.01839 0.02182 0.01704 0.0007456 ... 1.0 0.2445 0.1487 0.75</span></div><div class='xr-array-data'><pre>array([[[0.0166849 ],\n",
       "        [0.01839357],\n",
       "        [0.02182369],\n",
       "        ...,\n",
       "        [0.2445421 ],\n",
       "        [0.14865773],\n",
       "        [0.5       ]],\n",
       "\n",
       "       [[0.01705172],\n",
       "        [0.01666101],\n",
       "        [0.01769203],\n",
       "        ...,\n",
       "        [0.2445421 ],\n",
       "        [0.14865773],\n",
       "        [0.5       ]],\n",
       "\n",
       "       [[0.01430512],\n",
       "        [0.01381835],\n",
       "        [0.01629199],\n",
       "        ...,\n",
       "...\n",
       "        ...,\n",
       "        [0.2445421 ],\n",
       "        [0.14865773],\n",
       "        [0.75      ]],\n",
       "\n",
       "       [[0.53826622],\n",
       "        [0.53517387],\n",
       "        [0.54810789],\n",
       "        ...,\n",
       "        [0.2445421 ],\n",
       "        [0.14865773],\n",
       "        [0.75      ]],\n",
       "\n",
       "       [[0.53882219],\n",
       "        [0.53054615],\n",
       "        [0.54700388],\n",
       "        ...,\n",
       "        [0.2445421 ],\n",
       "        [0.14865773],\n",
       "        [0.75      ]]])</pre></div></div></li><li class='xr-section-item'><input id='section-9381d45a-f578-4109-af83-5d1d8980e42a' class='xr-section-summary-in' type='checkbox'  checked><label for='section-9381d45a-f578-4109-af83-5d1d8980e42a' class='xr-section-summary' >Coordinates: <span>(2)</span></label><div class='xr-section-inline-details'></div><div class='xr-section-details'><ul class='xr-var-list'><li class='xr-var-item'><div class='xr-var-name'><span class='xr-has-index'>date</span></div><div class='xr-var-dims'>(date)</div><div class='xr-var-dtype'>datetime64[ns]</div><div class='xr-var-preview xr-preview'>2017-08-17 ... 2023-11-30</div><input id='attrs-780d82f2-d1cd-4d5f-8bfc-904be0efa861' class='xr-var-attrs-in' type='checkbox' disabled><label for='attrs-780d82f2-d1cd-4d5f-8bfc-904be0efa861' title='Show/Hide attributes'><svg class='icon xr-icon-file-text2'><use xlink:href='#icon-file-text2'></use></svg></label><input id='data-37315526-cda0-4fcb-bb83-c073d8cf16f5' class='xr-var-data-in' type='checkbox'><label for='data-37315526-cda0-4fcb-bb83-c073d8cf16f5' title='Show/Hide data repr'><svg class='icon xr-icon-database'><use xlink:href='#icon-database'></use></svg></label><div class='xr-var-attrs'><dl class='xr-attrs'></dl></div><div class='xr-var-data'><pre>array([&#x27;2017-08-17T00:00:00.000000000&#x27;, &#x27;2017-08-18T00:00:00.000000000&#x27;,\n",
       "       &#x27;2017-08-19T00:00:00.000000000&#x27;, ..., &#x27;2023-11-28T00:00:00.000000000&#x27;,\n",
       "       &#x27;2023-11-29T00:00:00.000000000&#x27;, &#x27;2023-11-30T00:00:00.000000000&#x27;],\n",
       "      dtype=&#x27;datetime64[ns]&#x27;)</pre></div></li><li class='xr-var-item'><div class='xr-var-name'><span class='xr-has-index'>component</span></div><div class='xr-var-dims'>(component)</div><div class='xr-var-dtype'>object</div><div class='xr-var-preview xr-preview'>&#x27;open&#x27; ... &#x27;FAGI_sentiment_encoded&#x27;</div><input id='attrs-140b6ced-d1c6-4576-9ccf-4708540756e8' class='xr-var-attrs-in' type='checkbox' disabled><label for='attrs-140b6ced-d1c6-4576-9ccf-4708540756e8' title='Show/Hide attributes'><svg class='icon xr-icon-file-text2'><use xlink:href='#icon-file-text2'></use></svg></label><input id='data-5cf2c90e-45d5-4cf4-ad60-61d96311c1b8' class='xr-var-data-in' type='checkbox'><label for='data-5cf2c90e-45d5-4cf4-ad60-61d96311c1b8' title='Show/Hide data repr'><svg class='icon xr-icon-database'><use xlink:href='#icon-database'></use></svg></label><div class='xr-var-attrs'><dl class='xr-attrs'></dl></div><div class='xr-var-data'><pre>array([&#x27;open&#x27;, &#x27;high&#x27;, &#x27;low&#x27;, &#x27;close&#x27;, &#x27;volume BTC&#x27;, &#x27;volume USD&#x27;,\n",
       "       &#x27;FAGI_score&#x27;, &#x27;scored_title&#x27;, &#x27;scored_text&#x27;, &#x27;average_score&#x27;,\n",
       "       &#x27;twitter_followers&#x27;, &#x27;twitter_favourites&#x27;, &#x27;reddit_subscribers&#x27;,\n",
       "       &#x27;reddit_active_users&#x27;, &#x27;reddit_comments_per_day&#x27;,\n",
       "       &#x27;FAGI_sentiment_encoded&#x27;], dtype=object)</pre></div></li></ul></div></li><li class='xr-section-item'><input id='section-3bdba6ad-d1c9-44e7-862f-f8eb5652cde3' class='xr-section-summary-in' type='checkbox'  ><label for='section-3bdba6ad-d1c9-44e7-862f-f8eb5652cde3' class='xr-section-summary' >Indexes: <span>(2)</span></label><div class='xr-section-inline-details'></div><div class='xr-section-details'><ul class='xr-var-list'><li class='xr-var-item'><div class='xr-index-name'><div>date</div></div><div class='xr-index-preview'>PandasIndex</div><div></div><input id='index-e7cd96c6-1b91-4ad0-9901-5c29045a86c7' class='xr-index-data-in' type='checkbox'/><label for='index-e7cd96c6-1b91-4ad0-9901-5c29045a86c7' title='Show/Hide index repr'><svg class='icon xr-icon-database'><use xlink:href='#icon-database'></use></svg></label><div class='xr-index-data'><pre>PandasIndex(DatetimeIndex([&#x27;2017-08-17&#x27;, &#x27;2017-08-18&#x27;, &#x27;2017-08-19&#x27;, &#x27;2017-08-20&#x27;,\n",
       "               &#x27;2017-08-21&#x27;, &#x27;2017-08-22&#x27;, &#x27;2017-08-23&#x27;, &#x27;2017-08-24&#x27;,\n",
       "               &#x27;2017-08-25&#x27;, &#x27;2017-08-26&#x27;,\n",
       "               ...\n",
       "               &#x27;2023-11-21&#x27;, &#x27;2023-11-22&#x27;, &#x27;2023-11-23&#x27;, &#x27;2023-11-24&#x27;,\n",
       "               &#x27;2023-11-25&#x27;, &#x27;2023-11-26&#x27;, &#x27;2023-11-27&#x27;, &#x27;2023-11-28&#x27;,\n",
       "               &#x27;2023-11-29&#x27;, &#x27;2023-11-30&#x27;],\n",
       "              dtype=&#x27;datetime64[ns]&#x27;, name=&#x27;date&#x27;, length=2297, freq=&#x27;D&#x27;))</pre></div></li><li class='xr-var-item'><div class='xr-index-name'><div>component</div></div><div class='xr-index-preview'>PandasIndex</div><div></div><input id='index-88ac3d4d-908c-410c-baea-8e00bb270a2c' class='xr-index-data-in' type='checkbox'/><label for='index-88ac3d4d-908c-410c-baea-8e00bb270a2c' title='Show/Hide index repr'><svg class='icon xr-icon-database'><use xlink:href='#icon-database'></use></svg></label><div class='xr-index-data'><pre>PandasIndex(Index([&#x27;open&#x27;, &#x27;high&#x27;, &#x27;low&#x27;, &#x27;close&#x27;, &#x27;volume BTC&#x27;, &#x27;volume USD&#x27;,\n",
       "       &#x27;FAGI_score&#x27;, &#x27;scored_title&#x27;, &#x27;scored_text&#x27;, &#x27;average_score&#x27;,\n",
       "       &#x27;twitter_followers&#x27;, &#x27;twitter_favourites&#x27;, &#x27;reddit_subscribers&#x27;,\n",
       "       &#x27;reddit_active_users&#x27;, &#x27;reddit_comments_per_day&#x27;,\n",
       "       &#x27;FAGI_sentiment_encoded&#x27;],\n",
       "      dtype=&#x27;object&#x27;, name=&#x27;component&#x27;))</pre></div></li></ul></div></li><li class='xr-section-item'><input id='section-7aca7adf-9244-418f-9be9-4002fe29f04e' class='xr-section-summary-in' type='checkbox'  checked><label for='section-7aca7adf-9244-418f-9be9-4002fe29f04e' class='xr-section-summary' >Attributes: <span>(2)</span></label><div class='xr-section-inline-details'></div><div class='xr-section-details'><dl class='xr-attrs'><dt><span>static_covariates :</span></dt><dd>None</dd><dt><span>hierarchy :</span></dt><dd>None</dd></dl></div></li></ul></div></div>"
      ],
      "text/plain": [
       "<TimeSeries (DataArray) (date: 2297, component: 16, sample: 1)>\n",
       "array([[[0.0166849 ],\n",
       "        [0.01839357],\n",
       "        [0.02182369],\n",
       "        ...,\n",
       "        [0.2445421 ],\n",
       "        [0.14865773],\n",
       "        [0.5       ]],\n",
       "\n",
       "       [[0.01705172],\n",
       "        [0.01666101],\n",
       "        [0.01769203],\n",
       "        ...,\n",
       "        [0.2445421 ],\n",
       "        [0.14865773],\n",
       "        [0.5       ]],\n",
       "\n",
       "       [[0.01430512],\n",
       "        [0.01381835],\n",
       "        [0.01629199],\n",
       "        ...,\n",
       "...\n",
       "        ...,\n",
       "        [0.2445421 ],\n",
       "        [0.14865773],\n",
       "        [0.75      ]],\n",
       "\n",
       "       [[0.53826622],\n",
       "        [0.53517387],\n",
       "        [0.54810789],\n",
       "        ...,\n",
       "        [0.2445421 ],\n",
       "        [0.14865773],\n",
       "        [0.75      ]],\n",
       "\n",
       "       [[0.53882219],\n",
       "        [0.53054615],\n",
       "        [0.54700388],\n",
       "        ...,\n",
       "        [0.2445421 ],\n",
       "        [0.14865773],\n",
       "        [0.75      ]]])\n",
       "Coordinates:\n",
       "  * date       (date) datetime64[ns] 2017-08-17 2017-08-18 ... 2023-11-30\n",
       "  * component  (component) object 'open' 'high' ... 'FAGI_sentiment_encoded'\n",
       "Dimensions without coordinates: sample\n",
       "Attributes:\n",
       "    static_covariates:  None\n",
       "    hierarchy:          None"
      ]
     },
     "execution_count": 11,
     "metadata": {},
     "output_type": "execute_result"
    }
   ],
   "source": [
    "from darts.utils.missing_values import fill_missing_values\n",
    "scaled_df = fill_missing_values(scaled_df)\n",
    "scaled_df\n"
   ]
  },
  {
   "cell_type": "markdown",
   "metadata": {},
   "source": [
    "### __*Train Test Split*__"
   ]
  },
  {
   "cell_type": "code",
   "execution_count": 12,
   "metadata": {},
   "outputs": [
    {
     "data": {
      "text/plain": [
       "<Axes: xlabel='date'>"
      ]
     },
     "execution_count": 12,
     "metadata": {},
     "output_type": "execute_result"
    },
    {
     "data": {
      "image/png": "[encoded data removed]",
      "text/plain": [
       "<Figure size 640x480 with 1 Axes>"
      ]
     },
     "metadata": {},
     "output_type": "display_data"
    }
   ],
   "source": [
    "train, val = (scaled_df).split_before(0.8)\n",
    "train.plot(label=\"training\")\n",
    "val.plot(label=\"validation\")\n"
   ]
  },
  {
   "cell_type": "code",
   "execution_count": 13,
   "metadata": {},
   "outputs": [],
   "source": [
    "val,test = (val).split_before(0.5)\n"
   ]
  },
  {
   "cell_type": "markdown",
   "metadata": {},
   "source": [
    "### __*Setup Earlystopping and the train on GPU*__"
   ]
  },
  {
   "cell_type": "code",
   "execution_count": 14,
   "metadata": {},
   "outputs": [
    {
     "data": {
      "text/plain": [
       "'pl_trainer_kwargs={\"callbacks\": [stopper],\\n                   \"accelerator\": \"gpu\",\\n                   \"devices\": [0]}'"
      ]
     },
     "execution_count": 14,
     "metadata": {},
     "output_type": "execute_result"
    }
   ],
   "source": [
    "from pytorch_lightning.callbacks.early_stopping import EarlyStopping\n",
    "\n",
    "# stop training when validation loss does not decrease more than 0.05 (`min_delta`) over\n",
    "# a period of 5 epochs (`patience`)\n",
    "stopper = EarlyStopping(\n",
    "    monitor=\"val_loss\",\n",
    "    patience=30,\n",
    "    min_delta=0.005,\n",
    "    mode='min',\n",
    ")\n",
    "\n",
    "\"\"\"pl_trainer_kwargs={\"callbacks\": [stopper],\n",
    "                   \"accelerator\": \"gpu\",\n",
    "                   \"devices\": [0]}\"\"\"\n"
   ]
  },
  {
   "cell_type": "markdown",
   "metadata": {},
   "source": [
    "### __*Instanciate BlockRNNMODEL*__"
   ]
  },
  {
   "cell_type": "code",
   "execution_count": 15,
   "metadata": {},
   "outputs": [],
   "source": [
    "# predict 15 days considering the latest 45 days\n",
    "\n",
    "model_covariates = BlockRNNModel(\n",
    "    model=\"LSTM\",\n",
    "    input_chunk_length=25,\n",
    "    output_chunk_length=7,\n",
    "    #dropout=0.2,\n",
    "    torch_metrics= SymmetricMeanAbsolutePercentageError(),\n",
    "    n_epochs=100,\n",
    "    #pl_trainer_kwargs = pl_trainer_kwargs,\n",
    "    random_state=0,\n",
    ")\n"
   ]
  },
  {
   "cell_type": "markdown",
   "metadata": {},
   "source": [
    "### __*Train the model*__"
   ]
  },
  {
   "cell_type": "code",
   "execution_count": 16,
   "metadata": {},
   "outputs": [
    {
     "data": {
      "application/vnd.jupyter.widget-view+json": {
       "model_id": "be175064694242b8a27539788659e00b",
       "version_major": 2,
       "version_minor": 0
      },
      "text/plain": [
       "Sanity Checking: |          | 0/? [00:00<?, ?it/s]"
      ]
     },
     "metadata": {},
     "output_type": "display_data"
    },
    {
     "data": {
      "application/vnd.jupyter.widget-view+json": {
       "model_id": "cb41ebe7ce1e4338a88ddfa291e7d61e",
       "version_major": 2,
       "version_minor": 0
      },
      "text/plain": [
       "Training: |          | 0/? [00:00<?, ?it/s]"
      ]
     },
     "metadata": {},
     "output_type": "display_data"
    },
    {
     "data": {
      "application/vnd.jupyter.widget-view+json": {
       "model_id": "f82e347849d94ece8448bd5d870298d1",
       "version_major": 2,
       "version_minor": 0
      },
      "text/plain": [
       "Validation: |          | 0/? [00:00<?, ?it/s]"
      ]
     },
     "metadata": {},
     "output_type": "display_data"
    },
    {
     "data": {
      "application/vnd.jupyter.widget-view+json": {
       "model_id": "a0b5e78adc4648e0a932a93f7cedea3b",
       "version_major": 2,
       "version_minor": 0
      },
      "text/plain": [
       "Validation: |          | 0/? [00:00<?, ?it/s]"
      ]
     },
     "metadata": {},
     "output_type": "display_data"
    },
    {
     "data": {
      "application/vnd.jupyter.widget-view+json": {
       "model_id": "98d9ceecde0e477aa12ab11638a09a98",
       "version_major": 2,
       "version_minor": 0
      },
      "text/plain": [
       "Validation: |          | 0/? [00:00<?, ?it/s]"
      ]
     },
     "metadata": {},
     "output_type": "display_data"
    },
    {
     "data": {
      "application/vnd.jupyter.widget-view+json": {
       "model_id": "07d0a56e37ea4d54b6b7e54dfc07a45d",
       "version_major": 2,
       "version_minor": 0
      },
      "text/plain": [
       "Validation: |          | 0/? [00:00<?, ?it/s]"
      ]
     },
     "metadata": {},
     "output_type": "display_data"
    },
    {
     "data": {
      "application/vnd.jupyter.widget-view+json": {
       "model_id": "982df34ce7084695a7c2404b2280ccb4",
       "version_major": 2,
       "version_minor": 0
      },
      "text/plain": [
       "Validation: |          | 0/? [00:00<?, ?it/s]"
      ]
     },
     "metadata": {},
     "output_type": "display_data"
    },
    {
     "data": {
      "application/vnd.jupyter.widget-view+json": {
       "model_id": "2ea7bad386474d2493ac6ee6520639dd",
       "version_major": 2,
       "version_minor": 0
      },
      "text/plain": [
       "Validation: |          | 0/? [00:00<?, ?it/s]"
      ]
     },
     "metadata": {},
     "output_type": "display_data"
    },
    {
     "data": {
      "application/vnd.jupyter.widget-view+json": {
       "model_id": "c40220ba3a2c434b865648e8184ba76d",
       "version_major": 2,
       "version_minor": 0
      },
      "text/plain": [
       "Validation: |          | 0/? [00:00<?, ?it/s]"
      ]
     },
     "metadata": {},
     "output_type": "display_data"
    },
    {
     "data": {
      "application/vnd.jupyter.widget-view+json": {
       "model_id": "87ec6829807443ec893dd7e09a747434",
       "version_major": 2,
       "version_minor": 0
      },
      "text/plain": [
       "Validation: |          | 0/? [00:00<?, ?it/s]"
      ]
     },
     "metadata": {},
     "output_type": "display_data"
    },
    {
     "data": {
      "application/vnd.jupyter.widget-view+json": {
       "model_id": "34b7ac78bc3846cfb914756ab89bd721",
       "version_major": 2,
       "version_minor": 0
      },
      "text/plain": [
       "Validation: |          | 0/? [00:00<?, ?it/s]"
      ]
     },
     "metadata": {},
     "output_type": "display_data"
    },
    {
     "data": {
      "application/vnd.jupyter.widget-view+json": {
       "model_id": "57f3df1355aa45558c1e60c5745068ec",
       "version_major": 2,
       "version_minor": 0
      },
      "text/plain": [
       "Validation: |          | 0/? [00:00<?, ?it/s]"
      ]
     },
     "metadata": {},
     "output_type": "display_data"
    },
    {
     "data": {
      "application/vnd.jupyter.widget-view+json": {
       "model_id": "3841a07b02a649ee93e8c9e9faaef1c0",
       "version_major": 2,
       "version_minor": 0
      },
      "text/plain": [
       "Validation: |          | 0/? [00:00<?, ?it/s]"
      ]
     },
     "metadata": {},
     "output_type": "display_data"
    },
    {
     "data": {
      "application/vnd.jupyter.widget-view+json": {
       "model_id": "beab71ad5cfb4b7cbedc340b4b4ab107",
       "version_major": 2,
       "version_minor": 0
      },
      "text/plain": [
       "Validation: |          | 0/? [00:00<?, ?it/s]"
      ]
     },
     "metadata": {},
     "output_type": "display_data"
    },
    {
     "data": {
      "application/vnd.jupyter.widget-view+json": {
       "model_id": "0a9f69bed1ed474782b3add3f2272d13",
       "version_major": 2,
       "version_minor": 0
      },
      "text/plain": [
       "Validation: |          | 0/? [00:00<?, ?it/s]"
      ]
     },
     "metadata": {},
     "output_type": "display_data"
    },
    {
     "data": {
      "application/vnd.jupyter.widget-view+json": {
       "model_id": "b7ee094ad2fc4a86bf1b5124060453b6",
       "version_major": 2,
       "version_minor": 0
      },
      "text/plain": [
       "Validation: |          | 0/? [00:00<?, ?it/s]"
      ]
     },
     "metadata": {},
     "output_type": "display_data"
    },
    {
     "data": {
      "application/vnd.jupyter.widget-view+json": {
       "model_id": "dcf00295f7c6423e9bb3b0e945e6462d",
       "version_major": 2,
       "version_minor": 0
      },
      "text/plain": [
       "Validation: |          | 0/? [00:00<?, ?it/s]"
      ]
     },
     "metadata": {},
     "output_type": "display_data"
    },
    {
     "data": {
      "application/vnd.jupyter.widget-view+json": {
       "model_id": "02e8d5315f6c4c8a899a29774fd111b4",
       "version_major": 2,
       "version_minor": 0
      },
      "text/plain": [
       "Validation: |          | 0/? [00:00<?, ?it/s]"
      ]
     },
     "metadata": {},
     "output_type": "display_data"
    },
    {
     "data": {
      "application/vnd.jupyter.widget-view+json": {
       "model_id": "9eab6c8cbdfc41e58e63b5caadde6173",
       "version_major": 2,
       "version_minor": 0
      },
      "text/plain": [
       "Validation: |          | 0/? [00:00<?, ?it/s]"
      ]
     },
     "metadata": {},
     "output_type": "display_data"
    },
    {
     "data": {
      "application/vnd.jupyter.widget-view+json": {
       "model_id": "e93451ce0a644aaeb8e102282b43e721",
       "version_major": 2,
       "version_minor": 0
      },
      "text/plain": [
       "Validation: |          | 0/? [00:00<?, ?it/s]"
      ]
     },
     "metadata": {},
     "output_type": "display_data"
    },
    {
     "data": {
      "application/vnd.jupyter.widget-view+json": {
       "model_id": "75856c5dd27a49499cb40de56e6090b5",
       "version_major": 2,
       "version_minor": 0
      },
      "text/plain": [
       "Validation: |          | 0/? [00:00<?, ?it/s]"
      ]
     },
     "metadata": {},
     "output_type": "display_data"
    },
    {
     "data": {
      "application/vnd.jupyter.widget-view+json": {
       "model_id": "5d6c57716ccd45c7a48304dae7abdb57",
       "version_major": 2,
       "version_minor": 0
      },
      "text/plain": [
       "Validation: |          | 0/? [00:00<?, ?it/s]"
      ]
     },
     "metadata": {},
     "output_type": "display_data"
    },
    {
     "data": {
      "application/vnd.jupyter.widget-view+json": {
       "model_id": "803e82af31104a63ba238ed3f63bde10",
       "version_major": 2,
       "version_minor": 0
      },
      "text/plain": [
       "Validation: |          | 0/? [00:00<?, ?it/s]"
      ]
     },
     "metadata": {},
     "output_type": "display_data"
    },
    {
     "data": {
      "application/vnd.jupyter.widget-view+json": {
       "model_id": "b0686a4b0a624194906227a517400b73",
       "version_major": 2,
       "version_minor": 0
      },
      "text/plain": [
       "Validation: |          | 0/? [00:00<?, ?it/s]"
      ]
     },
     "metadata": {},
     "output_type": "display_data"
    },
    {
     "data": {
      "application/vnd.jupyter.widget-view+json": {
       "model_id": "b555514b949b4961bdbbc2b1589caecd",
       "version_major": 2,
       "version_minor": 0
      },
      "text/plain": [
       "Validation: |          | 0/? [00:00<?, ?it/s]"
      ]
     },
     "metadata": {},
     "output_type": "display_data"
    },
    {
     "data": {
      "application/vnd.jupyter.widget-view+json": {
       "model_id": "be8afe4d79234557bd7535645717310d",
       "version_major": 2,
       "version_minor": 0
      },
      "text/plain": [
       "Validation: |          | 0/? [00:00<?, ?it/s]"
      ]
     },
     "metadata": {},
     "output_type": "display_data"
    },
    {
     "data": {
      "application/vnd.jupyter.widget-view+json": {
       "model_id": "af1478dd7d3749c0a2e408171bf0d564",
       "version_major": 2,
       "version_minor": 0
      },
      "text/plain": [
       "Validation: |          | 0/? [00:00<?, ?it/s]"
      ]
     },
     "metadata": {},
     "output_type": "display_data"
    },
    {
     "data": {
      "application/vnd.jupyter.widget-view+json": {
       "model_id": "aaf67eb785ec4e87bb3c8a9fcf49aa0d",
       "version_major": 2,
       "version_minor": 0
      },
      "text/plain": [
       "Validation: |          | 0/? [00:00<?, ?it/s]"
      ]
     },
     "metadata": {},
     "output_type": "display_data"
    },
    {
     "data": {
      "application/vnd.jupyter.widget-view+json": {
       "model_id": "f2dc74875e6c440fa26a787db3aa799b",
       "version_major": 2,
       "version_minor": 0
      },
      "text/plain": [
       "Validation: |          | 0/? [00:00<?, ?it/s]"
      ]
     },
     "metadata": {},
     "output_type": "display_data"
    },
    {
     "data": {
      "application/vnd.jupyter.widget-view+json": {
       "model_id": "dc66f9d1e6644d4b94ad6a2a1aaa3038",
       "version_major": 2,
       "version_minor": 0
      },
      "text/plain": [
       "Validation: |          | 0/? [00:00<?, ?it/s]"
      ]
     },
     "metadata": {},
     "output_type": "display_data"
    },
    {
     "data": {
      "application/vnd.jupyter.widget-view+json": {
       "model_id": "45200a8512fb4aa7a3dcbdfe54d80f50",
       "version_major": 2,
       "version_minor": 0
      },
      "text/plain": [
       "Validation: |          | 0/? [00:00<?, ?it/s]"
      ]
     },
     "metadata": {},
     "output_type": "display_data"
    },
    {
     "data": {
      "application/vnd.jupyter.widget-view+json": {
       "model_id": "099042ac29dd44f9b60a46d134bcdfc7",
       "version_major": 2,
       "version_minor": 0
      },
      "text/plain": [
       "Validation: |          | 0/? [00:00<?, ?it/s]"
      ]
     },
     "metadata": {},
     "output_type": "display_data"
    },
    {
     "data": {
      "application/vnd.jupyter.widget-view+json": {
       "model_id": "5ba1055dcacc4d32b9f1cadad238255d",
       "version_major": 2,
       "version_minor": 0
      },
      "text/plain": [
       "Validation: |          | 0/? [00:00<?, ?it/s]"
      ]
     },
     "metadata": {},
     "output_type": "display_data"
    },
    {
     "data": {
      "application/vnd.jupyter.widget-view+json": {
       "model_id": "d62852c616f146249bf67d0694971bb8",
       "version_major": 2,
       "version_minor": 0
      },
      "text/plain": [
       "Validation: |          | 0/? [00:00<?, ?it/s]"
      ]
     },
     "metadata": {},
     "output_type": "display_data"
    },
    {
     "data": {
      "application/vnd.jupyter.widget-view+json": {
       "model_id": "2f8fae2bc14a4e6bb7b948d30651949c",
       "version_major": 2,
       "version_minor": 0
      },
      "text/plain": [
       "Validation: |          | 0/? [00:00<?, ?it/s]"
      ]
     },
     "metadata": {},
     "output_type": "display_data"
    },
    {
     "data": {
      "application/vnd.jupyter.widget-view+json": {
       "model_id": "f0f287aa36834046acb9dd74ccaecf43",
       "version_major": 2,
       "version_minor": 0
      },
      "text/plain": [
       "Validation: |          | 0/? [00:00<?, ?it/s]"
      ]
     },
     "metadata": {},
     "output_type": "display_data"
    },
    {
     "data": {
      "application/vnd.jupyter.widget-view+json": {
       "model_id": "0719ac8846c14667878e83681263905d",
       "version_major": 2,
       "version_minor": 0
      },
      "text/plain": [
       "Validation: |          | 0/? [00:00<?, ?it/s]"
      ]
     },
     "metadata": {},
     "output_type": "display_data"
    },
    {
     "data": {
      "application/vnd.jupyter.widget-view+json": {
       "model_id": "45d9b0d8e0b3488cb987678a205793cf",
       "version_major": 2,
       "version_minor": 0
      },
      "text/plain": [
       "Validation: |          | 0/? [00:00<?, ?it/s]"
      ]
     },
     "metadata": {},
     "output_type": "display_data"
    },
    {
     "data": {
      "application/vnd.jupyter.widget-view+json": {
       "model_id": "c720667b41714a12a4af862cc800935f",
       "version_major": 2,
       "version_minor": 0
      },
      "text/plain": [
       "Validation: |          | 0/? [00:00<?, ?it/s]"
      ]
     },
     "metadata": {},
     "output_type": "display_data"
    },
    {
     "data": {
      "application/vnd.jupyter.widget-view+json": {
       "model_id": "5df0490457b84fdbb2c065759462f407",
       "version_major": 2,
       "version_minor": 0
      },
      "text/plain": [
       "Validation: |          | 0/? [00:00<?, ?it/s]"
      ]
     },
     "metadata": {},
     "output_type": "display_data"
    },
    {
     "data": {
      "application/vnd.jupyter.widget-view+json": {
       "model_id": "0c7894774b7644428f077ed5a77ae593",
       "version_major": 2,
       "version_minor": 0
      },
      "text/plain": [
       "Validation: |          | 0/? [00:00<?, ?it/s]"
      ]
     },
     "metadata": {},
     "output_type": "display_data"
    },
    {
     "data": {
      "application/vnd.jupyter.widget-view+json": {
       "model_id": "5513438cc57d4632913bf8946b7e6204",
       "version_major": 2,
       "version_minor": 0
      },
      "text/plain": [
       "Validation: |          | 0/? [00:00<?, ?it/s]"
      ]
     },
     "metadata": {},
     "output_type": "display_data"
    },
    {
     "data": {
      "application/vnd.jupyter.widget-view+json": {
       "model_id": "2245739e81ba42b69ed2911ee1ee1b29",
       "version_major": 2,
       "version_minor": 0
      },
      "text/plain": [
       "Validation: |          | 0/? [00:00<?, ?it/s]"
      ]
     },
     "metadata": {},
     "output_type": "display_data"
    },
    {
     "data": {
      "application/vnd.jupyter.widget-view+json": {
       "model_id": "417858854da548caba88b552b369286b",
       "version_major": 2,
       "version_minor": 0
      },
      "text/plain": [
       "Validation: |          | 0/? [00:00<?, ?it/s]"
      ]
     },
     "metadata": {},
     "output_type": "display_data"
    },
    {
     "data": {
      "application/vnd.jupyter.widget-view+json": {
       "model_id": "7a9a3faac6fe44939528e81eec72084d",
       "version_major": 2,
       "version_minor": 0
      },
      "text/plain": [
       "Validation: |          | 0/? [00:00<?, ?it/s]"
      ]
     },
     "metadata": {},
     "output_type": "display_data"
    },
    {
     "data": {
      "application/vnd.jupyter.widget-view+json": {
       "model_id": "134c44d78a994303b14a17e58c779306",
       "version_major": 2,
       "version_minor": 0
      },
      "text/plain": [
       "Validation: |          | 0/? [00:00<?, ?it/s]"
      ]
     },
     "metadata": {},
     "output_type": "display_data"
    },
    {
     "data": {
      "application/vnd.jupyter.widget-view+json": {
       "model_id": "b6aec91cc18c42fba40e030654940301",
       "version_major": 2,
       "version_minor": 0
      },
      "text/plain": [
       "Validation: |          | 0/? [00:00<?, ?it/s]"
      ]
     },
     "metadata": {},
     "output_type": "display_data"
    },
    {
     "data": {
      "application/vnd.jupyter.widget-view+json": {
       "model_id": "1fe8cf1b97dd47e6a493e1ef8a8fbc8f",
       "version_major": 2,
       "version_minor": 0
      },
      "text/plain": [
       "Validation: |          | 0/? [00:00<?, ?it/s]"
      ]
     },
     "metadata": {},
     "output_type": "display_data"
    },
    {
     "data": {
      "application/vnd.jupyter.widget-view+json": {
       "model_id": "96d730b42a844b23b588c8931b2d61cf",
       "version_major": 2,
       "version_minor": 0
      },
      "text/plain": [
       "Validation: |          | 0/? [00:00<?, ?it/s]"
      ]
     },
     "metadata": {},
     "output_type": "display_data"
    },
    {
     "data": {
      "application/vnd.jupyter.widget-view+json": {
       "model_id": "70eb26809bdf4a79913b8397be4f8530",
       "version_major": 2,
       "version_minor": 0
      },
      "text/plain": [
       "Validation: |          | 0/? [00:00<?, ?it/s]"
      ]
     },
     "metadata": {},
     "output_type": "display_data"
    },
    {
     "data": {
      "application/vnd.jupyter.widget-view+json": {
       "model_id": "0c7d1993975d4cf889ce264267921e47",
       "version_major": 2,
       "version_minor": 0
      },
      "text/plain": [
       "Validation: |          | 0/? [00:00<?, ?it/s]"
      ]
     },
     "metadata": {},
     "output_type": "display_data"
    },
    {
     "data": {
      "application/vnd.jupyter.widget-view+json": {
       "model_id": "620271748f5c4d759679d664f9a5b330",
       "version_major": 2,
       "version_minor": 0
      },
      "text/plain": [
       "Validation: |          | 0/? [00:00<?, ?it/s]"
      ]
     },
     "metadata": {},
     "output_type": "display_data"
    },
    {
     "data": {
      "application/vnd.jupyter.widget-view+json": {
       "model_id": "5809ba6ee6e34d38ac07bc589081941a",
       "version_major": 2,
       "version_minor": 0
      },
      "text/plain": [
       "Validation: |          | 0/? [00:00<?, ?it/s]"
      ]
     },
     "metadata": {},
     "output_type": "display_data"
    },
    {
     "data": {
      "application/vnd.jupyter.widget-view+json": {
       "model_id": "2a3233ae009e4ac1b5537be1287b5897",
       "version_major": 2,
       "version_minor": 0
      },
      "text/plain": [
       "Validation: |          | 0/? [00:00<?, ?it/s]"
      ]
     },
     "metadata": {},
     "output_type": "display_data"
    },
    {
     "data": {
      "application/vnd.jupyter.widget-view+json": {
       "model_id": "bed6025d35364ba7849005878d7cf7f9",
       "version_major": 2,
       "version_minor": 0
      },
      "text/plain": [
       "Validation: |          | 0/? [00:00<?, ?it/s]"
      ]
     },
     "metadata": {},
     "output_type": "display_data"
    },
    {
     "data": {
      "application/vnd.jupyter.widget-view+json": {
       "model_id": "baeb4c72f61444388ac05821cbb6edd9",
       "version_major": 2,
       "version_minor": 0
      },
      "text/plain": [
       "Validation: |          | 0/? [00:00<?, ?it/s]"
      ]
     },
     "metadata": {},
     "output_type": "display_data"
    },
    {
     "data": {
      "application/vnd.jupyter.widget-view+json": {
       "model_id": "e0c9f75ca4e1432dac0e47a51010edde",
       "version_major": 2,
       "version_minor": 0
      },
      "text/plain": [
       "Validation: |          | 0/? [00:00<?, ?it/s]"
      ]
     },
     "metadata": {},
     "output_type": "display_data"
    },
    {
     "data": {
      "application/vnd.jupyter.widget-view+json": {
       "model_id": "520d66ce67fa48ed83d06fb4cafe208b",
       "version_major": 2,
       "version_minor": 0
      },
      "text/plain": [
       "Validation: |          | 0/? [00:00<?, ?it/s]"
      ]
     },
     "metadata": {},
     "output_type": "display_data"
    },
    {
     "data": {
      "application/vnd.jupyter.widget-view+json": {
       "model_id": "c9a397205f1f46639efd698db209b9d8",
       "version_major": 2,
       "version_minor": 0
      },
      "text/plain": [
       "Validation: |          | 0/? [00:00<?, ?it/s]"
      ]
     },
     "metadata": {},
     "output_type": "display_data"
    },
    {
     "data": {
      "application/vnd.jupyter.widget-view+json": {
       "model_id": "0d4504b0302849fab5704212d65f45e8",
       "version_major": 2,
       "version_minor": 0
      },
      "text/plain": [
       "Validation: |          | 0/? [00:00<?, ?it/s]"
      ]
     },
     "metadata": {},
     "output_type": "display_data"
    },
    {
     "data": {
      "application/vnd.jupyter.widget-view+json": {
       "model_id": "ad72da6a62424bff9e4e9478f32c739e",
       "version_major": 2,
       "version_minor": 0
      },
      "text/plain": [
       "Validation: |          | 0/? [00:00<?, ?it/s]"
      ]
     },
     "metadata": {},
     "output_type": "display_data"
    },
    {
     "data": {
      "application/vnd.jupyter.widget-view+json": {
       "model_id": "dad33832df3d44fbb581654066f48a64",
       "version_major": 2,
       "version_minor": 0
      },
      "text/plain": [
       "Validation: |          | 0/? [00:00<?, ?it/s]"
      ]
     },
     "metadata": {},
     "output_type": "display_data"
    },
    {
     "data": {
      "application/vnd.jupyter.widget-view+json": {
       "model_id": "67437f04e4d644ee849a273cf40a2923",
       "version_major": 2,
       "version_minor": 0
      },
      "text/plain": [
       "Validation: |          | 0/? [00:00<?, ?it/s]"
      ]
     },
     "metadata": {},
     "output_type": "display_data"
    },
    {
     "data": {
      "application/vnd.jupyter.widget-view+json": {
       "model_id": "f772d9bcedd54956be3d8da06eb5d6e2",
       "version_major": 2,
       "version_minor": 0
      },
      "text/plain": [
       "Validation: |          | 0/? [00:00<?, ?it/s]"
      ]
     },
     "metadata": {},
     "output_type": "display_data"
    },
    {
     "data": {
      "application/vnd.jupyter.widget-view+json": {
       "model_id": "edd1349faa294f03948b6ef30241311e",
       "version_major": 2,
       "version_minor": 0
      },
      "text/plain": [
       "Validation: |          | 0/? [00:00<?, ?it/s]"
      ]
     },
     "metadata": {},
     "output_type": "display_data"
    },
    {
     "data": {
      "application/vnd.jupyter.widget-view+json": {
       "model_id": "12e3c3c238394bf88a32e8ec8628b996",
       "version_major": 2,
       "version_minor": 0
      },
      "text/plain": [
       "Validation: |          | 0/? [00:00<?, ?it/s]"
      ]
     },
     "metadata": {},
     "output_type": "display_data"
    },
    {
     "data": {
      "application/vnd.jupyter.widget-view+json": {
       "model_id": "5f74bcd097b34231ab259bd63b6eebde",
       "version_major": 2,
       "version_minor": 0
      },
      "text/plain": [
       "Validation: |          | 0/? [00:00<?, ?it/s]"
      ]
     },
     "metadata": {},
     "output_type": "display_data"
    },
    {
     "data": {
      "application/vnd.jupyter.widget-view+json": {
       "model_id": "67b39c4780914b2cb29fbd6770e8b976",
       "version_major": 2,
       "version_minor": 0
      },
      "text/plain": [
       "Validation: |          | 0/? [00:00<?, ?it/s]"
      ]
     },
     "metadata": {},
     "output_type": "display_data"
    },
    {
     "data": {
      "application/vnd.jupyter.widget-view+json": {
       "model_id": "7590f6d238de45c3bb58fecdd9d006cf",
       "version_major": 2,
       "version_minor": 0
      },
      "text/plain": [
       "Validation: |          | 0/? [00:00<?, ?it/s]"
      ]
     },
     "metadata": {},
     "output_type": "display_data"
    },
    {
     "data": {
      "application/vnd.jupyter.widget-view+json": {
       "model_id": "c97a3ee74b7a4b7fb68b31e11f7807e4",
       "version_major": 2,
       "version_minor": 0
      },
      "text/plain": [
       "Validation: |          | 0/? [00:00<?, ?it/s]"
      ]
     },
     "metadata": {},
     "output_type": "display_data"
    },
    {
     "data": {
      "application/vnd.jupyter.widget-view+json": {
       "model_id": "8a2ef7ff096c4b3a8d052a228b59554b",
       "version_major": 2,
       "version_minor": 0
      },
      "text/plain": [
       "Validation: |          | 0/? [00:00<?, ?it/s]"
      ]
     },
     "metadata": {},
     "output_type": "display_data"
    },
    {
     "data": {
      "application/vnd.jupyter.widget-view+json": {
       "model_id": "57400a805f15461abd5cd6369bf9ddd0",
       "version_major": 2,
       "version_minor": 0
      },
      "text/plain": [
       "Validation: |          | 0/? [00:00<?, ?it/s]"
      ]
     },
     "metadata": {},
     "output_type": "display_data"
    },
    {
     "data": {
      "application/vnd.jupyter.widget-view+json": {
       "model_id": "0abe208def294921b81e92bc7b2d2e09",
       "version_major": 2,
       "version_minor": 0
      },
      "text/plain": [
       "Validation: |          | 0/? [00:00<?, ?it/s]"
      ]
     },
     "metadata": {},
     "output_type": "display_data"
    },
    {
     "data": {
      "application/vnd.jupyter.widget-view+json": {
       "model_id": "f4c6fd47db4441858179244890f383a2",
       "version_major": 2,
       "version_minor": 0
      },
      "text/plain": [
       "Validation: |          | 0/? [00:00<?, ?it/s]"
      ]
     },
     "metadata": {},
     "output_type": "display_data"
    },
    {
     "data": {
      "application/vnd.jupyter.widget-view+json": {
       "model_id": "2db23524c27c49f0a6385f07c66b26f1",
       "version_major": 2,
       "version_minor": 0
      },
      "text/plain": [
       "Validation: |          | 0/? [00:00<?, ?it/s]"
      ]
     },
     "metadata": {},
     "output_type": "display_data"
    },
    {
     "data": {
      "application/vnd.jupyter.widget-view+json": {
       "model_id": "936344d0170e457993c168cc136575ce",
       "version_major": 2,
       "version_minor": 0
      },
      "text/plain": [
       "Validation: |          | 0/? [00:00<?, ?it/s]"
      ]
     },
     "metadata": {},
     "output_type": "display_data"
    },
    {
     "data": {
      "application/vnd.jupyter.widget-view+json": {
       "model_id": "212684bcfd1b49e99823364eae5a1c4b",
       "version_major": 2,
       "version_minor": 0
      },
      "text/plain": [
       "Validation: |          | 0/? [00:00<?, ?it/s]"
      ]
     },
     "metadata": {},
     "output_type": "display_data"
    },
    {
     "data": {
      "application/vnd.jupyter.widget-view+json": {
       "model_id": "79a54d9b23274d3fa5d5fe1f0735589f",
       "version_major": 2,
       "version_minor": 0
      },
      "text/plain": [
       "Validation: |          | 0/? [00:00<?, ?it/s]"
      ]
     },
     "metadata": {},
     "output_type": "display_data"
    },
    {
     "data": {
      "application/vnd.jupyter.widget-view+json": {
       "model_id": "62228b903d1b493da426f58ed55d505c",
       "version_major": 2,
       "version_minor": 0
      },
      "text/plain": [
       "Validation: |          | 0/? [00:00<?, ?it/s]"
      ]
     },
     "metadata": {},
     "output_type": "display_data"
    },
    {
     "data": {
      "application/vnd.jupyter.widget-view+json": {
       "model_id": "eeb0c2d47d7248c7b6cda216866f56cb",
       "version_major": 2,
       "version_minor": 0
      },
      "text/plain": [
       "Validation: |          | 0/? [00:00<?, ?it/s]"
      ]
     },
     "metadata": {},
     "output_type": "display_data"
    },
    {
     "data": {
      "application/vnd.jupyter.widget-view+json": {
       "model_id": "8def9898d03b43dca4c8bf5e36157353",
       "version_major": 2,
       "version_minor": 0
      },
      "text/plain": [
       "Validation: |          | 0/? [00:00<?, ?it/s]"
      ]
     },
     "metadata": {},
     "output_type": "display_data"
    },
    {
     "data": {
      "application/vnd.jupyter.widget-view+json": {
       "model_id": "50b726079ff44dacbbb58c21bff09c29",
       "version_major": 2,
       "version_minor": 0
      },
      "text/plain": [
       "Validation: |          | 0/? [00:00<?, ?it/s]"
      ]
     },
     "metadata": {},
     "output_type": "display_data"
    },
    {
     "data": {
      "application/vnd.jupyter.widget-view+json": {
       "model_id": "a4c17bf5ade8482a90a702dc89b20a40",
       "version_major": 2,
       "version_minor": 0
      },
      "text/plain": [
       "Validation: |          | 0/? [00:00<?, ?it/s]"
      ]
     },
     "metadata": {},
     "output_type": "display_data"
    },
    {
     "data": {
      "application/vnd.jupyter.widget-view+json": {
       "model_id": "5f23f8873d5b4f809a43a0b519737e19",
       "version_major": 2,
       "version_minor": 0
      },
      "text/plain": [
       "Validation: |          | 0/? [00:00<?, ?it/s]"
      ]
     },
     "metadata": {},
     "output_type": "display_data"
    },
    {
     "data": {
      "application/vnd.jupyter.widget-view+json": {
       "model_id": "2f4d5017ca6d4202b374f074df3efc15",
       "version_major": 2,
       "version_minor": 0
      },
      "text/plain": [
       "Validation: |          | 0/? [00:00<?, ?it/s]"
      ]
     },
     "metadata": {},
     "output_type": "display_data"
    },
    {
     "data": {
      "application/vnd.jupyter.widget-view+json": {
       "model_id": "8369dcf8b8b84d4f90a886195338dd68",
       "version_major": 2,
       "version_minor": 0
      },
      "text/plain": [
       "Validation: |          | 0/? [00:00<?, ?it/s]"
      ]
     },
     "metadata": {},
     "output_type": "display_data"
    },
    {
     "data": {
      "application/vnd.jupyter.widget-view+json": {
       "model_id": "cf53a10d5ed441ed8e9effc70b5cc19d",
       "version_major": 2,
       "version_minor": 0
      },
      "text/plain": [
       "Validation: |          | 0/? [00:00<?, ?it/s]"
      ]
     },
     "metadata": {},
     "output_type": "display_data"
    },
    {
     "data": {
      "application/vnd.jupyter.widget-view+json": {
       "model_id": "fdf7edcfd96b4071b4cbb05b3fd05afa",
       "version_major": 2,
       "version_minor": 0
      },
      "text/plain": [
       "Validation: |          | 0/? [00:00<?, ?it/s]"
      ]
     },
     "metadata": {},
     "output_type": "display_data"
    },
    {
     "data": {
      "application/vnd.jupyter.widget-view+json": {
       "model_id": "6bb8e68871d244b483216ad1fe264661",
       "version_major": 2,
       "version_minor": 0
      },
      "text/plain": [
       "Validation: |          | 0/? [00:00<?, ?it/s]"
      ]
     },
     "metadata": {},
     "output_type": "display_data"
    },
    {
     "data": {
      "application/vnd.jupyter.widget-view+json": {
       "model_id": "037c23f6de194319abbdc2d44a607d49",
       "version_major": 2,
       "version_minor": 0
      },
      "text/plain": [
       "Validation: |          | 0/? [00:00<?, ?it/s]"
      ]
     },
     "metadata": {},
     "output_type": "display_data"
    },
    {
     "data": {
      "application/vnd.jupyter.widget-view+json": {
       "model_id": "8fc32f81b3c94252a66feed51b09d120",
       "version_major": 2,
       "version_minor": 0
      },
      "text/plain": [
       "Validation: |          | 0/? [00:00<?, ?it/s]"
      ]
     },
     "metadata": {},
     "output_type": "display_data"
    },
    {
     "data": {
      "application/vnd.jupyter.widget-view+json": {
       "model_id": "884fcf5cdae846ab98ce22e3c3ac35b4",
       "version_major": 2,
       "version_minor": 0
      },
      "text/plain": [
       "Validation: |          | 0/? [00:00<?, ?it/s]"
      ]
     },
     "metadata": {},
     "output_type": "display_data"
    },
    {
     "data": {
      "application/vnd.jupyter.widget-view+json": {
       "model_id": "840b2822bb9b49ebb01a00ccaff637b9",
       "version_major": 2,
       "version_minor": 0
      },
      "text/plain": [
       "Validation: |          | 0/? [00:00<?, ?it/s]"
      ]
     },
     "metadata": {},
     "output_type": "display_data"
    },
    {
     "data": {
      "application/vnd.jupyter.widget-view+json": {
       "model_id": "33312e086e66430ba246c145bf26c46a",
       "version_major": 2,
       "version_minor": 0
      },
      "text/plain": [
       "Validation: |          | 0/? [00:00<?, ?it/s]"
      ]
     },
     "metadata": {},
     "output_type": "display_data"
    },
    {
     "data": {
      "application/vnd.jupyter.widget-view+json": {
       "model_id": "4f1ab71400534d2697609dffc4109686",
       "version_major": 2,
       "version_minor": 0
      },
      "text/plain": [
       "Validation: |          | 0/? [00:00<?, ?it/s]"
      ]
     },
     "metadata": {},
     "output_type": "display_data"
    },
    {
     "data": {
      "application/vnd.jupyter.widget-view+json": {
       "model_id": "b21a5c1e3adf47cabd6e10a673580812",
       "version_major": 2,
       "version_minor": 0
      },
      "text/plain": [
       "Validation: |          | 0/? [00:00<?, ?it/s]"
      ]
     },
     "metadata": {},
     "output_type": "display_data"
    },
    {
     "data": {
      "application/vnd.jupyter.widget-view+json": {
       "model_id": "144119102d5348a39782755058f14607",
       "version_major": 2,
       "version_minor": 0
      },
      "text/plain": [
       "Validation: |          | 0/? [00:00<?, ?it/s]"
      ]
     },
     "metadata": {},
     "output_type": "display_data"
    },
    {
     "data": {
      "application/vnd.jupyter.widget-view+json": {
       "model_id": "82bc923124a144c0a4c73105457fd03d",
       "version_major": 2,
       "version_minor": 0
      },
      "text/plain": [
       "Validation: |          | 0/? [00:00<?, ?it/s]"
      ]
     },
     "metadata": {},
     "output_type": "display_data"
    },
    {
     "data": {
      "application/vnd.jupyter.widget-view+json": {
       "model_id": "e3a2efefb3664512a72af83555992af9",
       "version_major": 2,
       "version_minor": 0
      },
      "text/plain": [
       "Validation: |          | 0/? [00:00<?, ?it/s]"
      ]
     },
     "metadata": {},
     "output_type": "display_data"
    },
    {
     "data": {
      "application/vnd.jupyter.widget-view+json": {
       "model_id": "554f3441a8aa429b9709fbcb3fc24452",
       "version_major": 2,
       "version_minor": 0
      },
      "text/plain": [
       "Validation: |          | 0/? [00:00<?, ?it/s]"
      ]
     },
     "metadata": {},
     "output_type": "display_data"
    },
    {
     "data": {
      "application/vnd.jupyter.widget-view+json": {
       "model_id": "16f328acb4264163a4313a469208ecef",
       "version_major": 2,
       "version_minor": 0
      },
      "text/plain": [
       "Validation: |          | 0/? [00:00<?, ?it/s]"
      ]
     },
     "metadata": {},
     "output_type": "display_data"
    },
    {
     "data": {
      "application/vnd.jupyter.widget-view+json": {
       "model_id": "0b39782d5cb044039d4190d53b581f43",
       "version_major": 2,
       "version_minor": 0
      },
      "text/plain": [
       "Validation: |          | 0/? [00:00<?, ?it/s]"
      ]
     },
     "metadata": {},
     "output_type": "display_data"
    },
    {
     "data": {
      "text/plain": [
       "BlockRNNModel(model=LSTM, hidden_dim=25, n_rnn_layers=1, hidden_fc_sizes=None, dropout=0.0, input_chunk_length=25, output_chunk_length=7, torch_metrics=SymmetricMeanAbsolutePercentageError(), n_epochs=100, random_state=0)"
      ]
     },
     "execution_count": 16,
     "metadata": {},
     "output_type": "execute_result"
    }
   ],
   "source": [
    "model_covariates.fit(\n",
    "    series=[train[\"close\"]],    # the target training data\n",
    "    past_covariates=train,     # the multi covariate features training data\n",
    "    val_series=[val[\"close\"]],  # the target validation data\n",
    "    val_past_covariates=val,   # the multi covariate features validation data\n",
    "    verbose=True,\n",
    ")\n"
   ]
  },
  {
   "cell_type": "markdown",
   "metadata": {},
   "source": [
    "### __*Do a prediction*__"
   ]
  },
  {
   "cell_type": "code",
   "execution_count": 17,
   "metadata": {},
   "outputs": [
    {
     "data": {
      "application/vnd.jupyter.widget-view+json": {
       "model_id": "b34608cc188a4ccda579fac9f9955efb",
       "version_major": 2,
       "version_minor": 0
      },
      "text/plain": [
       "Predicting: |          | 0/? [00:00<?, ?it/s]"
      ]
     },
     "metadata": {},
     "output_type": "display_data"
    },
    {
     "data": {
      "text/plain": [
       "<Axes: xlabel='date'>"
      ]
     },
     "execution_count": 17,
     "metadata": {},
     "output_type": "execute_result"
    },
    {
     "data": {
      "image/png": "[encoded data removed]",
      "text/plain": [
       "<Figure size 640x480 with 1 Axes>"
      ]
     },
     "metadata": {},
     "output_type": "display_data"
    }
   ],
   "source": [
    "pred_cov = model_covariates.predict(n=7,                        # n of days to predict\n",
    "                                 series=test[\"close\"][-25-7:-7],       # target input for prediction\n",
    "                                 past_covariates=test[-25-7:-7]) # past-covariates input for prediction\n",
    "\n",
    "test[-7:][\"close\"].plot(label=\"actual\")\n",
    "pred_cov.plot(label=\"forecast\")\n"
   ]
  },
  {
   "cell_type": "markdown",
   "metadata": {},
   "source": [
    "### __*Result of the metrics*__"
   ]
  },
  {
   "cell_type": "code",
   "execution_count": 18,
   "metadata": {},
   "outputs": [
    {
     "data": {
      "text/plain": [
       "4.302790331466355"
      ]
     },
     "execution_count": 18,
     "metadata": {},
     "output_type": "execute_result"
    }
   ],
   "source": [
    "# check the SMAPE error\n",
    "\n",
    "smape(test['close'][-7:], pred_cov)\n"
   ]
  },
  {
   "cell_type": "code",
   "execution_count": 19,
   "metadata": {},
   "outputs": [
    {
     "data": {
      "text/plain": [
       "array([[37713.57],\n",
       "       [37780.67],\n",
       "       [37447.43],\n",
       "       [37242.7 ],\n",
       "       [37818.87],\n",
       "       [37854.64],\n",
       "       [37723.96]])"
      ]
     },
     "execution_count": 19,
     "metadata": {},
     "output_type": "execute_result"
    }
   ],
   "source": [
    "#Real Data\n",
    "ts_scaler_target.inverse_transform(test['close'][-7:]).values()\n"
   ]
  },
  {
   "cell_type": "markdown",
   "metadata": {},
   "source": [
    "### __*Turn Prediction into original scale*__"
   ]
  },
  {
   "cell_type": "code",
   "execution_count": 20,
   "metadata": {},
   "outputs": [
    {
     "data": {
      "text/plain": [
       "array([[37017.51351791],\n",
       "       [36522.25410691],\n",
       "       [41261.02996829],\n",
       "       [39291.85141471],\n",
       "       [36739.64786406],\n",
       "       [38510.34741773],\n",
       "       [38758.48634111]])"
      ]
     },
     "execution_count": 20,
     "metadata": {},
     "output_type": "execute_result"
    }
   ],
   "source": [
    "#Predicted Data\n",
    "ts_scaler_target.inverse_transform(pred_cov).values()\n"
   ]
  },
  {
   "cell_type": "markdown",
   "metadata": {},
   "source": [
    "### __*TransformerModel*__"
   ]
  },
  {
   "cell_type": "code",
   "execution_count": 21,
   "metadata": {},
   "outputs": [
    {
     "data": {
      "text/plain": [
       "'\\nmodel = TransformerModel(\\n    input_chunk_length=25,\\n    output_chunk_length=7,\\n    n_epochs=20\\n)\\n'"
      ]
     },
     "execution_count": 21,
     "metadata": {},
     "output_type": "execute_result"
    }
   ],
   "source": [
    "\"\"\"\n",
    "model = TransformerModel(\n",
    "    input_chunk_length=25,\n",
    "    output_chunk_length=7,\n",
    "    n_epochs=20\n",
    ")\n",
    "\"\"\"\n"
   ]
  },
  {
   "cell_type": "code",
   "execution_count": 22,
   "metadata": {},
   "outputs": [
    {
     "data": {
      "text/plain": [
       "'\\nmodel.fit(target, past_covariates=past_cov)\\npred = model.predict(6)\\npred.values()\\n'"
      ]
     },
     "execution_count": 22,
     "metadata": {},
     "output_type": "execute_result"
    }
   ],
   "source": [
    "\"\"\"\n",
    "model.fit(target, past_covariates=past_cov)\n",
    "pred = model.predict(6)\n",
    "pred.values()\n",
    "\"\"\"\n"
   ]
  },
  {
   "cell_type": "markdown",
   "metadata": {},
   "source": [
    "### __*XGBModel!!*__"
   ]
  },
  {
   "cell_type": "code",
   "execution_count": 23,
   "metadata": {},
   "outputs": [
    {
     "data": {
      "text/plain": [
       "'\\nmodel = XGBModel(\\n    lags=25,\\n    lags_past_covariates=25,\\n    #lags_future_covariates=[0,1,2,3,4,5],\\n    output_chunk_length=6,\\n)\\n'"
      ]
     },
     "execution_count": 23,
     "metadata": {},
     "output_type": "execute_result"
    }
   ],
   "source": [
    "\"\"\"\n",
    "model = XGBModel(\n",
    "    lags=25,\n",
    "    lags_past_covariates=25,\n",
    "    #lags_future_covariates=[0,1,2,3,4,5],\n",
    "    output_chunk_length=6,\n",
    ")\n",
    "\"\"\"\n"
   ]
  },
  {
   "cell_type": "code",
   "execution_count": 24,
   "metadata": {},
   "outputs": [
    {
     "data": {
      "text/plain": [
       "'\\nmodel.fit(val[\"close\"], past_covariates=, future_covariates=)\\npred = model.predict(6)\\npred.values()\\n\\n'"
      ]
     },
     "execution_count": 24,
     "metadata": {},
     "output_type": "execute_result"
    }
   ],
   "source": [
    "\"\"\"\n",
    "model.fit(val[\"close\"], past_covariates=, future_covariates=)\n",
    "pred = model.predict(6)\n",
    "pred.values()\n",
    "\n",
    "\"\"\"\n"
   ]
  }
 ],
 "metadata": {
  "kernelspec": {
   "display_name": "crypto_market_assistant",
   "language": "python",
   "name": "python3"
  },
  "language_info": {
   "codemirror_mode": {
    "name": "ipython",
    "version": 3
   },
   "file_extension": ".py",
   "mimetype": "text/x-python",
   "name": "python",
   "nbconvert_exporter": "python",
   "pygments_lexer": "ipython3",
   "version": "3.10.6"
  }
 },
 "nbformat": 4,
 "nbformat_minor": 2
}
