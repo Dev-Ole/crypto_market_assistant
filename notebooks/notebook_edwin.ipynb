{
 "cells": [
  {
   "cell_type": "code",
   "execution_count": null,
   "metadata": {},
   "outputs": [],
   "source": [
    "# testing\n",
    "\n",
    "import pandas as pd\n",
    "import numpy as ny\n",
    "import datetime as dt\n",
    "\n",
    "from darts import TimeSeries\n",
    "from sklearn.preprocessing import MinMaxScaler\n",
    "\n",
    "\n",
    "from darts.utils.missing_values import fill_missing_values\n"
   ]
  },
  {
   "cell_type": "code",
   "execution_count": null,
   "metadata": {},
   "outputs": [],
   "source": [
    "\"\"\"\n",
    "from darts.models import NaiveSeasonal\n",
    "\n",
    "naive_model = NaiveSeasonal(K=1)\n",
    "naive_model.fit(train)\n",
    "naive_forecast = naive_model.predict(len(val))\n",
    "\n",
    "train.plot(label=\"actual\")\n",
    "val.plot(label = \"validation\")\n",
    "naive_forecast.plot(label=\"naive forecast (K=1)\")\n",
    "\"\"\"\n"
   ]
  },
  {
   "cell_type": "code",
   "execution_count": null,
   "metadata": {},
   "outputs": [],
   "source": [
    "\"\"\"\n",
    "from darts.models import AutoARIMA, Prophet, TBATS\n",
    "\n",
    "results_dict = {}\n",
    "\n",
    "for model in [AutoARIMA, Prophet, TBATS]:\n",
    "    temp = model()\n",
    "    temp.fit(train)\n",
    "    preds = temp.predict(len(val))\n",
    "    accuracy = mape(val, preds)\n",
    "    results_dict[f\"{model}\"] = accuracy\n",
    "\"\"\"\n"
   ]
  },
  {
   "cell_type": "code",
   "execution_count": null,
   "metadata": {},
   "outputs": [],
   "source": [
    "\"\"\"\n",
    "model = AutoARIMA()\n",
    "\n",
    "# w no covariates\n",
    "model.fit(train)\n",
    "# predict on our val\n",
    "base_preds = model.predict(len(val))\n",
    "# calculate mape\n",
    "accuracy = mape(val, base_preds)\n",
    "# add it to a comparison dict\n",
    "covariates_dict = {}\n",
    "covariates_dict[\"no_covariates\"] = accuracy\"\"\"\n"
   ]
  },
  {
   "cell_type": "code",
   "execution_count": null,
   "metadata": {},
   "outputs": [],
   "source": [
    "\"\"\"\n",
    "covariate_model = AutoARIMA()\n",
    "# w future covariates only\n",
    "covariate_model.fit(train, future_covariates = preproc_weather)\n",
    "base_preds = covariate_model.predict(len(val), future_covariates=preproc_weather)\n",
    "accuracy = mape(val, base_preds)\n",
    "covariates_dict[f\"future_covariates\"] = accuracy\n",
    "\"\"\"\n"
   ]
  }
 ],
 "metadata": {
  "language_info": {
   "name": "python"
  }
 },
 "nbformat": 4,
 "nbformat_minor": 2
}
