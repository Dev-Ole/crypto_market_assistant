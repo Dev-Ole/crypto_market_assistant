{
 "cells": [
  {
   "cell_type": "markdown",
   "metadata": {},
   "source": []
  },
  {
   "cell_type": "markdown",
   "metadata": {},
   "source": [
    "### __*Install packages, Imports, DataFrame*__"
   ]
  },
  {
   "cell_type": "code",
   "execution_count": 16,
   "metadata": {},
   "outputs": [],
   "source": [
    "\n",
    "from torchmetrics import SymmetricMeanAbsolutePercentageError, MeanSquaredError, MeanAbsoluteError\n",
    "\n",
    "\n",
    "import torch\n",
    "\n",
    "from darts.utils.timeseries_generation import (\n",
    "    gaussian_timeseries,\n",
    "    linear_timeseries,\n",
    "    sine_timeseries,\n",
    ")\n",
    "\n",
    "from darts.models import (\n",
    "    RNNModel,\n",
    "    TCNModel,\n",
    "    TransformerModel,\n",
    "    NBEATSModel,\n",
    "    BlockRNNModel,\n",
    "    VARIMA,\n",
    ")\n",
    "\n",
    "from darts.metrics import mape, smape, mae\n",
    "from darts.dataprocessing.transformers import Scaler\n",
    "from darts.utils.timeseries_generation import datetime_attribute_timeseries\n",
    "from darts.datasets import AirPassengersDataset, MonthlyMilkDataset, ElectricityDataset\n",
    "\n",
    "import logging\n",
    "\n",
    "logging.disable(logging.CRITICAL)\n",
    "\n",
    "import warnings\n",
    "\n",
    "warnings.filterwarnings(\"ignore\")\n",
    "\n",
    "\n",
    "%matplotlib inline\n",
    "\n",
    "import numpy as np\n",
    "\n",
    "# for reproducibility\n",
    "torch.manual_seed(1)\n",
    "np.random.seed(1)\n"
   ]
  },
  {
   "cell_type": "code",
   "execution_count": 17,
   "metadata": {},
   "outputs": [],
   "source": [
    "# testing\n",
    "\n",
    "import pandas as pd\n",
    "\n",
    "import datetime as dt\n",
    "import matplotlib.pyplot as plt\n",
    "\n",
    "from darts import TimeSeries\n",
    "from sklearn.preprocessing import MinMaxScaler\n",
    "\n",
    "\n",
    "from darts.utils.missing_values import fill_missing_values\n",
    "\n",
    "from sklearn.preprocessing import OrdinalEncoder, MinMaxScaler, RobustScaler, StandardScaler\n",
    "from crypto_assist.data_preprocess import preprocessor_not_scaled\n"
   ]
  },
  {
   "cell_type": "code",
   "execution_count": 1,
   "metadata": {},
   "outputs": [
    {
     "ename": "NameError",
     "evalue": "name 'preprocessor_not_scaled' is not defined",
     "output_type": "error",
     "traceback": [
      "\u001b[0;31m---------------------------------------------------------------------------\u001b[0m",
      "\u001b[0;31mNameError\u001b[0m                                 Traceback (most recent call last)",
      "\u001b[1;32m/Users/edwinblanco/code/J0eDub/crypto_market_assistant/notebooks/notebook_edwin.ipynb Cell 5\u001b[0m line \u001b[0;36m1\n\u001b[0;32m----> <a href='vscode-notebook-cell:/Users/edwinblanco/code/J0eDub/crypto_market_assistant/notebooks/notebook_edwin.ipynb#W4sZmlsZQ%3D%3D?line=0'>1</a>\u001b[0m df \u001b[39m=\u001b[39m preprocessor_not_scaled(\u001b[39m'\u001b[39m\u001b[39mBTCUSDT_daily_Binance.csv\u001b[39m\u001b[39m'\u001b[39m,\u001b[39m'\u001b[39m\u001b[39mfinal_text_df.csv\u001b[39m\u001b[39m'\u001b[39m,\u001b[39m'\u001b[39m\u001b[39msocial_number_data.csv\u001b[39m\u001b[39m'\u001b[39m,\u001b[39m'\u001b[39m\u001b[39mFearAndGreedIndex.csv\u001b[39m\u001b[39m'\u001b[39m)\n",
      "\u001b[0;31mNameError\u001b[0m: name 'preprocessor_not_scaled' is not defined"
     ]
    }
   ],
   "source": [
    "df = preprocessor_not_scaled('BTCUSDT_daily_Binance.csv','final_text_df.csv','social_number_data.csv','FearAndGreedIndex.csv')\n"
   ]
  },
  {
   "cell_type": "code",
   "execution_count": 19,
   "metadata": {},
   "outputs": [
    {
     "data": {
      "text/html": [
       "<div>\n",
       "<style scoped>\n",
       "    .dataframe tbody tr th:only-of-type {\n",
       "        vertical-align: middle;\n",
       "    }\n",
       "\n",
       "    .dataframe tbody tr th {\n",
       "        vertical-align: top;\n",
       "    }\n",
       "\n",
       "    .dataframe thead th {\n",
       "        text-align: right;\n",
       "    }\n",
       "</style>\n",
       "<table border=\"1\" class=\"dataframe\">\n",
       "  <thead>\n",
       "    <tr style=\"text-align: right;\">\n",
       "      <th></th>\n",
       "      <th>date</th>\n",
       "      <th>open</th>\n",
       "      <th>high</th>\n",
       "      <th>low</th>\n",
       "      <th>close</th>\n",
       "      <th>volume BTC</th>\n",
       "      <th>volume USD</th>\n",
       "      <th>FAGI_score</th>\n",
       "      <th>scored_title</th>\n",
       "      <th>scored_text</th>\n",
       "      <th>average_score</th>\n",
       "      <th>twitter_followers</th>\n",
       "      <th>twitter_favourites</th>\n",
       "      <th>reddit_subscribers</th>\n",
       "      <th>reddit_active_users</th>\n",
       "      <th>reddit_comments_per_day</th>\n",
       "      <th>FAGI_sentiment_encoded</th>\n",
       "    </tr>\n",
       "  </thead>\n",
       "  <tbody>\n",
       "    <tr>\n",
       "      <th>0</th>\n",
       "      <td>2017-08-17</td>\n",
       "      <td>4261.48</td>\n",
       "      <td>4485.39</td>\n",
       "      <td>4200.74</td>\n",
       "      <td>4285.08</td>\n",
       "      <td>795.150377</td>\n",
       "      <td>3.454770e+06</td>\n",
       "      <td>50.0</td>\n",
       "      <td>0.000000</td>\n",
       "      <td>0.000000</td>\n",
       "      <td>0.000000</td>\n",
       "      <td>1.000000e+03</td>\n",
       "      <td>2163.435644</td>\n",
       "      <td>1.000000e+03</td>\n",
       "      <td>1747.715439</td>\n",
       "      <td>699.824346</td>\n",
       "      <td>2.0</td>\n",
       "    </tr>\n",
       "    <tr>\n",
       "      <th>1</th>\n",
       "      <td>2017-08-18</td>\n",
       "      <td>4285.08</td>\n",
       "      <td>4371.52</td>\n",
       "      <td>3938.77</td>\n",
       "      <td>4108.37</td>\n",
       "      <td>1199.888264</td>\n",
       "      <td>5.086958e+06</td>\n",
       "      <td>50.0</td>\n",
       "      <td>0.000000</td>\n",
       "      <td>0.000000</td>\n",
       "      <td>0.000000</td>\n",
       "      <td>2.209748e+03</td>\n",
       "      <td>2163.435644</td>\n",
       "      <td>1.419855e+03</td>\n",
       "      <td>1747.715439</td>\n",
       "      <td>699.824346</td>\n",
       "      <td>2.0</td>\n",
       "    </tr>\n",
       "    <tr>\n",
       "      <th>2</th>\n",
       "      <td>2017-08-19</td>\n",
       "      <td>4108.37</td>\n",
       "      <td>4184.69</td>\n",
       "      <td>3850.00</td>\n",
       "      <td>4139.98</td>\n",
       "      <td>381.309763</td>\n",
       "      <td>1.549484e+06</td>\n",
       "      <td>50.0</td>\n",
       "      <td>0.000000</td>\n",
       "      <td>0.000000</td>\n",
       "      <td>0.000000</td>\n",
       "      <td>3.419496e+03</td>\n",
       "      <td>2163.435644</td>\n",
       "      <td>1.839711e+03</td>\n",
       "      <td>1747.715439</td>\n",
       "      <td>699.824346</td>\n",
       "      <td>2.0</td>\n",
       "    </tr>\n",
       "    <tr>\n",
       "      <th>3</th>\n",
       "      <td>2017-08-20</td>\n",
       "      <td>4139.98</td>\n",
       "      <td>4211.08</td>\n",
       "      <td>4032.62</td>\n",
       "      <td>4086.29</td>\n",
       "      <td>467.083022</td>\n",
       "      <td>1.930364e+06</td>\n",
       "      <td>50.0</td>\n",
       "      <td>0.000000</td>\n",
       "      <td>0.000000</td>\n",
       "      <td>0.000000</td>\n",
       "      <td>4.629243e+03</td>\n",
       "      <td>2163.435644</td>\n",
       "      <td>2.259566e+03</td>\n",
       "      <td>1747.715439</td>\n",
       "      <td>699.824346</td>\n",
       "      <td>2.0</td>\n",
       "    </tr>\n",
       "    <tr>\n",
       "      <th>4</th>\n",
       "      <td>2017-08-21</td>\n",
       "      <td>4069.13</td>\n",
       "      <td>4119.62</td>\n",
       "      <td>3911.79</td>\n",
       "      <td>4016.00</td>\n",
       "      <td>691.743060</td>\n",
       "      <td>2.797232e+06</td>\n",
       "      <td>50.0</td>\n",
       "      <td>0.000000</td>\n",
       "      <td>0.000000</td>\n",
       "      <td>0.000000</td>\n",
       "      <td>5.838991e+03</td>\n",
       "      <td>2163.435644</td>\n",
       "      <td>2.679422e+03</td>\n",
       "      <td>1747.715439</td>\n",
       "      <td>699.824346</td>\n",
       "      <td>2.0</td>\n",
       "    </tr>\n",
       "    <tr>\n",
       "      <th>...</th>\n",
       "      <td>...</td>\n",
       "      <td>...</td>\n",
       "      <td>...</td>\n",
       "      <td>...</td>\n",
       "      <td>...</td>\n",
       "      <td>...</td>\n",
       "      <td>...</td>\n",
       "      <td>...</td>\n",
       "      <td>...</td>\n",
       "      <td>...</td>\n",
       "      <td>...</td>\n",
       "      <td>...</td>\n",
       "      <td>...</td>\n",
       "      <td>...</td>\n",
       "      <td>...</td>\n",
       "      <td>...</td>\n",
       "      <td>...</td>\n",
       "    </tr>\n",
       "    <tr>\n",
       "      <th>2292</th>\n",
       "      <td>2023-11-26</td>\n",
       "      <td>37780.67</td>\n",
       "      <td>37814.63</td>\n",
       "      <td>37150.00</td>\n",
       "      <td>37447.43</td>\n",
       "      <td>21264.537230</td>\n",
       "      <td>7.973212e+08</td>\n",
       "      <td>73.0</td>\n",
       "      <td>0.858534</td>\n",
       "      <td>0.957825</td>\n",
       "      <td>0.908179</td>\n",
       "      <td>3.171432e+06</td>\n",
       "      <td>2163.435644</td>\n",
       "      <td>2.593963e+06</td>\n",
       "      <td>794.000000</td>\n",
       "      <td>107.410000</td>\n",
       "      <td>3.0</td>\n",
       "    </tr>\n",
       "    <tr>\n",
       "      <th>2293</th>\n",
       "      <td>2023-11-27</td>\n",
       "      <td>37447.42</td>\n",
       "      <td>37569.23</td>\n",
       "      <td>36707.00</td>\n",
       "      <td>37242.70</td>\n",
       "      <td>30001.073760</td>\n",
       "      <td>1.112557e+09</td>\n",
       "      <td>66.0</td>\n",
       "      <td>0.684048</td>\n",
       "      <td>0.937447</td>\n",
       "      <td>0.810748</td>\n",
       "      <td>3.171829e+06</td>\n",
       "      <td>2163.435644</td>\n",
       "      <td>2.594931e+06</td>\n",
       "      <td>760.000000</td>\n",
       "      <td>102.060000</td>\n",
       "      <td>3.0</td>\n",
       "    </tr>\n",
       "    <tr>\n",
       "      <th>2294</th>\n",
       "      <td>2023-11-28</td>\n",
       "      <td>37242.70</td>\n",
       "      <td>38377.00</td>\n",
       "      <td>36868.41</td>\n",
       "      <td>37818.87</td>\n",
       "      <td>37544.466670</td>\n",
       "      <td>1.414360e+09</td>\n",
       "      <td>68.0</td>\n",
       "      <td>0.640768</td>\n",
       "      <td>0.311340</td>\n",
       "      <td>0.476054</td>\n",
       "      <td>3.172244e+06</td>\n",
       "      <td>2163.435644</td>\n",
       "      <td>2.594931e+06</td>\n",
       "      <td>1747.715439</td>\n",
       "      <td>699.824346</td>\n",
       "      <td>3.0</td>\n",
       "    </tr>\n",
       "    <tr>\n",
       "      <th>2295</th>\n",
       "      <td>2023-11-29</td>\n",
       "      <td>37818.88</td>\n",
       "      <td>38450.00</td>\n",
       "      <td>37570.00</td>\n",
       "      <td>37854.64</td>\n",
       "      <td>32994.191070</td>\n",
       "      <td>1.252587e+09</td>\n",
       "      <td>72.0</td>\n",
       "      <td>0.676125</td>\n",
       "      <td>0.648727</td>\n",
       "      <td>0.662426</td>\n",
       "      <td>3.172934e+06</td>\n",
       "      <td>2163.435644</td>\n",
       "      <td>2.594931e+06</td>\n",
       "      <td>1747.715439</td>\n",
       "      <td>699.824346</td>\n",
       "      <td>3.0</td>\n",
       "    </tr>\n",
       "    <tr>\n",
       "      <th>2296</th>\n",
       "      <td>2023-11-30</td>\n",
       "      <td>37854.65</td>\n",
       "      <td>38145.85</td>\n",
       "      <td>37500.00</td>\n",
       "      <td>37723.96</td>\n",
       "      <td>24740.291470</td>\n",
       "      <td>9.344911e+08</td>\n",
       "      <td>74.0</td>\n",
       "      <td>0.631888</td>\n",
       "      <td>0.589097</td>\n",
       "      <td>0.610492</td>\n",
       "      <td>3.173746e+06</td>\n",
       "      <td>2163.435644</td>\n",
       "      <td>2.594931e+06</td>\n",
       "      <td>1747.715439</td>\n",
       "      <td>699.824346</td>\n",
       "      <td>3.0</td>\n",
       "    </tr>\n",
       "  </tbody>\n",
       "</table>\n",
       "<p>2297 rows × 17 columns</p>\n",
       "</div>"
      ],
      "text/plain": [
       "            date      open      high       low     close    volume BTC  \\\n",
       "0     2017-08-17   4261.48   4485.39   4200.74   4285.08    795.150377   \n",
       "1     2017-08-18   4285.08   4371.52   3938.77   4108.37   1199.888264   \n",
       "2     2017-08-19   4108.37   4184.69   3850.00   4139.98    381.309763   \n",
       "3     2017-08-20   4139.98   4211.08   4032.62   4086.29    467.083022   \n",
       "4     2017-08-21   4069.13   4119.62   3911.79   4016.00    691.743060   \n",
       "...          ...       ...       ...       ...       ...           ...   \n",
       "2292  2023-11-26  37780.67  37814.63  37150.00  37447.43  21264.537230   \n",
       "2293  2023-11-27  37447.42  37569.23  36707.00  37242.70  30001.073760   \n",
       "2294  2023-11-28  37242.70  38377.00  36868.41  37818.87  37544.466670   \n",
       "2295  2023-11-29  37818.88  38450.00  37570.00  37854.64  32994.191070   \n",
       "2296  2023-11-30  37854.65  38145.85  37500.00  37723.96  24740.291470   \n",
       "\n",
       "        volume USD  FAGI_score  scored_title  scored_text  average_score  \\\n",
       "0     3.454770e+06        50.0      0.000000     0.000000       0.000000   \n",
       "1     5.086958e+06        50.0      0.000000     0.000000       0.000000   \n",
       "2     1.549484e+06        50.0      0.000000     0.000000       0.000000   \n",
       "3     1.930364e+06        50.0      0.000000     0.000000       0.000000   \n",
       "4     2.797232e+06        50.0      0.000000     0.000000       0.000000   \n",
       "...            ...         ...           ...          ...            ...   \n",
       "2292  7.973212e+08        73.0      0.858534     0.957825       0.908179   \n",
       "2293  1.112557e+09        66.0      0.684048     0.937447       0.810748   \n",
       "2294  1.414360e+09        68.0      0.640768     0.311340       0.476054   \n",
       "2295  1.252587e+09        72.0      0.676125     0.648727       0.662426   \n",
       "2296  9.344911e+08        74.0      0.631888     0.589097       0.610492   \n",
       "\n",
       "      twitter_followers  twitter_favourites  reddit_subscribers  \\\n",
       "0          1.000000e+03         2163.435644        1.000000e+03   \n",
       "1          2.209748e+03         2163.435644        1.419855e+03   \n",
       "2          3.419496e+03         2163.435644        1.839711e+03   \n",
       "3          4.629243e+03         2163.435644        2.259566e+03   \n",
       "4          5.838991e+03         2163.435644        2.679422e+03   \n",
       "...                 ...                 ...                 ...   \n",
       "2292       3.171432e+06         2163.435644        2.593963e+06   \n",
       "2293       3.171829e+06         2163.435644        2.594931e+06   \n",
       "2294       3.172244e+06         2163.435644        2.594931e+06   \n",
       "2295       3.172934e+06         2163.435644        2.594931e+06   \n",
       "2296       3.173746e+06         2163.435644        2.594931e+06   \n",
       "\n",
       "      reddit_active_users  reddit_comments_per_day  FAGI_sentiment_encoded  \n",
       "0             1747.715439               699.824346                     2.0  \n",
       "1             1747.715439               699.824346                     2.0  \n",
       "2             1747.715439               699.824346                     2.0  \n",
       "3             1747.715439               699.824346                     2.0  \n",
       "4             1747.715439               699.824346                     2.0  \n",
       "...                   ...                      ...                     ...  \n",
       "2292           794.000000               107.410000                     3.0  \n",
       "2293           760.000000               102.060000                     3.0  \n",
       "2294          1747.715439               699.824346                     3.0  \n",
       "2295          1747.715439               699.824346                     3.0  \n",
       "2296          1747.715439               699.824346                     3.0  \n",
       "\n",
       "[2297 rows x 17 columns]"
      ]
     },
     "execution_count": 19,
     "metadata": {},
     "output_type": "execute_result"
    }
   ],
   "source": [
    "df\n"
   ]
  },
  {
   "cell_type": "code",
   "execution_count": 20,
   "metadata": {},
   "outputs": [],
   "source": [
    "df.index = pd.to_datetime(df.date)\n"
   ]
  },
  {
   "cell_type": "code",
   "execution_count": 21,
   "metadata": {},
   "outputs": [],
   "source": [
    "df.drop(columns=\"date\",inplace=True)\n"
   ]
  },
  {
   "cell_type": "code",
   "execution_count": 22,
   "metadata": {},
   "outputs": [
    {
     "data": {
      "text/html": [
       "<div>\n",
       "<style scoped>\n",
       "    .dataframe tbody tr th:only-of-type {\n",
       "        vertical-align: middle;\n",
       "    }\n",
       "\n",
       "    .dataframe tbody tr th {\n",
       "        vertical-align: top;\n",
       "    }\n",
       "\n",
       "    .dataframe thead th {\n",
       "        text-align: right;\n",
       "    }\n",
       "</style>\n",
       "<table border=\"1\" class=\"dataframe\">\n",
       "  <thead>\n",
       "    <tr style=\"text-align: right;\">\n",
       "      <th></th>\n",
       "      <th>open</th>\n",
       "      <th>high</th>\n",
       "      <th>low</th>\n",
       "      <th>close</th>\n",
       "      <th>volume BTC</th>\n",
       "      <th>volume USD</th>\n",
       "      <th>FAGI_score</th>\n",
       "      <th>scored_title</th>\n",
       "      <th>scored_text</th>\n",
       "      <th>average_score</th>\n",
       "      <th>twitter_followers</th>\n",
       "      <th>twitter_favourites</th>\n",
       "      <th>reddit_subscribers</th>\n",
       "      <th>reddit_active_users</th>\n",
       "      <th>reddit_comments_per_day</th>\n",
       "      <th>FAGI_sentiment_encoded</th>\n",
       "    </tr>\n",
       "    <tr>\n",
       "      <th>date</th>\n",
       "      <th></th>\n",
       "      <th></th>\n",
       "      <th></th>\n",
       "      <th></th>\n",
       "      <th></th>\n",
       "      <th></th>\n",
       "      <th></th>\n",
       "      <th></th>\n",
       "      <th></th>\n",
       "      <th></th>\n",
       "      <th></th>\n",
       "      <th></th>\n",
       "      <th></th>\n",
       "      <th></th>\n",
       "      <th></th>\n",
       "      <th></th>\n",
       "    </tr>\n",
       "  </thead>\n",
       "  <tbody>\n",
       "    <tr>\n",
       "      <th>2017-08-17</th>\n",
       "      <td>4261.48</td>\n",
       "      <td>4485.39</td>\n",
       "      <td>4200.74</td>\n",
       "      <td>4285.08</td>\n",
       "      <td>795.150377</td>\n",
       "      <td>3.454770e+06</td>\n",
       "      <td>50.0</td>\n",
       "      <td>0.000000</td>\n",
       "      <td>0.000000</td>\n",
       "      <td>0.000000</td>\n",
       "      <td>1.000000e+03</td>\n",
       "      <td>2163.435644</td>\n",
       "      <td>1.000000e+03</td>\n",
       "      <td>1747.715439</td>\n",
       "      <td>699.824346</td>\n",
       "      <td>2.0</td>\n",
       "    </tr>\n",
       "    <tr>\n",
       "      <th>2017-08-18</th>\n",
       "      <td>4285.08</td>\n",
       "      <td>4371.52</td>\n",
       "      <td>3938.77</td>\n",
       "      <td>4108.37</td>\n",
       "      <td>1199.888264</td>\n",
       "      <td>5.086958e+06</td>\n",
       "      <td>50.0</td>\n",
       "      <td>0.000000</td>\n",
       "      <td>0.000000</td>\n",
       "      <td>0.000000</td>\n",
       "      <td>2.209748e+03</td>\n",
       "      <td>2163.435644</td>\n",
       "      <td>1.419855e+03</td>\n",
       "      <td>1747.715439</td>\n",
       "      <td>699.824346</td>\n",
       "      <td>2.0</td>\n",
       "    </tr>\n",
       "    <tr>\n",
       "      <th>2017-08-19</th>\n",
       "      <td>4108.37</td>\n",
       "      <td>4184.69</td>\n",
       "      <td>3850.00</td>\n",
       "      <td>4139.98</td>\n",
       "      <td>381.309763</td>\n",
       "      <td>1.549484e+06</td>\n",
       "      <td>50.0</td>\n",
       "      <td>0.000000</td>\n",
       "      <td>0.000000</td>\n",
       "      <td>0.000000</td>\n",
       "      <td>3.419496e+03</td>\n",
       "      <td>2163.435644</td>\n",
       "      <td>1.839711e+03</td>\n",
       "      <td>1747.715439</td>\n",
       "      <td>699.824346</td>\n",
       "      <td>2.0</td>\n",
       "    </tr>\n",
       "    <tr>\n",
       "      <th>2017-08-20</th>\n",
       "      <td>4139.98</td>\n",
       "      <td>4211.08</td>\n",
       "      <td>4032.62</td>\n",
       "      <td>4086.29</td>\n",
       "      <td>467.083022</td>\n",
       "      <td>1.930364e+06</td>\n",
       "      <td>50.0</td>\n",
       "      <td>0.000000</td>\n",
       "      <td>0.000000</td>\n",
       "      <td>0.000000</td>\n",
       "      <td>4.629243e+03</td>\n",
       "      <td>2163.435644</td>\n",
       "      <td>2.259566e+03</td>\n",
       "      <td>1747.715439</td>\n",
       "      <td>699.824346</td>\n",
       "      <td>2.0</td>\n",
       "    </tr>\n",
       "    <tr>\n",
       "      <th>2017-08-21</th>\n",
       "      <td>4069.13</td>\n",
       "      <td>4119.62</td>\n",
       "      <td>3911.79</td>\n",
       "      <td>4016.00</td>\n",
       "      <td>691.743060</td>\n",
       "      <td>2.797232e+06</td>\n",
       "      <td>50.0</td>\n",
       "      <td>0.000000</td>\n",
       "      <td>0.000000</td>\n",
       "      <td>0.000000</td>\n",
       "      <td>5.838991e+03</td>\n",
       "      <td>2163.435644</td>\n",
       "      <td>2.679422e+03</td>\n",
       "      <td>1747.715439</td>\n",
       "      <td>699.824346</td>\n",
       "      <td>2.0</td>\n",
       "    </tr>\n",
       "    <tr>\n",
       "      <th>...</th>\n",
       "      <td>...</td>\n",
       "      <td>...</td>\n",
       "      <td>...</td>\n",
       "      <td>...</td>\n",
       "      <td>...</td>\n",
       "      <td>...</td>\n",
       "      <td>...</td>\n",
       "      <td>...</td>\n",
       "      <td>...</td>\n",
       "      <td>...</td>\n",
       "      <td>...</td>\n",
       "      <td>...</td>\n",
       "      <td>...</td>\n",
       "      <td>...</td>\n",
       "      <td>...</td>\n",
       "      <td>...</td>\n",
       "    </tr>\n",
       "    <tr>\n",
       "      <th>2023-11-26</th>\n",
       "      <td>37780.67</td>\n",
       "      <td>37814.63</td>\n",
       "      <td>37150.00</td>\n",
       "      <td>37447.43</td>\n",
       "      <td>21264.537230</td>\n",
       "      <td>7.973212e+08</td>\n",
       "      <td>73.0</td>\n",
       "      <td>0.858534</td>\n",
       "      <td>0.957825</td>\n",
       "      <td>0.908179</td>\n",
       "      <td>3.171432e+06</td>\n",
       "      <td>2163.435644</td>\n",
       "      <td>2.593963e+06</td>\n",
       "      <td>794.000000</td>\n",
       "      <td>107.410000</td>\n",
       "      <td>3.0</td>\n",
       "    </tr>\n",
       "    <tr>\n",
       "      <th>2023-11-27</th>\n",
       "      <td>37447.42</td>\n",
       "      <td>37569.23</td>\n",
       "      <td>36707.00</td>\n",
       "      <td>37242.70</td>\n",
       "      <td>30001.073760</td>\n",
       "      <td>1.112557e+09</td>\n",
       "      <td>66.0</td>\n",
       "      <td>0.684048</td>\n",
       "      <td>0.937447</td>\n",
       "      <td>0.810748</td>\n",
       "      <td>3.171829e+06</td>\n",
       "      <td>2163.435644</td>\n",
       "      <td>2.594931e+06</td>\n",
       "      <td>760.000000</td>\n",
       "      <td>102.060000</td>\n",
       "      <td>3.0</td>\n",
       "    </tr>\n",
       "    <tr>\n",
       "      <th>2023-11-28</th>\n",
       "      <td>37242.70</td>\n",
       "      <td>38377.00</td>\n",
       "      <td>36868.41</td>\n",
       "      <td>37818.87</td>\n",
       "      <td>37544.466670</td>\n",
       "      <td>1.414360e+09</td>\n",
       "      <td>68.0</td>\n",
       "      <td>0.640768</td>\n",
       "      <td>0.311340</td>\n",
       "      <td>0.476054</td>\n",
       "      <td>3.172244e+06</td>\n",
       "      <td>2163.435644</td>\n",
       "      <td>2.594931e+06</td>\n",
       "      <td>1747.715439</td>\n",
       "      <td>699.824346</td>\n",
       "      <td>3.0</td>\n",
       "    </tr>\n",
       "    <tr>\n",
       "      <th>2023-11-29</th>\n",
       "      <td>37818.88</td>\n",
       "      <td>38450.00</td>\n",
       "      <td>37570.00</td>\n",
       "      <td>37854.64</td>\n",
       "      <td>32994.191070</td>\n",
       "      <td>1.252587e+09</td>\n",
       "      <td>72.0</td>\n",
       "      <td>0.676125</td>\n",
       "      <td>0.648727</td>\n",
       "      <td>0.662426</td>\n",
       "      <td>3.172934e+06</td>\n",
       "      <td>2163.435644</td>\n",
       "      <td>2.594931e+06</td>\n",
       "      <td>1747.715439</td>\n",
       "      <td>699.824346</td>\n",
       "      <td>3.0</td>\n",
       "    </tr>\n",
       "    <tr>\n",
       "      <th>2023-11-30</th>\n",
       "      <td>37854.65</td>\n",
       "      <td>38145.85</td>\n",
       "      <td>37500.00</td>\n",
       "      <td>37723.96</td>\n",
       "      <td>24740.291470</td>\n",
       "      <td>9.344911e+08</td>\n",
       "      <td>74.0</td>\n",
       "      <td>0.631888</td>\n",
       "      <td>0.589097</td>\n",
       "      <td>0.610492</td>\n",
       "      <td>3.173746e+06</td>\n",
       "      <td>2163.435644</td>\n",
       "      <td>2.594931e+06</td>\n",
       "      <td>1747.715439</td>\n",
       "      <td>699.824346</td>\n",
       "      <td>3.0</td>\n",
       "    </tr>\n",
       "  </tbody>\n",
       "</table>\n",
       "<p>2297 rows × 16 columns</p>\n",
       "</div>"
      ],
      "text/plain": [
       "                open      high       low     close    volume BTC  \\\n",
       "date                                                               \n",
       "2017-08-17   4261.48   4485.39   4200.74   4285.08    795.150377   \n",
       "2017-08-18   4285.08   4371.52   3938.77   4108.37   1199.888264   \n",
       "2017-08-19   4108.37   4184.69   3850.00   4139.98    381.309763   \n",
       "2017-08-20   4139.98   4211.08   4032.62   4086.29    467.083022   \n",
       "2017-08-21   4069.13   4119.62   3911.79   4016.00    691.743060   \n",
       "...              ...       ...       ...       ...           ...   \n",
       "2023-11-26  37780.67  37814.63  37150.00  37447.43  21264.537230   \n",
       "2023-11-27  37447.42  37569.23  36707.00  37242.70  30001.073760   \n",
       "2023-11-28  37242.70  38377.00  36868.41  37818.87  37544.466670   \n",
       "2023-11-29  37818.88  38450.00  37570.00  37854.64  32994.191070   \n",
       "2023-11-30  37854.65  38145.85  37500.00  37723.96  24740.291470   \n",
       "\n",
       "              volume USD  FAGI_score  scored_title  scored_text  \\\n",
       "date                                                              \n",
       "2017-08-17  3.454770e+06        50.0      0.000000     0.000000   \n",
       "2017-08-18  5.086958e+06        50.0      0.000000     0.000000   \n",
       "2017-08-19  1.549484e+06        50.0      0.000000     0.000000   \n",
       "2017-08-20  1.930364e+06        50.0      0.000000     0.000000   \n",
       "2017-08-21  2.797232e+06        50.0      0.000000     0.000000   \n",
       "...                  ...         ...           ...          ...   \n",
       "2023-11-26  7.973212e+08        73.0      0.858534     0.957825   \n",
       "2023-11-27  1.112557e+09        66.0      0.684048     0.937447   \n",
       "2023-11-28  1.414360e+09        68.0      0.640768     0.311340   \n",
       "2023-11-29  1.252587e+09        72.0      0.676125     0.648727   \n",
       "2023-11-30  9.344911e+08        74.0      0.631888     0.589097   \n",
       "\n",
       "            average_score  twitter_followers  twitter_favourites  \\\n",
       "date                                                               \n",
       "2017-08-17       0.000000       1.000000e+03         2163.435644   \n",
       "2017-08-18       0.000000       2.209748e+03         2163.435644   \n",
       "2017-08-19       0.000000       3.419496e+03         2163.435644   \n",
       "2017-08-20       0.000000       4.629243e+03         2163.435644   \n",
       "2017-08-21       0.000000       5.838991e+03         2163.435644   \n",
       "...                   ...                ...                 ...   \n",
       "2023-11-26       0.908179       3.171432e+06         2163.435644   \n",
       "2023-11-27       0.810748       3.171829e+06         2163.435644   \n",
       "2023-11-28       0.476054       3.172244e+06         2163.435644   \n",
       "2023-11-29       0.662426       3.172934e+06         2163.435644   \n",
       "2023-11-30       0.610492       3.173746e+06         2163.435644   \n",
       "\n",
       "            reddit_subscribers  reddit_active_users  reddit_comments_per_day  \\\n",
       "date                                                                           \n",
       "2017-08-17        1.000000e+03          1747.715439               699.824346   \n",
       "2017-08-18        1.419855e+03          1747.715439               699.824346   \n",
       "2017-08-19        1.839711e+03          1747.715439               699.824346   \n",
       "2017-08-20        2.259566e+03          1747.715439               699.824346   \n",
       "2017-08-21        2.679422e+03          1747.715439               699.824346   \n",
       "...                        ...                  ...                      ...   \n",
       "2023-11-26        2.593963e+06           794.000000               107.410000   \n",
       "2023-11-27        2.594931e+06           760.000000               102.060000   \n",
       "2023-11-28        2.594931e+06          1747.715439               699.824346   \n",
       "2023-11-29        2.594931e+06          1747.715439               699.824346   \n",
       "2023-11-30        2.594931e+06          1747.715439               699.824346   \n",
       "\n",
       "            FAGI_sentiment_encoded  \n",
       "date                                \n",
       "2017-08-17                     2.0  \n",
       "2017-08-18                     2.0  \n",
       "2017-08-19                     2.0  \n",
       "2017-08-20                     2.0  \n",
       "2017-08-21                     2.0  \n",
       "...                            ...  \n",
       "2023-11-26                     3.0  \n",
       "2023-11-27                     3.0  \n",
       "2023-11-28                     3.0  \n",
       "2023-11-29                     3.0  \n",
       "2023-11-30                     3.0  \n",
       "\n",
       "[2297 rows x 16 columns]"
      ]
     },
     "execution_count": 22,
     "metadata": {},
     "output_type": "execute_result"
    }
   ],
   "source": [
    "df\n"
   ]
  },
  {
   "cell_type": "markdown",
   "metadata": {},
   "source": [
    "### __*Scaling and Converting the data*__"
   ]
  },
  {
   "cell_type": "code",
   "execution_count": 23,
   "metadata": {},
   "outputs": [],
   "source": [
    "#freq: This parameter defines the frequency or time interval between consecutive data points in the time series.\n",
    "#'D': It means that each data point in the time series corresponds to an hour\n",
    "\n",
    "timeseries = TimeSeries.from_dataframe(df, freq='D')\n"
   ]
  },
  {
   "cell_type": "code",
   "execution_count": 24,
   "metadata": {},
   "outputs": [],
   "source": [
    "# Here we are converting the MinMax scaler to a Time Series version of it\n",
    "\n",
    "from darts.dataprocessing.transformers.scaler import Scaler\n",
    "from sklearn.preprocessing import MinMaxScaler\n",
    "scaler = MinMaxScaler()\n",
    "ts_scaler = Scaler(scaler)\n",
    "ts_scaler_target = Scaler(scaler)\n"
   ]
  },
  {
   "cell_type": "code",
   "execution_count": 25,
   "metadata": {},
   "outputs": [],
   "source": [
    "\n",
    "scaled_df = ts_scaler.fit_transform(timeseries)\n",
    "ts_scaler_target = ts_scaler_target.fit(timeseries[\"close\"])\n"
   ]
  },
  {
   "cell_type": "markdown",
   "metadata": {},
   "source": [
    "### __*Cleaning Missing data*__"
   ]
  },
  {
   "cell_type": "code",
   "execution_count": 26,
   "metadata": {},
   "outputs": [
    {
     "data": {
      "text/html": [
       "<div><svg style=\"position: absolute; width: 0; height: 0; overflow: hidden\">\n",
       "<defs>\n",
       "<symbol id=\"icon-database\" viewBox=\"0 0 32 32\">\n",
       "<path d=\"M16 0c-8.837 0-16 2.239-16 5v4c0 2.761 7.163 5 16 5s16-2.239 16-5v-4c0-2.761-7.163-5-16-5z\"></path>\n",
       "<path d=\"M16 17c-8.837 0-16-2.239-16-5v6c0 2.761 7.163 5 16 5s16-2.239 16-5v-6c0 2.761-7.163 5-16 5z\"></path>\n",
       "<path d=\"M16 26c-8.837 0-16-2.239-16-5v6c0 2.761 7.163 5 16 5s16-2.239 16-5v-6c0 2.761-7.163 5-16 5z\"></path>\n",
       "</symbol>\n",
       "<symbol id=\"icon-file-text2\" viewBox=\"0 0 32 32\">\n",
       "<path d=\"M28.681 7.159c-0.694-0.947-1.662-2.053-2.724-3.116s-2.169-2.030-3.116-2.724c-1.612-1.182-2.393-1.319-2.841-1.319h-15.5c-1.378 0-2.5 1.121-2.5 2.5v27c0 1.378 1.122 2.5 2.5 2.5h23c1.378 0 2.5-1.122 2.5-2.5v-19.5c0-0.448-0.137-1.23-1.319-2.841zM24.543 5.457c0.959 0.959 1.712 1.825 2.268 2.543h-4.811v-4.811c0.718 0.556 1.584 1.309 2.543 2.268zM28 29.5c0 0.271-0.229 0.5-0.5 0.5h-23c-0.271 0-0.5-0.229-0.5-0.5v-27c0-0.271 0.229-0.5 0.5-0.5 0 0 15.499-0 15.5 0v7c0 0.552 0.448 1 1 1h7v19.5z\"></path>\n",
       "<path d=\"M23 26h-14c-0.552 0-1-0.448-1-1s0.448-1 1-1h14c0.552 0 1 0.448 1 1s-0.448 1-1 1z\"></path>\n",
       "<path d=\"M23 22h-14c-0.552 0-1-0.448-1-1s0.448-1 1-1h14c0.552 0 1 0.448 1 1s-0.448 1-1 1z\"></path>\n",
       "<path d=\"M23 18h-14c-0.552 0-1-0.448-1-1s0.448-1 1-1h14c0.552 0 1 0.448 1 1s-0.448 1-1 1z\"></path>\n",
       "</symbol>\n",
       "</defs>\n",
       "</svg>\n",
       "<style>/* CSS stylesheet for displaying xarray objects in jupyterlab.\n",
       " *\n",
       " */\n",
       "\n",
       ":root {\n",
       "  --xr-font-color0: var(--jp-content-font-color0, rgba(0, 0, 0, 1));\n",
       "  --xr-font-color2: var(--jp-content-font-color2, rgba(0, 0, 0, 0.54));\n",
       "  --xr-font-color3: var(--jp-content-font-color3, rgba(0, 0, 0, 0.38));\n",
       "  --xr-border-color: var(--jp-border-color2, #e0e0e0);\n",
       "  --xr-disabled-color: var(--jp-layout-color3, #bdbdbd);\n",
       "  --xr-background-color: var(--jp-layout-color0, white);\n",
       "  --xr-background-color-row-even: var(--jp-layout-color1, white);\n",
       "  --xr-background-color-row-odd: var(--jp-layout-color2, #eeeeee);\n",
       "}\n",
       "\n",
       "html[theme=dark],\n",
       "body[data-theme=dark],\n",
       "body.vscode-dark {\n",
       "  --xr-font-color0: rgba(255, 255, 255, 1);\n",
       "  --xr-font-color2: rgba(255, 255, 255, 0.54);\n",
       "  --xr-font-color3: rgba(255, 255, 255, 0.38);\n",
       "  --xr-border-color: #1F1F1F;\n",
       "  --xr-disabled-color: #515151;\n",
       "  --xr-background-color: #111111;\n",
       "  --xr-background-color-row-even: #111111;\n",
       "  --xr-background-color-row-odd: #313131;\n",
       "}\n",
       "\n",
       ".xr-wrap {\n",
       "  display: block !important;\n",
       "  min-width: 300px;\n",
       "  max-width: 700px;\n",
       "}\n",
       "\n",
       ".xr-text-repr-fallback {\n",
       "  /* fallback to plain text repr when CSS is not injected (untrusted notebook) */\n",
       "  display: none;\n",
       "}\n",
       "\n",
       ".xr-header {\n",
       "  padding-top: 6px;\n",
       "  padding-bottom: 6px;\n",
       "  margin-bottom: 4px;\n",
       "  border-bottom: solid 1px var(--xr-border-color);\n",
       "}\n",
       "\n",
       ".xr-header > div,\n",
       ".xr-header > ul {\n",
       "  display: inline;\n",
       "  margin-top: 0;\n",
       "  margin-bottom: 0;\n",
       "}\n",
       "\n",
       ".xr-obj-type,\n",
       ".xr-array-name {\n",
       "  margin-left: 2px;\n",
       "  margin-right: 10px;\n",
       "}\n",
       "\n",
       ".xr-obj-type {\n",
       "  color: var(--xr-font-color2);\n",
       "}\n",
       "\n",
       ".xr-sections {\n",
       "  padding-left: 0 !important;\n",
       "  display: grid;\n",
       "  grid-template-columns: 150px auto auto 1fr 20px 20px;\n",
       "}\n",
       "\n",
       ".xr-section-item {\n",
       "  display: contents;\n",
       "}\n",
       "\n",
       ".xr-section-item input {\n",
       "  display: none;\n",
       "}\n",
       "\n",
       ".xr-section-item input + label {\n",
       "  color: var(--xr-disabled-color);\n",
       "}\n",
       "\n",
       ".xr-section-item input:enabled + label {\n",
       "  cursor: pointer;\n",
       "  color: var(--xr-font-color2);\n",
       "}\n",
       "\n",
       ".xr-section-item input:enabled + label:hover {\n",
       "  color: var(--xr-font-color0);\n",
       "}\n",
       "\n",
       ".xr-section-summary {\n",
       "  grid-column: 1;\n",
       "  color: var(--xr-font-color2);\n",
       "  font-weight: 500;\n",
       "}\n",
       "\n",
       ".xr-section-summary > span {\n",
       "  display: inline-block;\n",
       "  padding-left: 0.5em;\n",
       "}\n",
       "\n",
       ".xr-section-summary-in:disabled + label {\n",
       "  color: var(--xr-font-color2);\n",
       "}\n",
       "\n",
       ".xr-section-summary-in + label:before {\n",
       "  display: inline-block;\n",
       "  content: '►';\n",
       "  font-size: 11px;\n",
       "  width: 15px;\n",
       "  text-align: center;\n",
       "}\n",
       "\n",
       ".xr-section-summary-in:disabled + label:before {\n",
       "  color: var(--xr-disabled-color);\n",
       "}\n",
       "\n",
       ".xr-section-summary-in:checked + label:before {\n",
       "  content: '▼';\n",
       "}\n",
       "\n",
       ".xr-section-summary-in:checked + label > span {\n",
       "  display: none;\n",
       "}\n",
       "\n",
       ".xr-section-summary,\n",
       ".xr-section-inline-details {\n",
       "  padding-top: 4px;\n",
       "  padding-bottom: 4px;\n",
       "}\n",
       "\n",
       ".xr-section-inline-details {\n",
       "  grid-column: 2 / -1;\n",
       "}\n",
       "\n",
       ".xr-section-details {\n",
       "  display: none;\n",
       "  grid-column: 1 / -1;\n",
       "  margin-bottom: 5px;\n",
       "}\n",
       "\n",
       ".xr-section-summary-in:checked ~ .xr-section-details {\n",
       "  display: contents;\n",
       "}\n",
       "\n",
       ".xr-array-wrap {\n",
       "  grid-column: 1 / -1;\n",
       "  display: grid;\n",
       "  grid-template-columns: 20px auto;\n",
       "}\n",
       "\n",
       ".xr-array-wrap > label {\n",
       "  grid-column: 1;\n",
       "  vertical-align: top;\n",
       "}\n",
       "\n",
       ".xr-preview {\n",
       "  color: var(--xr-font-color3);\n",
       "}\n",
       "\n",
       ".xr-array-preview,\n",
       ".xr-array-data {\n",
       "  padding: 0 5px !important;\n",
       "  grid-column: 2;\n",
       "}\n",
       "\n",
       ".xr-array-data,\n",
       ".xr-array-in:checked ~ .xr-array-preview {\n",
       "  display: none;\n",
       "}\n",
       "\n",
       ".xr-array-in:checked ~ .xr-array-data,\n",
       ".xr-array-preview {\n",
       "  display: inline-block;\n",
       "}\n",
       "\n",
       ".xr-dim-list {\n",
       "  display: inline-block !important;\n",
       "  list-style: none;\n",
       "  padding: 0 !important;\n",
       "  margin: 0;\n",
       "}\n",
       "\n",
       ".xr-dim-list li {\n",
       "  display: inline-block;\n",
       "  padding: 0;\n",
       "  margin: 0;\n",
       "}\n",
       "\n",
       ".xr-dim-list:before {\n",
       "  content: '(';\n",
       "}\n",
       "\n",
       ".xr-dim-list:after {\n",
       "  content: ')';\n",
       "}\n",
       "\n",
       ".xr-dim-list li:not(:last-child):after {\n",
       "  content: ',';\n",
       "  padding-right: 5px;\n",
       "}\n",
       "\n",
       ".xr-has-index {\n",
       "  font-weight: bold;\n",
       "}\n",
       "\n",
       ".xr-var-list,\n",
       ".xr-var-item {\n",
       "  display: contents;\n",
       "}\n",
       "\n",
       ".xr-var-item > div,\n",
       ".xr-var-item label,\n",
       ".xr-var-item > .xr-var-name span {\n",
       "  background-color: var(--xr-background-color-row-even);\n",
       "  margin-bottom: 0;\n",
       "}\n",
       "\n",
       ".xr-var-item > .xr-var-name:hover span {\n",
       "  padding-right: 5px;\n",
       "}\n",
       "\n",
       ".xr-var-list > li:nth-child(odd) > div,\n",
       ".xr-var-list > li:nth-child(odd) > label,\n",
       ".xr-var-list > li:nth-child(odd) > .xr-var-name span {\n",
       "  background-color: var(--xr-background-color-row-odd);\n",
       "}\n",
       "\n",
       ".xr-var-name {\n",
       "  grid-column: 1;\n",
       "}\n",
       "\n",
       ".xr-var-dims {\n",
       "  grid-column: 2;\n",
       "}\n",
       "\n",
       ".xr-var-dtype {\n",
       "  grid-column: 3;\n",
       "  text-align: right;\n",
       "  color: var(--xr-font-color2);\n",
       "}\n",
       "\n",
       ".xr-var-preview {\n",
       "  grid-column: 4;\n",
       "}\n",
       "\n",
       ".xr-index-preview {\n",
       "  grid-column: 2 / 5;\n",
       "  color: var(--xr-font-color2);\n",
       "}\n",
       "\n",
       ".xr-var-name,\n",
       ".xr-var-dims,\n",
       ".xr-var-dtype,\n",
       ".xr-preview,\n",
       ".xr-attrs dt {\n",
       "  white-space: nowrap;\n",
       "  overflow: hidden;\n",
       "  text-overflow: ellipsis;\n",
       "  padding-right: 10px;\n",
       "}\n",
       "\n",
       ".xr-var-name:hover,\n",
       ".xr-var-dims:hover,\n",
       ".xr-var-dtype:hover,\n",
       ".xr-attrs dt:hover {\n",
       "  overflow: visible;\n",
       "  width: auto;\n",
       "  z-index: 1;\n",
       "}\n",
       "\n",
       ".xr-var-attrs,\n",
       ".xr-var-data,\n",
       ".xr-index-data {\n",
       "  display: none;\n",
       "  background-color: var(--xr-background-color) !important;\n",
       "  padding-bottom: 5px !important;\n",
       "}\n",
       "\n",
       ".xr-var-attrs-in:checked ~ .xr-var-attrs,\n",
       ".xr-var-data-in:checked ~ .xr-var-data,\n",
       ".xr-index-data-in:checked ~ .xr-index-data {\n",
       "  display: block;\n",
       "}\n",
       "\n",
       ".xr-var-data > table {\n",
       "  float: right;\n",
       "}\n",
       "\n",
       ".xr-var-name span,\n",
       ".xr-var-data,\n",
       ".xr-index-name div,\n",
       ".xr-index-data,\n",
       ".xr-attrs {\n",
       "  padding-left: 25px !important;\n",
       "}\n",
       "\n",
       ".xr-attrs,\n",
       ".xr-var-attrs,\n",
       ".xr-var-data,\n",
       ".xr-index-data {\n",
       "  grid-column: 1 / -1;\n",
       "}\n",
       "\n",
       "dl.xr-attrs {\n",
       "  padding: 0;\n",
       "  margin: 0;\n",
       "  display: grid;\n",
       "  grid-template-columns: 125px auto;\n",
       "}\n",
       "\n",
       ".xr-attrs dt,\n",
       ".xr-attrs dd {\n",
       "  padding: 0;\n",
       "  margin: 0;\n",
       "  float: left;\n",
       "  padding-right: 10px;\n",
       "  width: auto;\n",
       "}\n",
       "\n",
       ".xr-attrs dt {\n",
       "  font-weight: normal;\n",
       "  grid-column: 1;\n",
       "}\n",
       "\n",
       ".xr-attrs dt:hover span {\n",
       "  display: inline-block;\n",
       "  background: var(--xr-background-color);\n",
       "  padding-right: 10px;\n",
       "}\n",
       "\n",
       ".xr-attrs dd {\n",
       "  grid-column: 2;\n",
       "  white-space: pre-wrap;\n",
       "  word-break: break-all;\n",
       "}\n",
       "\n",
       ".xr-icon-database,\n",
       ".xr-icon-file-text2,\n",
       ".xr-no-icon {\n",
       "  display: inline-block;\n",
       "  vertical-align: middle;\n",
       "  width: 1em;\n",
       "  height: 1.5em !important;\n",
       "  stroke-width: 0;\n",
       "  stroke: currentColor;\n",
       "  fill: currentColor;\n",
       "}\n",
       "</style><pre class='xr-text-repr-fallback'>&lt;TimeSeries (DataArray) (date: 2297, component: 16, sample: 1)&gt;\n",
       "array([[[0.0166849 ],\n",
       "        [0.01839357],\n",
       "        [0.02182369],\n",
       "        ...,\n",
       "        [0.2445421 ],\n",
       "        [0.14865773],\n",
       "        [0.5       ]],\n",
       "\n",
       "       [[0.01705172],\n",
       "        [0.01666101],\n",
       "        [0.01769203],\n",
       "        ...,\n",
       "        [0.2445421 ],\n",
       "        [0.14865773],\n",
       "        [0.5       ]],\n",
       "\n",
       "       [[0.01430512],\n",
       "        [0.01381835],\n",
       "        [0.01629199],\n",
       "        ...,\n",
       "...\n",
       "        ...,\n",
       "        [0.2445421 ],\n",
       "        [0.14865773],\n",
       "        [0.75      ]],\n",
       "\n",
       "       [[0.53826622],\n",
       "        [0.53517387],\n",
       "        [0.54810789],\n",
       "        ...,\n",
       "        [0.2445421 ],\n",
       "        [0.14865773],\n",
       "        [0.75      ]],\n",
       "\n",
       "       [[0.53882219],\n",
       "        [0.53054615],\n",
       "        [0.54700388],\n",
       "        ...,\n",
       "        [0.2445421 ],\n",
       "        [0.14865773],\n",
       "        [0.75      ]]])\n",
       "Coordinates:\n",
       "  * date       (date) datetime64[ns] 2017-08-17 2017-08-18 ... 2023-11-30\n",
       "  * component  (component) object &#x27;open&#x27; &#x27;high&#x27; ... &#x27;FAGI_sentiment_encoded&#x27;\n",
       "Dimensions without coordinates: sample\n",
       "Attributes:\n",
       "    static_covariates:  None\n",
       "    hierarchy:          None</pre><div class='xr-wrap' style='display:none'><div class='xr-header'><div class='xr-obj-type'>TimeSeries (DataArray)</div><div class='xr-array-name'></div><ul class='xr-dim-list'><li><span class='xr-has-index'>date</span>: 2297</li><li><span class='xr-has-index'>component</span>: 16</li><li><span>sample</span>: 1</li></ul></div><ul class='xr-sections'><li class='xr-section-item'><div class='xr-array-wrap'><input id='section-72c9ed92-12f5-4602-90dc-ecc827f034b8' class='xr-array-in' type='checkbox' checked><label for='section-72c9ed92-12f5-4602-90dc-ecc827f034b8' title='Show/hide data repr'><svg class='icon xr-icon-database'><use xlink:href='#icon-database'></use></svg></label><div class='xr-array-preview xr-preview'><span>0.01668 0.01839 0.02182 0.01704 0.0007456 ... 1.0 0.2445 0.1487 0.75</span></div><div class='xr-array-data'><pre>array([[[0.0166849 ],\n",
       "        [0.01839357],\n",
       "        [0.02182369],\n",
       "        ...,\n",
       "        [0.2445421 ],\n",
       "        [0.14865773],\n",
       "        [0.5       ]],\n",
       "\n",
       "       [[0.01705172],\n",
       "        [0.01666101],\n",
       "        [0.01769203],\n",
       "        ...,\n",
       "        [0.2445421 ],\n",
       "        [0.14865773],\n",
       "        [0.5       ]],\n",
       "\n",
       "       [[0.01430512],\n",
       "        [0.01381835],\n",
       "        [0.01629199],\n",
       "        ...,\n",
       "...\n",
       "        ...,\n",
       "        [0.2445421 ],\n",
       "        [0.14865773],\n",
       "        [0.75      ]],\n",
       "\n",
       "       [[0.53826622],\n",
       "        [0.53517387],\n",
       "        [0.54810789],\n",
       "        ...,\n",
       "        [0.2445421 ],\n",
       "        [0.14865773],\n",
       "        [0.75      ]],\n",
       "\n",
       "       [[0.53882219],\n",
       "        [0.53054615],\n",
       "        [0.54700388],\n",
       "        ...,\n",
       "        [0.2445421 ],\n",
       "        [0.14865773],\n",
       "        [0.75      ]]])</pre></div></div></li><li class='xr-section-item'><input id='section-3ee2b2c1-1aeb-4d03-b0be-a9b3e12ea2b6' class='xr-section-summary-in' type='checkbox'  checked><label for='section-3ee2b2c1-1aeb-4d03-b0be-a9b3e12ea2b6' class='xr-section-summary' >Coordinates: <span>(2)</span></label><div class='xr-section-inline-details'></div><div class='xr-section-details'><ul class='xr-var-list'><li class='xr-var-item'><div class='xr-var-name'><span class='xr-has-index'>date</span></div><div class='xr-var-dims'>(date)</div><div class='xr-var-dtype'>datetime64[ns]</div><div class='xr-var-preview xr-preview'>2017-08-17 ... 2023-11-30</div><input id='attrs-809bff5a-99a9-4821-91ca-91c360f06993' class='xr-var-attrs-in' type='checkbox' disabled><label for='attrs-809bff5a-99a9-4821-91ca-91c360f06993' title='Show/Hide attributes'><svg class='icon xr-icon-file-text2'><use xlink:href='#icon-file-text2'></use></svg></label><input id='data-1c72e1c3-2943-4ffa-8222-2f9dcba69a0b' class='xr-var-data-in' type='checkbox'><label for='data-1c72e1c3-2943-4ffa-8222-2f9dcba69a0b' title='Show/Hide data repr'><svg class='icon xr-icon-database'><use xlink:href='#icon-database'></use></svg></label><div class='xr-var-attrs'><dl class='xr-attrs'></dl></div><div class='xr-var-data'><pre>array([&#x27;2017-08-17T00:00:00.000000000&#x27;, &#x27;2017-08-18T00:00:00.000000000&#x27;,\n",
       "       &#x27;2017-08-19T00:00:00.000000000&#x27;, ..., &#x27;2023-11-28T00:00:00.000000000&#x27;,\n",
       "       &#x27;2023-11-29T00:00:00.000000000&#x27;, &#x27;2023-11-30T00:00:00.000000000&#x27;],\n",
       "      dtype=&#x27;datetime64[ns]&#x27;)</pre></div></li><li class='xr-var-item'><div class='xr-var-name'><span class='xr-has-index'>component</span></div><div class='xr-var-dims'>(component)</div><div class='xr-var-dtype'>object</div><div class='xr-var-preview xr-preview'>&#x27;open&#x27; ... &#x27;FAGI_sentiment_encoded&#x27;</div><input id='attrs-f426c4b3-6827-4101-9690-d044dc330661' class='xr-var-attrs-in' type='checkbox' disabled><label for='attrs-f426c4b3-6827-4101-9690-d044dc330661' title='Show/Hide attributes'><svg class='icon xr-icon-file-text2'><use xlink:href='#icon-file-text2'></use></svg></label><input id='data-146d5eb4-681b-461f-8cb5-6d2141dac7eb' class='xr-var-data-in' type='checkbox'><label for='data-146d5eb4-681b-461f-8cb5-6d2141dac7eb' title='Show/Hide data repr'><svg class='icon xr-icon-database'><use xlink:href='#icon-database'></use></svg></label><div class='xr-var-attrs'><dl class='xr-attrs'></dl></div><div class='xr-var-data'><pre>array([&#x27;open&#x27;, &#x27;high&#x27;, &#x27;low&#x27;, &#x27;close&#x27;, &#x27;volume BTC&#x27;, &#x27;volume USD&#x27;,\n",
       "       &#x27;FAGI_score&#x27;, &#x27;scored_title&#x27;, &#x27;scored_text&#x27;, &#x27;average_score&#x27;,\n",
       "       &#x27;twitter_followers&#x27;, &#x27;twitter_favourites&#x27;, &#x27;reddit_subscribers&#x27;,\n",
       "       &#x27;reddit_active_users&#x27;, &#x27;reddit_comments_per_day&#x27;,\n",
       "       &#x27;FAGI_sentiment_encoded&#x27;], dtype=object)</pre></div></li></ul></div></li><li class='xr-section-item'><input id='section-dccc2b59-58fb-4eff-ab61-a6a1aac8324d' class='xr-section-summary-in' type='checkbox'  ><label for='section-dccc2b59-58fb-4eff-ab61-a6a1aac8324d' class='xr-section-summary' >Indexes: <span>(2)</span></label><div class='xr-section-inline-details'></div><div class='xr-section-details'><ul class='xr-var-list'><li class='xr-var-item'><div class='xr-index-name'><div>date</div></div><div class='xr-index-preview'>PandasIndex</div><div></div><input id='index-6bb526a0-ed6c-44ad-b728-42d73e168d45' class='xr-index-data-in' type='checkbox'/><label for='index-6bb526a0-ed6c-44ad-b728-42d73e168d45' title='Show/Hide index repr'><svg class='icon xr-icon-database'><use xlink:href='#icon-database'></use></svg></label><div class='xr-index-data'><pre>PandasIndex(DatetimeIndex([&#x27;2017-08-17&#x27;, &#x27;2017-08-18&#x27;, &#x27;2017-08-19&#x27;, &#x27;2017-08-20&#x27;,\n",
       "               &#x27;2017-08-21&#x27;, &#x27;2017-08-22&#x27;, &#x27;2017-08-23&#x27;, &#x27;2017-08-24&#x27;,\n",
       "               &#x27;2017-08-25&#x27;, &#x27;2017-08-26&#x27;,\n",
       "               ...\n",
       "               &#x27;2023-11-21&#x27;, &#x27;2023-11-22&#x27;, &#x27;2023-11-23&#x27;, &#x27;2023-11-24&#x27;,\n",
       "               &#x27;2023-11-25&#x27;, &#x27;2023-11-26&#x27;, &#x27;2023-11-27&#x27;, &#x27;2023-11-28&#x27;,\n",
       "               &#x27;2023-11-29&#x27;, &#x27;2023-11-30&#x27;],\n",
       "              dtype=&#x27;datetime64[ns]&#x27;, name=&#x27;date&#x27;, length=2297, freq=&#x27;D&#x27;))</pre></div></li><li class='xr-var-item'><div class='xr-index-name'><div>component</div></div><div class='xr-index-preview'>PandasIndex</div><div></div><input id='index-539a5f89-55e1-41df-9d37-59c98aae2e1f' class='xr-index-data-in' type='checkbox'/><label for='index-539a5f89-55e1-41df-9d37-59c98aae2e1f' title='Show/Hide index repr'><svg class='icon xr-icon-database'><use xlink:href='#icon-database'></use></svg></label><div class='xr-index-data'><pre>PandasIndex(Index([&#x27;open&#x27;, &#x27;high&#x27;, &#x27;low&#x27;, &#x27;close&#x27;, &#x27;volume BTC&#x27;, &#x27;volume USD&#x27;,\n",
       "       &#x27;FAGI_score&#x27;, &#x27;scored_title&#x27;, &#x27;scored_text&#x27;, &#x27;average_score&#x27;,\n",
       "       &#x27;twitter_followers&#x27;, &#x27;twitter_favourites&#x27;, &#x27;reddit_subscribers&#x27;,\n",
       "       &#x27;reddit_active_users&#x27;, &#x27;reddit_comments_per_day&#x27;,\n",
       "       &#x27;FAGI_sentiment_encoded&#x27;],\n",
       "      dtype=&#x27;object&#x27;, name=&#x27;component&#x27;))</pre></div></li></ul></div></li><li class='xr-section-item'><input id='section-de7278b4-6bbb-4b0a-979f-c92577533782' class='xr-section-summary-in' type='checkbox'  checked><label for='section-de7278b4-6bbb-4b0a-979f-c92577533782' class='xr-section-summary' >Attributes: <span>(2)</span></label><div class='xr-section-inline-details'></div><div class='xr-section-details'><dl class='xr-attrs'><dt><span>static_covariates :</span></dt><dd>None</dd><dt><span>hierarchy :</span></dt><dd>None</dd></dl></div></li></ul></div></div>"
      ],
      "text/plain": [
       "<TimeSeries (DataArray) (date: 2297, component: 16, sample: 1)>\n",
       "array([[[0.0166849 ],\n",
       "        [0.01839357],\n",
       "        [0.02182369],\n",
       "        ...,\n",
       "        [0.2445421 ],\n",
       "        [0.14865773],\n",
       "        [0.5       ]],\n",
       "\n",
       "       [[0.01705172],\n",
       "        [0.01666101],\n",
       "        [0.01769203],\n",
       "        ...,\n",
       "        [0.2445421 ],\n",
       "        [0.14865773],\n",
       "        [0.5       ]],\n",
       "\n",
       "       [[0.01430512],\n",
       "        [0.01381835],\n",
       "        [0.01629199],\n",
       "        ...,\n",
       "...\n",
       "        ...,\n",
       "        [0.2445421 ],\n",
       "        [0.14865773],\n",
       "        [0.75      ]],\n",
       "\n",
       "       [[0.53826622],\n",
       "        [0.53517387],\n",
       "        [0.54810789],\n",
       "        ...,\n",
       "        [0.2445421 ],\n",
       "        [0.14865773],\n",
       "        [0.75      ]],\n",
       "\n",
       "       [[0.53882219],\n",
       "        [0.53054615],\n",
       "        [0.54700388],\n",
       "        ...,\n",
       "        [0.2445421 ],\n",
       "        [0.14865773],\n",
       "        [0.75      ]]])\n",
       "Coordinates:\n",
       "  * date       (date) datetime64[ns] 2017-08-17 2017-08-18 ... 2023-11-30\n",
       "  * component  (component) object 'open' 'high' ... 'FAGI_sentiment_encoded'\n",
       "Dimensions without coordinates: sample\n",
       "Attributes:\n",
       "    static_covariates:  None\n",
       "    hierarchy:          None"
      ]
     },
     "execution_count": 26,
     "metadata": {},
     "output_type": "execute_result"
    }
   ],
   "source": [
    "from darts.utils.missing_values import fill_missing_values\n",
    "scaled_df = fill_missing_values(scaled_df)\n",
    "scaled_df\n"
   ]
  },
  {
   "cell_type": "markdown",
   "metadata": {},
   "source": [
    "### __*Train Test Split*__"
   ]
  },
  {
   "cell_type": "code",
   "execution_count": 27,
   "metadata": {},
   "outputs": [
    {
     "data": {
      "text/plain": [
       "<Axes: xlabel='date'>"
      ]
     },
     "execution_count": 27,
     "metadata": {},
     "output_type": "execute_result"
    },
    {
     "data": {
      "image/png": "[encoded data removed]",
      "text/plain": [
       "<Figure size 640x480 with 1 Axes>"
      ]
     },
     "metadata": {},
     "output_type": "display_data"
    }
   ],
   "source": [
    "train, val = (scaled_df).split_before(0.8)\n",
    "train.plot(label=\"training\")\n",
    "val.plot(label=\"validation\")\n"
   ]
  },
  {
   "cell_type": "markdown",
   "metadata": {},
   "source": [
    "### __*Setup Earlystopping and the train on GPU*__"
   ]
  },
  {
   "cell_type": "code",
   "execution_count": 28,
   "metadata": {},
   "outputs": [
    {
     "data": {
      "text/plain": [
       "'pl_trainer_kwargs={\"callbacks\": [stopper],\\n                   \"accelerator\": \"gpu\",\\n                   \"devices\": [0]}'"
      ]
     },
     "execution_count": 28,
     "metadata": {},
     "output_type": "execute_result"
    }
   ],
   "source": [
    "from pytorch_lightning.callbacks.early_stopping import EarlyStopping\n",
    "\n",
    "# stop training when validation loss does not decrease more than 0.05 (`min_delta`) over\n",
    "# a period of 5 epochs (`patience`)\n",
    "stopper = EarlyStopping(\n",
    "    monitor=\"val_loss\",\n",
    "    patience=30,\n",
    "    min_delta=0.005,\n",
    "    mode='min',\n",
    ")\n",
    "\n",
    "\"\"\"pl_trainer_kwargs={\"callbacks\": [stopper],\n",
    "                   \"accelerator\": \"gpu\",\n",
    "                   \"devices\": [0]}\"\"\"\n"
   ]
  },
  {
   "cell_type": "markdown",
   "metadata": {},
   "source": [
    "### __*Instanciate our model*__"
   ]
  },
  {
   "cell_type": "code",
   "execution_count": 29,
   "metadata": {},
   "outputs": [],
   "source": [
    "# predict 15 days considering the latest 45 days\n",
    "\n",
    "model_covariates = BlockRNNModel(\n",
    "    model=\"LSTM\",\n",
    "    input_chunk_length=150,\n",
    "    output_chunk_length=30,\n",
    "    #dropout=0.2,\n",
    "    torch_metrics= SymmetricMeanAbsolutePercentageError(),\n",
    "    n_epochs=100,\n",
    "    #pl_trainer_kwargs = pl_trainer_kwargs,\n",
    "    random_state=0,\n",
    ")\n"
   ]
  },
  {
   "cell_type": "markdown",
   "metadata": {},
   "source": [
    "### __*TransformerModel model*__"
   ]
  },
  {
   "cell_type": "code",
   "execution_count": null,
   "metadata": {},
   "outputs": [],
   "source": [
    "\"\"\"\n",
    "\n",
    "model = TransformerModel(\n",
    "    input_chunk_length=6,\n",
    "    output_chunk_length=6,\n",
    "    n_epochs=20\n",
    ")\n",
    "\"\"\"\n"
   ]
  },
  {
   "cell_type": "code",
   "execution_count": null,
   "metadata": {},
   "outputs": [],
   "source": [
    "\"\"\"\n",
    "model.fit(target, past_covariates=past_cov)\n",
    "pred = model.predict(6)\n",
    "pred.values()\n",
    "\"\"\"\n",
    "\"\"\"\n"
   ]
  },
  {
   "cell_type": "markdown",
   "metadata": {},
   "source": [
    "### __*XGBModel!!*__"
   ]
  },
  {
   "cell_type": "code",
   "execution_count": null,
   "metadata": {},
   "outputs": [],
   "source": [
    "\"\"\"\n",
    "model = XGBModel(\n",
    "    lags=150,\n",
    "    lags_past_covariates=150,\n",
    "    lags_future_covariates=[0,1,2,3,4,5],\n",
    "    output_chunk_length=6,\n",
    ")\n",
    "\n",
    "model.fit(val[\"close\"], past_covariates=, future_covariates=)\n",
    "pred = model.predict(6)\n",
    "pred.values()\n",
    "\"\"\"\n"
   ]
  },
  {
   "cell_type": "markdown",
   "metadata": {},
   "source": [
    "### __*Train the model*__"
   ]
  },
  {
   "cell_type": "code",
   "execution_count": 30,
   "metadata": {},
   "outputs": [
    {
     "data": {
      "application/vnd.jupyter.widget-view+json": {
       "model_id": "fe22788b3a954ba795e321fd7a078b13",
       "version_major": 2,
       "version_minor": 0
      },
      "text/plain": [
       "Sanity Checking: |          | 0/? [00:00<?, ?it/s]"
      ]
     },
     "metadata": {},
     "output_type": "display_data"
    },
    {
     "data": {
      "application/vnd.jupyter.widget-view+json": {
       "model_id": "3ad1c9ecf06d4306881099ebe6eda95a",
       "version_major": 2,
       "version_minor": 0
      },
      "text/plain": [
       "Training: |          | 0/? [00:00<?, ?it/s]"
      ]
     },
     "metadata": {},
     "output_type": "display_data"
    },
    {
     "data": {
      "application/vnd.jupyter.widget-view+json": {
       "model_id": "f6c4966fe2b84737b0c4edbbe728b984",
       "version_major": 2,
       "version_minor": 0
      },
      "text/plain": [
       "Validation: |          | 0/? [00:00<?, ?it/s]"
      ]
     },
     "metadata": {},
     "output_type": "display_data"
    },
    {
     "data": {
      "application/vnd.jupyter.widget-view+json": {
       "model_id": "114d58afe8344296904abcfdaf3b28e6",
       "version_major": 2,
       "version_minor": 0
      },
      "text/plain": [
       "Validation: |          | 0/? [00:00<?, ?it/s]"
      ]
     },
     "metadata": {},
     "output_type": "display_data"
    },
    {
     "data": {
      "application/vnd.jupyter.widget-view+json": {
       "model_id": "f91b92389c9b4dacbf007bd35f2663e0",
       "version_major": 2,
       "version_minor": 0
      },
      "text/plain": [
       "Validation: |          | 0/? [00:00<?, ?it/s]"
      ]
     },
     "metadata": {},
     "output_type": "display_data"
    },
    {
     "data": {
      "application/vnd.jupyter.widget-view+json": {
       "model_id": "99ec184db9e54de5b67e937b5ae29960",
       "version_major": 2,
       "version_minor": 0
      },
      "text/plain": [
       "Validation: |          | 0/? [00:00<?, ?it/s]"
      ]
     },
     "metadata": {},
     "output_type": "display_data"
    },
    {
     "data": {
      "application/vnd.jupyter.widget-view+json": {
       "model_id": "112e5821ec0045eca0162e56064f1e1f",
       "version_major": 2,
       "version_minor": 0
      },
      "text/plain": [
       "Validation: |          | 0/? [00:00<?, ?it/s]"
      ]
     },
     "metadata": {},
     "output_type": "display_data"
    },
    {
     "data": {
      "application/vnd.jupyter.widget-view+json": {
       "model_id": "1304ebc335ce475080e226f0f702aa87",
       "version_major": 2,
       "version_minor": 0
      },
      "text/plain": [
       "Validation: |          | 0/? [00:00<?, ?it/s]"
      ]
     },
     "metadata": {},
     "output_type": "display_data"
    },
    {
     "data": {
      "application/vnd.jupyter.widget-view+json": {
       "model_id": "1874a7e170874f208568289b0b533908",
       "version_major": 2,
       "version_minor": 0
      },
      "text/plain": [
       "Validation: |          | 0/? [00:00<?, ?it/s]"
      ]
     },
     "metadata": {},
     "output_type": "display_data"
    },
    {
     "data": {
      "application/vnd.jupyter.widget-view+json": {
       "model_id": "707566be480d452cba070c98f3d5ddcc",
       "version_major": 2,
       "version_minor": 0
      },
      "text/plain": [
       "Validation: |          | 0/? [00:00<?, ?it/s]"
      ]
     },
     "metadata": {},
     "output_type": "display_data"
    },
    {
     "data": {
      "application/vnd.jupyter.widget-view+json": {
       "model_id": "6d76426e3bac41c6af5ab7259b333511",
       "version_major": 2,
       "version_minor": 0
      },
      "text/plain": [
       "Validation: |          | 0/? [00:00<?, ?it/s]"
      ]
     },
     "metadata": {},
     "output_type": "display_data"
    },
    {
     "data": {
      "application/vnd.jupyter.widget-view+json": {
       "model_id": "686f833f06c743aa8fab9324f6b2bd7a",
       "version_major": 2,
       "version_minor": 0
      },
      "text/plain": [
       "Validation: |          | 0/? [00:00<?, ?it/s]"
      ]
     },
     "metadata": {},
     "output_type": "display_data"
    },
    {
     "data": {
      "application/vnd.jupyter.widget-view+json": {
       "model_id": "5920ac9ae46449bb8262cb72ac13eaa1",
       "version_major": 2,
       "version_minor": 0
      },
      "text/plain": [
       "Validation: |          | 0/? [00:00<?, ?it/s]"
      ]
     },
     "metadata": {},
     "output_type": "display_data"
    },
    {
     "data": {
      "application/vnd.jupyter.widget-view+json": {
       "model_id": "392c439ba99d4c63b355e42fc0748888",
       "version_major": 2,
       "version_minor": 0
      },
      "text/plain": [
       "Validation: |          | 0/? [00:00<?, ?it/s]"
      ]
     },
     "metadata": {},
     "output_type": "display_data"
    },
    {
     "data": {
      "application/vnd.jupyter.widget-view+json": {
       "model_id": "e4f495a8375f45c9b69255ba3dfe5f1b",
       "version_major": 2,
       "version_minor": 0
      },
      "text/plain": [
       "Validation: |          | 0/? [00:00<?, ?it/s]"
      ]
     },
     "metadata": {},
     "output_type": "display_data"
    },
    {
     "data": {
      "application/vnd.jupyter.widget-view+json": {
       "model_id": "e5ab25a66aea4489b6639bf7c4547080",
       "version_major": 2,
       "version_minor": 0
      },
      "text/plain": [
       "Validation: |          | 0/? [00:00<?, ?it/s]"
      ]
     },
     "metadata": {},
     "output_type": "display_data"
    },
    {
     "data": {
      "application/vnd.jupyter.widget-view+json": {
       "model_id": "41208d51037e47e2a7334540058ff624",
       "version_major": 2,
       "version_minor": 0
      },
      "text/plain": [
       "Validation: |          | 0/? [00:00<?, ?it/s]"
      ]
     },
     "metadata": {},
     "output_type": "display_data"
    },
    {
     "data": {
      "application/vnd.jupyter.widget-view+json": {
       "model_id": "1065fdf16d9d479587e89ffbde8ee168",
       "version_major": 2,
       "version_minor": 0
      },
      "text/plain": [
       "Validation: |          | 0/? [00:00<?, ?it/s]"
      ]
     },
     "metadata": {},
     "output_type": "display_data"
    },
    {
     "data": {
      "application/vnd.jupyter.widget-view+json": {
       "model_id": "3c1c83db5d6f49729dff1f1c9b0df53d",
       "version_major": 2,
       "version_minor": 0
      },
      "text/plain": [
       "Validation: |          | 0/? [00:00<?, ?it/s]"
      ]
     },
     "metadata": {},
     "output_type": "display_data"
    },
    {
     "data": {
      "application/vnd.jupyter.widget-view+json": {
       "model_id": "92e5246a9a034fab926d2952a408d85b",
       "version_major": 2,
       "version_minor": 0
      },
      "text/plain": [
       "Validation: |          | 0/? [00:00<?, ?it/s]"
      ]
     },
     "metadata": {},
     "output_type": "display_data"
    },
    {
     "data": {
      "application/vnd.jupyter.widget-view+json": {
       "model_id": "9617df4f2d74476f95627accfaa5becd",
       "version_major": 2,
       "version_minor": 0
      },
      "text/plain": [
       "Validation: |          | 0/? [00:00<?, ?it/s]"
      ]
     },
     "metadata": {},
     "output_type": "display_data"
    },
    {
     "data": {
      "application/vnd.jupyter.widget-view+json": {
       "model_id": "3f3f343b98b645dba0d6af5e87357469",
       "version_major": 2,
       "version_minor": 0
      },
      "text/plain": [
       "Validation: |          | 0/? [00:00<?, ?it/s]"
      ]
     },
     "metadata": {},
     "output_type": "display_data"
    },
    {
     "data": {
      "application/vnd.jupyter.widget-view+json": {
       "model_id": "ddee346f2b474d4796ba4d32a2bfac53",
       "version_major": 2,
       "version_minor": 0
      },
      "text/plain": [
       "Validation: |          | 0/? [00:00<?, ?it/s]"
      ]
     },
     "metadata": {},
     "output_type": "display_data"
    },
    {
     "data": {
      "application/vnd.jupyter.widget-view+json": {
       "model_id": "df498ca1120842da8d422b87eba769a1",
       "version_major": 2,
       "version_minor": 0
      },
      "text/plain": [
       "Validation: |          | 0/? [00:00<?, ?it/s]"
      ]
     },
     "metadata": {},
     "output_type": "display_data"
    },
    {
     "data": {
      "application/vnd.jupyter.widget-view+json": {
       "model_id": "eb69c88719e24e5188f7d2279cf94491",
       "version_major": 2,
       "version_minor": 0
      },
      "text/plain": [
       "Validation: |          | 0/? [00:00<?, ?it/s]"
      ]
     },
     "metadata": {},
     "output_type": "display_data"
    },
    {
     "data": {
      "application/vnd.jupyter.widget-view+json": {
       "model_id": "9bbe914845b84df8a59da00c90dbcdfe",
       "version_major": 2,
       "version_minor": 0
      },
      "text/plain": [
       "Validation: |          | 0/? [00:00<?, ?it/s]"
      ]
     },
     "metadata": {},
     "output_type": "display_data"
    },
    {
     "data": {
      "application/vnd.jupyter.widget-view+json": {
       "model_id": "36cb195514a74a8491cfc3d719fbf98c",
       "version_major": 2,
       "version_minor": 0
      },
      "text/plain": [
       "Validation: |          | 0/? [00:00<?, ?it/s]"
      ]
     },
     "metadata": {},
     "output_type": "display_data"
    },
    {
     "data": {
      "application/vnd.jupyter.widget-view+json": {
       "model_id": "1dfe25d4a15647d4beb809c051218b8d",
       "version_major": 2,
       "version_minor": 0
      },
      "text/plain": [
       "Validation: |          | 0/? [00:00<?, ?it/s]"
      ]
     },
     "metadata": {},
     "output_type": "display_data"
    },
    {
     "data": {
      "application/vnd.jupyter.widget-view+json": {
       "model_id": "d839926f87dc4e0db1c160edc2f9ed01",
       "version_major": 2,
       "version_minor": 0
      },
      "text/plain": [
       "Validation: |          | 0/? [00:00<?, ?it/s]"
      ]
     },
     "metadata": {},
     "output_type": "display_data"
    },
    {
     "data": {
      "application/vnd.jupyter.widget-view+json": {
       "model_id": "880ebd7560294494875833f9a7823833",
       "version_major": 2,
       "version_minor": 0
      },
      "text/plain": [
       "Validation: |          | 0/? [00:00<?, ?it/s]"
      ]
     },
     "metadata": {},
     "output_type": "display_data"
    },
    {
     "data": {
      "application/vnd.jupyter.widget-view+json": {
       "model_id": "bbf5e7b8af5e4c69b87d4cbca38746f7",
       "version_major": 2,
       "version_minor": 0
      },
      "text/plain": [
       "Validation: |          | 0/? [00:00<?, ?it/s]"
      ]
     },
     "metadata": {},
     "output_type": "display_data"
    },
    {
     "data": {
      "application/vnd.jupyter.widget-view+json": {
       "model_id": "b53999e3040744aab865b8fd2dc9e9ce",
       "version_major": 2,
       "version_minor": 0
      },
      "text/plain": [
       "Validation: |          | 0/? [00:00<?, ?it/s]"
      ]
     },
     "metadata": {},
     "output_type": "display_data"
    },
    {
     "data": {
      "application/vnd.jupyter.widget-view+json": {
       "model_id": "f70e98bdecda4083b1f8ebcd1edf8853",
       "version_major": 2,
       "version_minor": 0
      },
      "text/plain": [
       "Validation: |          | 0/? [00:00<?, ?it/s]"
      ]
     },
     "metadata": {},
     "output_type": "display_data"
    },
    {
     "data": {
      "application/vnd.jupyter.widget-view+json": {
       "model_id": "f583f9bc5b8d46299e0dd1dd79f8b442",
       "version_major": 2,
       "version_minor": 0
      },
      "text/plain": [
       "Validation: |          | 0/? [00:00<?, ?it/s]"
      ]
     },
     "metadata": {},
     "output_type": "display_data"
    },
    {
     "data": {
      "application/vnd.jupyter.widget-view+json": {
       "model_id": "7ab04818ab9b44608b02c4b722a0b915",
       "version_major": 2,
       "version_minor": 0
      },
      "text/plain": [
       "Validation: |          | 0/? [00:00<?, ?it/s]"
      ]
     },
     "metadata": {},
     "output_type": "display_data"
    },
    {
     "data": {
      "application/vnd.jupyter.widget-view+json": {
       "model_id": "b55f798a9a7e428b8648de803e60b1d1",
       "version_major": 2,
       "version_minor": 0
      },
      "text/plain": [
       "Validation: |          | 0/? [00:00<?, ?it/s]"
      ]
     },
     "metadata": {},
     "output_type": "display_data"
    },
    {
     "data": {
      "application/vnd.jupyter.widget-view+json": {
       "model_id": "71ca75d7c5a044af8e9853aee6ba007d",
       "version_major": 2,
       "version_minor": 0
      },
      "text/plain": [
       "Validation: |          | 0/? [00:00<?, ?it/s]"
      ]
     },
     "metadata": {},
     "output_type": "display_data"
    },
    {
     "data": {
      "application/vnd.jupyter.widget-view+json": {
       "model_id": "e683ac68a1c042cfa164e412fb837808",
       "version_major": 2,
       "version_minor": 0
      },
      "text/plain": [
       "Validation: |          | 0/? [00:00<?, ?it/s]"
      ]
     },
     "metadata": {},
     "output_type": "display_data"
    },
    {
     "data": {
      "application/vnd.jupyter.widget-view+json": {
       "model_id": "03339e790df4411b8fc568992d1531a8",
       "version_major": 2,
       "version_minor": 0
      },
      "text/plain": [
       "Validation: |          | 0/? [00:00<?, ?it/s]"
      ]
     },
     "metadata": {},
     "output_type": "display_data"
    },
    {
     "data": {
      "application/vnd.jupyter.widget-view+json": {
       "model_id": "d6a36bcd011846d59a8c071574c6c409",
       "version_major": 2,
       "version_minor": 0
      },
      "text/plain": [
       "Validation: |          | 0/? [00:00<?, ?it/s]"
      ]
     },
     "metadata": {},
     "output_type": "display_data"
    },
    {
     "data": {
      "application/vnd.jupyter.widget-view+json": {
       "model_id": "86a0278ed5724560a2faa839719a6fc5",
       "version_major": 2,
       "version_minor": 0
      },
      "text/plain": [
       "Validation: |          | 0/? [00:00<?, ?it/s]"
      ]
     },
     "metadata": {},
     "output_type": "display_data"
    },
    {
     "data": {
      "application/vnd.jupyter.widget-view+json": {
       "model_id": "70386381fb91452c80d4c25055ee9538",
       "version_major": 2,
       "version_minor": 0
      },
      "text/plain": [
       "Validation: |          | 0/? [00:00<?, ?it/s]"
      ]
     },
     "metadata": {},
     "output_type": "display_data"
    },
    {
     "data": {
      "application/vnd.jupyter.widget-view+json": {
       "model_id": "b5e58b2490fb4a06a258d9f4d5e18aef",
       "version_major": 2,
       "version_minor": 0
      },
      "text/plain": [
       "Validation: |          | 0/? [00:00<?, ?it/s]"
      ]
     },
     "metadata": {},
     "output_type": "display_data"
    },
    {
     "data": {
      "application/vnd.jupyter.widget-view+json": {
       "model_id": "4abef5b2164b4ec68e108368a5a34f0c",
       "version_major": 2,
       "version_minor": 0
      },
      "text/plain": [
       "Validation: |          | 0/? [00:00<?, ?it/s]"
      ]
     },
     "metadata": {},
     "output_type": "display_data"
    },
    {
     "data": {
      "application/vnd.jupyter.widget-view+json": {
       "model_id": "cdaaf9c52ee2425eb8c7e24af780cd01",
       "version_major": 2,
       "version_minor": 0
      },
      "text/plain": [
       "Validation: |          | 0/? [00:00<?, ?it/s]"
      ]
     },
     "metadata": {},
     "output_type": "display_data"
    },
    {
     "data": {
      "application/vnd.jupyter.widget-view+json": {
       "model_id": "c6e8406d8c3c4c7a94e5a0f730451a4d",
       "version_major": 2,
       "version_minor": 0
      },
      "text/plain": [
       "Validation: |          | 0/? [00:00<?, ?it/s]"
      ]
     },
     "metadata": {},
     "output_type": "display_data"
    },
    {
     "data": {
      "application/vnd.jupyter.widget-view+json": {
       "model_id": "b842c482874c49eb89726cd63ed2d7b9",
       "version_major": 2,
       "version_minor": 0
      },
      "text/plain": [
       "Validation: |          | 0/? [00:00<?, ?it/s]"
      ]
     },
     "metadata": {},
     "output_type": "display_data"
    },
    {
     "data": {
      "application/vnd.jupyter.widget-view+json": {
       "model_id": "9417435a0c2140d5a8c936a51f8cedeb",
       "version_major": 2,
       "version_minor": 0
      },
      "text/plain": [
       "Validation: |          | 0/? [00:00<?, ?it/s]"
      ]
     },
     "metadata": {},
     "output_type": "display_data"
    },
    {
     "data": {
      "application/vnd.jupyter.widget-view+json": {
       "model_id": "9920693d6acb4ea2b83718e2545e75b1",
       "version_major": 2,
       "version_minor": 0
      },
      "text/plain": [
       "Validation: |          | 0/? [00:00<?, ?it/s]"
      ]
     },
     "metadata": {},
     "output_type": "display_data"
    },
    {
     "data": {
      "application/vnd.jupyter.widget-view+json": {
       "model_id": "0f1a776737c8465ca91da2eb5294cc51",
       "version_major": 2,
       "version_minor": 0
      },
      "text/plain": [
       "Validation: |          | 0/? [00:00<?, ?it/s]"
      ]
     },
     "metadata": {},
     "output_type": "display_data"
    },
    {
     "data": {
      "application/vnd.jupyter.widget-view+json": {
       "model_id": "f708a749c91a40439ea69e8252f70354",
       "version_major": 2,
       "version_minor": 0
      },
      "text/plain": [
       "Validation: |          | 0/? [00:00<?, ?it/s]"
      ]
     },
     "metadata": {},
     "output_type": "display_data"
    },
    {
     "data": {
      "application/vnd.jupyter.widget-view+json": {
       "model_id": "10e80955d50a4a259a3361f95c5deb13",
       "version_major": 2,
       "version_minor": 0
      },
      "text/plain": [
       "Validation: |          | 0/? [00:00<?, ?it/s]"
      ]
     },
     "metadata": {},
     "output_type": "display_data"
    },
    {
     "data": {
      "application/vnd.jupyter.widget-view+json": {
       "model_id": "ee9f0b5dc096485a882bd9dc0b474d60",
       "version_major": 2,
       "version_minor": 0
      },
      "text/plain": [
       "Validation: |          | 0/? [00:00<?, ?it/s]"
      ]
     },
     "metadata": {},
     "output_type": "display_data"
    },
    {
     "data": {
      "application/vnd.jupyter.widget-view+json": {
       "model_id": "81504f5f6d1849f282e332dae69f5f85",
       "version_major": 2,
       "version_minor": 0
      },
      "text/plain": [
       "Validation: |          | 0/? [00:00<?, ?it/s]"
      ]
     },
     "metadata": {},
     "output_type": "display_data"
    },
    {
     "data": {
      "application/vnd.jupyter.widget-view+json": {
       "model_id": "8102a7808a0a4d929f54375a30b0d4cd",
       "version_major": 2,
       "version_minor": 0
      },
      "text/plain": [
       "Validation: |          | 0/? [00:00<?, ?it/s]"
      ]
     },
     "metadata": {},
     "output_type": "display_data"
    },
    {
     "data": {
      "application/vnd.jupyter.widget-view+json": {
       "model_id": "25802a32ead246efaae85768dc917b8b",
       "version_major": 2,
       "version_minor": 0
      },
      "text/plain": [
       "Validation: |          | 0/? [00:00<?, ?it/s]"
      ]
     },
     "metadata": {},
     "output_type": "display_data"
    },
    {
     "data": {
      "application/vnd.jupyter.widget-view+json": {
       "model_id": "6b520d436e7c499190fa18f86a31cf9c",
       "version_major": 2,
       "version_minor": 0
      },
      "text/plain": [
       "Validation: |          | 0/? [00:00<?, ?it/s]"
      ]
     },
     "metadata": {},
     "output_type": "display_data"
    },
    {
     "data": {
      "application/vnd.jupyter.widget-view+json": {
       "model_id": "539f41d8410342c388e4834fb70978e5",
       "version_major": 2,
       "version_minor": 0
      },
      "text/plain": [
       "Validation: |          | 0/? [00:00<?, ?it/s]"
      ]
     },
     "metadata": {},
     "output_type": "display_data"
    },
    {
     "data": {
      "application/vnd.jupyter.widget-view+json": {
       "model_id": "b2c6b1f82ed9456dbf34c81305911e41",
       "version_major": 2,
       "version_minor": 0
      },
      "text/plain": [
       "Validation: |          | 0/? [00:00<?, ?it/s]"
      ]
     },
     "metadata": {},
     "output_type": "display_data"
    },
    {
     "data": {
      "application/vnd.jupyter.widget-view+json": {
       "model_id": "d6dd4912d13d482fb3d912e55b0aef43",
       "version_major": 2,
       "version_minor": 0
      },
      "text/plain": [
       "Validation: |          | 0/? [00:00<?, ?it/s]"
      ]
     },
     "metadata": {},
     "output_type": "display_data"
    },
    {
     "data": {
      "application/vnd.jupyter.widget-view+json": {
       "model_id": "29b5365dc9af449181273749df395130",
       "version_major": 2,
       "version_minor": 0
      },
      "text/plain": [
       "Validation: |          | 0/? [00:00<?, ?it/s]"
      ]
     },
     "metadata": {},
     "output_type": "display_data"
    },
    {
     "data": {
      "application/vnd.jupyter.widget-view+json": {
       "model_id": "f65de35edcab4bb3a46be274c37112df",
       "version_major": 2,
       "version_minor": 0
      },
      "text/plain": [
       "Validation: |          | 0/? [00:00<?, ?it/s]"
      ]
     },
     "metadata": {},
     "output_type": "display_data"
    },
    {
     "data": {
      "application/vnd.jupyter.widget-view+json": {
       "model_id": "157bcfed25fd4711b257be143784bd54",
       "version_major": 2,
       "version_minor": 0
      },
      "text/plain": [
       "Validation: |          | 0/? [00:00<?, ?it/s]"
      ]
     },
     "metadata": {},
     "output_type": "display_data"
    },
    {
     "data": {
      "application/vnd.jupyter.widget-view+json": {
       "model_id": "d41c6ac404c24168b0607595a87411ac",
       "version_major": 2,
       "version_minor": 0
      },
      "text/plain": [
       "Validation: |          | 0/? [00:00<?, ?it/s]"
      ]
     },
     "metadata": {},
     "output_type": "display_data"
    },
    {
     "data": {
      "application/vnd.jupyter.widget-view+json": {
       "model_id": "3b2352c7c9bc466c942dfebb1b47415a",
       "version_major": 2,
       "version_minor": 0
      },
      "text/plain": [
       "Validation: |          | 0/? [00:00<?, ?it/s]"
      ]
     },
     "metadata": {},
     "output_type": "display_data"
    },
    {
     "data": {
      "application/vnd.jupyter.widget-view+json": {
       "model_id": "41220fba4af648609a69e3109235bd61",
       "version_major": 2,
       "version_minor": 0
      },
      "text/plain": [
       "Validation: |          | 0/? [00:00<?, ?it/s]"
      ]
     },
     "metadata": {},
     "output_type": "display_data"
    },
    {
     "data": {
      "application/vnd.jupyter.widget-view+json": {
       "model_id": "44e43214ca024f3f8a049478482c72da",
       "version_major": 2,
       "version_minor": 0
      },
      "text/plain": [
       "Validation: |          | 0/? [00:00<?, ?it/s]"
      ]
     },
     "metadata": {},
     "output_type": "display_data"
    },
    {
     "data": {
      "application/vnd.jupyter.widget-view+json": {
       "model_id": "02d439010207490c9da868f22f984bd5",
       "version_major": 2,
       "version_minor": 0
      },
      "text/plain": [
       "Validation: |          | 0/? [00:00<?, ?it/s]"
      ]
     },
     "metadata": {},
     "output_type": "display_data"
    },
    {
     "data": {
      "application/vnd.jupyter.widget-view+json": {
       "model_id": "6032ce4f24ea43bcb0886bca713da6b4",
       "version_major": 2,
       "version_minor": 0
      },
      "text/plain": [
       "Validation: |          | 0/? [00:00<?, ?it/s]"
      ]
     },
     "metadata": {},
     "output_type": "display_data"
    },
    {
     "data": {
      "application/vnd.jupyter.widget-view+json": {
       "model_id": "db97afa14dc144aa852698cd9d01d76d",
       "version_major": 2,
       "version_minor": 0
      },
      "text/plain": [
       "Validation: |          | 0/? [00:00<?, ?it/s]"
      ]
     },
     "metadata": {},
     "output_type": "display_data"
    },
    {
     "data": {
      "application/vnd.jupyter.widget-view+json": {
       "model_id": "36d2b4cdd6504c618b529c69774ae527",
       "version_major": 2,
       "version_minor": 0
      },
      "text/plain": [
       "Validation: |          | 0/? [00:00<?, ?it/s]"
      ]
     },
     "metadata": {},
     "output_type": "display_data"
    },
    {
     "data": {
      "application/vnd.jupyter.widget-view+json": {
       "model_id": "72e473b440cc458cad2fcbbc4a8139e9",
       "version_major": 2,
       "version_minor": 0
      },
      "text/plain": [
       "Validation: |          | 0/? [00:00<?, ?it/s]"
      ]
     },
     "metadata": {},
     "output_type": "display_data"
    },
    {
     "data": {
      "application/vnd.jupyter.widget-view+json": {
       "model_id": "6725104d05c64c1ebca852b6b33b9013",
       "version_major": 2,
       "version_minor": 0
      },
      "text/plain": [
       "Validation: |          | 0/? [00:00<?, ?it/s]"
      ]
     },
     "metadata": {},
     "output_type": "display_data"
    },
    {
     "data": {
      "application/vnd.jupyter.widget-view+json": {
       "model_id": "ea48852317984e0ab673070ee43a2e4f",
       "version_major": 2,
       "version_minor": 0
      },
      "text/plain": [
       "Validation: |          | 0/? [00:00<?, ?it/s]"
      ]
     },
     "metadata": {},
     "output_type": "display_data"
    },
    {
     "data": {
      "application/vnd.jupyter.widget-view+json": {
       "model_id": "46257e4309ab430c91e8d4ff8bc23988",
       "version_major": 2,
       "version_minor": 0
      },
      "text/plain": [
       "Validation: |          | 0/? [00:00<?, ?it/s]"
      ]
     },
     "metadata": {},
     "output_type": "display_data"
    },
    {
     "data": {
      "application/vnd.jupyter.widget-view+json": {
       "model_id": "a6f70221f9894eab9089553a63e4bea4",
       "version_major": 2,
       "version_minor": 0
      },
      "text/plain": [
       "Validation: |          | 0/? [00:00<?, ?it/s]"
      ]
     },
     "metadata": {},
     "output_type": "display_data"
    },
    {
     "data": {
      "application/vnd.jupyter.widget-view+json": {
       "model_id": "d6cf030c27604a8294f0ca9e0b37a183",
       "version_major": 2,
       "version_minor": 0
      },
      "text/plain": [
       "Validation: |          | 0/? [00:00<?, ?it/s]"
      ]
     },
     "metadata": {},
     "output_type": "display_data"
    },
    {
     "data": {
      "application/vnd.jupyter.widget-view+json": {
       "model_id": "417f15b8e1b542f0ab301ea40097d7d3",
       "version_major": 2,
       "version_minor": 0
      },
      "text/plain": [
       "Validation: |          | 0/? [00:00<?, ?it/s]"
      ]
     },
     "metadata": {},
     "output_type": "display_data"
    },
    {
     "data": {
      "application/vnd.jupyter.widget-view+json": {
       "model_id": "8405fbc618c346e5a373148675b661d4",
       "version_major": 2,
       "version_minor": 0
      },
      "text/plain": [
       "Validation: |          | 0/? [00:00<?, ?it/s]"
      ]
     },
     "metadata": {},
     "output_type": "display_data"
    },
    {
     "data": {
      "application/vnd.jupyter.widget-view+json": {
       "model_id": "64d09da443bf4a8dbecd4fedbab8f458",
       "version_major": 2,
       "version_minor": 0
      },
      "text/plain": [
       "Validation: |          | 0/? [00:00<?, ?it/s]"
      ]
     },
     "metadata": {},
     "output_type": "display_data"
    },
    {
     "data": {
      "application/vnd.jupyter.widget-view+json": {
       "model_id": "1fc289b5f32f4617b3ccff98c9c1261a",
       "version_major": 2,
       "version_minor": 0
      },
      "text/plain": [
       "Validation: |          | 0/? [00:00<?, ?it/s]"
      ]
     },
     "metadata": {},
     "output_type": "display_data"
    },
    {
     "data": {
      "application/vnd.jupyter.widget-view+json": {
       "model_id": "d9b1299975bf453eaa9e3fa6df99ed6f",
       "version_major": 2,
       "version_minor": 0
      },
      "text/plain": [
       "Validation: |          | 0/? [00:00<?, ?it/s]"
      ]
     },
     "metadata": {},
     "output_type": "display_data"
    },
    {
     "data": {
      "application/vnd.jupyter.widget-view+json": {
       "model_id": "128130c599d345d1a862d2db311a6cb5",
       "version_major": 2,
       "version_minor": 0
      },
      "text/plain": [
       "Validation: |          | 0/? [00:00<?, ?it/s]"
      ]
     },
     "metadata": {},
     "output_type": "display_data"
    },
    {
     "data": {
      "application/vnd.jupyter.widget-view+json": {
       "model_id": "dd210b9534004155ba38a1c1736c8928",
       "version_major": 2,
       "version_minor": 0
      },
      "text/plain": [
       "Validation: |          | 0/? [00:00<?, ?it/s]"
      ]
     },
     "metadata": {},
     "output_type": "display_data"
    },
    {
     "data": {
      "application/vnd.jupyter.widget-view+json": {
       "model_id": "ceb8298275d845d38669c6163686b069",
       "version_major": 2,
       "version_minor": 0
      },
      "text/plain": [
       "Validation: |          | 0/? [00:00<?, ?it/s]"
      ]
     },
     "metadata": {},
     "output_type": "display_data"
    },
    {
     "data": {
      "application/vnd.jupyter.widget-view+json": {
       "model_id": "4ef2f604db5441718ea41b7448639c2f",
       "version_major": 2,
       "version_minor": 0
      },
      "text/plain": [
       "Validation: |          | 0/? [00:00<?, ?it/s]"
      ]
     },
     "metadata": {},
     "output_type": "display_data"
    },
    {
     "data": {
      "application/vnd.jupyter.widget-view+json": {
       "model_id": "fffdfa5eb6684dee82b1044fdfb69212",
       "version_major": 2,
       "version_minor": 0
      },
      "text/plain": [
       "Validation: |          | 0/? [00:00<?, ?it/s]"
      ]
     },
     "metadata": {},
     "output_type": "display_data"
    },
    {
     "data": {
      "application/vnd.jupyter.widget-view+json": {
       "model_id": "85ccc907514c469fb1405ed80743e141",
       "version_major": 2,
       "version_minor": 0
      },
      "text/plain": [
       "Validation: |          | 0/? [00:00<?, ?it/s]"
      ]
     },
     "metadata": {},
     "output_type": "display_data"
    },
    {
     "data": {
      "application/vnd.jupyter.widget-view+json": {
       "model_id": "bcbdf16c1c804c9f9401f7bda56abf8f",
       "version_major": 2,
       "version_minor": 0
      },
      "text/plain": [
       "Validation: |          | 0/? [00:00<?, ?it/s]"
      ]
     },
     "metadata": {},
     "output_type": "display_data"
    },
    {
     "data": {
      "application/vnd.jupyter.widget-view+json": {
       "model_id": "3396045172d140c2811ea0840c6d765e",
       "version_major": 2,
       "version_minor": 0
      },
      "text/plain": [
       "Validation: |          | 0/? [00:00<?, ?it/s]"
      ]
     },
     "metadata": {},
     "output_type": "display_data"
    },
    {
     "data": {
      "application/vnd.jupyter.widget-view+json": {
       "model_id": "1fbe8810b8e14d4a9627a5676db45e4c",
       "version_major": 2,
       "version_minor": 0
      },
      "text/plain": [
       "Validation: |          | 0/? [00:00<?, ?it/s]"
      ]
     },
     "metadata": {},
     "output_type": "display_data"
    },
    {
     "data": {
      "application/vnd.jupyter.widget-view+json": {
       "model_id": "17f1f29b2fe849fca6cb42a1c9560d2b",
       "version_major": 2,
       "version_minor": 0
      },
      "text/plain": [
       "Validation: |          | 0/? [00:00<?, ?it/s]"
      ]
     },
     "metadata": {},
     "output_type": "display_data"
    },
    {
     "data": {
      "application/vnd.jupyter.widget-view+json": {
       "model_id": "fa8a7e4ae9e446c2bde081c83fbc5e52",
       "version_major": 2,
       "version_minor": 0
      },
      "text/plain": [
       "Validation: |          | 0/? [00:00<?, ?it/s]"
      ]
     },
     "metadata": {},
     "output_type": "display_data"
    },
    {
     "data": {
      "application/vnd.jupyter.widget-view+json": {
       "model_id": "7e67f45952954e3b9841ef2be0cd8b01",
       "version_major": 2,
       "version_minor": 0
      },
      "text/plain": [
       "Validation: |          | 0/? [00:00<?, ?it/s]"
      ]
     },
     "metadata": {},
     "output_type": "display_data"
    },
    {
     "data": {
      "application/vnd.jupyter.widget-view+json": {
       "model_id": "a21618b9c78544e6b1a5ccd08a2a4d15",
       "version_major": 2,
       "version_minor": 0
      },
      "text/plain": [
       "Validation: |          | 0/? [00:00<?, ?it/s]"
      ]
     },
     "metadata": {},
     "output_type": "display_data"
    },
    {
     "data": {
      "application/vnd.jupyter.widget-view+json": {
       "model_id": "d6083537d911489c93d1f6035b026f10",
       "version_major": 2,
       "version_minor": 0
      },
      "text/plain": [
       "Validation: |          | 0/? [00:00<?, ?it/s]"
      ]
     },
     "metadata": {},
     "output_type": "display_data"
    },
    {
     "data": {
      "application/vnd.jupyter.widget-view+json": {
       "model_id": "df8b627189a74d19856f2bed85b39efc",
       "version_major": 2,
       "version_minor": 0
      },
      "text/plain": [
       "Validation: |          | 0/? [00:00<?, ?it/s]"
      ]
     },
     "metadata": {},
     "output_type": "display_data"
    },
    {
     "data": {
      "application/vnd.jupyter.widget-view+json": {
       "model_id": "914c961ad59b4df4a59009700986576c",
       "version_major": 2,
       "version_minor": 0
      },
      "text/plain": [
       "Validation: |          | 0/? [00:00<?, ?it/s]"
      ]
     },
     "metadata": {},
     "output_type": "display_data"
    },
    {
     "data": {
      "application/vnd.jupyter.widget-view+json": {
       "model_id": "a58bb27d4c0947d09a9f4a9c56c50f2e",
       "version_major": 2,
       "version_minor": 0
      },
      "text/plain": [
       "Validation: |          | 0/? [00:00<?, ?it/s]"
      ]
     },
     "metadata": {},
     "output_type": "display_data"
    },
    {
     "data": {
      "application/vnd.jupyter.widget-view+json": {
       "model_id": "61f2338ff04c4b388802aafb36f800c2",
       "version_major": 2,
       "version_minor": 0
      },
      "text/plain": [
       "Validation: |          | 0/? [00:00<?, ?it/s]"
      ]
     },
     "metadata": {},
     "output_type": "display_data"
    },
    {
     "data": {
      "application/vnd.jupyter.widget-view+json": {
       "model_id": "027473333a944595afa28a8b5e4773ca",
       "version_major": 2,
       "version_minor": 0
      },
      "text/plain": [
       "Validation: |          | 0/? [00:00<?, ?it/s]"
      ]
     },
     "metadata": {},
     "output_type": "display_data"
    },
    {
     "data": {
      "application/vnd.jupyter.widget-view+json": {
       "model_id": "f76b09aef08243e89e67a591683673db",
       "version_major": 2,
       "version_minor": 0
      },
      "text/plain": [
       "Validation: |          | 0/? [00:00<?, ?it/s]"
      ]
     },
     "metadata": {},
     "output_type": "display_data"
    },
    {
     "data": {
      "text/plain": [
       "BlockRNNModel(model=LSTM, hidden_dim=25, n_rnn_layers=1, hidden_fc_sizes=None, dropout=0.0, input_chunk_length=150, output_chunk_length=30, torch_metrics=SymmetricMeanAbsolutePercentageError(), n_epochs=100, random_state=0)"
      ]
     },
     "execution_count": 30,
     "metadata": {},
     "output_type": "execute_result"
    }
   ],
   "source": [
    "model_covariates.fit(\n",
    "    series=[train[\"close\"]],    # the target training data\n",
    "    past_covariates=train,     # the multi covariate features training data\n",
    "    val_series=[val[\"close\"]],  # the target validation data\n",
    "    val_past_covariates=val,   # the multi covariate features validation data\n",
    "    verbose=True,\n",
    ")\n"
   ]
  },
  {
   "cell_type": "markdown",
   "metadata": {},
   "source": [
    "### __*Do a prediction*__"
   ]
  },
  {
   "cell_type": "code",
   "execution_count": 34,
   "metadata": {},
   "outputs": [
    {
     "data": {
      "application/vnd.jupyter.widget-view+json": {
       "model_id": "a0993eb3b390406597d9f39e0bcb37c0",
       "version_major": 2,
       "version_minor": 0
      },
      "text/plain": [
       "Predicting: |          | 0/? [00:00<?, ?it/s]"
      ]
     },
     "metadata": {},
     "output_type": "display_data"
    },
    {
     "data": {
      "text/plain": [
       "<Axes: xlabel='date'>"
      ]
     },
     "execution_count": 34,
     "metadata": {},
     "output_type": "execute_result"
    },
    {
     "data": {
      "image/png": "[encoded data removed]",
      "text/plain": [
       "<Figure size 640x480 with 1 Axes>"
      ]
     },
     "metadata": {},
     "output_type": "display_data"
    }
   ],
   "source": [
    "pred_cov = model_covariates.predict(n=30,                        # n of days to predict\n",
    "                                 series=train[\"close\"][-150:],       # target input for prediction\n",
    "                                 past_covariates=train[-150:]) # past-covariates input for prediction\n",
    "\n",
    "val[:30][\"close\"].plot(label=\"actual\")\n",
    "pred_cov.plot(label=\"forecast\")\n"
   ]
  },
  {
   "cell_type": "markdown",
   "metadata": {},
   "source": [
    "### __*Result of the metrics*__"
   ]
  },
  {
   "cell_type": "code",
   "execution_count": 35,
   "metadata": {},
   "outputs": [
    {
     "data": {
      "text/plain": [
       "7.67949251351165"
      ]
     },
     "execution_count": 35,
     "metadata": {},
     "output_type": "execute_result"
    }
   ],
   "source": [
    "# check the SMAPE error\n",
    "\n",
    "smape(val['close'][:30], pred_cov)\n"
   ]
  },
  {
   "cell_type": "markdown",
   "metadata": {},
   "source": [
    "### __*Turn Prediction into original scale*__"
   ]
  },
  {
   "cell_type": "code",
   "execution_count": 33,
   "metadata": {},
   "outputs": [
    {
     "data": {
      "text/plain": [
       "array([[20182.7538386 ],\n",
       "       [19672.18058259],\n",
       "       [18937.99631792],\n",
       "       [19283.5989253 ],\n",
       "       [18424.52135494],\n",
       "       [18945.64750093],\n",
       "       [19937.92115896],\n",
       "       [19711.33388587],\n",
       "       [17579.94003668],\n",
       "       [19847.24483525],\n",
       "       [19089.24448764],\n",
       "       [18946.93490671],\n",
       "       [20270.95917503],\n",
       "       [18713.083628  ],\n",
       "       [18190.99600473],\n",
       "       [18912.84807791],\n",
       "       [18979.76876466],\n",
       "       [19135.41884206],\n",
       "       [19902.76502252],\n",
       "       [19634.2973998 ],\n",
       "       [19957.7048654 ],\n",
       "       [20016.05784097],\n",
       "       [20585.1031915 ],\n",
       "       [20505.2418192 ],\n",
       "       [20133.90219704],\n",
       "       [20124.51553891],\n",
       "       [20563.10378479],\n",
       "       [22078.03494084],\n",
       "       [22223.71077989],\n",
       "       [21892.53629903]])"
      ]
     },
     "execution_count": 33,
     "metadata": {},
     "output_type": "execute_result"
    }
   ],
   "source": [
    "ts_scaler_target.inverse_transform(pred_cov).values()\n"
   ]
  }
 ],
 "metadata": {
  "kernelspec": {
   "display_name": "crypto_market_assistant",
   "language": "python",
   "name": "python3"
  },
  "language_info": {
   "codemirror_mode": {
    "name": "ipython",
    "version": 3
   },
   "file_extension": ".py",
   "mimetype": "text/x-python",
   "name": "python",
   "nbconvert_exporter": "python",
   "pygments_lexer": "ipython3",
   "version": "3.10.6"
  }
 },
 "nbformat": 4,
 "nbformat_minor": 2
}
