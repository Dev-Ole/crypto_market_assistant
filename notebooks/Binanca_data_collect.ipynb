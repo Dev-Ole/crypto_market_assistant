{
  "nbformat": 4,
  "nbformat_minor": 0,
  "metadata": {
    "colab": {
      "provenance": [],
      "gpuType": "T4"
    },
    "kernelspec": {
      "name": "python3",
      "display_name": "Python 3"
    },
    "language_info": {
      "name": "python"
    },
    "accelerator": "GPU"
  },
  "cells": [
    {
      "cell_type": "markdown",
      "source": [],
      "metadata": {
        "id": "VijCI3nnJ681"
      }
    },
    {
      "cell_type": "code",
      "source": [
        "import requests\n",
        "import subprocess\n",
        "import pandas as pd\n",
        "import numpy as np\n",
        "from pathlib import Path\n",
        "from concurrent.futures import ThreadPoolExecutor\n"
      ],
      "metadata": {
        "id": "iMdcP8sN2LAQ"
      },
      "execution_count": 150,
      "outputs": []
    },
    {
      "cell_type": "code",
      "source": [
        "#===================SETTINGS=======================#\n",
        "#Check path for Currency and Dates first!\n",
        "curreny = \"BTCUSDT\"\n",
        "start_date = \"2019-01-01\" #\"2017-08-17\"\n",
        "end_date = \"2019-01-10\"   #\"2023-11-30\"\n",
        "#Original Path: https://data.binance.vision/?prefix=data/spot/daily/klines/BTCUSDT/1m/\n",
        "base_url = \"https://data.binance.vision/data/spot/daily/klines/\"+curreny+\"/1m/\"\n",
        "csv_filename = curreny+\"_daily.csv\"\n",
        "foldername = curreny+\"_DL\"\n",
        "sample_period = \"D\" #daily\n",
        "#==================================================#\n",
        "# Generate the list of file URLs\n",
        "date_range = pd.date_range(start=start_date, end=end_date, freq='D')\n",
        "file_urls = [f\"{base_url}{curreny}-1m-{date.strftime('%Y-%m-%d')}.zip\" for date in date_range]\n",
        "\n",
        "# Set the destination folder\n",
        "destination_folder = Path(foldername) #CHANGE ME\n",
        "destination_folder.mkdir(parents=True, exist_ok=True)\n",
        "\n",
        "def check_file_existence(url):\n",
        "    response = requests.head(url)\n",
        "    return response.status_code == 200\n",
        "\n",
        "def download_file(url, destination_path):\n",
        "    if check_file_existence(url):\n",
        "        response = requests.get(url)\n",
        "        with open(destination_path, 'wb') as file:\n",
        "            file.write(response.content)\n",
        "\n",
        "# Function to download files in parallel\n",
        "def download_files_parallel(file_urls, destination_folder):\n",
        "    with ThreadPoolExecutor(max_workers=10) as executor:\n",
        "        futures = [executor.submit(download_file, url, destination_folder / url.split(\"/\")[-1]) for url in file_urls] #DL to Folder/file.zip\n",
        "        print(\"Download started...\")\n",
        "        # Wait for all threads to complete\n",
        "        for future in futures:\n",
        "            future.result()\n",
        "\n",
        "# Function to download files in sequential\n",
        "def download_files_sequential(file_urls, destination_folder):\n",
        "    for url in file_urls:\n",
        "        filename = url.split(\"/\")[-1]\n",
        "        download_file(url, filename)\n",
        "\n",
        "# Download files in parallel\n",
        "download_files_parallel(file_urls, destination_folder)\n",
        "print(\"---------Download complete----------\")"
      ],
      "metadata": {
        "colab": {
          "base_uri": "https://localhost:8080/"
        },
        "id": "c5MdsJL3R1dP",
        "outputId": "6c53c6f3-19b0-4e8d-df71-b0812ba77d7e"
      },
      "execution_count": 151,
      "outputs": [
        {
          "output_type": "stream",
          "name": "stdout",
          "text": [
            "Download started...\n",
            "---------Download complete----------\n"
          ]
        }
      ]
    },
    {
      "cell_type": "markdown",
      "source": [
        "# Unzip files #"
      ],
      "metadata": {
        "id": "czi3oBjMLQB_"
      }
    },
    {
      "cell_type": "code",
      "source": [
        "import os\n",
        "import zipfile\n",
        "\n",
        "def unzip_all_files(destination_folder):\n",
        "    # Ensure the folder path exists\n",
        "    if not os.path.exists(destination_folder):\n",
        "        print(f\"The folder '{destination_folder}' does not exist.\")\n",
        "        return\n",
        "\n",
        "    # Get a list of all files in the folder\n",
        "    files = os.listdir(destination_folder)\n",
        "\n",
        "    for file in files:\n",
        "        file_path = os.path.join(destination_folder, file)\n",
        "        #print(file_path)\n",
        "        # Check if the file is a zip file\n",
        "        if file.endswith('.zip'):\n",
        "            try:\n",
        "                # Create a ZipFile object\n",
        "                with zipfile.ZipFile(file_path, 'r') as zip_ref:\n",
        "                    # Extract all contents to the folder\n",
        "                    zip_ref.extractall(destination_folder)\n",
        "\n",
        "                # print(f\"Unzipped: {file}\")\n",
        "            except zipfile.BadZipFile:\n",
        "                print(f\"Skipped: {file} (Not a valid zip file)\")\n",
        "    print(\"---------Unzip complete----------\")\n",
        "\n",
        "#Call\n",
        "unzip_all_files(destination_folder)\n"
      ],
      "metadata": {
        "colab": {
          "base_uri": "https://localhost:8080/"
        },
        "id": "l_FFC9ntzuYU",
        "outputId": "25c15b74-d7e6-4cd7-8ccd-78ff8d2093a6"
      },
      "execution_count": 152,
      "outputs": [
        {
          "output_type": "stream",
          "name": "stdout",
          "text": [
            "---------Unzip complete----------\n"
          ]
        }
      ]
    },
    {
      "cell_type": "markdown",
      "source": [
        "# Delete ZIP files #"
      ],
      "metadata": {
        "id": "VWcoW4g7LYGx"
      }
    },
    {
      "cell_type": "code",
      "source": [
        "# Count the number of .csv and .zip files in the destination folder\n",
        "csv_files = list(destination_folder.glob(\"*.csv\"))\n",
        "zip_files = list(destination_folder.glob(\"*.zip\"))\n",
        "print(f\"Number of .csv files: {len(csv_files)}\")\n",
        "print(f\"Number of .zip files: {len(zip_files)}\")\n",
        "\n",
        "if len(csv_files) == len(zip_files):\n",
        "  for zip_file in zip_files:\n",
        "      zip_file.unlink()\n",
        "  print(\"ZIP files deleted\")\n",
        "else:\n",
        "  print(\"Error: Amount of CSV files not same than ZIP files.\")\n"
      ],
      "metadata": {
        "colab": {
          "base_uri": "https://localhost:8080/"
        },
        "id": "gFemSkLnHYhY",
        "outputId": "0b297d1d-508e-49c0-956f-0b88e5882254"
      },
      "execution_count": 153,
      "outputs": [
        {
          "output_type": "stream",
          "name": "stdout",
          "text": [
            "Number of .csv files: 10\n",
            "Number of .zip files: 10\n",
            "ZIP files deleted\n"
          ]
        }
      ]
    },
    {
      "cell_type": "markdown",
      "source": [
        "# Clean Dataframes"
      ],
      "metadata": {
        "id": "iDk379twLjd4"
      }
    },
    {
      "cell_type": "code",
      "source": [
        "CSV_df = []\n",
        "for csv_file in csv_files:\n",
        "  _data = pd.read_csv(csv_file, names=[\"time\", \"open\", \"high\", \"low\", \"close\", \"volume BTC\", \"close_time\",\"volume USD\",\"num_trades\",\"taker_buy_volume\",\"taker_buy_quote_volume\",\"ignore\"], parse_dates=['time'])\n",
        "\n",
        "  #Format and clean data\n",
        "  _data[\"time\"] = pd.to_datetime(_data[\"time\"], unit=\"ms\")\n",
        "  _data.set_index(\"time\", inplace=True)\n",
        "  _data = _data.drop(columns=[\"close_time\", \"num_trades\", \"taker_buy_volume\", \"taker_buy_quote_volume\", \"ignore\"])\n",
        "  CSV_df.append(_data)"
      ],
      "metadata": {
        "id": "31rgnnB85EUa"
      },
      "execution_count": 154,
      "outputs": []
    },
    {
      "cell_type": "markdown",
      "source": [
        "#Merge and Resample#"
      ],
      "metadata": {
        "id": "FmJreOJyaPy_"
      }
    },
    {
      "cell_type": "code",
      "source": [
        "merged_df = pd.concat(CSV_df).sort_values(by=\"time\")\n",
        "merged_df = merged_df.resample(sample_period).agg({\n",
        "    'open': 'first',\n",
        "    'high': 'max',\n",
        "    'low': 'min',\n",
        "    'close': 'last',\n",
        "    'volume BTC': 'sum',\n",
        "    'volume USD': 'sum'\n",
        "})\n"
      ],
      "metadata": {
        "id": "WX1glTfo7OtV"
      },
      "execution_count": 155,
      "outputs": []
    },
    {
      "cell_type": "markdown",
      "source": [
        "# Export #"
      ],
      "metadata": {
        "id": "MmpzV3UEhp3y"
      }
    },
    {
      "cell_type": "code",
      "source": [
        "merged_df.to_csv(csv_filename) #Filename defined in the settings"
      ],
      "metadata": {
        "id": "6pSoCQNLBDmF"
      },
      "execution_count": 156,
      "outputs": []
    },
    {
      "cell_type": "markdown",
      "source": [
        "# Check missing data #"
      ],
      "metadata": {
        "id": "19Wa6ThDYnX7"
      }
    },
    {
      "cell_type": "code",
      "source": [
        "# Generate expected timestamps with a 1-minute frequency\n",
        "df_test = pd.read_csv(csv_filename)\n",
        "expected_timestamps = pd.date_range(start=start_date, end=end_date, freq='5T')\n",
        "\n",
        "actual_timestamps = pd.to_datetime(df_test['time'])\n",
        "missing_timestamps = expected_timestamps[~expected_timestamps.isin(actual_timestamps)]\n",
        "\n",
        "if missing_timestamps.empty:\n",
        "    print(\"The dataset has no missing timestamps.\")\n",
        "else:\n",
        "    print(f\"The dataset has {len(missing_timestamps)} missing timestamps:\")\n",
        "    print(missing_timestamps)"
      ],
      "metadata": {
        "colab": {
          "base_uri": "https://localhost:8080/"
        },
        "id": "wvNIpUuPbxfN",
        "outputId": "187f6a97-0460-460e-b2b0-cee046f45f03"
      },
      "execution_count": 157,
      "outputs": [
        {
          "output_type": "stream",
          "name": "stdout",
          "text": [
            "The dataset has 2583 missing timestamps:\n",
            "DatetimeIndex(['2019-01-01 00:05:00', '2019-01-01 00:10:00',\n",
            "               '2019-01-01 00:15:00', '2019-01-01 00:20:00',\n",
            "               '2019-01-01 00:25:00', '2019-01-01 00:30:00',\n",
            "               '2019-01-01 00:35:00', '2019-01-01 00:40:00',\n",
            "               '2019-01-01 00:45:00', '2019-01-01 00:50:00',\n",
            "               ...\n",
            "               '2019-01-09 23:10:00', '2019-01-09 23:15:00',\n",
            "               '2019-01-09 23:20:00', '2019-01-09 23:25:00',\n",
            "               '2019-01-09 23:30:00', '2019-01-09 23:35:00',\n",
            "               '2019-01-09 23:40:00', '2019-01-09 23:45:00',\n",
            "               '2019-01-09 23:50:00', '2019-01-09 23:55:00'],\n",
            "              dtype='datetime64[ns]', length=2583, freq=None)\n"
          ]
        }
      ]
    },
    {
      "cell_type": "code",
      "source": [
        "# Check specific rows\n",
        "# df_test[df_test[\"time\"] >= \"2017-09-06 16:00:00\"]"
      ],
      "metadata": {
        "id": "GvEFz5vVuGLf"
      },
      "execution_count": 158,
      "outputs": []
    },
    {
      "cell_type": "markdown",
      "source": [
        "# Remove temp files #"
      ],
      "metadata": {
        "id": "gD1u8YzJ-N-g"
      }
    },
    {
      "cell_type": "code",
      "source": [
        "#Check if new CSV file exist and zipped files was ok.\n",
        "if len(csv_files) == len(zip_files) and Path(csv_filename).exists():\n",
        "  !rm -R BTCUSDT_DL/\n",
        "  print(\"Temp files removed\")\n",
        "else:\n",
        "  print(\"Error: Temp files not removed!\")"
      ],
      "metadata": {
        "id": "OsE9M-uW-MNL",
        "colab": {
          "base_uri": "https://localhost:8080/"
        },
        "outputId": "82ca957e-232e-461f-e5e1-d2c84595dd27"
      },
      "execution_count": 159,
      "outputs": [
        {
          "output_type": "stream",
          "name": "stdout",
          "text": [
            "Temp files removed\n"
          ]
        }
      ]
    },
    {
      "cell_type": "code",
      "source": [
        "df_test"
      ],
      "metadata": {
        "colab": {
          "base_uri": "https://localhost:8080/",
          "height": 363
        },
        "id": "9SUH5vpLftxe",
        "outputId": "0c564f8d-7158-429f-9369-da070b5cec23"
      },
      "execution_count": 160,
      "outputs": [
        {
          "output_type": "execute_result",
          "data": {
            "text/plain": [
              "         time     open     high      low    close    volume BTC    volume USD\n",
              "0  2019-01-01  3701.23  3810.16  3642.00  3797.14  23741.687033  8.814925e+07\n",
              "1  2019-01-02  3796.45  3882.14  3750.45  3858.56  35156.463369  1.338766e+08\n",
              "2  2019-01-03  3857.57  3862.74  3730.00  3766.78  29406.948359  1.116574e+08\n",
              "3  2019-01-04  3767.20  3823.64  3703.57  3792.01  29519.554671  1.110346e+08\n",
              "4  2019-01-05  3790.09  3840.99  3751.00  3770.96  30490.667751  1.158935e+08\n",
              "5  2019-01-06  3771.12  4027.71  3740.00  3987.60  36553.806709  1.421988e+08\n",
              "6  2019-01-07  3987.62  4017.90  3921.53  3975.45  31869.846264  1.268304e+08\n",
              "7  2019-01-08  3976.76  4069.80  3903.00  3955.13  38901.423122  1.547788e+08\n",
              "8  2019-01-09  3955.45  4006.81  3930.04  3966.65  28989.439511  1.152190e+08\n",
              "9  2019-01-10  3966.06  3996.01  3540.00  3585.88  59402.228510  2.217893e+08"
            ],
            "text/html": [
              "\n",
              "  <div id=\"df-c8aa8f64-f09e-412f-ad74-01b3ade933ac\" class=\"colab-df-container\">\n",
              "    <div>\n",
              "<style scoped>\n",
              "    .dataframe tbody tr th:only-of-type {\n",
              "        vertical-align: middle;\n",
              "    }\n",
              "\n",
              "    .dataframe tbody tr th {\n",
              "        vertical-align: top;\n",
              "    }\n",
              "\n",
              "    .dataframe thead th {\n",
              "        text-align: right;\n",
              "    }\n",
              "</style>\n",
              "<table border=\"1\" class=\"dataframe\">\n",
              "  <thead>\n",
              "    <tr style=\"text-align: right;\">\n",
              "      <th></th>\n",
              "      <th>time</th>\n",
              "      <th>open</th>\n",
              "      <th>high</th>\n",
              "      <th>low</th>\n",
              "      <th>close</th>\n",
              "      <th>volume BTC</th>\n",
              "      <th>volume USD</th>\n",
              "    </tr>\n",
              "  </thead>\n",
              "  <tbody>\n",
              "    <tr>\n",
              "      <th>0</th>\n",
              "      <td>2019-01-01</td>\n",
              "      <td>3701.23</td>\n",
              "      <td>3810.16</td>\n",
              "      <td>3642.00</td>\n",
              "      <td>3797.14</td>\n",
              "      <td>23741.687033</td>\n",
              "      <td>8.814925e+07</td>\n",
              "    </tr>\n",
              "    <tr>\n",
              "      <th>1</th>\n",
              "      <td>2019-01-02</td>\n",
              "      <td>3796.45</td>\n",
              "      <td>3882.14</td>\n",
              "      <td>3750.45</td>\n",
              "      <td>3858.56</td>\n",
              "      <td>35156.463369</td>\n",
              "      <td>1.338766e+08</td>\n",
              "    </tr>\n",
              "    <tr>\n",
              "      <th>2</th>\n",
              "      <td>2019-01-03</td>\n",
              "      <td>3857.57</td>\n",
              "      <td>3862.74</td>\n",
              "      <td>3730.00</td>\n",
              "      <td>3766.78</td>\n",
              "      <td>29406.948359</td>\n",
              "      <td>1.116574e+08</td>\n",
              "    </tr>\n",
              "    <tr>\n",
              "      <th>3</th>\n",
              "      <td>2019-01-04</td>\n",
              "      <td>3767.20</td>\n",
              "      <td>3823.64</td>\n",
              "      <td>3703.57</td>\n",
              "      <td>3792.01</td>\n",
              "      <td>29519.554671</td>\n",
              "      <td>1.110346e+08</td>\n",
              "    </tr>\n",
              "    <tr>\n",
              "      <th>4</th>\n",
              "      <td>2019-01-05</td>\n",
              "      <td>3790.09</td>\n",
              "      <td>3840.99</td>\n",
              "      <td>3751.00</td>\n",
              "      <td>3770.96</td>\n",
              "      <td>30490.667751</td>\n",
              "      <td>1.158935e+08</td>\n",
              "    </tr>\n",
              "    <tr>\n",
              "      <th>5</th>\n",
              "      <td>2019-01-06</td>\n",
              "      <td>3771.12</td>\n",
              "      <td>4027.71</td>\n",
              "      <td>3740.00</td>\n",
              "      <td>3987.60</td>\n",
              "      <td>36553.806709</td>\n",
              "      <td>1.421988e+08</td>\n",
              "    </tr>\n",
              "    <tr>\n",
              "      <th>6</th>\n",
              "      <td>2019-01-07</td>\n",
              "      <td>3987.62</td>\n",
              "      <td>4017.90</td>\n",
              "      <td>3921.53</td>\n",
              "      <td>3975.45</td>\n",
              "      <td>31869.846264</td>\n",
              "      <td>1.268304e+08</td>\n",
              "    </tr>\n",
              "    <tr>\n",
              "      <th>7</th>\n",
              "      <td>2019-01-08</td>\n",
              "      <td>3976.76</td>\n",
              "      <td>4069.80</td>\n",
              "      <td>3903.00</td>\n",
              "      <td>3955.13</td>\n",
              "      <td>38901.423122</td>\n",
              "      <td>1.547788e+08</td>\n",
              "    </tr>\n",
              "    <tr>\n",
              "      <th>8</th>\n",
              "      <td>2019-01-09</td>\n",
              "      <td>3955.45</td>\n",
              "      <td>4006.81</td>\n",
              "      <td>3930.04</td>\n",
              "      <td>3966.65</td>\n",
              "      <td>28989.439511</td>\n",
              "      <td>1.152190e+08</td>\n",
              "    </tr>\n",
              "    <tr>\n",
              "      <th>9</th>\n",
              "      <td>2019-01-10</td>\n",
              "      <td>3966.06</td>\n",
              "      <td>3996.01</td>\n",
              "      <td>3540.00</td>\n",
              "      <td>3585.88</td>\n",
              "      <td>59402.228510</td>\n",
              "      <td>2.217893e+08</td>\n",
              "    </tr>\n",
              "  </tbody>\n",
              "</table>\n",
              "</div>\n",
              "    <div class=\"colab-df-buttons\">\n",
              "\n",
              "  <div class=\"colab-df-container\">\n",
              "    <button class=\"colab-df-convert\" onclick=\"convertToInteractive('df-c8aa8f64-f09e-412f-ad74-01b3ade933ac')\"\n",
              "            title=\"Convert this dataframe to an interactive table.\"\n",
              "            style=\"display:none;\">\n",
              "\n",
              "  <svg xmlns=\"http://www.w3.org/2000/svg\" height=\"24px\" viewBox=\"0 -960 960 960\">\n",
              "    <path d=\"M120-120v-720h720v720H120Zm60-500h600v-160H180v160Zm220 220h160v-160H400v160Zm0 220h160v-160H400v160ZM180-400h160v-160H180v160Zm440 0h160v-160H620v160ZM180-180h160v-160H180v160Zm440 0h160v-160H620v160Z\"/>\n",
              "  </svg>\n",
              "    </button>\n",
              "\n",
              "  <style>\n",
              "    .colab-df-container {\n",
              "      display:flex;\n",
              "      gap: 12px;\n",
              "    }\n",
              "\n",
              "    .colab-df-convert {\n",
              "      background-color: #E8F0FE;\n",
              "      border: none;\n",
              "      border-radius: 50%;\n",
              "      cursor: pointer;\n",
              "      display: none;\n",
              "      fill: #1967D2;\n",
              "      height: 32px;\n",
              "      padding: 0 0 0 0;\n",
              "      width: 32px;\n",
              "    }\n",
              "\n",
              "    .colab-df-convert:hover {\n",
              "      background-color: #E2EBFA;\n",
              "      box-shadow: 0px 1px 2px rgba(60, 64, 67, 0.3), 0px 1px 3px 1px rgba(60, 64, 67, 0.15);\n",
              "      fill: #174EA6;\n",
              "    }\n",
              "\n",
              "    .colab-df-buttons div {\n",
              "      margin-bottom: 4px;\n",
              "    }\n",
              "\n",
              "    [theme=dark] .colab-df-convert {\n",
              "      background-color: #3B4455;\n",
              "      fill: #D2E3FC;\n",
              "    }\n",
              "\n",
              "    [theme=dark] .colab-df-convert:hover {\n",
              "      background-color: #434B5C;\n",
              "      box-shadow: 0px 1px 3px 1px rgba(0, 0, 0, 0.15);\n",
              "      filter: drop-shadow(0px 1px 2px rgba(0, 0, 0, 0.3));\n",
              "      fill: #FFFFFF;\n",
              "    }\n",
              "  </style>\n",
              "\n",
              "    <script>\n",
              "      const buttonEl =\n",
              "        document.querySelector('#df-c8aa8f64-f09e-412f-ad74-01b3ade933ac button.colab-df-convert');\n",
              "      buttonEl.style.display =\n",
              "        google.colab.kernel.accessAllowed ? 'block' : 'none';\n",
              "\n",
              "      async function convertToInteractive(key) {\n",
              "        const element = document.querySelector('#df-c8aa8f64-f09e-412f-ad74-01b3ade933ac');\n",
              "        const dataTable =\n",
              "          await google.colab.kernel.invokeFunction('convertToInteractive',\n",
              "                                                    [key], {});\n",
              "        if (!dataTable) return;\n",
              "\n",
              "        const docLinkHtml = 'Like what you see? Visit the ' +\n",
              "          '<a target=\"_blank\" href=https://colab.research.google.com/notebooks/data_table.ipynb>data table notebook</a>'\n",
              "          + ' to learn more about interactive tables.';\n",
              "        element.innerHTML = '';\n",
              "        dataTable['output_type'] = 'display_data';\n",
              "        await google.colab.output.renderOutput(dataTable, element);\n",
              "        const docLink = document.createElement('div');\n",
              "        docLink.innerHTML = docLinkHtml;\n",
              "        element.appendChild(docLink);\n",
              "      }\n",
              "    </script>\n",
              "  </div>\n",
              "\n",
              "\n",
              "<div id=\"df-b2610249-01f3-4720-b427-c5c31de72d95\">\n",
              "  <button class=\"colab-df-quickchart\" onclick=\"quickchart('df-b2610249-01f3-4720-b427-c5c31de72d95')\"\n",
              "            title=\"Suggest charts\"\n",
              "            style=\"display:none;\">\n",
              "\n",
              "<svg xmlns=\"http://www.w3.org/2000/svg\" height=\"24px\"viewBox=\"0 0 24 24\"\n",
              "     width=\"24px\">\n",
              "    <g>\n",
              "        <path d=\"M19 3H5c-1.1 0-2 .9-2 2v14c0 1.1.9 2 2 2h14c1.1 0 2-.9 2-2V5c0-1.1-.9-2-2-2zM9 17H7v-7h2v7zm4 0h-2V7h2v10zm4 0h-2v-4h2v4z\"/>\n",
              "    </g>\n",
              "</svg>\n",
              "  </button>\n",
              "\n",
              "<style>\n",
              "  .colab-df-quickchart {\n",
              "      --bg-color: #E8F0FE;\n",
              "      --fill-color: #1967D2;\n",
              "      --hover-bg-color: #E2EBFA;\n",
              "      --hover-fill-color: #174EA6;\n",
              "      --disabled-fill-color: #AAA;\n",
              "      --disabled-bg-color: #DDD;\n",
              "  }\n",
              "\n",
              "  [theme=dark] .colab-df-quickchart {\n",
              "      --bg-color: #3B4455;\n",
              "      --fill-color: #D2E3FC;\n",
              "      --hover-bg-color: #434B5C;\n",
              "      --hover-fill-color: #FFFFFF;\n",
              "      --disabled-bg-color: #3B4455;\n",
              "      --disabled-fill-color: #666;\n",
              "  }\n",
              "\n",
              "  .colab-df-quickchart {\n",
              "    background-color: var(--bg-color);\n",
              "    border: none;\n",
              "    border-radius: 50%;\n",
              "    cursor: pointer;\n",
              "    display: none;\n",
              "    fill: var(--fill-color);\n",
              "    height: 32px;\n",
              "    padding: 0;\n",
              "    width: 32px;\n",
              "  }\n",
              "\n",
              "  .colab-df-quickchart:hover {\n",
              "    background-color: var(--hover-bg-color);\n",
              "    box-shadow: 0 1px 2px rgba(60, 64, 67, 0.3), 0 1px 3px 1px rgba(60, 64, 67, 0.15);\n",
              "    fill: var(--button-hover-fill-color);\n",
              "  }\n",
              "\n",
              "  .colab-df-quickchart-complete:disabled,\n",
              "  .colab-df-quickchart-complete:disabled:hover {\n",
              "    background-color: var(--disabled-bg-color);\n",
              "    fill: var(--disabled-fill-color);\n",
              "    box-shadow: none;\n",
              "  }\n",
              "\n",
              "  .colab-df-spinner {\n",
              "    border: 2px solid var(--fill-color);\n",
              "    border-color: transparent;\n",
              "    border-bottom-color: var(--fill-color);\n",
              "    animation:\n",
              "      spin 1s steps(1) infinite;\n",
              "  }\n",
              "\n",
              "  @keyframes spin {\n",
              "    0% {\n",
              "      border-color: transparent;\n",
              "      border-bottom-color: var(--fill-color);\n",
              "      border-left-color: var(--fill-color);\n",
              "    }\n",
              "    20% {\n",
              "      border-color: transparent;\n",
              "      border-left-color: var(--fill-color);\n",
              "      border-top-color: var(--fill-color);\n",
              "    }\n",
              "    30% {\n",
              "      border-color: transparent;\n",
              "      border-left-color: var(--fill-color);\n",
              "      border-top-color: var(--fill-color);\n",
              "      border-right-color: var(--fill-color);\n",
              "    }\n",
              "    40% {\n",
              "      border-color: transparent;\n",
              "      border-right-color: var(--fill-color);\n",
              "      border-top-color: var(--fill-color);\n",
              "    }\n",
              "    60% {\n",
              "      border-color: transparent;\n",
              "      border-right-color: var(--fill-color);\n",
              "    }\n",
              "    80% {\n",
              "      border-color: transparent;\n",
              "      border-right-color: var(--fill-color);\n",
              "      border-bottom-color: var(--fill-color);\n",
              "    }\n",
              "    90% {\n",
              "      border-color: transparent;\n",
              "      border-bottom-color: var(--fill-color);\n",
              "    }\n",
              "  }\n",
              "</style>\n",
              "\n",
              "  <script>\n",
              "    async function quickchart(key) {\n",
              "      const quickchartButtonEl =\n",
              "        document.querySelector('#' + key + ' button');\n",
              "      quickchartButtonEl.disabled = true;  // To prevent multiple clicks.\n",
              "      quickchartButtonEl.classList.add('colab-df-spinner');\n",
              "      try {\n",
              "        const charts = await google.colab.kernel.invokeFunction(\n",
              "            'suggestCharts', [key], {});\n",
              "      } catch (error) {\n",
              "        console.error('Error during call to suggestCharts:', error);\n",
              "      }\n",
              "      quickchartButtonEl.classList.remove('colab-df-spinner');\n",
              "      quickchartButtonEl.classList.add('colab-df-quickchart-complete');\n",
              "    }\n",
              "    (() => {\n",
              "      let quickchartButtonEl =\n",
              "        document.querySelector('#df-b2610249-01f3-4720-b427-c5c31de72d95 button');\n",
              "      quickchartButtonEl.style.display =\n",
              "        google.colab.kernel.accessAllowed ? 'block' : 'none';\n",
              "    })();\n",
              "  </script>\n",
              "</div>\n",
              "    </div>\n",
              "  </div>\n"
            ]
          },
          "metadata": {},
          "execution_count": 160
        }
      ]
    }
  ]
}